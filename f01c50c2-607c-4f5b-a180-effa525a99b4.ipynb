{
 "cells": [
  {
   "cell_type": "markdown",
   "metadata": {},
   "source": [
    "<b>Привет, Нияз!</b>\n",
    "\n",
    "Меня зовут Евгений Лукашин, я буду проверять твой проект, постараемся вместе сделать его ещё лучше. Предлагаю обращаться к друг другу на «ты», если для тебя это будет комфортно. Иначе дай знать, и мы сразу перейдём на «вы».\n",
    "\n",
    "Желательно отвечать на каждый мой комментарий ('исправил', 'не понятно как исправить ошибку' и т.д.) выделять их каким-либо цветом, например, так:\n",
    "\n",
    "\n",
    "<div class=\"alert alert-block alert-info\">\n",
    "<b>Комментарий студента:</b> Исправлено.\n",
    "</div>\n",
    "\n",
    "\n",
    "Пожалуйста, не удаляй мои комментарии, так как они повышают качество повторного ревью, и позволят мне быстрее проверить твой проект.\n",
    "\n",
    "<br>\n",
    "Мои комментарии будут выглядеть так:\n",
    "\n",
    "<div class=\"alert alert-block alert-success\">\n",
    "<b>Комментарий ревьюера:</b>\n",
    "\n",
    "<b>✅«Отлично»:</b> Если все сделано правильно\n",
    "</div>\n",
    "\n",
    "<div class=\"alert alert-warning\" role=\"alert\">\n",
    "<b>Комментарий ревьюера:</b>\n",
    "\n",
    "<b>⚠️«Можно лучше»: </b> Если можно немного улучшить\n",
    "</div>\n",
    "\n",
    "<div class=\"alert alert-block alert-danger\">\n",
    "<b>Комментарий ревьюера:</b>\n",
    "\n",
    "<b>⛔️«Надо исправить»:</b> Если требуются исправления. Работа не может быть принята с красными комментариями.\n",
    "</div>\n",
    "\n",
    "Помни, что у нас общая цель - подготовить тебя к успешной работе Data Science  специалистом!"
   ]
  },
  {
   "cell_type": "markdown",
   "metadata": {},
   "source": [
    "<div class=\"alert alert-block alert-success\">\n",
    "<b>Комментарий ревьюера v2:</b>\n",
    "\n",
    "<b>Нияз, привет!</b>\n",
    "\n",
    "Ты молодец, исправил почти все замечания. Оставшиеся критические замечания:\n",
    "* Погрешность в расчетах прибыли\n",
    "* Dummy ловушка при применении OHE\n",
    "* Выбор лучшей модели не по выбранной метрике\n",
    "    \n",
    "P.S. не забудь поправить выводы после вненсения правок"
   ]
  },
  {
   "cell_type": "markdown",
   "metadata": {},
   "source": [
    "<div class=\"alert alert-block alert-success\">\n",
    "<b>Комментарий ревьюера v3:</b>\n",
    "\n",
    "По прежнему на кросс-валидации рассчитываешь accuracy, а не по выбранной метрике.\n",
    "    \n",
    "Тестируем только одну (лучшую) модель. \n",
    "    "
   ]
  },
  {
   "cell_type": "markdown",
   "metadata": {},
   "source": [
    "<div class=\"alert alert-block alert-success\">\n",
    "<b>Комментарий ревьюера v4:</b>\n",
    "\n",
    "<b>Нияз, привет!</b>\n",
    "\n",
    "Спасибо за проект! Критических замечаний! Рекомендую еще пройтись по желтым замеаниям. Удачи в дальнейшем обучении!\n",
    "    "
   ]
  },
  {
   "cell_type": "markdown",
   "metadata": {},
   "source": [
    "# Прогнозирование оттока клиентов в сети отелей «Как в гостях»"
   ]
  },
  {
   "cell_type": "markdown",
   "metadata": {},
   "source": [
    "## Вступление\n",
    "\n",
    "В проекте \"Прогнозирование оттока клиентов в сети отелей «Как в гостях»\" нам предстоит обучить модель, которая будет предсказывать возможную отмену брони номера. Выполнение проетка пройдёт в 6 этапов (шагов).\n",
    "\n",
    "#### Описание данных\n",
    "\n",
    "В таблицах hotel_train и hotel_test содержатся одинаковые столбцы:\n",
    "\n",
    "id — номер записи;\n",
    "\n",
    "adults — количество взрослых постояльцев;\n",
    "\n",
    "arrival_date_year — год заезда;\n",
    "\n",
    "arrival_date_month — месяц заезда;\n",
    "\n",
    "arrival_date_week_number — неделя заезда;\n",
    "\n",
    "arrival_date_day_of_month — день заезда;\n",
    "\n",
    "babies — количество младенцев;\n",
    "\n",
    "booking_changes — количество изменений параметров заказа;\n",
    "\n",
    "children — количество детей от 3 до 14 лет;\n",
    "\n",
    "country — гражданство постояльца;\n",
    "\n",
    "customer_type — тип заказчика:\n",
    "\n",
    "Contract — договор с юридическим лицом;\n",
    "\n",
    "Group — групповой заезд;\n",
    "\n",
    "Transient — не связано с договором или групповым заездом;\n",
    "\n",
    "Transient-party — не связано с договором или групповым заездом, но связано с бронированием типа Transient.\n",
    "\n",
    "days_in_waiting_list — сколько дней заказ ожидал подтверждения;\n",
    "\n",
    "distribution_channel — канал дистрибуции заказа;\n",
    "\n",
    "is_canceled — отмена заказа;\n",
    "\n",
    "is_repeated_guest — признак того, что гость бронирует номер второй раз;\n",
    "\n",
    "lead_time — количество дней между датой бронирования и датой прибытия;\n",
    "\n",
    "meal — опции заказа:\n",
    "\n",
    "SC — нет дополнительных опций;\n",
    "\n",
    "BB — включён завтрак;\n",
    "\n",
    "HB — включён завтрак и обед;\n",
    "\n",
    "FB — включён завтрак, обед и ужин.\n",
    "\n",
    "previous_bookings_not_canceled — количество подтверждённых заказов у клиента;\n",
    "\n",
    "previous_cancellations — количество отменённых заказов у клиента;\n",
    "\n",
    "required_car_parking_spaces — необходимость места для автомобиля;\n",
    "\n",
    "reserved_room_type — тип забронированной комнаты;\n",
    "\n",
    "stays_in_weekend_nights — количество ночей в выходные дни;\n",
    "\n",
    "stays_in_week_nights — количество ночей в будние дни;\n",
    "\n",
    "total_nights — общее количество ночей;\n",
    "\n",
    "total_of_special_requests — количество специальных отметок.\n",
    "\n",
    "##### Целевой признак - is_canceled\n",
    "\n",
    "#### Дополнительная информация - необходима для вычисления бизнес-метрики.\n",
    "\n",
    "Стоимость номеров отеля:\n",
    "\n",
    "категория A: за ночь — 1 000, разовое обслуживание — 400;\n",
    "\n",
    "категория B: за ночь — 800, разовое обслуживание — 350;\n",
    "\n",
    "категория C: за ночь — 600, разовое обслуживание — 350;\n",
    "\n",
    "категория D: за ночь — 550, разовое обслуживание — 150;\n",
    "\n",
    "категория E: за ночь — 500, разовое обслуживание — 150;\n",
    "\n",
    "категория F: за ночь — 450, разовое обслуживание — 150;\n",
    "\n",
    "категория G: за ночь — 350, разовое обслуживание — 150.\n",
    "\n",
    "В ценовой политике отеля используются сезонные коэффициенты: весной и осенью цены повышаются на 20%, летом — на 40%.\n",
    "\n",
    "#### План работ:\n",
    "\n",
    "Шаг 1. Открываем файлы с данными\n",
    "\n",
    "Шаг 2. Предобработка и исследовательский анализ данных\n",
    "\n",
    "Шаг 3. Вычислим бизнес-метрику\n",
    "\n",
    "Шаг 4. Разработаем модель ML\n",
    "\n",
    "Шаг 5. Выявим признаки «ненадёжного» клиента\n",
    "\n",
    "Шаг 6. Напишем общий вывод\n"
   ]
  },
  {
   "cell_type": "markdown",
   "metadata": {},
   "source": [
    "<div class=\"alert alert-warning\" role=\"alert\">\n",
    "<b>Комментарий ревьюера:</b>\n",
    "\n",
    "<b>⚠️«Можно лучше»: </b>\n",
    "\n",
    "В целом хорошее введение в проект, но было бы здорово расписать план работы (6 этапов)."
   ]
  },
  {
   "cell_type": "markdown",
   "metadata": {},
   "source": [
    "### Шаг 1. Откройте файлы с данными"
   ]
  },
  {
   "cell_type": "markdown",
   "metadata": {},
   "source": [
    "Импортируем библиотеки"
   ]
  },
  {
   "cell_type": "code",
   "execution_count": 1,
   "metadata": {},
   "outputs": [
    {
     "name": "stdout",
     "output_type": "stream",
     "text": [
      "Requirement already satisfied: scikit-learn in /opt/conda/lib/python3.9/site-packages (0.24.1)\n",
      "Collecting scikit-learn\n",
      "  Downloading scikit_learn-1.3.2-cp39-cp39-manylinux_2_17_x86_64.manylinux2014_x86_64.whl (10.9 MB)\n",
      "\u001b[K     |████████████████████████████████| 10.9 MB 972 kB/s eta 0:00:01\n",
      "\u001b[?25hRequirement already satisfied: scipy>=1.5.0 in /opt/conda/lib/python3.9/site-packages (from scikit-learn) (1.9.1)\n",
      "Requirement already satisfied: threadpoolctl>=2.0.0 in /opt/conda/lib/python3.9/site-packages (from scikit-learn) (3.1.0)\n",
      "Requirement already satisfied: numpy<2.0,>=1.17.3 in /opt/conda/lib/python3.9/site-packages (from scikit-learn) (1.21.1)\n",
      "Collecting joblib>=1.1.1\n",
      "  Downloading joblib-1.3.2-py3-none-any.whl (302 kB)\n",
      "\u001b[K     |████████████████████████████████| 302 kB 71.3 MB/s eta 0:00:01\n",
      "\u001b[?25hInstalling collected packages: joblib, scikit-learn\n",
      "  Attempting uninstall: joblib\n",
      "    Found existing installation: joblib 1.1.0\n",
      "    Uninstalling joblib-1.1.0:\n",
      "      Successfully uninstalled joblib-1.1.0\n",
      "  Attempting uninstall: scikit-learn\n",
      "    Found existing installation: scikit-learn 0.24.1\n",
      "    Uninstalling scikit-learn-0.24.1:\n",
      "      Successfully uninstalled scikit-learn-0.24.1\n",
      "Successfully installed joblib-1.3.2 scikit-learn-1.3.2\n"
     ]
    }
   ],
   "source": [
    "!pip install -U scikit-learn"
   ]
  },
  {
   "cell_type": "code",
   "execution_count": 2,
   "metadata": {},
   "outputs": [],
   "source": [
    "import pandas as pd\n",
    "import numpy as np\n",
    "import os\n",
    "import seaborn as sns\n",
    "import matplotlib.pyplot as plt\n",
    "\n",
    "\n",
    "from statsmodels.stats.outliers_influence import variance_inflation_factor\n",
    "\n",
    "from sklearn.preprocessing import OneHotEncoder\n",
    "from sklearn.preprocessing import OrdinalEncoder\n",
    "from sklearn.preprocessing import StandardScaler\n",
    "\n",
    "\n",
    "from sklearn.metrics import f1_score\n",
    "from sklearn.metrics import confusion_matrix\n",
    "from sklearn.metrics import accuracy_score\n",
    "from sklearn.metrics import precision_score\n",
    "from sklearn.metrics import recall_score\n",
    "\n",
    "from sklearn.ensemble import RandomForestClassifier\n",
    "from sklearn.linear_model import LogisticRegression\n",
    "\n",
    "from sklearn import set_config\n",
    "from sklearn.model_selection import cross_val_score\n",
    "from sklearn.metrics import roc_auc_score"
   ]
  },
  {
   "cell_type": "markdown",
   "metadata": {},
   "source": [
    "<div class=\"alert alert-warning\" role=\"alert\">\n",
    "<b> Комментарий ревьюера:</b>\n",
    "\n",
    "<b>⚠️«Можно лучше»: </b>\n",
    "\n",
    "Если импортирование происходит из одного и того же модуля, то функции можно перечислять через запятную:\n",
    "\n",
    "```python\n",
    "from sklearn.model_selection import train_test_split, GridSearchCV\n",
    "\n",
    "# или так\n",
    "from sklearn.model_selection import (\n",
    "    train_test_split\n",
    "    GridSearchCV\n",
    ")\n",
    "```"
   ]
  },
  {
   "cell_type": "markdown",
   "metadata": {},
   "source": [
    "Откроем два файла и посмотрим на их содержимое."
   ]
  },
  {
   "cell_type": "code",
   "execution_count": 3,
   "metadata": {},
   "outputs": [
    {
     "data": {
      "text/html": [
       "<div>\n",
       "<style scoped>\n",
       "    .dataframe tbody tr th:only-of-type {\n",
       "        vertical-align: middle;\n",
       "    }\n",
       "\n",
       "    .dataframe tbody tr th {\n",
       "        vertical-align: top;\n",
       "    }\n",
       "\n",
       "    .dataframe thead th {\n",
       "        text-align: right;\n",
       "    }\n",
       "</style>\n",
       "<table border=\"1\" class=\"dataframe\">\n",
       "  <thead>\n",
       "    <tr style=\"text-align: right;\">\n",
       "      <th></th>\n",
       "      <th>id</th>\n",
       "      <th>is_canceled</th>\n",
       "      <th>lead_time</th>\n",
       "      <th>arrival_date_year</th>\n",
       "      <th>arrival_date_month</th>\n",
       "      <th>arrival_date_week_number</th>\n",
       "      <th>arrival_date_day_of_month</th>\n",
       "      <th>stays_in_weekend_nights</th>\n",
       "      <th>stays_in_week_nights</th>\n",
       "      <th>adults</th>\n",
       "      <th>...</th>\n",
       "      <th>is_repeated_guest</th>\n",
       "      <th>previous_cancellations</th>\n",
       "      <th>previous_bookings_not_canceled</th>\n",
       "      <th>reserved_room_type</th>\n",
       "      <th>booking_changes</th>\n",
       "      <th>days_in_waiting_list</th>\n",
       "      <th>customer_type</th>\n",
       "      <th>required_car_parking_spaces</th>\n",
       "      <th>total_of_special_requests</th>\n",
       "      <th>total_nights</th>\n",
       "    </tr>\n",
       "  </thead>\n",
       "  <tbody>\n",
       "    <tr>\n",
       "      <th>0</th>\n",
       "      <td>0</td>\n",
       "      <td>0</td>\n",
       "      <td>7.0</td>\n",
       "      <td>2015</td>\n",
       "      <td>July</td>\n",
       "      <td>27</td>\n",
       "      <td>1</td>\n",
       "      <td>0</td>\n",
       "      <td>1</td>\n",
       "      <td>1.0</td>\n",
       "      <td>...</td>\n",
       "      <td>0</td>\n",
       "      <td>0</td>\n",
       "      <td>0</td>\n",
       "      <td>A</td>\n",
       "      <td>0</td>\n",
       "      <td>0</td>\n",
       "      <td>Transient</td>\n",
       "      <td>0</td>\n",
       "      <td>0</td>\n",
       "      <td>1</td>\n",
       "    </tr>\n",
       "    <tr>\n",
       "      <th>1</th>\n",
       "      <td>1</td>\n",
       "      <td>0</td>\n",
       "      <td>14.0</td>\n",
       "      <td>2015</td>\n",
       "      <td>July</td>\n",
       "      <td>27</td>\n",
       "      <td>1</td>\n",
       "      <td>0</td>\n",
       "      <td>2</td>\n",
       "      <td>2.0</td>\n",
       "      <td>...</td>\n",
       "      <td>0</td>\n",
       "      <td>0</td>\n",
       "      <td>0</td>\n",
       "      <td>A</td>\n",
       "      <td>0</td>\n",
       "      <td>0</td>\n",
       "      <td>Transient</td>\n",
       "      <td>0</td>\n",
       "      <td>1</td>\n",
       "      <td>2</td>\n",
       "    </tr>\n",
       "    <tr>\n",
       "      <th>2</th>\n",
       "      <td>2</td>\n",
       "      <td>0</td>\n",
       "      <td>0.0</td>\n",
       "      <td>2015</td>\n",
       "      <td>July</td>\n",
       "      <td>27</td>\n",
       "      <td>1</td>\n",
       "      <td>0</td>\n",
       "      <td>2</td>\n",
       "      <td>2.0</td>\n",
       "      <td>...</td>\n",
       "      <td>0</td>\n",
       "      <td>0</td>\n",
       "      <td>0</td>\n",
       "      <td>C</td>\n",
       "      <td>0</td>\n",
       "      <td>0</td>\n",
       "      <td>Transient</td>\n",
       "      <td>0</td>\n",
       "      <td>0</td>\n",
       "      <td>2</td>\n",
       "    </tr>\n",
       "    <tr>\n",
       "      <th>3</th>\n",
       "      <td>3</td>\n",
       "      <td>0</td>\n",
       "      <td>9.0</td>\n",
       "      <td>2015</td>\n",
       "      <td>July</td>\n",
       "      <td>27</td>\n",
       "      <td>1</td>\n",
       "      <td>0</td>\n",
       "      <td>2</td>\n",
       "      <td>2.0</td>\n",
       "      <td>...</td>\n",
       "      <td>0</td>\n",
       "      <td>0</td>\n",
       "      <td>0</td>\n",
       "      <td>C</td>\n",
       "      <td>0</td>\n",
       "      <td>0</td>\n",
       "      <td>Transient</td>\n",
       "      <td>0</td>\n",
       "      <td>1</td>\n",
       "      <td>2</td>\n",
       "    </tr>\n",
       "    <tr>\n",
       "      <th>4</th>\n",
       "      <td>4</td>\n",
       "      <td>1</td>\n",
       "      <td>85.0</td>\n",
       "      <td>2015</td>\n",
       "      <td>July</td>\n",
       "      <td>27</td>\n",
       "      <td>1</td>\n",
       "      <td>0</td>\n",
       "      <td>3</td>\n",
       "      <td>2.0</td>\n",
       "      <td>...</td>\n",
       "      <td>0</td>\n",
       "      <td>0</td>\n",
       "      <td>0</td>\n",
       "      <td>A</td>\n",
       "      <td>0</td>\n",
       "      <td>0</td>\n",
       "      <td>Transient</td>\n",
       "      <td>0</td>\n",
       "      <td>1</td>\n",
       "      <td>3</td>\n",
       "    </tr>\n",
       "  </tbody>\n",
       "</table>\n",
       "<p>5 rows × 25 columns</p>\n",
       "</div>"
      ],
      "text/plain": [
       "   id  is_canceled  lead_time  arrival_date_year arrival_date_month  \\\n",
       "0   0            0        7.0               2015               July   \n",
       "1   1            0       14.0               2015               July   \n",
       "2   2            0        0.0               2015               July   \n",
       "3   3            0        9.0               2015               July   \n",
       "4   4            1       85.0               2015               July   \n",
       "\n",
       "   arrival_date_week_number  arrival_date_day_of_month  \\\n",
       "0                        27                          1   \n",
       "1                        27                          1   \n",
       "2                        27                          1   \n",
       "3                        27                          1   \n",
       "4                        27                          1   \n",
       "\n",
       "   stays_in_weekend_nights  stays_in_week_nights  adults  ...  \\\n",
       "0                        0                     1     1.0  ...   \n",
       "1                        0                     2     2.0  ...   \n",
       "2                        0                     2     2.0  ...   \n",
       "3                        0                     2     2.0  ...   \n",
       "4                        0                     3     2.0  ...   \n",
       "\n",
       "   is_repeated_guest  previous_cancellations previous_bookings_not_canceled  \\\n",
       "0                  0                       0                              0   \n",
       "1                  0                       0                              0   \n",
       "2                  0                       0                              0   \n",
       "3                  0                       0                              0   \n",
       "4                  0                       0                              0   \n",
       "\n",
       "  reserved_room_type booking_changes  days_in_waiting_list  customer_type  \\\n",
       "0   A                              0                     0      Transient   \n",
       "1   A                              0                     0      Transient   \n",
       "2   C                              0                     0      Transient   \n",
       "3   C                              0                     0      Transient   \n",
       "4   A                              0                     0      Transient   \n",
       "\n",
       "   required_car_parking_spaces total_of_special_requests  total_nights  \n",
       "0                            0                         0             1  \n",
       "1                            0                         1             2  \n",
       "2                            0                         0             2  \n",
       "3                            0                         1             2  \n",
       "4                            0                         1             3  \n",
       "\n",
       "[5 rows x 25 columns]"
      ]
     },
     "metadata": {},
     "output_type": "display_data"
    },
    {
     "data": {
      "text/html": [
       "<div>\n",
       "<style scoped>\n",
       "    .dataframe tbody tr th:only-of-type {\n",
       "        vertical-align: middle;\n",
       "    }\n",
       "\n",
       "    .dataframe tbody tr th {\n",
       "        vertical-align: top;\n",
       "    }\n",
       "\n",
       "    .dataframe thead th {\n",
       "        text-align: right;\n",
       "    }\n",
       "</style>\n",
       "<table border=\"1\" class=\"dataframe\">\n",
       "  <thead>\n",
       "    <tr style=\"text-align: right;\">\n",
       "      <th></th>\n",
       "      <th>id</th>\n",
       "      <th>is_canceled</th>\n",
       "      <th>lead_time</th>\n",
       "      <th>arrival_date_year</th>\n",
       "      <th>arrival_date_month</th>\n",
       "      <th>arrival_date_week_number</th>\n",
       "      <th>arrival_date_day_of_month</th>\n",
       "      <th>stays_in_weekend_nights</th>\n",
       "      <th>stays_in_week_nights</th>\n",
       "      <th>adults</th>\n",
       "      <th>...</th>\n",
       "      <th>is_repeated_guest</th>\n",
       "      <th>previous_cancellations</th>\n",
       "      <th>previous_bookings_not_canceled</th>\n",
       "      <th>reserved_room_type</th>\n",
       "      <th>booking_changes</th>\n",
       "      <th>days_in_waiting_list</th>\n",
       "      <th>customer_type</th>\n",
       "      <th>required_car_parking_spaces</th>\n",
       "      <th>total_of_special_requests</th>\n",
       "      <th>total_nights</th>\n",
       "    </tr>\n",
       "  </thead>\n",
       "  <tbody>\n",
       "    <tr>\n",
       "      <th>0</th>\n",
       "      <td>6086</td>\n",
       "      <td>1</td>\n",
       "      <td>74.0</td>\n",
       "      <td>2017</td>\n",
       "      <td>January</td>\n",
       "      <td>1</td>\n",
       "      <td>1</td>\n",
       "      <td>1</td>\n",
       "      <td>0</td>\n",
       "      <td>2.0</td>\n",
       "      <td>...</td>\n",
       "      <td>0</td>\n",
       "      <td>0</td>\n",
       "      <td>0</td>\n",
       "      <td>A</td>\n",
       "      <td>0</td>\n",
       "      <td>0</td>\n",
       "      <td>Transient</td>\n",
       "      <td>0</td>\n",
       "      <td>0</td>\n",
       "      <td>1</td>\n",
       "    </tr>\n",
       "    <tr>\n",
       "      <th>1</th>\n",
       "      <td>6087</td>\n",
       "      <td>1</td>\n",
       "      <td>62.0</td>\n",
       "      <td>2017</td>\n",
       "      <td>January</td>\n",
       "      <td>1</td>\n",
       "      <td>1</td>\n",
       "      <td>2</td>\n",
       "      <td>2</td>\n",
       "      <td>2.0</td>\n",
       "      <td>...</td>\n",
       "      <td>0</td>\n",
       "      <td>0</td>\n",
       "      <td>0</td>\n",
       "      <td>A</td>\n",
       "      <td>0</td>\n",
       "      <td>0</td>\n",
       "      <td>Transient</td>\n",
       "      <td>0</td>\n",
       "      <td>1</td>\n",
       "      <td>4</td>\n",
       "    </tr>\n",
       "    <tr>\n",
       "      <th>2</th>\n",
       "      <td>6088</td>\n",
       "      <td>1</td>\n",
       "      <td>62.0</td>\n",
       "      <td>2017</td>\n",
       "      <td>January</td>\n",
       "      <td>1</td>\n",
       "      <td>1</td>\n",
       "      <td>2</td>\n",
       "      <td>2</td>\n",
       "      <td>2.0</td>\n",
       "      <td>...</td>\n",
       "      <td>0</td>\n",
       "      <td>0</td>\n",
       "      <td>0</td>\n",
       "      <td>A</td>\n",
       "      <td>0</td>\n",
       "      <td>0</td>\n",
       "      <td>Transient</td>\n",
       "      <td>0</td>\n",
       "      <td>1</td>\n",
       "      <td>4</td>\n",
       "    </tr>\n",
       "    <tr>\n",
       "      <th>3</th>\n",
       "      <td>6089</td>\n",
       "      <td>1</td>\n",
       "      <td>71.0</td>\n",
       "      <td>2017</td>\n",
       "      <td>January</td>\n",
       "      <td>1</td>\n",
       "      <td>1</td>\n",
       "      <td>2</td>\n",
       "      <td>2</td>\n",
       "      <td>1.0</td>\n",
       "      <td>...</td>\n",
       "      <td>0</td>\n",
       "      <td>0</td>\n",
       "      <td>0</td>\n",
       "      <td>A</td>\n",
       "      <td>0</td>\n",
       "      <td>0</td>\n",
       "      <td>Transient</td>\n",
       "      <td>0</td>\n",
       "      <td>1</td>\n",
       "      <td>4</td>\n",
       "    </tr>\n",
       "    <tr>\n",
       "      <th>4</th>\n",
       "      <td>6090</td>\n",
       "      <td>1</td>\n",
       "      <td>172.0</td>\n",
       "      <td>2017</td>\n",
       "      <td>January</td>\n",
       "      <td>1</td>\n",
       "      <td>1</td>\n",
       "      <td>2</td>\n",
       "      <td>5</td>\n",
       "      <td>2.0</td>\n",
       "      <td>...</td>\n",
       "      <td>0</td>\n",
       "      <td>0</td>\n",
       "      <td>0</td>\n",
       "      <td>A</td>\n",
       "      <td>0</td>\n",
       "      <td>0</td>\n",
       "      <td>Transient</td>\n",
       "      <td>0</td>\n",
       "      <td>0</td>\n",
       "      <td>7</td>\n",
       "    </tr>\n",
       "  </tbody>\n",
       "</table>\n",
       "<p>5 rows × 25 columns</p>\n",
       "</div>"
      ],
      "text/plain": [
       "     id  is_canceled  lead_time  arrival_date_year arrival_date_month  \\\n",
       "0  6086            1       74.0               2017            January   \n",
       "1  6087            1       62.0               2017            January   \n",
       "2  6088            1       62.0               2017            January   \n",
       "3  6089            1       71.0               2017            January   \n",
       "4  6090            1      172.0               2017            January   \n",
       "\n",
       "   arrival_date_week_number  arrival_date_day_of_month  \\\n",
       "0                         1                          1   \n",
       "1                         1                          1   \n",
       "2                         1                          1   \n",
       "3                         1                          1   \n",
       "4                         1                          1   \n",
       "\n",
       "   stays_in_weekend_nights  stays_in_week_nights  adults  ...  \\\n",
       "0                        1                     0     2.0  ...   \n",
       "1                        2                     2     2.0  ...   \n",
       "2                        2                     2     2.0  ...   \n",
       "3                        2                     2     1.0  ...   \n",
       "4                        2                     5     2.0  ...   \n",
       "\n",
       "   is_repeated_guest  previous_cancellations previous_bookings_not_canceled  \\\n",
       "0                  0                       0                              0   \n",
       "1                  0                       0                              0   \n",
       "2                  0                       0                              0   \n",
       "3                  0                       0                              0   \n",
       "4                  0                       0                              0   \n",
       "\n",
       "  reserved_room_type booking_changes  days_in_waiting_list  customer_type  \\\n",
       "0   A                              0                     0      Transient   \n",
       "1   A                              0                     0      Transient   \n",
       "2   A                              0                     0      Transient   \n",
       "3   A                              0                     0      Transient   \n",
       "4   A                              0                     0      Transient   \n",
       "\n",
       "   required_car_parking_spaces total_of_special_requests  total_nights  \n",
       "0                            0                         0             1  \n",
       "1                            0                         1             4  \n",
       "2                            0                         1             4  \n",
       "3                            0                         1             4  \n",
       "4                            0                         0             7  \n",
       "\n",
       "[5 rows x 25 columns]"
      ]
     },
     "metadata": {},
     "output_type": "display_data"
    },
    {
     "name": "stdout",
     "output_type": "stream",
     "text": [
      "<class 'pandas.core.frame.DataFrame'>\n",
      "RangeIndex: 65229 entries, 0 to 65228\n",
      "Data columns (total 25 columns):\n",
      " #   Column                          Non-Null Count  Dtype  \n",
      "---  ------                          --------------  -----  \n",
      " 0   id                              65229 non-null  int64  \n",
      " 1   is_canceled                     65229 non-null  int64  \n",
      " 2   lead_time                       65229 non-null  float64\n",
      " 3   arrival_date_year               65229 non-null  int64  \n",
      " 4   arrival_date_month              65229 non-null  object \n",
      " 5   arrival_date_week_number        65229 non-null  int64  \n",
      " 6   arrival_date_day_of_month       65229 non-null  int64  \n",
      " 7   stays_in_weekend_nights         65229 non-null  int64  \n",
      " 8   stays_in_week_nights            65229 non-null  int64  \n",
      " 9   adults                          65229 non-null  float64\n",
      " 10  children                        65229 non-null  float64\n",
      " 11  babies                          65229 non-null  float64\n",
      " 12  meal                            65229 non-null  object \n",
      " 13  country                         65229 non-null  object \n",
      " 14  distribution_channel            65229 non-null  object \n",
      " 15  is_repeated_guest               65229 non-null  int64  \n",
      " 16  previous_cancellations          65229 non-null  int64  \n",
      " 17  previous_bookings_not_canceled  65229 non-null  int64  \n",
      " 18  reserved_room_type              65229 non-null  object \n",
      " 19  booking_changes                 65229 non-null  int64  \n",
      " 20  days_in_waiting_list            65229 non-null  int64  \n",
      " 21  customer_type                   65229 non-null  object \n",
      " 22  required_car_parking_spaces     65229 non-null  int64  \n",
      " 23  total_of_special_requests       65229 non-null  int64  \n",
      " 24  total_nights                    65229 non-null  int64  \n",
      "dtypes: float64(4), int64(15), object(6)\n",
      "memory usage: 12.4+ MB\n",
      "<class 'pandas.core.frame.DataFrame'>\n",
      "RangeIndex: 32412 entries, 0 to 32411\n",
      "Data columns (total 25 columns):\n",
      " #   Column                          Non-Null Count  Dtype  \n",
      "---  ------                          --------------  -----  \n",
      " 0   id                              32412 non-null  int64  \n",
      " 1   is_canceled                     32412 non-null  int64  \n",
      " 2   lead_time                       32412 non-null  float64\n",
      " 3   arrival_date_year               32412 non-null  int64  \n",
      " 4   arrival_date_month              32412 non-null  object \n",
      " 5   arrival_date_week_number        32412 non-null  int64  \n",
      " 6   arrival_date_day_of_month       32412 non-null  int64  \n",
      " 7   stays_in_weekend_nights         32412 non-null  int64  \n",
      " 8   stays_in_week_nights            32412 non-null  int64  \n",
      " 9   adults                          32412 non-null  float64\n",
      " 10  children                        32412 non-null  float64\n",
      " 11  babies                          32412 non-null  float64\n",
      " 12  meal                            32412 non-null  object \n",
      " 13  country                         32412 non-null  object \n",
      " 14  distribution_channel            32412 non-null  object \n",
      " 15  is_repeated_guest               32412 non-null  int64  \n",
      " 16  previous_cancellations          32412 non-null  int64  \n",
      " 17  previous_bookings_not_canceled  32412 non-null  int64  \n",
      " 18  reserved_room_type              32412 non-null  object \n",
      " 19  booking_changes                 32412 non-null  int64  \n",
      " 20  days_in_waiting_list            32412 non-null  int64  \n",
      " 21  customer_type                   32412 non-null  object \n",
      " 22  required_car_parking_spaces     32412 non-null  int64  \n",
      " 23  total_of_special_requests       32412 non-null  int64  \n",
      " 24  total_nights                    32412 non-null  int64  \n",
      "dtypes: float64(4), int64(15), object(6)\n",
      "memory usage: 6.2+ MB\n"
     ]
    },
    {
     "data": {
      "text/html": [
       "<div>\n",
       "<style scoped>\n",
       "    .dataframe tbody tr th:only-of-type {\n",
       "        vertical-align: middle;\n",
       "    }\n",
       "\n",
       "    .dataframe tbody tr th {\n",
       "        vertical-align: top;\n",
       "    }\n",
       "\n",
       "    .dataframe thead th {\n",
       "        text-align: right;\n",
       "    }\n",
       "</style>\n",
       "<table border=\"1\" class=\"dataframe\">\n",
       "  <thead>\n",
       "    <tr style=\"text-align: right;\">\n",
       "      <th></th>\n",
       "      <th>id</th>\n",
       "      <th>is_canceled</th>\n",
       "      <th>lead_time</th>\n",
       "      <th>arrival_date_year</th>\n",
       "      <th>arrival_date_week_number</th>\n",
       "      <th>arrival_date_day_of_month</th>\n",
       "      <th>stays_in_weekend_nights</th>\n",
       "      <th>stays_in_week_nights</th>\n",
       "      <th>adults</th>\n",
       "      <th>children</th>\n",
       "      <th>babies</th>\n",
       "      <th>is_repeated_guest</th>\n",
       "      <th>previous_cancellations</th>\n",
       "      <th>previous_bookings_not_canceled</th>\n",
       "      <th>booking_changes</th>\n",
       "      <th>days_in_waiting_list</th>\n",
       "      <th>required_car_parking_spaces</th>\n",
       "      <th>total_of_special_requests</th>\n",
       "      <th>total_nights</th>\n",
       "    </tr>\n",
       "  </thead>\n",
       "  <tbody>\n",
       "    <tr>\n",
       "      <th>count</th>\n",
       "      <td>65229.000000</td>\n",
       "      <td>65229.000000</td>\n",
       "      <td>65229.000000</td>\n",
       "      <td>65229.000000</td>\n",
       "      <td>65229.000000</td>\n",
       "      <td>65229.000000</td>\n",
       "      <td>65229.000000</td>\n",
       "      <td>65229.000000</td>\n",
       "      <td>65229.000000</td>\n",
       "      <td>65229.000000</td>\n",
       "      <td>65229.000000</td>\n",
       "      <td>65229.000000</td>\n",
       "      <td>65229.000000</td>\n",
       "      <td>65229.000000</td>\n",
       "      <td>65229.000000</td>\n",
       "      <td>65229.000000</td>\n",
       "      <td>65229.000000</td>\n",
       "      <td>65229.000000</td>\n",
       "      <td>65229.000000</td>\n",
       "    </tr>\n",
       "    <tr>\n",
       "      <th>mean</th>\n",
       "      <td>43544.069172</td>\n",
       "      <td>0.368609</td>\n",
       "      <td>96.337917</td>\n",
       "      <td>2015.719021</td>\n",
       "      <td>31.339772</td>\n",
       "      <td>15.847813</td>\n",
       "      <td>0.825185</td>\n",
       "      <td>2.224793</td>\n",
       "      <td>1.836576</td>\n",
       "      <td>0.074890</td>\n",
       "      <td>0.007236</td>\n",
       "      <td>0.027151</td>\n",
       "      <td>0.128915</td>\n",
       "      <td>0.107713</td>\n",
       "      <td>0.194269</td>\n",
       "      <td>3.334422</td>\n",
       "      <td>0.056647</td>\n",
       "      <td>0.512763</td>\n",
       "      <td>3.049978</td>\n",
       "    </tr>\n",
       "    <tr>\n",
       "      <th>std</th>\n",
       "      <td>25614.858971</td>\n",
       "      <td>0.482431</td>\n",
       "      <td>96.127545</td>\n",
       "      <td>0.449481</td>\n",
       "      <td>13.464024</td>\n",
       "      <td>8.748182</td>\n",
       "      <td>0.853477</td>\n",
       "      <td>1.354992</td>\n",
       "      <td>0.480245</td>\n",
       "      <td>0.334243</td>\n",
       "      <td>0.098790</td>\n",
       "      <td>0.162523</td>\n",
       "      <td>0.965326</td>\n",
       "      <td>1.326638</td>\n",
       "      <td>0.593838</td>\n",
       "      <td>18.239606</td>\n",
       "      <td>0.232094</td>\n",
       "      <td>0.752590</td>\n",
       "      <td>1.738108</td>\n",
       "    </tr>\n",
       "    <tr>\n",
       "      <th>min</th>\n",
       "      <td>0.000000</td>\n",
       "      <td>0.000000</td>\n",
       "      <td>0.000000</td>\n",
       "      <td>2015.000000</td>\n",
       "      <td>1.000000</td>\n",
       "      <td>1.000000</td>\n",
       "      <td>0.000000</td>\n",
       "      <td>0.000000</td>\n",
       "      <td>0.000000</td>\n",
       "      <td>0.000000</td>\n",
       "      <td>0.000000</td>\n",
       "      <td>0.000000</td>\n",
       "      <td>0.000000</td>\n",
       "      <td>0.000000</td>\n",
       "      <td>0.000000</td>\n",
       "      <td>0.000000</td>\n",
       "      <td>0.000000</td>\n",
       "      <td>0.000000</td>\n",
       "      <td>1.000000</td>\n",
       "    </tr>\n",
       "    <tr>\n",
       "      <th>25%</th>\n",
       "      <td>19108.000000</td>\n",
       "      <td>0.000000</td>\n",
       "      <td>17.000000</td>\n",
       "      <td>2015.000000</td>\n",
       "      <td>21.000000</td>\n",
       "      <td>8.000000</td>\n",
       "      <td>0.000000</td>\n",
       "      <td>1.000000</td>\n",
       "      <td>2.000000</td>\n",
       "      <td>0.000000</td>\n",
       "      <td>0.000000</td>\n",
       "      <td>0.000000</td>\n",
       "      <td>0.000000</td>\n",
       "      <td>0.000000</td>\n",
       "      <td>0.000000</td>\n",
       "      <td>0.000000</td>\n",
       "      <td>0.000000</td>\n",
       "      <td>0.000000</td>\n",
       "      <td>2.000000</td>\n",
       "    </tr>\n",
       "    <tr>\n",
       "      <th>50%</th>\n",
       "      <td>40554.000000</td>\n",
       "      <td>0.000000</td>\n",
       "      <td>64.000000</td>\n",
       "      <td>2016.000000</td>\n",
       "      <td>34.000000</td>\n",
       "      <td>16.000000</td>\n",
       "      <td>1.000000</td>\n",
       "      <td>2.000000</td>\n",
       "      <td>2.000000</td>\n",
       "      <td>0.000000</td>\n",
       "      <td>0.000000</td>\n",
       "      <td>0.000000</td>\n",
       "      <td>0.000000</td>\n",
       "      <td>0.000000</td>\n",
       "      <td>0.000000</td>\n",
       "      <td>0.000000</td>\n",
       "      <td>0.000000</td>\n",
       "      <td>0.000000</td>\n",
       "      <td>3.000000</td>\n",
       "    </tr>\n",
       "    <tr>\n",
       "      <th>75%</th>\n",
       "      <td>67414.000000</td>\n",
       "      <td>1.000000</td>\n",
       "      <td>151.000000</td>\n",
       "      <td>2016.000000</td>\n",
       "      <td>42.000000</td>\n",
       "      <td>23.000000</td>\n",
       "      <td>2.000000</td>\n",
       "      <td>3.000000</td>\n",
       "      <td>2.000000</td>\n",
       "      <td>0.000000</td>\n",
       "      <td>0.000000</td>\n",
       "      <td>0.000000</td>\n",
       "      <td>0.000000</td>\n",
       "      <td>0.000000</td>\n",
       "      <td>0.000000</td>\n",
       "      <td>0.000000</td>\n",
       "      <td>0.000000</td>\n",
       "      <td>1.000000</td>\n",
       "      <td>4.000000</td>\n",
       "    </tr>\n",
       "    <tr>\n",
       "      <th>max</th>\n",
       "      <td>84121.000000</td>\n",
       "      <td>1.000000</td>\n",
       "      <td>374.000000</td>\n",
       "      <td>2016.000000</td>\n",
       "      <td>53.000000</td>\n",
       "      <td>31.000000</td>\n",
       "      <td>4.000000</td>\n",
       "      <td>6.000000</td>\n",
       "      <td>4.000000</td>\n",
       "      <td>3.000000</td>\n",
       "      <td>10.000000</td>\n",
       "      <td>1.000000</td>\n",
       "      <td>26.000000</td>\n",
       "      <td>58.000000</td>\n",
       "      <td>17.000000</td>\n",
       "      <td>259.000000</td>\n",
       "      <td>3.000000</td>\n",
       "      <td>5.000000</td>\n",
       "      <td>10.000000</td>\n",
       "    </tr>\n",
       "  </tbody>\n",
       "</table>\n",
       "</div>"
      ],
      "text/plain": [
       "                 id   is_canceled     lead_time  arrival_date_year  \\\n",
       "count  65229.000000  65229.000000  65229.000000       65229.000000   \n",
       "mean   43544.069172      0.368609     96.337917        2015.719021   \n",
       "std    25614.858971      0.482431     96.127545           0.449481   \n",
       "min        0.000000      0.000000      0.000000        2015.000000   \n",
       "25%    19108.000000      0.000000     17.000000        2015.000000   \n",
       "50%    40554.000000      0.000000     64.000000        2016.000000   \n",
       "75%    67414.000000      1.000000    151.000000        2016.000000   \n",
       "max    84121.000000      1.000000    374.000000        2016.000000   \n",
       "\n",
       "       arrival_date_week_number  arrival_date_day_of_month  \\\n",
       "count              65229.000000               65229.000000   \n",
       "mean                  31.339772                  15.847813   \n",
       "std                   13.464024                   8.748182   \n",
       "min                    1.000000                   1.000000   \n",
       "25%                   21.000000                   8.000000   \n",
       "50%                   34.000000                  16.000000   \n",
       "75%                   42.000000                  23.000000   \n",
       "max                   53.000000                  31.000000   \n",
       "\n",
       "       stays_in_weekend_nights  stays_in_week_nights        adults  \\\n",
       "count             65229.000000          65229.000000  65229.000000   \n",
       "mean                  0.825185              2.224793      1.836576   \n",
       "std                   0.853477              1.354992      0.480245   \n",
       "min                   0.000000              0.000000      0.000000   \n",
       "25%                   0.000000              1.000000      2.000000   \n",
       "50%                   1.000000              2.000000      2.000000   \n",
       "75%                   2.000000              3.000000      2.000000   \n",
       "max                   4.000000              6.000000      4.000000   \n",
       "\n",
       "           children        babies  is_repeated_guest  previous_cancellations  \\\n",
       "count  65229.000000  65229.000000       65229.000000            65229.000000   \n",
       "mean       0.074890      0.007236           0.027151                0.128915   \n",
       "std        0.334243      0.098790           0.162523                0.965326   \n",
       "min        0.000000      0.000000           0.000000                0.000000   \n",
       "25%        0.000000      0.000000           0.000000                0.000000   \n",
       "50%        0.000000      0.000000           0.000000                0.000000   \n",
       "75%        0.000000      0.000000           0.000000                0.000000   \n",
       "max        3.000000     10.000000           1.000000               26.000000   \n",
       "\n",
       "       previous_bookings_not_canceled  booking_changes  days_in_waiting_list  \\\n",
       "count                    65229.000000     65229.000000          65229.000000   \n",
       "mean                         0.107713         0.194269              3.334422   \n",
       "std                          1.326638         0.593838             18.239606   \n",
       "min                          0.000000         0.000000              0.000000   \n",
       "25%                          0.000000         0.000000              0.000000   \n",
       "50%                          0.000000         0.000000              0.000000   \n",
       "75%                          0.000000         0.000000              0.000000   \n",
       "max                         58.000000        17.000000            259.000000   \n",
       "\n",
       "       required_car_parking_spaces  total_of_special_requests  total_nights  \n",
       "count                 65229.000000               65229.000000  65229.000000  \n",
       "mean                      0.056647                   0.512763      3.049978  \n",
       "std                       0.232094                   0.752590      1.738108  \n",
       "min                       0.000000                   0.000000      1.000000  \n",
       "25%                       0.000000                   0.000000      2.000000  \n",
       "50%                       0.000000                   0.000000      3.000000  \n",
       "75%                       0.000000                   1.000000      4.000000  \n",
       "max                       3.000000                   5.000000     10.000000  "
      ]
     },
     "metadata": {},
     "output_type": "display_data"
    },
    {
     "data": {
      "text/html": [
       "<div>\n",
       "<style scoped>\n",
       "    .dataframe tbody tr th:only-of-type {\n",
       "        vertical-align: middle;\n",
       "    }\n",
       "\n",
       "    .dataframe tbody tr th {\n",
       "        vertical-align: top;\n",
       "    }\n",
       "\n",
       "    .dataframe thead th {\n",
       "        text-align: right;\n",
       "    }\n",
       "</style>\n",
       "<table border=\"1\" class=\"dataframe\">\n",
       "  <thead>\n",
       "    <tr style=\"text-align: right;\">\n",
       "      <th></th>\n",
       "      <th>id</th>\n",
       "      <th>is_canceled</th>\n",
       "      <th>lead_time</th>\n",
       "      <th>arrival_date_year</th>\n",
       "      <th>arrival_date_week_number</th>\n",
       "      <th>arrival_date_day_of_month</th>\n",
       "      <th>stays_in_weekend_nights</th>\n",
       "      <th>stays_in_week_nights</th>\n",
       "      <th>adults</th>\n",
       "      <th>children</th>\n",
       "      <th>babies</th>\n",
       "      <th>is_repeated_guest</th>\n",
       "      <th>previous_cancellations</th>\n",
       "      <th>previous_bookings_not_canceled</th>\n",
       "      <th>booking_changes</th>\n",
       "      <th>days_in_waiting_list</th>\n",
       "      <th>required_car_parking_spaces</th>\n",
       "      <th>total_of_special_requests</th>\n",
       "      <th>total_nights</th>\n",
       "    </tr>\n",
       "  </thead>\n",
       "  <tbody>\n",
       "    <tr>\n",
       "      <th>count</th>\n",
       "      <td>32412.000000</td>\n",
       "      <td>32412.000000</td>\n",
       "      <td>32412.000000</td>\n",
       "      <td>32412.0</td>\n",
       "      <td>32412.000000</td>\n",
       "      <td>32412.000000</td>\n",
       "      <td>32412.000000</td>\n",
       "      <td>32412.00000</td>\n",
       "      <td>32412.000000</td>\n",
       "      <td>32412.000000</td>\n",
       "      <td>32412.000000</td>\n",
       "      <td>32412.000000</td>\n",
       "      <td>32412.000000</td>\n",
       "      <td>32412.000000</td>\n",
       "      <td>32412.000000</td>\n",
       "      <td>32412.000000</td>\n",
       "      <td>32412.000000</td>\n",
       "      <td>32412.000000</td>\n",
       "      <td>32412.000000</td>\n",
       "    </tr>\n",
       "    <tr>\n",
       "      <th>mean</th>\n",
       "      <td>60131.505183</td>\n",
       "      <td>0.388467</td>\n",
       "      <td>97.587869</td>\n",
       "      <td>2017.0</td>\n",
       "      <td>17.804054</td>\n",
       "      <td>15.656948</td>\n",
       "      <td>0.867888</td>\n",
       "      <td>2.34009</td>\n",
       "      <td>1.858602</td>\n",
       "      <td>0.083765</td>\n",
       "      <td>0.005523</td>\n",
       "      <td>0.031377</td>\n",
       "      <td>0.011601</td>\n",
       "      <td>0.171418</td>\n",
       "      <td>0.216741</td>\n",
       "      <td>0.262341</td>\n",
       "      <td>0.046248</td>\n",
       "      <td>0.657781</td>\n",
       "      <td>3.207979</td>\n",
       "    </tr>\n",
       "    <tr>\n",
       "      <th>std</th>\n",
       "      <td>29953.586177</td>\n",
       "      <td>0.487409</td>\n",
       "      <td>86.507146</td>\n",
       "      <td>0.0</td>\n",
       "      <td>9.177384</td>\n",
       "      <td>8.766429</td>\n",
       "      <td>0.853394</td>\n",
       "      <td>1.37517</td>\n",
       "      <td>0.489341</td>\n",
       "      <td>0.343470</td>\n",
       "      <td>0.075757</td>\n",
       "      <td>0.174338</td>\n",
       "      <td>0.180473</td>\n",
       "      <td>1.875170</td>\n",
       "      <td>0.640551</td>\n",
       "      <td>4.733027</td>\n",
       "      <td>0.219367</td>\n",
       "      <td>0.834341</td>\n",
       "      <td>1.738683</td>\n",
       "    </tr>\n",
       "    <tr>\n",
       "      <th>min</th>\n",
       "      <td>6086.000000</td>\n",
       "      <td>0.000000</td>\n",
       "      <td>0.000000</td>\n",
       "      <td>2017.0</td>\n",
       "      <td>1.000000</td>\n",
       "      <td>1.000000</td>\n",
       "      <td>0.000000</td>\n",
       "      <td>0.00000</td>\n",
       "      <td>0.000000</td>\n",
       "      <td>0.000000</td>\n",
       "      <td>0.000000</td>\n",
       "      <td>0.000000</td>\n",
       "      <td>0.000000</td>\n",
       "      <td>0.000000</td>\n",
       "      <td>0.000000</td>\n",
       "      <td>0.000000</td>\n",
       "      <td>0.000000</td>\n",
       "      <td>0.000000</td>\n",
       "      <td>1.000000</td>\n",
       "    </tr>\n",
       "    <tr>\n",
       "      <th>25%</th>\n",
       "      <td>45291.750000</td>\n",
       "      <td>0.000000</td>\n",
       "      <td>23.000000</td>\n",
       "      <td>2017.0</td>\n",
       "      <td>10.000000</td>\n",
       "      <td>8.000000</td>\n",
       "      <td>0.000000</td>\n",
       "      <td>1.00000</td>\n",
       "      <td>2.000000</td>\n",
       "      <td>0.000000</td>\n",
       "      <td>0.000000</td>\n",
       "      <td>0.000000</td>\n",
       "      <td>0.000000</td>\n",
       "      <td>0.000000</td>\n",
       "      <td>0.000000</td>\n",
       "      <td>0.000000</td>\n",
       "      <td>0.000000</td>\n",
       "      <td>0.000000</td>\n",
       "      <td>2.000000</td>\n",
       "    </tr>\n",
       "    <tr>\n",
       "      <th>50%</th>\n",
       "      <td>53394.500000</td>\n",
       "      <td>0.000000</td>\n",
       "      <td>76.000000</td>\n",
       "      <td>2017.0</td>\n",
       "      <td>18.000000</td>\n",
       "      <td>15.500000</td>\n",
       "      <td>1.000000</td>\n",
       "      <td>2.00000</td>\n",
       "      <td>2.000000</td>\n",
       "      <td>0.000000</td>\n",
       "      <td>0.000000</td>\n",
       "      <td>0.000000</td>\n",
       "      <td>0.000000</td>\n",
       "      <td>0.000000</td>\n",
       "      <td>0.000000</td>\n",
       "      <td>0.000000</td>\n",
       "      <td>0.000000</td>\n",
       "      <td>0.000000</td>\n",
       "      <td>3.000000</td>\n",
       "    </tr>\n",
       "    <tr>\n",
       "      <th>75%</th>\n",
       "      <td>89800.250000</td>\n",
       "      <td>1.000000</td>\n",
       "      <td>155.000000</td>\n",
       "      <td>2017.0</td>\n",
       "      <td>25.000000</td>\n",
       "      <td>23.000000</td>\n",
       "      <td>2.000000</td>\n",
       "      <td>3.00000</td>\n",
       "      <td>2.000000</td>\n",
       "      <td>0.000000</td>\n",
       "      <td>0.000000</td>\n",
       "      <td>0.000000</td>\n",
       "      <td>0.000000</td>\n",
       "      <td>0.000000</td>\n",
       "      <td>0.000000</td>\n",
       "      <td>0.000000</td>\n",
       "      <td>0.000000</td>\n",
       "      <td>1.000000</td>\n",
       "      <td>4.000000</td>\n",
       "    </tr>\n",
       "    <tr>\n",
       "      <th>max</th>\n",
       "      <td>97903.000000</td>\n",
       "      <td>1.000000</td>\n",
       "      <td>373.000000</td>\n",
       "      <td>2017.0</td>\n",
       "      <td>35.000000</td>\n",
       "      <td>31.000000</td>\n",
       "      <td>4.000000</td>\n",
       "      <td>6.00000</td>\n",
       "      <td>4.000000</td>\n",
       "      <td>3.000000</td>\n",
       "      <td>2.000000</td>\n",
       "      <td>1.000000</td>\n",
       "      <td>6.000000</td>\n",
       "      <td>72.000000</td>\n",
       "      <td>18.000000</td>\n",
       "      <td>223.000000</td>\n",
       "      <td>8.000000</td>\n",
       "      <td>5.000000</td>\n",
       "      <td>10.000000</td>\n",
       "    </tr>\n",
       "  </tbody>\n",
       "</table>\n",
       "</div>"
      ],
      "text/plain": [
       "                 id   is_canceled     lead_time  arrival_date_year  \\\n",
       "count  32412.000000  32412.000000  32412.000000            32412.0   \n",
       "mean   60131.505183      0.388467     97.587869             2017.0   \n",
       "std    29953.586177      0.487409     86.507146                0.0   \n",
       "min     6086.000000      0.000000      0.000000             2017.0   \n",
       "25%    45291.750000      0.000000     23.000000             2017.0   \n",
       "50%    53394.500000      0.000000     76.000000             2017.0   \n",
       "75%    89800.250000      1.000000    155.000000             2017.0   \n",
       "max    97903.000000      1.000000    373.000000             2017.0   \n",
       "\n",
       "       arrival_date_week_number  arrival_date_day_of_month  \\\n",
       "count              32412.000000               32412.000000   \n",
       "mean                  17.804054                  15.656948   \n",
       "std                    9.177384                   8.766429   \n",
       "min                    1.000000                   1.000000   \n",
       "25%                   10.000000                   8.000000   \n",
       "50%                   18.000000                  15.500000   \n",
       "75%                   25.000000                  23.000000   \n",
       "max                   35.000000                  31.000000   \n",
       "\n",
       "       stays_in_weekend_nights  stays_in_week_nights        adults  \\\n",
       "count             32412.000000           32412.00000  32412.000000   \n",
       "mean                  0.867888               2.34009      1.858602   \n",
       "std                   0.853394               1.37517      0.489341   \n",
       "min                   0.000000               0.00000      0.000000   \n",
       "25%                   0.000000               1.00000      2.000000   \n",
       "50%                   1.000000               2.00000      2.000000   \n",
       "75%                   2.000000               3.00000      2.000000   \n",
       "max                   4.000000               6.00000      4.000000   \n",
       "\n",
       "           children        babies  is_repeated_guest  previous_cancellations  \\\n",
       "count  32412.000000  32412.000000       32412.000000            32412.000000   \n",
       "mean       0.083765      0.005523           0.031377                0.011601   \n",
       "std        0.343470      0.075757           0.174338                0.180473   \n",
       "min        0.000000      0.000000           0.000000                0.000000   \n",
       "25%        0.000000      0.000000           0.000000                0.000000   \n",
       "50%        0.000000      0.000000           0.000000                0.000000   \n",
       "75%        0.000000      0.000000           0.000000                0.000000   \n",
       "max        3.000000      2.000000           1.000000                6.000000   \n",
       "\n",
       "       previous_bookings_not_canceled  booking_changes  days_in_waiting_list  \\\n",
       "count                    32412.000000     32412.000000          32412.000000   \n",
       "mean                         0.171418         0.216741              0.262341   \n",
       "std                          1.875170         0.640551              4.733027   \n",
       "min                          0.000000         0.000000              0.000000   \n",
       "25%                          0.000000         0.000000              0.000000   \n",
       "50%                          0.000000         0.000000              0.000000   \n",
       "75%                          0.000000         0.000000              0.000000   \n",
       "max                         72.000000        18.000000            223.000000   \n",
       "\n",
       "       required_car_parking_spaces  total_of_special_requests  total_nights  \n",
       "count                 32412.000000               32412.000000  32412.000000  \n",
       "mean                      0.046248                   0.657781      3.207979  \n",
       "std                       0.219367                   0.834341      1.738683  \n",
       "min                       0.000000                   0.000000      1.000000  \n",
       "25%                       0.000000                   0.000000      2.000000  \n",
       "50%                       0.000000                   0.000000      3.000000  \n",
       "75%                       0.000000                   1.000000      4.000000  \n",
       "max                       8.000000                   5.000000     10.000000  "
      ]
     },
     "metadata": {},
     "output_type": "display_data"
    }
   ],
   "source": [
    "df_train = pd.read_csv('/datasets/hotel_train.csv')\n",
    "\n",
    "df_test = pd.read_csv('/datasets/hotel_test.csv')\n",
    "\n",
    "display(df_train.head())\n",
    "\n",
    "display(df_test.head())\n",
    "\n",
    "df_train.info()\n",
    "\n",
    "df_test.info()\n",
    "\n",
    "display(df_train.describe())\n",
    "\n",
    "display(df_test.describe())\n"
   ]
  },
  {
   "cell_type": "markdown",
   "metadata": {},
   "source": [
    "Следующие столбцы типа float могут быть переведены в int:\n",
    "\n",
    "lead_time - остальные значения дней целые\n",
    "\n",
    "adults, children, babies - очевидно"
   ]
  },
  {
   "cell_type": "markdown",
   "metadata": {},
   "source": [
    "<div class=\"alert alert-block alert-success\">\n",
    "<b>Комментарий ревьюера:</b>\n",
    "\n",
    "<b>✅«Отлично»:</b> Данные загружны, выполнен беглый осмотр.\n",
    "Для вывода результатов в jupytr notebook не обязательно вызывать фукнцию display"
   ]
  },
  {
   "cell_type": "markdown",
   "metadata": {},
   "source": [
    "<div class=\"alert alert-warning\" role=\"alert\">\n",
    "<b>Комментарий ревьюера:</b>\n",
    "\n",
    "<b>⚠️«Можно лучше»: </b> \n",
    "По вызову тех методов, что были рпедставлены не зватает выводов по пропускам в данных. Еще если заметил можно уточнить найдены ли выбросы."
   ]
  },
  {
   "cell_type": "markdown",
   "metadata": {},
   "source": [
    "### Шаг 2. Предобработка и исследовательский анализ данных"
   ]
  },
  {
   "cell_type": "markdown",
   "metadata": {},
   "source": [
    "Рассмотрим полученные нами файлы. Проверим данные на пропуски, дубликаты, артефакты. Возможно есть лишние столбцы. "
   ]
  },
  {
   "cell_type": "code",
   "execution_count": 4,
   "metadata": {
    "scrolled": false
   },
   "outputs": [
    {
     "name": "stdout",
     "output_type": "stream",
     "text": [
      "id [    0     1     2 ... 84094 84117 84121]\n",
      "is_canceled [0 1]\n",
      "lead_time [  7.  14.   0.   9.  85.  75.  23.  18.  68.  37.  72.  48.  77.  99.\n",
      "  40.  15.  36.  70.  45.  16. 107.  47.  96. 113.  50.   3.   1.  10.\n",
      "   5.  17.  93.  71.  63.  62. 101.   2.  81.  12. 109. 102.   4.  92.\n",
      "  95.  86.  78.  29.  30.  51.  33.   8. 100.  80.  97.  64.  90.  27.\n",
      "  82.  94. 115. 111.  98.  66. 104.  65.  55.  21.  88.  43.  54. 280.\n",
      "  24. 103. 249.  13.  79.  35.  31.  34.  44. 304. 117.  84. 110.  59.\n",
      " 116.  91.  42.  60. 321.  32.  56.  41.  76.  49.  73. 112.  39.  58.\n",
      "  57.  19.  53.  38.   6. 108.  26. 123.  28. 118.  46.  69.  52.  89.\n",
      "  61.  22.  67. 105.  25.  11.  87. 299.  74. 298. 119.  20.  83. 136.\n",
      " 129. 124. 130. 131. 139. 122. 106. 137. 120. 135. 150. 143. 151. 126.\n",
      " 147. 128. 156. 132. 164. 159. 161. 333. 149. 154. 297. 163. 314. 323.\n",
      " 340. 142. 302. 175. 166. 114. 140. 157. 310. 172. 145. 121. 127. 178.\n",
      " 152. 158. 125. 185. 177. 165. 200. 192. 174. 134. 350. 283. 160. 133.\n",
      " 148. 153. 155. 171. 146. 241. 193. 235. 194. 209. 238. 215. 141. 189.\n",
      " 223. 169. 202. 211. 168. 230. 203. 188. 232. 187. 219. 196. 190. 228.\n",
      " 176. 197. 201. 186. 199. 180. 207. 138. 162. 224. 144. 222. 275. 212.\n",
      " 214. 183. 218. 206. 208. 191. 181. 229. 179. 173. 253. 260. 262. 236.\n",
      " 256. 234. 254. 237. 195. 259. 239. 205. 213. 258. 274. 217. 210. 220.\n",
      " 248. 307. 221. 233. 276. 225. 311. 264. 312. 204. 227. 290. 250. 182.\n",
      " 270. 198. 282. 257. 291. 269. 286. 240. 266. 271. 277. 328. 231. 268.\n",
      " 247. 273. 300. 301. 267. 244. 167. 306. 293. 294. 272. 322. 295. 252.\n",
      " 170. 226. 246. 255. 265. 317. 292. 324. 327. 356. 309. 305. 281. 263.\n",
      " 284. 251. 285. 243. 325. 245. 345. 360. 348. 346. 316. 315. 330. 347.\n",
      " 373. 361. 242. 354. 363. 334. 335. 336. 261. 343. 338. 289. 339. 342.\n",
      " 184. 337. 364. 365. 303. 288. 355. 279. 318. 216. 287. 319. 329. 296.\n",
      " 362. 344. 351. 358. 372. 320. 349. 308. 326. 278. 332. 331. 341. 353.\n",
      " 367. 374. 359. 313. 352.]\n",
      "arrival_date_year [2015 2016]\n",
      "arrival_date_month ['July' 'August' 'September' 'October' 'November' 'December' 'January'\n",
      " 'February' 'March' 'April' 'May' 'June']\n",
      "arrival_date_week_number [27 28 29 30 31 32 33 34 35 36 37 38 39 40 41 42 43 44 45 46 47 48 49 50\n",
      " 51 52 53  1  2  3  4  5  6  7  8  9 10 11 12 13 14 15 16 17 18 19 20 21\n",
      " 22 23 24 25 26]\n",
      "arrival_date_day_of_month [ 1  2  3  4  5  6  7  8  9 10 11 12 13 14 15 16 17 18 19 20 21 22 23 24\n",
      " 25 26 27 28 29 30 31]\n",
      "stays_in_weekend_nights [0 2 1 4 3]\n",
      "stays_in_week_nights [1 2 3 4 5 6 0]\n",
      "adults [1. 2. 3. 4. 0.]\n",
      "children [0. 1. 2. 3.]\n",
      "babies [ 0.  1.  2. 10.  9.]\n",
      "meal ['BB       ' 'FB       ' 'HB       ' 'SC       ' 'SC']\n",
      "country ['GBR' 'PRT' 'ESP' 'IRL' 'FRA' 'ROU' 'NOR' 'USA' 'DEU' 'BEL' 'CHE' 'CN'\n",
      " 'GRC' 'NLD' 'ARG' 'RUS' 'SWE' 'POL' 'EST' 'CZE' 'ITA' 'FIN' 'DNK' 'MOZ'\n",
      " 'BWA' 'LUX' 'BRA' 'SVN' 'ALB' 'CHN' 'MEX' 'MAR' 'SMR' 'LVA' 'CHL' 'AUT'\n",
      " 'LTU' 'TUR' 'ISR' 'IND' 'CYM' 'AUS' 'CPV' 'ZWE' 'DZA' 'KOR' 'CRI' 'HUN'\n",
      " 'TUN' 'ARE' 'HRV' 'HKG' 'IRN' 'GIB' 'JEY' 'URY' 'ZAF' 'COL' 'GGY' 'KWT'\n",
      " 'CYP' 'KAZ' 'THA' 'DOM' 'NGA' 'BLR' 'VEN' 'UKR' 'ARM' 'JPN' 'LKA' 'MYS'\n",
      " 'BIH' 'MUS' 'OMN' 'SUR' 'JAM' 'BGR' 'CIV' 'SRB' 'JOR' 'SYR' 'PHL' 'PRI'\n",
      " 'SGP' 'BDI' 'LBN' 'AGO' 'VNM' 'AZE' 'PLW' 'NZL' 'EGY' 'MDV' 'CMR' 'MLT'\n",
      " 'SVK' 'MWI' 'STP' 'TWN' 'IDN' 'SEN' 'PER' 'SAU' 'KNA' 'ETH' 'ECU' 'IRQ'\n",
      " 'AND' 'HND' 'PAK' 'GEO' 'ZMB' 'QAT' 'KHM' 'MCO' 'BGD' 'ISL' 'UZB' 'IMN'\n",
      " 'TJK' 'NIC' 'BEN' 'MAC' 'VGB' 'TZA' 'GAB' 'MKD' 'TMP' 'GLP' 'KEN' 'LIE'\n",
      " 'MMR' 'PAN' 'BFA' 'LBY' 'GNB' 'MLI' 'BHR' 'NAM' 'BOL' 'SYC' 'PRY' 'BRB'\n",
      " 'ABW' 'SLV' 'DMA' 'CUB' 'PYF' 'UGA' 'GUY' 'LCA' 'ATA' 'RWA' 'MNE']\n",
      "distribution_channel ['Direct' 'TA/TO' 'Corporate' 'GDS']\n",
      "is_repeated_guest [0 1]\n",
      "previous_cancellations [ 0  1  2  3 26 25 14 24 19  4  5 21  6 13 11]\n",
      "previous_bookings_not_canceled [ 0  1  2  3  4  5  6 10 12 13 15 21  7  9  8 11 14 18 22 16 17 19 20 23\n",
      " 24 26 27 28 29 30 31 32 33 34 35 36 37 38 39 40 41 42 43 44 45 47 48 49\n",
      " 50 51 52 53 54 55 56 57 58 25]\n",
      "reserved_room_type ['A               ' 'C               ' 'D               '\n",
      " 'E               ' 'G               ' 'F               '\n",
      " 'B               ']\n",
      "booking_changes [ 0  1  3  2  4  5  6 10 16  7  9 13  8 14 15 17]\n",
      "days_in_waiting_list [  0  50  47  65 122  75 101 150 125  22 142   2  13  44  38  48  33  77\n",
      "  21  80  59  40  58  89  53  49  60  69  87  91  57  99 111  79  98  85\n",
      "  63  15   3  20  93   4  41  34 224  31  39  56 187 176  71  55  96 236\n",
      " 259 207 215 160 120  30  32  27  62  24 108 147   5  14 107  70   8  35\n",
      " 178 174 162  68  11 193  10  76  17  45   6  19  28  42  25  46   9   1\n",
      "  43  72  12  61  81  74 167]\n",
      "customer_type ['Transient' 'Contract' 'Transient-Party' 'Group']\n",
      "required_car_parking_spaces [0 1 2 3]\n",
      "total_of_special_requests [0 1 3 2 4 5]\n",
      "total_nights [ 1  2  3  4  6  7  5  8 10  9]\n"
     ]
    }
   ],
   "source": [
    "for i in df_train:\n",
    "    print(i, df_train[i].unique())"
   ]
  },
  {
   "cell_type": "markdown",
   "metadata": {},
   "source": [
    "В столбцах reserved_room_type и meal есть лишние пробелы - удалим их."
   ]
  },
  {
   "cell_type": "code",
   "execution_count": 5,
   "metadata": {},
   "outputs": [],
   "source": [
    "df_train['reserved_room_type'] = df_train['reserved_room_type'].str.strip()\n",
    "df_test['reserved_room_type'] = df_test['reserved_room_type'].str.strip()\n",
    "\n",
    "df_train['meal'] = df_train['meal'].str.strip()\n",
    "df_test['meal'] = df_test['meal'].str.strip()"
   ]
  },
  {
   "cell_type": "markdown",
   "metadata": {},
   "source": [
    "<div class=\"alert alert-block alert-success\">\n",
    "<b>Комментарий ревьюера:</b>\n",
    "\n",
    "<b>✅«Отлично»:</b> Молодец, что обнаружил данный момент и поправил его."
   ]
  },
  {
   "cell_type": "markdown",
   "metadata": {},
   "source": [
    "Следующие столбцы также стоит проверить:\n",
    "\n",
    "adults - как значение может быть 0, если бронировать могут только взрослые?\n",
    "\n",
    "babies - 9 & 10, при этом от 2 до 9 нет значений, скорее всего 9 и 10 просто ошибка.\n",
    "\n",
    "previous_cancellations - слишком много отказов.\n",
    "\n",
    "previous_bookings_not_canceled - слишком много посещений.\n",
    "\n",
    "booking_changes - слишком много изменений.\n",
    "\n",
    "Рассмотрим их."
   ]
  },
  {
   "cell_type": "markdown",
   "metadata": {},
   "source": [
    "1) Удалим строки 0 из столбца adults."
   ]
  },
  {
   "cell_type": "code",
   "execution_count": 6,
   "metadata": {},
   "outputs": [
    {
     "name": "stdout",
     "output_type": "stream",
     "text": [
      "166\n",
      "69\n"
     ]
    }
   ],
   "source": [
    "print(df_train.query('adults == 0').shape[0])\n",
    "print(df_test.query('adults == 0').shape[0])"
   ]
  },
  {
   "cell_type": "markdown",
   "metadata": {},
   "source": [
    "Аномалий немного, можно удалять."
   ]
  },
  {
   "cell_type": "code",
   "execution_count": 7,
   "metadata": {},
   "outputs": [],
   "source": [
    "df_train.drop(df_train.query('adults == 0').index, inplace=True)\n",
    "df_test.drop(df_test.query('adults == 0').index, inplace=True)"
   ]
  },
  {
   "cell_type": "markdown",
   "metadata": {},
   "source": [
    "2) Удалим строки > 2 из столбца babies."
   ]
  },
  {
   "cell_type": "code",
   "execution_count": 8,
   "metadata": {
    "scrolled": false
   },
   "outputs": [
    {
     "name": "stdout",
     "output_type": "stream",
     "text": [
      "2\n",
      "0\n"
     ]
    }
   ],
   "source": [
    "print(df_train.query('babies > 2').shape[0])\n",
    "print(df_test.query('babies > 2').shape[0])"
   ]
  },
  {
   "cell_type": "markdown",
   "metadata": {},
   "source": [
    "Всего 2 аномальных значения в train, спокойно удалим."
   ]
  },
  {
   "cell_type": "code",
   "execution_count": 9,
   "metadata": {},
   "outputs": [],
   "source": [
    "df_train.drop(df_train[df_train['babies'] > 2].index, inplace=True)\n",
    "df_test.drop(df_test[df_test['babies'] > 2].index, inplace=True)"
   ]
  },
  {
   "cell_type": "markdown",
   "metadata": {},
   "source": [
    "<div class=\"alert alert-block alert-danger\">\n",
    "<b>Комментарий ревьюера:</b>\n",
    "\n",
    "<b>⛔️«Надо исправить»:</b> Перед удалением данных аномалий как миинимум стоит посмотреть сколько у нас таких значений. \n",
    "Если аномалий много, то можно попробовать их обработать, а не удалять, т.е., напрмиер, заменить на медианное или среднее значение."
   ]
  },
  {
   "cell_type": "markdown",
   "metadata": {},
   "source": [
    "<div class=\"alert alert-block alert-info\">\n",
    "<b>Комментарий студента:</b> Исправлено."
   ]
  },
  {
   "cell_type": "markdown",
   "metadata": {},
   "source": [
    "<div class=\"alert alert-block alert-success\">\n",
    "<b>Комментарий ревьюера v2:</b>\n",
    "\n",
    "<b>✅«Отлично»:</b> 👍"
   ]
  },
  {
   "cell_type": "markdown",
   "metadata": {},
   "source": [
    "3) Проверим столбцы:\n",
    "\n",
    "previous_cancellations\n",
    "\n",
    "previous_bookings_not_canceled\n",
    "\n",
    "booking_changes"
   ]
  },
  {
   "cell_type": "code",
   "execution_count": 10,
   "metadata": {
    "scrolled": false
   },
   "outputs": [
    {
     "data": {
      "image/png": "[encoded data removed]",
      "text/plain": [
       "<Figure size 1152x648 with 1 Axes>"
      ]
     },
     "metadata": {
      "needs_background": "light"
     },
     "output_type": "display_data"
    }
   ],
   "source": [
    "plot = df_train.plot(y='previous_cancellations', kind='hist',\n",
    "                                 figsize=(16, 9), grid=True, alpha=1, bins=100,\n",
    "                                 title='Количество отмен')\n",
    "\n",
    "plot.set_xlabel('Количество отмен')\n",
    "plot.set_ylabel('Количество пользователей')\n",
    "plot.legend([\"Количество пользователей\"], loc='upper left')\n",
    "plt.show()"
   ]
  },
  {
   "cell_type": "markdown",
   "metadata": {},
   "source": [
    "<div class=\"alert alert-warning\" role=\"alert\">\n",
    "<b>Комментарий ревьюера:</b>\n",
    "\n",
    "<b>⚠️«Можно лучше»: </b> \n",
    "Данную проверку удобнее делать с помощью ящика с усами"
   ]
  },
  {
   "cell_type": "markdown",
   "metadata": {},
   "source": [
    "<div class=\"alert alert-block alert-danger\">\n",
    "<b>Комментарий ревьюера:</b>\n",
    "\n",
    "<b>⛔️«Надо исправить»:</b> Здесь и далее анализируешь данные только на основе обучающей выборке, стоит посмотерть, что там в test"
   ]
  },
  {
   "cell_type": "markdown",
   "metadata": {},
   "source": [
    "<div class=\"alert alert-block alert-info\">\n",
    "<b>Комментарий студента:</b> Исправлено.\n",
    "</div>"
   ]
  },
  {
   "cell_type": "markdown",
   "metadata": {},
   "source": [
    "<div class=\"alert alert-block alert-success\">\n",
    "<b>Комментарий ревьюера v2:</b>\n",
    "\n",
    "<b>✅«Отлично»:</b> 👍"
   ]
  },
  {
   "cell_type": "code",
   "execution_count": 11,
   "metadata": {
    "scrolled": false
   },
   "outputs": [
    {
     "name": "stdout",
     "output_type": "stream",
     "text": [
      "id [ 6086  6087  6088 ... 97901 97902 97903]\n",
      "is_canceled [1 0]\n",
      "lead_time [ 74.  62.  71. 172.  52. 143.  21.  89.  48.  31.  20. 173.  23.  46.\n",
      " 149.  44.  68.   6.  43. 112.  59.  93.   4. 115. 187.  11.   2.  15.\n",
      "  66. 113. 125. 161. 154.   1.   0.  35.  37.  60. 129.  78.  10.  82.\n",
      "   8.  22.  33. 108.  87. 106.  45.  40.  17.   5.  16.   3.  41. 135.\n",
      " 123. 128.  47.  12. 124. 160.  58.  65. 281.  24.  30.  27.   9.  94.\n",
      " 219.  84.  79.  72.  36. 292. 186.  85. 169. 166.  28.  83. 111.  54.\n",
      " 200.  80. 102.  95. 170. 307. 298.  55.  77.  32.  25. 238.   7.  19.\n",
      " 211. 137.  39.  18. 206.  42. 179. 205. 142.  38.  92.  56.  29. 119.\n",
      "  73. 320.  34. 127.  69.  13. 140.  14. 164.  51.  70. 120.  76. 105.\n",
      "  50. 191.  26.  75. 116. 184.  53.  49.  63. 194. 167. 312. 171. 218.\n",
      "  86. 100. 146.  64. 148.  81.  88.  57. 339. 332. 133. 208.  61. 177.\n",
      " 157. 278. 285. 210. 232. 139. 134. 204. 201. 216. 340. 350. 214. 226.\n",
      " 273. 103. 136. 176. 180. 192. 175. 145. 162. 174. 117. 255. 364. 121.\n",
      " 240. 152. 252. 223. 155. 351. 313. 233. 212. 188. 217. 220. 141. 203.\n",
      " 153. 246. 261.  90. 230. 159. 224.  98. 229. 272. 267. 239. 158. 132.\n",
      " 131. 221. 104. 144. 126. 228. 287.  96. 213. 296. 234.  67. 253. 266.\n",
      " 245. 225. 302. 215. 109. 251. 243. 308. 209. 237. 202. 183. 295. 227.\n",
      " 319. 257. 156. 231. 303. 288. 150. 189. 338. 101. 305. 284. 258. 322.\n",
      " 107. 178. 333. 165. 262. 207. 300. 263. 259. 280. 317. 352. 297. 355.\n",
      " 311. 337. 198. 222. 247. 289. 314. 279. 138. 309. 241. 264.  99. 274.\n",
      " 323. 310. 326. 318. 321.  91. 304. 122. 193. 114. 130.  97. 151. 110.\n",
      " 254. 250. 248. 368. 331. 277. 147. 244. 282. 294. 336. 325. 275. 163.\n",
      " 330. 196. 353. 197. 268. 271. 269. 270. 345. 334. 168. 256. 181. 118.\n",
      " 182. 372. 195. 335. 199. 358. 357. 329. 328. 265. 306. 291. 342. 315.\n",
      " 301. 344. 327. 236. 185. 190. 276. 290. 260. 361. 286. 299. 249. 347.\n",
      " 283. 293. 316. 349. 356. 359. 242. 235. 346. 348. 373. 324. 366. 365.\n",
      " 341. 354. 343. 367.]\n",
      "arrival_date_year [2017]\n",
      "arrival_date_month ['January' 'February' 'March' 'April' 'May' 'June' 'July' 'August']\n",
      "arrival_date_week_number [ 1  2  3  4  5  6  7  8  9 10 11 12 13 14 15 16 17 18 19 20 21 22 23 24\n",
      " 25 26 27 28 29 30 31 32 33 34 35]\n",
      "arrival_date_day_of_month [ 1  2  3  4  5  6  7  8  9 11 12 13 14 16 17 19 20 21 22 23 24 25 26 27\n",
      " 28 29 30 31 10 15 18]\n",
      "stays_in_weekend_nights [1 2 0 4 3]\n",
      "stays_in_week_nights [0 2 5 1 3 4 6]\n",
      "adults [2. 1. 3. 4.]\n",
      "children [0. 2. 1. 3.]\n",
      "babies [0. 1. 2.]\n",
      "meal ['BB' 'HB' 'SC' 'FB']\n",
      "country ['PRT' 'AUT' 'BEL' 'DEU' 'BRA' 'GBR' 'ESP' 'FRA' 'ITA' 'LUX' 'CHE' 'EST'\n",
      " 'NGA' 'IRL' 'CN' 'POL' 'AUS' 'NLD' 'KOR' 'ROU' 'USA' 'CHL' 'DNK' 'FIN'\n",
      " 'RUS' 'SWE' 'HUN' 'HRV' 'MDV' 'ZAF' 'ISR' 'NOR' 'CHN' 'ARE' 'MAR' 'COL'\n",
      " 'FJI' 'LVA' 'LBN' 'PHL' 'HKG' 'SYC' 'GIB' 'AGO' 'MYS' 'MDG' 'IDN' 'LTU'\n",
      " 'ISL' 'TUR' 'ARG' 'JPN' 'SVN' 'SVK' 'BGR' 'CAF' 'JAM' 'UZB' 'UKR' 'IND'\n",
      " 'CZE' 'URY' 'NZL' 'NPL' 'SRB' 'CPV' 'IRN' 'KAZ' 'BHS' 'SUR' 'CUB' 'PAK'\n",
      " 'MAC' 'CYP' 'JOR' 'GRC' 'KWT' 'TWN' 'VNM' 'SGP' 'DOM' 'VEN' 'SEN' 'BLR'\n",
      " 'TZA' 'LIE' 'GNB' 'SAU' 'DZA' 'PER' 'AZE' 'EGY' 'ETH' 'KEN' 'THA' 'MLT'\n",
      " 'ECU' 'AND' 'IMN' 'BHR' 'TUN' 'MNE' 'MEX' 'BEN' 'MOZ' 'UMI' 'JEY' 'MYT'\n",
      " 'QAT' 'BGD' 'GAB' 'CIV' 'ZWE' 'GTM' 'ALB' 'GHA' 'ATA' 'ASM' 'PAN' 'CRI'\n",
      " 'MCO' 'MUS' 'SYR' 'TGO' 'IRQ' 'LKA' 'BIH' 'PRY' 'MRT' 'ABW' 'NCL' 'STP'\n",
      " 'KIR' 'SDN' 'PRI' 'ATF' 'CMR' 'TJK' 'LBY' 'SLE' 'SLV' 'LAO' 'FRO']\n",
      "distribution_channel ['TA/TO' 'Direct' 'Corporate' 'GDS']\n",
      "is_repeated_guest [0 1]\n",
      "previous_cancellations [0 1 2 3 4 5 6]\n",
      "previous_bookings_not_canceled [ 0  3  2  5  6  7  8 10 11 12  4  1  9 25 27 28 30 13 14 23 24 26 16 15\n",
      " 17 18 58 59 60 61 62 63 64 65 66 67 68 69 70 71 72 19 29 20 21 22]\n",
      "reserved_room_type ['A' 'E' 'G' 'D' 'F' 'C' 'B']\n",
      "booking_changes [ 0  1  2  3  4  6  5  7 18 15 16 14  8 11 10]\n",
      "days_in_waiting_list [  0  14  60 100 121  61   5   1 107  43 122  83   4 113  18  20 185  93\n",
      " 109  34   6  13   8 154  64  99  76  16  22  28  21   9 165   2  44  17\n",
      "  53  38  50 111  25  46   7  47  27  49  84  30 175 183  39  56  31  10\n",
      "  15  23  63  33  32  11  35 117  57  12  80  71  54  59  26  73 223 105\n",
      "  65  36  98]\n",
      "customer_type ['Transient' 'Transient-Party' 'Contract' 'Group']\n",
      "required_car_parking_spaces [0 1 2 8 3]\n",
      "total_of_special_requests [0 1 2 3 4 5]\n",
      "total_nights [ 1  4  7  2  5  6  3  8  9 10]\n"
     ]
    }
   ],
   "source": [
    "for i in df_test:\n",
    "    print(i, df_test[i].unique())"
   ]
  },
  {
   "cell_type": "markdown",
   "metadata": {},
   "source": [
    "8 - слишком много парковочных мест, посмотрим что тут:"
   ]
  },
  {
   "cell_type": "code",
   "execution_count": 12,
   "metadata": {},
   "outputs": [
    {
     "name": "stdout",
     "output_type": "stream",
     "text": [
      "2\n"
     ]
    }
   ],
   "source": [
    "print(df_test.query('required_car_parking_spaces > 3').shape[0])"
   ]
  },
  {
   "cell_type": "markdown",
   "metadata": {},
   "source": [
    "Удаляем."
   ]
  },
  {
   "cell_type": "code",
   "execution_count": 13,
   "metadata": {},
   "outputs": [],
   "source": [
    "df_test.drop(df_test[df_test['required_car_parking_spaces'] > 3].index, inplace=True)"
   ]
  },
  {
   "cell_type": "code",
   "execution_count": 14,
   "metadata": {},
   "outputs": [
    {
     "data": {
      "image/png": "[encoded data removed]",
      "text/plain": [
       "<Figure size 1152x648 with 1 Axes>"
      ]
     },
     "metadata": {
      "needs_background": "light"
     },
     "output_type": "display_data"
    }
   ],
   "source": [
    "plot = df_test.plot(y='previous_cancellations', kind='hist',\n",
    "                                 figsize=(16, 9), grid=True, alpha=1, bins=100,\n",
    "                                 title='Количество отмен')\n",
    "\n",
    "plot.set_xlabel('Количество отмен')\n",
    "plot.set_ylabel('Количество пользователей')\n",
    "plot.legend([\"Количество пользователей\"], loc='upper left')\n",
    "plt.show()"
   ]
  },
  {
   "cell_type": "markdown",
   "metadata": {},
   "source": [
    "Значения больше 5 можно вообще не считать."
   ]
  },
  {
   "cell_type": "code",
   "execution_count": 15,
   "metadata": {},
   "outputs": [],
   "source": [
    "df_train.drop(df_train[df_train['previous_cancellations'] > 5].index, inplace=True)\n",
    "df_test.drop(df_test[df_test['previous_cancellations'] > 5].index, inplace=True)"
   ]
  },
  {
   "cell_type": "code",
   "execution_count": 16,
   "metadata": {
    "scrolled": false
   },
   "outputs": [
    {
     "data": {
      "image/png": "[encoded data removed]",
      "text/plain": [
       "<Figure size 1152x648 with 1 Axes>"
      ]
     },
     "metadata": {
      "needs_background": "light"
     },
     "output_type": "display_data"
    }
   ],
   "source": [
    "plot = df_train.plot(y='previous_bookings_not_canceled', kind='hist',\n",
    "                                 figsize=(16, 9), grid=True, alpha=1, bins=100,\n",
    "                                 title='Количество подтверждённых заказов')\n",
    "\n",
    "plot.set_xlabel('Количество подтверждённых заказов')\n",
    "plot.set_ylabel('Количество пользователей')\n",
    "plot.legend([\"Количество пользователей\"], loc='upper left')\n",
    "plt.show()"
   ]
  },
  {
   "cell_type": "code",
   "execution_count": 17,
   "metadata": {},
   "outputs": [
    {
     "data": {
      "image/png": "[encoded data removed]",
      "text/plain": [
       "<Figure size 1152x648 with 1 Axes>"
      ]
     },
     "metadata": {
      "needs_background": "light"
     },
     "output_type": "display_data"
    }
   ],
   "source": [
    "plot = df_test.plot(y='previous_bookings_not_canceled', kind='hist',\n",
    "                                 figsize=(16, 9), grid=True, alpha=1, bins=100,\n",
    "                                 title='Количество подтверждённых заказов')\n",
    "\n",
    "plot.set_xlabel('Количество подтверждённых заказов')\n",
    "plot.set_ylabel('Количество пользователей')\n",
    "plot.legend([\"Количество пользователей\"], loc='upper left')\n",
    "plt.show()"
   ]
  },
  {
   "cell_type": "markdown",
   "metadata": {},
   "source": [
    "Ограничимся значениями до 10."
   ]
  },
  {
   "cell_type": "code",
   "execution_count": 18,
   "metadata": {},
   "outputs": [],
   "source": [
    "df_train.drop(df_train[df_train['previous_bookings_not_canceled'] > 10].index, inplace=True)\n",
    "df_test.drop(df_test[df_test['previous_bookings_not_canceled'] > 10].index, inplace=True)"
   ]
  },
  {
   "cell_type": "code",
   "execution_count": 19,
   "metadata": {
    "scrolled": false
   },
   "outputs": [
    {
     "data": {
      "image/png": "[encoded data removed]",
      "text/plain": [
       "<Figure size 1152x648 with 1 Axes>"
      ]
     },
     "metadata": {
      "needs_background": "light"
     },
     "output_type": "display_data"
    }
   ],
   "source": [
    "plot = df_train.plot(y='booking_changes', kind='hist',\n",
    "                                 figsize=(16, 9), grid=True, alpha=1, bins=100,\n",
    "                                 title='Количество изменений')\n",
    "\n",
    "plot.set_xlabel('Количество изменений')\n",
    "plot.set_ylabel('Количество пользователей')\n",
    "plot.legend([\"Количество пользователей\"], loc='upper left')\n",
    "plt.show()"
   ]
  },
  {
   "cell_type": "code",
   "execution_count": 20,
   "metadata": {},
   "outputs": [
    {
     "data": {
      "image/png": "[encoded data removed]",
      "text/plain": [
       "<Figure size 1152x648 with 1 Axes>"
      ]
     },
     "metadata": {
      "needs_background": "light"
     },
     "output_type": "display_data"
    }
   ],
   "source": [
    "plot = df_test.plot(y='booking_changes', kind='hist',\n",
    "                                 figsize=(16, 9), grid=True, alpha=1, bins=100,\n",
    "                                 title='Количество изменений')\n",
    "\n",
    "plot.set_xlabel('Количество изменений')\n",
    "plot.set_ylabel('Количество пользователей')\n",
    "plot.legend([\"Количество пользователей\"], loc='upper left')\n",
    "plt.show()"
   ]
  },
  {
   "cell_type": "markdown",
   "metadata": {},
   "source": [
    "Изменений больше чем 6 уже можно не считать."
   ]
  },
  {
   "cell_type": "code",
   "execution_count": 21,
   "metadata": {},
   "outputs": [],
   "source": [
    "df_train.drop(df_train[df_train['booking_changes'] > 6].index, inplace=True)\n",
    "df_test.drop(df_test[df_test['booking_changes'] > 6].index, inplace=True)"
   ]
  },
  {
   "cell_type": "markdown",
   "metadata": {},
   "source": [
    "Удалим столбец id, т.к. он не имеет значения."
   ]
  },
  {
   "cell_type": "markdown",
   "metadata": {},
   "source": [
    "<div class=\"alert alert-warning\" role=\"alert\">\n",
    "<b>Комментарий ревьюера:</b>\n",
    "\n",
    "<b>⚠️«Можно лучше»: </b> \n",
    "Перед его удалением можно выполнить проверку нет ли у нас в датасете дубликатов по данному столбцу"
   ]
  },
  {
   "cell_type": "code",
   "execution_count": 22,
   "metadata": {},
   "outputs": [],
   "source": [
    "df_train.drop(columns='id', inplace=True)\n",
    "df_test.drop(columns='id', inplace=True)"
   ]
  },
  {
   "cell_type": "markdown",
   "metadata": {},
   "source": [
    "Проверим, есть ли в данных дубликаты."
   ]
  },
  {
   "cell_type": "code",
   "execution_count": 23,
   "metadata": {
    "scrolled": true
   },
   "outputs": [
    {
     "name": "stdout",
     "output_type": "stream",
     "text": [
      "False    43474\n",
      "True     21266\n",
      "dtype: int64\n",
      "False    24480\n",
      "True      7713\n",
      "dtype: int64\n"
     ]
    }
   ],
   "source": [
    "print(df_train.duplicated().value_counts())\n",
    "print(df_test.duplicated().value_counts())"
   ]
  },
  {
   "cell_type": "markdown",
   "metadata": {},
   "source": [
    "Много дубликатов, однако с ними ничего не получится сделать, т.к. понять причину их появления невозможно, поэтому отбросим их."
   ]
  },
  {
   "cell_type": "code",
   "execution_count": 24,
   "metadata": {},
   "outputs": [],
   "source": [
    "df_train.drop_duplicates(inplace=True, ignore_index=True)\n",
    "df_test.drop_duplicates(inplace=True, ignore_index=True)"
   ]
  },
  {
   "cell_type": "markdown",
   "metadata": {},
   "source": [
    "<div class=\"alert alert-block alert-success\">\n",
    "<b> Комментарий ревьюера:</b>\n",
    "\n",
    "<b>✅«Отлично»:</b> Молодец, что избавился от дубликатов"
   ]
  },
  {
   "cell_type": "markdown",
   "metadata": {},
   "source": [
    "#### Вывод\n",
    "\n",
    "Проверили данные на артефакты, дубликаты, пропуски и возможные ошибки. Хочется отменить большое количество дубликатов, остальное можно принять за погрешность."
   ]
  },
  {
   "cell_type": "markdown",
   "metadata": {},
   "source": [
    "<div class=\"alert alert-warning\" role=\"alert\">\n",
    "<b>Комментарий ревьюера:</b>\n",
    "\n",
    "<b>⚠️«Можно лучше»: </b> \n",
    "* Было бы здорово посмотреть как влияют на таргет все признаки, возможно есть смысл преобразовать некоторые из них.\n",
    "* Рекомендую всегда, когда мы имеем дело с задачей классификации оценивать баланс классов"
   ]
  },
  {
   "cell_type": "markdown",
   "metadata": {},
   "source": [
    "<div class=\"alert alert-block alert-danger\">\n",
    "<b>Комментарий ревьюера:</b>\n",
    "\n",
    "<b>⛔️«Надо исправить»:</b>     \n",
    "Так как далее ты используешь логистическую регрессию, то для нее важно избавиться от зависимых признаков, т.е. обязательно нужно оценить мультиколлинеарность признаков."
   ]
  },
  {
   "cell_type": "markdown",
   "metadata": {},
   "source": [
    "<div class=\"alert alert-block alert-info\">\n",
    "<b>Комментарий студента:</b> Исправлено."
   ]
  },
  {
   "cell_type": "markdown",
   "metadata": {},
   "source": [
    "<div class=\"alert alert-warning\" role=\"alert\">\n",
    "<b>Комментарий ревьюера v2:</b>\n",
    "\n",
    "<b>⚠️«Можно лучше»: </b> \n",
    "Молодец, что знаешь про variance_inflation_factor. Но если оценить мультиколлинеарность и вывести ее результаты на тепловую карту, то можно заметить, что лучше удалить признак `total_nights и что именно он коррелирует с двумя другими признаками.\n",
    "    \n",
    "По корреляциям советую почитать <a href='https://github.com/hukenovs/coursera_ml_da_specialization/blob/master/C4_Stats_for_data_analysis/Lectures/3-2.Korrelyacii.pdf'>конспект из специализации Яндекса и МФТИ с Coursera</a>.\n",
    "        \n",
    "Для цели оценки мультиколлинеарности рекомендую библиотеку [Phik](https://pypi.org/project/phik/) - она позволяет легко рассчитать корреляцию и числовых и бинарных и категориальных признаков"
   ]
  },
  {
   "cell_type": "code",
   "execution_count": 25,
   "metadata": {},
   "outputs": [
    {
     "name": "stderr",
     "output_type": "stream",
     "text": [
      "/opt/conda/lib/python3.9/site-packages/statsmodels/stats/outliers_influence.py:195: RuntimeWarning: divide by zero encountered in double_scalars\n",
      "  vif = 1. / (1. - r_squared_i)\n"
     ]
    },
    {
     "data": {
      "text/plain": [
       "is_canceled                       1.530297\n",
       "lead_time                         2.296922\n",
       "arrival_date_week_number          5.199757\n",
       "arrival_date_day_of_month         3.862442\n",
       "stays_in_weekend_nights                inf\n",
       "stays_in_week_nights                   inf\n",
       "adults                            8.341493\n",
       "children                          1.084978\n",
       "babies                            1.034103\n",
       "is_repeated_guest                 1.856298\n",
       "previous_cancellations            1.134411\n",
       "previous_bookings_not_canceled    1.829632\n",
       "booking_changes                   1.186376\n",
       "days_in_waiting_list              1.045176\n",
       "required_car_parking_spaces       1.131543\n",
       "total_of_special_requests         1.860581\n",
       "total_nights                           inf\n",
       "dtype: float64"
      ]
     },
     "execution_count": 25,
     "metadata": {},
     "output_type": "execute_result"
    }
   ],
   "source": [
    "numeric = list(df_train.select_dtypes('number').columns)\n",
    "numeric.remove('arrival_date_year')\n",
    "\n",
    "pd.Series(\n",
    "    [variance_inflation_factor(df_train[numeric].values, i) for i in range(df_train[numeric].shape[1])],\n",
    "    index=df_train[numeric].columns\n",
    ")"
   ]
  },
  {
   "cell_type": "code",
   "execution_count": 26,
   "metadata": {
    "scrolled": true
   },
   "outputs": [
    {
     "data": {
      "text/plain": [
       "is_canceled                       1.625557\n",
       "lead_time                         2.869085\n",
       "arrival_date_week_number          5.051983\n",
       "arrival_date_day_of_month         3.773697\n",
       "stays_in_weekend_nights                inf\n",
       "stays_in_week_nights                   inf\n",
       "adults                            8.400323\n",
       "children                          1.087566\n",
       "babies                            1.022886\n",
       "is_repeated_guest                 1.905644\n",
       "previous_cancellations            1.301321\n",
       "previous_bookings_not_canceled    2.213335\n",
       "booking_changes                   1.163681\n",
       "days_in_waiting_list              1.016113\n",
       "required_car_parking_spaces       1.107972\n",
       "total_of_special_requests         1.847808\n",
       "total_nights                           inf\n",
       "dtype: float64"
      ]
     },
     "execution_count": 26,
     "metadata": {},
     "output_type": "execute_result"
    }
   ],
   "source": [
    "numeric = list(df_test.select_dtypes('number').columns)\n",
    "numeric.remove('arrival_date_year')\n",
    "\n",
    "pd.Series(\n",
    "    [variance_inflation_factor(df_test[numeric].values, i) for i in range(df_test[numeric].shape[1])],\n",
    "    index=df_test[numeric].columns\n",
    ")"
   ]
  },
  {
   "cell_type": "markdown",
   "metadata": {},
   "source": [
    "В обоих датафреймах мультиколлинеарными столбцами являются столбцы stays_in_week_nights, stays_in_weekend_nights и total_nights. Удалим один из их. Столбец adults также имеец высокий фактор, но зависимость от других столбцов не установить."
   ]
  },
  {
   "cell_type": "code",
   "execution_count": 27,
   "metadata": {},
   "outputs": [],
   "source": [
    "df_train.drop(columns='stays_in_weekend_nights', inplace=True)\n",
    "df_test.drop(columns='stays_in_weekend_nights', inplace=True)"
   ]
  },
  {
   "cell_type": "markdown",
   "metadata": {},
   "source": [
    "Проверим:"
   ]
  },
  {
   "cell_type": "code",
   "execution_count": 28,
   "metadata": {},
   "outputs": [
    {
     "data": {
      "text/plain": [
       "is_canceled                        1.625557\n",
       "lead_time                          2.869085\n",
       "arrival_date_week_number           5.051983\n",
       "arrival_date_day_of_month          3.773697\n",
       "stays_in_week_nights              17.817412\n",
       "adults                             8.400323\n",
       "children                           1.087566\n",
       "babies                             1.022886\n",
       "is_repeated_guest                  1.905644\n",
       "previous_cancellations             1.301321\n",
       "previous_bookings_not_canceled     2.213335\n",
       "booking_changes                    1.163681\n",
       "days_in_waiting_list               1.016113\n",
       "required_car_parking_spaces        1.107972\n",
       "total_of_special_requests          1.847808\n",
       "total_nights                      20.417387\n",
       "dtype: float64"
      ]
     },
     "execution_count": 28,
     "metadata": {},
     "output_type": "execute_result"
    }
   ],
   "source": [
    "numeric = list(df_test.select_dtypes('number').columns)\n",
    "numeric.remove('arrival_date_year')\n",
    "\n",
    "pd.Series(\n",
    "    [variance_inflation_factor(df_test[numeric].values, i) for i in range(df_test[numeric].shape[1])],\n",
    "    index=df_test[numeric].columns\n",
    ")"
   ]
  },
  {
   "cell_type": "markdown",
   "metadata": {},
   "source": [
    "В целом хорошо, однако высокий фактор остался у total_nights и stays_in_week_nights, в случае чего последний можно удалить."
   ]
  },
  {
   "cell_type": "markdown",
   "metadata": {},
   "source": [
    "### Шаг 3. Формулировка ML-задачи на основе бизнес-задачи"
   ]
  },
  {
   "cell_type": "markdown",
   "metadata": {},
   "source": [
    "При помощи дополнительных данных оценим прибыль отеля без внедрения депозитов."
   ]
  },
  {
   "cell_type": "code",
   "execution_count": 29,
   "metadata": {},
   "outputs": [],
   "source": [
    "price = {\n",
    "    'A':[1000, 400],\n",
    "    'B':[800, 350],\n",
    "    'C':[600, 350],\n",
    "    'D':[550, 150],\n",
    "    'E':[500, 150],\n",
    "    'F':[450, 150],\n",
    "    'G':[350, 150]\n",
    "}\n",
    "\n",
    "season = {\n",
    "    'January':1,\n",
    "    'February':1,\n",
    "    'March':1.2,\n",
    "    'April':1.2,\n",
    "    'May':1.2,\n",
    "    'June':1.4,\n",
    "    'July':1.4,\n",
    "    'August':1.4,\n",
    "    'September':1.2,\n",
    "    'October':1.2,\n",
    "    'November':1.2,\n",
    "    'December':1    \n",
    "}\n",
    "\n",
    "def income(row):\n",
    "    cleanings = 1 + math.floor(row['total_nights'] / 2)\n",
    "    \n",
    "    if row['is_canceled'] == 1:\n",
    "        return -price[row['reserved_room_type']][0] * season[row['arrival_date_month']] - price[row['reserved_room_type']][1]\n",
    "    else:\n",
    "        return price[row['reserved_room_type']][0] * row['total_nights'] * season[row['arrival_date_month']] - price[row['reserved_room_type']][1] * cleanings\n",
    "        "
   ]
  },
  {
   "cell_type": "markdown",
   "metadata": {},
   "source": [
    "<div class=\"alert alert-block alert-danger\">\n",
    "<b>Комментарий ревьюера:</b>\n",
    "\n",
    "<b>⛔️«Надо исправить»:</b> Молодец, что рассчитал прибыль и убытки. В целом все хорошо, но есть погрешность в расчетах, смотри пример:\n",
    "Для любого срока бронирования есть одна уборка перед заселением постояльца, далее:<br>\n",
    "бронь 1 ночь, уборка не требуется, 1 + math.floor(1 / 2) = 1<br>\n",
    "бронь 2 ночи, убираться будут днем после первой ночи, 1 + math.floor(2 / 2) = 2<br>\n",
    "бронь 3 ночи, убираться будут днем после первой ночи, 1 + math.floor(3 / 2) = 2<br>\n",
    "бронь 4 ночи, убираться будут днем после первой ночи, днём после третьей ночи, 1 + math.floor(4 / 2) = 3<br>\n",
    "бронь 5 ночей, убираться будут днем после первой ночи, днём после третьей ночи, 1 + math.floor(5 / 2) = 3<br>\n",
    "и так далее.<br>\n",
    "Уборка после отъезда постояльцев — это и есть та подготовительная уборка перед заселением нового, с которой начался отсчёт.\n",
    "    \n",
    "Еще почему здесь:\n",
    "    \n",
    "    if row['is_canceled'] == 1:\n",
    "        return -price[row['reserved_room_type']][0] * season[row['arrival_date_month']] - price[row['reserved_room_type']][1]\n",
    "    \n",
    "    \n",
    "    price[row['reserved_room_type']][1] имеет отрицательный знак?"
   ]
  },
  {
   "cell_type": "markdown",
   "metadata": {},
   "source": [
    "<div class=\"alert alert-block alert-info\">\n",
    "<b>Комментарий студента:</b> Исправлено."
   ]
  },
  {
   "cell_type": "markdown",
   "metadata": {},
   "source": [
    "<div class=\"alert alert-block alert-success\">\n",
    "<b>Комментарий ревьюера v2:</b>\n",
    "\n",
    "<b>✅«Отлично»:</b> По округлению все верно. "
   ]
  },
  {
   "cell_type": "markdown",
   "metadata": {},
   "source": [
    "<div class=\"alert alert-block alert-danger\">\n",
    "<b>Комментарий ревьюера v2:</b>\n",
    "\n",
    "<b>⛔️«Надо исправить»:</b> Здесь\n",
    "    \n",
    "    if row['is_canceled'] == 1:\n",
    "        return -price[row['reserved_room_type']][0] * season[row['arrival_date_month']] - price[row['reserved_room_type']][1]\n",
    "все было верно.\n",
    "    \n",
    "Но вот тут:\n",
    "    \n",
    "    else:\n",
    "        return price[row['reserved_room_type']][0] * row['total_nights'] * season[row['arrival_date_month']] + price[row['reserved_room_type']][1] * cleanings\n",
    "        \n",
    "Есть ошибка. Я надеялся что подтолкну тебя на нее своим прошлым вопросом\n",
    "    \n",
    "    "
   ]
  },
  {
   "cell_type": "markdown",
   "metadata": {},
   "source": [
    "<div class=\"alert alert-block alert-info\">\n",
    "<b>Комментарий студента:</b> Не совсем понял как тут считается, минус стоял, потому что уборку я считал как убыль отеля, а не прибыль от клиента. Исправлено."
   ]
  },
  {
   "cell_type": "markdown",
   "metadata": {},
   "source": [
    "<div class=\"alert alert-block alert-success\">\n",
    "<b>Комментарий ревьюера v3:</b>\n",
    "\n",
    "<b>✅«Отлично»:</b> Теперь прибыль считается верно. "
   ]
  },
  {
   "cell_type": "code",
   "execution_count": 30,
   "metadata": {},
   "outputs": [],
   "source": [
    "import math"
   ]
  },
  {
   "cell_type": "code",
   "execution_count": 31,
   "metadata": {},
   "outputs": [],
   "source": [
    "df_train['income'] = df_train.apply(income, axis=1).astype('int32')\n",
    "df_test['income'] = df_test.apply(income, axis=1).astype('int32')"
   ]
  },
  {
   "cell_type": "code",
   "execution_count": 32,
   "metadata": {
    "scrolled": true
   },
   "outputs": [
    {
     "data": {
      "text/html": [
       "<div>\n",
       "<style scoped>\n",
       "    .dataframe tbody tr th:only-of-type {\n",
       "        vertical-align: middle;\n",
       "    }\n",
       "\n",
       "    .dataframe tbody tr th {\n",
       "        vertical-align: top;\n",
       "    }\n",
       "\n",
       "    .dataframe thead th {\n",
       "        text-align: right;\n",
       "    }\n",
       "</style>\n",
       "<table border=\"1\" class=\"dataframe\">\n",
       "  <thead>\n",
       "    <tr style=\"text-align: right;\">\n",
       "      <th></th>\n",
       "      <th>is_canceled</th>\n",
       "      <th>lead_time</th>\n",
       "      <th>arrival_date_year</th>\n",
       "      <th>arrival_date_month</th>\n",
       "      <th>arrival_date_week_number</th>\n",
       "      <th>arrival_date_day_of_month</th>\n",
       "      <th>stays_in_week_nights</th>\n",
       "      <th>adults</th>\n",
       "      <th>children</th>\n",
       "      <th>babies</th>\n",
       "      <th>...</th>\n",
       "      <th>previous_cancellations</th>\n",
       "      <th>previous_bookings_not_canceled</th>\n",
       "      <th>reserved_room_type</th>\n",
       "      <th>booking_changes</th>\n",
       "      <th>days_in_waiting_list</th>\n",
       "      <th>customer_type</th>\n",
       "      <th>required_car_parking_spaces</th>\n",
       "      <th>total_of_special_requests</th>\n",
       "      <th>total_nights</th>\n",
       "      <th>income</th>\n",
       "    </tr>\n",
       "  </thead>\n",
       "  <tbody>\n",
       "    <tr>\n",
       "      <th>26409</th>\n",
       "      <td>0</td>\n",
       "      <td>1.0</td>\n",
       "      <td>2015</td>\n",
       "      <td>November</td>\n",
       "      <td>46</td>\n",
       "      <td>14</td>\n",
       "      <td>1</td>\n",
       "      <td>1.0</td>\n",
       "      <td>0.0</td>\n",
       "      <td>0.0</td>\n",
       "      <td>...</td>\n",
       "      <td>0</td>\n",
       "      <td>0</td>\n",
       "      <td>A</td>\n",
       "      <td>0</td>\n",
       "      <td>0</td>\n",
       "      <td>Transient-Party</td>\n",
       "      <td>0</td>\n",
       "      <td>0</td>\n",
       "      <td>1</td>\n",
       "      <td>800</td>\n",
       "    </tr>\n",
       "    <tr>\n",
       "      <th>34584</th>\n",
       "      <td>0</td>\n",
       "      <td>160.0</td>\n",
       "      <td>2016</td>\n",
       "      <td>June</td>\n",
       "      <td>27</td>\n",
       "      <td>30</td>\n",
       "      <td>3</td>\n",
       "      <td>2.0</td>\n",
       "      <td>0.0</td>\n",
       "      <td>0.0</td>\n",
       "      <td>...</td>\n",
       "      <td>0</td>\n",
       "      <td>0</td>\n",
       "      <td>A</td>\n",
       "      <td>0</td>\n",
       "      <td>0</td>\n",
       "      <td>Transient</td>\n",
       "      <td>0</td>\n",
       "      <td>1</td>\n",
       "      <td>4</td>\n",
       "      <td>4400</td>\n",
       "    </tr>\n",
       "    <tr>\n",
       "      <th>43418</th>\n",
       "      <td>0</td>\n",
       "      <td>282.0</td>\n",
       "      <td>2016</td>\n",
       "      <td>December</td>\n",
       "      <td>53</td>\n",
       "      <td>29</td>\n",
       "      <td>3</td>\n",
       "      <td>2.0</td>\n",
       "      <td>0.0</td>\n",
       "      <td>0.0</td>\n",
       "      <td>...</td>\n",
       "      <td>0</td>\n",
       "      <td>0</td>\n",
       "      <td>A</td>\n",
       "      <td>0</td>\n",
       "      <td>0</td>\n",
       "      <td>Transient</td>\n",
       "      <td>0</td>\n",
       "      <td>1</td>\n",
       "      <td>4</td>\n",
       "      <td>2800</td>\n",
       "    </tr>\n",
       "    <tr>\n",
       "      <th>20961</th>\n",
       "      <td>1</td>\n",
       "      <td>156.0</td>\n",
       "      <td>2016</td>\n",
       "      <td>August</td>\n",
       "      <td>33</td>\n",
       "      <td>13</td>\n",
       "      <td>5</td>\n",
       "      <td>2.0</td>\n",
       "      <td>1.0</td>\n",
       "      <td>0.0</td>\n",
       "      <td>...</td>\n",
       "      <td>0</td>\n",
       "      <td>0</td>\n",
       "      <td>A</td>\n",
       "      <td>0</td>\n",
       "      <td>0</td>\n",
       "      <td>Transient</td>\n",
       "      <td>0</td>\n",
       "      <td>2</td>\n",
       "      <td>7</td>\n",
       "      <td>-1800</td>\n",
       "    </tr>\n",
       "  </tbody>\n",
       "</table>\n",
       "<p>4 rows × 24 columns</p>\n",
       "</div>"
      ],
      "text/plain": [
       "       is_canceled  lead_time  arrival_date_year arrival_date_month  \\\n",
       "26409            0        1.0               2015           November   \n",
       "34584            0      160.0               2016               June   \n",
       "43418            0      282.0               2016           December   \n",
       "20961            1      156.0               2016             August   \n",
       "\n",
       "       arrival_date_week_number  arrival_date_day_of_month  \\\n",
       "26409                        46                         14   \n",
       "34584                        27                         30   \n",
       "43418                        53                         29   \n",
       "20961                        33                         13   \n",
       "\n",
       "       stays_in_week_nights  adults  children  babies  ...  \\\n",
       "26409                     1     1.0       0.0     0.0  ...   \n",
       "34584                     3     2.0       0.0     0.0  ...   \n",
       "43418                     3     2.0       0.0     0.0  ...   \n",
       "20961                     5     2.0       1.0     0.0  ...   \n",
       "\n",
       "      previous_cancellations previous_bookings_not_canceled  \\\n",
       "26409                      0                              0   \n",
       "34584                      0                              0   \n",
       "43418                      0                              0   \n",
       "20961                      0                              0   \n",
       "\n",
       "      reserved_room_type  booking_changes  days_in_waiting_list  \\\n",
       "26409                  A                0                     0   \n",
       "34584                  A                0                     0   \n",
       "43418                  A                0                     0   \n",
       "20961                  A                0                     0   \n",
       "\n",
       "         customer_type required_car_parking_spaces  total_of_special_requests  \\\n",
       "26409  Transient-Party                           0                          0   \n",
       "34584        Transient                           0                          1   \n",
       "43418        Transient                           0                          1   \n",
       "20961        Transient                           0                          2   \n",
       "\n",
       "       total_nights income  \n",
       "26409             1    800  \n",
       "34584             4   4400  \n",
       "43418             4   2800  \n",
       "20961             7  -1800  \n",
       "\n",
       "[4 rows x 24 columns]"
      ]
     },
     "metadata": {},
     "output_type": "display_data"
    }
   ],
   "source": [
    "display(df_train.sample(4))"
   ]
  },
  {
   "cell_type": "code",
   "execution_count": 33,
   "metadata": {
    "scrolled": false
   },
   "outputs": [
    {
     "data": {
      "text/html": [
       "<div>\n",
       "<style scoped>\n",
       "    .dataframe tbody tr th:only-of-type {\n",
       "        vertical-align: middle;\n",
       "    }\n",
       "\n",
       "    .dataframe tbody tr th {\n",
       "        vertical-align: top;\n",
       "    }\n",
       "\n",
       "    .dataframe thead tr th {\n",
       "        text-align: left;\n",
       "    }\n",
       "\n",
       "    .dataframe thead tr:last-of-type th {\n",
       "        text-align: right;\n",
       "    }\n",
       "</style>\n",
       "<table border=\"1\" class=\"dataframe\">\n",
       "  <thead>\n",
       "    <tr>\n",
       "      <th></th>\n",
       "      <th>count</th>\n",
       "      <th>sum</th>\n",
       "      <th>mean</th>\n",
       "    </tr>\n",
       "    <tr>\n",
       "      <th></th>\n",
       "      <th>income</th>\n",
       "      <th>income</th>\n",
       "      <th>income</th>\n",
       "    </tr>\n",
       "    <tr>\n",
       "      <th>arrival_date_year</th>\n",
       "      <th></th>\n",
       "      <th></th>\n",
       "      <th></th>\n",
       "    </tr>\n",
       "  </thead>\n",
       "  <tbody>\n",
       "    <tr>\n",
       "      <th>2015</th>\n",
       "      <td>9815</td>\n",
       "      <td>17974976</td>\n",
       "      <td>1831.378095</td>\n",
       "    </tr>\n",
       "    <tr>\n",
       "      <th>2016</th>\n",
       "      <td>33659</td>\n",
       "      <td>47972710</td>\n",
       "      <td>1425.256544</td>\n",
       "    </tr>\n",
       "  </tbody>\n",
       "</table>\n",
       "</div>"
      ],
      "text/plain": [
       "                   count       sum         mean\n",
       "                  income    income       income\n",
       "arrival_date_year                              \n",
       "2015                9815  17974976  1831.378095\n",
       "2016               33659  47972710  1425.256544"
      ]
     },
     "execution_count": 33,
     "metadata": {},
     "output_type": "execute_result"
    }
   ],
   "source": [
    "df_train.pivot_table(values='income', index='arrival_date_year', aggfunc=['count', 'sum', 'mean'])"
   ]
  },
  {
   "cell_type": "code",
   "execution_count": 34,
   "metadata": {},
   "outputs": [
    {
     "data": {
      "text/html": [
       "<div>\n",
       "<style scoped>\n",
       "    .dataframe tbody tr th:only-of-type {\n",
       "        vertical-align: middle;\n",
       "    }\n",
       "\n",
       "    .dataframe tbody tr th {\n",
       "        vertical-align: top;\n",
       "    }\n",
       "\n",
       "    .dataframe thead tr th {\n",
       "        text-align: left;\n",
       "    }\n",
       "\n",
       "    .dataframe thead tr:last-of-type th {\n",
       "        text-align: right;\n",
       "    }\n",
       "</style>\n",
       "<table border=\"1\" class=\"dataframe\">\n",
       "  <thead>\n",
       "    <tr>\n",
       "      <th></th>\n",
       "      <th>count</th>\n",
       "      <th>sum</th>\n",
       "      <th>mean</th>\n",
       "    </tr>\n",
       "    <tr>\n",
       "      <th></th>\n",
       "      <th>income</th>\n",
       "      <th>income</th>\n",
       "      <th>income</th>\n",
       "    </tr>\n",
       "    <tr>\n",
       "      <th>arrival_date_year</th>\n",
       "      <th></th>\n",
       "      <th></th>\n",
       "      <th></th>\n",
       "    </tr>\n",
       "  </thead>\n",
       "  <tbody>\n",
       "    <tr>\n",
       "      <th>2017</th>\n",
       "      <td>24480</td>\n",
       "      <td>32373824</td>\n",
       "      <td>1322.460131</td>\n",
       "    </tr>\n",
       "  </tbody>\n",
       "</table>\n",
       "</div>"
      ],
      "text/plain": [
       "                   count       sum         mean\n",
       "                  income    income       income\n",
       "arrival_date_year                              \n",
       "2017               24480  32373824  1322.460131"
      ]
     },
     "execution_count": 34,
     "metadata": {},
     "output_type": "execute_result"
    }
   ],
   "source": [
    "df_test.pivot_table(values='income', index='arrival_date_year', aggfunc=['count', 'sum', 'mean'])"
   ]
  },
  {
   "cell_type": "markdown",
   "metadata": {},
   "source": [
    "#### Вывод\n",
    "\n",
    "Создали 2 словаря для упрощения работы с категориями. Доход рассчитывается следующим образом: \n",
    "\n",
    "стоимость за ночь * коэффициент сезона * количество ночей - стоимость уборки * количество уборок.\n",
    "\n",
    "Убыток рассчитывается как в условии — это стоимость одной уборки и одной ночи с учётом сезонного коэффициента.\n",
    "\n",
    "Посчитали выручку по годам."
   ]
  },
  {
   "cell_type": "markdown",
   "metadata": {},
   "source": [
    "<div class=\"alert alert-warning\" role=\"alert\">\n",
    "<b>Комментарий ревьюера:</b>\n",
    "\n",
    "<b>⚠️«Можно лучше»: </b>\n",
    "* Нас итересует прибыль за 2017 год, так как на 2015 и 2016 мы будем обучать модель.\n",
    "* Нас просят посчитать прибыль за год. За сколько месяцев у нас есть данные в 2017 году?/"
   ]
  },
  {
   "cell_type": "markdown",
   "metadata": {},
   "source": [
    "### Шаг 4. Разработка модели ML"
   ]
  },
  {
   "cell_type": "markdown",
   "metadata": {},
   "source": [
    "Обучим различные модели и оценим их качество при помощи кросс-валидации. Оценим прибыль, которую может принести выбранная нами модель."
   ]
  },
  {
   "cell_type": "markdown",
   "metadata": {},
   "source": [
    "Рассмотрим и сравним 2 модели:\n",
    "\n",
    "RandomForestClassifier - смотреть на отдельное дерево смысла не вижу\n",
    "\n",
    "LogisticRegression"
   ]
  },
  {
   "cell_type": "markdown",
   "metadata": {},
   "source": [
    "<div class=\"alert alert-block alert-danger\">\n",
    "<b>Комментарий ревьюера:</b>\n",
    "\n",
    "<b>⛔️«Надо исправить»:</b> Не хватает комментария по выбору метрики"
   ]
  },
  {
   "cell_type": "markdown",
   "metadata": {},
   "source": [
    "<div class=\"alert alert-block alert-info\">\n",
    "<b>Комментарий студента:</b> Исправлено.\n",
    "</div>"
   ]
  },
  {
   "cell_type": "markdown",
   "metadata": {},
   "source": [
    "Данные можно назвать сбалансированными, поэтому используем метрики F1, AUC-ROC, матрицу ошибок."
   ]
  },
  {
   "cell_type": "markdown",
   "metadata": {},
   "source": [
    "<div class=\"alert alert-warning\" role=\"alert\">\n",
    "<b>Комментарий ревьюера v2:</b>\n",
    "\n",
    "<b>⚠️«Можно лучше»: </b> \n",
    "1) Если данные сбалансированы, то зачем при обучении ты применяешь class_weight='balanced'?\n",
    "\n",
    "2) Выбор метрики нужно делать не от данных, а от бизнес задачи. Для отелей важно предсказать именно тех, кто отменит бронь и взять с таких постояльцев предоплату. Если постоялец всё-таки не отменит бронь, предоплата пойдёт в счёт оплаты. Если постоялец будет предсказан как не отменяющий бронь и предсказание будет неверное, отель понесёт убытки. Поэтому ориентируясь на метрику recall мы сможем минимизировать убытки.\n",
    "\n",
    "</div>"
   ]
  },
  {
   "cell_type": "markdown",
   "metadata": {},
   "source": [
    "Разделим данные на признаки и выборки:"
   ]
  },
  {
   "cell_type": "code",
   "execution_count": 35,
   "metadata": {},
   "outputs": [],
   "source": [
    "features = df_train.drop(['is_canceled', 'income'], axis=1)\n",
    "target = df_train['is_canceled']\n",
    "features_test = df_test.drop(['is_canceled', 'income'], axis=1)\n",
    "target_test = df_test['is_canceled']"
   ]
  },
  {
   "cell_type": "markdown",
   "metadata": {},
   "source": [
    "<div class=\"alert alert-block alert-danger\">\n",
    "<b>Комментарий ревьюера:</b>\n",
    "\n",
    "<b>⛔️«Надо исправить»:</b> По заданию нас просят: \"Обучите разные модели и оцените их качество кросс-валидацией\". Если мы применям кросс-валидацию, то выборка valid нам не нужна."
   ]
  },
  {
   "cell_type": "markdown",
   "metadata": {},
   "source": [
    "<div class=\"alert alert-block alert-info\">\n",
    "<b>Комментарий студента:</b> Исправлено.\n",
    "</div>"
   ]
  },
  {
   "cell_type": "markdown",
   "metadata": {},
   "source": [
    "<div class=\"alert alert-block alert-success\">\n",
    "<b>Комментарий ревьюера v2:</b>\n",
    "\n",
    "<b>✅«Отлично»:</b> 👍"
   ]
  },
  {
   "cell_type": "markdown",
   "metadata": {},
   "source": [
    "Закодируем данные при помощи техники OE для леса и OHE для линейной модели."
   ]
  },
  {
   "cell_type": "code",
   "execution_count": 36,
   "metadata": {},
   "outputs": [
    {
     "name": "stderr",
     "output_type": "stream",
     "text": [
      "/opt/conda/lib/python3.9/site-packages/sklearn/preprocessing/_encoders.py:228: UserWarning: Found unknown categories in columns [0, 1, 10, 17] during transform. These unknown categories will be encoded as all zeros\n",
      "  warnings.warn(\n"
     ]
    }
   ],
   "source": [
    "enc_oe = OrdinalEncoder(dtype='int16', handle_unknown='use_encoded_value', unknown_value=-1).fit(features, target)\n",
    "features_oe_train = enc_oe.transform(features)\n",
    "features_oe_test = enc_oe.transform(features_test)\n",
    "\n",
    "enc_ohe = OneHotEncoder(handle_unknown='ignore', drop='first').fit(features)\n",
    "features_ohe_train = enc_ohe.transform(features)\n",
    "features_ohe_test = enc_ohe.transform(features_test)"
   ]
  },
  {
   "cell_type": "code",
   "execution_count": 37,
   "metadata": {},
   "outputs": [
    {
     "data": {
      "text/plain": [
       "array([[  7,   0,   5, ...,   0,   0,   0],\n",
       "       [ 14,   0,   5, ...,   0,   1,   1],\n",
       "       [  0,   0,   5, ...,   0,   0,   1],\n",
       "       ...,\n",
       "       [  7,   1,   2, ...,   0,   1,   5],\n",
       "       [ 17,   1,   2, ...,   0,   1,   6],\n",
       "       [107,   1,   2, ...,   0,   0,   6]], dtype=int16)"
      ]
     },
     "metadata": {},
     "output_type": "display_data"
    },
    {
     "data": {
      "text/plain": [
       "<43474x780 sparse matrix of type '<class 'numpy.float64'>'\n",
       "\twith 496926 stored elements in Compressed Sparse Row format>"
      ]
     },
     "metadata": {},
     "output_type": "display_data"
    }
   ],
   "source": [
    "display(features_oe_train)\n",
    "display(features_ohe_train)"
   ]
  },
  {
   "cell_type": "markdown",
   "metadata": {},
   "source": [
    "<div class=\"alert alert-block alert-danger\">\n",
    "<b>Комментарий ревьюера:</b>\n",
    "\n",
    "<b>⛔️«Надо исправить»:</b> \n",
    "\n",
    "* Для линейных моделей для непорядковых признаков необходимо использовать OHE.\n",
    "Для подбора кодировщика можешь пользоваться данной <a href=\"https://www.kaggle.com/getting-started/159882\"> схемой </a>.\n",
    "* <a href=\"https://www.codecamp.ru/blog/dummy-variable-trap/ \">Dummy ловушка</a> Если есть проблема в одновременном применение параметров handle_unknown и drop, то нужно обновить библиотеку sklearn.\n",
    "\n",
    "</div>"
   ]
  },
  {
   "cell_type": "markdown",
   "metadata": {},
   "source": [
    "<div class=\"alert alert-block alert-info\">\n",
    "<b>Комментарий студента:</b> Я перепутал способы кодировки... Исправлено.\n",
    "</div>"
   ]
  },
  {
   "cell_type": "markdown",
   "metadata": {},
   "source": [
    "<div class=\"alert alert-warning\" role=\"alert\">\n",
    "<b>Комментарий ревьюера:</b>\n",
    "\n",
    "<b>⚠️«Можно лучше»: </b> На будущее для моделей на основе дерева OHE (или get_dummies) не желательны. Они сильно замедляют работу данных моделей.\n",
    "\n",
    "</div>"
   ]
  },
  {
   "cell_type": "markdown",
   "metadata": {},
   "source": [
    "<div class=\"alert alert-block alert-danger\">\n",
    "<b>Комментарий ревьюера v2:</b>\n",
    "\n",
    "<b>⛔️«Надо исправить»:</b> \n",
    "\n",
    "По выбору кодировщиков все ок. Но отсался риск попасть в Dummy ловушку. Для его устранения необходимо воспользоваться параметром drop\n",
    "\n",
    "</div>"
   ]
  },
  {
   "cell_type": "markdown",
   "metadata": {},
   "source": [
    "<div class=\"alert alert-block alert-success\">\n",
    "<b>Комментарий ревьюера v3:</b>\n",
    "\n",
    "<b>✅«Отлично»:</b> 👍"
   ]
  },
  {
   "cell_type": "markdown",
   "metadata": {},
   "source": [
    "Посмотрим на работу линейной модели:"
   ]
  },
  {
   "cell_type": "code",
   "execution_count": 38,
   "metadata": {
    "scrolled": true
   },
   "outputs": [
    {
     "name": "stdout",
     "output_type": "stream",
     "text": [
      "Значение auc_roc: 0.844965666752474\n",
      "Значение F1: 0.6175826542700219\n",
      "Матрица ошибок:\n",
      " [[24219  8186]\n",
      " [ 2467  8602]]\n",
      "Accuracy score: 0.7549569857846069\n"
     ]
    },
    {
     "name": "stderr",
     "output_type": "stream",
     "text": [
      "/opt/conda/lib/python3.9/site-packages/sklearn/linear_model/_sag.py:350: ConvergenceWarning: The max_iter was reached which means the coef_ did not converge\n",
      "  warnings.warn(\n"
     ]
    }
   ],
   "source": [
    "model = LogisticRegression(solver='saga', random_state=12345, class_weight='balanced', max_iter=100)\n",
    "model.fit(features_ohe_train, target)\n",
    "\n",
    "predicted_train = model.predict(features_ohe_train)\n",
    "probabilities_train = model.predict_proba(features_ohe_train)\n",
    "probabilities_one_train = probabilities_train[:, 1]\n",
    "auc_roc = roc_auc_score(target, probabilities_one_train)\n",
    "\n",
    "print(\"Значение auc_roc:\", auc_roc)\n",
    "print(\"Значение F1:\", f1_score(target, predicted_train))\n",
    "print(\"Матрица ошибок:\\n\", confusion_matrix(target, predicted_train))\n",
    "print(\"Accuracy score:\", accuracy_score(target, predicted_train))"
   ]
  },
  {
   "cell_type": "markdown",
   "metadata": {},
   "source": [
    "<div class=\"alert alert-block alert-danger\">\n",
    "<b>Комментарий ревьюера:</b>\n",
    "\n",
    "<b>⛔️«Надо исправить»:</b> Идея тестовой выборки - это имитация запуска модели в продакшн Поэтому мы выибраем лучшую модель на кросс-валидации и теструем только ее.\n",
    "</div>"
   ]
  },
  {
   "cell_type": "markdown",
   "metadata": {},
   "source": [
    "<div class=\"alert alert-block alert-info\">\n",
    "<b>Комментарий студента:</b> Исправлено.\n",
    "</div>"
   ]
  },
  {
   "cell_type": "markdown",
   "metadata": {},
   "source": [
    "<div class=\"alert alert-block alert-success\">\n",
    "<b>Комментарий ревьюера v2:</b>\n",
    "\n",
    "<b>✅«Отлично»:</b> 👍"
   ]
  },
  {
   "cell_type": "markdown",
   "metadata": {},
   "source": [
    "<div class=\"alert alert-warning\" role=\"alert\">\n",
    "<b>Комментарий ревьюера:</b>\n",
    "\n",
    "<b>⚠️«Можно лучше»: </b> Для LogisticRegression можно подобрать значение гиперпараметров С, solver и penalty <a href=\"https://scikit-learn.org/stable/modules/generated/sklearn.linear_model.LogisticRegression.html\"> подробнее в документации\n",
    "</a>.\n",
    "    \n",
    "Если не секрет, почему решил применять solver='saga'?\n",
    "</div>"
   ]
  },
  {
   "cell_type": "markdown",
   "metadata": {},
   "source": [
    "Вручную подбирал гиперпараметры. Изначально мучался выбрав lbfgs."
   ]
  },
  {
   "cell_type": "markdown",
   "metadata": {},
   "source": [
    "Значение auc_roc: 0.844965666752474\n",
    "Значение F1: 0.6175826542700219\n",
    "Матрица ошибок:\n",
    " [[24219  8186]\n",
    " [ 2467  8602]]\n",
    "Accuracy score: 0.7549569857846069"
   ]
  },
  {
   "cell_type": "code",
   "execution_count": 39,
   "metadata": {
    "scrolled": true
   },
   "outputs": [
    {
     "name": "stderr",
     "output_type": "stream",
     "text": [
      "/opt/conda/lib/python3.9/site-packages/sklearn/linear_model/_sag.py:350: ConvergenceWarning: The max_iter was reached which means the coef_ did not converge\n",
      "  warnings.warn(\n",
      "/opt/conda/lib/python3.9/site-packages/sklearn/linear_model/_sag.py:350: ConvergenceWarning: The max_iter was reached which means the coef_ did not converge\n",
      "  warnings.warn(\n"
     ]
    },
    {
     "name": "stdout",
     "output_type": "stream",
     "text": [
      "Средняя оценка качества модели: 0.9236313925373723\n"
     ]
    },
    {
     "name": "stderr",
     "output_type": "stream",
     "text": [
      "/opt/conda/lib/python3.9/site-packages/sklearn/linear_model/_sag.py:350: ConvergenceWarning: The max_iter was reached which means the coef_ did not converge\n",
      "  warnings.warn(\n"
     ]
    }
   ],
   "source": [
    "model = LogisticRegression(solver='saga', random_state=12345, class_weight='balanced')\n",
    "scores = cross_val_score(model, features_ohe_train, predicted_train, cv=3, scoring='f1') \n",
    "final_score = sum(scores) / len(scores)\n",
    "print('Средняя оценка качества модели:', final_score)"
   ]
  },
  {
   "cell_type": "markdown",
   "metadata": {},
   "source": [
    "Средняя оценка качества модели: 0.6852217886795361"
   ]
  },
  {
   "cell_type": "markdown",
   "metadata": {},
   "source": [
    "<div class=\"alert alert-block alert-danger\">\n",
    "<b>Комментарий ревьюера v2:</b>\n",
    "\n",
    "<b>⛔️«Надо исправить»:</b> Выбираешь F1 и ROC-AUC, а на кросс-валидации используешь accuracy. И соответственно лучшую модель выбираешь по ней."
   ]
  },
  {
   "cell_type": "markdown",
   "metadata": {},
   "source": [
    "<div class=\"alert alert-block alert-danger\">\n",
    "<b>Комментарий ревьюера v3:</b>\n",
    "\n",
    "<b>⛔️«Надо исправить»:</b> Нужно cross_val_score в параметр scoring передать выбранную метрику (F1 или ROC-AUC) "
   ]
  },
  {
   "cell_type": "markdown",
   "metadata": {},
   "source": [
    "<div class=\"alert alert-block alert-info\">\n",
    "<b>Комментарий студента:</b> Не мог понять документацию, теперь разобрался, спасибо. Исправлено.\n",
    "</div>"
   ]
  },
  {
   "cell_type": "markdown",
   "metadata": {},
   "source": [
    "<div class=\"alert alert-block alert-success\">\n",
    "<b>Комментарий ревьюера v4:</b>\n",
    "\n",
    "<b>✅«Отлично»:</b> 👍"
   ]
  },
  {
   "cell_type": "markdown",
   "metadata": {},
   "source": [
    "<div class=\"alert alert-warning\" role=\"alert\">\n",
    "<b>Комментарий ревьюера v4:</b>\n",
    "\n",
    "<b>⚠️«Можно лучше»: </b> Обрати внимание на предупрждения все разы модель упирается в макисмальное число итераций"
   ]
  },
  {
   "cell_type": "markdown",
   "metadata": {},
   "source": [
    "Посмотрим как работает RandomForest:"
   ]
  },
  {
   "cell_type": "code",
   "execution_count": 40,
   "metadata": {
    "scrolled": false
   },
   "outputs": [
    {
     "name": "stdout",
     "output_type": "stream",
     "text": [
      "Лучшая глубина поиска: 15\n",
      "Лучшее количество деревьев: 47\n",
      "Значение F1: 0.7365003285532064\n",
      "Матрица ошибок:\n",
      " [[27130  5275]\n",
      " [ 1542  9527]]\n",
      "Accuracy score: 0.8431936329760317\n"
     ]
    }
   ],
   "source": [
    "answer_depth = 0\n",
    "answer_n = 0\n",
    "f1 = 0\n",
    "\n",
    "for depth in range(1, 16):\n",
    "    #for n in range(1, 50):\n",
    "        model = RandomForestClassifier(max_depth=depth, n_estimators=47, random_state=12345, class_weight='balanced')\n",
    "        model.fit(features_oe_train, target)\n",
    "    \n",
    "        predicted_train = model.predict(features_oe_train)\n",
    "        probabilities_train = model.predict_proba(features_oe_train)\n",
    "        probabilities_one_train = probabilities_train[:, 1]\n",
    "        if f1_score(target, predicted_train) > f1:\n",
    "            answer_depth = depth\n",
    "            answer_n = 47\n",
    "            f1 = f1_score(target, predicted_train)\n",
    "\n",
    "print(\"Лучшая глубина поиска:\", answer_depth)\n",
    "print(\"Лучшее количество деревьев:\", answer_n)\n",
    "print(\"Значение F1:\", f1)\n",
    "print(\"Матрица ошибок:\\n\", confusion_matrix(target, predicted_train))\n",
    "print(\"Accuracy score:\", accuracy_score(target, predicted_train))\n",
    "auc_roc_test = roc_auc_score(target, probabilities_one_train)"
   ]
  },
  {
   "cell_type": "code",
   "execution_count": 41,
   "metadata": {
    "scrolled": true
   },
   "outputs": [
    {
     "name": "stdout",
     "output_type": "stream",
     "text": [
      "Средняя оценка качества модели: 0.6598834858877063\n"
     ]
    }
   ],
   "source": [
    "model = RandomForestClassifier(max_depth=15, n_estimators=36, random_state=12345, class_weight='balanced')\n",
    "scores = cross_val_score(model, features_ohe_train, predicted_train, cv=3, scoring='f1') \n",
    "final_score = sum(scores) / len(scores)\n",
    "print('Средняя оценка качества модели:', final_score)"
   ]
  },
  {
   "cell_type": "markdown",
   "metadata": {},
   "source": [
    "Средняя оценка качества модели: 0.6598834858877063"
   ]
  },
  {
   "cell_type": "markdown",
   "metadata": {},
   "source": [
    "Лучшая глубина поиска: 15\n",
    "Лучшее количество деревьев: 47\n",
    "Значение F1: 0.7386354836211569\n",
    "Матрица ошибок:\n",
    " [[27186  5219]\n",
    " [ 1539  9530]]"
   ]
  },
  {
   "cell_type": "markdown",
   "metadata": {},
   "source": [
    "Линейная модель показывает больший accuracy_score при выборе метрики F1. Проверим её на тестовой выборке:"
   ]
  },
  {
   "cell_type": "code",
   "execution_count": 42,
   "metadata": {
    "scrolled": false
   },
   "outputs": [
    {
     "name": "stdout",
     "output_type": "stream",
     "text": [
      "Значение auc_roc: 0.7543204095405203\n",
      "Значение F1: 0.3845869525041582\n",
      "Матрица ошибок:\n",
      " [[15739   991]\n",
      " [ 5669  2081]]\n"
     ]
    },
    {
     "name": "stderr",
     "output_type": "stream",
     "text": [
      "/opt/conda/lib/python3.9/site-packages/sklearn/linear_model/_sag.py:350: ConvergenceWarning: The max_iter was reached which means the coef_ did not converge\n",
      "  warnings.warn(\n"
     ]
    }
   ],
   "source": [
    "model = LogisticRegression(solver='saga', random_state=12345, class_weight='balanced', max_iter=100)\n",
    "model.fit(features_ohe_train, target)\n",
    "\n",
    "predicted_test_linear = model.predict(features_ohe_test)\n",
    "probabilities_test = model.predict_proba(features_ohe_test)\n",
    "probabilities_one_test = probabilities_test[:, 1]\n",
    "auc_roc = roc_auc_score(target_test, probabilities_one_test)\n",
    "\n",
    "print(\"Значение auc_roc:\", auc_roc)\n",
    "print(\"Значение F1:\", f1_score(target_test, predicted_test_linear))\n",
    "print(\"Матрица ошибок:\\n\", confusion_matrix(target_test, predicted_test_linear))"
   ]
  },
  {
   "cell_type": "markdown",
   "metadata": {},
   "source": [
    "<div class=\"alert alert-block alert-danger\">\n",
    "<b>Комментарий ревьюера v3:</b>\n",
    "\n",
    "<b>⛔️«Надо исправить»:</b> Тетсируем только лучшую модель. Лучшую модель выбираем по кросс-валидации."
   ]
  },
  {
   "cell_type": "markdown",
   "metadata": {},
   "source": [
    "<div class=\"alert alert-block alert-info\">\n",
    "<b>Комментарий студента:</b> Исправлено.\n",
    "</div>"
   ]
  },
  {
   "cell_type": "markdown",
   "metadata": {},
   "source": [
    "<div class=\"alert alert-block alert-success\">\n",
    "<b>Комментарий ревьюера v4:</b>\n",
    "\n",
    "<b>✅«Отлично»:</b> 👍"
   ]
  },
  {
   "cell_type": "markdown",
   "metadata": {},
   "source": [
    "Рассчитаем возможную прибыль от введения новой системы.\n",
    "\n",
    "Допустим, что 100% пользователей, которые могут отказаться, будут оставлять депозит."
   ]
  },
  {
   "cell_type": "markdown",
   "metadata": {},
   "source": [
    "<div class=\"alert alert-block alert-danger\">\n",
    "<b>Комментарий ревьюера:</b>\n",
    "\n",
    "<b>⛔️«Надо исправить»:</b> В расчетах есть ошибка.\n",
    "    \n",
    "Зачем ты еще раз рассчитываешь все заново? У нас есть посчитаные значения прибыли (столбец income) без внедрения модели, там есть положительные и отрицатеьные значения. Вот функция, которая \n",
    "    \n",
    "После внедрения модели у нас есть 4 комбинации фактического значения и предсказания:\n",
    "\n",
    "0, 0 — постоялец заселился (то есть значение в profit положительное), модель предсказала, что он заселится. В этом случае прибыль отеля никак не меняется, в profit_predicted будет то же значение, что и в profit.\n",
    "\n",
    "0, 1 — постоялец заселился (то есть значение в profit положительное), модель предсказала, что он отменит. В этом случае постоялец внесёт предоплату, которая пойдёт в счёт оплаты, то есть в этом случае прибыль отеля тоже никак не меняется, в profit_predicted будет то же значение, что и в profit.\n",
    "\n",
    "1, 0 — постоялец отменил бронь (то есть значение в profit отрицательное), модель предсказала, что он заселится, то есть предоплату с такого клиента не брали. В этом прибыль отеля тоже никак не меняется, отель потерял деньги, в profit_predicted будет то же отрицательное значение, что и в profit.\n",
    "\n",
    "1, 1 — постоялец отменил бронь (то есть значение в profit отрицательное), модель предсказала, что он отменит, то есть с постояльца взяли предоплату, которая составляет 80% от стоимости одной ночи * на сезонный коэффициент + стоимость одной уборки. Для того, чтобы не делать долгие вычисления, можно просто умножить отрицательное значение в profit на 0.2, так мы получим разницу между потеренной выгодой отеля и предоплатой, с внедрением модели отель потеряет только 20% от той суммы, которую терял без модели.\n",
    "</div>"
   ]
  },
  {
   "cell_type": "markdown",
   "metadata": {},
   "source": [
    "<div class=\"alert alert-block alert-info\">\n",
    "<b>Комментарий студента:</b> Исправлено.\n",
    "</div>"
   ]
  },
  {
   "cell_type": "markdown",
   "metadata": {},
   "source": [
    "<div class=\"alert alert-block alert-success\">\n",
    "<b>Комментарий ревьюера v2:</b>\n",
    "\n",
    "<b>✅«Отлично»:</b> 👍"
   ]
  },
  {
   "cell_type": "code",
   "execution_count": 43,
   "metadata": {},
   "outputs": [
    {
     "data": {
      "text/html": [
       "<div>\n",
       "<style scoped>\n",
       "    .dataframe tbody tr th:only-of-type {\n",
       "        vertical-align: middle;\n",
       "    }\n",
       "\n",
       "    .dataframe tbody tr th {\n",
       "        vertical-align: top;\n",
       "    }\n",
       "\n",
       "    .dataframe thead th {\n",
       "        text-align: right;\n",
       "    }\n",
       "</style>\n",
       "<table border=\"1\" class=\"dataframe\">\n",
       "  <thead>\n",
       "    <tr style=\"text-align: right;\">\n",
       "      <th></th>\n",
       "      <th>0</th>\n",
       "    </tr>\n",
       "  </thead>\n",
       "  <tbody>\n",
       "    <tr>\n",
       "      <th>0</th>\n",
       "      <td>0</td>\n",
       "    </tr>\n",
       "    <tr>\n",
       "      <th>1</th>\n",
       "      <td>0</td>\n",
       "    </tr>\n",
       "    <tr>\n",
       "      <th>2</th>\n",
       "      <td>0</td>\n",
       "    </tr>\n",
       "    <tr>\n",
       "      <th>3</th>\n",
       "      <td>0</td>\n",
       "    </tr>\n",
       "    <tr>\n",
       "      <th>4</th>\n",
       "      <td>0</td>\n",
       "    </tr>\n",
       "  </tbody>\n",
       "</table>\n",
       "</div>"
      ],
      "text/plain": [
       "   0\n",
       "0  0\n",
       "1  0\n",
       "2  0\n",
       "3  0\n",
       "4  0"
      ]
     },
     "metadata": {},
     "output_type": "display_data"
    },
    {
     "data": {
      "text/html": [
       "<div>\n",
       "<style scoped>\n",
       "    .dataframe tbody tr th:only-of-type {\n",
       "        vertical-align: middle;\n",
       "    }\n",
       "\n",
       "    .dataframe tbody tr th {\n",
       "        vertical-align: top;\n",
       "    }\n",
       "\n",
       "    .dataframe thead th {\n",
       "        text-align: right;\n",
       "    }\n",
       "</style>\n",
       "<table border=\"1\" class=\"dataframe\">\n",
       "  <thead>\n",
       "    <tr style=\"text-align: right;\">\n",
       "      <th></th>\n",
       "      <th>is_canceled</th>\n",
       "      <th>lead_time</th>\n",
       "      <th>arrival_date_year</th>\n",
       "      <th>arrival_date_month</th>\n",
       "      <th>arrival_date_week_number</th>\n",
       "      <th>arrival_date_day_of_month</th>\n",
       "      <th>stays_in_week_nights</th>\n",
       "      <th>adults</th>\n",
       "      <th>children</th>\n",
       "      <th>babies</th>\n",
       "      <th>...</th>\n",
       "      <th>previous_bookings_not_canceled</th>\n",
       "      <th>reserved_room_type</th>\n",
       "      <th>booking_changes</th>\n",
       "      <th>days_in_waiting_list</th>\n",
       "      <th>customer_type</th>\n",
       "      <th>required_car_parking_spaces</th>\n",
       "      <th>total_of_special_requests</th>\n",
       "      <th>total_nights</th>\n",
       "      <th>income</th>\n",
       "      <th>predicted</th>\n",
       "    </tr>\n",
       "  </thead>\n",
       "  <tbody>\n",
       "    <tr>\n",
       "      <th>0</th>\n",
       "      <td>1</td>\n",
       "      <td>74.0</td>\n",
       "      <td>2017</td>\n",
       "      <td>January</td>\n",
       "      <td>1</td>\n",
       "      <td>1</td>\n",
       "      <td>0</td>\n",
       "      <td>2.0</td>\n",
       "      <td>0.0</td>\n",
       "      <td>0.0</td>\n",
       "      <td>...</td>\n",
       "      <td>0</td>\n",
       "      <td>A</td>\n",
       "      <td>0</td>\n",
       "      <td>0</td>\n",
       "      <td>Transient</td>\n",
       "      <td>0</td>\n",
       "      <td>0</td>\n",
       "      <td>1</td>\n",
       "      <td>-1400</td>\n",
       "      <td>0</td>\n",
       "    </tr>\n",
       "    <tr>\n",
       "      <th>1</th>\n",
       "      <td>1</td>\n",
       "      <td>62.0</td>\n",
       "      <td>2017</td>\n",
       "      <td>January</td>\n",
       "      <td>1</td>\n",
       "      <td>1</td>\n",
       "      <td>2</td>\n",
       "      <td>2.0</td>\n",
       "      <td>0.0</td>\n",
       "      <td>0.0</td>\n",
       "      <td>...</td>\n",
       "      <td>0</td>\n",
       "      <td>A</td>\n",
       "      <td>0</td>\n",
       "      <td>0</td>\n",
       "      <td>Transient</td>\n",
       "      <td>0</td>\n",
       "      <td>1</td>\n",
       "      <td>4</td>\n",
       "      <td>-1400</td>\n",
       "      <td>0</td>\n",
       "    </tr>\n",
       "    <tr>\n",
       "      <th>2</th>\n",
       "      <td>1</td>\n",
       "      <td>71.0</td>\n",
       "      <td>2017</td>\n",
       "      <td>January</td>\n",
       "      <td>1</td>\n",
       "      <td>1</td>\n",
       "      <td>2</td>\n",
       "      <td>1.0</td>\n",
       "      <td>0.0</td>\n",
       "      <td>0.0</td>\n",
       "      <td>...</td>\n",
       "      <td>0</td>\n",
       "      <td>A</td>\n",
       "      <td>0</td>\n",
       "      <td>0</td>\n",
       "      <td>Transient</td>\n",
       "      <td>0</td>\n",
       "      <td>1</td>\n",
       "      <td>4</td>\n",
       "      <td>-1400</td>\n",
       "      <td>0</td>\n",
       "    </tr>\n",
       "    <tr>\n",
       "      <th>3</th>\n",
       "      <td>1</td>\n",
       "      <td>172.0</td>\n",
       "      <td>2017</td>\n",
       "      <td>January</td>\n",
       "      <td>1</td>\n",
       "      <td>1</td>\n",
       "      <td>5</td>\n",
       "      <td>2.0</td>\n",
       "      <td>0.0</td>\n",
       "      <td>0.0</td>\n",
       "      <td>...</td>\n",
       "      <td>0</td>\n",
       "      <td>A</td>\n",
       "      <td>0</td>\n",
       "      <td>0</td>\n",
       "      <td>Transient</td>\n",
       "      <td>0</td>\n",
       "      <td>0</td>\n",
       "      <td>7</td>\n",
       "      <td>-1400</td>\n",
       "      <td>0</td>\n",
       "    </tr>\n",
       "    <tr>\n",
       "      <th>4</th>\n",
       "      <td>1</td>\n",
       "      <td>52.0</td>\n",
       "      <td>2017</td>\n",
       "      <td>January</td>\n",
       "      <td>1</td>\n",
       "      <td>1</td>\n",
       "      <td>5</td>\n",
       "      <td>1.0</td>\n",
       "      <td>0.0</td>\n",
       "      <td>0.0</td>\n",
       "      <td>...</td>\n",
       "      <td>0</td>\n",
       "      <td>A</td>\n",
       "      <td>0</td>\n",
       "      <td>0</td>\n",
       "      <td>Transient</td>\n",
       "      <td>0</td>\n",
       "      <td>0</td>\n",
       "      <td>7</td>\n",
       "      <td>-1400</td>\n",
       "      <td>0</td>\n",
       "    </tr>\n",
       "  </tbody>\n",
       "</table>\n",
       "<p>5 rows × 25 columns</p>\n",
       "</div>"
      ],
      "text/plain": [
       "   is_canceled  lead_time  arrival_date_year arrival_date_month  \\\n",
       "0            1       74.0               2017            January   \n",
       "1            1       62.0               2017            January   \n",
       "2            1       71.0               2017            January   \n",
       "3            1      172.0               2017            January   \n",
       "4            1       52.0               2017            January   \n",
       "\n",
       "   arrival_date_week_number  arrival_date_day_of_month  stays_in_week_nights  \\\n",
       "0                         1                          1                     0   \n",
       "1                         1                          1                     2   \n",
       "2                         1                          1                     2   \n",
       "3                         1                          1                     5   \n",
       "4                         1                          1                     5   \n",
       "\n",
       "   adults  children  babies  ... previous_bookings_not_canceled  \\\n",
       "0     2.0       0.0     0.0  ...                              0   \n",
       "1     2.0       0.0     0.0  ...                              0   \n",
       "2     1.0       0.0     0.0  ...                              0   \n",
       "3     2.0       0.0     0.0  ...                              0   \n",
       "4     1.0       0.0     0.0  ...                              0   \n",
       "\n",
       "  reserved_room_type booking_changes  days_in_waiting_list  customer_type  \\\n",
       "0                  A               0                     0      Transient   \n",
       "1                  A               0                     0      Transient   \n",
       "2                  A               0                     0      Transient   \n",
       "3                  A               0                     0      Transient   \n",
       "4                  A               0                     0      Transient   \n",
       "\n",
       "   required_car_parking_spaces total_of_special_requests  total_nights  \\\n",
       "0                            0                         0             1   \n",
       "1                            0                         1             4   \n",
       "2                            0                         1             4   \n",
       "3                            0                         0             7   \n",
       "4                            0                         0             7   \n",
       "\n",
       "   income predicted  \n",
       "0   -1400         0  \n",
       "1   -1400         0  \n",
       "2   -1400         0  \n",
       "3   -1400         0  \n",
       "4   -1400         0  \n",
       "\n",
       "[5 rows x 25 columns]"
      ]
     },
     "metadata": {},
     "output_type": "display_data"
    }
   ],
   "source": [
    "predicted_test_linear = pd.DataFrame(predicted_test_linear)\n",
    "display(predicted_test_linear.head())\n",
    "df_test['predicted'] = predicted_test_linear\n",
    "display(df_test.head())\n"
   ]
  },
  {
   "cell_type": "code",
   "execution_count": 44,
   "metadata": {},
   "outputs": [],
   "source": [
    "def profit_count(row):\n",
    "    if row['is_canceled'] == 0 and row['predicted'] == 0:\n",
    "        return row['income']\n",
    "    elif row['is_canceled'] == 0 and row['predicted'] == 1:\n",
    "        return row['income']\n",
    "    elif row['is_canceled'] == 1 and row['predicted'] == 0:\n",
    "        return row['income']\n",
    "    elif row['is_canceled'] == 1 and row['predicted'] == 1:\n",
    "        return row['income'] * 0.2"
   ]
  },
  {
   "cell_type": "code",
   "execution_count": 45,
   "metadata": {
    "scrolled": false
   },
   "outputs": [
    {
     "data": {
      "text/html": [
       "<div>\n",
       "<style scoped>\n",
       "    .dataframe tbody tr th:only-of-type {\n",
       "        vertical-align: middle;\n",
       "    }\n",
       "\n",
       "    .dataframe tbody tr th {\n",
       "        vertical-align: top;\n",
       "    }\n",
       "\n",
       "    .dataframe thead th {\n",
       "        text-align: right;\n",
       "    }\n",
       "</style>\n",
       "<table border=\"1\" class=\"dataframe\">\n",
       "  <thead>\n",
       "    <tr style=\"text-align: right;\">\n",
       "      <th></th>\n",
       "      <th>is_canceled</th>\n",
       "      <th>lead_time</th>\n",
       "      <th>arrival_date_year</th>\n",
       "      <th>arrival_date_month</th>\n",
       "      <th>arrival_date_week_number</th>\n",
       "      <th>arrival_date_day_of_month</th>\n",
       "      <th>stays_in_week_nights</th>\n",
       "      <th>adults</th>\n",
       "      <th>children</th>\n",
       "      <th>babies</th>\n",
       "      <th>...</th>\n",
       "      <th>reserved_room_type</th>\n",
       "      <th>booking_changes</th>\n",
       "      <th>days_in_waiting_list</th>\n",
       "      <th>customer_type</th>\n",
       "      <th>required_car_parking_spaces</th>\n",
       "      <th>total_of_special_requests</th>\n",
       "      <th>total_nights</th>\n",
       "      <th>income</th>\n",
       "      <th>predicted</th>\n",
       "      <th>profit</th>\n",
       "    </tr>\n",
       "  </thead>\n",
       "  <tbody>\n",
       "    <tr>\n",
       "      <th>3760</th>\n",
       "      <td>0</td>\n",
       "      <td>16.0</td>\n",
       "      <td>2017</td>\n",
       "      <td>March</td>\n",
       "      <td>12</td>\n",
       "      <td>19</td>\n",
       "      <td>2</td>\n",
       "      <td>2.0</td>\n",
       "      <td>0.0</td>\n",
       "      <td>0.0</td>\n",
       "      <td>...</td>\n",
       "      <td>E</td>\n",
       "      <td>1</td>\n",
       "      <td>0</td>\n",
       "      <td>Transient</td>\n",
       "      <td>0</td>\n",
       "      <td>0</td>\n",
       "      <td>4</td>\n",
       "      <td>1950</td>\n",
       "      <td>0</td>\n",
       "      <td>1950.0</td>\n",
       "    </tr>\n",
       "    <tr>\n",
       "      <th>464</th>\n",
       "      <td>1</td>\n",
       "      <td>84.0</td>\n",
       "      <td>2017</td>\n",
       "      <td>April</td>\n",
       "      <td>14</td>\n",
       "      <td>2</td>\n",
       "      <td>2</td>\n",
       "      <td>2.0</td>\n",
       "      <td>0.0</td>\n",
       "      <td>0.0</td>\n",
       "      <td>...</td>\n",
       "      <td>E</td>\n",
       "      <td>0</td>\n",
       "      <td>0</td>\n",
       "      <td>Transient</td>\n",
       "      <td>0</td>\n",
       "      <td>2</td>\n",
       "      <td>4</td>\n",
       "      <td>-750</td>\n",
       "      <td>0</td>\n",
       "      <td>-750.0</td>\n",
       "    </tr>\n",
       "    <tr>\n",
       "      <th>3934</th>\n",
       "      <td>0</td>\n",
       "      <td>70.0</td>\n",
       "      <td>2017</td>\n",
       "      <td>March</td>\n",
       "      <td>13</td>\n",
       "      <td>29</td>\n",
       "      <td>4</td>\n",
       "      <td>2.0</td>\n",
       "      <td>0.0</td>\n",
       "      <td>0.0</td>\n",
       "      <td>...</td>\n",
       "      <td>A</td>\n",
       "      <td>0</td>\n",
       "      <td>0</td>\n",
       "      <td>Transient</td>\n",
       "      <td>0</td>\n",
       "      <td>0</td>\n",
       "      <td>5</td>\n",
       "      <td>4800</td>\n",
       "      <td>0</td>\n",
       "      <td>4800.0</td>\n",
       "    </tr>\n",
       "    <tr>\n",
       "      <th>17434</th>\n",
       "      <td>0</td>\n",
       "      <td>58.0</td>\n",
       "      <td>2017</td>\n",
       "      <td>April</td>\n",
       "      <td>15</td>\n",
       "      <td>15</td>\n",
       "      <td>1</td>\n",
       "      <td>3.0</td>\n",
       "      <td>0.0</td>\n",
       "      <td>0.0</td>\n",
       "      <td>...</td>\n",
       "      <td>D</td>\n",
       "      <td>0</td>\n",
       "      <td>0</td>\n",
       "      <td>Transient</td>\n",
       "      <td>0</td>\n",
       "      <td>1</td>\n",
       "      <td>2</td>\n",
       "      <td>1020</td>\n",
       "      <td>0</td>\n",
       "      <td>1020.0</td>\n",
       "    </tr>\n",
       "  </tbody>\n",
       "</table>\n",
       "<p>4 rows × 26 columns</p>\n",
       "</div>"
      ],
      "text/plain": [
       "       is_canceled  lead_time  arrival_date_year arrival_date_month  \\\n",
       "3760             0       16.0               2017              March   \n",
       "464              1       84.0               2017              April   \n",
       "3934             0       70.0               2017              March   \n",
       "17434            0       58.0               2017              April   \n",
       "\n",
       "       arrival_date_week_number  arrival_date_day_of_month  \\\n",
       "3760                         12                         19   \n",
       "464                          14                          2   \n",
       "3934                         13                         29   \n",
       "17434                        15                         15   \n",
       "\n",
       "       stays_in_week_nights  adults  children  babies  ... reserved_room_type  \\\n",
       "3760                      2     2.0       0.0     0.0  ...                  E   \n",
       "464                       2     2.0       0.0     0.0  ...                  E   \n",
       "3934                      4     2.0       0.0     0.0  ...                  A   \n",
       "17434                     1     3.0       0.0     0.0  ...                  D   \n",
       "\n",
       "      booking_changes days_in_waiting_list  customer_type  \\\n",
       "3760                1                    0      Transient   \n",
       "464                 0                    0      Transient   \n",
       "3934                0                    0      Transient   \n",
       "17434               0                    0      Transient   \n",
       "\n",
       "       required_car_parking_spaces  total_of_special_requests total_nights  \\\n",
       "3760                             0                          0            4   \n",
       "464                              0                          2            4   \n",
       "3934                             0                          0            5   \n",
       "17434                            0                          1            2   \n",
       "\n",
       "       income  predicted  profit  \n",
       "3760     1950          0  1950.0  \n",
       "464      -750          0  -750.0  \n",
       "3934     4800          0  4800.0  \n",
       "17434    1020          0  1020.0  \n",
       "\n",
       "[4 rows x 26 columns]"
      ]
     },
     "metadata": {},
     "output_type": "display_data"
    }
   ],
   "source": [
    "df_test['profit'] = df_test.apply(profit_count, axis=1)\n",
    "display(df_test.sample(4))"
   ]
  },
  {
   "cell_type": "markdown",
   "metadata": {},
   "source": [
    "<div class=\"alert alert-block alert-danger\">\n",
    "<b>Комментарий ревьюера:</b>\n",
    "\n",
    "<b>⛔️«Надо исправить»:</b> Проверь цифры. На шаге 3 ты получал другие значения"
   ]
  },
  {
   "cell_type": "markdown",
   "metadata": {},
   "source": [
    "<div class=\"alert alert-block alert-info\">\n",
    "<b>Комментарий студента:</b> Исправлено. Посчитал иначе.\n",
    "</div>"
   ]
  },
  {
   "cell_type": "markdown",
   "metadata": {},
   "source": [
    "<div class=\"alert alert-block alert-success\">\n",
    "<b>Комментарий ревьюера v2:</b>\n",
    "\n",
    "<b>✅«Отлично»:</b> 👍"
   ]
  },
  {
   "cell_type": "code",
   "execution_count": 46,
   "metadata": {},
   "outputs": [
    {
     "data": {
      "text/html": [
       "<div>\n",
       "<style scoped>\n",
       "    .dataframe tbody tr th:only-of-type {\n",
       "        vertical-align: middle;\n",
       "    }\n",
       "\n",
       "    .dataframe tbody tr th {\n",
       "        vertical-align: top;\n",
       "    }\n",
       "\n",
       "    .dataframe thead tr th {\n",
       "        text-align: left;\n",
       "    }\n",
       "\n",
       "    .dataframe thead tr:last-of-type th {\n",
       "        text-align: right;\n",
       "    }\n",
       "</style>\n",
       "<table border=\"1\" class=\"dataframe\">\n",
       "  <thead>\n",
       "    <tr>\n",
       "      <th></th>\n",
       "      <th>count</th>\n",
       "      <th>sum</th>\n",
       "      <th>mean</th>\n",
       "    </tr>\n",
       "    <tr>\n",
       "      <th></th>\n",
       "      <th>profit</th>\n",
       "      <th>profit</th>\n",
       "      <th>profit</th>\n",
       "    </tr>\n",
       "    <tr>\n",
       "      <th>arrival_date_year</th>\n",
       "      <th></th>\n",
       "      <th></th>\n",
       "      <th></th>\n",
       "    </tr>\n",
       "  </thead>\n",
       "  <tbody>\n",
       "    <tr>\n",
       "      <th>2017</th>\n",
       "      <td>24480</td>\n",
       "      <td>34684024.0</td>\n",
       "      <td>1416.831046</td>\n",
       "    </tr>\n",
       "  </tbody>\n",
       "</table>\n",
       "</div>"
      ],
      "text/plain": [
       "                   count         sum         mean\n",
       "                  profit      profit       profit\n",
       "arrival_date_year                                \n",
       "2017               24480  34684024.0  1416.831046"
      ]
     },
     "metadata": {},
     "output_type": "display_data"
    },
    {
     "data": {
      "text/html": [
       "<div>\n",
       "<style scoped>\n",
       "    .dataframe tbody tr th:only-of-type {\n",
       "        vertical-align: middle;\n",
       "    }\n",
       "\n",
       "    .dataframe tbody tr th {\n",
       "        vertical-align: top;\n",
       "    }\n",
       "\n",
       "    .dataframe thead tr th {\n",
       "        text-align: left;\n",
       "    }\n",
       "\n",
       "    .dataframe thead tr:last-of-type th {\n",
       "        text-align: right;\n",
       "    }\n",
       "</style>\n",
       "<table border=\"1\" class=\"dataframe\">\n",
       "  <thead>\n",
       "    <tr>\n",
       "      <th></th>\n",
       "      <th>count</th>\n",
       "      <th>sum</th>\n",
       "      <th>mean</th>\n",
       "    </tr>\n",
       "    <tr>\n",
       "      <th></th>\n",
       "      <th>income</th>\n",
       "      <th>income</th>\n",
       "      <th>income</th>\n",
       "    </tr>\n",
       "    <tr>\n",
       "      <th>arrival_date_year</th>\n",
       "      <th></th>\n",
       "      <th></th>\n",
       "      <th></th>\n",
       "    </tr>\n",
       "  </thead>\n",
       "  <tbody>\n",
       "    <tr>\n",
       "      <th>2017</th>\n",
       "      <td>24480</td>\n",
       "      <td>32373824</td>\n",
       "      <td>1322.460131</td>\n",
       "    </tr>\n",
       "  </tbody>\n",
       "</table>\n",
       "</div>"
      ],
      "text/plain": [
       "                   count       sum         mean\n",
       "                  income    income       income\n",
       "arrival_date_year                              \n",
       "2017               24480  32373824  1322.460131"
      ]
     },
     "metadata": {},
     "output_type": "display_data"
    }
   ],
   "source": [
    "display(df_test.pivot_table(values='profit', index='arrival_date_year', aggfunc=['count', 'sum', 'mean']))\n",
    "\n",
    "display(df_test.pivot_table(values='income', index='arrival_date_year', aggfunc=['count', 'sum', 'mean']))"
   ]
  },
  {
   "cell_type": "markdown",
   "metadata": {},
   "source": [
    "Использование новой технологии не произвело вау-эффекта. Потенциальная рибыль за 2017 год составила на 3 миллиона больше, чем до внедрения системы."
   ]
  },
  {
   "cell_type": "markdown",
   "metadata": {},
   "source": [
    "<div class=\"alert alert-warning\" role=\"alert\">\n",
    "<b>Комментарий ревьюера v3:</b>\n",
    "\n",
    "<b>⚠️«Можно лучше»: </b> \n",
    "1) У тебя посчитатна прибыль за 8 месяцев, нужно посчитьа прибыль за года.\n",
    "    \n",
    "2) В расчетет прибыли от внедерения модели не учтены расходы на ее разработку."
   ]
  },
  {
   "cell_type": "markdown",
   "metadata": {},
   "source": [
    "#### Вывод\n",
    "\n",
    "Наилучшим образом на тестовых данных показала себя модель LogisticRegression. Она работает стабильно и скорее всего её точность не слишком сильно будет варьироваться.\n",
    "\n",
    "Новая система не спасёт бизнес, однако частичную прибыль принесёт, её можно использовать для разработки новой стратегии, к примеру.\n"
   ]
  },
  {
   "cell_type": "markdown",
   "metadata": {},
   "source": [
    "<div class=\"alert alert-warning\" role=\"alert\">\n",
    "<b>Комментарий ревьюера:</b>\n",
    "\n",
    "<b>⚠️«Можно лучше»: </b> Не забудь поправить вывод после внесения правок. Рассчитать прибыль за **год** и не забудь про затраты на разработку "
   ]
  },
  {
   "cell_type": "markdown",
   "metadata": {},
   "source": [
    "### Шаг 5. Опишите портрет «ненадёжного» клиента"
   ]
  },
  {
   "cell_type": "markdown",
   "metadata": {},
   "source": [
    "Попробуем понять причину отказа от брони - при помощи исследовательского анализа данных опишем клиента."
   ]
  },
  {
   "cell_type": "code",
   "execution_count": 47,
   "metadata": {},
   "outputs": [
    {
     "data": {
      "image/png": "[encoded data removed]",
      "text/plain": [
       "<Figure size 1152x648 with 2 Axes>"
      ]
     },
     "metadata": {
      "needs_background": "light"
     },
     "output_type": "display_data"
    }
   ],
   "source": [
    "plt.figure(figsize=(16, 9))\n",
    "\n",
    "sns.heatmap(df_test.drop(['income', 'profit', 'arrival_date_year'], axis=1).corr(), annot=True)\n",
    "\n",
    "plt.show()"
   ]
  },
  {
   "cell_type": "markdown",
   "metadata": {},
   "source": [
    "<div class=\"alert alert-block alert-success\">\n",
    "<b>Комментарий ревьюера:</b>\n",
    "\n",
    "<b>✅«Отлично»:</b> Здорово, что все таки оценил корреляцию, но нужно сделать это раньше и на выборке train."
   ]
  },
  {
   "cell_type": "markdown",
   "metadata": {},
   "source": [
    "#### Вывод\n"
   ]
  },
  {
   "cell_type": "markdown",
   "metadata": {},
   "source": [
    "Как можно увидеть - отказ более вероятен, если бронировали за долго до приезда. Отказ менее вероятен, если гость уже был в отеле, изменяет бронь, приезжает на машине либо у него есть специальные отметки."
   ]
  },
  {
   "cell_type": "markdown",
   "metadata": {},
   "source": [
    "<div class=\"alert alert-warning\" role=\"alert\">\n",
    "<b>Комментарий ревьюера:</b>\n",
    "\n",
    "<b>⚠️«Можно лучше»: </b> В целом описание ненадежного клиента есть. Но делать его только на основе тепловой карты корреляции, не очень надежно. Было бы здорово как минимум провести подробное исследование признаков указанных в этом выводе."
   ]
  },
  {
   "cell_type": "markdown",
   "metadata": {},
   "source": [
    "### Шаг 6. Напишите общий вывод"
   ]
  },
  {
   "cell_type": "markdown",
   "metadata": {},
   "source": [
    "В данном проекте мы попытались разработать модель, которая будет определять ненадёжных клиентов и предлагать внести им депозит.\n",
    "\n",
    "Для этого мы:\n",
    "    \n",
    "1) Предобработали данные: \n",
    "    \n",
    "В данных не было пропусков, однако большое количество данных (около 30-40%) являлось дубликатами, что никак нам не помогло и пришлось их отбросить.\n",
    "\n",
    "Также в достаточной части столбцов были данные - артефакты, но их было не много. Ошибки с пробелами также получилось легко уладить в категориях, однако при заполнении в следующий раз такую ошибку стоит исключить.\n",
    "\n",
    "2) Рассчитали прибыль:\n",
    "\n",
    "Написали функцию для рассчёта прибыли, чтобы в дальнейшем сравнивать прибыль до и после введения новой системы.\n",
    "\n",
    "3) Разработали модель:\n",
    "\n",
    "Получилось разработать модель с показателем F1 меры равным 0.6, что нормально. Моделью стала \n",
    "LogisticRegression, с параметрами (solver='saga', random_state=12345, class_weight='balanced', max_iter=100)\n",
    "\n",
    "4) Оценили прибыль от введения модели:\n",
    "\n",
    "Чуда не случилось. Модель приносит небольшую прибыль. Возможно эта прибыль пойдёт на разработку новой системы.\n",
    "\n",
    "5) Разобрались с причиной отмены брони:\n",
    "\n",
    "Не сложно было догадаться, что чем раньше произведена бронь, тем выше вероятность отмены (человеческий фактор - дела, работа и т.д.). Остальное в целом можно назвать незначительным, по отношению к этому фактору. Шанс, что бронь не спадёт повышается, если клиент уже приезжал в отель, приезжал на машине, либо имеет специальные отметки и изменял бронь.\n",
    "\n",
    "Вывод по системе: \n",
    "\n",
    "Система не оправдала ожиданий, поэтому необходимо её переработать. Новая система приносит небольшую прибыль и самостоятельно бизнес с колен не поднимет, стоит придумать другое решение."
   ]
  },
  {
   "cell_type": "markdown",
   "metadata": {},
   "source": [
    "<div class=\"alert alert-block alert-success\">\n",
    "<b>Комментарий ревьюера:</b>\n",
    "\n",
    "<b>✅«Отлично»:</b> Отличный подробный вывод. ЕСли проблема в точности модели, то первое с чего начинают, это работа с признаками."
   ]
  },
  {
   "cell_type": "markdown",
   "metadata": {},
   "source": [
    "<div style=\"border:solid Chocolate 2px; padding: 40px\">\n",
    "\n",
    "**Общий вывод по проекту**\n",
    "\n",
    "Спасибо за твой проект! \n",
    "\n",
    "**Положительные моменты проекта**:\n",
    "* Все пункты выполнены\n",
    "* Шаги последовательные, есть комментарии шагов\n",
    "* Проводится аналитика\n",
    "* Рассмотрены 2 модели есть подбор гиперпараметров.\n",
    "\n",
    "**Обязательные исправления отмечены красными комментариями, без них, к сожалению, не получится принять работу:**\n",
    "* Анализ аномалий.\n",
    "* Оценка мультиколлинеарности\n",
    "* Погрешность в расчетах прибыли\n",
    "* Обоснование выбора метрики\n",
    "* Наличие выборки valid при условии проведения кросс-валидации\n",
    "* Применение **не** OHE для признаков логистической регрессии\n",
    "* Dummy ловушка при использовании OHE для моделй на основе дерева\n",
    "* Применение тестовой выборки для определения лучшей модели.\n",
    "\n",
    "**Желаю удачи и жду твой проект на повторное ревью!**"
   ]
  },
  {
   "cell_type": "code",
   "execution_count": null,
   "metadata": {},
   "outputs": [],
   "source": []
  }
 ],
 "metadata": {
  "ExecuteTimeLog": [
   {
    "duration": 1747,
    "start_time": "2023-10-31T07:24:48.658Z"
   },
   {
    "duration": 740,
    "start_time": "2023-10-31T07:24:50.408Z"
   },
   {
    "duration": 473,
    "start_time": "2023-10-31T07:27:08.277Z"
   },
   {
    "duration": 469,
    "start_time": "2023-10-31T07:27:23.458Z"
   },
   {
    "duration": 19,
    "start_time": "2023-10-31T07:54:48.310Z"
   },
   {
    "duration": 14,
    "start_time": "2023-10-31T07:54:56.490Z"
   },
   {
    "duration": 17,
    "start_time": "2023-10-31T07:54:58.968Z"
   },
   {
    "duration": 74,
    "start_time": "2023-10-31T07:57:39.497Z"
   },
   {
    "duration": 6,
    "start_time": "2023-10-31T07:57:48.268Z"
   },
   {
    "duration": 1339,
    "start_time": "2023-10-31T07:57:55.247Z"
   },
   {
    "duration": 4,
    "start_time": "2023-10-31T07:58:14.478Z"
   },
   {
    "duration": 5,
    "start_time": "2023-10-31T07:58:21.999Z"
   },
   {
    "duration": 50,
    "start_time": "2023-10-31T07:59:05.779Z"
   },
   {
    "duration": 9,
    "start_time": "2023-10-31T07:59:52.009Z"
   },
   {
    "duration": 9,
    "start_time": "2023-10-31T08:02:23.078Z"
   },
   {
    "duration": 11,
    "start_time": "2023-10-31T08:02:26.058Z"
   },
   {
    "duration": 12,
    "start_time": "2023-10-31T08:02:35.765Z"
   },
   {
    "duration": 5776,
    "start_time": "2023-10-31T08:02:42.731Z"
   },
   {
    "duration": 8,
    "start_time": "2023-10-31T08:02:57.070Z"
   },
   {
    "duration": 7,
    "start_time": "2023-10-31T08:03:04.584Z"
   },
   {
    "duration": 7,
    "start_time": "2023-10-31T08:03:10.992Z"
   },
   {
    "duration": 9,
    "start_time": "2023-10-31T08:06:17.355Z"
   },
   {
    "duration": 53,
    "start_time": "2023-10-31T08:41:59.285Z"
   },
   {
    "duration": 40,
    "start_time": "2023-10-31T08:43:02.398Z"
   },
   {
    "duration": 19,
    "start_time": "2023-10-31T08:49:48.119Z"
   },
   {
    "duration": 15,
    "start_time": "2023-10-31T08:50:05.066Z"
   },
   {
    "duration": 61,
    "start_time": "2023-10-31T08:50:28.073Z"
   },
   {
    "duration": 56,
    "start_time": "2023-10-31T08:50:30.126Z"
   },
   {
    "duration": 1537,
    "start_time": "2023-10-31T08:51:53.978Z"
   },
   {
    "duration": 446,
    "start_time": "2023-10-31T08:51:55.518Z"
   },
   {
    "duration": 20,
    "start_time": "2023-10-31T08:51:55.966Z"
   },
   {
    "duration": 109,
    "start_time": "2023-10-31T08:51:55.988Z"
   },
   {
    "duration": 82,
    "start_time": "2023-10-31T08:51:56.099Z"
   },
   {
    "duration": 84,
    "start_time": "2023-10-31T08:51:56.183Z"
   },
   {
    "duration": 115,
    "start_time": "2023-10-31T13:01:53.965Z"
   },
   {
    "duration": 374,
    "start_time": "2023-10-31T13:02:14.942Z"
   },
   {
    "duration": 180,
    "start_time": "2023-10-31T13:02:26.392Z"
   },
   {
    "duration": 14311,
    "start_time": "2023-10-31T13:02:34.981Z"
   },
   {
    "duration": 195,
    "start_time": "2023-10-31T13:02:57.754Z"
   },
   {
    "duration": 311,
    "start_time": "2023-10-31T13:03:14.363Z"
   },
   {
    "duration": 33,
    "start_time": "2023-10-31T13:04:09.505Z"
   },
   {
    "duration": 1507,
    "start_time": "2023-10-31T13:05:18.994Z"
   },
   {
    "duration": 185,
    "start_time": "2023-10-31T13:05:51.722Z"
   },
   {
    "duration": 344,
    "start_time": "2023-10-31T13:06:05.184Z"
   },
   {
    "duration": 2090,
    "start_time": "2023-10-31T13:06:20.595Z"
   },
   {
    "duration": 1628,
    "start_time": "2023-10-31T13:07:15.524Z"
   },
   {
    "duration": 546,
    "start_time": "2023-10-31T13:07:17.155Z"
   },
   {
    "duration": 54,
    "start_time": "2023-10-31T13:07:17.702Z"
   },
   {
    "duration": 85,
    "start_time": "2023-10-31T13:07:17.758Z"
   },
   {
    "duration": 29,
    "start_time": "2023-10-31T13:07:17.845Z"
   },
   {
    "duration": 50,
    "start_time": "2023-10-31T13:07:17.876Z"
   },
   {
    "duration": 344,
    "start_time": "2023-10-31T13:07:17.928Z"
   },
   {
    "duration": 13,
    "start_time": "2023-10-31T13:07:18.274Z"
   },
   {
    "duration": 99,
    "start_time": "2023-10-31T13:07:18.288Z"
   },
   {
    "duration": 75,
    "start_time": "2023-10-31T13:07:18.388Z"
   },
   {
    "duration": 1904,
    "start_time": "2023-10-31T13:07:38.626Z"
   },
   {
    "duration": 1477,
    "start_time": "2023-10-31T13:07:53.697Z"
   },
   {
    "duration": 1551,
    "start_time": "2023-10-31T13:08:07.278Z"
   },
   {
    "duration": 506,
    "start_time": "2023-10-31T13:08:08.831Z"
   },
   {
    "duration": 41,
    "start_time": "2023-10-31T13:08:09.338Z"
   },
   {
    "duration": 123,
    "start_time": "2023-10-31T13:08:09.380Z"
   },
   {
    "duration": 40,
    "start_time": "2023-10-31T13:08:09.506Z"
   },
   {
    "duration": 34,
    "start_time": "2023-10-31T13:08:09.548Z"
   },
   {
    "duration": 382,
    "start_time": "2023-10-31T13:08:09.584Z"
   },
   {
    "duration": 13,
    "start_time": "2023-10-31T13:08:09.968Z"
   },
   {
    "duration": 102,
    "start_time": "2023-10-31T13:08:09.983Z"
   },
   {
    "duration": 94,
    "start_time": "2023-10-31T13:08:10.086Z"
   },
   {
    "duration": 1596,
    "start_time": "2023-10-31T13:08:29.066Z"
   },
   {
    "duration": 10,
    "start_time": "2023-10-31T13:08:37.803Z"
   },
   {
    "duration": 525,
    "start_time": "2023-10-31T13:08:37.815Z"
   },
   {
    "duration": 41,
    "start_time": "2023-10-31T13:08:38.342Z"
   },
   {
    "duration": 92,
    "start_time": "2023-10-31T13:08:38.385Z"
   },
   {
    "duration": 30,
    "start_time": "2023-10-31T13:08:38.479Z"
   },
   {
    "duration": 31,
    "start_time": "2023-10-31T13:08:38.511Z"
   },
   {
    "duration": 336,
    "start_time": "2023-10-31T13:08:38.544Z"
   },
   {
    "duration": 15,
    "start_time": "2023-10-31T13:08:38.881Z"
   },
   {
    "duration": 198,
    "start_time": "2023-10-31T13:08:38.898Z"
   },
   {
    "duration": 97,
    "start_time": "2023-10-31T13:08:39.098Z"
   },
   {
    "duration": 362,
    "start_time": "2023-10-31T13:09:35.605Z"
   },
   {
    "duration": 345,
    "start_time": "2023-10-31T13:11:03.357Z"
   },
   {
    "duration": 310,
    "start_time": "2023-10-31T13:11:08.757Z"
   },
   {
    "duration": 450,
    "start_time": "2023-10-31T13:14:46.325Z"
   },
   {
    "duration": 355,
    "start_time": "2023-10-31T13:15:38.452Z"
   },
   {
    "duration": 430,
    "start_time": "2023-10-31T13:15:53.944Z"
   },
   {
    "duration": 341,
    "start_time": "2023-10-31T13:15:59.081Z"
   },
   {
    "duration": 381,
    "start_time": "2023-10-31T13:16:09.788Z"
   },
   {
    "duration": 363,
    "start_time": "2023-10-31T13:16:22.919Z"
   },
   {
    "duration": 22,
    "start_time": "2023-10-31T13:18:31.106Z"
   },
   {
    "duration": 17,
    "start_time": "2023-10-31T13:18:37.813Z"
   },
   {
    "duration": 341,
    "start_time": "2023-10-31T13:18:43.936Z"
   },
   {
    "duration": 330,
    "start_time": "2023-10-31T13:18:51.397Z"
   },
   {
    "duration": 477,
    "start_time": "2023-10-31T13:18:59.968Z"
   },
   {
    "duration": 329,
    "start_time": "2023-10-31T13:19:18.576Z"
   },
   {
    "duration": 1533,
    "start_time": "2023-10-31T13:19:34.067Z"
   },
   {
    "duration": 621,
    "start_time": "2023-10-31T13:19:35.603Z"
   },
   {
    "duration": 53,
    "start_time": "2023-10-31T13:19:36.228Z"
   },
   {
    "duration": 92,
    "start_time": "2023-10-31T13:19:36.283Z"
   },
   {
    "duration": 44,
    "start_time": "2023-10-31T13:19:36.378Z"
   },
   {
    "duration": 24,
    "start_time": "2023-10-31T13:19:36.424Z"
   },
   {
    "duration": 364,
    "start_time": "2023-10-31T13:19:36.450Z"
   },
   {
    "duration": 21,
    "start_time": "2023-10-31T13:19:36.816Z"
   },
   {
    "duration": 437,
    "start_time": "2023-10-31T13:19:36.838Z"
   },
   {
    "duration": 38,
    "start_time": "2023-10-31T13:19:37.277Z"
   },
   {
    "duration": 346,
    "start_time": "2023-10-31T13:19:37.317Z"
   },
   {
    "duration": 20,
    "start_time": "2023-10-31T13:19:37.666Z"
   },
   {
    "duration": 30,
    "start_time": "2023-10-31T13:19:37.687Z"
   },
   {
    "duration": 81,
    "start_time": "2023-10-31T13:19:37.719Z"
   },
   {
    "duration": 76,
    "start_time": "2023-10-31T13:19:37.807Z"
   },
   {
    "duration": 79,
    "start_time": "2023-10-31T13:45:13.171Z"
   },
   {
    "duration": 74,
    "start_time": "2023-10-31T13:45:28.854Z"
   },
   {
    "duration": 74,
    "start_time": "2023-10-31T13:45:34.552Z"
   },
   {
    "duration": 80,
    "start_time": "2023-10-31T13:45:42.239Z"
   },
   {
    "duration": 6,
    "start_time": "2023-10-31T13:45:51.949Z"
   },
   {
    "duration": 76,
    "start_time": "2023-10-31T13:46:26.283Z"
   },
   {
    "duration": 91,
    "start_time": "2023-10-31T13:46:30.192Z"
   },
   {
    "duration": 81,
    "start_time": "2023-10-31T13:46:33.823Z"
   },
   {
    "duration": 83,
    "start_time": "2023-10-31T13:46:37.054Z"
   },
   {
    "duration": 71,
    "start_time": "2023-10-31T13:46:44.632Z"
   },
   {
    "duration": 5,
    "start_time": "2023-10-31T13:46:49.499Z"
   },
   {
    "duration": 159,
    "start_time": "2023-10-31T13:50:03.841Z"
   },
   {
    "duration": 19,
    "start_time": "2023-10-31T13:50:22.332Z"
   },
   {
    "duration": 1397,
    "start_time": "2023-10-31T13:50:52.751Z"
   },
   {
    "duration": 1409,
    "start_time": "2023-10-31T13:51:07.626Z"
   },
   {
    "duration": 457,
    "start_time": "2023-10-31T13:51:09.037Z"
   },
   {
    "duration": 52,
    "start_time": "2023-10-31T13:51:09.496Z"
   },
   {
    "duration": 88,
    "start_time": "2023-10-31T13:51:09.550Z"
   },
   {
    "duration": 32,
    "start_time": "2023-10-31T13:51:09.640Z"
   },
   {
    "duration": 57,
    "start_time": "2023-10-31T13:51:09.674Z"
   },
   {
    "duration": 320,
    "start_time": "2023-10-31T13:51:09.733Z"
   },
   {
    "duration": 20,
    "start_time": "2023-10-31T13:51:10.054Z"
   },
   {
    "duration": 401,
    "start_time": "2023-10-31T13:51:10.076Z"
   },
   {
    "duration": 28,
    "start_time": "2023-10-31T13:51:10.479Z"
   },
   {
    "duration": 306,
    "start_time": "2023-10-31T13:51:10.508Z"
   },
   {
    "duration": 19,
    "start_time": "2023-10-31T13:51:10.815Z"
   },
   {
    "duration": 13,
    "start_time": "2023-10-31T13:51:10.836Z"
   },
   {
    "duration": 87,
    "start_time": "2023-10-31T13:51:10.852Z"
   },
   {
    "duration": 76,
    "start_time": "2023-10-31T13:51:10.941Z"
   },
   {
    "duration": 5,
    "start_time": "2023-10-31T13:51:11.019Z"
   },
   {
    "duration": 1481,
    "start_time": "2023-10-31T13:51:11.025Z"
   },
   {
    "duration": 117,
    "start_time": "2023-10-31T13:51:40.063Z"
   },
   {
    "duration": 39,
    "start_time": "2023-10-31T13:51:47.512Z"
   },
   {
    "duration": 19,
    "start_time": "2023-10-31T13:51:54.515Z"
   },
   {
    "duration": 18,
    "start_time": "2023-10-31T13:52:53.323Z"
   },
   {
    "duration": 22,
    "start_time": "2023-10-31T13:52:57.220Z"
   },
   {
    "duration": 73,
    "start_time": "2023-10-31T13:54:33.929Z"
   },
   {
    "duration": 30,
    "start_time": "2023-10-31T13:56:21.946Z"
   },
   {
    "duration": 24,
    "start_time": "2023-10-31T13:56:34.623Z"
   },
   {
    "duration": 1604,
    "start_time": "2023-11-01T08:21:15.631Z"
   },
   {
    "duration": 688,
    "start_time": "2023-11-01T08:21:17.237Z"
   },
   {
    "duration": 41,
    "start_time": "2023-11-01T08:21:17.926Z"
   },
   {
    "duration": 154,
    "start_time": "2023-11-01T08:21:17.970Z"
   },
   {
    "duration": 275,
    "start_time": "2023-11-01T08:21:18.125Z"
   },
   {
    "duration": 154,
    "start_time": "2023-11-01T08:21:18.402Z"
   },
   {
    "duration": 544,
    "start_time": "2023-11-01T08:21:18.558Z"
   },
   {
    "duration": 27,
    "start_time": "2023-11-01T08:21:19.105Z"
   },
   {
    "duration": 571,
    "start_time": "2023-11-01T08:21:19.133Z"
   },
   {
    "duration": 30,
    "start_time": "2023-11-01T08:21:19.708Z"
   },
   {
    "duration": 363,
    "start_time": "2023-11-01T08:21:19.739Z"
   },
   {
    "duration": 31,
    "start_time": "2023-11-01T08:21:20.105Z"
   },
   {
    "duration": 79,
    "start_time": "2023-11-01T08:21:20.137Z"
   },
   {
    "duration": 204,
    "start_time": "2023-11-01T08:21:20.218Z"
   },
   {
    "duration": 171,
    "start_time": "2023-11-01T08:21:20.424Z"
   },
   {
    "duration": 57,
    "start_time": "2023-11-01T08:21:20.597Z"
   },
   {
    "duration": 1569,
    "start_time": "2023-11-01T08:21:20.656Z"
   },
   {
    "duration": 22,
    "start_time": "2023-11-01T08:21:22.226Z"
   },
   {
    "duration": 203,
    "start_time": "2023-11-01T08:21:22.249Z"
   },
   {
    "duration": 193,
    "start_time": "2023-11-01T08:21:22.453Z"
   },
   {
    "duration": 149,
    "start_time": "2023-11-01T08:21:22.648Z"
   },
   {
    "duration": 31,
    "start_time": "2023-11-01T08:21:44.226Z"
   },
   {
    "duration": 10,
    "start_time": "2023-11-01T08:28:12.181Z"
   },
   {
    "duration": 142,
    "start_time": "2023-11-01T08:35:34.144Z"
   },
   {
    "duration": 9,
    "start_time": "2023-11-01T08:38:58.635Z"
   },
   {
    "duration": 108,
    "start_time": "2023-11-01T08:39:01.201Z"
   },
   {
    "duration": 103,
    "start_time": "2023-11-01T08:39:34.497Z"
   },
   {
    "duration": 1464,
    "start_time": "2023-11-01T08:44:24.718Z"
   },
   {
    "duration": 477,
    "start_time": "2023-11-01T08:44:26.184Z"
   },
   {
    "duration": 39,
    "start_time": "2023-11-01T08:44:26.663Z"
   },
   {
    "duration": 76,
    "start_time": "2023-11-01T08:44:26.704Z"
   },
   {
    "duration": 42,
    "start_time": "2023-11-01T08:44:26.782Z"
   },
   {
    "duration": 28,
    "start_time": "2023-11-01T08:44:26.826Z"
   },
   {
    "duration": 342,
    "start_time": "2023-11-01T08:44:26.855Z"
   },
   {
    "duration": 28,
    "start_time": "2023-11-01T08:44:27.199Z"
   },
   {
    "duration": 389,
    "start_time": "2023-11-01T08:44:27.229Z"
   },
   {
    "duration": 18,
    "start_time": "2023-11-01T08:44:27.624Z"
   },
   {
    "duration": 391,
    "start_time": "2023-11-01T08:44:27.644Z"
   },
   {
    "duration": 19,
    "start_time": "2023-11-01T08:44:28.037Z"
   },
   {
    "duration": 28,
    "start_time": "2023-11-01T08:44:28.058Z"
   },
   {
    "duration": 68,
    "start_time": "2023-11-01T08:44:28.087Z"
   },
   {
    "duration": 70,
    "start_time": "2023-11-01T08:44:28.157Z"
   },
   {
    "duration": 6,
    "start_time": "2023-11-01T08:44:28.229Z"
   },
   {
    "duration": 1398,
    "start_time": "2023-11-01T08:44:28.237Z"
   },
   {
    "duration": 19,
    "start_time": "2023-11-01T08:44:29.637Z"
   },
   {
    "duration": 52,
    "start_time": "2023-11-01T08:44:29.658Z"
   },
   {
    "duration": 24,
    "start_time": "2023-11-01T08:44:29.711Z"
   },
   {
    "duration": 17,
    "start_time": "2023-11-01T08:44:29.736Z"
   },
   {
    "duration": 129,
    "start_time": "2023-11-01T08:44:29.754Z"
   },
   {
    "duration": 123,
    "start_time": "2023-11-01T08:44:29.885Z"
   },
   {
    "duration": 115,
    "start_time": "2023-11-01T08:44:30.010Z"
   },
   {
    "duration": 105,
    "start_time": "2023-11-01T08:44:52.236Z"
   },
   {
    "duration": 102,
    "start_time": "2023-11-01T08:45:07.250Z"
   },
   {
    "duration": 94,
    "start_time": "2023-11-01T08:45:11.939Z"
   },
   {
    "duration": 98,
    "start_time": "2023-11-01T08:45:19.994Z"
   },
   {
    "duration": 5,
    "start_time": "2023-11-01T08:45:24.692Z"
   },
   {
    "duration": 470,
    "start_time": "2023-11-01T08:45:24.699Z"
   },
   {
    "duration": 39,
    "start_time": "2023-11-01T08:45:25.170Z"
   },
   {
    "duration": 61,
    "start_time": "2023-11-01T08:45:25.223Z"
   },
   {
    "duration": 21,
    "start_time": "2023-11-01T08:45:25.287Z"
   },
   {
    "duration": 30,
    "start_time": "2023-11-01T08:45:25.324Z"
   },
   {
    "duration": 319,
    "start_time": "2023-11-01T08:45:25.356Z"
   },
   {
    "duration": 18,
    "start_time": "2023-11-01T08:45:25.677Z"
   },
   {
    "duration": 371,
    "start_time": "2023-11-01T08:45:25.697Z"
   },
   {
    "duration": 19,
    "start_time": "2023-11-01T08:45:26.070Z"
   },
   {
    "duration": 314,
    "start_time": "2023-11-01T08:45:26.092Z"
   },
   {
    "duration": 23,
    "start_time": "2023-11-01T08:45:26.407Z"
   },
   {
    "duration": 14,
    "start_time": "2023-11-01T08:45:26.432Z"
   },
   {
    "duration": 85,
    "start_time": "2023-11-01T08:45:26.448Z"
   },
   {
    "duration": 74,
    "start_time": "2023-11-01T08:45:26.535Z"
   },
   {
    "duration": 13,
    "start_time": "2023-11-01T08:45:26.611Z"
   },
   {
    "duration": 1406,
    "start_time": "2023-11-01T08:45:26.626Z"
   },
   {
    "duration": 23,
    "start_time": "2023-11-01T08:45:28.034Z"
   },
   {
    "duration": 46,
    "start_time": "2023-11-01T08:45:28.059Z"
   },
   {
    "duration": 23,
    "start_time": "2023-11-01T08:45:28.107Z"
   },
   {
    "duration": 15,
    "start_time": "2023-11-01T08:45:28.131Z"
   },
   {
    "duration": 121,
    "start_time": "2023-11-01T08:45:28.147Z"
   },
   {
    "duration": 138,
    "start_time": "2023-11-01T08:45:28.269Z"
   },
   {
    "duration": 20,
    "start_time": "2023-11-01T08:45:28.408Z"
   },
   {
    "duration": 101,
    "start_time": "2023-11-01T08:47:01.389Z"
   },
   {
    "duration": 104,
    "start_time": "2023-11-01T08:47:11.452Z"
   },
   {
    "duration": 11,
    "start_time": "2023-11-01T08:49:19.119Z"
   },
   {
    "duration": 42,
    "start_time": "2023-11-01T08:50:08.333Z"
   },
   {
    "duration": 543,
    "start_time": "2023-11-01T08:51:27.511Z"
   },
   {
    "duration": 19,
    "start_time": "2023-11-01T08:55:12.891Z"
   },
   {
    "duration": 1429,
    "start_time": "2023-11-01T08:56:16.717Z"
   },
   {
    "duration": 464,
    "start_time": "2023-11-01T08:56:18.147Z"
   },
   {
    "duration": 50,
    "start_time": "2023-11-01T08:56:18.613Z"
   },
   {
    "duration": 93,
    "start_time": "2023-11-01T08:56:18.666Z"
   },
   {
    "duration": 33,
    "start_time": "2023-11-01T08:56:18.761Z"
   },
   {
    "duration": 124,
    "start_time": "2023-11-01T08:56:18.795Z"
   },
   {
    "duration": 408,
    "start_time": "2023-11-01T08:56:18.921Z"
   },
   {
    "duration": 21,
    "start_time": "2023-11-01T08:56:19.330Z"
   },
   {
    "duration": 465,
    "start_time": "2023-11-01T08:56:19.353Z"
   },
   {
    "duration": 20,
    "start_time": "2023-11-01T08:56:19.820Z"
   },
   {
    "duration": 443,
    "start_time": "2023-11-01T08:56:19.841Z"
   },
   {
    "duration": 20,
    "start_time": "2023-11-01T08:56:20.286Z"
   },
   {
    "duration": 203,
    "start_time": "2023-11-01T08:56:20.308Z"
   },
   {
    "duration": 120,
    "start_time": "2023-11-01T08:56:20.513Z"
   },
   {
    "duration": 218,
    "start_time": "2023-11-01T08:56:20.635Z"
   },
   {
    "duration": 37,
    "start_time": "2023-11-01T08:56:20.855Z"
   },
   {
    "duration": 1431,
    "start_time": "2023-11-01T08:56:20.893Z"
   },
   {
    "duration": 22,
    "start_time": "2023-11-01T08:56:22.326Z"
   },
   {
    "duration": 89,
    "start_time": "2023-11-01T08:56:22.351Z"
   },
   {
    "duration": 189,
    "start_time": "2023-11-01T08:56:22.442Z"
   },
   {
    "duration": 73,
    "start_time": "2023-11-01T08:56:22.633Z"
   },
   {
    "duration": 114,
    "start_time": "2023-11-01T08:56:22.708Z"
   },
   {
    "duration": 408,
    "start_time": "2023-11-01T08:56:22.824Z"
   },
   {
    "duration": 1457,
    "start_time": "2023-11-01T08:57:56.470Z"
   },
   {
    "duration": 496,
    "start_time": "2023-11-01T08:57:57.929Z"
   },
   {
    "duration": 40,
    "start_time": "2023-11-01T08:57:58.427Z"
   },
   {
    "duration": 84,
    "start_time": "2023-11-01T08:57:58.469Z"
   },
   {
    "duration": 29,
    "start_time": "2023-11-01T08:57:58.555Z"
   },
   {
    "duration": 45,
    "start_time": "2023-11-01T08:57:58.585Z"
   },
   {
    "duration": 332,
    "start_time": "2023-11-01T08:57:58.632Z"
   },
   {
    "duration": 22,
    "start_time": "2023-11-01T08:57:58.966Z"
   },
   {
    "duration": 403,
    "start_time": "2023-11-01T08:57:58.990Z"
   },
   {
    "duration": 31,
    "start_time": "2023-11-01T08:57:59.396Z"
   },
   {
    "duration": 400,
    "start_time": "2023-11-01T08:57:59.429Z"
   },
   {
    "duration": 20,
    "start_time": "2023-11-01T08:57:59.831Z"
   },
   {
    "duration": 13,
    "start_time": "2023-11-01T08:57:59.853Z"
   },
   {
    "duration": 90,
    "start_time": "2023-11-01T08:57:59.867Z"
   },
   {
    "duration": 93,
    "start_time": "2023-11-01T08:57:59.959Z"
   },
   {
    "duration": 6,
    "start_time": "2023-11-01T08:58:00.054Z"
   },
   {
    "duration": 1762,
    "start_time": "2023-11-01T08:58:00.062Z"
   },
   {
    "duration": 21,
    "start_time": "2023-11-01T08:58:01.826Z"
   },
   {
    "duration": 128,
    "start_time": "2023-11-01T08:58:01.848Z"
   },
   {
    "duration": 36,
    "start_time": "2023-11-01T08:58:01.978Z"
   },
   {
    "duration": 112,
    "start_time": "2023-11-01T08:58:02.016Z"
   },
   {
    "duration": 132,
    "start_time": "2023-11-01T08:58:02.130Z"
   },
   {
    "duration": 450,
    "start_time": "2023-11-01T08:58:02.264Z"
   },
   {
    "duration": 6114,
    "start_time": "2023-11-01T09:01:34.227Z"
   },
   {
    "duration": 12,
    "start_time": "2023-11-01T09:02:36.080Z"
   },
   {
    "duration": 4567,
    "start_time": "2023-11-01T09:04:27.368Z"
   },
   {
    "duration": 37,
    "start_time": "2023-11-01T09:04:41.309Z"
   },
   {
    "duration": 4295,
    "start_time": "2023-11-01T09:04:53.744Z"
   },
   {
    "duration": 10507,
    "start_time": "2023-11-01T09:09:06.026Z"
   },
   {
    "duration": 5180,
    "start_time": "2023-11-01T09:10:05.459Z"
   },
   {
    "duration": 5539,
    "start_time": "2023-11-01T09:10:37.286Z"
   },
   {
    "duration": 12506,
    "start_time": "2023-11-01T09:10:56.326Z"
   },
   {
    "duration": 4880,
    "start_time": "2023-11-01T09:11:58.459Z"
   },
   {
    "duration": 1400,
    "start_time": "2023-11-01T09:12:35.962Z"
   },
   {
    "duration": 473,
    "start_time": "2023-11-01T09:12:37.364Z"
   },
   {
    "duration": 37,
    "start_time": "2023-11-01T09:12:37.839Z"
   },
   {
    "duration": 81,
    "start_time": "2023-11-01T09:12:37.878Z"
   },
   {
    "duration": 27,
    "start_time": "2023-11-01T09:12:37.961Z"
   },
   {
    "duration": 35,
    "start_time": "2023-11-01T09:12:37.990Z"
   },
   {
    "duration": 346,
    "start_time": "2023-11-01T09:12:38.027Z"
   },
   {
    "duration": 20,
    "start_time": "2023-11-01T09:12:38.375Z"
   },
   {
    "duration": 487,
    "start_time": "2023-11-01T09:12:38.397Z"
   },
   {
    "duration": 20,
    "start_time": "2023-11-01T09:12:38.887Z"
   },
   {
    "duration": 331,
    "start_time": "2023-11-01T09:12:38.909Z"
   },
   {
    "duration": 19,
    "start_time": "2023-11-01T09:12:39.241Z"
   },
   {
    "duration": 13,
    "start_time": "2023-11-01T09:12:39.262Z"
   },
   {
    "duration": 88,
    "start_time": "2023-11-01T09:12:39.277Z"
   },
   {
    "duration": 77,
    "start_time": "2023-11-01T09:12:39.367Z"
   },
   {
    "duration": 7,
    "start_time": "2023-11-01T09:12:39.446Z"
   },
   {
    "duration": 1440,
    "start_time": "2023-11-01T09:12:39.455Z"
   },
   {
    "duration": 27,
    "start_time": "2023-11-01T09:12:40.897Z"
   },
   {
    "duration": 131,
    "start_time": "2023-11-01T09:12:40.925Z"
   },
   {
    "duration": 243,
    "start_time": "2023-11-01T09:12:41.058Z"
   },
   {
    "duration": 337,
    "start_time": "2023-11-01T09:12:41.302Z"
   },
   {
    "duration": 140,
    "start_time": "2023-11-01T09:12:41.640Z"
   },
   {
    "duration": 6392,
    "start_time": "2023-11-01T09:12:41.782Z"
   },
   {
    "duration": 0,
    "start_time": "2023-11-01T09:12:48.175Z"
   },
   {
    "duration": 44,
    "start_time": "2023-11-01T09:14:37.880Z"
   },
   {
    "duration": 5,
    "start_time": "2023-11-01T09:14:42.603Z"
   },
   {
    "duration": 463,
    "start_time": "2023-11-01T09:14:42.611Z"
   },
   {
    "duration": 65,
    "start_time": "2023-11-01T09:14:43.076Z"
   },
   {
    "duration": 83,
    "start_time": "2023-11-01T09:14:43.143Z"
   },
   {
    "duration": 23,
    "start_time": "2023-11-01T09:14:43.229Z"
   },
   {
    "duration": 22,
    "start_time": "2023-11-01T09:14:43.254Z"
   },
   {
    "duration": 325,
    "start_time": "2023-11-01T09:14:43.278Z"
   },
   {
    "duration": 24,
    "start_time": "2023-11-01T09:14:43.605Z"
   },
   {
    "duration": 310,
    "start_time": "2023-11-01T09:14:43.631Z"
   },
   {
    "duration": 19,
    "start_time": "2023-11-01T09:14:43.943Z"
   },
   {
    "duration": 312,
    "start_time": "2023-11-01T09:14:43.964Z"
   },
   {
    "duration": 20,
    "start_time": "2023-11-01T09:14:44.277Z"
   },
   {
    "duration": 27,
    "start_time": "2023-11-01T09:14:44.299Z"
   },
   {
    "duration": 65,
    "start_time": "2023-11-01T09:14:44.327Z"
   },
   {
    "duration": 83,
    "start_time": "2023-11-01T09:14:44.393Z"
   },
   {
    "duration": 5,
    "start_time": "2023-11-01T09:14:44.478Z"
   },
   {
    "duration": 1398,
    "start_time": "2023-11-01T09:14:44.484Z"
   },
   {
    "duration": 22,
    "start_time": "2023-11-01T09:14:45.884Z"
   },
   {
    "duration": 50,
    "start_time": "2023-11-01T09:14:45.908Z"
   },
   {
    "duration": 37,
    "start_time": "2023-11-01T09:14:45.959Z"
   },
   {
    "duration": 70,
    "start_time": "2023-11-01T09:14:45.998Z"
   },
   {
    "duration": 95,
    "start_time": "2023-11-01T09:14:46.070Z"
   },
   {
    "duration": 6359,
    "start_time": "2023-11-01T09:14:46.167Z"
   },
   {
    "duration": 0,
    "start_time": "2023-11-01T09:14:52.527Z"
   },
   {
    "duration": 18,
    "start_time": "2023-11-01T09:46:21.787Z"
   },
   {
    "duration": 77,
    "start_time": "2023-11-01T09:50:50.535Z"
   },
   {
    "duration": 86,
    "start_time": "2023-11-01T09:51:33.650Z"
   },
   {
    "duration": 74,
    "start_time": "2023-11-01T09:51:40.786Z"
   },
   {
    "duration": 87,
    "start_time": "2023-11-01T09:52:18.587Z"
   },
   {
    "duration": 74,
    "start_time": "2023-11-01T09:52:41.707Z"
   },
   {
    "duration": 79,
    "start_time": "2023-11-01T09:53:54.160Z"
   },
   {
    "duration": 1638,
    "start_time": "2023-11-01T09:54:30.671Z"
   },
   {
    "duration": 450,
    "start_time": "2023-11-01T09:54:32.311Z"
   },
   {
    "duration": 44,
    "start_time": "2023-11-01T09:54:32.763Z"
   },
   {
    "duration": 64,
    "start_time": "2023-11-01T09:54:32.825Z"
   },
   {
    "duration": 51,
    "start_time": "2023-11-01T09:54:32.891Z"
   },
   {
    "duration": 28,
    "start_time": "2023-11-01T09:54:32.944Z"
   },
   {
    "duration": 376,
    "start_time": "2023-11-01T09:54:32.974Z"
   },
   {
    "duration": 23,
    "start_time": "2023-11-01T09:54:33.353Z"
   },
   {
    "duration": 399,
    "start_time": "2023-11-01T09:54:33.378Z"
   },
   {
    "duration": 18,
    "start_time": "2023-11-01T09:54:33.780Z"
   },
   {
    "duration": 366,
    "start_time": "2023-11-01T09:54:33.800Z"
   },
   {
    "duration": 71,
    "start_time": "2023-11-01T09:54:34.167Z"
   },
   {
    "duration": 12,
    "start_time": "2023-11-01T09:54:34.239Z"
   },
   {
    "duration": 173,
    "start_time": "2023-11-01T09:54:34.253Z"
   },
   {
    "duration": 118,
    "start_time": "2023-11-01T09:54:34.427Z"
   },
   {
    "duration": 5,
    "start_time": "2023-11-01T09:54:34.547Z"
   },
   {
    "duration": 3107,
    "start_time": "2023-11-01T09:54:34.553Z"
   },
   {
    "duration": 74,
    "start_time": "2023-11-01T09:54:37.662Z"
   },
   {
    "duration": 64,
    "start_time": "2023-11-01T09:54:37.738Z"
   },
   {
    "duration": 28,
    "start_time": "2023-11-01T09:54:37.823Z"
   },
   {
    "duration": 49,
    "start_time": "2023-11-01T09:54:37.853Z"
   },
   {
    "duration": 140,
    "start_time": "2023-11-01T09:54:37.904Z"
   },
   {
    "duration": 3920,
    "start_time": "2023-11-01T09:54:38.046Z"
   },
   {
    "duration": 0,
    "start_time": "2023-11-01T09:54:41.968Z"
   },
   {
    "duration": 1400,
    "start_time": "2023-11-01T09:55:12.451Z"
   },
   {
    "duration": 455,
    "start_time": "2023-11-01T09:55:13.853Z"
   },
   {
    "duration": 46,
    "start_time": "2023-11-01T09:55:14.310Z"
   },
   {
    "duration": 177,
    "start_time": "2023-11-01T09:55:14.358Z"
   },
   {
    "duration": 29,
    "start_time": "2023-11-01T09:55:14.536Z"
   },
   {
    "duration": 214,
    "start_time": "2023-11-01T09:55:14.567Z"
   },
   {
    "duration": 848,
    "start_time": "2023-11-01T09:55:14.783Z"
   },
   {
    "duration": 21,
    "start_time": "2023-11-01T09:55:15.633Z"
   },
   {
    "duration": 603,
    "start_time": "2023-11-01T09:55:15.655Z"
   },
   {
    "duration": 19,
    "start_time": "2023-11-01T09:55:16.260Z"
   },
   {
    "duration": 338,
    "start_time": "2023-11-01T09:55:16.281Z"
   },
   {
    "duration": 21,
    "start_time": "2023-11-01T09:55:16.621Z"
   },
   {
    "duration": 12,
    "start_time": "2023-11-01T09:55:16.643Z"
   },
   {
    "duration": 84,
    "start_time": "2023-11-01T09:55:16.657Z"
   },
   {
    "duration": 66,
    "start_time": "2023-11-01T09:55:16.744Z"
   },
   {
    "duration": 12,
    "start_time": "2023-11-01T09:55:16.812Z"
   },
   {
    "duration": 1446,
    "start_time": "2023-11-01T09:55:16.826Z"
   },
   {
    "duration": 21,
    "start_time": "2023-11-01T09:55:18.274Z"
   },
   {
    "duration": 52,
    "start_time": "2023-11-01T09:55:18.297Z"
   },
   {
    "duration": 40,
    "start_time": "2023-11-01T09:55:18.350Z"
   },
   {
    "duration": 31,
    "start_time": "2023-11-01T09:55:18.392Z"
   },
   {
    "duration": 135,
    "start_time": "2023-11-01T09:55:18.425Z"
   },
   {
    "duration": 4473,
    "start_time": "2023-11-01T09:55:18.562Z"
   },
   {
    "duration": 1941,
    "start_time": "2023-11-01T09:55:23.036Z"
   },
   {
    "duration": 446,
    "start_time": "2023-11-01T10:08:01.183Z"
   },
   {
    "duration": 11,
    "start_time": "2023-11-01T10:08:57.034Z"
   },
   {
    "duration": 1411,
    "start_time": "2023-11-01T10:09:04.339Z"
   },
   {
    "duration": 533,
    "start_time": "2023-11-01T10:09:05.752Z"
   },
   {
    "duration": 56,
    "start_time": "2023-11-01T10:09:06.287Z"
   },
   {
    "duration": 79,
    "start_time": "2023-11-01T10:09:06.346Z"
   },
   {
    "duration": 30,
    "start_time": "2023-11-01T10:09:06.427Z"
   },
   {
    "duration": 27,
    "start_time": "2023-11-01T10:09:06.459Z"
   },
   {
    "duration": 359,
    "start_time": "2023-11-01T10:09:06.487Z"
   },
   {
    "duration": 19,
    "start_time": "2023-11-01T10:09:06.848Z"
   },
   {
    "duration": 408,
    "start_time": "2023-11-01T10:09:06.868Z"
   },
   {
    "duration": 18,
    "start_time": "2023-11-01T10:09:07.279Z"
   },
   {
    "duration": 334,
    "start_time": "2023-11-01T10:09:07.299Z"
   },
   {
    "duration": 20,
    "start_time": "2023-11-01T10:09:07.634Z"
   },
   {
    "duration": 21,
    "start_time": "2023-11-01T10:09:07.656Z"
   },
   {
    "duration": 76,
    "start_time": "2023-11-01T10:09:07.679Z"
   },
   {
    "duration": 71,
    "start_time": "2023-11-01T10:09:07.757Z"
   },
   {
    "duration": 6,
    "start_time": "2023-11-01T10:09:07.829Z"
   },
   {
    "duration": 1430,
    "start_time": "2023-11-01T10:09:07.836Z"
   },
   {
    "duration": 21,
    "start_time": "2023-11-01T10:09:09.268Z"
   },
   {
    "duration": 96,
    "start_time": "2023-11-01T10:09:09.291Z"
   },
   {
    "duration": 24,
    "start_time": "2023-11-01T10:09:09.389Z"
   },
   {
    "duration": 32,
    "start_time": "2023-11-01T10:09:09.415Z"
   },
   {
    "duration": 145,
    "start_time": "2023-11-01T10:09:09.449Z"
   },
   {
    "duration": 440,
    "start_time": "2023-11-01T10:09:09.595Z"
   },
   {
    "duration": 188,
    "start_time": "2023-11-01T10:09:10.037Z"
   },
   {
    "duration": 270,
    "start_time": "2023-11-01T10:18:19.000Z"
   },
   {
    "duration": 1539,
    "start_time": "2023-11-01T10:18:25.738Z"
   },
   {
    "duration": 476,
    "start_time": "2023-11-01T10:18:27.279Z"
   },
   {
    "duration": 39,
    "start_time": "2023-11-01T10:18:27.757Z"
   },
   {
    "duration": 88,
    "start_time": "2023-11-01T10:18:27.798Z"
   },
   {
    "duration": 43,
    "start_time": "2023-11-01T10:18:27.888Z"
   },
   {
    "duration": 26,
    "start_time": "2023-11-01T10:18:27.933Z"
   },
   {
    "duration": 366,
    "start_time": "2023-11-01T10:18:27.961Z"
   },
   {
    "duration": 20,
    "start_time": "2023-11-01T10:18:28.329Z"
   },
   {
    "duration": 412,
    "start_time": "2023-11-01T10:18:28.351Z"
   },
   {
    "duration": 20,
    "start_time": "2023-11-01T10:18:28.766Z"
   },
   {
    "duration": 374,
    "start_time": "2023-11-01T10:18:28.788Z"
   },
   {
    "duration": 20,
    "start_time": "2023-11-01T10:18:29.164Z"
   },
   {
    "duration": 12,
    "start_time": "2023-11-01T10:18:29.185Z"
   },
   {
    "duration": 104,
    "start_time": "2023-11-01T10:18:29.199Z"
   },
   {
    "duration": 100,
    "start_time": "2023-11-01T10:18:29.304Z"
   },
   {
    "duration": 5,
    "start_time": "2023-11-01T10:18:29.406Z"
   },
   {
    "duration": 1462,
    "start_time": "2023-11-01T10:18:29.412Z"
   },
   {
    "duration": 22,
    "start_time": "2023-11-01T10:18:30.876Z"
   },
   {
    "duration": 116,
    "start_time": "2023-11-01T10:18:30.900Z"
   },
   {
    "duration": 153,
    "start_time": "2023-11-01T10:18:31.018Z"
   },
   {
    "duration": 309,
    "start_time": "2023-11-01T10:18:31.173Z"
   },
   {
    "duration": 620,
    "start_time": "2023-11-01T10:18:31.484Z"
   },
   {
    "duration": 529,
    "start_time": "2023-11-01T10:18:32.106Z"
   },
   {
    "duration": 2358,
    "start_time": "2023-11-01T10:18:32.636Z"
   },
   {
    "duration": 1471,
    "start_time": "2023-11-01T10:18:56.899Z"
   },
   {
    "duration": 464,
    "start_time": "2023-11-01T10:18:58.373Z"
   },
   {
    "duration": 39,
    "start_time": "2023-11-01T10:18:58.839Z"
   },
   {
    "duration": 90,
    "start_time": "2023-11-01T10:18:58.880Z"
   },
   {
    "duration": 28,
    "start_time": "2023-11-01T10:18:58.971Z"
   },
   {
    "duration": 38,
    "start_time": "2023-11-01T10:18:59.000Z"
   },
   {
    "duration": 338,
    "start_time": "2023-11-01T10:18:59.040Z"
   },
   {
    "duration": 19,
    "start_time": "2023-11-01T10:18:59.379Z"
   },
   {
    "duration": 419,
    "start_time": "2023-11-01T10:18:59.399Z"
   },
   {
    "duration": 21,
    "start_time": "2023-11-01T10:18:59.824Z"
   },
   {
    "duration": 381,
    "start_time": "2023-11-01T10:18:59.847Z"
   },
   {
    "duration": 22,
    "start_time": "2023-11-01T10:19:00.230Z"
   },
   {
    "duration": 122,
    "start_time": "2023-11-01T10:19:00.254Z"
   },
   {
    "duration": 128,
    "start_time": "2023-11-01T10:19:00.378Z"
   },
   {
    "duration": 69,
    "start_time": "2023-11-01T10:19:00.508Z"
   },
   {
    "duration": 16,
    "start_time": "2023-11-01T10:19:00.579Z"
   },
   {
    "duration": 1578,
    "start_time": "2023-11-01T10:19:00.597Z"
   },
   {
    "duration": 22,
    "start_time": "2023-11-01T10:19:02.176Z"
   },
   {
    "duration": 79,
    "start_time": "2023-11-01T10:19:02.199Z"
   },
   {
    "duration": 42,
    "start_time": "2023-11-01T10:19:02.280Z"
   },
   {
    "duration": 32,
    "start_time": "2023-11-01T10:19:02.324Z"
   },
   {
    "duration": 280,
    "start_time": "2023-11-01T10:19:02.358Z"
   },
   {
    "duration": 484,
    "start_time": "2023-11-01T10:19:02.640Z"
   },
   {
    "duration": 18055,
    "start_time": "2023-11-01T10:19:03.126Z"
   },
   {
    "duration": 9282,
    "start_time": "2023-11-01T10:20:02.904Z"
   },
   {
    "duration": 2446,
    "start_time": "2023-11-01T10:20:19.017Z"
   },
   {
    "duration": 731,
    "start_time": "2023-11-01T10:20:29.452Z"
   },
   {
    "duration": 535,
    "start_time": "2023-11-01T10:20:37.449Z"
   },
   {
    "duration": 784,
    "start_time": "2023-11-01T10:20:42.850Z"
   },
   {
    "duration": 7073,
    "start_time": "2023-11-01T10:20:49.310Z"
   },
   {
    "duration": 22609,
    "start_time": "2023-11-01T10:21:00.454Z"
   },
   {
    "duration": 288789,
    "start_time": "2023-11-01T10:22:50.086Z"
   },
   {
    "duration": 115,
    "start_time": "2023-11-01T10:36:16.648Z"
   },
   {
    "duration": 7,
    "start_time": "2023-11-01T10:36:48.534Z"
   },
   {
    "duration": 5,
    "start_time": "2023-11-01T10:36:53.443Z"
   },
   {
    "duration": 50,
    "start_time": "2023-11-01T10:37:09.979Z"
   },
   {
    "duration": 1314,
    "start_time": "2023-11-01T10:37:53.540Z"
   },
   {
    "duration": 3,
    "start_time": "2023-11-01T10:43:24.073Z"
   },
   {
    "duration": 13,
    "start_time": "2023-11-01T10:44:27.507Z"
   },
   {
    "duration": 11,
    "start_time": "2023-11-01T10:44:51.335Z"
   },
   {
    "duration": 36,
    "start_time": "2023-11-01T10:45:17.572Z"
   },
   {
    "duration": 78,
    "start_time": "2023-11-01T10:45:25.140Z"
   },
   {
    "duration": 192,
    "start_time": "2023-11-01T10:49:23.498Z"
   },
   {
    "duration": 15,
    "start_time": "2023-11-01T10:49:58.159Z"
   },
   {
    "duration": 10,
    "start_time": "2023-11-01T10:50:12.028Z"
   },
   {
    "duration": 11,
    "start_time": "2023-11-01T10:50:46.826Z"
   },
   {
    "duration": 759,
    "start_time": "2023-11-01T10:51:09.185Z"
   },
   {
    "duration": 10,
    "start_time": "2023-11-01T10:51:25.388Z"
   },
   {
    "duration": 1496,
    "start_time": "2023-11-01T10:51:30.383Z"
   },
   {
    "duration": 481,
    "start_time": "2023-11-01T10:51:31.881Z"
   },
   {
    "duration": 41,
    "start_time": "2023-11-01T10:51:32.363Z"
   },
   {
    "duration": 78,
    "start_time": "2023-11-01T10:51:32.406Z"
   },
   {
    "duration": 39,
    "start_time": "2023-11-01T10:51:32.486Z"
   },
   {
    "duration": 26,
    "start_time": "2023-11-01T10:51:32.526Z"
   },
   {
    "duration": 317,
    "start_time": "2023-11-01T10:51:32.554Z"
   },
   {
    "duration": 25,
    "start_time": "2023-11-01T10:51:32.873Z"
   },
   {
    "duration": 411,
    "start_time": "2023-11-01T10:51:32.900Z"
   },
   {
    "duration": 20,
    "start_time": "2023-11-01T10:51:33.314Z"
   },
   {
    "duration": 320,
    "start_time": "2023-11-01T10:51:33.336Z"
   },
   {
    "duration": 19,
    "start_time": "2023-11-01T10:51:33.658Z"
   },
   {
    "duration": 85,
    "start_time": "2023-11-01T10:51:33.679Z"
   },
   {
    "duration": 70,
    "start_time": "2023-11-01T10:51:33.765Z"
   },
   {
    "duration": 67,
    "start_time": "2023-11-01T10:51:33.837Z"
   },
   {
    "duration": 22,
    "start_time": "2023-11-01T10:51:33.906Z"
   },
   {
    "duration": 1376,
    "start_time": "2023-11-01T10:51:33.930Z"
   },
   {
    "duration": 28,
    "start_time": "2023-11-01T10:51:35.308Z"
   },
   {
    "duration": 27,
    "start_time": "2023-11-01T10:51:35.337Z"
   },
   {
    "duration": 27,
    "start_time": "2023-11-01T10:51:35.366Z"
   },
   {
    "duration": 54,
    "start_time": "2023-11-01T10:51:35.395Z"
   },
   {
    "duration": 265,
    "start_time": "2023-11-01T10:51:35.451Z"
   },
   {
    "duration": 514,
    "start_time": "2023-11-01T10:51:35.718Z"
   },
   {
    "duration": 160,
    "start_time": "2023-11-01T10:51:36.234Z"
   },
   {
    "duration": 0,
    "start_time": "2023-11-01T10:51:36.396Z"
   },
   {
    "duration": 1501,
    "start_time": "2023-11-01T10:51:55.572Z"
   },
   {
    "duration": 468,
    "start_time": "2023-11-01T10:51:57.075Z"
   },
   {
    "duration": 38,
    "start_time": "2023-11-01T10:51:57.545Z"
   },
   {
    "duration": 85,
    "start_time": "2023-11-01T10:51:57.585Z"
   },
   {
    "duration": 32,
    "start_time": "2023-11-01T10:51:57.672Z"
   },
   {
    "duration": 37,
    "start_time": "2023-11-01T10:51:57.706Z"
   },
   {
    "duration": 336,
    "start_time": "2023-11-01T10:51:57.745Z"
   },
   {
    "duration": 21,
    "start_time": "2023-11-01T10:51:58.083Z"
   },
   {
    "duration": 420,
    "start_time": "2023-11-01T10:51:58.106Z"
   },
   {
    "duration": 20,
    "start_time": "2023-11-01T10:51:58.528Z"
   },
   {
    "duration": 501,
    "start_time": "2023-11-01T10:51:58.550Z"
   },
   {
    "duration": 18,
    "start_time": "2023-11-01T10:51:59.053Z"
   },
   {
    "duration": 63,
    "start_time": "2023-11-01T10:51:59.073Z"
   },
   {
    "duration": 83,
    "start_time": "2023-11-01T10:51:59.138Z"
   },
   {
    "duration": 68,
    "start_time": "2023-11-01T10:51:59.222Z"
   },
   {
    "duration": 5,
    "start_time": "2023-11-01T10:51:59.291Z"
   },
   {
    "duration": 1523,
    "start_time": "2023-11-01T10:51:59.298Z"
   },
   {
    "duration": 22,
    "start_time": "2023-11-01T10:52:00.824Z"
   },
   {
    "duration": 96,
    "start_time": "2023-11-01T10:52:00.848Z"
   },
   {
    "duration": 68,
    "start_time": "2023-11-01T10:52:00.946Z"
   },
   {
    "duration": 114,
    "start_time": "2023-11-01T10:52:01.016Z"
   },
   {
    "duration": 311,
    "start_time": "2023-11-01T10:52:01.132Z"
   },
   {
    "duration": 481,
    "start_time": "2023-11-01T10:52:01.445Z"
   },
   {
    "duration": 767,
    "start_time": "2023-11-01T10:52:01.928Z"
   },
   {
    "duration": 116,
    "start_time": "2023-11-01T10:52:02.697Z"
   },
   {
    "duration": 60645,
    "start_time": "2023-11-01T10:52:24.924Z"
   },
   {
    "duration": 15817,
    "start_time": "2023-11-01T10:53:31.147Z"
   },
   {
    "duration": 13823,
    "start_time": "2023-11-01T10:54:46.030Z"
   },
   {
    "duration": 136,
    "start_time": "2023-11-01T10:55:27.296Z"
   },
   {
    "duration": 10,
    "start_time": "2023-11-01T10:58:51.078Z"
   },
   {
    "duration": 16,
    "start_time": "2023-11-01T10:59:17.281Z"
   },
   {
    "duration": 47,
    "start_time": "2023-11-01T10:59:31.383Z"
   },
   {
    "duration": 16,
    "start_time": "2023-11-01T10:59:48.118Z"
   },
   {
    "duration": 123,
    "start_time": "2023-11-01T10:59:55.566Z"
   },
   {
    "duration": 16,
    "start_time": "2023-11-01T11:00:10.956Z"
   },
   {
    "duration": 132,
    "start_time": "2023-11-01T11:00:28.345Z"
   },
   {
    "duration": 477,
    "start_time": "2023-11-01T11:00:54.549Z"
   },
   {
    "duration": 427,
    "start_time": "2023-11-01T11:48:38.849Z"
   },
   {
    "duration": 1542,
    "start_time": "2023-11-01T11:52:46.566Z"
   },
   {
    "duration": 929,
    "start_time": "2023-11-01T11:52:48.110Z"
   },
   {
    "duration": 93,
    "start_time": "2023-11-01T11:52:49.040Z"
   },
   {
    "duration": 194,
    "start_time": "2023-11-01T11:52:49.134Z"
   },
   {
    "duration": 53,
    "start_time": "2023-11-01T11:52:49.331Z"
   },
   {
    "duration": 60,
    "start_time": "2023-11-01T11:52:49.425Z"
   },
   {
    "duration": 594,
    "start_time": "2023-11-01T11:52:49.487Z"
   },
   {
    "duration": 22,
    "start_time": "2023-11-01T11:52:50.082Z"
   },
   {
    "duration": 442,
    "start_time": "2023-11-01T11:52:50.105Z"
   },
   {
    "duration": 21,
    "start_time": "2023-11-01T11:52:50.549Z"
   },
   {
    "duration": 511,
    "start_time": "2023-11-01T11:52:50.572Z"
   },
   {
    "duration": 23,
    "start_time": "2023-11-01T11:52:51.085Z"
   },
   {
    "duration": 25,
    "start_time": "2023-11-01T11:52:51.110Z"
   },
   {
    "duration": 76,
    "start_time": "2023-11-01T11:52:51.139Z"
   },
   {
    "duration": 72,
    "start_time": "2023-11-01T11:52:51.225Z"
   },
   {
    "duration": 7,
    "start_time": "2023-11-01T11:52:51.298Z"
   },
   {
    "duration": 1529,
    "start_time": "2023-11-01T11:52:51.324Z"
   },
   {
    "duration": 23,
    "start_time": "2023-11-01T11:52:52.855Z"
   },
   {
    "duration": 46,
    "start_time": "2023-11-01T11:52:52.880Z"
   },
   {
    "duration": 28,
    "start_time": "2023-11-01T11:52:52.929Z"
   },
   {
    "duration": 33,
    "start_time": "2023-11-01T11:52:52.959Z"
   },
   {
    "duration": 436,
    "start_time": "2023-11-01T11:52:52.994Z"
   },
   {
    "duration": 606,
    "start_time": "2023-11-01T11:52:53.433Z"
   },
   {
    "duration": 0,
    "start_time": "2023-11-01T11:52:54.041Z"
   },
   {
    "duration": 0,
    "start_time": "2023-11-01T11:52:54.042Z"
   },
   {
    "duration": 0,
    "start_time": "2023-11-01T11:52:54.043Z"
   },
   {
    "duration": 461,
    "start_time": "2023-11-01T11:53:26.064Z"
   },
   {
    "duration": 561,
    "start_time": "2023-11-01T11:54:43.364Z"
   },
   {
    "duration": 673,
    "start_time": "2023-11-01T11:55:18.364Z"
   },
   {
    "duration": 638,
    "start_time": "2023-11-01T11:55:34.303Z"
   },
   {
    "duration": 1903,
    "start_time": "2023-11-01T11:55:50.370Z"
   },
   {
    "duration": 1020,
    "start_time": "2023-11-01T11:55:52.323Z"
   },
   {
    "duration": 98,
    "start_time": "2023-11-01T11:55:53.345Z"
   },
   {
    "duration": 124,
    "start_time": "2023-11-01T11:55:53.444Z"
   },
   {
    "duration": 32,
    "start_time": "2023-11-01T11:55:53.623Z"
   },
   {
    "duration": 78,
    "start_time": "2023-11-01T11:55:53.656Z"
   },
   {
    "duration": 440,
    "start_time": "2023-11-01T11:55:53.736Z"
   },
   {
    "duration": 21,
    "start_time": "2023-11-01T11:55:54.178Z"
   },
   {
    "duration": 443,
    "start_time": "2023-11-01T11:55:54.200Z"
   },
   {
    "duration": 21,
    "start_time": "2023-11-01T11:55:54.645Z"
   },
   {
    "duration": 347,
    "start_time": "2023-11-01T11:55:54.668Z"
   },
   {
    "duration": 20,
    "start_time": "2023-11-01T11:55:55.024Z"
   },
   {
    "duration": 16,
    "start_time": "2023-11-01T11:55:55.046Z"
   },
   {
    "duration": 93,
    "start_time": "2023-11-01T11:55:55.065Z"
   },
   {
    "duration": 82,
    "start_time": "2023-11-01T11:55:55.160Z"
   },
   {
    "duration": 6,
    "start_time": "2023-11-01T11:55:55.244Z"
   },
   {
    "duration": 1587,
    "start_time": "2023-11-01T11:55:55.252Z"
   },
   {
    "duration": 20,
    "start_time": "2023-11-01T11:55:56.841Z"
   },
   {
    "duration": 31,
    "start_time": "2023-11-01T11:55:56.863Z"
   },
   {
    "duration": 51,
    "start_time": "2023-11-01T11:55:56.896Z"
   },
   {
    "duration": 32,
    "start_time": "2023-11-01T11:55:56.949Z"
   },
   {
    "duration": 431,
    "start_time": "2023-11-01T11:55:56.984Z"
   },
   {
    "duration": 728,
    "start_time": "2023-11-01T11:55:57.417Z"
   },
   {
    "duration": 556,
    "start_time": "2023-11-01T11:55:58.147Z"
   },
   {
    "duration": 819,
    "start_time": "2023-11-01T11:55:58.705Z"
   },
   {
    "duration": 147,
    "start_time": "2023-11-01T11:55:59.526Z"
   },
   {
    "duration": 703,
    "start_time": "2023-11-01T11:56:32.233Z"
   },
   {
    "duration": 731,
    "start_time": "2023-11-01T11:58:50.107Z"
   },
   {
    "duration": 1573,
    "start_time": "2023-11-01T11:58:59.738Z"
   },
   {
    "duration": 524,
    "start_time": "2023-11-01T11:59:01.314Z"
   },
   {
    "duration": 56,
    "start_time": "2023-11-01T11:59:01.840Z"
   },
   {
    "duration": 181,
    "start_time": "2023-11-01T11:59:01.898Z"
   },
   {
    "duration": 243,
    "start_time": "2023-11-01T11:59:02.081Z"
   },
   {
    "duration": 250,
    "start_time": "2023-11-01T11:59:02.326Z"
   },
   {
    "duration": 849,
    "start_time": "2023-11-01T11:59:02.578Z"
   },
   {
    "duration": 24,
    "start_time": "2023-11-01T11:59:03.429Z"
   },
   {
    "duration": 614,
    "start_time": "2023-11-01T11:59:03.455Z"
   },
   {
    "duration": 28,
    "start_time": "2023-11-01T11:59:04.072Z"
   },
   {
    "duration": 369,
    "start_time": "2023-11-01T11:59:04.101Z"
   },
   {
    "duration": 20,
    "start_time": "2023-11-01T11:59:04.472Z"
   },
   {
    "duration": 81,
    "start_time": "2023-11-01T11:59:04.494Z"
   },
   {
    "duration": 88,
    "start_time": "2023-11-01T11:59:04.577Z"
   },
   {
    "duration": 82,
    "start_time": "2023-11-01T11:59:04.667Z"
   },
   {
    "duration": 20,
    "start_time": "2023-11-01T11:59:04.751Z"
   },
   {
    "duration": 1534,
    "start_time": "2023-11-01T11:59:04.773Z"
   },
   {
    "duration": 25,
    "start_time": "2023-11-01T11:59:06.309Z"
   },
   {
    "duration": 72,
    "start_time": "2023-11-01T11:59:06.335Z"
   },
   {
    "duration": 106,
    "start_time": "2023-11-01T11:59:06.409Z"
   },
   {
    "duration": 67,
    "start_time": "2023-11-01T11:59:06.517Z"
   },
   {
    "duration": 524,
    "start_time": "2023-11-01T11:59:06.586Z"
   },
   {
    "duration": 718,
    "start_time": "2023-11-01T11:59:07.112Z"
   },
   {
    "duration": 585,
    "start_time": "2023-11-01T11:59:07.831Z"
   },
   {
    "duration": 848,
    "start_time": "2023-11-01T11:59:08.418Z"
   },
   {
    "duration": 157,
    "start_time": "2023-11-01T11:59:09.268Z"
   },
   {
    "duration": 82,
    "start_time": "2023-11-01T12:02:07.025Z"
   },
   {
    "duration": 80,
    "start_time": "2023-11-01T12:02:42.701Z"
   },
   {
    "duration": 1539,
    "start_time": "2023-11-01T12:07:30.930Z"
   },
   {
    "duration": 520,
    "start_time": "2023-11-01T12:07:32.470Z"
   },
   {
    "duration": 59,
    "start_time": "2023-11-01T12:07:32.992Z"
   },
   {
    "duration": 81,
    "start_time": "2023-11-01T12:07:33.054Z"
   },
   {
    "duration": 29,
    "start_time": "2023-11-01T12:07:33.137Z"
   },
   {
    "duration": 26,
    "start_time": "2023-11-01T12:07:33.168Z"
   },
   {
    "duration": 356,
    "start_time": "2023-11-01T12:07:33.196Z"
   },
   {
    "duration": 21,
    "start_time": "2023-11-01T12:07:33.554Z"
   },
   {
    "duration": 417,
    "start_time": "2023-11-01T12:07:33.577Z"
   },
   {
    "duration": 31,
    "start_time": "2023-11-01T12:07:33.997Z"
   },
   {
    "duration": 328,
    "start_time": "2023-11-01T12:07:34.030Z"
   },
   {
    "duration": 20,
    "start_time": "2023-11-01T12:07:34.359Z"
   },
   {
    "duration": 11,
    "start_time": "2023-11-01T12:07:34.381Z"
   },
   {
    "duration": 85,
    "start_time": "2023-11-01T12:07:34.394Z"
   },
   {
    "duration": 76,
    "start_time": "2023-11-01T12:07:34.480Z"
   },
   {
    "duration": 6,
    "start_time": "2023-11-01T12:07:34.557Z"
   },
   {
    "duration": 1469,
    "start_time": "2023-11-01T12:07:34.565Z"
   },
   {
    "duration": 22,
    "start_time": "2023-11-01T12:07:36.036Z"
   },
   {
    "duration": 57,
    "start_time": "2023-11-01T12:07:36.060Z"
   },
   {
    "duration": 25,
    "start_time": "2023-11-01T12:07:36.118Z"
   },
   {
    "duration": 31,
    "start_time": "2023-11-01T12:07:36.144Z"
   },
   {
    "duration": 443,
    "start_time": "2023-11-01T12:07:36.176Z"
   },
   {
    "duration": 515,
    "start_time": "2023-11-01T12:07:36.621Z"
   },
   {
    "duration": 1018,
    "start_time": "2023-11-01T12:07:37.137Z"
   },
   {
    "duration": 762,
    "start_time": "2023-11-01T12:07:38.157Z"
   },
   {
    "duration": 63,
    "start_time": "2023-11-01T12:07:38.921Z"
   },
   {
    "duration": 278,
    "start_time": "2023-11-01T12:07:38.986Z"
   },
   {
    "duration": 35,
    "start_time": "2023-11-01T12:10:35.177Z"
   },
   {
    "duration": 1474,
    "start_time": "2023-11-01T12:10:40.738Z"
   },
   {
    "duration": 510,
    "start_time": "2023-11-01T12:10:42.215Z"
   },
   {
    "duration": 44,
    "start_time": "2023-11-01T12:10:42.727Z"
   },
   {
    "duration": 87,
    "start_time": "2023-11-01T12:10:42.773Z"
   },
   {
    "duration": 30,
    "start_time": "2023-11-01T12:10:42.862Z"
   },
   {
    "duration": 45,
    "start_time": "2023-11-01T12:10:42.894Z"
   },
   {
    "duration": 380,
    "start_time": "2023-11-01T12:10:42.941Z"
   },
   {
    "duration": 24,
    "start_time": "2023-11-01T12:10:43.324Z"
   },
   {
    "duration": 427,
    "start_time": "2023-11-01T12:10:43.350Z"
   },
   {
    "duration": 20,
    "start_time": "2023-11-01T12:10:43.780Z"
   },
   {
    "duration": 334,
    "start_time": "2023-11-01T12:10:43.802Z"
   },
   {
    "duration": 20,
    "start_time": "2023-11-01T12:10:44.138Z"
   },
   {
    "duration": 13,
    "start_time": "2023-11-01T12:10:44.160Z"
   },
   {
    "duration": 87,
    "start_time": "2023-11-01T12:10:44.175Z"
   },
   {
    "duration": 80,
    "start_time": "2023-11-01T12:10:44.264Z"
   },
   {
    "duration": 6,
    "start_time": "2023-11-01T12:10:44.346Z"
   },
   {
    "duration": 1420,
    "start_time": "2023-11-01T12:10:44.353Z"
   },
   {
    "duration": 22,
    "start_time": "2023-11-01T12:10:45.775Z"
   },
   {
    "duration": 81,
    "start_time": "2023-11-01T12:10:45.798Z"
   },
   {
    "duration": 64,
    "start_time": "2023-11-01T12:10:45.882Z"
   },
   {
    "duration": 92,
    "start_time": "2023-11-01T12:10:45.949Z"
   },
   {
    "duration": 412,
    "start_time": "2023-11-01T12:10:46.043Z"
   },
   {
    "duration": 586,
    "start_time": "2023-11-01T12:10:46.457Z"
   },
   {
    "duration": 842,
    "start_time": "2023-11-01T12:10:47.045Z"
   },
   {
    "duration": 772,
    "start_time": "2023-11-01T12:10:47.888Z"
   },
   {
    "duration": 81,
    "start_time": "2023-11-01T12:10:48.662Z"
   },
   {
    "duration": 194,
    "start_time": "2023-11-01T12:10:48.745Z"
   },
   {
    "duration": 499,
    "start_time": "2023-11-01T12:11:39.345Z"
   },
   {
    "duration": 499,
    "start_time": "2023-11-01T12:11:47.242Z"
   },
   {
    "duration": 568,
    "start_time": "2023-11-01T12:11:55.575Z"
   },
   {
    "duration": 585,
    "start_time": "2023-11-01T12:12:01.051Z"
   },
   {
    "duration": 597,
    "start_time": "2023-11-01T12:23:44.848Z"
   },
   {
    "duration": 688,
    "start_time": "2023-11-01T12:24:20.152Z"
   },
   {
    "duration": 501,
    "start_time": "2023-11-01T12:24:40.938Z"
   },
   {
    "duration": 741,
    "start_time": "2023-11-01T12:27:48.005Z"
   },
   {
    "duration": 826,
    "start_time": "2023-11-01T12:27:57.015Z"
   },
   {
    "duration": 2482,
    "start_time": "2023-11-01T12:28:16.162Z"
   },
   {
    "duration": 870,
    "start_time": "2023-11-01T12:28:28.575Z"
   },
   {
    "duration": 8568,
    "start_time": "2023-11-01T12:28:43.470Z"
   },
   {
    "duration": 825,
    "start_time": "2023-11-01T12:29:03.931Z"
   },
   {
    "duration": 796,
    "start_time": "2023-11-01T12:29:26.444Z"
   },
   {
    "duration": 4433,
    "start_time": "2023-11-01T12:29:35.107Z"
   },
   {
    "duration": 903,
    "start_time": "2023-11-01T12:29:50.237Z"
   },
   {
    "duration": 1108,
    "start_time": "2023-11-01T12:30:38.965Z"
   },
   {
    "duration": 200,
    "start_time": "2023-11-01T12:31:03.883Z"
   },
   {
    "duration": 276,
    "start_time": "2023-11-01T12:31:11.072Z"
   },
   {
    "duration": 52,
    "start_time": "2023-11-01T12:31:16.498Z"
   },
   {
    "duration": 69,
    "start_time": "2023-11-01T12:31:22.308Z"
   },
   {
    "duration": 74,
    "start_time": "2023-11-01T12:32:12.911Z"
   },
   {
    "duration": 53,
    "start_time": "2023-11-01T12:32:18.342Z"
   },
   {
    "duration": 127,
    "start_time": "2023-11-01T12:32:22.241Z"
   },
   {
    "duration": 880,
    "start_time": "2023-11-01T12:32:30.321Z"
   },
   {
    "duration": 101,
    "start_time": "2023-11-01T12:32:39.953Z"
   },
   {
    "duration": 231,
    "start_time": "2023-11-01T12:32:44.982Z"
   },
   {
    "duration": 217,
    "start_time": "2023-11-01T12:32:49.761Z"
   },
   {
    "duration": 223,
    "start_time": "2023-11-01T12:32:56.657Z"
   },
   {
    "duration": 305,
    "start_time": "2023-11-01T12:33:01.657Z"
   },
   {
    "duration": 728,
    "start_time": "2023-11-01T12:33:08.318Z"
   },
   {
    "duration": 327,
    "start_time": "2023-11-01T12:33:15.637Z"
   },
   {
    "duration": 36399,
    "start_time": "2023-11-01T12:33:28.710Z"
   },
   {
    "duration": 136,
    "start_time": "2023-11-01T12:34:27.989Z"
   },
   {
    "duration": 318,
    "start_time": "2023-11-01T12:34:36.760Z"
   },
   {
    "duration": 46,
    "start_time": "2023-11-01T12:34:41.883Z"
   },
   {
    "duration": 192,
    "start_time": "2023-11-01T12:34:54.426Z"
   },
   {
    "duration": 89,
    "start_time": "2023-11-01T12:34:58.487Z"
   },
   {
    "duration": 149,
    "start_time": "2023-11-01T12:35:04.595Z"
   },
   {
    "duration": 198,
    "start_time": "2023-11-01T12:35:08.404Z"
   },
   {
    "duration": 301,
    "start_time": "2023-11-01T12:35:12.180Z"
   },
   {
    "duration": 457,
    "start_time": "2023-11-01T12:35:21.139Z"
   },
   {
    "duration": 354,
    "start_time": "2023-11-01T12:35:26.620Z"
   },
   {
    "duration": 314,
    "start_time": "2023-11-01T12:35:32.864Z"
   },
   {
    "duration": 311,
    "start_time": "2023-11-01T12:35:37.693Z"
   },
   {
    "duration": 339,
    "start_time": "2023-11-01T12:35:42.169Z"
   },
   {
    "duration": 246851,
    "start_time": "2023-11-01T12:36:10.423Z"
   },
   {
    "duration": 51,
    "start_time": "2023-11-02T07:36:36.239Z"
   },
   {
    "duration": 1831,
    "start_time": "2023-11-02T07:36:45.847Z"
   },
   {
    "duration": 713,
    "start_time": "2023-11-02T07:36:47.680Z"
   },
   {
    "duration": 58,
    "start_time": "2023-11-02T07:36:48.395Z"
   },
   {
    "duration": 68,
    "start_time": "2023-11-02T07:36:48.455Z"
   },
   {
    "duration": 43,
    "start_time": "2023-11-02T07:36:48.526Z"
   },
   {
    "duration": 26,
    "start_time": "2023-11-02T07:36:48.570Z"
   },
   {
    "duration": 369,
    "start_time": "2023-11-02T07:36:48.597Z"
   },
   {
    "duration": 19,
    "start_time": "2023-11-02T07:36:48.968Z"
   },
   {
    "duration": 446,
    "start_time": "2023-11-02T07:36:48.989Z"
   },
   {
    "duration": 26,
    "start_time": "2023-11-02T07:36:49.437Z"
   },
   {
    "duration": 346,
    "start_time": "2023-11-02T07:36:49.465Z"
   },
   {
    "duration": 20,
    "start_time": "2023-11-02T07:36:49.813Z"
   },
   {
    "duration": 24,
    "start_time": "2023-11-02T07:36:49.834Z"
   },
   {
    "duration": 72,
    "start_time": "2023-11-02T07:36:49.861Z"
   },
   {
    "duration": 75,
    "start_time": "2023-11-02T07:36:49.947Z"
   },
   {
    "duration": 7,
    "start_time": "2023-11-02T07:36:50.024Z"
   },
   {
    "duration": 1660,
    "start_time": "2023-11-02T07:36:50.033Z"
   },
   {
    "duration": 22,
    "start_time": "2023-11-02T07:36:51.694Z"
   },
   {
    "duration": 46,
    "start_time": "2023-11-02T07:36:51.718Z"
   },
   {
    "duration": 26,
    "start_time": "2023-11-02T07:36:51.765Z"
   },
   {
    "duration": 37,
    "start_time": "2023-11-02T07:36:51.792Z"
   },
   {
    "duration": 419,
    "start_time": "2023-11-02T07:36:51.830Z"
   },
   {
    "duration": 716,
    "start_time": "2023-11-02T07:36:52.251Z"
   },
   {
    "duration": 1220,
    "start_time": "2023-11-02T07:36:52.969Z"
   },
   {
    "duration": 236229,
    "start_time": "2023-11-02T07:36:54.190Z"
   },
   {
    "duration": 693,
    "start_time": "2023-11-02T07:40:50.421Z"
   },
   {
    "duration": 4531,
    "start_time": "2023-11-02T07:40:51.116Z"
   },
   {
    "duration": 694,
    "start_time": "2023-11-02T07:54:47.603Z"
   },
   {
    "duration": 165,
    "start_time": "2023-11-02T08:07:15.489Z"
   },
   {
    "duration": 53,
    "start_time": "2023-11-02T08:07:24.613Z"
   },
   {
    "duration": 17,
    "start_time": "2023-11-02T08:07:40.195Z"
   },
   {
    "duration": 4908,
    "start_time": "2023-11-02T08:07:42.615Z"
   },
   {
    "duration": 14,
    "start_time": "2023-11-02T08:08:08.820Z"
   },
   {
    "duration": 12,
    "start_time": "2023-11-02T08:08:41.012Z"
   },
   {
    "duration": 45,
    "start_time": "2023-11-02T08:09:20.903Z"
   },
   {
    "duration": 45,
    "start_time": "2023-11-02T08:09:49.477Z"
   },
   {
    "duration": 12,
    "start_time": "2023-11-02T08:11:16.971Z"
   },
   {
    "duration": 45,
    "start_time": "2023-11-02T08:11:26.703Z"
   },
   {
    "duration": 40,
    "start_time": "2023-11-02T08:11:47.298Z"
   },
   {
    "duration": 57,
    "start_time": "2023-11-02T08:12:11.796Z"
   },
   {
    "duration": 16,
    "start_time": "2023-11-02T08:12:26.710Z"
   },
   {
    "duration": 16,
    "start_time": "2023-11-02T08:13:18.541Z"
   },
   {
    "duration": 18,
    "start_time": "2023-11-02T08:13:23.329Z"
   },
   {
    "duration": 31,
    "start_time": "2023-11-02T08:15:08.832Z"
   },
   {
    "duration": 17,
    "start_time": "2023-11-02T08:16:50.122Z"
   },
   {
    "duration": 23,
    "start_time": "2023-11-02T08:16:59.177Z"
   },
   {
    "duration": 577,
    "start_time": "2023-11-02T08:17:36.769Z"
   },
   {
    "duration": 604,
    "start_time": "2023-11-02T08:18:07.419Z"
   },
   {
    "duration": 4,
    "start_time": "2023-11-02T08:21:34.385Z"
   },
   {
    "duration": 1257,
    "start_time": "2023-11-02T08:21:40.461Z"
   },
   {
    "duration": 605,
    "start_time": "2023-11-02T08:22:03.538Z"
   },
   {
    "duration": 627,
    "start_time": "2023-11-02T08:22:06.979Z"
   },
   {
    "duration": 646,
    "start_time": "2023-11-02T08:25:43.208Z"
   },
   {
    "duration": 705,
    "start_time": "2023-11-02T08:26:05.365Z"
   },
   {
    "duration": 706,
    "start_time": "2023-11-02T08:26:16.258Z"
   },
   {
    "duration": 10,
    "start_time": "2023-11-02T08:27:19.502Z"
   },
   {
    "duration": 24,
    "start_time": "2023-11-02T08:27:27.698Z"
   },
   {
    "duration": 4,
    "start_time": "2023-11-02T08:27:40.678Z"
   },
   {
    "duration": 638,
    "start_time": "2023-11-02T08:27:45.429Z"
   },
   {
    "duration": 591,
    "start_time": "2023-11-02T08:27:53.918Z"
   },
   {
    "duration": 630,
    "start_time": "2023-11-02T08:27:59.818Z"
   },
   {
    "duration": 1898,
    "start_time": "2023-11-02T08:29:06.063Z"
   },
   {
    "duration": 925,
    "start_time": "2023-11-02T08:29:07.963Z"
   },
   {
    "duration": 96,
    "start_time": "2023-11-02T08:29:08.890Z"
   },
   {
    "duration": 128,
    "start_time": "2023-11-02T08:29:08.989Z"
   },
   {
    "duration": 47,
    "start_time": "2023-11-02T08:29:09.118Z"
   },
   {
    "duration": 26,
    "start_time": "2023-11-02T08:29:09.167Z"
   },
   {
    "duration": 379,
    "start_time": "2023-11-02T08:29:09.195Z"
   },
   {
    "duration": 21,
    "start_time": "2023-11-02T08:29:09.577Z"
   },
   {
    "duration": 430,
    "start_time": "2023-11-02T08:29:09.599Z"
   },
   {
    "duration": 26,
    "start_time": "2023-11-02T08:29:10.033Z"
   },
   {
    "duration": 701,
    "start_time": "2023-11-02T08:29:10.060Z"
   },
   {
    "duration": 21,
    "start_time": "2023-11-02T08:29:10.763Z"
   },
   {
    "duration": 63,
    "start_time": "2023-11-02T08:29:10.786Z"
   },
   {
    "duration": 122,
    "start_time": "2023-11-02T08:29:10.851Z"
   },
   {
    "duration": 175,
    "start_time": "2023-11-02T08:29:10.975Z"
   },
   {
    "duration": 6,
    "start_time": "2023-11-02T08:29:11.152Z"
   },
   {
    "duration": 2037,
    "start_time": "2023-11-02T08:29:11.160Z"
   },
   {
    "duration": 22,
    "start_time": "2023-11-02T08:29:13.199Z"
   },
   {
    "duration": 42,
    "start_time": "2023-11-02T08:29:13.223Z"
   },
   {
    "duration": 25,
    "start_time": "2023-11-02T08:29:13.267Z"
   },
   {
    "duration": 62,
    "start_time": "2023-11-02T08:29:13.293Z"
   },
   {
    "duration": 400,
    "start_time": "2023-11-02T08:29:13.357Z"
   },
   {
    "duration": 714,
    "start_time": "2023-11-02T08:29:13.758Z"
   },
   {
    "duration": 138,
    "start_time": "2023-11-02T08:29:14.475Z"
   },
   {
    "duration": 0,
    "start_time": "2023-11-02T08:29:14.614Z"
   },
   {
    "duration": 0,
    "start_time": "2023-11-02T08:29:14.616Z"
   },
   {
    "duration": 0,
    "start_time": "2023-11-02T08:29:14.617Z"
   },
   {
    "duration": 0,
    "start_time": "2023-11-02T08:29:14.618Z"
   },
   {
    "duration": 0,
    "start_time": "2023-11-02T08:29:14.619Z"
   },
   {
    "duration": 0,
    "start_time": "2023-11-02T08:29:14.620Z"
   },
   {
    "duration": 0,
    "start_time": "2023-11-02T08:29:14.621Z"
   },
   {
    "duration": 1190,
    "start_time": "2023-11-02T08:30:10.711Z"
   },
   {
    "duration": 1539,
    "start_time": "2023-11-02T08:30:23.435Z"
   },
   {
    "duration": 537,
    "start_time": "2023-11-02T08:30:24.977Z"
   },
   {
    "duration": 51,
    "start_time": "2023-11-02T08:30:25.516Z"
   },
   {
    "duration": 84,
    "start_time": "2023-11-02T08:30:25.569Z"
   },
   {
    "duration": 28,
    "start_time": "2023-11-02T08:30:25.656Z"
   },
   {
    "duration": 24,
    "start_time": "2023-11-02T08:30:25.686Z"
   },
   {
    "duration": 386,
    "start_time": "2023-11-02T08:30:25.712Z"
   },
   {
    "duration": 23,
    "start_time": "2023-11-02T08:30:26.100Z"
   },
   {
    "duration": 429,
    "start_time": "2023-11-02T08:30:26.125Z"
   },
   {
    "duration": 20,
    "start_time": "2023-11-02T08:30:26.556Z"
   },
   {
    "duration": 352,
    "start_time": "2023-11-02T08:30:26.578Z"
   },
   {
    "duration": 26,
    "start_time": "2023-11-02T08:30:26.932Z"
   },
   {
    "duration": 14,
    "start_time": "2023-11-02T08:30:26.960Z"
   },
   {
    "duration": 89,
    "start_time": "2023-11-02T08:30:26.977Z"
   },
   {
    "duration": 79,
    "start_time": "2023-11-02T08:30:27.068Z"
   },
   {
    "duration": 5,
    "start_time": "2023-11-02T08:30:27.149Z"
   },
   {
    "duration": 1642,
    "start_time": "2023-11-02T08:30:27.156Z"
   },
   {
    "duration": 23,
    "start_time": "2023-11-02T08:30:28.800Z"
   },
   {
    "duration": 43,
    "start_time": "2023-11-02T08:30:28.825Z"
   },
   {
    "duration": 27,
    "start_time": "2023-11-02T08:30:28.870Z"
   },
   {
    "duration": 59,
    "start_time": "2023-11-02T08:30:28.899Z"
   },
   {
    "duration": 416,
    "start_time": "2023-11-02T08:30:28.960Z"
   },
   {
    "duration": 689,
    "start_time": "2023-11-02T08:30:29.378Z"
   },
   {
    "duration": 1259,
    "start_time": "2023-11-02T08:30:30.069Z"
   },
   {
    "duration": 234440,
    "start_time": "2023-11-02T08:30:31.330Z"
   },
   {
    "duration": 729,
    "start_time": "2023-11-02T08:34:25.772Z"
   },
   {
    "duration": 4617,
    "start_time": "2023-11-02T08:34:26.503Z"
   },
   {
    "duration": 30,
    "start_time": "2023-11-02T08:34:31.121Z"
   },
   {
    "duration": 41,
    "start_time": "2023-11-02T08:34:31.153Z"
   },
   {
    "duration": 651,
    "start_time": "2023-11-02T08:34:31.196Z"
   },
   {
    "duration": 621,
    "start_time": "2023-11-02T08:34:31.849Z"
   },
   {
    "duration": 2585,
    "start_time": "2023-11-02T08:36:36.501Z"
   },
   {
    "duration": 2349,
    "start_time": "2023-11-02T08:37:22.089Z"
   },
   {
    "duration": 2158,
    "start_time": "2023-11-02T08:38:06.681Z"
   },
   {
    "duration": 2255,
    "start_time": "2023-11-02T08:39:07.240Z"
   },
   {
    "duration": 2128,
    "start_time": "2023-11-02T08:43:06.050Z"
   },
   {
    "duration": 2133,
    "start_time": "2023-11-02T08:43:19.899Z"
   },
   {
    "duration": 2245,
    "start_time": "2023-11-02T08:43:29.649Z"
   },
   {
    "duration": 640,
    "start_time": "2023-11-02T08:43:48.327Z"
   },
   {
    "duration": 2145,
    "start_time": "2023-11-02T08:43:55.149Z"
   },
   {
    "duration": 45,
    "start_time": "2023-11-02T19:35:55.186Z"
   },
   {
    "duration": 1820,
    "start_time": "2023-11-02T19:36:17.338Z"
   },
   {
    "duration": 1111,
    "start_time": "2023-11-02T19:36:19.160Z"
   },
   {
    "duration": 101,
    "start_time": "2023-11-02T19:36:20.273Z"
   },
   {
    "duration": 87,
    "start_time": "2023-11-02T19:36:20.375Z"
   },
   {
    "duration": 48,
    "start_time": "2023-11-02T19:36:20.465Z"
   },
   {
    "duration": 0,
    "start_time": "2023-11-02T19:36:20.516Z"
   },
   {
    "duration": 0,
    "start_time": "2023-11-02T19:36:20.517Z"
   },
   {
    "duration": 0,
    "start_time": "2023-11-02T19:36:20.518Z"
   },
   {
    "duration": 0,
    "start_time": "2023-11-02T19:36:20.520Z"
   },
   {
    "duration": 0,
    "start_time": "2023-11-02T19:36:20.521Z"
   },
   {
    "duration": 0,
    "start_time": "2023-11-02T19:36:20.522Z"
   },
   {
    "duration": 0,
    "start_time": "2023-11-02T19:36:20.523Z"
   },
   {
    "duration": 0,
    "start_time": "2023-11-02T19:36:20.524Z"
   },
   {
    "duration": 0,
    "start_time": "2023-11-02T19:36:20.525Z"
   },
   {
    "duration": 0,
    "start_time": "2023-11-02T19:36:20.526Z"
   },
   {
    "duration": 0,
    "start_time": "2023-11-02T19:36:20.527Z"
   },
   {
    "duration": 0,
    "start_time": "2023-11-02T19:36:20.528Z"
   },
   {
    "duration": 0,
    "start_time": "2023-11-02T19:36:20.530Z"
   },
   {
    "duration": 0,
    "start_time": "2023-11-02T19:36:20.531Z"
   },
   {
    "duration": 0,
    "start_time": "2023-11-02T19:36:20.532Z"
   },
   {
    "duration": 0,
    "start_time": "2023-11-02T19:36:20.533Z"
   },
   {
    "duration": 0,
    "start_time": "2023-11-02T19:36:20.534Z"
   },
   {
    "duration": 0,
    "start_time": "2023-11-02T19:36:20.535Z"
   },
   {
    "duration": 0,
    "start_time": "2023-11-02T19:36:20.537Z"
   },
   {
    "duration": 0,
    "start_time": "2023-11-02T19:36:20.538Z"
   },
   {
    "duration": 1,
    "start_time": "2023-11-02T19:36:20.543Z"
   },
   {
    "duration": 0,
    "start_time": "2023-11-02T19:36:20.545Z"
   },
   {
    "duration": 0,
    "start_time": "2023-11-02T19:36:20.547Z"
   },
   {
    "duration": 0,
    "start_time": "2023-11-02T19:36:20.548Z"
   },
   {
    "duration": 1,
    "start_time": "2023-11-02T19:36:20.549Z"
   },
   {
    "duration": 0,
    "start_time": "2023-11-02T19:36:20.551Z"
   },
   {
    "duration": 0,
    "start_time": "2023-11-02T19:36:20.552Z"
   },
   {
    "duration": 0,
    "start_time": "2023-11-02T19:36:20.553Z"
   },
   {
    "duration": 11,
    "start_time": "2023-11-02T19:36:48.594Z"
   },
   {
    "duration": 12,
    "start_time": "2023-11-02T19:37:19.717Z"
   },
   {
    "duration": 8,
    "start_time": "2023-11-02T19:38:32.396Z"
   },
   {
    "duration": 326,
    "start_time": "2023-11-02T19:40:06.627Z"
   },
   {
    "duration": 133,
    "start_time": "2023-11-02T19:40:15.646Z"
   },
   {
    "duration": 231,
    "start_time": "2023-11-02T19:40:22.827Z"
   },
   {
    "duration": 192,
    "start_time": "2023-11-02T19:41:23.969Z"
   },
   {
    "duration": 190,
    "start_time": "2023-11-02T19:41:29.068Z"
   },
   {
    "duration": 145,
    "start_time": "2023-11-02T19:42:15.867Z"
   },
   {
    "duration": 158,
    "start_time": "2023-11-02T19:42:33.539Z"
   },
   {
    "duration": 138,
    "start_time": "2023-11-02T19:44:25.257Z"
   },
   {
    "duration": 143,
    "start_time": "2023-11-02T19:44:34.055Z"
   },
   {
    "duration": 192,
    "start_time": "2023-11-02T19:44:43.287Z"
   },
   {
    "duration": 188,
    "start_time": "2023-11-02T19:45:06.928Z"
   },
   {
    "duration": 162,
    "start_time": "2023-11-02T19:45:11.585Z"
   },
   {
    "duration": 165,
    "start_time": "2023-11-02T19:46:43.270Z"
   },
   {
    "duration": 170,
    "start_time": "2023-11-02T19:47:10.940Z"
   },
   {
    "duration": 167,
    "start_time": "2023-11-02T19:47:20.137Z"
   },
   {
    "duration": 448,
    "start_time": "2023-11-02T19:48:45.488Z"
   },
   {
    "duration": 314,
    "start_time": "2023-11-02T19:49:08.618Z"
   },
   {
    "duration": 35,
    "start_time": "2023-11-02T19:49:50.548Z"
   },
   {
    "duration": 27,
    "start_time": "2023-11-02T19:50:48.838Z"
   },
   {
    "duration": 299,
    "start_time": "2023-11-02T19:51:06.089Z"
   },
   {
    "duration": 301,
    "start_time": "2023-11-02T19:51:53.917Z"
   },
   {
    "duration": 328,
    "start_time": "2023-11-02T19:52:08.989Z"
   },
   {
    "duration": 307,
    "start_time": "2023-11-02T19:52:27.728Z"
   },
   {
    "duration": 422,
    "start_time": "2023-11-02T19:52:38.324Z"
   },
   {
    "duration": 297,
    "start_time": "2023-11-02T19:52:49.968Z"
   },
   {
    "duration": 9,
    "start_time": "2023-11-02T19:54:52.368Z"
   },
   {
    "duration": 8,
    "start_time": "2023-11-02T19:55:48.017Z"
   },
   {
    "duration": 11138,
    "start_time": "2023-11-02T19:56:55.308Z"
   },
   {
    "duration": 5675,
    "start_time": "2023-11-02T19:58:23.578Z"
   },
   {
    "duration": 14,
    "start_time": "2023-11-02T20:01:28.996Z"
   },
   {
    "duration": 5241,
    "start_time": "2023-11-02T20:01:36.804Z"
   },
   {
    "duration": 5,
    "start_time": "2023-11-02T20:04:07.836Z"
   },
   {
    "duration": 2103,
    "start_time": "2023-11-02T20:04:12.065Z"
   },
   {
    "duration": 24,
    "start_time": "2023-11-02T20:04:14.835Z"
   },
   {
    "duration": 5,
    "start_time": "2023-11-02T20:10:57.602Z"
   },
   {
    "duration": 9,
    "start_time": "2023-11-02T20:11:05.752Z"
   },
   {
    "duration": 46,
    "start_time": "2023-11-02T20:11:11.115Z"
   },
   {
    "duration": 5,
    "start_time": "2023-11-02T20:11:35.632Z"
   },
   {
    "duration": 7,
    "start_time": "2023-11-02T20:11:44.026Z"
   },
   {
    "duration": 57,
    "start_time": "2023-11-02T20:11:46.664Z"
   },
   {
    "duration": 1544,
    "start_time": "2023-11-02T20:11:58.292Z"
   },
   {
    "duration": 535,
    "start_time": "2023-11-02T20:11:59.838Z"
   },
   {
    "duration": 109,
    "start_time": "2023-11-02T20:12:00.374Z"
   },
   {
    "duration": 174,
    "start_time": "2023-11-02T20:12:00.485Z"
   },
   {
    "duration": 13,
    "start_time": "2023-11-02T20:12:00.661Z"
   },
   {
    "duration": 94,
    "start_time": "2023-11-02T20:12:00.675Z"
   },
   {
    "duration": 83,
    "start_time": "2023-11-02T20:12:00.770Z"
   },
   {
    "duration": 44,
    "start_time": "2023-11-02T20:12:00.855Z"
   },
   {
    "duration": 712,
    "start_time": "2023-11-02T20:12:00.945Z"
   },
   {
    "duration": 125,
    "start_time": "2023-11-02T20:12:01.659Z"
   },
   {
    "duration": 0,
    "start_time": "2023-11-02T20:12:01.786Z"
   },
   {
    "duration": 0,
    "start_time": "2023-11-02T20:12:01.787Z"
   },
   {
    "duration": 0,
    "start_time": "2023-11-02T20:12:01.788Z"
   },
   {
    "duration": 0,
    "start_time": "2023-11-02T20:12:01.789Z"
   },
   {
    "duration": 0,
    "start_time": "2023-11-02T20:12:01.790Z"
   },
   {
    "duration": 0,
    "start_time": "2023-11-02T20:12:01.791Z"
   },
   {
    "duration": 0,
    "start_time": "2023-11-02T20:12:01.792Z"
   },
   {
    "duration": 0,
    "start_time": "2023-11-02T20:12:01.954Z"
   },
   {
    "duration": 0,
    "start_time": "2023-11-02T20:12:01.955Z"
   },
   {
    "duration": 0,
    "start_time": "2023-11-02T20:12:01.956Z"
   },
   {
    "duration": 0,
    "start_time": "2023-11-02T20:12:01.958Z"
   },
   {
    "duration": 0,
    "start_time": "2023-11-02T20:12:01.959Z"
   },
   {
    "duration": 1,
    "start_time": "2023-11-02T20:12:01.960Z"
   },
   {
    "duration": 0,
    "start_time": "2023-11-02T20:12:01.962Z"
   },
   {
    "duration": 0,
    "start_time": "2023-11-02T20:12:01.963Z"
   },
   {
    "duration": 0,
    "start_time": "2023-11-02T20:12:01.964Z"
   },
   {
    "duration": 0,
    "start_time": "2023-11-02T20:12:01.965Z"
   },
   {
    "duration": 0,
    "start_time": "2023-11-02T20:12:01.967Z"
   },
   {
    "duration": 0,
    "start_time": "2023-11-02T20:12:01.968Z"
   },
   {
    "duration": 0,
    "start_time": "2023-11-02T20:12:01.969Z"
   },
   {
    "duration": 0,
    "start_time": "2023-11-02T20:12:01.970Z"
   },
   {
    "duration": 1,
    "start_time": "2023-11-02T20:12:01.970Z"
   },
   {
    "duration": 0,
    "start_time": "2023-11-02T20:12:01.972Z"
   },
   {
    "duration": 0,
    "start_time": "2023-11-02T20:12:01.973Z"
   },
   {
    "duration": 0,
    "start_time": "2023-11-02T20:12:01.974Z"
   },
   {
    "duration": 0,
    "start_time": "2023-11-02T20:12:01.975Z"
   },
   {
    "duration": 0,
    "start_time": "2023-11-02T20:12:01.976Z"
   },
   {
    "duration": 0,
    "start_time": "2023-11-02T20:12:01.977Z"
   },
   {
    "duration": 0,
    "start_time": "2023-11-02T20:12:01.978Z"
   },
   {
    "duration": 0,
    "start_time": "2023-11-02T20:12:01.979Z"
   },
   {
    "duration": 0,
    "start_time": "2023-11-02T20:12:01.980Z"
   },
   {
    "duration": 0,
    "start_time": "2023-11-02T20:12:01.982Z"
   },
   {
    "duration": 0,
    "start_time": "2023-11-02T20:12:02.044Z"
   },
   {
    "duration": 0,
    "start_time": "2023-11-02T20:12:02.046Z"
   },
   {
    "duration": 0,
    "start_time": "2023-11-02T20:12:02.047Z"
   },
   {
    "duration": 80,
    "start_time": "2023-11-02T20:12:51.704Z"
   },
   {
    "duration": 86,
    "start_time": "2023-11-02T20:13:35.474Z"
   },
   {
    "duration": 1489,
    "start_time": "2023-11-02T20:13:51.274Z"
   },
   {
    "duration": 471,
    "start_time": "2023-11-02T20:13:52.765Z"
   },
   {
    "duration": 45,
    "start_time": "2023-11-02T20:13:53.243Z"
   },
   {
    "duration": 87,
    "start_time": "2023-11-02T20:13:53.289Z"
   },
   {
    "duration": 12,
    "start_time": "2023-11-02T20:13:53.378Z"
   },
   {
    "duration": 45,
    "start_time": "2023-11-02T20:13:53.392Z"
   },
   {
    "duration": 11,
    "start_time": "2023-11-02T20:13:53.439Z"
   },
   {
    "duration": 42,
    "start_time": "2023-11-02T20:13:53.452Z"
   },
   {
    "duration": 379,
    "start_time": "2023-11-02T20:13:53.496Z"
   },
   {
    "duration": 112,
    "start_time": "2023-11-02T20:13:53.877Z"
   },
   {
    "duration": 6,
    "start_time": "2023-11-02T20:13:53.990Z"
   },
   {
    "duration": 15,
    "start_time": "2023-11-02T20:13:53.997Z"
   },
   {
    "duration": 930,
    "start_time": "2023-11-02T20:13:54.014Z"
   },
   {
    "duration": 24,
    "start_time": "2023-11-02T20:13:54.948Z"
   },
   {
    "duration": 810,
    "start_time": "2023-11-02T20:13:54.974Z"
   },
   {
    "duration": 689,
    "start_time": "2023-11-02T20:13:55.791Z"
   },
   {
    "duration": 78,
    "start_time": "2023-11-02T20:13:56.482Z"
   },
   {
    "duration": 704,
    "start_time": "2023-11-02T20:13:56.562Z"
   },
   {
    "duration": 918,
    "start_time": "2023-11-02T20:13:57.268Z"
   },
   {
    "duration": 23,
    "start_time": "2023-11-02T20:13:58.243Z"
   },
   {
    "duration": 15,
    "start_time": "2023-11-02T20:13:58.267Z"
   },
   {
    "duration": 169,
    "start_time": "2023-11-02T20:13:58.284Z"
   },
   {
    "duration": 122,
    "start_time": "2023-11-02T20:13:58.455Z"
   },
   {
    "duration": 9966,
    "start_time": "2023-11-02T20:13:58.579Z"
   },
   {
    "duration": 7102,
    "start_time": "2023-11-02T20:14:08.547Z"
   },
   {
    "duration": 100,
    "start_time": "2023-11-02T20:14:15.651Z"
   },
   {
    "duration": 4896,
    "start_time": "2023-11-02T20:14:15.753Z"
   },
   {
    "duration": 85,
    "start_time": "2023-11-02T20:14:20.659Z"
   },
   {
    "duration": 169,
    "start_time": "2023-11-02T20:14:20.746Z"
   },
   {
    "duration": 0,
    "start_time": "2023-11-02T20:14:20.917Z"
   },
   {
    "duration": 0,
    "start_time": "2023-11-02T20:14:20.918Z"
   },
   {
    "duration": 0,
    "start_time": "2023-11-02T20:14:20.920Z"
   },
   {
    "duration": 0,
    "start_time": "2023-11-02T20:14:20.920Z"
   },
   {
    "duration": 0,
    "start_time": "2023-11-02T20:14:20.921Z"
   },
   {
    "duration": 0,
    "start_time": "2023-11-02T20:14:20.923Z"
   },
   {
    "duration": 0,
    "start_time": "2023-11-02T20:14:20.924Z"
   },
   {
    "duration": 0,
    "start_time": "2023-11-02T20:14:20.925Z"
   },
   {
    "duration": 0,
    "start_time": "2023-11-02T20:14:20.926Z"
   },
   {
    "duration": 0,
    "start_time": "2023-11-02T20:14:20.944Z"
   },
   {
    "duration": 0,
    "start_time": "2023-11-02T20:14:20.946Z"
   },
   {
    "duration": 0,
    "start_time": "2023-11-02T20:14:20.948Z"
   },
   {
    "duration": 0,
    "start_time": "2023-11-02T20:14:20.950Z"
   },
   {
    "duration": 0,
    "start_time": "2023-11-02T20:14:20.951Z"
   },
   {
    "duration": 0,
    "start_time": "2023-11-02T20:14:20.954Z"
   },
   {
    "duration": 3,
    "start_time": "2023-11-02T20:15:19.343Z"
   },
   {
    "duration": 1385,
    "start_time": "2023-11-02T20:15:21.643Z"
   },
   {
    "duration": 21,
    "start_time": "2023-11-02T20:15:25.554Z"
   },
   {
    "duration": 5,
    "start_time": "2023-11-02T20:16:02.564Z"
   },
   {
    "duration": 26,
    "start_time": "2023-11-02T20:16:15.212Z"
   },
   {
    "duration": 24,
    "start_time": "2023-11-02T20:16:18.473Z"
   },
   {
    "duration": 9,
    "start_time": "2023-11-02T20:22:55.304Z"
   },
   {
    "duration": 11,
    "start_time": "2023-11-02T20:23:19.112Z"
   },
   {
    "duration": 38,
    "start_time": "2023-11-02T20:23:41.612Z"
   },
   {
    "duration": 334,
    "start_time": "2023-11-02T20:23:57.970Z"
   },
   {
    "duration": 1370,
    "start_time": "2023-11-02T20:25:36.723Z"
   },
   {
    "duration": 1213,
    "start_time": "2023-11-02T20:25:51.670Z"
   },
   {
    "duration": 1254,
    "start_time": "2023-11-02T20:26:38.280Z"
   },
   {
    "duration": 10,
    "start_time": "2023-11-02T20:28:36.692Z"
   },
   {
    "duration": 17,
    "start_time": "2023-11-02T20:29:13.150Z"
   },
   {
    "duration": 2234,
    "start_time": "2023-11-02T20:29:36.331Z"
   },
   {
    "duration": 457443,
    "start_time": "2023-11-02T20:33:42.552Z"
   },
   {
    "duration": 11,
    "start_time": "2023-11-02T20:41:19.997Z"
   },
   {
    "duration": 3019,
    "start_time": "2023-11-02T20:43:40.201Z"
   },
   {
    "duration": 3078,
    "start_time": "2023-11-02T20:44:11.352Z"
   },
   {
    "duration": 11,
    "start_time": "2023-11-02T20:44:40.089Z"
   },
   {
    "duration": 4920,
    "start_time": "2023-11-02T20:44:55.848Z"
   },
   {
    "duration": 4878,
    "start_time": "2023-11-02T20:45:17.751Z"
   },
   {
    "duration": 1366,
    "start_time": "2023-11-02T20:48:13.121Z"
   },
   {
    "duration": 9,
    "start_time": "2023-11-02T20:49:02.729Z"
   },
   {
    "duration": 1313,
    "start_time": "2023-11-02T20:50:16.893Z"
   },
   {
    "duration": 23,
    "start_time": "2023-11-02T20:50:23.021Z"
   },
   {
    "duration": 23,
    "start_time": "2023-11-02T20:51:41.141Z"
   },
   {
    "duration": 21,
    "start_time": "2023-11-02T20:52:22.830Z"
   },
   {
    "duration": 22,
    "start_time": "2023-11-02T20:52:56.577Z"
   },
   {
    "duration": 1352,
    "start_time": "2023-11-02T20:56:48.346Z"
   },
   {
    "duration": 4,
    "start_time": "2023-11-02T21:01:56.946Z"
   },
   {
    "duration": 10,
    "start_time": "2023-11-02T21:02:34.758Z"
   },
   {
    "duration": 4,
    "start_time": "2023-11-02T21:02:37.580Z"
   },
   {
    "duration": 431,
    "start_time": "2023-11-02T21:02:39.141Z"
   },
   {
    "duration": 425,
    "start_time": "2023-11-02T21:03:19.680Z"
   },
   {
    "duration": 402,
    "start_time": "2023-11-02T21:05:02.971Z"
   },
   {
    "duration": 11,
    "start_time": "2023-11-02T21:05:14.710Z"
   },
   {
    "duration": 393,
    "start_time": "2023-11-02T21:05:21.066Z"
   },
   {
    "duration": 392,
    "start_time": "2023-11-02T21:05:27.703Z"
   },
   {
    "duration": 395,
    "start_time": "2023-11-02T21:06:14.790Z"
   },
   {
    "duration": 385,
    "start_time": "2023-11-02T21:06:22.389Z"
   },
   {
    "duration": 6,
    "start_time": "2023-11-02T21:08:53.940Z"
   },
   {
    "duration": 1487,
    "start_time": "2023-11-02T21:09:06.412Z"
   },
   {
    "duration": 476,
    "start_time": "2023-11-02T21:09:07.901Z"
   },
   {
    "duration": 39,
    "start_time": "2023-11-02T21:09:08.378Z"
   },
   {
    "duration": 80,
    "start_time": "2023-11-02T21:09:08.418Z"
   },
   {
    "duration": 11,
    "start_time": "2023-11-02T21:09:08.500Z"
   },
   {
    "duration": 41,
    "start_time": "2023-11-02T21:09:08.512Z"
   },
   {
    "duration": 10,
    "start_time": "2023-11-02T21:09:08.554Z"
   },
   {
    "duration": 46,
    "start_time": "2023-11-02T21:09:08.565Z"
   },
   {
    "duration": 334,
    "start_time": "2023-11-02T21:09:08.612Z"
   },
   {
    "duration": 109,
    "start_time": "2023-11-02T21:09:08.948Z"
   },
   {
    "duration": 6,
    "start_time": "2023-11-02T21:09:09.059Z"
   },
   {
    "duration": 10,
    "start_time": "2023-11-02T21:09:09.067Z"
   },
   {
    "duration": 393,
    "start_time": "2023-11-02T21:09:09.079Z"
   },
   {
    "duration": 75,
    "start_time": "2023-11-02T21:09:09.475Z"
   },
   {
    "duration": 613,
    "start_time": "2023-11-02T21:09:09.552Z"
   },
   {
    "duration": 622,
    "start_time": "2023-11-02T21:09:10.167Z"
   },
   {
    "duration": 24,
    "start_time": "2023-11-02T21:09:10.843Z"
   },
   {
    "duration": 427,
    "start_time": "2023-11-02T21:09:10.868Z"
   },
   {
    "duration": 303,
    "start_time": "2023-11-02T21:09:11.296Z"
   },
   {
    "duration": 20,
    "start_time": "2023-11-02T21:09:11.600Z"
   },
   {
    "duration": 23,
    "start_time": "2023-11-02T21:09:11.621Z"
   },
   {
    "duration": 62,
    "start_time": "2023-11-02T21:09:11.646Z"
   },
   {
    "duration": 79,
    "start_time": "2023-11-02T21:09:11.710Z"
   },
   {
    "duration": 6754,
    "start_time": "2023-11-02T21:09:11.791Z"
   },
   {
    "duration": 4012,
    "start_time": "2023-11-02T21:09:18.547Z"
   },
   {
    "duration": 99,
    "start_time": "2023-11-02T21:09:22.645Z"
   },
   {
    "duration": 3802,
    "start_time": "2023-11-02T21:09:22.746Z"
   },
   {
    "duration": 95,
    "start_time": "2023-11-02T21:09:26.550Z"
   },
   {
    "duration": 26,
    "start_time": "2023-11-02T21:09:26.646Z"
   },
   {
    "duration": 1219,
    "start_time": "2023-11-02T21:09:26.674Z"
   },
   {
    "duration": 20,
    "start_time": "2023-11-02T21:09:27.894Z"
   },
   {
    "duration": 39,
    "start_time": "2023-11-02T21:09:27.915Z"
   },
   {
    "duration": 23,
    "start_time": "2023-11-02T21:09:27.955Z"
   },
   {
    "duration": 8,
    "start_time": "2023-11-02T21:09:27.980Z"
   },
   {
    "duration": 340,
    "start_time": "2023-11-02T21:09:27.990Z"
   },
   {
    "duration": 1171,
    "start_time": "2023-11-02T21:09:28.332Z"
   },
   {
    "duration": 1962,
    "start_time": "2023-11-02T21:09:29.505Z"
   },
   {
    "duration": 451113,
    "start_time": "2023-11-02T21:09:31.469Z"
   },
   {
    "duration": 4926,
    "start_time": "2023-11-02T21:17:02.584Z"
   },
   {
    "duration": 1214,
    "start_time": "2023-11-02T21:17:07.512Z"
   },
   {
    "duration": 28,
    "start_time": "2023-11-02T21:17:08.730Z"
   },
   {
    "duration": 4,
    "start_time": "2023-11-02T21:17:08.760Z"
   },
   {
    "duration": 433,
    "start_time": "2023-11-02T21:17:08.765Z"
   },
   {
    "duration": 119,
    "start_time": "2023-11-02T21:17:09.200Z"
   },
   {
    "duration": 1,
    "start_time": "2023-11-02T21:17:09.320Z"
   },
   {
    "duration": 31,
    "start_time": "2023-11-02T21:17:20.050Z"
   },
   {
    "duration": 376,
    "start_time": "2023-11-02T21:17:46.072Z"
   },
   {
    "duration": 367,
    "start_time": "2023-11-02T21:17:51.741Z"
   },
   {
    "duration": 37,
    "start_time": "2023-11-02T21:19:42.171Z"
   },
   {
    "duration": 45,
    "start_time": "2023-11-02T21:20:00.562Z"
   },
   {
    "duration": 42,
    "start_time": "2023-11-02T21:20:10.040Z"
   },
   {
    "duration": 42,
    "start_time": "2023-11-02T21:20:25.461Z"
   },
   {
    "duration": 5,
    "start_time": "2023-11-02T21:31:05.070Z"
   },
   {
    "duration": 1420,
    "start_time": "2023-11-02T21:31:10.952Z"
   },
   {
    "duration": 469,
    "start_time": "2023-11-02T21:31:12.374Z"
   },
   {
    "duration": 38,
    "start_time": "2023-11-02T21:31:12.845Z"
   },
   {
    "duration": 83,
    "start_time": "2023-11-02T21:31:12.885Z"
   },
   {
    "duration": 12,
    "start_time": "2023-11-02T21:31:12.970Z"
   },
   {
    "duration": 25,
    "start_time": "2023-11-02T21:31:12.983Z"
   },
   {
    "duration": 9,
    "start_time": "2023-11-02T21:31:13.010Z"
   },
   {
    "duration": 26,
    "start_time": "2023-11-02T21:31:13.044Z"
   },
   {
    "duration": 334,
    "start_time": "2023-11-02T21:31:13.072Z"
   },
   {
    "duration": 43,
    "start_time": "2023-11-02T21:31:13.410Z"
   },
   {
    "duration": 6,
    "start_time": "2023-11-02T21:31:13.455Z"
   },
   {
    "duration": 12,
    "start_time": "2023-11-02T21:31:13.462Z"
   },
   {
    "duration": 425,
    "start_time": "2023-11-02T21:31:13.476Z"
   },
   {
    "duration": 22,
    "start_time": "2023-11-02T21:31:13.902Z"
   },
   {
    "duration": 306,
    "start_time": "2023-11-02T21:31:13.925Z"
   },
   {
    "duration": 354,
    "start_time": "2023-11-02T21:31:14.233Z"
   },
   {
    "duration": 21,
    "start_time": "2023-11-02T21:31:14.588Z"
   },
   {
    "duration": 318,
    "start_time": "2023-11-02T21:31:14.611Z"
   },
   {
    "duration": 322,
    "start_time": "2023-11-02T21:31:14.931Z"
   },
   {
    "duration": 20,
    "start_time": "2023-11-02T21:31:15.255Z"
   },
   {
    "duration": 47,
    "start_time": "2023-11-02T21:31:15.276Z"
   },
   {
    "duration": 91,
    "start_time": "2023-11-02T21:31:15.325Z"
   },
   {
    "duration": 66,
    "start_time": "2023-11-02T21:31:15.418Z"
   },
   {
    "duration": 6758,
    "start_time": "2023-11-02T21:31:15.486Z"
   },
   {
    "duration": 4403,
    "start_time": "2023-11-02T21:31:22.247Z"
   },
   {
    "duration": 98,
    "start_time": "2023-11-02T21:31:26.652Z"
   },
   {
    "duration": 3295,
    "start_time": "2023-11-02T21:31:26.752Z"
   },
   {
    "duration": 91,
    "start_time": "2023-11-02T21:31:30.053Z"
   },
   {
    "duration": 32,
    "start_time": "2023-11-02T21:31:30.146Z"
   },
   {
    "duration": 1224,
    "start_time": "2023-11-02T21:31:30.180Z"
   },
   {
    "duration": 22,
    "start_time": "2023-11-02T21:31:31.405Z"
   },
   {
    "duration": 72,
    "start_time": "2023-11-02T21:31:31.428Z"
   },
   {
    "duration": 52,
    "start_time": "2023-11-02T21:31:31.502Z"
   },
   {
    "duration": 39,
    "start_time": "2023-11-02T21:31:31.555Z"
   },
   {
    "duration": 376,
    "start_time": "2023-11-02T21:31:31.596Z"
   },
   {
    "duration": 1248,
    "start_time": "2023-11-02T21:31:31.974Z"
   },
   {
    "duration": 2036,
    "start_time": "2023-11-02T21:31:33.224Z"
   },
   {
    "duration": 0,
    "start_time": "2023-11-02T21:38:12.404Z"
   },
   {
    "duration": 0,
    "start_time": "2023-11-02T21:38:12.405Z"
   },
   {
    "duration": 0,
    "start_time": "2023-11-02T21:38:12.406Z"
   },
   {
    "duration": 0,
    "start_time": "2023-11-02T21:38:12.407Z"
   },
   {
    "duration": 0,
    "start_time": "2023-11-02T21:38:12.408Z"
   },
   {
    "duration": 0,
    "start_time": "2023-11-02T21:38:12.409Z"
   },
   {
    "duration": 0,
    "start_time": "2023-11-02T21:38:12.410Z"
   },
   {
    "duration": 0,
    "start_time": "2023-11-02T21:38:12.411Z"
   },
   {
    "duration": 16910,
    "start_time": "2023-11-02T21:38:14.428Z"
   },
   {
    "duration": 1147,
    "start_time": "2023-11-02T21:38:47.655Z"
   },
   {
    "duration": 4956,
    "start_time": "2023-11-02T21:38:51.070Z"
   },
   {
    "duration": 1422,
    "start_time": "2023-11-02T21:39:07.601Z"
   },
   {
    "duration": 469,
    "start_time": "2023-11-02T21:39:09.025Z"
   },
   {
    "duration": 54,
    "start_time": "2023-11-02T21:39:09.497Z"
   },
   {
    "duration": 61,
    "start_time": "2023-11-02T21:39:09.554Z"
   },
   {
    "duration": 30,
    "start_time": "2023-11-02T21:39:09.617Z"
   },
   {
    "duration": 38,
    "start_time": "2023-11-02T21:39:09.649Z"
   },
   {
    "duration": 10,
    "start_time": "2023-11-02T21:39:09.688Z"
   },
   {
    "duration": 27,
    "start_time": "2023-11-02T21:39:09.700Z"
   },
   {
    "duration": 325,
    "start_time": "2023-11-02T21:39:09.729Z"
   },
   {
    "duration": 26,
    "start_time": "2023-11-02T21:39:10.057Z"
   },
   {
    "duration": 56,
    "start_time": "2023-11-02T21:39:10.084Z"
   },
   {
    "duration": 19,
    "start_time": "2023-11-02T21:39:10.142Z"
   },
   {
    "duration": 399,
    "start_time": "2023-11-02T21:39:10.162Z"
   },
   {
    "duration": 21,
    "start_time": "2023-11-02T21:39:10.562Z"
   },
   {
    "duration": 344,
    "start_time": "2023-11-02T21:39:10.584Z"
   },
   {
    "duration": 329,
    "start_time": "2023-11-02T21:39:10.930Z"
   },
   {
    "duration": 22,
    "start_time": "2023-11-02T21:39:11.260Z"
   },
   {
    "duration": 310,
    "start_time": "2023-11-02T21:39:11.283Z"
   },
   {
    "duration": 300,
    "start_time": "2023-11-02T21:39:11.594Z"
   },
   {
    "duration": 19,
    "start_time": "2023-11-02T21:39:11.896Z"
   },
   {
    "duration": 18,
    "start_time": "2023-11-02T21:39:11.917Z"
   },
   {
    "duration": 64,
    "start_time": "2023-11-02T21:39:11.943Z"
   },
   {
    "duration": 79,
    "start_time": "2023-11-02T21:39:12.008Z"
   },
   {
    "duration": 7055,
    "start_time": "2023-11-02T21:39:12.089Z"
   },
   {
    "duration": 4207,
    "start_time": "2023-11-02T21:39:19.145Z"
   },
   {
    "duration": 100,
    "start_time": "2023-11-02T21:39:23.446Z"
   },
   {
    "duration": 3301,
    "start_time": "2023-11-02T21:39:23.548Z"
   },
   {
    "duration": 91,
    "start_time": "2023-11-02T21:39:26.854Z"
   },
   {
    "duration": 11,
    "start_time": "2023-11-02T21:39:26.947Z"
   },
   {
    "duration": 1297,
    "start_time": "2023-11-02T21:39:26.960Z"
   },
   {
    "duration": 23,
    "start_time": "2023-11-02T21:39:28.259Z"
   },
   {
    "duration": 25,
    "start_time": "2023-11-02T21:39:28.284Z"
   },
   {
    "duration": 44,
    "start_time": "2023-11-02T21:39:28.311Z"
   },
   {
    "duration": 9,
    "start_time": "2023-11-02T21:39:28.356Z"
   },
   {
    "duration": 337,
    "start_time": "2023-11-02T21:39:28.367Z"
   },
   {
    "duration": 1216,
    "start_time": "2023-11-02T21:39:28.706Z"
   },
   {
    "duration": 2159,
    "start_time": "2023-11-02T21:39:29.924Z"
   },
   {
    "duration": 17271,
    "start_time": "2023-11-02T21:39:32.085Z"
   },
   {
    "duration": 4929,
    "start_time": "2023-11-02T21:39:49.358Z"
   },
   {
    "duration": 1404,
    "start_time": "2023-11-02T21:39:54.289Z"
   },
   {
    "duration": 30,
    "start_time": "2023-11-02T21:39:55.694Z"
   },
   {
    "duration": 19,
    "start_time": "2023-11-02T21:39:55.726Z"
   },
   {
    "duration": 430,
    "start_time": "2023-11-02T21:39:55.747Z"
   },
   {
    "duration": 50,
    "start_time": "2023-11-02T21:39:56.179Z"
   },
   {
    "duration": 138,
    "start_time": "2023-11-02T21:39:56.230Z"
   },
   {
    "duration": 2022,
    "start_time": "2023-11-02T21:40:18.509Z"
   },
   {
    "duration": 5041,
    "start_time": "2023-11-03T08:57:08.597Z"
   },
   {
    "duration": 669,
    "start_time": "2023-11-03T08:57:13.639Z"
   },
   {
    "duration": 39,
    "start_time": "2023-11-03T08:57:14.310Z"
   },
   {
    "duration": 102,
    "start_time": "2023-11-03T08:57:14.351Z"
   },
   {
    "duration": 13,
    "start_time": "2023-11-03T08:57:14.455Z"
   },
   {
    "duration": 27,
    "start_time": "2023-11-03T08:57:14.469Z"
   },
   {
    "duration": 12,
    "start_time": "2023-11-03T08:57:14.506Z"
   },
   {
    "duration": 40,
    "start_time": "2023-11-03T08:57:14.520Z"
   },
   {
    "duration": 338,
    "start_time": "2023-11-03T08:57:14.561Z"
   },
   {
    "duration": 27,
    "start_time": "2023-11-03T08:57:14.908Z"
   },
   {
    "duration": 6,
    "start_time": "2023-11-03T08:57:14.937Z"
   },
   {
    "duration": 26,
    "start_time": "2023-11-03T08:57:14.944Z"
   },
   {
    "duration": 416,
    "start_time": "2023-11-03T08:57:14.972Z"
   },
   {
    "duration": 28,
    "start_time": "2023-11-03T08:57:15.389Z"
   },
   {
    "duration": 321,
    "start_time": "2023-11-03T08:57:15.420Z"
   },
   {
    "duration": 392,
    "start_time": "2023-11-03T08:57:15.743Z"
   },
   {
    "duration": 21,
    "start_time": "2023-11-03T08:57:16.137Z"
   },
   {
    "duration": 346,
    "start_time": "2023-11-03T08:57:16.161Z"
   },
   {
    "duration": 316,
    "start_time": "2023-11-03T08:57:16.509Z"
   },
   {
    "duration": 21,
    "start_time": "2023-11-03T08:57:16.827Z"
   },
   {
    "duration": 13,
    "start_time": "2023-11-03T08:57:16.850Z"
   },
   {
    "duration": 79,
    "start_time": "2023-11-03T08:57:16.865Z"
   },
   {
    "duration": 79,
    "start_time": "2023-11-03T08:57:16.946Z"
   },
   {
    "duration": 6682,
    "start_time": "2023-11-03T08:57:17.027Z"
   },
   {
    "duration": 4797,
    "start_time": "2023-11-03T08:57:23.711Z"
   },
   {
    "duration": 103,
    "start_time": "2023-11-03T08:57:28.510Z"
   },
   {
    "duration": 3694,
    "start_time": "2023-11-03T08:57:28.615Z"
   },
   {
    "duration": 92,
    "start_time": "2023-11-03T08:57:32.315Z"
   },
   {
    "duration": 29,
    "start_time": "2023-11-03T08:57:32.409Z"
   },
   {
    "duration": 1274,
    "start_time": "2023-11-03T08:57:32.440Z"
   },
   {
    "duration": 20,
    "start_time": "2023-11-03T08:57:33.716Z"
   },
   {
    "duration": 28,
    "start_time": "2023-11-03T08:57:33.737Z"
   },
   {
    "duration": 22,
    "start_time": "2023-11-03T08:57:33.767Z"
   },
   {
    "duration": 131,
    "start_time": "2023-11-03T08:57:33.790Z"
   },
   {
    "duration": 0,
    "start_time": "2023-11-03T08:57:33.922Z"
   },
   {
    "duration": 0,
    "start_time": "2023-11-03T08:57:33.924Z"
   },
   {
    "duration": 0,
    "start_time": "2023-11-03T08:57:33.925Z"
   },
   {
    "duration": 0,
    "start_time": "2023-11-03T08:57:33.926Z"
   },
   {
    "duration": 0,
    "start_time": "2023-11-03T08:57:33.927Z"
   },
   {
    "duration": 0,
    "start_time": "2023-11-03T08:57:33.928Z"
   },
   {
    "duration": 0,
    "start_time": "2023-11-03T08:57:33.930Z"
   },
   {
    "duration": 0,
    "start_time": "2023-11-03T08:57:33.930Z"
   },
   {
    "duration": 0,
    "start_time": "2023-11-03T08:57:33.931Z"
   },
   {
    "duration": 0,
    "start_time": "2023-11-03T08:57:33.933Z"
   },
   {
    "duration": 0,
    "start_time": "2023-11-03T08:57:33.934Z"
   },
   {
    "duration": 0,
    "start_time": "2023-11-03T08:57:33.935Z"
   },
   {
    "duration": 5,
    "start_time": "2023-11-03T08:58:02.184Z"
   },
   {
    "duration": 2,
    "start_time": "2023-11-03T08:58:04.085Z"
   },
   {
    "duration": 1296,
    "start_time": "2023-11-03T08:58:04.329Z"
   },
   {
    "duration": 22,
    "start_time": "2023-11-03T08:58:05.627Z"
   },
   {
    "duration": 27,
    "start_time": "2023-11-03T08:58:07.070Z"
   },
   {
    "duration": 29,
    "start_time": "2023-11-03T08:58:07.285Z"
   },
   {
    "duration": 7,
    "start_time": "2023-11-03T09:01:18.194Z"
   },
   {
    "duration": 2,
    "start_time": "2023-11-03T09:01:20.723Z"
   },
   {
    "duration": 1244,
    "start_time": "2023-11-03T09:01:20.929Z"
   },
   {
    "duration": 21,
    "start_time": "2023-11-03T09:01:22.174Z"
   },
   {
    "duration": 24,
    "start_time": "2023-11-03T09:01:22.760Z"
   },
   {
    "duration": 25,
    "start_time": "2023-11-03T09:01:24.079Z"
   },
   {
    "duration": 9,
    "start_time": "2023-11-03T09:01:42.277Z"
   },
   {
    "duration": 341,
    "start_time": "2023-11-03T09:01:42.287Z"
   },
   {
    "duration": 1270,
    "start_time": "2023-11-03T09:01:42.630Z"
   },
   {
    "duration": 2090,
    "start_time": "2023-11-03T09:01:43.906Z"
   },
   {
    "duration": 19051,
    "start_time": "2023-11-03T09:01:45.999Z"
   },
   {
    "duration": 5159,
    "start_time": "2023-11-03T09:02:05.052Z"
   },
   {
    "duration": 1521,
    "start_time": "2023-11-03T09:02:10.213Z"
   },
   {
    "duration": 27,
    "start_time": "2023-11-03T09:02:11.735Z"
   },
   {
    "duration": 21,
    "start_time": "2023-11-03T09:02:11.763Z"
   },
   {
    "duration": 417,
    "start_time": "2023-11-03T09:02:11.787Z"
   },
   {
    "duration": 61,
    "start_time": "2023-11-03T09:02:12.206Z"
   },
   {
    "duration": 2085,
    "start_time": "2023-11-03T09:02:12.269Z"
   },
   {
    "duration": 5,
    "start_time": "2023-11-03T09:17:18.071Z"
   },
   {
    "duration": 1612,
    "start_time": "2023-11-03T09:19:44.319Z"
   },
   {
    "duration": 552,
    "start_time": "2023-11-03T09:19:45.934Z"
   },
   {
    "duration": 58,
    "start_time": "2023-11-03T09:19:46.488Z"
   },
   {
    "duration": 98,
    "start_time": "2023-11-03T09:19:46.549Z"
   },
   {
    "duration": 13,
    "start_time": "2023-11-03T09:19:46.649Z"
   },
   {
    "duration": 38,
    "start_time": "2023-11-03T09:19:46.664Z"
   },
   {
    "duration": 13,
    "start_time": "2023-11-03T09:19:46.706Z"
   },
   {
    "duration": 29,
    "start_time": "2023-11-03T09:19:46.721Z"
   },
   {
    "duration": 584,
    "start_time": "2023-11-03T09:19:46.752Z"
   },
   {
    "duration": 95,
    "start_time": "2023-11-03T09:19:47.339Z"
   },
   {
    "duration": 6,
    "start_time": "2023-11-03T09:19:47.436Z"
   },
   {
    "duration": 64,
    "start_time": "2023-11-03T09:19:47.444Z"
   },
   {
    "duration": 941,
    "start_time": "2023-11-03T09:19:47.510Z"
   },
   {
    "duration": 72,
    "start_time": "2023-11-03T09:19:48.453Z"
   },
   {
    "duration": 704,
    "start_time": "2023-11-03T09:19:48.527Z"
   },
   {
    "duration": 371,
    "start_time": "2023-11-03T09:19:49.234Z"
   },
   {
    "duration": 20,
    "start_time": "2023-11-03T09:19:49.607Z"
   },
   {
    "duration": 333,
    "start_time": "2023-11-03T09:19:49.629Z"
   },
   {
    "duration": 331,
    "start_time": "2023-11-03T09:19:49.963Z"
   },
   {
    "duration": 25,
    "start_time": "2023-11-03T09:19:50.295Z"
   },
   {
    "duration": 12,
    "start_time": "2023-11-03T09:19:50.322Z"
   },
   {
    "duration": 81,
    "start_time": "2023-11-03T09:19:50.335Z"
   },
   {
    "duration": 65,
    "start_time": "2023-11-03T09:19:50.418Z"
   },
   {
    "duration": 6322,
    "start_time": "2023-11-03T09:19:50.485Z"
   },
   {
    "duration": 4399,
    "start_time": "2023-11-03T09:19:56.810Z"
   },
   {
    "duration": 101,
    "start_time": "2023-11-03T09:20:01.213Z"
   },
   {
    "duration": 4494,
    "start_time": "2023-11-03T09:20:01.316Z"
   },
   {
    "duration": 92,
    "start_time": "2023-11-03T09:20:05.816Z"
   },
   {
    "duration": 56,
    "start_time": "2023-11-03T09:20:05.910Z"
   },
   {
    "duration": 1344,
    "start_time": "2023-11-03T09:20:05.968Z"
   },
   {
    "duration": 28,
    "start_time": "2023-11-03T09:20:07.314Z"
   },
   {
    "duration": 93,
    "start_time": "2023-11-03T09:20:07.344Z"
   },
   {
    "duration": 40,
    "start_time": "2023-11-03T09:20:07.440Z"
   },
   {
    "duration": 72,
    "start_time": "2023-11-03T09:20:07.482Z"
   },
   {
    "duration": 440,
    "start_time": "2023-11-03T09:20:07.556Z"
   },
   {
    "duration": 1357,
    "start_time": "2023-11-03T09:20:07.998Z"
   },
   {
    "duration": 2291,
    "start_time": "2023-11-03T09:20:09.357Z"
   },
   {
    "duration": 17698,
    "start_time": "2023-11-03T09:20:11.650Z"
   },
   {
    "duration": 4864,
    "start_time": "2023-11-03T09:20:29.350Z"
   },
   {
    "duration": 1194,
    "start_time": "2023-11-03T09:20:34.215Z"
   },
   {
    "duration": 26,
    "start_time": "2023-11-03T09:20:35.411Z"
   },
   {
    "duration": 5,
    "start_time": "2023-11-03T09:20:35.439Z"
   },
   {
    "duration": 419,
    "start_time": "2023-11-03T09:20:35.446Z"
   },
   {
    "duration": 64,
    "start_time": "2023-11-03T09:20:35.867Z"
   },
   {
    "duration": 2100,
    "start_time": "2023-11-03T09:20:35.934Z"
   },
   {
    "duration": 11,
    "start_time": "2023-11-03T09:56:13.263Z"
   },
   {
    "duration": 50,
    "start_time": "2023-11-03T10:13:29.273Z"
   },
   {
    "duration": 1809,
    "start_time": "2023-11-03T10:13:37.831Z"
   },
   {
    "duration": 759,
    "start_time": "2023-11-03T10:13:39.642Z"
   },
   {
    "duration": 62,
    "start_time": "2023-11-03T10:13:40.403Z"
   },
   {
    "duration": 79,
    "start_time": "2023-11-03T10:13:40.467Z"
   },
   {
    "duration": 12,
    "start_time": "2023-11-03T10:13:40.548Z"
   },
   {
    "duration": 26,
    "start_time": "2023-11-03T10:13:40.562Z"
   },
   {
    "duration": 11,
    "start_time": "2023-11-03T10:13:40.589Z"
   },
   {
    "duration": 58,
    "start_time": "2023-11-03T10:13:40.602Z"
   },
   {
    "duration": 358,
    "start_time": "2023-11-03T10:13:40.661Z"
   },
   {
    "duration": 44,
    "start_time": "2023-11-03T10:13:41.023Z"
   },
   {
    "duration": 7,
    "start_time": "2023-11-03T10:13:41.069Z"
   },
   {
    "duration": 19,
    "start_time": "2023-11-03T10:13:41.078Z"
   },
   {
    "duration": 431,
    "start_time": "2023-11-03T10:13:41.098Z"
   },
   {
    "duration": 29,
    "start_time": "2023-11-03T10:13:41.531Z"
   },
   {
    "duration": 347,
    "start_time": "2023-11-03T10:13:41.562Z"
   },
   {
    "duration": 357,
    "start_time": "2023-11-03T10:13:41.911Z"
   },
   {
    "duration": 22,
    "start_time": "2023-11-03T10:13:42.270Z"
   },
   {
    "duration": 359,
    "start_time": "2023-11-03T10:13:42.294Z"
   },
   {
    "duration": 341,
    "start_time": "2023-11-03T10:13:42.654Z"
   },
   {
    "duration": 20,
    "start_time": "2023-11-03T10:13:42.997Z"
   },
   {
    "duration": 31,
    "start_time": "2023-11-03T10:13:43.019Z"
   },
   {
    "duration": 74,
    "start_time": "2023-11-03T10:13:43.052Z"
   },
   {
    "duration": 85,
    "start_time": "2023-11-03T10:13:43.128Z"
   },
   {
    "duration": 8733,
    "start_time": "2023-11-03T10:13:43.215Z"
   },
   {
    "duration": 5106,
    "start_time": "2023-11-03T10:13:51.950Z"
   },
   {
    "duration": 192,
    "start_time": "2023-11-03T10:13:57.058Z"
   },
   {
    "duration": 4698,
    "start_time": "2023-11-03T10:13:57.253Z"
   },
   {
    "duration": 9,
    "start_time": "2023-11-03T10:14:02.046Z"
   },
   {
    "duration": 34,
    "start_time": "2023-11-03T10:14:02.057Z"
   },
   {
    "duration": 1626,
    "start_time": "2023-11-03T10:14:02.093Z"
   },
   {
    "duration": 29,
    "start_time": "2023-11-03T10:14:03.721Z"
   },
   {
    "duration": 30,
    "start_time": "2023-11-03T10:14:03.752Z"
   },
   {
    "duration": 43,
    "start_time": "2023-11-03T10:14:03.785Z"
   },
   {
    "duration": 20,
    "start_time": "2023-11-03T10:14:03.830Z"
   },
   {
    "duration": 350,
    "start_time": "2023-11-03T10:14:03.852Z"
   },
   {
    "duration": 0,
    "start_time": "2023-11-03T10:14:04.204Z"
   },
   {
    "duration": 1,
    "start_time": "2023-11-03T10:14:04.205Z"
   },
   {
    "duration": 0,
    "start_time": "2023-11-03T10:14:04.207Z"
   },
   {
    "duration": 0,
    "start_time": "2023-11-03T10:14:04.208Z"
   },
   {
    "duration": 0,
    "start_time": "2023-11-03T10:14:04.210Z"
   },
   {
    "duration": 0,
    "start_time": "2023-11-03T10:14:04.211Z"
   },
   {
    "duration": 0,
    "start_time": "2023-11-03T10:14:04.212Z"
   },
   {
    "duration": 0,
    "start_time": "2023-11-03T10:14:04.213Z"
   },
   {
    "duration": 0,
    "start_time": "2023-11-03T10:14:04.215Z"
   },
   {
    "duration": 0,
    "start_time": "2023-11-03T10:14:04.216Z"
   },
   {
    "duration": 1548,
    "start_time": "2023-11-03T10:14:35.513Z"
   },
   {
    "duration": 507,
    "start_time": "2023-11-03T10:14:37.063Z"
   },
   {
    "duration": 46,
    "start_time": "2023-11-03T10:14:37.573Z"
   },
   {
    "duration": 89,
    "start_time": "2023-11-03T10:14:37.620Z"
   },
   {
    "duration": 13,
    "start_time": "2023-11-03T10:14:37.712Z"
   },
   {
    "duration": 38,
    "start_time": "2023-11-03T10:14:37.727Z"
   },
   {
    "duration": 10,
    "start_time": "2023-11-03T10:14:37.767Z"
   },
   {
    "duration": 28,
    "start_time": "2023-11-03T10:14:37.778Z"
   },
   {
    "duration": 395,
    "start_time": "2023-11-03T10:14:37.808Z"
   },
   {
    "duration": 59,
    "start_time": "2023-11-03T10:14:38.205Z"
   },
   {
    "duration": 8,
    "start_time": "2023-11-03T10:14:38.265Z"
   },
   {
    "duration": 17,
    "start_time": "2023-11-03T10:14:38.275Z"
   },
   {
    "duration": 441,
    "start_time": "2023-11-03T10:14:38.293Z"
   },
   {
    "duration": 27,
    "start_time": "2023-11-03T10:14:38.738Z"
   },
   {
    "duration": 375,
    "start_time": "2023-11-03T10:14:38.767Z"
   },
   {
    "duration": 373,
    "start_time": "2023-11-03T10:14:39.144Z"
   },
   {
    "duration": 29,
    "start_time": "2023-11-03T10:14:39.518Z"
   },
   {
    "duration": 375,
    "start_time": "2023-11-03T10:14:39.548Z"
   },
   {
    "duration": 365,
    "start_time": "2023-11-03T10:14:39.925Z"
   },
   {
    "duration": 23,
    "start_time": "2023-11-03T10:14:40.292Z"
   },
   {
    "duration": 29,
    "start_time": "2023-11-03T10:14:40.318Z"
   },
   {
    "duration": 79,
    "start_time": "2023-11-03T10:14:40.348Z"
   },
   {
    "duration": 88,
    "start_time": "2023-11-03T10:14:40.429Z"
   },
   {
    "duration": 6729,
    "start_time": "2023-11-03T10:14:40.519Z"
   },
   {
    "duration": 4598,
    "start_time": "2023-11-03T10:14:47.250Z"
   },
   {
    "duration": 97,
    "start_time": "2023-11-03T10:14:51.857Z"
   },
   {
    "duration": 3395,
    "start_time": "2023-11-03T10:14:51.956Z"
   },
   {
    "duration": 95,
    "start_time": "2023-11-03T10:14:55.354Z"
   },
   {
    "duration": 14,
    "start_time": "2023-11-03T10:14:55.451Z"
   },
   {
    "duration": 1444,
    "start_time": "2023-11-03T10:14:55.467Z"
   },
   {
    "duration": 23,
    "start_time": "2023-11-03T10:14:56.913Z"
   },
   {
    "duration": 29,
    "start_time": "2023-11-03T10:14:56.947Z"
   },
   {
    "duration": 26,
    "start_time": "2023-11-03T10:14:56.978Z"
   },
   {
    "duration": 24,
    "start_time": "2023-11-03T10:14:57.006Z"
   },
   {
    "duration": 540,
    "start_time": "2023-11-03T10:14:57.032Z"
   },
   {
    "duration": 0,
    "start_time": "2023-11-03T10:14:57.573Z"
   },
   {
    "duration": 0,
    "start_time": "2023-11-03T10:14:57.575Z"
   },
   {
    "duration": 0,
    "start_time": "2023-11-03T10:14:57.576Z"
   },
   {
    "duration": 0,
    "start_time": "2023-11-03T10:14:57.577Z"
   },
   {
    "duration": 0,
    "start_time": "2023-11-03T10:14:57.578Z"
   },
   {
    "duration": 0,
    "start_time": "2023-11-03T10:14:57.580Z"
   },
   {
    "duration": 0,
    "start_time": "2023-11-03T10:14:57.581Z"
   },
   {
    "duration": 0,
    "start_time": "2023-11-03T10:14:57.582Z"
   },
   {
    "duration": 0,
    "start_time": "2023-11-03T10:14:57.583Z"
   },
   {
    "duration": 0,
    "start_time": "2023-11-03T10:14:57.584Z"
   },
   {
    "duration": 385,
    "start_time": "2023-11-03T10:16:41.728Z"
   },
   {
    "duration": 390,
    "start_time": "2023-11-03T10:16:57.147Z"
   },
   {
    "duration": 194,
    "start_time": "2023-11-03T10:17:37.401Z"
   },
   {
    "duration": 206,
    "start_time": "2023-11-03T10:20:55.960Z"
   },
   {
    "duration": 7772,
    "start_time": "2023-11-03T10:22:06.258Z"
   },
   {
    "duration": 4046,
    "start_time": "2023-11-03T10:22:23.842Z"
   },
   {
    "duration": 1411,
    "start_time": "2023-11-03T10:22:27.891Z"
   },
   {
    "duration": 506,
    "start_time": "2023-11-03T10:22:29.303Z"
   },
   {
    "duration": 55,
    "start_time": "2023-11-03T10:22:29.811Z"
   },
   {
    "duration": 87,
    "start_time": "2023-11-03T10:22:29.867Z"
   },
   {
    "duration": 13,
    "start_time": "2023-11-03T10:22:29.955Z"
   },
   {
    "duration": 58,
    "start_time": "2023-11-03T10:22:29.970Z"
   },
   {
    "duration": 91,
    "start_time": "2023-11-03T10:22:30.030Z"
   },
   {
    "duration": 45,
    "start_time": "2023-11-03T10:22:30.123Z"
   },
   {
    "duration": 391,
    "start_time": "2023-11-03T10:22:30.171Z"
   },
   {
    "duration": 34,
    "start_time": "2023-11-03T10:22:30.564Z"
   },
   {
    "duration": 32,
    "start_time": "2023-11-03T10:22:30.600Z"
   },
   {
    "duration": 50,
    "start_time": "2023-11-03T10:22:30.634Z"
   },
   {
    "duration": 446,
    "start_time": "2023-11-03T10:22:30.686Z"
   },
   {
    "duration": 29,
    "start_time": "2023-11-03T10:22:31.134Z"
   },
   {
    "duration": 464,
    "start_time": "2023-11-03T10:22:31.166Z"
   },
   {
    "duration": 350,
    "start_time": "2023-11-03T10:22:31.631Z"
   },
   {
    "duration": 21,
    "start_time": "2023-11-03T10:22:31.983Z"
   },
   {
    "duration": 439,
    "start_time": "2023-11-03T10:22:32.006Z"
   },
   {
    "duration": 339,
    "start_time": "2023-11-03T10:22:32.446Z"
   },
   {
    "duration": 20,
    "start_time": "2023-11-03T10:22:32.787Z"
   },
   {
    "duration": 13,
    "start_time": "2023-11-03T10:22:32.809Z"
   },
   {
    "duration": 85,
    "start_time": "2023-11-03T10:22:32.823Z"
   },
   {
    "duration": 96,
    "start_time": "2023-11-03T10:22:32.909Z"
   },
   {
    "duration": 7942,
    "start_time": "2023-11-03T10:22:33.007Z"
   },
   {
    "duration": 4798,
    "start_time": "2023-11-03T10:22:40.953Z"
   },
   {
    "duration": 12,
    "start_time": "2023-11-03T10:22:45.846Z"
   },
   {
    "duration": 5586,
    "start_time": "2023-11-03T10:22:45.862Z"
   },
   {
    "duration": 12,
    "start_time": "2023-11-03T10:22:51.450Z"
   },
   {
    "duration": 91,
    "start_time": "2023-11-03T10:22:51.467Z"
   },
   {
    "duration": 1443,
    "start_time": "2023-11-03T10:22:51.560Z"
   },
   {
    "duration": 22,
    "start_time": "2023-11-03T10:22:53.005Z"
   },
   {
    "duration": 67,
    "start_time": "2023-11-03T10:22:53.029Z"
   },
   {
    "duration": 27,
    "start_time": "2023-11-03T10:22:53.097Z"
   },
   {
    "duration": 10,
    "start_time": "2023-11-03T10:22:53.127Z"
   },
   {
    "duration": 483,
    "start_time": "2023-11-03T10:22:53.139Z"
   },
   {
    "duration": 1661,
    "start_time": "2023-11-03T10:22:53.625Z"
   },
   {
    "duration": 2599,
    "start_time": "2023-11-03T10:22:55.288Z"
   },
   {
    "duration": 20327,
    "start_time": "2023-11-03T10:22:57.889Z"
   },
   {
    "duration": 3978,
    "start_time": "2023-11-03T10:23:18.217Z"
   },
   {
    "duration": 1654,
    "start_time": "2023-11-03T10:23:22.197Z"
   },
   {
    "duration": 28,
    "start_time": "2023-11-03T10:23:23.853Z"
   },
   {
    "duration": 5,
    "start_time": "2023-11-03T10:23:23.883Z"
   },
   {
    "duration": 474,
    "start_time": "2023-11-03T10:23:23.890Z"
   },
   {
    "duration": 52,
    "start_time": "2023-11-03T10:23:24.366Z"
   },
   {
    "duration": 2518,
    "start_time": "2023-11-03T10:23:24.420Z"
   },
   {
    "duration": 99,
    "start_time": "2023-11-03T10:30:52.246Z"
   },
   {
    "duration": 108,
    "start_time": "2023-11-03T10:31:14.955Z"
   },
   {
    "duration": 20296,
    "start_time": "2023-11-03T10:31:21.776Z"
   },
   {
    "duration": 81,
    "start_time": "2023-11-03T10:32:56.085Z"
   },
   {
    "duration": 1673,
    "start_time": "2023-11-03T10:33:04.424Z"
   },
   {
    "duration": 1555,
    "start_time": "2023-11-03T10:33:22.894Z"
   },
   {
    "duration": 2946,
    "start_time": "2023-11-03T10:34:50.302Z"
   },
   {
    "duration": 1495,
    "start_time": "2023-11-03T10:34:53.250Z"
   },
   {
    "duration": 610,
    "start_time": "2023-11-03T10:34:54.746Z"
   },
   {
    "duration": 62,
    "start_time": "2023-11-03T10:34:55.359Z"
   },
   {
    "duration": 127,
    "start_time": "2023-11-03T10:34:55.425Z"
   },
   {
    "duration": 18,
    "start_time": "2023-11-03T10:34:55.554Z"
   },
   {
    "duration": 52,
    "start_time": "2023-11-03T10:34:55.575Z"
   },
   {
    "duration": 25,
    "start_time": "2023-11-03T10:34:55.629Z"
   },
   {
    "duration": 50,
    "start_time": "2023-11-03T10:34:55.657Z"
   },
   {
    "duration": 359,
    "start_time": "2023-11-03T10:34:55.710Z"
   },
   {
    "duration": 36,
    "start_time": "2023-11-03T10:34:56.070Z"
   },
   {
    "duration": 10,
    "start_time": "2023-11-03T10:34:56.108Z"
   },
   {
    "duration": 19,
    "start_time": "2023-11-03T10:34:56.146Z"
   },
   {
    "duration": 364,
    "start_time": "2023-11-03T10:34:56.170Z"
   },
   {
    "duration": 30,
    "start_time": "2023-11-03T10:34:56.536Z"
   },
   {
    "duration": 491,
    "start_time": "2023-11-03T10:34:56.567Z"
   },
   {
    "duration": 388,
    "start_time": "2023-11-03T10:34:57.060Z"
   },
   {
    "duration": 23,
    "start_time": "2023-11-03T10:34:57.450Z"
   },
   {
    "duration": 422,
    "start_time": "2023-11-03T10:34:57.476Z"
   },
   {
    "duration": 414,
    "start_time": "2023-11-03T10:34:57.901Z"
   },
   {
    "duration": 21,
    "start_time": "2023-11-03T10:34:58.317Z"
   },
   {
    "duration": 14,
    "start_time": "2023-11-03T10:34:58.347Z"
   },
   {
    "duration": 93,
    "start_time": "2023-11-03T10:34:58.363Z"
   },
   {
    "duration": 89,
    "start_time": "2023-11-03T10:34:58.458Z"
   },
   {
    "duration": 8100,
    "start_time": "2023-11-03T10:34:58.549Z"
   },
   {
    "duration": 4398,
    "start_time": "2023-11-03T10:35:06.651Z"
   },
   {
    "duration": 96,
    "start_time": "2023-11-03T10:35:11.051Z"
   },
   {
    "duration": 3604,
    "start_time": "2023-11-03T10:35:11.149Z"
   },
   {
    "duration": 94,
    "start_time": "2023-11-03T10:35:14.756Z"
   },
   {
    "duration": 5,
    "start_time": "2023-11-03T10:35:14.852Z"
   },
   {
    "duration": 1543,
    "start_time": "2023-11-03T10:35:14.859Z"
   },
   {
    "duration": 22,
    "start_time": "2023-11-03T10:35:16.404Z"
   },
   {
    "duration": 55,
    "start_time": "2023-11-03T10:35:16.428Z"
   },
   {
    "duration": 44,
    "start_time": "2023-11-03T10:35:16.484Z"
   },
   {
    "duration": 9,
    "start_time": "2023-11-03T10:35:16.530Z"
   },
   {
    "duration": 486,
    "start_time": "2023-11-03T10:35:16.541Z"
   },
   {
    "duration": 1541,
    "start_time": "2023-11-03T10:35:17.029Z"
   },
   {
    "duration": 2656,
    "start_time": "2023-11-03T10:35:18.571Z"
   },
   {
    "duration": 20212,
    "start_time": "2023-11-03T10:35:21.229Z"
   },
   {
    "duration": 3935,
    "start_time": "2023-11-03T10:35:41.447Z"
   },
   {
    "duration": 1619,
    "start_time": "2023-11-03T10:35:45.387Z"
   },
   {
    "duration": 41,
    "start_time": "2023-11-03T10:35:47.007Z"
   },
   {
    "duration": 5,
    "start_time": "2023-11-03T10:35:47.050Z"
   },
   {
    "duration": 389,
    "start_time": "2023-11-03T10:35:47.056Z"
   },
   {
    "duration": 48,
    "start_time": "2023-11-03T10:35:47.448Z"
   },
   {
    "duration": 2361,
    "start_time": "2023-11-03T10:35:47.497Z"
   },
   {
    "duration": 1438,
    "start_time": "2023-11-03T10:47:51.681Z"
   },
   {
    "duration": 1880,
    "start_time": "2023-11-03T10:48:13.265Z"
   },
   {
    "duration": 1537,
    "start_time": "2023-11-03T10:49:03.516Z"
   },
   {
    "duration": 1934,
    "start_time": "2023-11-03T10:49:24.961Z"
   },
   {
    "duration": 1391,
    "start_time": "2023-11-03T10:49:42.455Z"
   },
   {
    "duration": 630,
    "start_time": "2023-11-03T10:49:51.722Z"
   },
   {
    "duration": 1640,
    "start_time": "2023-11-03T10:49:59.863Z"
   },
   {
    "duration": 3048,
    "start_time": "2023-11-03T10:50:14.434Z"
   },
   {
    "duration": 1412,
    "start_time": "2023-11-03T10:50:17.485Z"
   },
   {
    "duration": 849,
    "start_time": "2023-11-03T10:50:18.899Z"
   },
   {
    "duration": 107,
    "start_time": "2023-11-03T10:50:19.750Z"
   },
   {
    "duration": 126,
    "start_time": "2023-11-03T10:50:19.859Z"
   },
   {
    "duration": 64,
    "start_time": "2023-11-03T10:50:19.987Z"
   },
   {
    "duration": 27,
    "start_time": "2023-11-03T10:50:20.053Z"
   },
   {
    "duration": 82,
    "start_time": "2023-11-03T10:50:20.081Z"
   },
   {
    "duration": 90,
    "start_time": "2023-11-03T10:50:20.165Z"
   },
   {
    "duration": 812,
    "start_time": "2023-11-03T10:50:20.258Z"
   },
   {
    "duration": 98,
    "start_time": "2023-11-03T10:50:21.072Z"
   },
   {
    "duration": 8,
    "start_time": "2023-11-03T10:50:21.172Z"
   },
   {
    "duration": 70,
    "start_time": "2023-11-03T10:50:21.182Z"
   },
   {
    "duration": 371,
    "start_time": "2023-11-03T10:50:21.254Z"
   },
   {
    "duration": 28,
    "start_time": "2023-11-03T10:50:21.627Z"
   },
   {
    "duration": 422,
    "start_time": "2023-11-03T10:50:21.657Z"
   },
   {
    "duration": 381,
    "start_time": "2023-11-03T10:50:22.082Z"
   },
   {
    "duration": 21,
    "start_time": "2023-11-03T10:50:22.465Z"
   },
   {
    "duration": 366,
    "start_time": "2023-11-03T10:50:22.487Z"
   },
   {
    "duration": 349,
    "start_time": "2023-11-03T10:50:22.855Z"
   },
   {
    "duration": 28,
    "start_time": "2023-11-03T10:50:23.206Z"
   },
   {
    "duration": 13,
    "start_time": "2023-11-03T10:50:23.246Z"
   },
   {
    "duration": 86,
    "start_time": "2023-11-03T10:50:23.261Z"
   },
   {
    "duration": 75,
    "start_time": "2023-11-03T10:50:23.349Z"
   },
   {
    "duration": 9728,
    "start_time": "2023-11-03T10:50:23.425Z"
   },
   {
    "duration": 6998,
    "start_time": "2023-11-03T10:50:33.156Z"
   },
   {
    "duration": 101,
    "start_time": "2023-11-03T10:50:40.157Z"
   },
   {
    "duration": 8177,
    "start_time": "2023-11-03T13:43:58.900Z"
   },
   {
    "duration": 1514,
    "start_time": "2023-11-03T13:44:07.079Z"
   },
   {
    "duration": 692,
    "start_time": "2023-11-03T13:44:08.595Z"
   },
   {
    "duration": 49,
    "start_time": "2023-11-03T13:44:09.289Z"
   },
   {
    "duration": 76,
    "start_time": "2023-11-03T13:44:09.340Z"
   },
   {
    "duration": 12,
    "start_time": "2023-11-03T13:44:09.418Z"
   },
   {
    "duration": 36,
    "start_time": "2023-11-03T13:44:09.432Z"
   },
   {
    "duration": 15,
    "start_time": "2023-11-03T13:44:09.469Z"
   },
   {
    "duration": 40,
    "start_time": "2023-11-03T13:44:09.485Z"
   },
   {
    "duration": 335,
    "start_time": "2023-11-03T13:44:09.527Z"
   },
   {
    "duration": 28,
    "start_time": "2023-11-03T13:44:09.864Z"
   },
   {
    "duration": 18,
    "start_time": "2023-11-03T13:44:09.893Z"
   },
   {
    "duration": 26,
    "start_time": "2023-11-03T13:44:09.913Z"
   },
   {
    "duration": 317,
    "start_time": "2023-11-03T13:44:09.943Z"
   },
   {
    "duration": 21,
    "start_time": "2023-11-03T13:44:10.262Z"
   },
   {
    "duration": 393,
    "start_time": "2023-11-03T13:44:10.285Z"
   },
   {
    "duration": 306,
    "start_time": "2023-11-03T13:44:10.680Z"
   },
   {
    "duration": 27,
    "start_time": "2023-11-03T13:44:10.987Z"
   },
   {
    "duration": 308,
    "start_time": "2023-11-03T13:44:11.015Z"
   },
   {
    "duration": 319,
    "start_time": "2023-11-03T13:44:11.325Z"
   },
   {
    "duration": 18,
    "start_time": "2023-11-03T13:44:11.646Z"
   },
   {
    "duration": 25,
    "start_time": "2023-11-03T13:44:11.666Z"
   },
   {
    "duration": 79,
    "start_time": "2023-11-03T13:44:11.693Z"
   },
   {
    "duration": 79,
    "start_time": "2023-11-03T13:44:11.774Z"
   },
   {
    "duration": 6852,
    "start_time": "2023-11-03T13:44:11.856Z"
   },
   {
    "duration": 4298,
    "start_time": "2023-11-03T13:44:18.710Z"
   },
   {
    "duration": 100,
    "start_time": "2023-11-03T13:44:23.010Z"
   },
   {
    "duration": 3997,
    "start_time": "2023-11-03T13:44:23.112Z"
   },
   {
    "duration": 95,
    "start_time": "2023-11-03T13:44:27.112Z"
   },
   {
    "duration": 8,
    "start_time": "2023-11-03T13:44:27.209Z"
   },
   {
    "duration": 1263,
    "start_time": "2023-11-03T13:44:27.218Z"
   },
   {
    "duration": 26,
    "start_time": "2023-11-03T13:44:28.483Z"
   },
   {
    "duration": 73,
    "start_time": "2023-11-03T13:44:28.511Z"
   },
   {
    "duration": 42,
    "start_time": "2023-11-03T13:44:28.586Z"
   },
   {
    "duration": 36,
    "start_time": "2023-11-03T13:44:28.630Z"
   },
   {
    "duration": 449,
    "start_time": "2023-11-03T13:44:28.668Z"
   },
   {
    "duration": 1519,
    "start_time": "2023-11-03T13:44:29.119Z"
   },
   {
    "duration": 2757,
    "start_time": "2023-11-03T13:44:30.640Z"
   },
   {
    "duration": 18815,
    "start_time": "2023-11-03T13:44:33.399Z"
   },
   {
    "duration": 3713,
    "start_time": "2023-11-03T13:44:52.217Z"
   },
   {
    "duration": 1462,
    "start_time": "2023-11-03T13:44:55.936Z"
   },
   {
    "duration": 1752,
    "start_time": "2023-11-03T13:44:57.400Z"
   },
   {
    "duration": 38,
    "start_time": "2023-11-03T13:44:59.154Z"
   },
   {
    "duration": 6,
    "start_time": "2023-11-03T13:44:59.208Z"
   },
   {
    "duration": 424,
    "start_time": "2023-11-03T13:44:59.216Z"
   },
   {
    "duration": 47,
    "start_time": "2023-11-03T13:44:59.642Z"
   },
   {
    "duration": 2175,
    "start_time": "2023-11-03T13:44:59.691Z"
   },
   {
    "duration": 3543,
    "start_time": "2023-11-03T13:46:18.812Z"
   },
   {
    "duration": 1346,
    "start_time": "2023-11-03T13:46:22.357Z"
   },
   {
    "duration": 470,
    "start_time": "2023-11-03T13:46:23.705Z"
   },
   {
    "duration": 54,
    "start_time": "2023-11-03T13:46:24.178Z"
   },
   {
    "duration": 80,
    "start_time": "2023-11-03T13:46:24.234Z"
   },
   {
    "duration": 13,
    "start_time": "2023-11-03T13:46:24.316Z"
   },
   {
    "duration": 41,
    "start_time": "2023-11-03T13:46:24.331Z"
   },
   {
    "duration": 11,
    "start_time": "2023-11-03T13:46:24.374Z"
   },
   {
    "duration": 38,
    "start_time": "2023-11-03T13:46:24.387Z"
   },
   {
    "duration": 334,
    "start_time": "2023-11-03T13:46:24.428Z"
   },
   {
    "duration": 44,
    "start_time": "2023-11-03T13:46:24.765Z"
   },
   {
    "duration": 6,
    "start_time": "2023-11-03T13:46:24.810Z"
   },
   {
    "duration": 19,
    "start_time": "2023-11-03T13:46:24.818Z"
   },
   {
    "duration": 320,
    "start_time": "2023-11-03T13:46:24.839Z"
   },
   {
    "duration": 22,
    "start_time": "2023-11-03T13:46:25.160Z"
   },
   {
    "duration": 413,
    "start_time": "2023-11-03T13:46:25.183Z"
   },
   {
    "duration": 321,
    "start_time": "2023-11-03T13:46:25.598Z"
   },
   {
    "duration": 23,
    "start_time": "2023-11-03T13:46:25.921Z"
   },
   {
    "duration": 368,
    "start_time": "2023-11-03T13:46:25.947Z"
   },
   {
    "duration": 322,
    "start_time": "2023-11-03T13:46:26.317Z"
   },
   {
    "duration": 19,
    "start_time": "2023-11-03T13:46:26.641Z"
   },
   {
    "duration": 12,
    "start_time": "2023-11-03T13:46:26.661Z"
   },
   {
    "duration": 91,
    "start_time": "2023-11-03T13:46:26.675Z"
   },
   {
    "duration": 70,
    "start_time": "2023-11-03T13:46:26.768Z"
   },
   {
    "duration": 7472,
    "start_time": "2023-11-03T13:46:26.840Z"
   },
   {
    "duration": 4505,
    "start_time": "2023-11-03T13:46:34.314Z"
   },
   {
    "duration": 91,
    "start_time": "2023-11-03T13:46:38.821Z"
   },
   {
    "duration": 3994,
    "start_time": "2023-11-03T13:46:38.917Z"
   },
   {
    "duration": 94,
    "start_time": "2023-11-03T13:46:42.916Z"
   },
   {
    "duration": 58,
    "start_time": "2023-11-03T13:46:43.012Z"
   },
   {
    "duration": 1191,
    "start_time": "2023-11-03T13:46:43.072Z"
   },
   {
    "duration": 20,
    "start_time": "2023-11-03T13:46:44.264Z"
   },
   {
    "duration": 41,
    "start_time": "2023-11-03T13:46:44.286Z"
   },
   {
    "duration": 22,
    "start_time": "2023-11-03T13:46:44.328Z"
   },
   {
    "duration": 8,
    "start_time": "2023-11-03T13:46:44.352Z"
   },
   {
    "duration": 432,
    "start_time": "2023-11-03T13:46:44.361Z"
   },
   {
    "duration": 1329,
    "start_time": "2023-11-03T13:46:44.795Z"
   },
   {
    "duration": 2746,
    "start_time": "2023-11-03T13:46:46.126Z"
   },
   {
    "duration": 18238,
    "start_time": "2023-11-03T13:46:48.874Z"
   },
   {
    "duration": 3537,
    "start_time": "2023-11-03T13:47:07.114Z"
   },
   {
    "duration": 1349,
    "start_time": "2023-11-03T13:47:10.653Z"
   },
   {
    "duration": 1687,
    "start_time": "2023-11-03T13:47:12.007Z"
   },
   {
    "duration": 32,
    "start_time": "2023-11-03T13:47:13.696Z"
   },
   {
    "duration": 4,
    "start_time": "2023-11-03T13:47:13.729Z"
   },
   {
    "duration": 356,
    "start_time": "2023-11-03T13:47:13.734Z"
   },
   {
    "duration": 48,
    "start_time": "2023-11-03T13:47:14.091Z"
   },
   {
    "duration": 2038,
    "start_time": "2023-11-03T13:47:14.140Z"
   },
   {
    "duration": 49,
    "start_time": "2023-11-03T16:07:05.528Z"
   },
   {
    "duration": 7579,
    "start_time": "2023-11-03T16:07:14.643Z"
   },
   {
    "duration": 1661,
    "start_time": "2023-11-03T16:07:22.225Z"
   },
   {
    "duration": 820,
    "start_time": "2023-11-03T16:07:23.888Z"
   },
   {
    "duration": 58,
    "start_time": "2023-11-03T16:07:24.719Z"
   },
   {
    "duration": 95,
    "start_time": "2023-11-03T16:07:24.779Z"
   },
   {
    "duration": 12,
    "start_time": "2023-11-03T16:07:24.876Z"
   },
   {
    "duration": 29,
    "start_time": "2023-11-03T16:07:24.913Z"
   },
   {
    "duration": 10,
    "start_time": "2023-11-03T16:07:24.944Z"
   },
   {
    "duration": 30,
    "start_time": "2023-11-03T16:07:24.955Z"
   },
   {
    "duration": 382,
    "start_time": "2023-11-03T16:07:24.988Z"
   },
   {
    "duration": 55,
    "start_time": "2023-11-03T16:07:25.372Z"
   },
   {
    "duration": 6,
    "start_time": "2023-11-03T16:07:25.428Z"
   },
   {
    "duration": 16,
    "start_time": "2023-11-03T16:07:25.436Z"
   },
   {
    "duration": 347,
    "start_time": "2023-11-03T16:07:25.454Z"
   },
   {
    "duration": 26,
    "start_time": "2023-11-03T16:07:25.803Z"
   },
   {
    "duration": 431,
    "start_time": "2023-11-03T16:07:25.831Z"
   },
   {
    "duration": 376,
    "start_time": "2023-11-03T16:07:26.263Z"
   },
   {
    "duration": 26,
    "start_time": "2023-11-03T16:07:26.641Z"
   },
   {
    "duration": 375,
    "start_time": "2023-11-03T16:07:26.670Z"
   },
   {
    "duration": 348,
    "start_time": "2023-11-03T16:07:27.046Z"
   },
   {
    "duration": 31,
    "start_time": "2023-11-03T16:07:27.396Z"
   },
   {
    "duration": 33,
    "start_time": "2023-11-03T16:07:27.429Z"
   },
   {
    "duration": 117,
    "start_time": "2023-11-03T16:07:27.464Z"
   },
   {
    "duration": 93,
    "start_time": "2023-11-03T16:07:27.584Z"
   },
   {
    "duration": 7224,
    "start_time": "2023-11-03T16:07:27.681Z"
   },
   {
    "duration": 3995,
    "start_time": "2023-11-03T16:07:34.909Z"
   },
   {
    "duration": 97,
    "start_time": "2023-11-03T16:07:38.906Z"
   },
   {
    "duration": 3298,
    "start_time": "2023-11-03T16:07:39.013Z"
   },
   {
    "duration": 6,
    "start_time": "2023-11-03T16:07:42.402Z"
   },
   {
    "duration": 14,
    "start_time": "2023-11-03T16:07:42.409Z"
   },
   {
    "duration": 1276,
    "start_time": "2023-11-03T16:07:42.425Z"
   },
   {
    "duration": 22,
    "start_time": "2023-11-03T16:07:43.703Z"
   },
   {
    "duration": 27,
    "start_time": "2023-11-03T16:07:43.726Z"
   },
   {
    "duration": 52,
    "start_time": "2023-11-03T16:07:43.756Z"
   },
   {
    "duration": 101,
    "start_time": "2023-11-03T16:07:43.810Z"
   },
   {
    "duration": 485,
    "start_time": "2023-11-03T16:07:43.913Z"
   },
   {
    "duration": 1580,
    "start_time": "2023-11-03T16:07:44.402Z"
   },
   {
    "duration": 2560,
    "start_time": "2023-11-03T16:07:45.984Z"
   },
   {
    "duration": 18933,
    "start_time": "2023-11-03T16:07:48.547Z"
   },
   {
    "duration": 3794,
    "start_time": "2023-11-03T16:08:07.482Z"
   },
   {
    "duration": 1384,
    "start_time": "2023-11-03T16:08:11.278Z"
   },
   {
    "duration": 1707,
    "start_time": "2023-11-03T16:08:12.663Z"
   },
   {
    "duration": 36,
    "start_time": "2023-11-03T16:08:14.372Z"
   },
   {
    "duration": 4,
    "start_time": "2023-11-03T16:08:14.410Z"
   },
   {
    "duration": 453,
    "start_time": "2023-11-03T16:08:14.416Z"
   },
   {
    "duration": 51,
    "start_time": "2023-11-03T16:08:14.871Z"
   },
   {
    "duration": 2122,
    "start_time": "2023-11-03T16:08:14.924Z"
   },
   {
    "duration": 120,
    "start_time": "2023-11-03T16:08:27.238Z"
   },
   {
    "duration": 2628,
    "start_time": "2023-11-03T16:08:53.557Z"
   },
   {
    "duration": 3826,
    "start_time": "2023-11-03T16:09:43.282Z"
   },
   {
    "duration": 1568,
    "start_time": "2023-11-03T16:10:36.962Z"
   },
   {
    "duration": 1584,
    "start_time": "2023-11-03T16:15:03.863Z"
   },
   {
    "duration": 1776,
    "start_time": "2023-11-03T16:15:11.211Z"
   },
   {
    "duration": 1524,
    "start_time": "2023-11-03T16:15:16.913Z"
   },
   {
    "duration": 1431,
    "start_time": "2023-11-03T16:15:34.943Z"
   },
   {
    "duration": 614,
    "start_time": "2023-11-03T16:15:49.350Z"
   },
   {
    "duration": 14,
    "start_time": "2023-11-03T16:16:00.930Z"
   },
   {
    "duration": 523,
    "start_time": "2023-11-03T16:16:14.135Z"
   },
   {
    "duration": 14,
    "start_time": "2023-11-03T16:16:19.339Z"
   },
   {
    "duration": 1093,
    "start_time": "2023-11-03T16:16:36.193Z"
   },
   {
    "duration": 1533,
    "start_time": "2023-11-03T16:16:45.055Z"
   },
   {
    "duration": 47,
    "start_time": "2023-11-22T08:13:49.771Z"
   },
   {
    "duration": 7279,
    "start_time": "2023-11-22T08:14:00.206Z"
   },
   {
    "duration": 1522,
    "start_time": "2023-11-22T08:14:07.488Z"
   },
   {
    "duration": 1040,
    "start_time": "2023-11-22T08:14:09.012Z"
   },
   {
    "duration": 42,
    "start_time": "2023-11-22T08:14:10.054Z"
   },
   {
    "duration": 62,
    "start_time": "2023-11-22T08:14:10.117Z"
   },
   {
    "duration": 13,
    "start_time": "2023-11-22T08:14:10.181Z"
   },
   {
    "duration": 44,
    "start_time": "2023-11-22T08:14:10.196Z"
   },
   {
    "duration": 9,
    "start_time": "2023-11-22T08:14:10.242Z"
   },
   {
    "duration": 43,
    "start_time": "2023-11-22T08:14:10.253Z"
   },
   {
    "duration": 307,
    "start_time": "2023-11-22T08:14:10.298Z"
   },
   {
    "duration": 39,
    "start_time": "2023-11-22T08:14:10.607Z"
   },
   {
    "duration": 5,
    "start_time": "2023-11-22T08:14:10.648Z"
   },
   {
    "duration": 7,
    "start_time": "2023-11-22T08:14:10.655Z"
   },
   {
    "duration": 310,
    "start_time": "2023-11-22T08:14:10.665Z"
   },
   {
    "duration": 21,
    "start_time": "2023-11-22T08:14:10.976Z"
   },
   {
    "duration": 360,
    "start_time": "2023-11-22T08:14:10.999Z"
   },
   {
    "duration": 298,
    "start_time": "2023-11-22T08:14:11.361Z"
   },
   {
    "duration": 19,
    "start_time": "2023-11-22T08:14:11.661Z"
   },
   {
    "duration": 309,
    "start_time": "2023-11-22T08:14:11.682Z"
   },
   {
    "duration": 293,
    "start_time": "2023-11-22T08:14:11.993Z"
   },
   {
    "duration": 19,
    "start_time": "2023-11-22T08:14:12.287Z"
   },
   {
    "duration": 21,
    "start_time": "2023-11-22T08:14:12.307Z"
   },
   {
    "duration": 74,
    "start_time": "2023-11-22T08:14:12.330Z"
   },
   {
    "duration": 72,
    "start_time": "2023-11-22T08:14:12.405Z"
   },
   {
    "duration": 6853,
    "start_time": "2023-11-22T08:14:12.478Z"
   },
   {
    "duration": 4286,
    "start_time": "2023-11-22T08:14:19.335Z"
   },
   {
    "duration": 96,
    "start_time": "2023-11-22T08:14:23.623Z"
   },
   {
    "duration": 3499,
    "start_time": "2023-11-22T08:14:23.721Z"
   },
   {
    "duration": 98,
    "start_time": "2023-11-22T08:14:27.222Z"
   },
   {
    "duration": 8,
    "start_time": "2023-11-22T08:14:27.321Z"
   },
   {
    "duration": 1214,
    "start_time": "2023-11-22T08:14:27.330Z"
   },
   {
    "duration": 20,
    "start_time": "2023-11-22T08:14:28.545Z"
   },
   {
    "duration": 33,
    "start_time": "2023-11-22T08:14:28.567Z"
   },
   {
    "duration": 34,
    "start_time": "2023-11-22T08:14:28.601Z"
   },
   {
    "duration": 8,
    "start_time": "2023-11-22T08:14:28.636Z"
   },
   {
    "duration": 417,
    "start_time": "2023-11-22T08:14:28.646Z"
   },
   {
    "duration": 6,
    "start_time": "2023-11-22T08:14:29.066Z"
   },
   {
    "duration": 1364,
    "start_time": "2023-11-22T08:14:29.073Z"
   },
   {
    "duration": 2326,
    "start_time": "2023-11-22T08:14:30.439Z"
   },
   {
    "duration": 18131,
    "start_time": "2023-11-22T08:14:32.767Z"
   },
   {
    "duration": 3653,
    "start_time": "2023-11-22T08:14:50.901Z"
   },
   {
    "duration": 1351,
    "start_time": "2023-11-22T08:14:54.556Z"
   },
   {
    "duration": 28,
    "start_time": "2023-11-22T08:14:55.909Z"
   },
   {
    "duration": 4,
    "start_time": "2023-11-22T08:14:55.938Z"
   },
   {
    "duration": 382,
    "start_time": "2023-11-22T08:14:55.943Z"
   },
   {
    "duration": 41,
    "start_time": "2023-11-22T08:14:56.326Z"
   },
   {
    "duration": 2127,
    "start_time": "2023-11-22T08:14:56.369Z"
   }
  ],
  "kernelspec": {
   "display_name": "Python 3 (ipykernel)",
   "language": "python",
   "name": "python3"
  },
  "language_info": {
   "codemirror_mode": {
    "name": "ipython",
    "version": 3
   },
   "file_extension": ".py",
   "mimetype": "text/x-python",
   "name": "python",
   "nbconvert_exporter": "python",
   "pygments_lexer": "ipython3",
   "version": "3.9.5"
  },
  "toc": {
   "base_numbering": 1,
   "nav_menu": {},
   "number_sections": true,
   "sideBar": true,
   "skip_h1_title": true,
   "title_cell": "Table of Contents",
   "title_sidebar": "Contents",
   "toc_cell": false,
   "toc_position": {
    "height": "calc(100% - 180px)",
    "left": "10px",
    "top": "150px",
    "width": "294.388px"
   },
   "toc_section_display": true,
   "toc_window_display": true
  }
 },
 "nbformat": 4,
 "nbformat_minor": 2
}
