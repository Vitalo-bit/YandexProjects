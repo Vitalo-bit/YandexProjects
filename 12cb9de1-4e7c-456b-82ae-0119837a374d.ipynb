{
 "cells": [
  {
   "cell_type": "markdown",
   "metadata": {},
   "source": [
    "Привет! Меня зовут Исмаил, я буду проверять твой проект :) Можешь обращаться ко мне на «ты». Если тебе комфортно, то и я буду к тебе так обращаться, если нет, то обязательно скажи об этом.\n",
    "\n",
    "Пожалуйста, не удаляй мои комментарии, которые я буду оставлять в работе. Это особенно поможет, если твои проекты будут отправлены на повторную проверку. При повторных проверках у комментариев будут приписки: \"Вторая итерация\", \"Третья итерация\" и т.д. \n",
    "\n",
    "Ты тоже можешь реагировать на мои комментарии, но в таком случае постарайся, чтобы твои комментарии отличались от моих: например, выделяй их своим любимым цветом — так у нас не возникнет путаницы :)\n",
    "\n",
    "Кстати, про цвета! Мои комментарии будут в следующей цветовой гамме: зелеными, желтыми и красными. Например:\n",
    "\n",
    "<div class=\"alert-success\"> \n",
    "<b>Комментарий ревьюера 👍 </b>\n",
    "    \n",
    "В случае, если решение на отдельном шаге является полностью правильным. </div>\n",
    "\n",
    "<div class=\"alert-warning\"> \n",
    "<b>Комментарий ревьюера 💡</b> \n",
    "    \n",
    "В случае, если решение может стать еще лучше с некоторыми корректировками </div>\n",
    " \n",
    "<div class=\"alert-danger\"> \n",
    "<b>Комментарий ревьюера ❌</b> \n",
    "    \n",
    "В случае, если решение какого-то шага требует значительных изменений. Проект не может быть принят с первого раза, если ревью содержит комментарии, помеченные этим цветом </div>"
   ]
  },
  {
   "cell_type": "markdown",
   "metadata": {},
   "source": [
    "# Рекомендация тарифов"
   ]
  },
  {
   "cell_type": "markdown",
   "metadata": {},
   "source": [
    "В вашем распоряжении данные о поведении клиентов, которые уже перешли на эти тарифы (из проекта курса «Статистический анализ данных»). Нужно построить модель для задачи классификации, которая выберет подходящий тариф. Предобработка данных не понадобится — вы её уже сделали.\n",
    "\n",
    "Постройте модель с максимально большим значением *accuracy*. Чтобы сдать проект успешно, нужно довести долю правильных ответов по крайней мере до 0.75. Проверьте *accuracy* на тестовой выборке самостоятельно."
   ]
  },
  {
   "cell_type": "markdown",
   "metadata": {},
   "source": [
    "# Проект на тему: изучение поведения клиентов \"Мегалайн\"\n",
    "\n",
    "В проекте я буду работать со следующими данными:\n",
    "\n",
    "сalls — количество звонков,\n",
    "\n",
    "minutes — суммарная длительность звонков в минутах,\n",
    "\n",
    "messages — количество sms-сообщений,\n",
    "\n",
    "mb_used — израсходованный интернет-трафик в Мб,\n",
    "\n",
    "is_ultra — каким тарифом пользовался в течение месяца («Ультра» — 1, «Смарт» — 0).\n",
    "\n",
    "Работать буду следующим образом:\n",
    "\n",
    "1) открою файл и изучу его\n",
    "\n",
    "2) разделю исходные данные на обучающую, валидационную и тестовую выборки\n",
    "\n",
    "3) исследую качество разных моделей, меняя гиперпараметры\n",
    "\n",
    "4) проверю качество модели на тестовой выборке\n",
    "\n",
    "Приступим!"
   ]
  },
  {
   "cell_type": "code",
   "execution_count": 1,
   "metadata": {},
   "outputs": [],
   "source": [
    "import pandas as pd\n",
    "from sklearn.tree import DecisionTreeClassifier\n",
    "from sklearn.ensemble import RandomForestClassifier\n",
    "from sklearn.linear_model import LogisticRegression\n",
    "from sklearn.model_selection import train_test_split\n",
    "from sklearn.metrics import accuracy_score\n",
    "from sklearn.metrics import mean_squared_error"
   ]
  },
  {
   "cell_type": "markdown",
   "metadata": {},
   "source": [
    "## Откройте и изучите файл"
   ]
  },
  {
   "cell_type": "code",
   "execution_count": 2,
   "metadata": {
    "scrolled": true
   },
   "outputs": [
    {
     "data": {
      "text/html": [
       "<div>\n",
       "<style scoped>\n",
       "    .dataframe tbody tr th:only-of-type {\n",
       "        vertical-align: middle;\n",
       "    }\n",
       "\n",
       "    .dataframe tbody tr th {\n",
       "        vertical-align: top;\n",
       "    }\n",
       "\n",
       "    .dataframe thead th {\n",
       "        text-align: right;\n",
       "    }\n",
       "</style>\n",
       "<table border=\"1\" class=\"dataframe\">\n",
       "  <thead>\n",
       "    <tr style=\"text-align: right;\">\n",
       "      <th></th>\n",
       "      <th>calls</th>\n",
       "      <th>minutes</th>\n",
       "      <th>messages</th>\n",
       "      <th>mb_used</th>\n",
       "      <th>is_ultra</th>\n",
       "    </tr>\n",
       "  </thead>\n",
       "  <tbody>\n",
       "    <tr>\n",
       "      <th>0</th>\n",
       "      <td>40.0</td>\n",
       "      <td>311.90</td>\n",
       "      <td>83.0</td>\n",
       "      <td>19915.42</td>\n",
       "      <td>0</td>\n",
       "    </tr>\n",
       "    <tr>\n",
       "      <th>1</th>\n",
       "      <td>85.0</td>\n",
       "      <td>516.75</td>\n",
       "      <td>56.0</td>\n",
       "      <td>22696.96</td>\n",
       "      <td>0</td>\n",
       "    </tr>\n",
       "    <tr>\n",
       "      <th>2</th>\n",
       "      <td>77.0</td>\n",
       "      <td>467.66</td>\n",
       "      <td>86.0</td>\n",
       "      <td>21060.45</td>\n",
       "      <td>0</td>\n",
       "    </tr>\n",
       "    <tr>\n",
       "      <th>3</th>\n",
       "      <td>106.0</td>\n",
       "      <td>745.53</td>\n",
       "      <td>81.0</td>\n",
       "      <td>8437.39</td>\n",
       "      <td>1</td>\n",
       "    </tr>\n",
       "    <tr>\n",
       "      <th>4</th>\n",
       "      <td>66.0</td>\n",
       "      <td>418.74</td>\n",
       "      <td>1.0</td>\n",
       "      <td>14502.75</td>\n",
       "      <td>0</td>\n",
       "    </tr>\n",
       "    <tr>\n",
       "      <th>...</th>\n",
       "      <td>...</td>\n",
       "      <td>...</td>\n",
       "      <td>...</td>\n",
       "      <td>...</td>\n",
       "      <td>...</td>\n",
       "    </tr>\n",
       "    <tr>\n",
       "      <th>3209</th>\n",
       "      <td>122.0</td>\n",
       "      <td>910.98</td>\n",
       "      <td>20.0</td>\n",
       "      <td>35124.90</td>\n",
       "      <td>1</td>\n",
       "    </tr>\n",
       "    <tr>\n",
       "      <th>3210</th>\n",
       "      <td>25.0</td>\n",
       "      <td>190.36</td>\n",
       "      <td>0.0</td>\n",
       "      <td>3275.61</td>\n",
       "      <td>0</td>\n",
       "    </tr>\n",
       "    <tr>\n",
       "      <th>3211</th>\n",
       "      <td>97.0</td>\n",
       "      <td>634.44</td>\n",
       "      <td>70.0</td>\n",
       "      <td>13974.06</td>\n",
       "      <td>0</td>\n",
       "    </tr>\n",
       "    <tr>\n",
       "      <th>3212</th>\n",
       "      <td>64.0</td>\n",
       "      <td>462.32</td>\n",
       "      <td>90.0</td>\n",
       "      <td>31239.78</td>\n",
       "      <td>0</td>\n",
       "    </tr>\n",
       "    <tr>\n",
       "      <th>3213</th>\n",
       "      <td>80.0</td>\n",
       "      <td>566.09</td>\n",
       "      <td>6.0</td>\n",
       "      <td>29480.52</td>\n",
       "      <td>1</td>\n",
       "    </tr>\n",
       "  </tbody>\n",
       "</table>\n",
       "<p>3214 rows × 5 columns</p>\n",
       "</div>"
      ],
      "text/plain": [
       "      calls  minutes  messages   mb_used  is_ultra\n",
       "0      40.0   311.90      83.0  19915.42         0\n",
       "1      85.0   516.75      56.0  22696.96         0\n",
       "2      77.0   467.66      86.0  21060.45         0\n",
       "3     106.0   745.53      81.0   8437.39         1\n",
       "4      66.0   418.74       1.0  14502.75         0\n",
       "...     ...      ...       ...       ...       ...\n",
       "3209  122.0   910.98      20.0  35124.90         1\n",
       "3210   25.0   190.36       0.0   3275.61         0\n",
       "3211   97.0   634.44      70.0  13974.06         0\n",
       "3212   64.0   462.32      90.0  31239.78         0\n",
       "3213   80.0   566.09       6.0  29480.52         1\n",
       "\n",
       "[3214 rows x 5 columns]"
      ]
     },
     "metadata": {},
     "output_type": "display_data"
    },
    {
     "name": "stdout",
     "output_type": "stream",
     "text": [
      "<class 'pandas.core.frame.DataFrame'>\n",
      "RangeIndex: 3214 entries, 0 to 3213\n",
      "Data columns (total 5 columns):\n",
      " #   Column    Non-Null Count  Dtype  \n",
      "---  ------    --------------  -----  \n",
      " 0   calls     3214 non-null   float64\n",
      " 1   minutes   3214 non-null   float64\n",
      " 2   messages  3214 non-null   float64\n",
      " 3   mb_used   3214 non-null   float64\n",
      " 4   is_ultra  3214 non-null   int64  \n",
      "dtypes: float64(4), int64(1)\n",
      "memory usage: 125.7 KB\n"
     ]
    }
   ],
   "source": [
    "df = pd.read_csv('/datasets/users_behavior.csv')\n",
    "display(df)\n",
    "df.info()"
   ]
  },
  {
   "cell_type": "markdown",
   "metadata": {},
   "source": [
    "Как и указано в описании проекта, при первичном осмотре файла каких-либо неожиданностей не обнаружено. Продолжим работу без предобработки."
   ]
  },
  {
   "cell_type": "markdown",
   "metadata": {},
   "source": [
    "<div class=\"alert-success\"> \n",
    "<b>Комментарий ревьюера 👍</b>\n",
    "\n",
    "Хороший первичный анализ данных"
   ]
  },
  {
   "cell_type": "markdown",
   "metadata": {},
   "source": [
    "## Разбейте данные на выборки"
   ]
  },
  {
   "cell_type": "code",
   "execution_count": 3,
   "metadata": {
    "scrolled": true
   },
   "outputs": [
    {
     "name": "stdout",
     "output_type": "stream",
     "text": [
      "0.2000622277535781\n",
      "0.2000622277535781\n",
      "0.7999377722464219\n"
     ]
    },
    {
     "data": {
      "text/html": [
       "<div>\n",
       "<style scoped>\n",
       "    .dataframe tbody tr th:only-of-type {\n",
       "        vertical-align: middle;\n",
       "    }\n",
       "\n",
       "    .dataframe tbody tr th {\n",
       "        vertical-align: top;\n",
       "    }\n",
       "\n",
       "    .dataframe thead th {\n",
       "        text-align: right;\n",
       "    }\n",
       "</style>\n",
       "<table border=\"1\" class=\"dataframe\">\n",
       "  <thead>\n",
       "    <tr style=\"text-align: right;\">\n",
       "      <th></th>\n",
       "      <th>calls</th>\n",
       "      <th>minutes</th>\n",
       "      <th>messages</th>\n",
       "      <th>mb_used</th>\n",
       "    </tr>\n",
       "  </thead>\n",
       "  <tbody>\n",
       "    <tr>\n",
       "      <th>1415</th>\n",
       "      <td>82.0</td>\n",
       "      <td>507.89</td>\n",
       "      <td>88.0</td>\n",
       "      <td>17543.37</td>\n",
       "    </tr>\n",
       "    <tr>\n",
       "      <th>916</th>\n",
       "      <td>50.0</td>\n",
       "      <td>375.91</td>\n",
       "      <td>35.0</td>\n",
       "      <td>12388.40</td>\n",
       "    </tr>\n",
       "    <tr>\n",
       "      <th>1670</th>\n",
       "      <td>83.0</td>\n",
       "      <td>540.49</td>\n",
       "      <td>41.0</td>\n",
       "      <td>9127.74</td>\n",
       "    </tr>\n",
       "    <tr>\n",
       "      <th>686</th>\n",
       "      <td>79.0</td>\n",
       "      <td>562.99</td>\n",
       "      <td>19.0</td>\n",
       "      <td>25508.19</td>\n",
       "    </tr>\n",
       "    <tr>\n",
       "      <th>2951</th>\n",
       "      <td>78.0</td>\n",
       "      <td>531.29</td>\n",
       "      <td>20.0</td>\n",
       "      <td>9217.25</td>\n",
       "    </tr>\n",
       "    <tr>\n",
       "      <th>...</th>\n",
       "      <td>...</td>\n",
       "      <td>...</td>\n",
       "      <td>...</td>\n",
       "      <td>...</td>\n",
       "    </tr>\n",
       "    <tr>\n",
       "      <th>2061</th>\n",
       "      <td>66.0</td>\n",
       "      <td>478.48</td>\n",
       "      <td>0.0</td>\n",
       "      <td>16962.58</td>\n",
       "    </tr>\n",
       "    <tr>\n",
       "      <th>1510</th>\n",
       "      <td>40.0</td>\n",
       "      <td>334.24</td>\n",
       "      <td>91.0</td>\n",
       "      <td>11304.14</td>\n",
       "    </tr>\n",
       "    <tr>\n",
       "      <th>2215</th>\n",
       "      <td>62.0</td>\n",
       "      <td>436.68</td>\n",
       "      <td>52.0</td>\n",
       "      <td>12311.24</td>\n",
       "    </tr>\n",
       "    <tr>\n",
       "      <th>664</th>\n",
       "      <td>117.0</td>\n",
       "      <td>739.27</td>\n",
       "      <td>124.0</td>\n",
       "      <td>22818.56</td>\n",
       "    </tr>\n",
       "    <tr>\n",
       "      <th>1196</th>\n",
       "      <td>66.0</td>\n",
       "      <td>461.84</td>\n",
       "      <td>85.0</td>\n",
       "      <td>14264.14</td>\n",
       "    </tr>\n",
       "  </tbody>\n",
       "</table>\n",
       "<p>643 rows × 4 columns</p>\n",
       "</div>"
      ],
      "text/plain": [
       "      calls  minutes  messages   mb_used\n",
       "1415   82.0   507.89      88.0  17543.37\n",
       "916    50.0   375.91      35.0  12388.40\n",
       "1670   83.0   540.49      41.0   9127.74\n",
       "686    79.0   562.99      19.0  25508.19\n",
       "2951   78.0   531.29      20.0   9217.25\n",
       "...     ...      ...       ...       ...\n",
       "2061   66.0   478.48       0.0  16962.58\n",
       "1510   40.0   334.24      91.0  11304.14\n",
       "2215   62.0   436.68      52.0  12311.24\n",
       "664   117.0   739.27     124.0  22818.56\n",
       "1196   66.0   461.84      85.0  14264.14\n",
       "\n",
       "[643 rows x 4 columns]"
      ]
     },
     "metadata": {},
     "output_type": "display_data"
    },
    {
     "data": {
      "text/html": [
       "<div>\n",
       "<style scoped>\n",
       "    .dataframe tbody tr th:only-of-type {\n",
       "        vertical-align: middle;\n",
       "    }\n",
       "\n",
       "    .dataframe tbody tr th {\n",
       "        vertical-align: top;\n",
       "    }\n",
       "\n",
       "    .dataframe thead th {\n",
       "        text-align: right;\n",
       "    }\n",
       "</style>\n",
       "<table border=\"1\" class=\"dataframe\">\n",
       "  <thead>\n",
       "    <tr style=\"text-align: right;\">\n",
       "      <th></th>\n",
       "      <th>calls</th>\n",
       "      <th>minutes</th>\n",
       "      <th>messages</th>\n",
       "      <th>mb_used</th>\n",
       "    </tr>\n",
       "  </thead>\n",
       "  <tbody>\n",
       "    <tr>\n",
       "      <th>1415</th>\n",
       "      <td>82.0</td>\n",
       "      <td>507.89</td>\n",
       "      <td>88.0</td>\n",
       "      <td>17543.37</td>\n",
       "    </tr>\n",
       "    <tr>\n",
       "      <th>916</th>\n",
       "      <td>50.0</td>\n",
       "      <td>375.91</td>\n",
       "      <td>35.0</td>\n",
       "      <td>12388.40</td>\n",
       "    </tr>\n",
       "    <tr>\n",
       "      <th>1670</th>\n",
       "      <td>83.0</td>\n",
       "      <td>540.49</td>\n",
       "      <td>41.0</td>\n",
       "      <td>9127.74</td>\n",
       "    </tr>\n",
       "    <tr>\n",
       "      <th>686</th>\n",
       "      <td>79.0</td>\n",
       "      <td>562.99</td>\n",
       "      <td>19.0</td>\n",
       "      <td>25508.19</td>\n",
       "    </tr>\n",
       "    <tr>\n",
       "      <th>2951</th>\n",
       "      <td>78.0</td>\n",
       "      <td>531.29</td>\n",
       "      <td>20.0</td>\n",
       "      <td>9217.25</td>\n",
       "    </tr>\n",
       "    <tr>\n",
       "      <th>...</th>\n",
       "      <td>...</td>\n",
       "      <td>...</td>\n",
       "      <td>...</td>\n",
       "      <td>...</td>\n",
       "    </tr>\n",
       "    <tr>\n",
       "      <th>2061</th>\n",
       "      <td>66.0</td>\n",
       "      <td>478.48</td>\n",
       "      <td>0.0</td>\n",
       "      <td>16962.58</td>\n",
       "    </tr>\n",
       "    <tr>\n",
       "      <th>1510</th>\n",
       "      <td>40.0</td>\n",
       "      <td>334.24</td>\n",
       "      <td>91.0</td>\n",
       "      <td>11304.14</td>\n",
       "    </tr>\n",
       "    <tr>\n",
       "      <th>2215</th>\n",
       "      <td>62.0</td>\n",
       "      <td>436.68</td>\n",
       "      <td>52.0</td>\n",
       "      <td>12311.24</td>\n",
       "    </tr>\n",
       "    <tr>\n",
       "      <th>664</th>\n",
       "      <td>117.0</td>\n",
       "      <td>739.27</td>\n",
       "      <td>124.0</td>\n",
       "      <td>22818.56</td>\n",
       "    </tr>\n",
       "    <tr>\n",
       "      <th>1196</th>\n",
       "      <td>66.0</td>\n",
       "      <td>461.84</td>\n",
       "      <td>85.0</td>\n",
       "      <td>14264.14</td>\n",
       "    </tr>\n",
       "  </tbody>\n",
       "</table>\n",
       "<p>643 rows × 4 columns</p>\n",
       "</div>"
      ],
      "text/plain": [
       "      calls  minutes  messages   mb_used\n",
       "1415   82.0   507.89      88.0  17543.37\n",
       "916    50.0   375.91      35.0  12388.40\n",
       "1670   83.0   540.49      41.0   9127.74\n",
       "686    79.0   562.99      19.0  25508.19\n",
       "2951   78.0   531.29      20.0   9217.25\n",
       "...     ...      ...       ...       ...\n",
       "2061   66.0   478.48       0.0  16962.58\n",
       "1510   40.0   334.24      91.0  11304.14\n",
       "2215   62.0   436.68      52.0  12311.24\n",
       "664   117.0   739.27     124.0  22818.56\n",
       "1196   66.0   461.84      85.0  14264.14\n",
       "\n",
       "[643 rows x 4 columns]"
      ]
     },
     "metadata": {},
     "output_type": "display_data"
    },
    {
     "data": {
      "text/html": [
       "<div>\n",
       "<style scoped>\n",
       "    .dataframe tbody tr th:only-of-type {\n",
       "        vertical-align: middle;\n",
       "    }\n",
       "\n",
       "    .dataframe tbody tr th {\n",
       "        vertical-align: top;\n",
       "    }\n",
       "\n",
       "    .dataframe thead th {\n",
       "        text-align: right;\n",
       "    }\n",
       "</style>\n",
       "<table border=\"1\" class=\"dataframe\">\n",
       "  <thead>\n",
       "    <tr style=\"text-align: right;\">\n",
       "      <th></th>\n",
       "      <th>calls</th>\n",
       "      <th>minutes</th>\n",
       "      <th>messages</th>\n",
       "      <th>mb_used</th>\n",
       "    </tr>\n",
       "  </thead>\n",
       "  <tbody>\n",
       "    <tr>\n",
       "      <th>348</th>\n",
       "      <td>77.0</td>\n",
       "      <td>522.65</td>\n",
       "      <td>14.0</td>\n",
       "      <td>19462.45</td>\n",
       "    </tr>\n",
       "    <tr>\n",
       "      <th>1172</th>\n",
       "      <td>144.0</td>\n",
       "      <td>1031.79</td>\n",
       "      <td>99.0</td>\n",
       "      <td>40174.34</td>\n",
       "    </tr>\n",
       "    <tr>\n",
       "      <th>2315</th>\n",
       "      <td>48.0</td>\n",
       "      <td>341.65</td>\n",
       "      <td>0.0</td>\n",
       "      <td>19000.02</td>\n",
       "    </tr>\n",
       "    <tr>\n",
       "      <th>954</th>\n",
       "      <td>52.0</td>\n",
       "      <td>383.90</td>\n",
       "      <td>40.0</td>\n",
       "      <td>24574.82</td>\n",
       "    </tr>\n",
       "    <tr>\n",
       "      <th>2918</th>\n",
       "      <td>77.0</td>\n",
       "      <td>445.00</td>\n",
       "      <td>100.0</td>\n",
       "      <td>10518.28</td>\n",
       "    </tr>\n",
       "    <tr>\n",
       "      <th>...</th>\n",
       "      <td>...</td>\n",
       "      <td>...</td>\n",
       "      <td>...</td>\n",
       "      <td>...</td>\n",
       "    </tr>\n",
       "    <tr>\n",
       "      <th>2817</th>\n",
       "      <td>12.0</td>\n",
       "      <td>86.62</td>\n",
       "      <td>22.0</td>\n",
       "      <td>36628.85</td>\n",
       "    </tr>\n",
       "    <tr>\n",
       "      <th>546</th>\n",
       "      <td>65.0</td>\n",
       "      <td>458.46</td>\n",
       "      <td>0.0</td>\n",
       "      <td>15214.25</td>\n",
       "    </tr>\n",
       "    <tr>\n",
       "      <th>382</th>\n",
       "      <td>144.0</td>\n",
       "      <td>906.18</td>\n",
       "      <td>0.0</td>\n",
       "      <td>25002.44</td>\n",
       "    </tr>\n",
       "    <tr>\n",
       "      <th>2177</th>\n",
       "      <td>38.0</td>\n",
       "      <td>301.27</td>\n",
       "      <td>37.0</td>\n",
       "      <td>28914.24</td>\n",
       "    </tr>\n",
       "    <tr>\n",
       "      <th>482</th>\n",
       "      <td>160.0</td>\n",
       "      <td>1084.05</td>\n",
       "      <td>95.0</td>\n",
       "      <td>36843.92</td>\n",
       "    </tr>\n",
       "  </tbody>\n",
       "</table>\n",
       "<p>2571 rows × 4 columns</p>\n",
       "</div>"
      ],
      "text/plain": [
       "      calls  minutes  messages   mb_used\n",
       "348    77.0   522.65      14.0  19462.45\n",
       "1172  144.0  1031.79      99.0  40174.34\n",
       "2315   48.0   341.65       0.0  19000.02\n",
       "954    52.0   383.90      40.0  24574.82\n",
       "2918   77.0   445.00     100.0  10518.28\n",
       "...     ...      ...       ...       ...\n",
       "2817   12.0    86.62      22.0  36628.85\n",
       "546    65.0   458.46       0.0  15214.25\n",
       "382   144.0   906.18       0.0  25002.44\n",
       "2177   38.0   301.27      37.0  28914.24\n",
       "482   160.0  1084.05      95.0  36843.92\n",
       "\n",
       "[2571 rows x 4 columns]"
      ]
     },
     "metadata": {},
     "output_type": "display_data"
    }
   ],
   "source": [
    "features = df.drop(['is_ultra'], axis=1)\n",
    "target = df['is_ultra']\n",
    "features_train, features_valid, target_train, target_valid = train_test_split(features, target, test_size=0.2, random_state=12345) \n",
    "features_train, features_test, target_train, target_test = train_test_split(features, target, test_size=0.2, random_state=12345)\n",
    "print(len(features_test) / len(features))\n",
    "print(len(features_valid) / len(features))\n",
    "print(len(features_train) / len(features))\n",
    "display(features_test)\n",
    "display(features_valid)\n",
    "display(features_train)"
   ]
  },
  {
   "cell_type": "markdown",
   "metadata": {},
   "source": [
    "Из урока о валидационной выборке разбиваю датафрейм на 3 части в отношении 3:1:1. Проверка на правильность разделения пройдена. "
   ]
  },
  {
   "cell_type": "markdown",
   "metadata": {},
   "source": [
    "<div class=\"alert-success\"> \n",
    "<b>Комментарий ревьюера 👍</b>\n",
    "\n",
    "Выборки разделены верно, здорово, что проверены их размеры"
   ]
  },
  {
   "cell_type": "markdown",
   "metadata": {},
   "source": [
    "## Исследуйте модели"
   ]
  },
  {
   "cell_type": "markdown",
   "metadata": {},
   "source": [
    "Рассмотрим модель DecisionTreeClassifier.\n",
    "\n",
    "Проверим гиперпараметр max_depth перебором."
   ]
  },
  {
   "cell_type": "code",
   "execution_count": 4,
   "metadata": {
    "scrolled": false
   },
   "outputs": [
    {
     "name": "stdout",
     "output_type": "stream",
     "text": [
      "max_depth = 1 : 0.7480559875583204\n",
      "max_depth = 2 : 0.7807153965785381\n",
      "max_depth = 3 : 0.7838258164852255\n",
      "max_depth = 4 : 0.7791601866251944\n",
      "max_depth = 5 : 0.7853810264385692\n",
      "max_depth = 6 : 0.7822706065318819\n",
      "max_depth = 7 : 0.7791601866251944\n",
      "max_depth = 8 : 0.7729393468118196\n",
      "max_depth = 9 : 0.7791601866251944\n"
     ]
    }
   ],
   "source": [
    "for depth in range(1, 10):\n",
    "    model = model = DecisionTreeClassifier(random_state=12345, max_depth=depth)\n",
    "\n",
    "    model.fit(features_train, target_train)\n",
    "    predictions_valid = model.predict(features_valid)\n",
    "\n",
    "    print(\"max_depth =\", depth, \": \", end='')\n",
    "    print(accuracy_score(target_valid, predictions_valid))"
   ]
  },
  {
   "cell_type": "markdown",
   "metadata": {},
   "source": [
    "Видно, что лучший результат был достигнут при гиперпараметре max_depth равном 5.\n",
    "\n",
    "Проверим гиперпараметр min_samples_leaf тоже перебором."
   ]
  },
  {
   "cell_type": "code",
   "execution_count": 5,
   "metadata": {
    "scrolled": true
   },
   "outputs": [
    {
     "name": "stdout",
     "output_type": "stream",
     "text": [
      "min_samples_leaf = 1 : 0.7853810264385692\n",
      "min_samples_leaf = 2 : 0.7822706065318819\n",
      "min_samples_leaf = 3 : 0.7822706065318819\n",
      "min_samples_leaf = 4 : 0.7822706065318819\n",
      "min_samples_leaf = 5 : 0.7838258164852255\n",
      "min_samples_leaf = 6 : 0.7947122861586314\n",
      "min_samples_leaf = 7 : 0.7947122861586314\n",
      "min_samples_leaf = 8 : 0.7947122861586314\n",
      "min_samples_leaf = 9 : 0.7900466562986003\n",
      "min_samples_leaf = 10 : 0.7900466562986003\n",
      "min_samples_leaf = 11 : 0.7916018662519441\n",
      "min_samples_leaf = 12 : 0.7916018662519441\n",
      "min_samples_leaf = 13 : 0.7916018662519441\n",
      "min_samples_leaf = 14 : 0.7916018662519441\n",
      "min_samples_leaf = 15 : 0.7916018662519441\n",
      "min_samples_leaf = 16 : 0.7916018662519441\n",
      "min_samples_leaf = 17 : 0.7916018662519441\n",
      "min_samples_leaf = 18 : 0.7916018662519441\n",
      "min_samples_leaf = 19 : 0.7916018662519441\n",
      "min_samples_leaf = 20 : 0.7916018662519441\n",
      "min_samples_leaf = 21 : 0.7916018662519441\n",
      "min_samples_leaf = 22 : 0.7916018662519441\n",
      "min_samples_leaf = 23 : 0.7916018662519441\n",
      "min_samples_leaf = 24 : 0.7916018662519441\n",
      "min_samples_leaf = 25 : 0.7916018662519441\n",
      "min_samples_leaf = 26 : 0.7916018662519441\n",
      "min_samples_leaf = 27 : 0.7900466562986003\n",
      "min_samples_leaf = 28 : 0.7916018662519441\n",
      "min_samples_leaf = 29 : 0.7884914463452566\n",
      "min_samples_leaf = 30 : 0.7869362363919129\n",
      "min_samples_leaf = 31 : 0.7869362363919129\n",
      "min_samples_leaf = 32 : 0.7869362363919129\n",
      "min_samples_leaf = 33 : 0.7869362363919129\n",
      "min_samples_leaf = 34 : 0.776049766718507\n",
      "min_samples_leaf = 35 : 0.776049766718507\n",
      "min_samples_leaf = 36 : 0.776049766718507\n",
      "min_samples_leaf = 37 : 0.776049766718507\n",
      "min_samples_leaf = 38 : 0.776049766718507\n",
      "min_samples_leaf = 39 : 0.776049766718507\n",
      "min_samples_leaf = 40 : 0.776049766718507\n",
      "min_samples_leaf = 41 : 0.776049766718507\n",
      "min_samples_leaf = 42 : 0.776049766718507\n",
      "min_samples_leaf = 43 : 0.776049766718507\n",
      "min_samples_leaf = 44 : 0.7869362363919129\n",
      "min_samples_leaf = 45 : 0.7869362363919129\n",
      "min_samples_leaf = 46 : 0.7869362363919129\n",
      "min_samples_leaf = 47 : 0.7869362363919129\n",
      "min_samples_leaf = 48 : 0.7869362363919129\n",
      "min_samples_leaf = 49 : 0.7869362363919129\n",
      "min_samples_leaf = 50 : 0.7869362363919129\n",
      "min_samples_leaf = 51 : 0.7869362363919129\n",
      "min_samples_leaf = 52 : 0.7869362363919129\n",
      "min_samples_leaf = 53 : 0.7869362363919129\n",
      "min_samples_leaf = 54 : 0.7869362363919129\n",
      "min_samples_leaf = 55 : 0.7869362363919129\n",
      "min_samples_leaf = 56 : 0.7869362363919129\n",
      "min_samples_leaf = 57 : 0.7869362363919129\n",
      "min_samples_leaf = 58 : 0.7869362363919129\n",
      "min_samples_leaf = 59 : 0.7869362363919129\n",
      "min_samples_leaf = 60 : 0.7869362363919129\n",
      "min_samples_leaf = 61 : 0.7869362363919129\n",
      "min_samples_leaf = 62 : 0.7869362363919129\n",
      "min_samples_leaf = 63 : 0.7869362363919129\n",
      "min_samples_leaf = 64 : 0.7869362363919129\n",
      "min_samples_leaf = 65 : 0.7869362363919129\n",
      "min_samples_leaf = 66 : 0.7869362363919129\n",
      "min_samples_leaf = 67 : 0.7838258164852255\n",
      "min_samples_leaf = 68 : 0.7838258164852255\n",
      "min_samples_leaf = 69 : 0.7853810264385692\n",
      "min_samples_leaf = 70 : 0.7853810264385692\n",
      "min_samples_leaf = 71 : 0.7853810264385692\n",
      "min_samples_leaf = 72 : 0.7853810264385692\n",
      "min_samples_leaf = 73 : 0.7853810264385692\n",
      "min_samples_leaf = 74 : 0.7853810264385692\n",
      "min_samples_leaf = 75 : 0.7853810264385692\n",
      "min_samples_leaf = 76 : 0.7853810264385692\n",
      "min_samples_leaf = 77 : 0.7853810264385692\n",
      "min_samples_leaf = 78 : 0.7822706065318819\n",
      "min_samples_leaf = 79 : 0.7822706065318819\n",
      "min_samples_leaf = 80 : 0.7822706065318819\n",
      "min_samples_leaf = 81 : 0.7822706065318819\n",
      "min_samples_leaf = 82 : 0.7822706065318819\n",
      "min_samples_leaf = 83 : 0.7822706065318819\n",
      "min_samples_leaf = 84 : 0.7822706065318819\n",
      "min_samples_leaf = 85 : 0.7822706065318819\n",
      "min_samples_leaf = 86 : 0.7822706065318819\n",
      "min_samples_leaf = 87 : 0.7822706065318819\n",
      "min_samples_leaf = 88 : 0.7838258164852255\n",
      "min_samples_leaf = 89 : 0.7838258164852255\n",
      "min_samples_leaf = 90 : 0.7838258164852255\n",
      "min_samples_leaf = 91 : 0.7838258164852255\n",
      "min_samples_leaf = 92 : 0.7838258164852255\n",
      "min_samples_leaf = 93 : 0.7838258164852255\n",
      "min_samples_leaf = 94 : 0.7822706065318819\n",
      "min_samples_leaf = 95 : 0.7822706065318819\n",
      "min_samples_leaf = 96 : 0.7822706065318819\n",
      "min_samples_leaf = 97 : 0.7838258164852255\n",
      "min_samples_leaf = 98 : 0.7838258164852255\n",
      "min_samples_leaf = 99 : 0.7838258164852255\n"
     ]
    }
   ],
   "source": [
    "for samples in range(1, 100): \n",
    "    model = model = DecisionTreeClassifier(random_state=12345, max_depth=5, min_samples_leaf=samples)\n",
    "    model.fit(features_train, target_train)\n",
    "    predictions_valid = model.predict(features_valid)\n",
    "    print(\"min_samples_leaf =\", samples, \": \", end='')\n",
    "    print(accuracy_score(target_valid, predictions_valid))"
   ]
  },
  {
   "cell_type": "markdown",
   "metadata": {},
   "source": [
    "Лучший результат достигнут при значении min_samples_leaf равном 6-8. Пусть будет 6."
   ]
  },
  {
   "cell_type": "markdown",
   "metadata": {},
   "source": [
    "<div class=\"alert-warning\"> \n",
    "<b>Комментарий ревьюера 💡 </b>\n",
    "\n",
    "Есть перебор гиперпараметров, верный процесс обучения, но для этого нет смысла создавать новые ячейки, можно было это сделать в одной с помощью подциклов"
   ]
  },
  {
   "cell_type": "markdown",
   "metadata": {},
   "source": [
    "Посмотрю на модель RandomForestClassifier. При помощи вложенного цикла найду лучшую комбинацию для гиперпараметров max_depth и n_estimators."
   ]
  },
  {
   "cell_type": "code",
   "execution_count": 6,
   "metadata": {},
   "outputs": [
    {
     "name": "stdout",
     "output_type": "stream",
     "text": [
      "max_depth = 1 n_estimators =  1 : 0.7620528771384136\n",
      "max_depth = 2 n_estimators =  1 : 0.7869362363919129\n",
      "max_depth = 2 n_estimators =  4 : 0.7916018662519441\n",
      "max_depth = 3 n_estimators =  1 : 0.7931570762052877\n",
      "max_depth = 5 n_estimators =  4 : 0.7978227060653188\n",
      "max_depth = 6 n_estimators =  7 : 0.7993779160186625\n",
      "max_depth = 6 n_estimators =  8 : 0.8009331259720062\n",
      "max_depth = 7 n_estimators =  6 : 0.80248833592535\n",
      "max_depth = 7 n_estimators =  7 : 0.8087091757387247\n"
     ]
    }
   ],
   "source": [
    "max_score = -1\n",
    "for depth in range(1, 10):\n",
    "    for est in range(1, 10):\n",
    "        model = model = RandomForestClassifier(random_state=12345, max_depth=depth, n_estimators=est)\n",
    "\n",
    "        model.fit(features_train, target_train)\n",
    "        predictions_valid = model.predict(features_valid)\n",
    "        score = accuracy_score(target_valid, predictions_valid)\n",
    "        if score > max_score: \n",
    "            print(\"max_depth =\", depth, \"n_estimators = \", est, \": \", end='')\n",
    "            print(score)\n",
    "            max_score = score"
   ]
  },
  {
   "cell_type": "markdown",
   "metadata": {},
   "source": [
    "Результат показал, что стоит задать гиперпараметры таким образом: max_depth = 7 n_estimators =  7."
   ]
  },
  {
   "cell_type": "markdown",
   "metadata": {},
   "source": [
    "<div class=\"alert-warning\"> \n",
    "<b>Комментарий ревьюера 💡 </b>\n",
    "\n",
    "У леса можно побольше гиперпараметров рассмотреть"
   ]
  },
  {
   "cell_type": "markdown",
   "metadata": {},
   "source": [
    "Посмотрим на модель LogisticRegression(). В ней можно перебрать количество max_iter."
   ]
  },
  {
   "cell_type": "code",
   "execution_count": 7,
   "metadata": {
    "scrolled": true
   },
   "outputs": [
    {
     "name": "stdout",
     "output_type": "stream",
     "text": [
      "0.8040435458786936\n",
      "0.8040435458786936\n",
      "0.8040435458786936\n",
      "0.8040435458786936\n"
     ]
    }
   ],
   "source": [
    "for miter in range(100, 500, 100): \n",
    "    model = LogisticRegression(max_iter = miter)\n",
    "    model.fit(features_train, target_train)\n",
    "    print(accuracy_score(target_valid, predictions_valid))"
   ]
  },
  {
   "cell_type": "markdown",
   "metadata": {},
   "source": [
    "Значение на результат не влияет, оставим 100 как и в default."
   ]
  },
  {
   "cell_type": "markdown",
   "metadata": {},
   "source": [
    "<div class=\"alert-warning\"> \n",
    "<b>Комментарий ревьюера 💡 Ко всему пукнту </b> \n",
    "    \n",
    "Лучше не выводить промежуточные результаты, это громоздко. Если хочешь посмотреть изменение метрики в зависимости от значения перебираемого параметра, то лучше построить график"
   ]
  },
  {
   "cell_type": "markdown",
   "metadata": {},
   "source": [
    "<div class=\"alert-warning\"> \n",
    "<b>Комментарий ревьюера 💡 Ко всему пукнту </b> \n",
    "    \n",
    "Для более красивого оформления кода можно использовать f-strings. Подробнее про них почитать можешь здесь или на любом другом сайте: https://python-scripts.com/f-strings"
   ]
  },
  {
   "cell_type": "markdown",
   "metadata": {},
   "source": [
    "Исходя из исследования 3-х моделей, я выбираю RandomForestClassifier как самую точную. Проверю её на тестовой выборке."
   ]
  },
  {
   "cell_type": "markdown",
   "metadata": {},
   "source": [
    "<div class=\"alert-warning\"> \n",
    "<b>Комментарий ревьюера 💡 </b>\n",
    "\n",
    "Accuracy - это доля правильных ответов, а не точность. Точность - другая метрика классификации, precision, поэтому про \"точную\" модель на основе выборки accuracy лучше не говорить"
   ]
  },
  {
   "cell_type": "markdown",
   "metadata": {},
   "source": [
    "## Проверьте модель на тестовой выборке"
   ]
  },
  {
   "cell_type": "code",
   "execution_count": 11,
   "metadata": {},
   "outputs": [
    {
     "name": "stdout",
     "output_type": "stream",
     "text": [
      "0.8087091757387247\n"
     ]
    }
   ],
   "source": [
    "model = model = RandomForestClassifier(random_state=12345, max_depth=7, n_estimators=7)\n",
    "model.fit(features_train, target_train)\n",
    "predictions_test = model.predict(features_test)\n",
    "print(accuracy_score(target_test, predictions_test))"
   ]
  },
  {
   "cell_type": "markdown",
   "metadata": {},
   "source": [
    "Результат accuracy 0.8087 достигнут."
   ]
  },
  {
   "cell_type": "markdown",
   "metadata": {},
   "source": [
    "<div class=\"alert-success\"> \n",
    "<b>Комментарий ревьюера 👍 </b>\n",
    "\n",
    "Модель проверена на тесте"
   ]
  },
  {
   "cell_type": "markdown",
   "metadata": {},
   "source": [
    "## (бонус) Проверьте модели на адекватность"
   ]
  },
  {
   "cell_type": "markdown",
   "metadata": {},
   "source": [
    "<div class=\"alert-warning\"> \n",
    "<b>Комментарий ревьюера 💡 </b>\n",
    "\n",
    "Можно посмотреть на баланс классов: например, если у нас 90 процентов таргета это \"1\", а остальные 10 - \"0\", то мы можем тупо выдавать каждый раз цифру 1 и получать метрику 90 %. Любая модель, которая будет выдавать качество ниже этого - плохая/неадекватная\n",
    "    \n",
    "dummy classifier с strategy='most_frequent' работает так же: смотрит на самый часто встречающийся класс и выдает только его (только одно значение - константу, поэтому это константная модель)"
   ]
  },
  {
   "cell_type": "markdown",
   "metadata": {},
   "source": [
    "# Вывод:\n",
    "\n",
    "В результате выполненной работы наиболее точной, как и ожидалось, показала себя модель RandomForestClassifier, которая достигла результата accuracy 0.8087.\n"
   ]
  },
  {
   "cell_type": "markdown",
   "metadata": {},
   "source": [
    "h <div class=\"alert-warning\"> \n",
    "<b>Комментарий ревьюера 💡 </b>\n",
    "\n",
    "Хороший проект, тобою проделана большая работа, ты молодец!\n",
    "\n",
    "Сперва похвалю за наличие везде промежуточных выводов, комментариев. Хороший код, показываешь навыки владения sklearn. Все требуемые пункты в задании в целом выполнены. Оставил пару желтых комментариев, думаю, это сможет улучшить твой проект. Также можно добавить визуализацию в проект: посмотреть на графиках, как влияет перебор параметров на результат нашей метрики\n",
    "\n",
    "В этом проекте большое внимание уделяется подбору гиперпараметров, но это можно автоматизировать! Советую почитать на досуге про GridsearchCV и Optuna, будет полезно\n",
    "            \n",
    "Из курсов и дополнительной информации советую Yandex ML Handbook (https://academy.yandex.ru/handbook/ml) и курсы Евгения Соколова на ФКН (Машинное обучение - 1 с математикой https://github.com/esokolov/ml-course-hse и Основы машинного обучения без глубокой математики https://github.com/hse-ds/iad-intro-ds) - там можешь получить дополнительную информацию, более глубокую, возможно. http://wiki.cs.hse.ru/Заглавная_страница - тут можешь глянуть записи семинаров и лекций и другие материалы соответствующих курсов. \n",
    "        \n",
    "Готов принять проект и так, потому что не было ошибок. Можешь отправлять проект без доработок, но если хочешь - можешь исправить желтые комментарии/задать свои вопросы по моим комментариям, проекту, ML в целом\n",
    "    \n",
    "Удачи!"
   ]
  },
  {
   "cell_type": "markdown",
   "metadata": {},
   "source": [
    "## Чек-лист готовности проекта"
   ]
  },
  {
   "cell_type": "markdown",
   "metadata": {},
   "source": [
    "Поставьте 'x' в выполненных пунктах. Далее нажмите Shift+Enter."
   ]
  },
  {
   "cell_type": "markdown",
   "metadata": {},
   "source": [
    "- [x] Jupyter Notebook открыт\n",
    "- [x] Весь код исполняется без ошибок\n",
    "- [x] Ячейки с кодом расположены в порядке исполнения\n",
    "- [x] Выполнено задание 1: данные загружены и изучены\n",
    "- [x] Выполнено задание 2: данные разбиты на три выборки\n",
    "- [x] Выполнено задание 3: проведено исследование моделей\n",
    "    - [x] Рассмотрено больше одной модели\n",
    "    - [x] Рассмотрено хотя бы 3 значения гипепараметров для какой-нибудь модели\n",
    "    - [x] Написаны выводы по результатам исследования\n",
    "- [x] Выполнено задание 3: Проведено тестирование\n",
    "- [x] Удалось достичь accuracy не меньше 0.75\n"
   ]
  }
 ],
 "metadata": {
  "ExecuteTimeLog": [
   {
    "duration": 47,
    "start_time": "2023-07-12T20:06:29.836Z"
   },
   {
    "duration": 1141,
    "start_time": "2023-07-12T20:06:34.461Z"
   },
   {
    "duration": 1128,
    "start_time": "2023-07-12T20:06:47.932Z"
   },
   {
    "duration": 123,
    "start_time": "2023-07-12T20:06:49.062Z"
   },
   {
    "duration": 51,
    "start_time": "2023-07-12T20:07:04.528Z"
   },
   {
    "duration": 48,
    "start_time": "2023-07-12T20:07:18.326Z"
   },
   {
    "duration": 27,
    "start_time": "2023-07-12T20:19:23.748Z"
   },
   {
    "duration": 28,
    "start_time": "2023-07-12T20:20:38.337Z"
   },
   {
    "duration": 113,
    "start_time": "2023-07-12T20:24:23.889Z"
   },
   {
    "duration": 15,
    "start_time": "2023-07-12T20:25:06.295Z"
   },
   {
    "duration": 13,
    "start_time": "2023-07-12T20:25:14.194Z"
   },
   {
    "duration": 31,
    "start_time": "2023-07-12T20:29:08.026Z"
   },
   {
    "duration": 31,
    "start_time": "2023-07-12T20:29:35.292Z"
   },
   {
    "duration": 10,
    "start_time": "2023-07-12T20:30:16.129Z"
   },
   {
    "duration": 8,
    "start_time": "2023-07-12T20:30:42.567Z"
   },
   {
    "duration": 10,
    "start_time": "2023-07-12T20:32:17.853Z"
   },
   {
    "duration": 39,
    "start_time": "2023-07-12T20:32:51.904Z"
   },
   {
    "duration": 1112,
    "start_time": "2023-07-12T20:44:33.139Z"
   },
   {
    "duration": 64,
    "start_time": "2023-07-12T20:44:34.254Z"
   },
   {
    "duration": 87,
    "start_time": "2023-07-12T20:44:34.320Z"
   },
   {
    "duration": 678,
    "start_time": "2023-07-12T20:45:22.414Z"
   },
   {
    "duration": 673,
    "start_time": "2023-07-12T20:45:26.103Z"
   },
   {
    "duration": 4,
    "start_time": "2023-07-12T20:45:31.487Z"
   },
   {
    "duration": 73,
    "start_time": "2023-07-12T20:45:31.493Z"
   },
   {
    "duration": 37,
    "start_time": "2023-07-12T20:45:31.568Z"
   },
   {
    "duration": 664,
    "start_time": "2023-07-12T20:45:31.607Z"
   },
   {
    "duration": 759,
    "start_time": "2023-07-12T20:49:31.147Z"
   },
   {
    "duration": 1117,
    "start_time": "2023-07-12T20:49:50.231Z"
   },
   {
    "duration": 59,
    "start_time": "2023-07-12T20:49:51.350Z"
   },
   {
    "duration": 40,
    "start_time": "2023-07-12T20:49:51.410Z"
   },
   {
    "duration": 752,
    "start_time": "2023-07-12T20:49:51.452Z"
   },
   {
    "duration": 663,
    "start_time": "2023-07-12T20:50:07.865Z"
   },
   {
    "duration": 707,
    "start_time": "2023-07-12T20:51:04.227Z"
   },
   {
    "duration": 670,
    "start_time": "2023-07-12T20:51:47.069Z"
   },
   {
    "duration": 747,
    "start_time": "2023-07-12T20:51:57.387Z"
   },
   {
    "duration": 722,
    "start_time": "2023-07-12T20:52:11.844Z"
   },
   {
    "duration": 655,
    "start_time": "2023-07-12T20:52:27.273Z"
   },
   {
    "duration": 670,
    "start_time": "2023-07-12T20:52:44.608Z"
   },
   {
    "duration": 709,
    "start_time": "2023-07-12T20:53:28.275Z"
   },
   {
    "duration": 690,
    "start_time": "2023-07-12T20:53:35.025Z"
   },
   {
    "duration": 685,
    "start_time": "2023-07-12T20:54:43.615Z"
   },
   {
    "duration": 242,
    "start_time": "2023-07-12T20:56:38.013Z"
   },
   {
    "duration": 234,
    "start_time": "2023-07-12T20:56:40.064Z"
   },
   {
    "duration": 239,
    "start_time": "2023-07-12T20:57:29.412Z"
   },
   {
    "duration": 233,
    "start_time": "2023-07-12T20:57:47.094Z"
   },
   {
    "duration": 232,
    "start_time": "2023-07-12T20:58:11.393Z"
   },
   {
    "duration": 21,
    "start_time": "2023-07-12T20:59:17.238Z"
   },
   {
    "duration": 28,
    "start_time": "2023-07-12T20:59:39.443Z"
   },
   {
    "duration": 88,
    "start_time": "2023-07-12T20:59:45.443Z"
   },
   {
    "duration": 240,
    "start_time": "2023-07-12T21:00:14.202Z"
   },
   {
    "duration": 264,
    "start_time": "2023-07-12T21:02:55.590Z"
   },
   {
    "duration": 870,
    "start_time": "2023-07-12T21:03:17.253Z"
   },
   {
    "duration": 25,
    "start_time": "2023-07-12T21:04:28.365Z"
   },
   {
    "duration": 30,
    "start_time": "2023-07-12T21:04:43.634Z"
   },
   {
    "duration": 24,
    "start_time": "2023-07-12T21:07:15.167Z"
   },
   {
    "duration": 17,
    "start_time": "2023-07-12T21:07:39.145Z"
   },
   {
    "duration": 16,
    "start_time": "2023-07-12T21:07:59.323Z"
   },
   {
    "duration": 14,
    "start_time": "2023-07-12T21:08:05.734Z"
   },
   {
    "duration": 21,
    "start_time": "2023-07-12T21:08:35.607Z"
   },
   {
    "duration": 18,
    "start_time": "2023-07-12T21:08:55.252Z"
   },
   {
    "duration": 19,
    "start_time": "2023-07-12T21:09:01.097Z"
   },
   {
    "duration": 21,
    "start_time": "2023-07-12T21:09:53.921Z"
   },
   {
    "duration": 22,
    "start_time": "2023-07-12T21:09:59.217Z"
   },
   {
    "duration": 21,
    "start_time": "2023-07-12T21:10:16.720Z"
   },
   {
    "duration": 21,
    "start_time": "2023-07-12T21:10:44.310Z"
   },
   {
    "duration": 23,
    "start_time": "2023-07-12T21:12:35.507Z"
   },
   {
    "duration": 25,
    "start_time": "2023-07-12T21:12:41.993Z"
   },
   {
    "duration": 21,
    "start_time": "2023-07-12T21:12:46.339Z"
   },
   {
    "duration": 21,
    "start_time": "2023-07-12T21:12:51.820Z"
   },
   {
    "duration": 21,
    "start_time": "2023-07-12T21:12:55.002Z"
   },
   {
    "duration": 3,
    "start_time": "2023-07-12T21:14:39.952Z"
   },
   {
    "duration": 22,
    "start_time": "2023-07-12T21:14:48.561Z"
   },
   {
    "duration": 22,
    "start_time": "2023-07-12T21:14:57.886Z"
   },
   {
    "duration": 24,
    "start_time": "2023-07-12T21:15:05.607Z"
   },
   {
    "duration": 23,
    "start_time": "2023-07-12T21:15:15.406Z"
   },
   {
    "duration": 32,
    "start_time": "2023-07-12T21:15:27.051Z"
   },
   {
    "duration": 44,
    "start_time": "2023-07-12T21:15:59.461Z"
   },
   {
    "duration": 84,
    "start_time": "2023-07-12T21:16:11.454Z"
   },
   {
    "duration": 12,
    "start_time": "2023-07-12T21:18:02.615Z"
   },
   {
    "duration": 14,
    "start_time": "2023-07-12T21:18:08.504Z"
   },
   {
    "duration": 18,
    "start_time": "2023-07-12T21:18:14.304Z"
   },
   {
    "duration": 15,
    "start_time": "2023-07-12T21:18:22.242Z"
   },
   {
    "duration": 15,
    "start_time": "2023-07-12T21:18:25.273Z"
   },
   {
    "duration": 15,
    "start_time": "2023-07-12T21:18:29.131Z"
   },
   {
    "duration": 15,
    "start_time": "2023-07-12T21:18:32.364Z"
   },
   {
    "duration": 13,
    "start_time": "2023-07-12T21:18:36.273Z"
   },
   {
    "duration": 15,
    "start_time": "2023-07-12T21:18:49.676Z"
   },
   {
    "duration": 12,
    "start_time": "2023-07-12T21:18:54.920Z"
   },
   {
    "duration": 14,
    "start_time": "2023-07-12T21:18:58.414Z"
   },
   {
    "duration": 14,
    "start_time": "2023-07-12T21:19:02.647Z"
   },
   {
    "duration": 14,
    "start_time": "2023-07-12T21:19:05.477Z"
   },
   {
    "duration": 16,
    "start_time": "2023-07-12T21:19:07.761Z"
   },
   {
    "duration": 50,
    "start_time": "2023-07-12T21:19:19.234Z"
   },
   {
    "duration": 1253,
    "start_time": "2023-07-12T21:19:28.382Z"
   },
   {
    "duration": 150,
    "start_time": "2023-07-12T21:19:29.637Z"
   },
   {
    "duration": 39,
    "start_time": "2023-07-12T21:19:29.788Z"
   },
   {
    "duration": 95,
    "start_time": "2023-07-12T21:19:29.829Z"
   },
   {
    "duration": 35,
    "start_time": "2023-07-12T21:19:29.927Z"
   },
   {
    "duration": 37,
    "start_time": "2023-07-12T21:20:18.836Z"
   },
   {
    "duration": 132,
    "start_time": "2023-07-12T21:20:23.135Z"
   },
   {
    "duration": 36,
    "start_time": "2023-07-12T21:20:28.217Z"
   },
   {
    "duration": 13,
    "start_time": "2023-07-12T21:20:34.906Z"
   },
   {
    "duration": 13,
    "start_time": "2023-07-12T21:20:39.111Z"
   },
   {
    "duration": 16,
    "start_time": "2023-07-12T21:20:44.001Z"
   },
   {
    "duration": 15,
    "start_time": "2023-07-12T21:20:48.566Z"
   },
   {
    "duration": 217,
    "start_time": "2023-07-12T21:22:01.812Z"
   },
   {
    "duration": 846,
    "start_time": "2023-07-12T21:25:01.541Z"
   },
   {
    "duration": 2634,
    "start_time": "2023-07-12T21:26:19.453Z"
   },
   {
    "duration": 5075,
    "start_time": "2023-07-12T21:26:32.937Z"
   },
   {
    "duration": 6232,
    "start_time": "2023-07-12T21:28:40.462Z"
   },
   {
    "duration": 5807,
    "start_time": "2023-07-12T21:30:45.122Z"
   },
   {
    "duration": 0,
    "start_time": "2023-07-12T21:31:19.826Z"
   },
   {
    "duration": 1241,
    "start_time": "2023-07-12T21:31:25.578Z"
   },
   {
    "duration": 58,
    "start_time": "2023-07-12T21:31:26.821Z"
   },
   {
    "duration": 41,
    "start_time": "2023-07-12T21:31:26.881Z"
   },
   {
    "duration": 88,
    "start_time": "2023-07-12T21:31:26.923Z"
   },
   {
    "duration": 863,
    "start_time": "2023-07-12T21:31:27.014Z"
   },
   {
    "duration": 1605,
    "start_time": "2023-07-12T21:31:27.879Z"
   },
   {
    "duration": 1297,
    "start_time": "2023-07-12T21:36:25.656Z"
   },
   {
    "duration": 63,
    "start_time": "2023-07-12T21:36:26.955Z"
   },
   {
    "duration": 53,
    "start_time": "2023-07-12T21:36:27.022Z"
   },
   {
    "duration": 137,
    "start_time": "2023-07-12T21:36:27.077Z"
   },
   {
    "duration": 971,
    "start_time": "2023-07-12T21:36:27.218Z"
   },
   {
    "duration": 1705,
    "start_time": "2023-07-12T21:36:28.191Z"
   },
   {
    "duration": 832,
    "start_time": "2023-07-12T21:36:29.899Z"
   },
   {
    "duration": 584,
    "start_time": "2023-07-12T21:37:41.530Z"
   },
   {
    "duration": 28,
    "start_time": "2023-07-12T21:41:51.701Z"
   },
   {
    "duration": 221,
    "start_time": "2023-07-12T21:41:56.813Z"
   },
   {
    "duration": 983,
    "start_time": "2023-07-12T21:42:03.325Z"
   },
   {
    "duration": 1317,
    "start_time": "2023-07-12T21:42:07.594Z"
   },
   {
    "duration": 1189,
    "start_time": "2023-07-12T21:42:14.357Z"
   },
   {
    "duration": 168,
    "start_time": "2023-07-12T21:44:13.722Z"
   },
   {
    "duration": 2355,
    "start_time": "2023-07-12T21:44:34.072Z"
   },
   {
    "duration": 33620,
    "start_time": "2023-07-12T21:45:11.793Z"
   },
   {
    "duration": 16,
    "start_time": "2023-07-12T21:47:00.625Z"
   },
   {
    "duration": 1401,
    "start_time": "2023-07-12T21:47:27.330Z"
   },
   {
    "duration": 79,
    "start_time": "2023-07-12T21:47:28.735Z"
   },
   {
    "duration": 64,
    "start_time": "2023-07-12T21:47:28.817Z"
   },
   {
    "duration": 130,
    "start_time": "2023-07-12T21:47:28.910Z"
   },
   {
    "duration": 1282,
    "start_time": "2023-07-12T21:47:29.043Z"
   },
   {
    "duration": 1910,
    "start_time": "2023-07-12T21:47:30.331Z"
   },
   {
    "duration": 6086,
    "start_time": "2023-07-12T21:47:32.244Z"
   },
   {
    "duration": 83,
    "start_time": "2023-07-12T21:47:38.336Z"
   },
   {
    "duration": 46,
    "start_time": "2023-07-12T21:50:47.257Z"
   },
   {
    "duration": 44,
    "start_time": "2023-07-12T21:51:01.725Z"
   },
   {
    "duration": 37,
    "start_time": "2023-07-12T21:51:14.619Z"
   }
  ],
  "kernelspec": {
   "display_name": "Python 3 (ipykernel)",
   "language": "python",
   "name": "python3"
  },
  "language_info": {
   "codemirror_mode": {
    "name": "ipython",
    "version": 3
   },
   "file_extension": ".py",
   "mimetype": "text/x-python",
   "name": "python",
   "nbconvert_exporter": "python",
   "pygments_lexer": "ipython3",
   "version": "3.9.5"
  },
  "toc": {
   "base_numbering": 1,
   "nav_menu": {},
   "number_sections": true,
   "sideBar": true,
   "skip_h1_title": true,
   "title_cell": "Table of Contents",
   "title_sidebar": "Contents",
   "toc_cell": false,
   "toc_position": {},
   "toc_section_display": true,
   "toc_window_display": false
  }
 },
 "nbformat": 4,
 "nbformat_minor": 2
}
