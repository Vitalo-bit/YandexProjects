{
 "cells": [
  {
   "cell_type": "markdown",
   "id": "083733f7",
   "metadata": {},
   "source": [
    "<div style=\"border:solid green 3px; padding: 20px\">\n",
    "<b>🥇 Нияз, спасибо за доработки, проект принят, молодец!</b>\n",
    "    \n",
    "Ты провел хорошую работу над ошибками! Уверен, ты обязательно достигнешь своей цели! Успехов в дальнейшем обучении! 🙂\n",
    "    "
   ]
  },
  {
   "cell_type": "markdown",
   "id": "351aa7c8",
   "metadata": {},
   "source": [
    "Нияз, привет! Меня зовут Ефимов Денис и сегодня я буду делать ревью твоего проекта!\\\n",
    "В Практикуме принято общаться на \"ты\", однако если это неудобно - дай знать, и можем перейти на более официальное общение.\n",
    "\n",
    "Ниже ты найдешь мои комментарии - пожалуйста, не перемещай, не изменяй и не удаляй их. Я буду использовать цветовую разметку: \n",
    "\n",
    "<div class=\"alert alert-block alert-success\">\n",
    "<b>✅Комментарий ревьюера:</b> Если все сделано хорошо. </div>\n",
    "\n",
    "<div class=\"alert alert-block alert-warning\">\n",
    "<b>🔁Комментарий ревьюера:</b> Некритичное замечание; если таких замечаний меньше трех — проект может быть принят без их отработки.</div>\n",
    "\n",
    "<div class=\"alert alert-block alert-danger\">\n",
    "<b>❌Комментарий ревьюера:</b> Грубая ошибка, необходимо исправить, иначе проект не будет принят.\n",
    "</div>\n",
    "\n",
    "Давай работать над проектом в диалоге: если ты что-то меняешь в проекте или отвечаешь на мои комментарии — пиши об этом. Мне будет легче отследить изменения, если ты выделишь свои комментарии:\n",
    "Например так:\n",
    "<div class=\"alert alert-block alert-info\">\n",
    "<b>🔄Комментарий студента:</b> \n",
    "Hello World! ✔\n",
    "</div>\n",
    "\n",
    "Или можешь использовать эту галочку ✔ в моих комментариях, если писать особо нечего.\n",
    "\n",
    "<div class=\"alert alert-block alert-warning\">\n",
    "<b>Общее впечатление:</b> \n",
    "    \n",
    "- Ты проделал огромную работу :)\n",
    "- У меня есть несколько замечаний, исправив которые ты сделаешь проект лучше.\n",
    "- Пробегись по моим комментариям, исправь недочёты и всё будет отлично :)\n",
    "    \n",
    "</div>\n",
    "\n"
   ]
  },
  {
   "cell_type": "markdown",
   "id": "696ac1b7",
   "metadata": {
    "id": "5766e785"
   },
   "source": [
    "<div class=\"alert alert-block alert-danger\">\n",
    "<b>❌Комментарий ревьюера 5:</b> \n",
    "    \n",
    "Обрати, пожалуйста, внимание на [этот комментарий](#another_cell), в предыдущий раз ты его пропустил, его нужно обработать. Также необходимо обработать [еще один комментарий](#another_cell2)</div>"
   ]
  },
  {
   "cell_type": "markdown",
   "id": "a0680914",
   "metadata": {},
   "source": [
    "<div class=\"alert alert-block alert-warning\">\n",
    "<b>🔁Комментарий ревьюера:</b> \n",
    "    \n",
    "Импорт библиотек стоит делать после введения </div>"
   ]
  },
  {
   "cell_type": "markdown",
   "id": "6a8565d5",
   "metadata": {},
   "source": [
    "<div class=\"alert alert-block alert-success\">\n",
    "<b>✅Комментарий ревьюера 2:</b> Отлично, исправлено!👍  </div>"
   ]
  },
  {
   "cell_type": "markdown",
   "id": "12efb509",
   "metadata": {},
   "source": [
    "Название проекта: Анализ данных сервиса аренды самокатов GoFast. Проверка гипотез.\n",
    "\n",
    "\n",
    "Введение: \n",
    "\n",
    "В текущем проекте мы будем анализировать популярный сервис по аренде самокатов - GoFast.\n",
    "\n",
    "В нашем распоряжении три таблицы в формате csv:\n",
    "\n",
    "1) users_go, в которой:\n",
    "\n",
    "user_id\t          - уникальный идентификатор пользователя\n",
    "\n",
    "name\t          - имя пользователя\n",
    "\n",
    "age\t              - возраст\n",
    "\n",
    "city              - город\n",
    "\n",
    "subscription_type - тип подписки (free, ultra)\n",
    "\n",
    "2) rides_go, в которой:\n",
    "\n",
    "user_id\t          - уникальный идентификатор пользователя\n",
    "\n",
    "distance\t      - расстояние, которое пользователь проехал в текущей сессии (в метрах)\n",
    "\n",
    "duration\t      - продолжительность сессии (в минутах) — время с того момента, как пользователь нажал кнопку «Начать поездку»                     до момента, как он нажал кнопку «Завершить поездку»\n",
    "\n",
    "date\t          - дата совершения поездки\n",
    "\n",
    "3) subscriptions_go, в которой:\n",
    "\n",
    "subscription_type - тип подписки\n",
    "\n",
    "minute_price\t  - стоимость одной минуты поездки по данной подписке\n",
    "\n",
    "start_ride_price  - стоимость начала поездки\n",
    "\n",
    "subscription_fee  - стоимость ежемесячного платежа\n",
    "\n",
    "В первую очередь нам предстоит считать эти 3 таблицы. Затем мы произведём предобработку данных - посмотрим на типы данных, пропуски и дубликаты. Если на пути будут какие-либо проблемы, будем их решать!\n",
    "\n",
    "В последствии проанализируем обработанные данные. Исследуем их в соответствии с запросом.\n",
    "\n",
    "В конце выполним проверку гипотез - нас попросили продакт-менеджеры.\n"
   ]
  },
  {
   "cell_type": "code",
   "execution_count": 1,
   "id": "bf15f7af",
   "metadata": {},
   "outputs": [],
   "source": [
    "import pandas as pd\n",
    "import matplotlib.pyplot as plt\n",
    "import numpy as np\n",
    "from scipy import stats as st"
   ]
  },
  {
   "cell_type": "markdown",
   "id": "47904ad3",
   "metadata": {},
   "source": [
    "<div class=\"alert alert-block alert-warning\">\n",
    "<b>🔁Комментарий ревьюера:</b> \n",
    "    \n",
    "Здорово, что написал введение, но проекту также нужно и название.  </div>"
   ]
  },
  {
   "cell_type": "markdown",
   "id": "bab9804c",
   "metadata": {},
   "source": [
    "<div class=\"alert alert-block alert-success\">\n",
    "<b>✅Комментарий ревьюера 2:</b> Название можно написать в отдельной ячейке крупным шрифтом. Показал пример ниже.  </div>"
   ]
  },
  {
   "cell_type": "markdown",
   "id": "d38a9ba3",
   "metadata": {},
   "source": [
    "#  Название проекта"
   ]
  },
  {
   "cell_type": "markdown",
   "id": "296a54a8",
   "metadata": {},
   "source": [
    "#### Шаг 1. Загрузка данных"
   ]
  },
  {
   "cell_type": "code",
   "execution_count": 2,
   "id": "86b1ebb0",
   "metadata": {},
   "outputs": [
    {
     "data": {
      "text/html": [
       "<div>\n",
       "<style scoped>\n",
       "    .dataframe tbody tr th:only-of-type {\n",
       "        vertical-align: middle;\n",
       "    }\n",
       "\n",
       "    .dataframe tbody tr th {\n",
       "        vertical-align: top;\n",
       "    }\n",
       "\n",
       "    .dataframe thead th {\n",
       "        text-align: right;\n",
       "    }\n",
       "</style>\n",
       "<table border=\"1\" class=\"dataframe\">\n",
       "  <thead>\n",
       "    <tr style=\"text-align: right;\">\n",
       "      <th></th>\n",
       "      <th>user_id</th>\n",
       "      <th>name</th>\n",
       "      <th>age</th>\n",
       "      <th>city</th>\n",
       "      <th>subscription_type</th>\n",
       "    </tr>\n",
       "  </thead>\n",
       "  <tbody>\n",
       "    <tr>\n",
       "      <th>0</th>\n",
       "      <td>1</td>\n",
       "      <td>Кира</td>\n",
       "      <td>22</td>\n",
       "      <td>Тюмень</td>\n",
       "      <td>ultra</td>\n",
       "    </tr>\n",
       "    <tr>\n",
       "      <th>1</th>\n",
       "      <td>2</td>\n",
       "      <td>Станислав</td>\n",
       "      <td>31</td>\n",
       "      <td>Омск</td>\n",
       "      <td>ultra</td>\n",
       "    </tr>\n",
       "    <tr>\n",
       "      <th>2</th>\n",
       "      <td>3</td>\n",
       "      <td>Алексей</td>\n",
       "      <td>20</td>\n",
       "      <td>Москва</td>\n",
       "      <td>ultra</td>\n",
       "    </tr>\n",
       "    <tr>\n",
       "      <th>3</th>\n",
       "      <td>4</td>\n",
       "      <td>Константин</td>\n",
       "      <td>26</td>\n",
       "      <td>Ростов-на-Дону</td>\n",
       "      <td>ultra</td>\n",
       "    </tr>\n",
       "    <tr>\n",
       "      <th>4</th>\n",
       "      <td>5</td>\n",
       "      <td>Адель</td>\n",
       "      <td>28</td>\n",
       "      <td>Омск</td>\n",
       "      <td>ultra</td>\n",
       "    </tr>\n",
       "    <tr>\n",
       "      <th>...</th>\n",
       "      <td>...</td>\n",
       "      <td>...</td>\n",
       "      <td>...</td>\n",
       "      <td>...</td>\n",
       "      <td>...</td>\n",
       "    </tr>\n",
       "    <tr>\n",
       "      <th>1560</th>\n",
       "      <td>829</td>\n",
       "      <td>Федор</td>\n",
       "      <td>29</td>\n",
       "      <td>Пятигорск</td>\n",
       "      <td>free</td>\n",
       "    </tr>\n",
       "    <tr>\n",
       "      <th>1561</th>\n",
       "      <td>809</td>\n",
       "      <td>Юрий</td>\n",
       "      <td>26</td>\n",
       "      <td>Сочи</td>\n",
       "      <td>free</td>\n",
       "    </tr>\n",
       "    <tr>\n",
       "      <th>1562</th>\n",
       "      <td>307</td>\n",
       "      <td>Ясмина</td>\n",
       "      <td>19</td>\n",
       "      <td>Краснодар</td>\n",
       "      <td>ultra</td>\n",
       "    </tr>\n",
       "    <tr>\n",
       "      <th>1563</th>\n",
       "      <td>47</td>\n",
       "      <td>Юрий</td>\n",
       "      <td>28</td>\n",
       "      <td>Тюмень</td>\n",
       "      <td>ultra</td>\n",
       "    </tr>\n",
       "    <tr>\n",
       "      <th>1564</th>\n",
       "      <td>1045</td>\n",
       "      <td>Артемий</td>\n",
       "      <td>28</td>\n",
       "      <td>Ростов-на-Дону</td>\n",
       "      <td>free</td>\n",
       "    </tr>\n",
       "  </tbody>\n",
       "</table>\n",
       "<p>1565 rows × 5 columns</p>\n",
       "</div>"
      ],
      "text/plain": [
       "      user_id        name  age            city subscription_type\n",
       "0           1        Кира   22          Тюмень             ultra\n",
       "1           2   Станислав   31            Омск             ultra\n",
       "2           3     Алексей   20          Москва             ultra\n",
       "3           4  Константин   26  Ростов-на-Дону             ultra\n",
       "4           5       Адель   28            Омск             ultra\n",
       "...       ...         ...  ...             ...               ...\n",
       "1560      829       Федор   29       Пятигорск              free\n",
       "1561      809        Юрий   26            Сочи              free\n",
       "1562      307      Ясмина   19       Краснодар             ultra\n",
       "1563       47        Юрий   28          Тюмень             ultra\n",
       "1564     1045     Артемий   28  Ростов-на-Дону              free\n",
       "\n",
       "[1565 rows x 5 columns]"
      ]
     },
     "metadata": {},
     "output_type": "display_data"
    },
    {
     "name": "stdout",
     "output_type": "stream",
     "text": [
      "\n",
      "<class 'pandas.core.frame.DataFrame'>\n",
      "RangeIndex: 1565 entries, 0 to 1564\n",
      "Data columns (total 5 columns):\n",
      " #   Column             Non-Null Count  Dtype \n",
      "---  ------             --------------  ----- \n",
      " 0   user_id            1565 non-null   int64 \n",
      " 1   name               1565 non-null   object\n",
      " 2   age                1565 non-null   int64 \n",
      " 3   city               1565 non-null   object\n",
      " 4   subscription_type  1565 non-null   object\n",
      "dtypes: int64(2), object(3)\n",
      "memory usage: 61.3+ KB\n",
      "None\n",
      "\n",
      "\n"
     ]
    },
    {
     "data": {
      "text/html": [
       "<div>\n",
       "<style scoped>\n",
       "    .dataframe tbody tr th:only-of-type {\n",
       "        vertical-align: middle;\n",
       "    }\n",
       "\n",
       "    .dataframe tbody tr th {\n",
       "        vertical-align: top;\n",
       "    }\n",
       "\n",
       "    .dataframe thead th {\n",
       "        text-align: right;\n",
       "    }\n",
       "</style>\n",
       "<table border=\"1\" class=\"dataframe\">\n",
       "  <thead>\n",
       "    <tr style=\"text-align: right;\">\n",
       "      <th></th>\n",
       "      <th>subscription_type</th>\n",
       "      <th>minute_price</th>\n",
       "      <th>start_ride_price</th>\n",
       "      <th>subscription_fee</th>\n",
       "    </tr>\n",
       "  </thead>\n",
       "  <tbody>\n",
       "    <tr>\n",
       "      <th>0</th>\n",
       "      <td>free</td>\n",
       "      <td>8</td>\n",
       "      <td>50</td>\n",
       "      <td>0</td>\n",
       "    </tr>\n",
       "    <tr>\n",
       "      <th>1</th>\n",
       "      <td>ultra</td>\n",
       "      <td>6</td>\n",
       "      <td>0</td>\n",
       "      <td>199</td>\n",
       "    </tr>\n",
       "  </tbody>\n",
       "</table>\n",
       "</div>"
      ],
      "text/plain": [
       "  subscription_type  minute_price  start_ride_price  subscription_fee\n",
       "0              free             8                50                 0\n",
       "1             ultra             6                 0               199"
      ]
     },
     "metadata": {},
     "output_type": "display_data"
    },
    {
     "name": "stdout",
     "output_type": "stream",
     "text": [
      "\n",
      "<class 'pandas.core.frame.DataFrame'>\n",
      "RangeIndex: 2 entries, 0 to 1\n",
      "Data columns (total 4 columns):\n",
      " #   Column             Non-Null Count  Dtype \n",
      "---  ------             --------------  ----- \n",
      " 0   subscription_type  2 non-null      object\n",
      " 1   minute_price       2 non-null      int64 \n",
      " 2   start_ride_price   2 non-null      int64 \n",
      " 3   subscription_fee   2 non-null      int64 \n",
      "dtypes: int64(3), object(1)\n",
      "memory usage: 192.0+ bytes\n",
      "None\n",
      "\n",
      "\n"
     ]
    },
    {
     "data": {
      "text/html": [
       "<div>\n",
       "<style scoped>\n",
       "    .dataframe tbody tr th:only-of-type {\n",
       "        vertical-align: middle;\n",
       "    }\n",
       "\n",
       "    .dataframe tbody tr th {\n",
       "        vertical-align: top;\n",
       "    }\n",
       "\n",
       "    .dataframe thead th {\n",
       "        text-align: right;\n",
       "    }\n",
       "</style>\n",
       "<table border=\"1\" class=\"dataframe\">\n",
       "  <thead>\n",
       "    <tr style=\"text-align: right;\">\n",
       "      <th></th>\n",
       "      <th>user_id</th>\n",
       "      <th>distance</th>\n",
       "      <th>duration</th>\n",
       "      <th>date</th>\n",
       "    </tr>\n",
       "  </thead>\n",
       "  <tbody>\n",
       "    <tr>\n",
       "      <th>0</th>\n",
       "      <td>1</td>\n",
       "      <td>4409.919140</td>\n",
       "      <td>25.599769</td>\n",
       "      <td>2021-01-01</td>\n",
       "    </tr>\n",
       "    <tr>\n",
       "      <th>1</th>\n",
       "      <td>1</td>\n",
       "      <td>2617.592153</td>\n",
       "      <td>15.816871</td>\n",
       "      <td>2021-01-18</td>\n",
       "    </tr>\n",
       "    <tr>\n",
       "      <th>2</th>\n",
       "      <td>1</td>\n",
       "      <td>754.159807</td>\n",
       "      <td>6.232113</td>\n",
       "      <td>2021-04-20</td>\n",
       "    </tr>\n",
       "    <tr>\n",
       "      <th>3</th>\n",
       "      <td>1</td>\n",
       "      <td>2694.783254</td>\n",
       "      <td>18.511000</td>\n",
       "      <td>2021-08-11</td>\n",
       "    </tr>\n",
       "    <tr>\n",
       "      <th>4</th>\n",
       "      <td>1</td>\n",
       "      <td>4028.687306</td>\n",
       "      <td>26.265803</td>\n",
       "      <td>2021-08-28</td>\n",
       "    </tr>\n",
       "    <tr>\n",
       "      <th>...</th>\n",
       "      <td>...</td>\n",
       "      <td>...</td>\n",
       "      <td>...</td>\n",
       "      <td>...</td>\n",
       "    </tr>\n",
       "    <tr>\n",
       "      <th>18063</th>\n",
       "      <td>1534</td>\n",
       "      <td>3781.098080</td>\n",
       "      <td>19.822962</td>\n",
       "      <td>2021-11-04</td>\n",
       "    </tr>\n",
       "    <tr>\n",
       "      <th>18064</th>\n",
       "      <td>1534</td>\n",
       "      <td>2840.423057</td>\n",
       "      <td>21.409799</td>\n",
       "      <td>2021-11-16</td>\n",
       "    </tr>\n",
       "    <tr>\n",
       "      <th>18065</th>\n",
       "      <td>1534</td>\n",
       "      <td>3826.185507</td>\n",
       "      <td>18.435051</td>\n",
       "      <td>2021-11-18</td>\n",
       "    </tr>\n",
       "    <tr>\n",
       "      <th>18066</th>\n",
       "      <td>1534</td>\n",
       "      <td>2902.308661</td>\n",
       "      <td>16.674362</td>\n",
       "      <td>2021-11-27</td>\n",
       "    </tr>\n",
       "    <tr>\n",
       "      <th>18067</th>\n",
       "      <td>1534</td>\n",
       "      <td>2371.711192</td>\n",
       "      <td>15.893917</td>\n",
       "      <td>2021-12-29</td>\n",
       "    </tr>\n",
       "  </tbody>\n",
       "</table>\n",
       "<p>18068 rows × 4 columns</p>\n",
       "</div>"
      ],
      "text/plain": [
       "       user_id     distance   duration        date\n",
       "0            1  4409.919140  25.599769  2021-01-01\n",
       "1            1  2617.592153  15.816871  2021-01-18\n",
       "2            1   754.159807   6.232113  2021-04-20\n",
       "3            1  2694.783254  18.511000  2021-08-11\n",
       "4            1  4028.687306  26.265803  2021-08-28\n",
       "...        ...          ...        ...         ...\n",
       "18063     1534  3781.098080  19.822962  2021-11-04\n",
       "18064     1534  2840.423057  21.409799  2021-11-16\n",
       "18065     1534  3826.185507  18.435051  2021-11-18\n",
       "18066     1534  2902.308661  16.674362  2021-11-27\n",
       "18067     1534  2371.711192  15.893917  2021-12-29\n",
       "\n",
       "[18068 rows x 4 columns]"
      ]
     },
     "metadata": {},
     "output_type": "display_data"
    },
    {
     "name": "stdout",
     "output_type": "stream",
     "text": [
      "\n",
      "<class 'pandas.core.frame.DataFrame'>\n",
      "RangeIndex: 18068 entries, 0 to 18067\n",
      "Data columns (total 4 columns):\n",
      " #   Column    Non-Null Count  Dtype  \n",
      "---  ------    --------------  -----  \n",
      " 0   user_id   18068 non-null  int64  \n",
      " 1   distance  18068 non-null  float64\n",
      " 2   duration  18068 non-null  float64\n",
      " 3   date      18068 non-null  object \n",
      "dtypes: float64(2), int64(1), object(1)\n",
      "memory usage: 564.8+ KB\n",
      "None\n",
      "\n",
      "\n"
     ]
    }
   ],
   "source": [
    "users_go = pd.read_csv('/datasets/users_go.csv')\n",
    "subscriptions_go = pd.read_csv('/datasets/subscriptions_go.csv')\n",
    "rides_go = pd.read_csv('/datasets/rides_go.csv')\n",
    "\n",
    "display(users_go)\n",
    "print()\n",
    "print(users_go.info())\n",
    "print()\n",
    "print()\n",
    "\n",
    "display(subscriptions_go)\n",
    "print()\n",
    "print(subscriptions_go.info())\n",
    "print()\n",
    "print()\n",
    "\n",
    "display(rides_go)\n",
    "print()\n",
    "print(rides_go.info())\n",
    "print()\n",
    "print()"
   ]
  },
  {
   "cell_type": "markdown",
   "id": "abfcb6fd",
   "metadata": {},
   "source": [
    "<div class=\"alert alert-block alert-warning\">\n",
    "<b>🔁Комментарий ревьюера:</b> \n",
    "    \n",
    "Перед выводом строк датафрейма и информации о нем стоит обозначить его название, чтобы было очевидно понятно какие строки к какому датафрейму относятся.</div>"
   ]
  },
  {
   "cell_type": "markdown",
   "id": "6d3fc318",
   "metadata": {},
   "source": [
    "Считали таблицы в одноимённые переменные. Затем вывели их первые 5 строк. Также при помощи метода info посмотрели основную информацию о таблицах и их столбцах."
   ]
  },
  {
   "cell_type": "markdown",
   "id": "c9affc42",
   "metadata": {},
   "source": [
    "<div class=\"alert alert-block alert-danger\">\n",
    "<b>❌Комментарий ревьюера:</b> \n",
    "    \n",
    "\n",
    "    \n",
    "Что мы можем сказать о данных после первичного знакомства  с ними?\n",
    "\n",
    "</div>"
   ]
  },
  {
   "cell_type": "markdown",
   "id": "3b631024",
   "metadata": {},
   "source": [
    "<div class=\"alert alert-block alert-success\">\n",
    "<b>✅Комментарий ревьюера 2:</b> Отлично, исправлено!👍  </div>"
   ]
  },
  {
   "cell_type": "markdown",
   "id": "b98fcec9",
   "metadata": {},
   "source": [
    "<b>🔄Комментарий студента:</b> \n",
    "Честно говоря затрудняюсь выделить что-то особенное. Из интересного можно увидеть отсутствие пропусков, а так же то что поездок было много, больше чем 10 на каждого пользователя. По типу object ничего сказать нельзя, нужна проверка, мало ли в имя засунули цифры (тип int) вместо букв? ✔\n",
    "</div>"
   ]
  },
  {
   "cell_type": "markdown",
   "id": "a66ba782",
   "metadata": {},
   "source": [
    "#### Шаг 2. Предобработка данных"
   ]
  },
  {
   "cell_type": "code",
   "execution_count": 3,
   "id": "14ca1b18",
   "metadata": {},
   "outputs": [
    {
     "name": "stdout",
     "output_type": "stream",
     "text": [
      "user_id              0\n",
      "name                 0\n",
      "age                  0\n",
      "city                 0\n",
      "subscription_type    0\n",
      "dtype: int64\n",
      "\n",
      "subscription_type    0\n",
      "minute_price         0\n",
      "start_ride_price     0\n",
      "subscription_fee     0\n",
      "dtype: int64\n",
      "\n",
      "user_id     0\n",
      "distance    0\n",
      "duration    0\n",
      "date        0\n",
      "dtype: int64\n",
      "\n"
     ]
    }
   ],
   "source": [
    "print(users_go.isna().sum())\n",
    "print()\n",
    "\n",
    "print(subscriptions_go.isna().sum())\n",
    "print()\n",
    "\n",
    "print(rides_go.isna().sum())\n",
    "print()"
   ]
  },
  {
   "cell_type": "markdown",
   "id": "b3f83506",
   "metadata": {},
   "source": [
    "Посмотрим на количество пропусков. Как можно заметить, пропуски отсутствуют."
   ]
  },
  {
   "cell_type": "markdown",
   "id": "9d2ee7e7",
   "metadata": {},
   "source": [
    "Исходя из предыдущего пункта, при помощи метода info мы выяснили, что стобцы name, city, subscription_type имеют тип object. Переведём их в string. Так как мы уже убедились в отсутствии пропусков, осталось проверить их на дубликаты. Столбец date переведём в тип данных datetime."
   ]
  },
  {
   "cell_type": "code",
   "execution_count": 4,
   "id": "7f5fb3e9",
   "metadata": {},
   "outputs": [
    {
     "name": "stdout",
     "output_type": "stream",
     "text": [
      "['Агата', 'Аделина', 'Адель', 'Айдар', 'Александр', 'Александра', 'Алексей', 'Алина', 'Алиса', 'Алия', 'Алла', 'Альберт', 'Альбина', 'Алёна', 'Амалия', 'Амина', 'Амир', 'Анастасия', 'Анатолий', 'Ангелина', 'Андрей', 'Анжелика', 'Анна', 'Антон', 'Антонина', 'Ариана', 'Арина', 'Арсен', 'Арсений', 'Артемий', 'Артур', 'Артём', 'Богдан', 'Борис', 'Вадим', 'Валентина', 'Валерий', 'Валерия', 'Варвара', 'Василий', 'Василина', 'Василиса', 'Вера', 'Вероника', 'Виктор', 'Виктория', 'Виолетта', 'Виталий', 'Виталина', 'Влад', 'Влада', 'Владимир', 'Владислав', 'Владислава', 'Всеволод', 'Вячеслав', 'Галина', 'Георгий', 'Герман', 'Глеб', 'Гордей', 'Григорий', 'Давид', 'Дамир', 'Даниил', 'Данил', 'Данила', 'Даниэль', 'Дарина', 'Дарья', 'Демид', 'Денис', 'Диана', 'Дмитрий', 'Ева', 'Евгений', 'Евгения', 'Егор', 'Екатерина', 'Елена', 'Елизавета', 'Елисей', 'Есения', 'Жанна', 'Зарина', 'Захар', 'Злата', 'Иван', 'Игнат', 'Игорь', 'Ильдар', 'Илья', 'Инна', 'Ирина', 'Камилла', 'Карина', 'Каролина', 'Кира', 'Кирилл', 'Константин', 'Кристина', 'Ксения', 'Лариса', 'Лев', 'Леонид', 'Лиана', 'Лидия', 'Лилия', 'Любовь', 'Людмила', 'Мадина', 'Майя', 'Макар', 'Максим', 'Марат', 'Маргарита', 'Марина', 'Мария', 'Марк', 'Марсель', 'Матвей', 'Мелания', 'Милана', 'Милена', 'Мирон', 'Мирослав', 'Мирослава', 'Михаил', 'Назар', 'Наталия', 'Наталья', 'Наташа', 'Нелли', 'Ника', 'Никита', 'Николай', 'Нина', 'Одиссей', 'Оксана', 'Олег', 'Олеся', 'Ольга', 'Павел', 'Петр', 'Платон', 'Полина', 'Радмир', 'Рамиль', 'Регина', 'Роберт', 'Родион', 'Роман', 'Ростислав', 'Руслан', 'Рустам', 'Савелий', 'Самир', 'Самира', 'Светлана', 'Святогор', 'Святослав', 'Семен', 'Сергей', 'Снежана', 'София', 'Софья', 'Станислав', 'Степан', 'Стефания', 'Таисия', 'Тамара', 'Тамерлан', 'Татьяна', 'Тимофей', 'Тимур', 'Тихон', 'Ульяна', 'Федор', 'Эвелина', 'Эдуард', 'Элина', 'Эльвира', 'Эльмира', 'Эмилия', 'Эмиль', 'Юлиана', 'Юлия', 'Юрий', 'Ян', 'Яна', 'Яромир', 'Ярослав', 'Ярослава', 'Ясмина']\n",
      "['Екатеринбург', 'Краснодар', 'Москва', 'Омск', 'Пятигорск', 'Ростов-на-Дону', 'Сочи', 'Тюмень']\n",
      "['free', 'ultra']\n",
      "\n",
      "['free', 'ultra']\n",
      "<class 'str'>\n",
      "<class 'str'>\n",
      "<class 'str'>\n",
      "<class 'str'>\n",
      "<class 'str'>\n",
      "<class 'str'>\n",
      "<class 'str'>\n",
      "<class 'str'>\n",
      "<class 'str'>\n",
      "<class 'str'>\n",
      "<class 'str'>\n",
      "<class 'str'>\n",
      "<class 'str'>\n",
      "<class 'str'>\n",
      "<class 'str'>\n",
      "<class 'str'>\n",
      "<class 'str'>\n",
      "<class 'str'>\n",
      "<class 'str'>\n",
      "<class 'str'>\n",
      "<class 'str'>\n",
      "<class 'str'>\n",
      "<class 'str'>\n",
      "<class 'str'>\n",
      "<class 'str'>\n",
      "<class 'str'>\n",
      "<class 'str'>\n",
      "<class 'str'>\n",
      "<class 'str'>\n",
      "<class 'str'>\n",
      "<class 'str'>\n",
      "<class 'str'>\n",
      "<class 'str'>\n",
      "<class 'str'>\n",
      "<class 'str'>\n",
      "<class 'str'>\n",
      "<class 'str'>\n",
      "<class 'str'>\n",
      "<class 'str'>\n",
      "<class 'str'>\n",
      "<class 'str'>\n",
      "<class 'str'>\n",
      "<class 'str'>\n",
      "<class 'str'>\n",
      "<class 'str'>\n",
      "<class 'str'>\n",
      "<class 'str'>\n",
      "<class 'str'>\n",
      "<class 'str'>\n",
      "<class 'str'>\n",
      "<class 'str'>\n",
      "<class 'str'>\n",
      "<class 'str'>\n",
      "<class 'str'>\n",
      "<class 'str'>\n",
      "<class 'str'>\n",
      "<class 'str'>\n",
      "<class 'str'>\n",
      "<class 'str'>\n",
      "<class 'str'>\n",
      "<class 'str'>\n",
      "<class 'str'>\n",
      "<class 'str'>\n",
      "<class 'str'>\n",
      "<class 'str'>\n",
      "<class 'str'>\n",
      "<class 'str'>\n",
      "<class 'str'>\n",
      "<class 'str'>\n",
      "<class 'str'>\n",
      "<class 'str'>\n",
      "<class 'str'>\n",
      "<class 'str'>\n",
      "<class 'str'>\n",
      "<class 'str'>\n",
      "<class 'str'>\n",
      "<class 'str'>\n",
      "<class 'str'>\n",
      "<class 'str'>\n",
      "<class 'str'>\n",
      "<class 'str'>\n",
      "<class 'str'>\n",
      "<class 'str'>\n",
      "<class 'str'>\n",
      "<class 'str'>\n",
      "<class 'str'>\n",
      "<class 'str'>\n",
      "<class 'str'>\n",
      "<class 'str'>\n",
      "<class 'str'>\n",
      "<class 'str'>\n",
      "<class 'str'>\n",
      "<class 'str'>\n",
      "<class 'str'>\n",
      "<class 'str'>\n",
      "<class 'str'>\n",
      "<class 'str'>\n",
      "<class 'str'>\n",
      "<class 'str'>\n",
      "<class 'str'>\n",
      "<class 'str'>\n",
      "<class 'str'>\n",
      "<class 'str'>\n",
      "<class 'str'>\n",
      "<class 'str'>\n",
      "<class 'str'>\n",
      "<class 'str'>\n",
      "<class 'str'>\n",
      "<class 'str'>\n",
      "<class 'str'>\n",
      "<class 'str'>\n",
      "<class 'str'>\n",
      "<class 'str'>\n",
      "<class 'str'>\n",
      "<class 'str'>\n",
      "<class 'str'>\n",
      "<class 'str'>\n",
      "<class 'str'>\n",
      "<class 'str'>\n",
      "<class 'str'>\n",
      "<class 'str'>\n",
      "<class 'str'>\n",
      "<class 'str'>\n",
      "<class 'str'>\n",
      "<class 'str'>\n",
      "<class 'str'>\n",
      "<class 'str'>\n",
      "<class 'str'>\n",
      "<class 'str'>\n",
      "<class 'str'>\n",
      "<class 'str'>\n",
      "<class 'str'>\n",
      "<class 'str'>\n",
      "<class 'str'>\n",
      "<class 'str'>\n",
      "<class 'str'>\n",
      "<class 'str'>\n",
      "<class 'str'>\n",
      "<class 'str'>\n",
      "<class 'str'>\n",
      "<class 'str'>\n",
      "<class 'str'>\n",
      "<class 'str'>\n",
      "<class 'str'>\n",
      "<class 'str'>\n",
      "<class 'str'>\n",
      "<class 'str'>\n",
      "<class 'str'>\n",
      "<class 'str'>\n",
      "<class 'str'>\n",
      "<class 'str'>\n",
      "<class 'str'>\n",
      "<class 'str'>\n",
      "<class 'str'>\n",
      "<class 'str'>\n",
      "<class 'str'>\n",
      "<class 'str'>\n",
      "<class 'str'>\n",
      "<class 'str'>\n",
      "<class 'str'>\n",
      "<class 'str'>\n",
      "<class 'str'>\n",
      "<class 'str'>\n",
      "<class 'str'>\n",
      "<class 'str'>\n",
      "<class 'str'>\n",
      "<class 'str'>\n",
      "<class 'str'>\n",
      "<class 'str'>\n",
      "<class 'str'>\n",
      "<class 'str'>\n",
      "<class 'str'>\n",
      "<class 'str'>\n",
      "<class 'str'>\n",
      "<class 'str'>\n",
      "<class 'str'>\n",
      "<class 'str'>\n",
      "<class 'str'>\n",
      "<class 'str'>\n",
      "<class 'str'>\n",
      "<class 'str'>\n",
      "<class 'str'>\n",
      "<class 'str'>\n",
      "<class 'str'>\n",
      "<class 'str'>\n",
      "<class 'str'>\n",
      "<class 'str'>\n",
      "<class 'str'>\n",
      "<class 'str'>\n",
      "<class 'str'>\n",
      "<class 'str'>\n",
      "<class 'str'>\n",
      "<class 'str'>\n",
      "<class 'str'>\n",
      "<class 'str'>\n",
      "<class 'str'>\n",
      "<class 'str'>\n",
      "<class 'str'>\n",
      "<class 'str'>\n",
      "<class 'str'>\n",
      "<class 'str'>\n",
      "<class 'str'>\n",
      "<class 'str'>\n",
      "<class 'str'>\n",
      "<class 'str'>\n",
      "<class 'str'>\n",
      "<class 'str'>\n",
      "<class 'str'>\n",
      "<class 'str'>\n",
      "<class 'str'>\n",
      "<class 'str'>\n",
      "<class 'str'>\n",
      "<class 'str'>\n",
      "<class 'str'>\n",
      "<class 'str'>\n",
      "<class 'str'>\n",
      "<class 'str'>\n",
      "<class 'str'>\n",
      "<class 'str'>\n",
      "<class 'str'>\n",
      "<class 'str'>\n",
      "<class 'str'>\n",
      "<class 'str'>\n",
      "<class 'str'>\n",
      "<class 'str'>\n",
      "<class 'str'>\n",
      "<class 'str'>\n",
      "<class 'str'>\n",
      "<class 'str'>\n",
      "<class 'str'>\n",
      "<class 'str'>\n",
      "<class 'str'>\n",
      "<class 'str'>\n",
      "<class 'str'>\n",
      "<class 'str'>\n",
      "<class 'str'>\n",
      "<class 'str'>\n",
      "<class 'str'>\n",
      "<class 'str'>\n",
      "<class 'str'>\n",
      "<class 'str'>\n",
      "<class 'str'>\n",
      "<class 'str'>\n",
      "<class 'str'>\n",
      "<class 'str'>\n",
      "<class 'str'>\n",
      "<class 'str'>\n",
      "<class 'str'>\n",
      "<class 'str'>\n",
      "<class 'str'>\n",
      "<class 'str'>\n",
      "<class 'str'>\n",
      "<class 'str'>\n",
      "<class 'str'>\n",
      "<class 'str'>\n",
      "<class 'str'>\n",
      "<class 'str'>\n",
      "<class 'str'>\n",
      "<class 'str'>\n",
      "<class 'str'>\n",
      "<class 'str'>\n",
      "<class 'str'>\n",
      "<class 'str'>\n",
      "<class 'str'>\n",
      "<class 'str'>\n",
      "<class 'str'>\n",
      "<class 'str'>\n",
      "<class 'str'>\n",
      "<class 'str'>\n",
      "<class 'str'>\n",
      "<class 'str'>\n",
      "<class 'str'>\n",
      "<class 'str'>\n",
      "<class 'str'>\n",
      "<class 'str'>\n",
      "<class 'str'>\n",
      "<class 'str'>\n",
      "<class 'str'>\n",
      "<class 'str'>\n",
      "<class 'str'>\n",
      "<class 'str'>\n",
      "<class 'str'>\n",
      "<class 'str'>\n",
      "<class 'str'>\n",
      "<class 'str'>\n",
      "<class 'str'>\n",
      "<class 'str'>\n",
      "<class 'str'>\n",
      "<class 'str'>\n",
      "<class 'str'>\n",
      "<class 'str'>\n",
      "<class 'str'>\n",
      "<class 'str'>\n",
      "<class 'str'>\n",
      "<class 'str'>\n",
      "<class 'str'>\n",
      "<class 'str'>\n",
      "<class 'str'>\n",
      "<class 'str'>\n",
      "<class 'str'>\n",
      "<class 'str'>\n",
      "<class 'str'>\n",
      "<class 'str'>\n",
      "<class 'str'>\n",
      "<class 'str'>\n",
      "<class 'str'>\n",
      "<class 'str'>\n",
      "<class 'str'>\n",
      "<class 'str'>\n",
      "<class 'str'>\n",
      "<class 'str'>\n",
      "<class 'str'>\n",
      "<class 'str'>\n",
      "<class 'str'>\n",
      "<class 'str'>\n",
      "<class 'str'>\n",
      "<class 'str'>\n",
      "<class 'str'>\n",
      "<class 'str'>\n",
      "<class 'str'>\n",
      "<class 'str'>\n",
      "<class 'str'>\n",
      "<class 'str'>\n",
      "<class 'str'>\n",
      "<class 'str'>\n",
      "<class 'str'>\n",
      "<class 'str'>\n",
      "<class 'str'>\n",
      "<class 'str'>\n",
      "<class 'str'>\n",
      "<class 'str'>\n",
      "<class 'str'>\n",
      "<class 'str'>\n",
      "<class 'str'>\n",
      "<class 'str'>\n",
      "<class 'str'>\n",
      "<class 'str'>\n",
      "<class 'str'>\n",
      "<class 'str'>\n",
      "<class 'str'>\n",
      "<class 'str'>\n",
      "<class 'str'>\n",
      "<class 'str'>\n",
      "<class 'str'>\n",
      "<class 'str'>\n",
      "<class 'str'>\n",
      "<class 'str'>\n",
      "<class 'str'>\n",
      "<class 'str'>\n",
      "<class 'str'>\n",
      "<class 'str'>\n",
      "<class 'str'>\n",
      "<class 'str'>\n",
      "<class 'str'>\n",
      "<class 'str'>\n",
      "<class 'str'>\n",
      "<class 'str'>\n",
      "<class 'str'>\n",
      "<class 'str'>\n",
      "<class 'str'>\n",
      "<class 'str'>\n",
      "<class 'str'>\n",
      "<class 'str'>\n",
      "<class 'str'>\n",
      "<class 'str'>\n",
      "<class 'str'>\n",
      "<class 'str'>\n",
      "<class 'str'>\n",
      "<class 'str'>\n",
      "<class 'str'>\n",
      "<class 'str'>\n",
      "<class 'str'>\n",
      "<class 'str'>\n",
      "<class 'str'>\n",
      "<class 'str'>\n",
      "<class 'str'>\n",
      "<class 'str'>\n",
      "<class 'str'>\n",
      "<class 'str'>\n",
      "<class 'str'>\n",
      "<class 'str'>\n",
      "<class 'str'>\n",
      "<class 'str'>\n",
      "<class 'str'>\n",
      "<class 'str'>\n",
      "<class 'str'>\n",
      "<class 'str'>\n",
      "<class 'str'>\n",
      "<class 'str'>\n",
      "<class 'str'>\n",
      "<class 'str'>\n",
      "<class 'str'>\n",
      "<class 'str'>\n",
      "<class 'str'>\n",
      "<class 'str'>\n",
      "<class 'str'>\n",
      "<class 'str'>\n",
      "<class 'str'>\n",
      "<class 'str'>\n",
      "<class 'str'>\n",
      "<class 'str'>\n",
      "<class 'str'>\n",
      "<class 'str'>\n",
      "<class 'str'>\n",
      "<class 'str'>\n",
      "<class 'str'>\n",
      "<class 'str'>\n",
      "<class 'str'>\n",
      "<class 'str'>\n",
      "<class 'str'>\n",
      "<class 'str'>\n",
      "<class 'str'>\n",
      "<class 'str'>\n",
      "<class 'str'>\n",
      "<class 'str'>\n",
      "<class 'str'>\n",
      "<class 'str'>\n",
      "<class 'str'>\n",
      "<class 'str'>\n",
      "<class 'str'>\n",
      "<class 'str'>\n",
      "<class 'str'>\n",
      "<class 'str'>\n",
      "<class 'str'>\n",
      "<class 'str'>\n",
      "<class 'str'>\n",
      "<class 'str'>\n",
      "<class 'str'>\n",
      "<class 'str'>\n",
      "<class 'str'>\n",
      "<class 'str'>\n",
      "<class 'str'>\n",
      "<class 'str'>\n",
      "<class 'str'>\n",
      "<class 'str'>\n",
      "<class 'str'>\n",
      "<class 'str'>\n",
      "<class 'str'>\n",
      "<class 'str'>\n",
      "<class 'str'>\n",
      "<class 'str'>\n",
      "<class 'str'>\n",
      "<class 'str'>\n",
      "<class 'str'>\n",
      "<class 'str'>\n",
      "<class 'str'>\n",
      "<class 'str'>\n",
      "<class 'str'>\n",
      "<class 'str'>\n",
      "<class 'str'>\n",
      "<class 'str'>\n",
      "<class 'str'>\n",
      "<class 'str'>\n",
      "<class 'str'>\n",
      "<class 'str'>\n",
      "<class 'str'>\n",
      "<class 'str'>\n",
      "<class 'str'>\n",
      "<class 'str'>\n",
      "<class 'str'>\n",
      "<class 'str'>\n",
      "<class 'str'>\n",
      "<class 'str'>\n",
      "<class 'str'>\n",
      "<class 'str'>\n",
      "<class 'str'>\n",
      "<class 'str'>\n",
      "<class 'str'>\n",
      "<class 'str'>\n",
      "<class 'str'>\n",
      "<class 'str'>\n",
      "<class 'str'>\n",
      "<class 'str'>\n",
      "<class 'str'>\n",
      "<class 'str'>\n",
      "<class 'str'>\n",
      "<class 'str'>\n",
      "<class 'str'>\n",
      "<class 'str'>\n",
      "<class 'str'>\n",
      "<class 'str'>\n",
      "<class 'str'>\n",
      "<class 'str'>\n",
      "<class 'str'>\n",
      "<class 'str'>\n",
      "<class 'str'>\n",
      "<class 'str'>\n",
      "<class 'str'>\n",
      "<class 'str'>\n",
      "<class 'str'>\n",
      "<class 'str'>\n",
      "<class 'str'>\n",
      "<class 'str'>\n",
      "<class 'str'>\n",
      "<class 'str'>\n",
      "<class 'str'>\n",
      "<class 'str'>\n",
      "<class 'str'>\n",
      "<class 'str'>\n",
      "<class 'str'>\n",
      "<class 'str'>\n",
      "<class 'str'>\n",
      "<class 'str'>\n",
      "<class 'str'>\n",
      "<class 'str'>\n",
      "<class 'str'>\n",
      "<class 'str'>\n",
      "<class 'str'>\n",
      "<class 'str'>\n",
      "<class 'str'>\n",
      "<class 'str'>\n",
      "<class 'str'>\n",
      "<class 'str'>\n",
      "<class 'str'>\n",
      "<class 'str'>\n",
      "<class 'str'>\n",
      "<class 'str'>\n",
      "<class 'str'>\n",
      "<class 'str'>\n",
      "<class 'str'>\n",
      "<class 'str'>\n",
      "<class 'str'>\n",
      "<class 'str'>\n",
      "<class 'str'>\n",
      "<class 'str'>\n",
      "<class 'str'>\n",
      "<class 'str'>\n",
      "<class 'str'>\n",
      "<class 'str'>\n",
      "<class 'str'>\n",
      "<class 'str'>\n",
      "<class 'str'>\n",
      "<class 'str'>\n",
      "<class 'str'>\n",
      "<class 'str'>\n",
      "<class 'str'>\n",
      "<class 'str'>\n",
      "<class 'str'>\n",
      "<class 'str'>\n",
      "<class 'str'>\n",
      "<class 'str'>\n",
      "<class 'str'>\n",
      "<class 'str'>\n",
      "<class 'str'>\n",
      "<class 'str'>\n",
      "<class 'str'>\n",
      "<class 'str'>\n",
      "<class 'str'>\n",
      "<class 'str'>\n",
      "<class 'str'>\n",
      "<class 'str'>\n",
      "<class 'str'>\n",
      "<class 'str'>\n",
      "<class 'str'>\n",
      "<class 'str'>\n",
      "<class 'str'>\n",
      "<class 'str'>\n",
      "<class 'str'>\n",
      "<class 'str'>\n",
      "<class 'str'>\n",
      "<class 'str'>\n",
      "<class 'str'>\n",
      "<class 'str'>\n",
      "<class 'str'>\n",
      "<class 'str'>\n",
      "<class 'str'>\n",
      "<class 'str'>\n",
      "<class 'str'>\n",
      "<class 'str'>\n",
      "<class 'str'>\n",
      "<class 'str'>\n",
      "<class 'str'>\n",
      "<class 'str'>\n",
      "<class 'str'>\n",
      "<class 'str'>\n",
      "<class 'str'>\n",
      "<class 'str'>\n",
      "<class 'str'>\n",
      "<class 'str'>\n",
      "<class 'str'>\n",
      "<class 'str'>\n",
      "<class 'str'>\n",
      "<class 'str'>\n",
      "<class 'str'>\n",
      "<class 'str'>\n",
      "<class 'str'>\n",
      "<class 'str'>\n",
      "<class 'str'>\n",
      "<class 'str'>\n",
      "<class 'str'>\n",
      "<class 'str'>\n",
      "<class 'str'>\n",
      "<class 'str'>\n",
      "<class 'str'>\n",
      "<class 'str'>\n",
      "<class 'str'>\n",
      "<class 'str'>\n",
      "<class 'str'>\n",
      "<class 'str'>\n",
      "<class 'str'>\n",
      "<class 'str'>\n",
      "<class 'str'>\n",
      "<class 'str'>\n",
      "<class 'str'>\n",
      "<class 'str'>\n",
      "<class 'str'>\n",
      "<class 'str'>\n",
      "<class 'str'>\n",
      "<class 'str'>\n",
      "<class 'str'>\n",
      "<class 'str'>\n",
      "<class 'str'>\n",
      "<class 'str'>\n",
      "<class 'str'>\n",
      "<class 'str'>\n",
      "<class 'str'>\n",
      "<class 'str'>\n",
      "<class 'str'>\n",
      "<class 'str'>\n",
      "<class 'str'>\n",
      "<class 'str'>\n",
      "<class 'str'>\n",
      "<class 'str'>\n",
      "<class 'str'>\n",
      "<class 'str'>\n",
      "<class 'str'>\n",
      "<class 'str'>\n",
      "<class 'str'>\n",
      "<class 'str'>\n",
      "<class 'str'>\n",
      "<class 'str'>\n",
      "<class 'str'>\n",
      "<class 'str'>\n",
      "<class 'str'>\n",
      "<class 'str'>\n",
      "<class 'str'>\n",
      "<class 'str'>\n",
      "<class 'str'>\n",
      "<class 'str'>\n",
      "<class 'str'>\n",
      "<class 'str'>\n",
      "<class 'str'>\n",
      "<class 'str'>\n",
      "<class 'str'>\n",
      "<class 'str'>\n",
      "<class 'str'>\n",
      "<class 'str'>\n",
      "<class 'str'>\n",
      "<class 'str'>\n",
      "<class 'str'>\n",
      "<class 'str'>\n",
      "<class 'str'>\n",
      "<class 'str'>\n",
      "<class 'str'>\n",
      "<class 'str'>\n",
      "<class 'str'>\n",
      "<class 'str'>\n",
      "<class 'str'>\n",
      "<class 'str'>\n",
      "<class 'str'>\n",
      "<class 'str'>\n",
      "<class 'str'>\n",
      "<class 'str'>\n",
      "<class 'str'>\n",
      "<class 'str'>\n",
      "<class 'str'>\n",
      "<class 'str'>\n",
      "<class 'str'>\n",
      "<class 'str'>\n",
      "<class 'str'>\n",
      "<class 'str'>\n",
      "<class 'str'>\n",
      "<class 'str'>\n",
      "<class 'str'>\n",
      "<class 'str'>\n",
      "<class 'str'>\n",
      "<class 'str'>\n",
      "<class 'str'>\n",
      "<class 'str'>\n",
      "<class 'str'>\n",
      "<class 'str'>\n",
      "<class 'str'>\n",
      "<class 'str'>\n",
      "<class 'str'>\n",
      "<class 'str'>\n",
      "<class 'str'>\n",
      "<class 'str'>\n",
      "<class 'str'>\n",
      "<class 'str'>\n",
      "<class 'str'>\n",
      "<class 'str'>\n",
      "<class 'str'>\n",
      "<class 'str'>\n",
      "<class 'str'>\n",
      "<class 'str'>\n",
      "<class 'str'>\n",
      "<class 'str'>\n",
      "<class 'str'>\n",
      "<class 'str'>\n",
      "<class 'str'>\n",
      "<class 'str'>\n",
      "<class 'str'>\n",
      "<class 'str'>\n",
      "<class 'str'>\n",
      "<class 'str'>\n",
      "<class 'str'>\n",
      "<class 'str'>\n",
      "<class 'str'>\n",
      "<class 'str'>\n",
      "<class 'str'>\n",
      "<class 'str'>\n",
      "<class 'str'>\n",
      "<class 'str'>\n",
      "<class 'str'>\n",
      "<class 'str'>\n",
      "<class 'str'>\n",
      "<class 'str'>\n",
      "<class 'str'>\n",
      "<class 'str'>\n",
      "<class 'str'>\n",
      "<class 'str'>\n",
      "<class 'str'>\n",
      "<class 'str'>\n",
      "<class 'str'>\n",
      "<class 'str'>\n",
      "<class 'str'>\n",
      "<class 'str'>\n",
      "<class 'str'>\n",
      "<class 'str'>\n",
      "<class 'str'>\n",
      "<class 'str'>\n",
      "<class 'str'>\n",
      "<class 'str'>\n",
      "<class 'str'>\n",
      "<class 'str'>\n",
      "<class 'str'>\n",
      "<class 'str'>\n",
      "<class 'str'>\n",
      "<class 'str'>\n",
      "<class 'str'>\n",
      "<class 'str'>\n",
      "<class 'str'>\n",
      "<class 'str'>\n",
      "<class 'str'>\n",
      "<class 'str'>\n",
      "<class 'str'>\n",
      "<class 'str'>\n",
      "<class 'str'>\n",
      "<class 'str'>\n",
      "<class 'str'>\n",
      "<class 'str'>\n",
      "<class 'str'>\n",
      "<class 'str'>\n",
      "<class 'str'>\n",
      "<class 'str'>\n",
      "<class 'str'>\n",
      "<class 'str'>\n",
      "<class 'str'>\n",
      "<class 'str'>\n",
      "<class 'str'>\n",
      "<class 'str'>\n",
      "<class 'str'>\n",
      "<class 'str'>\n",
      "<class 'str'>\n",
      "<class 'str'>\n",
      "<class 'str'>\n",
      "<class 'str'>\n",
      "<class 'str'>\n",
      "<class 'str'>\n",
      "<class 'str'>\n",
      "<class 'str'>\n",
      "<class 'str'>\n",
      "<class 'str'>\n",
      "<class 'str'>\n",
      "<class 'str'>\n",
      "<class 'str'>\n",
      "<class 'str'>\n",
      "<class 'str'>\n",
      "<class 'str'>\n",
      "<class 'str'>\n",
      "<class 'str'>\n",
      "<class 'str'>\n",
      "<class 'str'>\n",
      "<class 'str'>\n",
      "<class 'str'>\n",
      "<class 'str'>\n",
      "<class 'str'>\n",
      "<class 'str'>\n",
      "<class 'str'>\n",
      "<class 'str'>\n",
      "<class 'str'>\n",
      "<class 'str'>\n",
      "<class 'str'>\n",
      "<class 'str'>\n",
      "<class 'str'>\n",
      "<class 'str'>\n",
      "<class 'str'>\n",
      "<class 'str'>\n",
      "<class 'str'>\n",
      "<class 'str'>\n",
      "<class 'str'>\n",
      "<class 'str'>\n",
      "<class 'str'>\n",
      "<class 'str'>\n",
      "<class 'str'>\n",
      "<class 'str'>\n",
      "<class 'str'>\n",
      "<class 'str'>\n",
      "<class 'str'>\n",
      "<class 'str'>\n",
      "<class 'str'>\n",
      "<class 'str'>\n",
      "<class 'str'>\n",
      "<class 'str'>\n",
      "<class 'str'>\n",
      "<class 'str'>\n",
      "<class 'str'>\n",
      "<class 'str'>\n",
      "<class 'str'>\n",
      "<class 'str'>\n",
      "<class 'str'>\n",
      "<class 'str'>\n",
      "<class 'str'>\n",
      "<class 'str'>\n",
      "<class 'str'>\n",
      "<class 'str'>\n",
      "<class 'str'>\n",
      "<class 'str'>\n",
      "<class 'str'>\n",
      "<class 'str'>\n",
      "<class 'str'>\n",
      "<class 'str'>\n",
      "<class 'str'>\n",
      "<class 'str'>\n",
      "<class 'str'>\n",
      "<class 'str'>\n",
      "<class 'str'>\n",
      "<class 'str'>\n",
      "<class 'str'>\n",
      "<class 'str'>\n",
      "<class 'str'>\n",
      "<class 'str'>\n",
      "<class 'str'>\n",
      "<class 'str'>\n",
      "<class 'str'>\n",
      "<class 'str'>\n",
      "<class 'str'>\n",
      "<class 'str'>\n",
      "<class 'str'>\n",
      "<class 'str'>\n",
      "<class 'str'>\n",
      "<class 'str'>\n",
      "<class 'str'>\n",
      "<class 'str'>\n",
      "<class 'str'>\n",
      "<class 'str'>\n",
      "<class 'str'>\n",
      "<class 'str'>\n",
      "<class 'str'>\n",
      "<class 'str'>\n",
      "<class 'str'>\n",
      "<class 'str'>\n",
      "<class 'str'>\n",
      "<class 'str'>\n",
      "<class 'str'>\n",
      "<class 'str'>\n",
      "<class 'str'>\n",
      "<class 'str'>\n",
      "<class 'str'>\n",
      "<class 'str'>\n",
      "<class 'str'>\n",
      "<class 'str'>\n",
      "<class 'str'>\n",
      "<class 'str'>\n",
      "<class 'str'>\n",
      "<class 'str'>\n",
      "<class 'str'>\n",
      "<class 'str'>\n",
      "<class 'str'>\n",
      "<class 'str'>\n",
      "<class 'str'>\n",
      "<class 'str'>\n",
      "<class 'str'>\n",
      "<class 'str'>\n",
      "<class 'str'>\n",
      "<class 'str'>\n",
      "<class 'str'>\n",
      "<class 'str'>\n",
      "<class 'str'>\n",
      "<class 'str'>\n",
      "<class 'str'>\n",
      "<class 'str'>\n",
      "<class 'str'>\n",
      "<class 'str'>\n",
      "<class 'str'>\n",
      "<class 'str'>\n",
      "<class 'str'>\n",
      "<class 'str'>\n",
      "<class 'str'>\n",
      "<class 'str'>\n",
      "<class 'str'>\n",
      "<class 'str'>\n",
      "<class 'str'>\n",
      "<class 'str'>\n",
      "<class 'str'>\n",
      "<class 'str'>\n",
      "<class 'str'>\n",
      "<class 'str'>\n",
      "<class 'str'>\n",
      "<class 'str'>\n",
      "<class 'str'>\n",
      "<class 'str'>\n",
      "<class 'str'>\n",
      "<class 'str'>\n",
      "<class 'str'>\n",
      "<class 'str'>\n",
      "<class 'str'>\n",
      "<class 'str'>\n",
      "<class 'str'>\n",
      "<class 'str'>\n",
      "<class 'str'>\n",
      "<class 'str'>\n",
      "<class 'str'>\n",
      "<class 'str'>\n",
      "<class 'str'>\n",
      "<class 'str'>\n",
      "<class 'str'>\n",
      "<class 'str'>\n",
      "<class 'str'>\n",
      "<class 'str'>\n",
      "<class 'str'>\n",
      "<class 'str'>\n",
      "<class 'str'>\n",
      "<class 'str'>\n",
      "<class 'str'>\n",
      "<class 'str'>\n",
      "<class 'str'>\n",
      "<class 'str'>\n",
      "<class 'str'>\n",
      "<class 'str'>\n",
      "<class 'str'>\n",
      "<class 'str'>\n",
      "<class 'str'>\n",
      "<class 'str'>\n",
      "<class 'str'>\n",
      "<class 'str'>\n",
      "<class 'str'>\n",
      "<class 'str'>\n",
      "<class 'str'>\n",
      "<class 'str'>\n",
      "<class 'str'>\n",
      "<class 'str'>\n",
      "<class 'str'>\n",
      "<class 'str'>\n",
      "<class 'str'>\n",
      "<class 'str'>\n",
      "<class 'str'>\n",
      "<class 'str'>\n",
      "<class 'str'>\n",
      "<class 'str'>\n",
      "<class 'str'>\n",
      "<class 'str'>\n",
      "<class 'str'>\n",
      "<class 'str'>\n",
      "<class 'str'>\n",
      "<class 'str'>\n",
      "<class 'str'>\n",
      "<class 'str'>\n",
      "<class 'str'>\n",
      "<class 'str'>\n",
      "<class 'str'>\n",
      "<class 'str'>\n",
      "<class 'str'>\n",
      "<class 'str'>\n",
      "<class 'str'>\n",
      "<class 'str'>\n",
      "<class 'str'>\n",
      "<class 'str'>\n",
      "<class 'str'>\n",
      "<class 'str'>\n",
      "<class 'str'>\n",
      "<class 'str'>\n",
      "<class 'str'>\n",
      "<class 'str'>\n",
      "<class 'str'>\n",
      "<class 'str'>\n",
      "<class 'str'>\n",
      "<class 'str'>\n",
      "<class 'str'>\n",
      "<class 'str'>\n",
      "<class 'str'>\n",
      "<class 'str'>\n",
      "<class 'str'>\n",
      "<class 'str'>\n",
      "<class 'str'>\n",
      "<class 'str'>\n",
      "<class 'str'>\n",
      "<class 'str'>\n",
      "<class 'str'>\n",
      "<class 'str'>\n",
      "<class 'str'>\n",
      "<class 'str'>\n",
      "<class 'str'>\n",
      "<class 'str'>\n",
      "<class 'str'>\n",
      "<class 'str'>\n",
      "<class 'str'>\n",
      "<class 'str'>\n",
      "<class 'str'>\n",
      "<class 'str'>\n",
      "<class 'str'>\n",
      "<class 'str'>\n",
      "<class 'str'>\n",
      "<class 'str'>\n",
      "<class 'str'>\n",
      "<class 'str'>\n",
      "<class 'str'>\n",
      "<class 'str'>\n",
      "<class 'str'>\n",
      "<class 'str'>\n",
      "<class 'str'>\n",
      "<class 'str'>\n",
      "<class 'str'>\n",
      "<class 'str'>\n",
      "<class 'str'>\n",
      "<class 'str'>\n",
      "<class 'str'>\n",
      "<class 'str'>\n",
      "<class 'str'>\n",
      "<class 'str'>\n",
      "<class 'str'>\n",
      "<class 'str'>\n",
      "<class 'str'>\n",
      "<class 'str'>\n",
      "<class 'str'>\n",
      "<class 'str'>\n",
      "<class 'str'>\n",
      "<class 'str'>\n",
      "<class 'str'>\n",
      "<class 'str'>\n",
      "<class 'str'>\n",
      "<class 'str'>\n",
      "<class 'str'>\n",
      "<class 'str'>\n",
      "<class 'str'>\n",
      "<class 'str'>\n",
      "<class 'str'>\n",
      "<class 'str'>\n",
      "<class 'str'>\n",
      "<class 'str'>\n",
      "<class 'str'>\n",
      "<class 'str'>\n",
      "<class 'str'>\n",
      "<class 'str'>\n",
      "<class 'str'>\n",
      "<class 'str'>\n",
      "<class 'str'>\n",
      "<class 'str'>\n",
      "<class 'str'>\n",
      "<class 'str'>\n",
      "<class 'str'>\n",
      "<class 'str'>\n",
      "<class 'str'>\n",
      "<class 'str'>\n",
      "<class 'str'>\n",
      "<class 'str'>\n",
      "<class 'str'>\n",
      "<class 'str'>\n",
      "<class 'str'>\n",
      "<class 'str'>\n",
      "<class 'str'>\n",
      "<class 'str'>\n",
      "<class 'str'>\n",
      "<class 'str'>\n",
      "<class 'str'>\n",
      "<class 'str'>\n",
      "<class 'str'>\n",
      "<class 'str'>\n",
      "<class 'str'>\n",
      "<class 'str'>\n",
      "<class 'str'>\n",
      "<class 'str'>\n",
      "<class 'str'>\n",
      "<class 'str'>\n",
      "<class 'str'>\n",
      "<class 'str'>\n",
      "<class 'str'>\n",
      "<class 'str'>\n",
      "<class 'str'>\n",
      "<class 'str'>\n",
      "<class 'str'>\n",
      "<class 'str'>\n",
      "<class 'str'>\n",
      "<class 'str'>\n",
      "<class 'str'>\n",
      "<class 'str'>\n",
      "<class 'str'>\n",
      "<class 'str'>\n",
      "<class 'str'>\n",
      "<class 'str'>\n",
      "<class 'str'>\n",
      "<class 'str'>\n",
      "<class 'str'>\n",
      "<class 'str'>\n",
      "<class 'str'>\n",
      "<class 'str'>\n",
      "<class 'str'>\n",
      "<class 'str'>\n",
      "<class 'str'>\n",
      "<class 'str'>\n",
      "<class 'str'>\n",
      "<class 'str'>\n",
      "<class 'str'>\n",
      "<class 'str'>\n",
      "<class 'str'>\n",
      "<class 'str'>\n",
      "<class 'str'>\n",
      "<class 'str'>\n",
      "<class 'str'>\n",
      "<class 'str'>\n",
      "<class 'str'>\n",
      "<class 'str'>\n",
      "<class 'str'>\n",
      "<class 'str'>\n",
      "<class 'str'>\n",
      "<class 'str'>\n",
      "<class 'str'>\n",
      "<class 'str'>\n",
      "<class 'str'>\n",
      "<class 'str'>\n",
      "<class 'str'>\n",
      "<class 'str'>\n",
      "<class 'str'>\n",
      "<class 'str'>\n",
      "<class 'str'>\n",
      "<class 'str'>\n",
      "<class 'str'>\n",
      "<class 'str'>\n",
      "<class 'str'>\n",
      "<class 'str'>\n",
      "<class 'str'>\n",
      "<class 'str'>\n",
      "<class 'str'>\n",
      "<class 'str'>\n",
      "<class 'str'>\n",
      "<class 'str'>\n",
      "<class 'str'>\n",
      "<class 'str'>\n",
      "<class 'str'>\n",
      "<class 'str'>\n",
      "<class 'str'>\n",
      "<class 'str'>\n",
      "<class 'str'>\n",
      "<class 'str'>\n",
      "<class 'str'>\n",
      "<class 'str'>\n",
      "<class 'str'>\n",
      "<class 'str'>\n",
      "<class 'str'>\n",
      "<class 'str'>\n",
      "<class 'str'>\n",
      "<class 'str'>\n",
      "<class 'str'>\n",
      "<class 'str'>\n",
      "<class 'str'>\n",
      "<class 'str'>\n",
      "<class 'str'>\n",
      "<class 'str'>\n",
      "<class 'str'>\n",
      "<class 'str'>\n",
      "<class 'str'>\n",
      "<class 'str'>\n",
      "<class 'str'>\n",
      "<class 'str'>\n",
      "<class 'str'>\n",
      "<class 'str'>\n",
      "<class 'str'>\n",
      "<class 'str'>\n",
      "<class 'str'>\n",
      "<class 'str'>\n",
      "<class 'str'>\n",
      "<class 'str'>\n",
      "<class 'str'>\n",
      "<class 'str'>\n",
      "<class 'str'>\n",
      "<class 'str'>\n",
      "<class 'str'>\n",
      "<class 'str'>\n",
      "<class 'str'>\n",
      "<class 'str'>\n",
      "<class 'str'>\n",
      "<class 'str'>\n",
      "<class 'str'>\n",
      "<class 'str'>\n",
      "<class 'str'>\n",
      "<class 'str'>\n",
      "<class 'str'>\n",
      "<class 'str'>\n",
      "<class 'str'>\n",
      "<class 'str'>\n",
      "<class 'str'>\n",
      "<class 'str'>\n",
      "<class 'str'>\n",
      "<class 'str'>\n",
      "<class 'str'>\n",
      "<class 'str'>\n",
      "<class 'str'>\n",
      "<class 'str'>\n",
      "<class 'str'>\n",
      "<class 'str'>\n",
      "<class 'str'>\n",
      "<class 'str'>\n",
      "<class 'str'>\n",
      "<class 'str'>\n",
      "<class 'str'>\n",
      "<class 'str'>\n",
      "<class 'str'>\n",
      "<class 'str'>\n",
      "<class 'str'>\n",
      "<class 'str'>\n",
      "<class 'str'>\n",
      "<class 'str'>\n",
      "<class 'str'>\n",
      "<class 'str'>\n",
      "<class 'str'>\n",
      "<class 'str'>\n",
      "<class 'str'>\n",
      "<class 'str'>\n",
      "<class 'str'>\n",
      "<class 'str'>\n",
      "<class 'str'>\n",
      "<class 'str'>\n",
      "<class 'str'>\n",
      "<class 'str'>\n",
      "<class 'str'>\n",
      "<class 'str'>\n",
      "<class 'str'>\n",
      "<class 'str'>\n",
      "<class 'str'>\n",
      "<class 'str'>\n",
      "<class 'str'>\n",
      "<class 'str'>\n",
      "<class 'str'>\n",
      "<class 'str'>\n",
      "<class 'str'>\n",
      "<class 'str'>\n",
      "<class 'str'>\n",
      "<class 'str'>\n",
      "<class 'str'>\n",
      "<class 'str'>\n",
      "<class 'str'>\n",
      "<class 'str'>\n",
      "<class 'str'>\n",
      "<class 'str'>\n",
      "<class 'str'>\n",
      "<class 'str'>\n",
      "<class 'str'>\n",
      "<class 'str'>\n",
      "<class 'str'>\n",
      "<class 'str'>\n",
      "<class 'str'>\n",
      "<class 'str'>\n",
      "<class 'str'>\n",
      "<class 'str'>\n",
      "<class 'str'>\n",
      "<class 'str'>\n",
      "<class 'str'>\n",
      "<class 'str'>\n",
      "<class 'str'>\n",
      "<class 'str'>\n",
      "<class 'str'>\n",
      "<class 'str'>\n",
      "<class 'str'>\n",
      "<class 'str'>\n",
      "<class 'str'>\n",
      "<class 'str'>\n",
      "<class 'str'>\n",
      "<class 'str'>\n",
      "<class 'str'>\n",
      "<class 'str'>\n",
      "<class 'str'>\n",
      "<class 'str'>\n",
      "<class 'str'>\n",
      "<class 'str'>\n",
      "<class 'str'>\n",
      "<class 'str'>\n",
      "<class 'str'>\n",
      "<class 'str'>\n",
      "<class 'str'>\n",
      "<class 'str'>\n",
      "<class 'str'>\n",
      "<class 'str'>\n",
      "<class 'str'>\n",
      "<class 'str'>\n",
      "<class 'str'>\n",
      "<class 'str'>\n",
      "<class 'str'>\n",
      "<class 'str'>\n",
      "<class 'str'>\n",
      "<class 'str'>\n",
      "<class 'str'>\n",
      "<class 'str'>\n",
      "<class 'str'>\n",
      "<class 'str'>\n",
      "<class 'str'>\n",
      "<class 'str'>\n",
      "<class 'str'>\n",
      "<class 'str'>\n",
      "<class 'str'>\n",
      "<class 'str'>\n",
      "<class 'str'>\n",
      "<class 'str'>\n",
      "<class 'str'>\n",
      "<class 'str'>\n",
      "<class 'str'>\n",
      "<class 'str'>\n",
      "<class 'str'>\n",
      "<class 'str'>\n",
      "<class 'str'>\n",
      "<class 'str'>\n",
      "<class 'str'>\n",
      "<class 'str'>\n",
      "<class 'str'>\n",
      "<class 'str'>\n",
      "<class 'str'>\n",
      "<class 'str'>\n",
      "<class 'str'>\n",
      "<class 'str'>\n",
      "<class 'str'>\n",
      "<class 'str'>\n",
      "<class 'str'>\n",
      "<class 'str'>\n",
      "<class 'str'>\n",
      "<class 'str'>\n",
      "<class 'str'>\n",
      "<class 'str'>\n",
      "<class 'str'>\n",
      "<class 'str'>\n",
      "<class 'str'>\n",
      "<class 'str'>\n",
      "<class 'str'>\n",
      "<class 'str'>\n",
      "<class 'str'>\n",
      "<class 'str'>\n",
      "<class 'str'>\n",
      "<class 'str'>\n",
      "<class 'str'>\n",
      "<class 'str'>\n",
      "<class 'str'>\n",
      "<class 'str'>\n",
      "<class 'str'>\n",
      "<class 'str'>\n",
      "<class 'str'>\n",
      "<class 'str'>\n",
      "<class 'str'>\n",
      "<class 'str'>\n",
      "<class 'str'>\n",
      "<class 'str'>\n",
      "<class 'str'>\n",
      "<class 'str'>\n",
      "<class 'str'>\n",
      "<class 'str'>\n",
      "<class 'str'>\n",
      "<class 'str'>\n",
      "<class 'str'>\n",
      "<class 'str'>\n",
      "<class 'str'>\n",
      "<class 'str'>\n",
      "<class 'str'>\n",
      "<class 'str'>\n",
      "<class 'str'>\n",
      "<class 'str'>\n",
      "<class 'str'>\n",
      "<class 'str'>\n",
      "<class 'str'>\n",
      "<class 'str'>\n",
      "<class 'str'>\n",
      "<class 'str'>\n",
      "<class 'str'>\n",
      "<class 'str'>\n",
      "<class 'str'>\n",
      "<class 'str'>\n",
      "<class 'str'>\n",
      "<class 'str'>\n",
      "<class 'str'>\n",
      "<class 'str'>\n",
      "<class 'str'>\n",
      "<class 'str'>\n",
      "<class 'str'>\n",
      "<class 'str'>\n",
      "<class 'str'>\n",
      "<class 'str'>\n",
      "<class 'str'>\n",
      "<class 'str'>\n",
      "<class 'str'>\n",
      "<class 'str'>\n",
      "<class 'str'>\n",
      "<class 'str'>\n",
      "<class 'str'>\n",
      "<class 'str'>\n",
      "<class 'str'>\n",
      "<class 'str'>\n",
      "<class 'str'>\n",
      "<class 'str'>\n",
      "<class 'str'>\n",
      "<class 'str'>\n",
      "<class 'str'>\n",
      "<class 'str'>\n",
      "<class 'str'>\n",
      "<class 'str'>\n",
      "<class 'str'>\n",
      "<class 'str'>\n",
      "<class 'str'>\n",
      "<class 'str'>\n",
      "<class 'str'>\n",
      "<class 'str'>\n",
      "<class 'str'>\n",
      "<class 'str'>\n",
      "<class 'str'>\n",
      "<class 'str'>\n",
      "<class 'str'>\n",
      "<class 'str'>\n",
      "<class 'str'>\n",
      "<class 'str'>\n",
      "<class 'str'>\n",
      "<class 'str'>\n",
      "<class 'str'>\n",
      "<class 'str'>\n",
      "<class 'str'>\n",
      "<class 'str'>\n",
      "<class 'str'>\n",
      "<class 'str'>\n",
      "<class 'str'>\n",
      "<class 'str'>\n",
      "<class 'str'>\n",
      "<class 'str'>\n",
      "<class 'str'>\n",
      "<class 'str'>\n",
      "<class 'str'>\n",
      "<class 'str'>\n",
      "<class 'str'>\n",
      "<class 'str'>\n",
      "<class 'str'>\n",
      "<class 'str'>\n",
      "<class 'str'>\n",
      "<class 'str'>\n",
      "<class 'str'>\n",
      "<class 'str'>\n",
      "<class 'str'>\n",
      "<class 'str'>\n",
      "<class 'str'>\n",
      "<class 'str'>\n",
      "<class 'str'>\n",
      "<class 'str'>\n",
      "<class 'str'>\n",
      "<class 'str'>\n",
      "<class 'str'>\n",
      "<class 'str'>\n",
      "<class 'str'>\n",
      "<class 'str'>\n",
      "<class 'str'>\n",
      "<class 'str'>\n",
      "<class 'str'>\n",
      "<class 'str'>\n",
      "<class 'str'>\n",
      "<class 'str'>\n",
      "<class 'str'>\n",
      "<class 'str'>\n",
      "<class 'str'>\n",
      "<class 'str'>\n",
      "<class 'str'>\n",
      "<class 'str'>\n",
      "<class 'str'>\n",
      "<class 'str'>\n",
      "<class 'str'>\n",
      "<class 'str'>\n",
      "<class 'str'>\n",
      "<class 'str'>\n",
      "<class 'str'>\n",
      "<class 'str'>\n",
      "<class 'str'>\n",
      "<class 'str'>\n",
      "<class 'str'>\n",
      "<class 'str'>\n",
      "<class 'str'>\n",
      "<class 'str'>\n",
      "<class 'str'>\n",
      "<class 'str'>\n",
      "<class 'str'>\n",
      "<class 'str'>\n",
      "<class 'str'>\n",
      "<class 'str'>\n",
      "<class 'str'>\n",
      "<class 'str'>\n",
      "<class 'str'>\n",
      "<class 'str'>\n",
      "<class 'str'>\n",
      "<class 'str'>\n",
      "<class 'str'>\n",
      "<class 'str'>\n",
      "<class 'str'>\n",
      "<class 'str'>\n",
      "<class 'str'>\n",
      "<class 'str'>\n",
      "<class 'str'>\n",
      "<class 'str'>\n",
      "<class 'str'>\n",
      "<class 'str'>\n",
      "<class 'str'>\n",
      "<class 'str'>\n",
      "<class 'str'>\n",
      "<class 'str'>\n",
      "<class 'str'>\n",
      "<class 'str'>\n",
      "<class 'str'>\n",
      "<class 'str'>\n",
      "<class 'str'>\n",
      "<class 'str'>\n",
      "<class 'str'>\n",
      "<class 'str'>\n",
      "<class 'str'>\n",
      "<class 'str'>\n",
      "<class 'str'>\n",
      "<class 'str'>\n",
      "<class 'str'>\n",
      "<class 'str'>\n",
      "<class 'str'>\n",
      "<class 'str'>\n",
      "<class 'str'>\n",
      "<class 'str'>\n",
      "<class 'str'>\n",
      "<class 'str'>\n",
      "<class 'str'>\n",
      "<class 'str'>\n",
      "<class 'str'>\n",
      "<class 'str'>\n",
      "<class 'str'>\n",
      "<class 'str'>\n",
      "<class 'str'>\n",
      "<class 'str'>\n",
      "<class 'str'>\n",
      "<class 'str'>\n",
      "<class 'str'>\n",
      "<class 'str'>\n",
      "<class 'str'>\n",
      "<class 'str'>\n",
      "<class 'str'>\n",
      "<class 'str'>\n",
      "<class 'str'>\n",
      "<class 'str'>\n",
      "<class 'str'>\n",
      "<class 'str'>\n",
      "<class 'str'>\n",
      "<class 'str'>\n",
      "<class 'str'>\n",
      "<class 'str'>\n",
      "<class 'str'>\n",
      "<class 'str'>\n",
      "<class 'str'>\n",
      "<class 'str'>\n",
      "<class 'str'>\n",
      "<class 'str'>\n",
      "<class 'str'>\n",
      "<class 'str'>\n",
      "<class 'str'>\n"
     ]
    }
   ],
   "source": [
    "print(sorted(users_go['name'].unique()))\n",
    "print(sorted(users_go['city'].unique()))\n",
    "print(sorted(users_go['subscription_type'].unique()))\n",
    "print()\n",
    "\n",
    "print(sorted(subscriptions_go['subscription_type'].unique()))\n",
    "\n",
    "for i in users_go['name']:\n",
    "    print(type(i))"
   ]
  },
  {
   "cell_type": "markdown",
   "id": "6e13f71b",
   "metadata": {},
   "source": [
    "<div class=\"alert alert-block alert-warning\">\n",
    "<b>🔁Комментарий ревьюера:</b> \n",
    "    \n",
    "А для чего мы проверяем тип данных каждого значения в столбце? Что если бы у нас было несколько миллионов строк?  </div>"
   ]
  },
  {
   "cell_type": "markdown",
   "id": "f3c8b9e1",
   "metadata": {},
   "source": [
    "Проверка на дубликаты прошла успешно, ничего необычного не выявлено. Class str через метод info показывается в виде object, однако проитерировав каждый элемент столбца name мы можем понять и убедится в том что это str. Всё хорошо, работаем дальше."
   ]
  },
  {
   "cell_type": "markdown",
   "id": "6eb9e880",
   "metadata": {},
   "source": [
    "<div class=\"alert alert-block alert-danger\">\n",
    "<b>❌Комментарий ревьюера:</b> \n",
    "    \n",
    "А разве мы провели проверку на дубликаты?\n",
    "Ее стоит делать с помощью метода duplicated()\n",
    "</div>"
   ]
  },
  {
   "cell_type": "markdown",
   "id": "dd7d8728",
   "metadata": {},
   "source": [
    "<div class=\"alert alert-block alert-success\">\n",
    "<b>✅Комментарий ревьюера 2:</b> Отлично, исправлено!👍  </div>"
   ]
  },
  {
   "cell_type": "markdown",
   "id": "31df094e",
   "metadata": {},
   "source": [
    "<b>🔄Комментарий студента:</b> \n",
    "Опечатался. Тут я делал проверку не на дубликаты, а на уникальные значения, т.е. искал артефакты. Можно сделать проверку имён на дубликаты, а также проверить числовые значения✔\n",
    "</div>"
   ]
  },
  {
   "cell_type": "code",
   "execution_count": 5,
   "id": "30e8ee10",
   "metadata": {
    "scrolled": true
   },
   "outputs": [
    {
     "name": "stdout",
     "output_type": "stream",
     "text": [
      "1371\n"
     ]
    }
   ],
   "source": [
    "print(users_go['name'].duplicated().sum())"
   ]
  },
  {
   "cell_type": "markdown",
   "id": "ecf23103",
   "metadata": {},
   "source": [
    "<b>🔄Комментарий студента:</b>Много имён - дубликатов. Но это понятно, проверим на всякий случай user_id </div>"
   ]
  },
  {
   "cell_type": "code",
   "execution_count": 6,
   "id": "ced7ef75",
   "metadata": {
    "scrolled": true
   },
   "outputs": [
    {
     "name": "stdout",
     "output_type": "stream",
     "text": [
      "31\n"
     ]
    }
   ],
   "source": [
    "print(users_go['user_id'].duplicated().sum())"
   ]
  },
  {
   "cell_type": "markdown",
   "id": "8509f6b9",
   "metadata": {},
   "source": [
    "<b>🔄Комментарий студента:</b>Выявлен 31 дубликат, что незначительно. Отбросим их.</div>"
   ]
  },
  {
   "cell_type": "code",
   "execution_count": 7,
   "id": "f92caff5",
   "metadata": {},
   "outputs": [
    {
     "name": "stdout",
     "output_type": "stream",
     "text": [
      "1565\n",
      "1534\n"
     ]
    }
   ],
   "source": [
    "print(len(users_go['user_id']))\n",
    "users_go = users_go.drop_duplicates(subset=['user_id'])\n",
    "print(len(users_go['user_id']))"
   ]
  },
  {
   "cell_type": "code",
   "execution_count": 8,
   "id": "69ee91be",
   "metadata": {},
   "outputs": [
    {
     "data": {
      "text/html": [
       "<div>\n",
       "<style scoped>\n",
       "    .dataframe tbody tr th:only-of-type {\n",
       "        vertical-align: middle;\n",
       "    }\n",
       "\n",
       "    .dataframe tbody tr th {\n",
       "        vertical-align: top;\n",
       "    }\n",
       "\n",
       "    .dataframe thead th {\n",
       "        text-align: right;\n",
       "    }\n",
       "</style>\n",
       "<table border=\"1\" class=\"dataframe\">\n",
       "  <thead>\n",
       "    <tr style=\"text-align: right;\">\n",
       "      <th></th>\n",
       "      <th>user_id</th>\n",
       "      <th>distance</th>\n",
       "      <th>duration</th>\n",
       "      <th>date</th>\n",
       "    </tr>\n",
       "  </thead>\n",
       "  <tbody>\n",
       "    <tr>\n",
       "      <th>0</th>\n",
       "      <td>1</td>\n",
       "      <td>4409.919140</td>\n",
       "      <td>25.599769</td>\n",
       "      <td>2021-01-01</td>\n",
       "    </tr>\n",
       "    <tr>\n",
       "      <th>1</th>\n",
       "      <td>1</td>\n",
       "      <td>2617.592153</td>\n",
       "      <td>15.816871</td>\n",
       "      <td>2021-01-18</td>\n",
       "    </tr>\n",
       "    <tr>\n",
       "      <th>2</th>\n",
       "      <td>1</td>\n",
       "      <td>754.159807</td>\n",
       "      <td>6.232113</td>\n",
       "      <td>2021-04-20</td>\n",
       "    </tr>\n",
       "    <tr>\n",
       "      <th>3</th>\n",
       "      <td>1</td>\n",
       "      <td>2694.783254</td>\n",
       "      <td>18.511000</td>\n",
       "      <td>2021-08-11</td>\n",
       "    </tr>\n",
       "    <tr>\n",
       "      <th>4</th>\n",
       "      <td>1</td>\n",
       "      <td>4028.687306</td>\n",
       "      <td>26.265803</td>\n",
       "      <td>2021-08-28</td>\n",
       "    </tr>\n",
       "    <tr>\n",
       "      <th>...</th>\n",
       "      <td>...</td>\n",
       "      <td>...</td>\n",
       "      <td>...</td>\n",
       "      <td>...</td>\n",
       "    </tr>\n",
       "    <tr>\n",
       "      <th>18063</th>\n",
       "      <td>1534</td>\n",
       "      <td>3781.098080</td>\n",
       "      <td>19.822962</td>\n",
       "      <td>2021-11-04</td>\n",
       "    </tr>\n",
       "    <tr>\n",
       "      <th>18064</th>\n",
       "      <td>1534</td>\n",
       "      <td>2840.423057</td>\n",
       "      <td>21.409799</td>\n",
       "      <td>2021-11-16</td>\n",
       "    </tr>\n",
       "    <tr>\n",
       "      <th>18065</th>\n",
       "      <td>1534</td>\n",
       "      <td>3826.185507</td>\n",
       "      <td>18.435051</td>\n",
       "      <td>2021-11-18</td>\n",
       "    </tr>\n",
       "    <tr>\n",
       "      <th>18066</th>\n",
       "      <td>1534</td>\n",
       "      <td>2902.308661</td>\n",
       "      <td>16.674362</td>\n",
       "      <td>2021-11-27</td>\n",
       "    </tr>\n",
       "    <tr>\n",
       "      <th>18067</th>\n",
       "      <td>1534</td>\n",
       "      <td>2371.711192</td>\n",
       "      <td>15.893917</td>\n",
       "      <td>2021-12-29</td>\n",
       "    </tr>\n",
       "  </tbody>\n",
       "</table>\n",
       "<p>18068 rows × 4 columns</p>\n",
       "</div>"
      ],
      "text/plain": [
       "       user_id     distance   duration       date\n",
       "0            1  4409.919140  25.599769 2021-01-01\n",
       "1            1  2617.592153  15.816871 2021-01-18\n",
       "2            1   754.159807   6.232113 2021-04-20\n",
       "3            1  2694.783254  18.511000 2021-08-11\n",
       "4            1  4028.687306  26.265803 2021-08-28\n",
       "...        ...          ...        ...        ...\n",
       "18063     1534  3781.098080  19.822962 2021-11-04\n",
       "18064     1534  2840.423057  21.409799 2021-11-16\n",
       "18065     1534  3826.185507  18.435051 2021-11-18\n",
       "18066     1534  2902.308661  16.674362 2021-11-27\n",
       "18067     1534  2371.711192  15.893917 2021-12-29\n",
       "\n",
       "[18068 rows x 4 columns]"
      ]
     },
     "metadata": {},
     "output_type": "display_data"
    },
    {
     "name": "stdout",
     "output_type": "stream",
     "text": [
      "<class 'pandas.core.frame.DataFrame'>\n",
      "RangeIndex: 18068 entries, 0 to 18067\n",
      "Data columns (total 4 columns):\n",
      " #   Column    Non-Null Count  Dtype         \n",
      "---  ------    --------------  -----         \n",
      " 0   user_id   18068 non-null  int64         \n",
      " 1   distance  18068 non-null  float64       \n",
      " 2   duration  18068 non-null  float64       \n",
      " 3   date      18068 non-null  datetime64[ns]\n",
      "dtypes: datetime64[ns](1), float64(2), int64(1)\n",
      "memory usage: 564.8 KB\n",
      "None\n"
     ]
    }
   ],
   "source": [
    "rides_go['date'] = pd.to_datetime(rides_go['date'])\n",
    "display(rides_go)\n",
    "print(rides_go.info())"
   ]
  },
  {
   "cell_type": "markdown",
   "id": "bb9c966d",
   "metadata": {},
   "source": [
    "Успешно перевели столбец date в datetime. Продолжаем."
   ]
  },
  {
   "cell_type": "code",
   "execution_count": 9,
   "id": "4da85187",
   "metadata": {
    "scrolled": true
   },
   "outputs": [
    {
     "data": {
      "text/html": [
       "<div>\n",
       "<style scoped>\n",
       "    .dataframe tbody tr th:only-of-type {\n",
       "        vertical-align: middle;\n",
       "    }\n",
       "\n",
       "    .dataframe tbody tr th {\n",
       "        vertical-align: top;\n",
       "    }\n",
       "\n",
       "    .dataframe thead th {\n",
       "        text-align: right;\n",
       "    }\n",
       "</style>\n",
       "<table border=\"1\" class=\"dataframe\">\n",
       "  <thead>\n",
       "    <tr style=\"text-align: right;\">\n",
       "      <th></th>\n",
       "      <th>user_id</th>\n",
       "      <th>distance</th>\n",
       "      <th>duration</th>\n",
       "      <th>date</th>\n",
       "      <th>month</th>\n",
       "    </tr>\n",
       "  </thead>\n",
       "  <tbody>\n",
       "    <tr>\n",
       "      <th>0</th>\n",
       "      <td>1</td>\n",
       "      <td>4409.919140</td>\n",
       "      <td>25.599769</td>\n",
       "      <td>2021-01-01</td>\n",
       "      <td>1</td>\n",
       "    </tr>\n",
       "    <tr>\n",
       "      <th>1</th>\n",
       "      <td>1</td>\n",
       "      <td>2617.592153</td>\n",
       "      <td>15.816871</td>\n",
       "      <td>2021-01-18</td>\n",
       "      <td>1</td>\n",
       "    </tr>\n",
       "    <tr>\n",
       "      <th>2</th>\n",
       "      <td>1</td>\n",
       "      <td>754.159807</td>\n",
       "      <td>6.232113</td>\n",
       "      <td>2021-04-20</td>\n",
       "      <td>4</td>\n",
       "    </tr>\n",
       "    <tr>\n",
       "      <th>3</th>\n",
       "      <td>1</td>\n",
       "      <td>2694.783254</td>\n",
       "      <td>18.511000</td>\n",
       "      <td>2021-08-11</td>\n",
       "      <td>8</td>\n",
       "    </tr>\n",
       "    <tr>\n",
       "      <th>4</th>\n",
       "      <td>1</td>\n",
       "      <td>4028.687306</td>\n",
       "      <td>26.265803</td>\n",
       "      <td>2021-08-28</td>\n",
       "      <td>8</td>\n",
       "    </tr>\n",
       "    <tr>\n",
       "      <th>...</th>\n",
       "      <td>...</td>\n",
       "      <td>...</td>\n",
       "      <td>...</td>\n",
       "      <td>...</td>\n",
       "      <td>...</td>\n",
       "    </tr>\n",
       "    <tr>\n",
       "      <th>18063</th>\n",
       "      <td>1534</td>\n",
       "      <td>3781.098080</td>\n",
       "      <td>19.822962</td>\n",
       "      <td>2021-11-04</td>\n",
       "      <td>11</td>\n",
       "    </tr>\n",
       "    <tr>\n",
       "      <th>18064</th>\n",
       "      <td>1534</td>\n",
       "      <td>2840.423057</td>\n",
       "      <td>21.409799</td>\n",
       "      <td>2021-11-16</td>\n",
       "      <td>11</td>\n",
       "    </tr>\n",
       "    <tr>\n",
       "      <th>18065</th>\n",
       "      <td>1534</td>\n",
       "      <td>3826.185507</td>\n",
       "      <td>18.435051</td>\n",
       "      <td>2021-11-18</td>\n",
       "      <td>11</td>\n",
       "    </tr>\n",
       "    <tr>\n",
       "      <th>18066</th>\n",
       "      <td>1534</td>\n",
       "      <td>2902.308661</td>\n",
       "      <td>16.674362</td>\n",
       "      <td>2021-11-27</td>\n",
       "      <td>11</td>\n",
       "    </tr>\n",
       "    <tr>\n",
       "      <th>18067</th>\n",
       "      <td>1534</td>\n",
       "      <td>2371.711192</td>\n",
       "      <td>15.893917</td>\n",
       "      <td>2021-12-29</td>\n",
       "      <td>12</td>\n",
       "    </tr>\n",
       "  </tbody>\n",
       "</table>\n",
       "<p>18068 rows × 5 columns</p>\n",
       "</div>"
      ],
      "text/plain": [
       "       user_id     distance   duration       date  month\n",
       "0            1  4409.919140  25.599769 2021-01-01      1\n",
       "1            1  2617.592153  15.816871 2021-01-18      1\n",
       "2            1   754.159807   6.232113 2021-04-20      4\n",
       "3            1  2694.783254  18.511000 2021-08-11      8\n",
       "4            1  4028.687306  26.265803 2021-08-28      8\n",
       "...        ...          ...        ...        ...    ...\n",
       "18063     1534  3781.098080  19.822962 2021-11-04     11\n",
       "18064     1534  2840.423057  21.409799 2021-11-16     11\n",
       "18065     1534  3826.185507  18.435051 2021-11-18     11\n",
       "18066     1534  2902.308661  16.674362 2021-11-27     11\n",
       "18067     1534  2371.711192  15.893917 2021-12-29     12\n",
       "\n",
       "[18068 rows x 5 columns]"
      ]
     },
     "metadata": {},
     "output_type": "display_data"
    }
   ],
   "source": [
    "rides_go['month'] = pd.DatetimeIndex(rides_go['date']).month\n",
    "display(rides_go)"
   ]
  },
  {
   "cell_type": "markdown",
   "id": "17eff1ff",
   "metadata": {},
   "source": [
    "<div class=\"alert alert-block alert-warning\">\n",
    "<b>🔁Комментарий ревьюера:</b> \n",
    "\n",
    "Дополнительно можно проверить данные за какой период у нас имеются</div>"
   ]
  },
  {
   "cell_type": "markdown",
   "id": "0c236820",
   "metadata": {},
   "source": [
    "<div class=\"alert alert-block alert-success\">\n",
    "<b>✅Комментарий ревьюера 2:</b> Отлично, исправлено!👍  </div>"
   ]
  },
  {
   "cell_type": "code",
   "execution_count": 10,
   "id": "625756be",
   "metadata": {},
   "outputs": [
    {
     "name": "stdout",
     "output_type": "stream",
     "text": [
      "2021-01-01 00:00:00\n",
      "2021-12-30 00:00:00\n"
     ]
    }
   ],
   "source": [
    "print(min(rides_go['date']))\n",
    "print(max(rides_go['date']))"
   ]
  },
  {
   "cell_type": "markdown",
   "id": "a852f476",
   "metadata": {},
   "source": [
    "<b>🔄Комментарий студента:</b>Данные собраны за 2021 год.</div>"
   ]
  },
  {
   "cell_type": "markdown",
   "id": "cde10ef7",
   "metadata": {},
   "source": [
    "Успешно добавили столбец соответствующий месяцу даты в датафрейм rides_go."
   ]
  },
  {
   "cell_type": "markdown",
   "id": "e841f68d",
   "metadata": {
    "id": "5766e785"
   },
   "source": [
    "<div class=\"alert alert-block alert-danger\">\n",
    "<b>❌Комментарий ревьюера:</b> \n",
    "    \n",
    "После этапа предобработки также нужно сделать краткий резюмирующий вывод о проделанной работе.</div>"
   ]
  },
  {
   "cell_type": "markdown",
   "id": "b9c9247d",
   "metadata": {},
   "source": [
    "<div class=\"alert alert-block alert-success\">\n",
    "<b>✅Комментарий ревьюера 2:</b> Отлично, исправлено!👍  </div>"
   ]
  },
  {
   "cell_type": "markdown",
   "id": "7d2b9493",
   "metadata": {},
   "source": [
    "<b>🔄Комментарий студента:</b>В процессе предобработки я проверил данные на артефакты, а так же уточнил типы данных. Также я осуществил проверку на пропуски, в результате которой пропуски обнаружены не были. Перевёл столбец data в формат datetime.</div>"
   ]
  },
  {
   "cell_type": "markdown",
   "id": "97168b50",
   "metadata": {},
   "source": [
    "#### Шаг 3. Исследовательский анализ данных"
   ]
  },
  {
   "cell_type": "markdown",
   "id": "33b72f0e",
   "metadata": {},
   "source": [
    "Посчитаем количество пользователей во всех городах."
   ]
  },
  {
   "cell_type": "code",
   "execution_count": 11,
   "id": "d6eeed9b",
   "metadata": {},
   "outputs": [
    {
     "name": "stdout",
     "output_type": "stream",
     "text": [
      "Пятигорск         219\n",
      "Екатеринбург      204\n",
      "Ростов-на-Дону    198\n",
      "Краснодар         193\n",
      "Сочи              189\n",
      "Омск              183\n",
      "Тюмень            180\n",
      "Москва            168\n",
      "Name: city, dtype: int64\n"
     ]
    },
    {
     "data": {
      "image/png": "[encoded data removed]",
      "text/plain": [
       "<Figure size 1080x432 with 1 Axes>"
      ]
     },
     "metadata": {
      "needs_background": "light"
     },
     "output_type": "display_data"
    }
   ],
   "source": [
    "print(users_go['city'].value_counts())\n",
    "plot = users_go.pivot_table(index='city', values='user_id', aggfunc='count').sort_values(by='user_id').plot(y='user_id', kind='bar', figsize=(15, 6), grid=True,\n",
    "                                                                     title='Количество пользователей в определённых городах', rot=0)\n",
    "\n",
    "plot.set_xlabel('Город')\n",
    "plot.set_ylabel('Количество пользователей')\n",
    "plot.legend([\"Количество пользователей\"], loc='upper left')\n",
    "plt.show()"
   ]
  },
  {
   "cell_type": "markdown",
   "id": "5bfd645c",
   "metadata": {},
   "source": [
    "<div class=\"alert alert-block alert-warning\">\n",
    "<b>🔁Комментарий ревьюера:</b> \n",
    "\n",
    "Для удобства можно повернуть график на 90 градусов и сделать сортировку по убыванию.</div>"
   ]
  },
  {
   "cell_type": "markdown",
   "id": "35c7255b",
   "metadata": {},
   "source": [
    "Как мы можем заметить больше всего пользователей в Пятигорске. Меньше всего в Москве."
   ]
  },
  {
   "cell_type": "markdown",
   "id": "9d6dbef7",
   "metadata": {},
   "source": [
    "Посчитаем соотношение пользователей с подпиской и без подписки."
   ]
  },
  {
   "cell_type": "code",
   "execution_count": 12,
   "id": "d46a7adc",
   "metadata": {
    "scrolled": false
   },
   "outputs": [
    {
     "name": "stdout",
     "output_type": "stream",
     "text": [
      "free     835\n",
      "ultra    699\n",
      "Name: subscription_type, dtype: int64\n"
     ]
    },
    {
     "data": {
      "image/png": "[encoded data removed]",
      "text/plain": [
       "<Figure size 1080x432 with 1 Axes>"
      ]
     },
     "metadata": {
      "needs_background": "light"
     },
     "output_type": "display_data"
    },
    {
     "data": {
      "image/png": "[encoded data removed]",
      "text/plain": [
       "<Figure size 1080x432 with 1 Axes>"
      ]
     },
     "metadata": {},
     "output_type": "display_data"
    },
    {
     "name": "stdout",
     "output_type": "stream",
     "text": [
      "0.4594249201277955 0.5405750798722044\n"
     ]
    }
   ],
   "source": [
    "print(users_go['subscription_type'].value_counts())\n",
    "plot = users_go.pivot_table(index='subscription_type',\n",
    "                            values='user_id',\n",
    "                            aggfunc='count').plot(y='user_id', kind='bar',\n",
    "                                                  figsize=(15, 6), grid=True,\n",
    "                                                  title='Количество подписок')\n",
    "plot.set_xlabel('Тип подписки')\n",
    "plot.set_ylabel('Количество пользователей')\n",
    "plot.legend([\"Количество пользователей\"], loc='upper left')\n",
    "plt.show()\n",
    "\n",
    "plot = users_go.pivot_table(index='subscription_type',\n",
    "                            values='user_id',\n",
    "                            aggfunc='count').plot(y='user_id', kind='pie',\n",
    "                                                  figsize=(15, 6), grid=True,\n",
    "                                                  title='Распределение подписок')\n",
    "plot.legend([\"free\", \"ultra\"], loc='lower left')\n",
    "plt.show()\n",
    "print(719 / (719 + 846), 846 / (719 + 846))"
   ]
  },
  {
   "cell_type": "markdown",
   "id": "0a0caaa2",
   "metadata": {
    "id": "5766e785"
   },
   "source": [
    "<div class=\"alert alert-block alert-warning\">\n",
    "<b>🔁Комментарий ревьюера 2:</b> \n",
    "    \n",
    "\n",
    " - Значения долей лучше отобразить на самой диаграмме. Сделать это можно с помощью аргумента `autopct`\n",
    "\n",
    " - Подпись оси можно убрать, так как суть диаграммы  описана в названии.</div>"
   ]
  },
  {
   "cell_type": "markdown",
   "id": "cc73adec",
   "metadata": {},
   "source": [
    "<div class=\"alert alert-block alert-danger\">\n",
    "<b>❌Комментарий ревьюера:</b>\n",
    "    \n",
    "Молодец, что подписываешь названия для графиков, но необходимо подписывать и оси для удобства восприятия. Есть [хорошая статья](https://devpractice.ru/matplotlib-lesson-3-3-text-elements/), которая подскажет как это правильно сделать)</div>"
   ]
  },
  {
   "cell_type": "markdown",
   "id": "9f64882b",
   "metadata": {},
   "source": [
    "<div class=\"alert alert-block alert-success\">\n",
    "<b>✅Комментарий ревьюера 2:</b> Отлично, исправлено!👍  </div>"
   ]
  },
  {
   "cell_type": "markdown",
   "id": "a0e895f2",
   "metadata": {},
   "source": [
    "<div class=\"alert alert-block alert-warning\">\n",
    "<b>🔁Комментарий ревьюера:</b>\n",
    "\n",
    "Тут отлично подошла бы круговая диаграмма с отображением на ней соотношения групп пользователей в %</div>"
   ]
  },
  {
   "cell_type": "markdown",
   "id": "4247913c",
   "metadata": {},
   "source": [
    "Пользователей с подпиской меньше чем пользователей с подпиской. При помощи нехитрых математических манипуляций обнаруживаем, что пользователей с подпиской - 46%, в то время как без - 54%."
   ]
  },
  {
   "cell_type": "markdown",
   "id": "e242427f",
   "metadata": {},
   "source": [
    "Определим возраст пользователей."
   ]
  },
  {
   "cell_type": "code",
   "execution_count": 13,
   "id": "9e7116a2",
   "metadata": {},
   "outputs": [
    {
     "name": "stdout",
     "output_type": "stream",
     "text": [
      "25    145\n",
      "24    132\n",
      "26    131\n",
      "23    129\n",
      "27    119\n",
      "22    119\n",
      "28    112\n",
      "21     93\n",
      "20     71\n",
      "30     68\n",
      "29     68\n",
      "31     48\n",
      "19     47\n",
      "18     46\n",
      "32     41\n",
      "33     39\n",
      "17     26\n",
      "34     19\n",
      "16     19\n",
      "35     15\n",
      "15     13\n",
      "14      9\n",
      "13      8\n",
      "36      6\n",
      "12      4\n",
      "38      3\n",
      "37      2\n",
      "39      1\n",
      "43      1\n",
      "Name: age, dtype: int64\n",
      "\n",
      "count    1534.000000\n",
      "mean       24.903520\n",
      "std         4.572367\n",
      "min        12.000000\n",
      "25%        22.000000\n",
      "50%        25.000000\n",
      "75%        28.000000\n",
      "max        43.000000\n",
      "Name: age, dtype: float64\n"
     ]
    },
    {
     "data": {
      "image/png": "[encoded data removed]",
      "text/plain": [
       "<Figure size 1080x432 with 1 Axes>"
      ]
     },
     "metadata": {
      "needs_background": "light"
     },
     "output_type": "display_data"
    }
   ],
   "source": [
    "print(users_go['age'].value_counts())\n",
    "print()\n",
    "print(users_go['age'].describe())\n",
    "plot = users_go.pivot_table(index='age', values='user_id', aggfunc='count').plot( y='user_id', kind='bar',\n",
    "                                                                                 figsize=(15, 6), grid=True,\n",
    "                                                                                 title='Возраст пользователей', rot=0)\n",
    "plot.set_xlabel('Возраст')\n",
    "plot.set_ylabel('Количество пользователей')\n",
    "plot.legend([\"Количество пользователей\"], loc='upper left')\n",
    "plt.show()"
   ]
  },
  {
   "cell_type": "markdown",
   "id": "6592727a",
   "metadata": {},
   "source": [
    "<div class=\"alert alert-block alert-warning\">\n",
    "<b>🔁Комментарий ревьюера:</b> \n",
    "\n",
    " - Подписи значений на оси х стоит развернуть\n",
    "\n",
    " - Дополнительно для анализа можно использовать метод `describe()`</div>"
   ]
  },
  {
   "cell_type": "markdown",
   "id": "ebf1b512",
   "metadata": {},
   "source": [
    "<div class=\"alert alert-block alert-success\">\n",
    "<b>✅Комментарий ревьюера 2:</b> Отлично, исправлено!👍  </div>"
   ]
  },
  {
   "cell_type": "markdown",
   "id": "9900e85e",
   "metadata": {},
   "source": [
    "По графику видно, что средний возраст пользователей от 22 до 28 лет, больше всего пользователей в возрасте 25 лет. На графике мы можем наблюдать нормальное распределение."
   ]
  },
  {
   "cell_type": "markdown",
   "id": "309f4846",
   "metadata": {},
   "source": [
    "Рассмотрим расстояние, которое пользователь преодолел за одну поездку."
   ]
  },
  {
   "cell_type": "code",
   "execution_count": 14,
   "id": "e92b4094",
   "metadata": {},
   "outputs": [
    {
     "data": {
      "image/png": "[encoded data removed]",
      "text/plain": [
       "<Figure size 1080x432 with 1 Axes>"
      ]
     },
     "metadata": {
      "needs_background": "light"
     },
     "output_type": "display_data"
    }
   ],
   "source": [
    "plot = rides_go.plot(x='user_id', y='distance', kind='hist',\n",
    "                                 figsize=(15, 6), grid=True, alpha=1, bins=125,\n",
    "                                 title='Пройденное расстояние')\n",
    "plot.set_xlabel('Пройденное расстояние')\n",
    "plot.set_ylabel('Количество поездок')\n",
    "plot.legend([\"Количество пользователей\"], loc='upper left')\n",
    "plt.show()"
   ]
  },
  {
   "cell_type": "markdown",
   "id": "1b5bc5a3",
   "metadata": {},
   "source": [
    "Среднее расстояние за поездку составляет 2.5 - 3.5 км."
   ]
  },
  {
   "cell_type": "markdown",
   "id": "2a6a6ab2",
   "metadata": {},
   "source": [
    "<div class=\"alert alert-block alert-warning\">\n",
    "<b>🔁Комментарий ревьюера:</b>\n",
    "\n",
    "Как ты думаешь, чем можно объяснить два пиковых значения на распределении?</div>"
   ]
  },
  {
   "cell_type": "markdown",
   "id": "fb7dcae7",
   "metadata": {},
   "source": [
    "<b>🔄Комментарий студента:</b>Вопрос конечно хороший. Единственная мысль которая мне пришла - есть процент пользователей, которые пользуются самокатом впервые, так сказать проводят пробные поездки. Возможно с этим и связан левый пик.</div>"
   ]
  },
  {
   "cell_type": "markdown",
   "id": "e96d10f4",
   "metadata": {},
   "source": [
    "<div class=\"alert alert-block alert-success\">\n",
    "<b>✅Комментарий ревьюера 2:</b> Отлично, исправлено!👍 Хорошее и логичное предположение. Также это могут быть поездки до ближайшей остановки или станции метро. </div>"
   ]
  },
  {
   "cell_type": "markdown",
   "id": "3f54e8f3",
   "metadata": {},
   "source": [
    "Рассмотрим продолжительность поездок."
   ]
  },
  {
   "cell_type": "code",
   "execution_count": 15,
   "id": "d95c4a21",
   "metadata": {
    "scrolled": false
   },
   "outputs": [
    {
     "data": {
      "image/png": "[encoded data removed]",
      "text/plain": [
       "<Figure size 1080x432 with 1 Axes>"
      ]
     },
     "metadata": {
      "needs_background": "light"
     },
     "output_type": "display_data"
    }
   ],
   "source": [
    "plot = rides_go.plot(x='user_id', y='duration', kind='hist',\n",
    "                                 figsize=(15, 6), grid=True, alpha=1, bins=125,\n",
    "                                 title='Время поездки')\n",
    "plot.set_xlabel('Время поездки')\n",
    "plot.set_ylabel('Количество поездок')\n",
    "plot.legend([\"Количество пользователей\"], loc='upper left')\n",
    "plt.show()"
   ]
  },
  {
   "cell_type": "markdown",
   "id": "58ea6c51",
   "metadata": {},
   "source": [
    "Среднее время поездок составляет от 12.5 до 22.5 минут."
   ]
  },
  {
   "cell_type": "markdown",
   "id": "bbf2dc61",
   "metadata": {},
   "source": [
    "<div class=\"alert alert-block alert-warning\">\n",
    "<b>🔁Комментарий ревьюера:</b> \n",
    "    \n",
    "Не обратил ли ты внимание на странный пик около 0? Строки с этими значениями стоит рассмотреть на предмет аномалий. </div>"
   ]
  },
  {
   "cell_type": "markdown",
   "id": "69465228",
   "metadata": {},
   "source": [
    "<b>🔄Комментарий студента:</b>Проверим.</div>"
   ]
  },
  {
   "cell_type": "code",
   "execution_count": 16,
   "id": "384da493",
   "metadata": {
    "scrolled": false
   },
   "outputs": [
    {
     "name": "stdout",
     "output_type": "stream",
     "text": [
      "94\n"
     ]
    }
   ],
   "source": [
    "print(rides_go['duration'].duplicated().sum())"
   ]
  },
  {
   "cell_type": "markdown",
   "id": "9385fb1c",
   "metadata": {},
   "source": [
    "<b>🔄Комментарий студента:</b>Действительно, 94 дубликата, что мало вероятно для непрерывных значений. Удалим их.</div>"
   ]
  },
  {
   "cell_type": "markdown",
   "id": "4f63b857",
   "metadata": {
    "id": "5766e785"
   },
   "source": [
    "<div class=\"alert alert-block alert-danger\">\n",
    "<b>❌Комментарий ревьюера 2:</b> \n",
    "    \n",
    "Подход интересный) Дубликаты возможно маловероятны, но не исключены. Удалять данные, не посмотрев на них, нельзя. Тут необходимо отфильтровать таблицу с поездками именно по продолжительности, которая обозначена пиком на графике, рассмотреть эти строки, попробовать найти в них ошибки. Удаление строк должно быть обосновано.</div>"
   ]
  },
  {
   "cell_type": "markdown",
   "id": "0e463529",
   "metadata": {},
   "source": [
    "<b>🔄Комментарий студента:</b>Окей, глянем в чём может быть проблема.</div>"
   ]
  },
  {
   "cell_type": "code",
   "execution_count": 17,
   "id": "535d3672",
   "metadata": {
    "scrolled": true
   },
   "outputs": [
    {
     "data": {
      "text/html": [
       "<div>\n",
       "<style scoped>\n",
       "    .dataframe tbody tr th:only-of-type {\n",
       "        vertical-align: middle;\n",
       "    }\n",
       "\n",
       "    .dataframe tbody tr th {\n",
       "        vertical-align: top;\n",
       "    }\n",
       "\n",
       "    .dataframe thead th {\n",
       "        text-align: right;\n",
       "    }\n",
       "</style>\n",
       "<table border=\"1\" class=\"dataframe\">\n",
       "  <thead>\n",
       "    <tr style=\"text-align: right;\">\n",
       "      <th></th>\n",
       "      <th>user_id</th>\n",
       "      <th>distance</th>\n",
       "      <th>duration</th>\n",
       "      <th>date</th>\n",
       "      <th>month</th>\n",
       "    </tr>\n",
       "  </thead>\n",
       "  <tbody>\n",
       "    <tr>\n",
       "      <th>12013</th>\n",
       "      <td>1102</td>\n",
       "      <td>4602.122401</td>\n",
       "      <td>0.500000</td>\n",
       "      <td>2021-08-01</td>\n",
       "      <td>8</td>\n",
       "    </tr>\n",
       "    <tr>\n",
       "      <th>17314</th>\n",
       "      <td>1483</td>\n",
       "      <td>4445.481070</td>\n",
       "      <td>0.500000</td>\n",
       "      <td>2021-03-06</td>\n",
       "      <td>3</td>\n",
       "    </tr>\n",
       "    <tr>\n",
       "      <th>15029</th>\n",
       "      <td>1318</td>\n",
       "      <td>5894.633314</td>\n",
       "      <td>0.500000</td>\n",
       "      <td>2021-03-28</td>\n",
       "      <td>3</td>\n",
       "    </tr>\n",
       "    <tr>\n",
       "      <th>7437</th>\n",
       "      <td>766</td>\n",
       "      <td>4539.088310</td>\n",
       "      <td>0.500000</td>\n",
       "      <td>2021-12-22</td>\n",
       "      <td>12</td>\n",
       "    </tr>\n",
       "    <tr>\n",
       "      <th>12967</th>\n",
       "      <td>1172</td>\n",
       "      <td>4907.140751</td>\n",
       "      <td>0.500000</td>\n",
       "      <td>2021-12-19</td>\n",
       "      <td>12</td>\n",
       "    </tr>\n",
       "    <tr>\n",
       "      <th>...</th>\n",
       "      <td>...</td>\n",
       "      <td>...</td>\n",
       "      <td>...</td>\n",
       "      <td>...</td>\n",
       "      <td>...</td>\n",
       "    </tr>\n",
       "    <tr>\n",
       "      <th>6453</th>\n",
       "      <td>694</td>\n",
       "      <td>4210.871467</td>\n",
       "      <td>38.265229</td>\n",
       "      <td>2021-03-11</td>\n",
       "      <td>3</td>\n",
       "    </tr>\n",
       "    <tr>\n",
       "      <th>1998</th>\n",
       "      <td>216</td>\n",
       "      <td>4831.339954</td>\n",
       "      <td>38.352763</td>\n",
       "      <td>2021-05-11</td>\n",
       "      <td>5</td>\n",
       "    </tr>\n",
       "    <tr>\n",
       "      <th>2623</th>\n",
       "      <td>278</td>\n",
       "      <td>4754.433686</td>\n",
       "      <td>39.526602</td>\n",
       "      <td>2021-12-02</td>\n",
       "      <td>12</td>\n",
       "    </tr>\n",
       "    <tr>\n",
       "      <th>4709</th>\n",
       "      <td>507</td>\n",
       "      <td>4645.642671</td>\n",
       "      <td>39.873856</td>\n",
       "      <td>2021-01-15</td>\n",
       "      <td>1</td>\n",
       "    </tr>\n",
       "    <tr>\n",
       "      <th>4215</th>\n",
       "      <td>454</td>\n",
       "      <td>5137.327103</td>\n",
       "      <td>40.823963</td>\n",
       "      <td>2021-12-27</td>\n",
       "      <td>12</td>\n",
       "    </tr>\n",
       "  </tbody>\n",
       "</table>\n",
       "<p>18068 rows × 5 columns</p>\n",
       "</div>"
      ],
      "text/plain": [
       "       user_id     distance   duration       date  month\n",
       "12013     1102  4602.122401   0.500000 2021-08-01      8\n",
       "17314     1483  4445.481070   0.500000 2021-03-06      3\n",
       "15029     1318  5894.633314   0.500000 2021-03-28      3\n",
       "7437       766  4539.088310   0.500000 2021-12-22     12\n",
       "12967     1172  4907.140751   0.500000 2021-12-19     12\n",
       "...        ...          ...        ...        ...    ...\n",
       "6453       694  4210.871467  38.265229 2021-03-11      3\n",
       "1998       216  4831.339954  38.352763 2021-05-11      5\n",
       "2623       278  4754.433686  39.526602 2021-12-02     12\n",
       "4709       507  4645.642671  39.873856 2021-01-15      1\n",
       "4215       454  5137.327103  40.823963 2021-12-27     12\n",
       "\n",
       "[18068 rows x 5 columns]"
      ]
     },
     "metadata": {},
     "output_type": "display_data"
    },
    {
     "name": "stdout",
     "output_type": "stream",
     "text": [
      "       user_id     distance  duration       date  month\n",
      "12013     1102  4602.122401       0.5 2021-08-01      8\n",
      "17314     1483  4445.481070       0.5 2021-03-06      3\n",
      "15029     1318  5894.633314       0.5 2021-03-28      3\n",
      "7437       766  4539.088310       0.5 2021-12-22     12\n",
      "12967     1172  4907.140751       0.5 2021-12-19     12\n"
     ]
    },
    {
     "data": {
      "text/html": [
       "<div>\n",
       "<style scoped>\n",
       "    .dataframe tbody tr th:only-of-type {\n",
       "        vertical-align: middle;\n",
       "    }\n",
       "\n",
       "    .dataframe tbody tr th {\n",
       "        vertical-align: top;\n",
       "    }\n",
       "\n",
       "    .dataframe thead th {\n",
       "        text-align: right;\n",
       "    }\n",
       "</style>\n",
       "<table border=\"1\" class=\"dataframe\">\n",
       "  <thead>\n",
       "    <tr style=\"text-align: right;\">\n",
       "      <th></th>\n",
       "      <th>user_id</th>\n",
       "      <th>distance</th>\n",
       "      <th>duration</th>\n",
       "      <th>date</th>\n",
       "      <th>month</th>\n",
       "    </tr>\n",
       "  </thead>\n",
       "  <tbody>\n",
       "    <tr>\n",
       "      <th>12013</th>\n",
       "      <td>1102</td>\n",
       "      <td>4602.122401</td>\n",
       "      <td>0.500000</td>\n",
       "      <td>2021-08-01</td>\n",
       "      <td>8</td>\n",
       "    </tr>\n",
       "    <tr>\n",
       "      <th>17314</th>\n",
       "      <td>1483</td>\n",
       "      <td>4445.481070</td>\n",
       "      <td>0.500000</td>\n",
       "      <td>2021-03-06</td>\n",
       "      <td>3</td>\n",
       "    </tr>\n",
       "    <tr>\n",
       "      <th>15029</th>\n",
       "      <td>1318</td>\n",
       "      <td>5894.633314</td>\n",
       "      <td>0.500000</td>\n",
       "      <td>2021-03-28</td>\n",
       "      <td>3</td>\n",
       "    </tr>\n",
       "    <tr>\n",
       "      <th>7437</th>\n",
       "      <td>766</td>\n",
       "      <td>4539.088310</td>\n",
       "      <td>0.500000</td>\n",
       "      <td>2021-12-22</td>\n",
       "      <td>12</td>\n",
       "    </tr>\n",
       "    <tr>\n",
       "      <th>12967</th>\n",
       "      <td>1172</td>\n",
       "      <td>4907.140751</td>\n",
       "      <td>0.500000</td>\n",
       "      <td>2021-12-19</td>\n",
       "      <td>12</td>\n",
       "    </tr>\n",
       "    <tr>\n",
       "      <th>...</th>\n",
       "      <td>...</td>\n",
       "      <td>...</td>\n",
       "      <td>...</td>\n",
       "      <td>...</td>\n",
       "      <td>...</td>\n",
       "    </tr>\n",
       "    <tr>\n",
       "      <th>6453</th>\n",
       "      <td>694</td>\n",
       "      <td>4210.871467</td>\n",
       "      <td>38.265229</td>\n",
       "      <td>2021-03-11</td>\n",
       "      <td>3</td>\n",
       "    </tr>\n",
       "    <tr>\n",
       "      <th>1998</th>\n",
       "      <td>216</td>\n",
       "      <td>4831.339954</td>\n",
       "      <td>38.352763</td>\n",
       "      <td>2021-05-11</td>\n",
       "      <td>5</td>\n",
       "    </tr>\n",
       "    <tr>\n",
       "      <th>2623</th>\n",
       "      <td>278</td>\n",
       "      <td>4754.433686</td>\n",
       "      <td>39.526602</td>\n",
       "      <td>2021-12-02</td>\n",
       "      <td>12</td>\n",
       "    </tr>\n",
       "    <tr>\n",
       "      <th>4709</th>\n",
       "      <td>507</td>\n",
       "      <td>4645.642671</td>\n",
       "      <td>39.873856</td>\n",
       "      <td>2021-01-15</td>\n",
       "      <td>1</td>\n",
       "    </tr>\n",
       "    <tr>\n",
       "      <th>4215</th>\n",
       "      <td>454</td>\n",
       "      <td>5137.327103</td>\n",
       "      <td>40.823963</td>\n",
       "      <td>2021-12-27</td>\n",
       "      <td>12</td>\n",
       "    </tr>\n",
       "  </tbody>\n",
       "</table>\n",
       "<p>18068 rows × 5 columns</p>\n",
       "</div>"
      ],
      "text/plain": [
       "       user_id     distance   duration       date  month\n",
       "12013     1102  4602.122401   0.500000 2021-08-01      8\n",
       "17314     1483  4445.481070   0.500000 2021-03-06      3\n",
       "15029     1318  5894.633314   0.500000 2021-03-28      3\n",
       "7437       766  4539.088310   0.500000 2021-12-22     12\n",
       "12967     1172  4907.140751   0.500000 2021-12-19     12\n",
       "...        ...          ...        ...        ...    ...\n",
       "6453       694  4210.871467  38.265229 2021-03-11      3\n",
       "1998       216  4831.339954  38.352763 2021-05-11      5\n",
       "2623       278  4754.433686  39.526602 2021-12-02     12\n",
       "4709       507  4645.642671  39.873856 2021-01-15      1\n",
       "4215       454  5137.327103  40.823963 2021-12-27     12\n",
       "\n",
       "[18068 rows x 5 columns]"
      ]
     },
     "metadata": {},
     "output_type": "display_data"
    },
    {
     "data": {
      "image/png": "[encoded data removed]",
      "text/plain": [
       "<Figure size 1080x432 with 1 Axes>"
      ]
     },
     "metadata": {
      "needs_background": "light"
     },
     "output_type": "display_data"
    }
   ],
   "source": [
    "display(rides_go.sort_values(by=['duration']))\n",
    "print(rides_go.sort_values(by=['duration']).head())\n",
    "\n",
    "display(rides_go.sort_values(by=['duration']))\n",
    "\n",
    "plot = rides_go.plot(x='user_id', y='duration', kind='hist',\n",
    "                                 figsize=(15, 6), grid=True, alpha=1, bins=125,\n",
    "                                 title='Время поездки')\n",
    "plot.set_xlabel('Время поездки')\n",
    "plot.set_ylabel('Количество поездок')\n",
    "plot.legend([\"Количество пользователей\"], loc='upper left')\n",
    "plt.show()"
   ]
  },
  {
   "cell_type": "markdown",
   "id": "a4660a71",
   "metadata": {},
   "source": [
    "<b>🔄Комментарий студента:</b>Я не понял, куда исчез пик?</div>"
   ]
  },
  {
   "cell_type": "markdown",
   "id": "ab5b86a0",
   "metadata": {},
   "source": [
    "<div class=\"alert alert-block alert-warning\">\n",
    "<b>🔁Комментарий ревьюера 3:</b> \n",
    "    \n",
    "Он на месте)). Как мы видим, у поездок, продолжительностью 0.5 минут пройденные расстояния более 4 км. Значит продолжительность указана некорректно, следовательно мы по ним не сможем правильно расчитать выручку и их можно удалить.</div>"
   ]
  },
  {
   "cell_type": "markdown",
   "id": "3df41bc8",
   "metadata": {},
   "source": [
    "<b>🔄Комментарий студента:</b>Вчера во время решения пик почему-то исчез. Сначала я пользовался методом display для отображения отсортированной таблицы, в которой я увидел лишь одно значение - артефакт. Однако удалив его и вывев таблицу заново, я обнаружил что таких значений много. Странно. Решил вывести таблицу через head(). Артефакты исчезли. Обновил график - пик пропал... Видимо что-то подзависло. Удалим значения.</div>"
   ]
  },
  {
   "cell_type": "markdown",
   "id": "f4dcce51",
   "metadata": {
    "id": "5766e785"
   },
   "source": [
    "<a id='another_cell'></a>\n",
    "<div class=\"alert alert-block alert-danger\">\n",
    "<b>❌Комментарий ревьюера 4:</b> \n",
    "    \n",
    "Почему ты используешь для удаления этих строк drop_duplicates()? Выше я писал, что так делать не стоит. Удалять эти строки нужно фильтрацией по значению.</div>"
   ]
  },
  {
   "cell_type": "markdown",
   "id": "4eb7e146",
   "metadata": {
    "id": "5766e785"
   },
   "source": [
    "<div class=\"alert alert-block alert-danger\">\n",
    "<b>❌Комментарий ревьюера 5:</b> \n",
    "    \n",
    "Кажется ты пропустил комментарий выше.</div>"
   ]
  },
  {
   "cell_type": "markdown",
   "id": "b9ee1d7a",
   "metadata": {},
   "source": [
    "<b>🔄Комментарий студента:</b>Как мы выяснили, проблема со значениями с длительностью 0.5. Сейчас исправим.</div>"
   ]
  },
  {
   "cell_type": "markdown",
   "id": "3d68fccc",
   "metadata": {},
   "source": [
    "<div class=\"alert alert-block alert-success\">\n",
    "<b>✅Комментарий ревьюера 6:</b> Отлично, исправлено!👍  </div>"
   ]
  },
  {
   "cell_type": "code",
   "execution_count": 18,
   "id": "efa0f10e",
   "metadata": {},
   "outputs": [
    {
     "data": {
      "image/png": "[encoded data removed]",
      "text/plain": [
       "<Figure size 1080x432 with 1 Axes>"
      ]
     },
     "metadata": {
      "needs_background": "light"
     },
     "output_type": "display_data"
    }
   ],
   "source": [
    "rides_go = rides_go[rides_go.duration != 0.5]\n",
    "plot = rides_go.plot(x='user_id', y='duration', kind='hist',\n",
    "                                 figsize=(15, 6), grid=True, alpha=1, bins=125,\n",
    "                                 title='Время поездки')\n",
    "plot.set_xlabel('Время поездки')\n",
    "plot.set_ylabel('Количество поездок')\n",
    "plot.legend([\"Количество пользователей\"], loc='upper left')\n",
    "plt.show()"
   ]
  },
  {
   "cell_type": "markdown",
   "id": "8f8d2ca6",
   "metadata": {},
   "source": [
    "#### Шаг 4. Объединение данных"
   ]
  },
  {
   "cell_type": "markdown",
   "id": "863de353",
   "metadata": {},
   "source": [
    "Объединим три датафрейма. Датафрейм users_go и subscriptions_go объеденим по общему столбцу subscription_type. Получившийся датафрейм объеденим с rides_go по user_id. Проверим получившийся датафрейм методом head (display). Создадим 2 датафрейма, с подпиской и без."
   ]
  },
  {
   "cell_type": "code",
   "execution_count": 19,
   "id": "e8e78087",
   "metadata": {
    "scrolled": false
   },
   "outputs": [
    {
     "data": {
      "text/html": [
       "<div>\n",
       "<style scoped>\n",
       "    .dataframe tbody tr th:only-of-type {\n",
       "        vertical-align: middle;\n",
       "    }\n",
       "\n",
       "    .dataframe tbody tr th {\n",
       "        vertical-align: top;\n",
       "    }\n",
       "\n",
       "    .dataframe thead th {\n",
       "        text-align: right;\n",
       "    }\n",
       "</style>\n",
       "<table border=\"1\" class=\"dataframe\">\n",
       "  <thead>\n",
       "    <tr style=\"text-align: right;\">\n",
       "      <th></th>\n",
       "      <th>user_id</th>\n",
       "      <th>name</th>\n",
       "      <th>age</th>\n",
       "      <th>city</th>\n",
       "      <th>subscription_type</th>\n",
       "      <th>minute_price</th>\n",
       "      <th>start_ride_price</th>\n",
       "      <th>subscription_fee</th>\n",
       "      <th>distance</th>\n",
       "      <th>duration</th>\n",
       "      <th>date</th>\n",
       "      <th>month</th>\n",
       "    </tr>\n",
       "  </thead>\n",
       "  <tbody>\n",
       "    <tr>\n",
       "      <th>0</th>\n",
       "      <td>1</td>\n",
       "      <td>Кира</td>\n",
       "      <td>22</td>\n",
       "      <td>Тюмень</td>\n",
       "      <td>ultra</td>\n",
       "      <td>6</td>\n",
       "      <td>0</td>\n",
       "      <td>199</td>\n",
       "      <td>4409.919140</td>\n",
       "      <td>25.599769</td>\n",
       "      <td>2021-01-01</td>\n",
       "      <td>1</td>\n",
       "    </tr>\n",
       "    <tr>\n",
       "      <th>1</th>\n",
       "      <td>1</td>\n",
       "      <td>Кира</td>\n",
       "      <td>22</td>\n",
       "      <td>Тюмень</td>\n",
       "      <td>ultra</td>\n",
       "      <td>6</td>\n",
       "      <td>0</td>\n",
       "      <td>199</td>\n",
       "      <td>2617.592153</td>\n",
       "      <td>15.816871</td>\n",
       "      <td>2021-01-18</td>\n",
       "      <td>1</td>\n",
       "    </tr>\n",
       "    <tr>\n",
       "      <th>2</th>\n",
       "      <td>1</td>\n",
       "      <td>Кира</td>\n",
       "      <td>22</td>\n",
       "      <td>Тюмень</td>\n",
       "      <td>ultra</td>\n",
       "      <td>6</td>\n",
       "      <td>0</td>\n",
       "      <td>199</td>\n",
       "      <td>754.159807</td>\n",
       "      <td>6.232113</td>\n",
       "      <td>2021-04-20</td>\n",
       "      <td>4</td>\n",
       "    </tr>\n",
       "    <tr>\n",
       "      <th>3</th>\n",
       "      <td>1</td>\n",
       "      <td>Кира</td>\n",
       "      <td>22</td>\n",
       "      <td>Тюмень</td>\n",
       "      <td>ultra</td>\n",
       "      <td>6</td>\n",
       "      <td>0</td>\n",
       "      <td>199</td>\n",
       "      <td>2694.783254</td>\n",
       "      <td>18.511000</td>\n",
       "      <td>2021-08-11</td>\n",
       "      <td>8</td>\n",
       "    </tr>\n",
       "    <tr>\n",
       "      <th>4</th>\n",
       "      <td>1</td>\n",
       "      <td>Кира</td>\n",
       "      <td>22</td>\n",
       "      <td>Тюмень</td>\n",
       "      <td>ultra</td>\n",
       "      <td>6</td>\n",
       "      <td>0</td>\n",
       "      <td>199</td>\n",
       "      <td>4028.687306</td>\n",
       "      <td>26.265803</td>\n",
       "      <td>2021-08-28</td>\n",
       "      <td>8</td>\n",
       "    </tr>\n",
       "    <tr>\n",
       "      <th>...</th>\n",
       "      <td>...</td>\n",
       "      <td>...</td>\n",
       "      <td>...</td>\n",
       "      <td>...</td>\n",
       "      <td>...</td>\n",
       "      <td>...</td>\n",
       "      <td>...</td>\n",
       "      <td>...</td>\n",
       "      <td>...</td>\n",
       "      <td>...</td>\n",
       "      <td>...</td>\n",
       "      <td>...</td>\n",
       "    </tr>\n",
       "    <tr>\n",
       "      <th>17968</th>\n",
       "      <td>1534</td>\n",
       "      <td>Альберт</td>\n",
       "      <td>25</td>\n",
       "      <td>Краснодар</td>\n",
       "      <td>free</td>\n",
       "      <td>8</td>\n",
       "      <td>50</td>\n",
       "      <td>0</td>\n",
       "      <td>3781.098080</td>\n",
       "      <td>19.822962</td>\n",
       "      <td>2021-11-04</td>\n",
       "      <td>11</td>\n",
       "    </tr>\n",
       "    <tr>\n",
       "      <th>17969</th>\n",
       "      <td>1534</td>\n",
       "      <td>Альберт</td>\n",
       "      <td>25</td>\n",
       "      <td>Краснодар</td>\n",
       "      <td>free</td>\n",
       "      <td>8</td>\n",
       "      <td>50</td>\n",
       "      <td>0</td>\n",
       "      <td>2840.423057</td>\n",
       "      <td>21.409799</td>\n",
       "      <td>2021-11-16</td>\n",
       "      <td>11</td>\n",
       "    </tr>\n",
       "    <tr>\n",
       "      <th>17970</th>\n",
       "      <td>1534</td>\n",
       "      <td>Альберт</td>\n",
       "      <td>25</td>\n",
       "      <td>Краснодар</td>\n",
       "      <td>free</td>\n",
       "      <td>8</td>\n",
       "      <td>50</td>\n",
       "      <td>0</td>\n",
       "      <td>3826.185507</td>\n",
       "      <td>18.435051</td>\n",
       "      <td>2021-11-18</td>\n",
       "      <td>11</td>\n",
       "    </tr>\n",
       "    <tr>\n",
       "      <th>17971</th>\n",
       "      <td>1534</td>\n",
       "      <td>Альберт</td>\n",
       "      <td>25</td>\n",
       "      <td>Краснодар</td>\n",
       "      <td>free</td>\n",
       "      <td>8</td>\n",
       "      <td>50</td>\n",
       "      <td>0</td>\n",
       "      <td>2902.308661</td>\n",
       "      <td>16.674362</td>\n",
       "      <td>2021-11-27</td>\n",
       "      <td>11</td>\n",
       "    </tr>\n",
       "    <tr>\n",
       "      <th>17972</th>\n",
       "      <td>1534</td>\n",
       "      <td>Альберт</td>\n",
       "      <td>25</td>\n",
       "      <td>Краснодар</td>\n",
       "      <td>free</td>\n",
       "      <td>8</td>\n",
       "      <td>50</td>\n",
       "      <td>0</td>\n",
       "      <td>2371.711192</td>\n",
       "      <td>15.893917</td>\n",
       "      <td>2021-12-29</td>\n",
       "      <td>12</td>\n",
       "    </tr>\n",
       "  </tbody>\n",
       "</table>\n",
       "<p>17973 rows × 12 columns</p>\n",
       "</div>"
      ],
      "text/plain": [
       "       user_id     name  age       city subscription_type  minute_price  \\\n",
       "0            1     Кира   22     Тюмень             ultra             6   \n",
       "1            1     Кира   22     Тюмень             ultra             6   \n",
       "2            1     Кира   22     Тюмень             ultra             6   \n",
       "3            1     Кира   22     Тюмень             ultra             6   \n",
       "4            1     Кира   22     Тюмень             ultra             6   \n",
       "...        ...      ...  ...        ...               ...           ...   \n",
       "17968     1534  Альберт   25  Краснодар              free             8   \n",
       "17969     1534  Альберт   25  Краснодар              free             8   \n",
       "17970     1534  Альберт   25  Краснодар              free             8   \n",
       "17971     1534  Альберт   25  Краснодар              free             8   \n",
       "17972     1534  Альберт   25  Краснодар              free             8   \n",
       "\n",
       "       start_ride_price  subscription_fee     distance   duration       date  \\\n",
       "0                     0               199  4409.919140  25.599769 2021-01-01   \n",
       "1                     0               199  2617.592153  15.816871 2021-01-18   \n",
       "2                     0               199   754.159807   6.232113 2021-04-20   \n",
       "3                     0               199  2694.783254  18.511000 2021-08-11   \n",
       "4                     0               199  4028.687306  26.265803 2021-08-28   \n",
       "...                 ...               ...          ...        ...        ...   \n",
       "17968                50                 0  3781.098080  19.822962 2021-11-04   \n",
       "17969                50                 0  2840.423057  21.409799 2021-11-16   \n",
       "17970                50                 0  3826.185507  18.435051 2021-11-18   \n",
       "17971                50                 0  2902.308661  16.674362 2021-11-27   \n",
       "17972                50                 0  2371.711192  15.893917 2021-12-29   \n",
       "\n",
       "       month  \n",
       "0          1  \n",
       "1          1  \n",
       "2          4  \n",
       "3          8  \n",
       "4          8  \n",
       "...      ...  \n",
       "17968     11  \n",
       "17969     11  \n",
       "17970     11  \n",
       "17971     11  \n",
       "17972     12  \n",
       "\n",
       "[17973 rows x 12 columns]"
      ]
     },
     "metadata": {},
     "output_type": "display_data"
    },
    {
     "data": {
      "text/html": [
       "<div>\n",
       "<style scoped>\n",
       "    .dataframe tbody tr th:only-of-type {\n",
       "        vertical-align: middle;\n",
       "    }\n",
       "\n",
       "    .dataframe tbody tr th {\n",
       "        vertical-align: top;\n",
       "    }\n",
       "\n",
       "    .dataframe thead th {\n",
       "        text-align: right;\n",
       "    }\n",
       "</style>\n",
       "<table border=\"1\" class=\"dataframe\">\n",
       "  <thead>\n",
       "    <tr style=\"text-align: right;\">\n",
       "      <th></th>\n",
       "      <th>user_id</th>\n",
       "      <th>name</th>\n",
       "      <th>age</th>\n",
       "      <th>city</th>\n",
       "      <th>subscription_type</th>\n",
       "      <th>minute_price</th>\n",
       "      <th>start_ride_price</th>\n",
       "      <th>subscription_fee</th>\n",
       "      <th>distance</th>\n",
       "      <th>duration</th>\n",
       "      <th>date</th>\n",
       "      <th>month</th>\n",
       "    </tr>\n",
       "  </thead>\n",
       "  <tbody>\n",
       "    <tr>\n",
       "      <th>0</th>\n",
       "      <td>1</td>\n",
       "      <td>Кира</td>\n",
       "      <td>22</td>\n",
       "      <td>Тюмень</td>\n",
       "      <td>ultra</td>\n",
       "      <td>6</td>\n",
       "      <td>0</td>\n",
       "      <td>199</td>\n",
       "      <td>4409.919140</td>\n",
       "      <td>25.599769</td>\n",
       "      <td>2021-01-01</td>\n",
       "      <td>1</td>\n",
       "    </tr>\n",
       "    <tr>\n",
       "      <th>1</th>\n",
       "      <td>1</td>\n",
       "      <td>Кира</td>\n",
       "      <td>22</td>\n",
       "      <td>Тюмень</td>\n",
       "      <td>ultra</td>\n",
       "      <td>6</td>\n",
       "      <td>0</td>\n",
       "      <td>199</td>\n",
       "      <td>2617.592153</td>\n",
       "      <td>15.816871</td>\n",
       "      <td>2021-01-18</td>\n",
       "      <td>1</td>\n",
       "    </tr>\n",
       "    <tr>\n",
       "      <th>2</th>\n",
       "      <td>1</td>\n",
       "      <td>Кира</td>\n",
       "      <td>22</td>\n",
       "      <td>Тюмень</td>\n",
       "      <td>ultra</td>\n",
       "      <td>6</td>\n",
       "      <td>0</td>\n",
       "      <td>199</td>\n",
       "      <td>754.159807</td>\n",
       "      <td>6.232113</td>\n",
       "      <td>2021-04-20</td>\n",
       "      <td>4</td>\n",
       "    </tr>\n",
       "    <tr>\n",
       "      <th>3</th>\n",
       "      <td>1</td>\n",
       "      <td>Кира</td>\n",
       "      <td>22</td>\n",
       "      <td>Тюмень</td>\n",
       "      <td>ultra</td>\n",
       "      <td>6</td>\n",
       "      <td>0</td>\n",
       "      <td>199</td>\n",
       "      <td>2694.783254</td>\n",
       "      <td>18.511000</td>\n",
       "      <td>2021-08-11</td>\n",
       "      <td>8</td>\n",
       "    </tr>\n",
       "    <tr>\n",
       "      <th>4</th>\n",
       "      <td>1</td>\n",
       "      <td>Кира</td>\n",
       "      <td>22</td>\n",
       "      <td>Тюмень</td>\n",
       "      <td>ultra</td>\n",
       "      <td>6</td>\n",
       "      <td>0</td>\n",
       "      <td>199</td>\n",
       "      <td>4028.687306</td>\n",
       "      <td>26.265803</td>\n",
       "      <td>2021-08-28</td>\n",
       "      <td>8</td>\n",
       "    </tr>\n",
       "    <tr>\n",
       "      <th>...</th>\n",
       "      <td>...</td>\n",
       "      <td>...</td>\n",
       "      <td>...</td>\n",
       "      <td>...</td>\n",
       "      <td>...</td>\n",
       "      <td>...</td>\n",
       "      <td>...</td>\n",
       "      <td>...</td>\n",
       "      <td>...</td>\n",
       "      <td>...</td>\n",
       "      <td>...</td>\n",
       "      <td>...</td>\n",
       "    </tr>\n",
       "    <tr>\n",
       "      <th>6495</th>\n",
       "      <td>699</td>\n",
       "      <td>Оксана</td>\n",
       "      <td>22</td>\n",
       "      <td>Москва</td>\n",
       "      <td>ultra</td>\n",
       "      <td>6</td>\n",
       "      <td>0</td>\n",
       "      <td>199</td>\n",
       "      <td>3973.046497</td>\n",
       "      <td>24.671163</td>\n",
       "      <td>2021-08-29</td>\n",
       "      <td>8</td>\n",
       "    </tr>\n",
       "    <tr>\n",
       "      <th>6496</th>\n",
       "      <td>699</td>\n",
       "      <td>Оксана</td>\n",
       "      <td>22</td>\n",
       "      <td>Москва</td>\n",
       "      <td>ultra</td>\n",
       "      <td>6</td>\n",
       "      <td>0</td>\n",
       "      <td>199</td>\n",
       "      <td>3288.702563</td>\n",
       "      <td>15.892886</td>\n",
       "      <td>2021-09-12</td>\n",
       "      <td>9</td>\n",
       "    </tr>\n",
       "    <tr>\n",
       "      <th>6497</th>\n",
       "      <td>699</td>\n",
       "      <td>Оксана</td>\n",
       "      <td>22</td>\n",
       "      <td>Москва</td>\n",
       "      <td>ultra</td>\n",
       "      <td>6</td>\n",
       "      <td>0</td>\n",
       "      <td>199</td>\n",
       "      <td>3076.159348</td>\n",
       "      <td>14.389525</td>\n",
       "      <td>2021-09-26</td>\n",
       "      <td>9</td>\n",
       "    </tr>\n",
       "    <tr>\n",
       "      <th>6498</th>\n",
       "      <td>699</td>\n",
       "      <td>Оксана</td>\n",
       "      <td>22</td>\n",
       "      <td>Москва</td>\n",
       "      <td>ultra</td>\n",
       "      <td>6</td>\n",
       "      <td>0</td>\n",
       "      <td>199</td>\n",
       "      <td>4707.845501</td>\n",
       "      <td>15.839579</td>\n",
       "      <td>2021-10-17</td>\n",
       "      <td>10</td>\n",
       "    </tr>\n",
       "    <tr>\n",
       "      <th>6499</th>\n",
       "      <td>699</td>\n",
       "      <td>Оксана</td>\n",
       "      <td>22</td>\n",
       "      <td>Москва</td>\n",
       "      <td>ultra</td>\n",
       "      <td>6</td>\n",
       "      <td>0</td>\n",
       "      <td>199</td>\n",
       "      <td>3202.890770</td>\n",
       "      <td>25.217345</td>\n",
       "      <td>2021-12-03</td>\n",
       "      <td>12</td>\n",
       "    </tr>\n",
       "  </tbody>\n",
       "</table>\n",
       "<p>6500 rows × 12 columns</p>\n",
       "</div>"
      ],
      "text/plain": [
       "      user_id    name  age    city subscription_type  minute_price  \\\n",
       "0           1    Кира   22  Тюмень             ultra             6   \n",
       "1           1    Кира   22  Тюмень             ultra             6   \n",
       "2           1    Кира   22  Тюмень             ultra             6   \n",
       "3           1    Кира   22  Тюмень             ultra             6   \n",
       "4           1    Кира   22  Тюмень             ultra             6   \n",
       "...       ...     ...  ...     ...               ...           ...   \n",
       "6495      699  Оксана   22  Москва             ultra             6   \n",
       "6496      699  Оксана   22  Москва             ultra             6   \n",
       "6497      699  Оксана   22  Москва             ultra             6   \n",
       "6498      699  Оксана   22  Москва             ultra             6   \n",
       "6499      699  Оксана   22  Москва             ultra             6   \n",
       "\n",
       "      start_ride_price  subscription_fee     distance   duration       date  \\\n",
       "0                    0               199  4409.919140  25.599769 2021-01-01   \n",
       "1                    0               199  2617.592153  15.816871 2021-01-18   \n",
       "2                    0               199   754.159807   6.232113 2021-04-20   \n",
       "3                    0               199  2694.783254  18.511000 2021-08-11   \n",
       "4                    0               199  4028.687306  26.265803 2021-08-28   \n",
       "...                ...               ...          ...        ...        ...   \n",
       "6495                 0               199  3973.046497  24.671163 2021-08-29   \n",
       "6496                 0               199  3288.702563  15.892886 2021-09-12   \n",
       "6497                 0               199  3076.159348  14.389525 2021-09-26   \n",
       "6498                 0               199  4707.845501  15.839579 2021-10-17   \n",
       "6499                 0               199  3202.890770  25.217345 2021-12-03   \n",
       "\n",
       "      month  \n",
       "0         1  \n",
       "1         1  \n",
       "2         4  \n",
       "3         8  \n",
       "4         8  \n",
       "...     ...  \n",
       "6495      8  \n",
       "6496      9  \n",
       "6497      9  \n",
       "6498     10  \n",
       "6499     12  \n",
       "\n",
       "[6500 rows x 12 columns]"
      ]
     },
     "metadata": {},
     "output_type": "display_data"
    },
    {
     "data": {
      "text/html": [
       "<div>\n",
       "<style scoped>\n",
       "    .dataframe tbody tr th:only-of-type {\n",
       "        vertical-align: middle;\n",
       "    }\n",
       "\n",
       "    .dataframe tbody tr th {\n",
       "        vertical-align: top;\n",
       "    }\n",
       "\n",
       "    .dataframe thead th {\n",
       "        text-align: right;\n",
       "    }\n",
       "</style>\n",
       "<table border=\"1\" class=\"dataframe\">\n",
       "  <thead>\n",
       "    <tr style=\"text-align: right;\">\n",
       "      <th></th>\n",
       "      <th>user_id</th>\n",
       "      <th>name</th>\n",
       "      <th>age</th>\n",
       "      <th>city</th>\n",
       "      <th>subscription_type</th>\n",
       "      <th>minute_price</th>\n",
       "      <th>start_ride_price</th>\n",
       "      <th>subscription_fee</th>\n",
       "      <th>distance</th>\n",
       "      <th>duration</th>\n",
       "      <th>date</th>\n",
       "      <th>month</th>\n",
       "    </tr>\n",
       "  </thead>\n",
       "  <tbody>\n",
       "    <tr>\n",
       "      <th>6500</th>\n",
       "      <td>700</td>\n",
       "      <td>Айдар</td>\n",
       "      <td>22</td>\n",
       "      <td>Омск</td>\n",
       "      <td>free</td>\n",
       "      <td>8</td>\n",
       "      <td>50</td>\n",
       "      <td>0</td>\n",
       "      <td>2515.690719</td>\n",
       "      <td>14.944286</td>\n",
       "      <td>2021-01-02</td>\n",
       "      <td>1</td>\n",
       "    </tr>\n",
       "    <tr>\n",
       "      <th>6501</th>\n",
       "      <td>700</td>\n",
       "      <td>Айдар</td>\n",
       "      <td>22</td>\n",
       "      <td>Омск</td>\n",
       "      <td>free</td>\n",
       "      <td>8</td>\n",
       "      <td>50</td>\n",
       "      <td>0</td>\n",
       "      <td>846.932642</td>\n",
       "      <td>16.234663</td>\n",
       "      <td>2021-02-01</td>\n",
       "      <td>2</td>\n",
       "    </tr>\n",
       "    <tr>\n",
       "      <th>6502</th>\n",
       "      <td>700</td>\n",
       "      <td>Айдар</td>\n",
       "      <td>22</td>\n",
       "      <td>Омск</td>\n",
       "      <td>free</td>\n",
       "      <td>8</td>\n",
       "      <td>50</td>\n",
       "      <td>0</td>\n",
       "      <td>4004.434142</td>\n",
       "      <td>20.016628</td>\n",
       "      <td>2021-02-04</td>\n",
       "      <td>2</td>\n",
       "    </tr>\n",
       "    <tr>\n",
       "      <th>6503</th>\n",
       "      <td>700</td>\n",
       "      <td>Айдар</td>\n",
       "      <td>22</td>\n",
       "      <td>Омск</td>\n",
       "      <td>free</td>\n",
       "      <td>8</td>\n",
       "      <td>50</td>\n",
       "      <td>0</td>\n",
       "      <td>1205.911290</td>\n",
       "      <td>9.782872</td>\n",
       "      <td>2021-02-10</td>\n",
       "      <td>2</td>\n",
       "    </tr>\n",
       "    <tr>\n",
       "      <th>6504</th>\n",
       "      <td>700</td>\n",
       "      <td>Айдар</td>\n",
       "      <td>22</td>\n",
       "      <td>Омск</td>\n",
       "      <td>free</td>\n",
       "      <td>8</td>\n",
       "      <td>50</td>\n",
       "      <td>0</td>\n",
       "      <td>3047.379435</td>\n",
       "      <td>17.427673</td>\n",
       "      <td>2021-02-14</td>\n",
       "      <td>2</td>\n",
       "    </tr>\n",
       "    <tr>\n",
       "      <th>...</th>\n",
       "      <td>...</td>\n",
       "      <td>...</td>\n",
       "      <td>...</td>\n",
       "      <td>...</td>\n",
       "      <td>...</td>\n",
       "      <td>...</td>\n",
       "      <td>...</td>\n",
       "      <td>...</td>\n",
       "      <td>...</td>\n",
       "      <td>...</td>\n",
       "      <td>...</td>\n",
       "      <td>...</td>\n",
       "    </tr>\n",
       "    <tr>\n",
       "      <th>17968</th>\n",
       "      <td>1534</td>\n",
       "      <td>Альберт</td>\n",
       "      <td>25</td>\n",
       "      <td>Краснодар</td>\n",
       "      <td>free</td>\n",
       "      <td>8</td>\n",
       "      <td>50</td>\n",
       "      <td>0</td>\n",
       "      <td>3781.098080</td>\n",
       "      <td>19.822962</td>\n",
       "      <td>2021-11-04</td>\n",
       "      <td>11</td>\n",
       "    </tr>\n",
       "    <tr>\n",
       "      <th>17969</th>\n",
       "      <td>1534</td>\n",
       "      <td>Альберт</td>\n",
       "      <td>25</td>\n",
       "      <td>Краснодар</td>\n",
       "      <td>free</td>\n",
       "      <td>8</td>\n",
       "      <td>50</td>\n",
       "      <td>0</td>\n",
       "      <td>2840.423057</td>\n",
       "      <td>21.409799</td>\n",
       "      <td>2021-11-16</td>\n",
       "      <td>11</td>\n",
       "    </tr>\n",
       "    <tr>\n",
       "      <th>17970</th>\n",
       "      <td>1534</td>\n",
       "      <td>Альберт</td>\n",
       "      <td>25</td>\n",
       "      <td>Краснодар</td>\n",
       "      <td>free</td>\n",
       "      <td>8</td>\n",
       "      <td>50</td>\n",
       "      <td>0</td>\n",
       "      <td>3826.185507</td>\n",
       "      <td>18.435051</td>\n",
       "      <td>2021-11-18</td>\n",
       "      <td>11</td>\n",
       "    </tr>\n",
       "    <tr>\n",
       "      <th>17971</th>\n",
       "      <td>1534</td>\n",
       "      <td>Альберт</td>\n",
       "      <td>25</td>\n",
       "      <td>Краснодар</td>\n",
       "      <td>free</td>\n",
       "      <td>8</td>\n",
       "      <td>50</td>\n",
       "      <td>0</td>\n",
       "      <td>2902.308661</td>\n",
       "      <td>16.674362</td>\n",
       "      <td>2021-11-27</td>\n",
       "      <td>11</td>\n",
       "    </tr>\n",
       "    <tr>\n",
       "      <th>17972</th>\n",
       "      <td>1534</td>\n",
       "      <td>Альберт</td>\n",
       "      <td>25</td>\n",
       "      <td>Краснодар</td>\n",
       "      <td>free</td>\n",
       "      <td>8</td>\n",
       "      <td>50</td>\n",
       "      <td>0</td>\n",
       "      <td>2371.711192</td>\n",
       "      <td>15.893917</td>\n",
       "      <td>2021-12-29</td>\n",
       "      <td>12</td>\n",
       "    </tr>\n",
       "  </tbody>\n",
       "</table>\n",
       "<p>11473 rows × 12 columns</p>\n",
       "</div>"
      ],
      "text/plain": [
       "       user_id     name  age       city subscription_type  minute_price  \\\n",
       "6500       700    Айдар   22       Омск              free             8   \n",
       "6501       700    Айдар   22       Омск              free             8   \n",
       "6502       700    Айдар   22       Омск              free             8   \n",
       "6503       700    Айдар   22       Омск              free             8   \n",
       "6504       700    Айдар   22       Омск              free             8   \n",
       "...        ...      ...  ...        ...               ...           ...   \n",
       "17968     1534  Альберт   25  Краснодар              free             8   \n",
       "17969     1534  Альберт   25  Краснодар              free             8   \n",
       "17970     1534  Альберт   25  Краснодар              free             8   \n",
       "17971     1534  Альберт   25  Краснодар              free             8   \n",
       "17972     1534  Альберт   25  Краснодар              free             8   \n",
       "\n",
       "       start_ride_price  subscription_fee     distance   duration       date  \\\n",
       "6500                 50                 0  2515.690719  14.944286 2021-01-02   \n",
       "6501                 50                 0   846.932642  16.234663 2021-02-01   \n",
       "6502                 50                 0  4004.434142  20.016628 2021-02-04   \n",
       "6503                 50                 0  1205.911290   9.782872 2021-02-10   \n",
       "6504                 50                 0  3047.379435  17.427673 2021-02-14   \n",
       "...                 ...               ...          ...        ...        ...   \n",
       "17968                50                 0  3781.098080  19.822962 2021-11-04   \n",
       "17969                50                 0  2840.423057  21.409799 2021-11-16   \n",
       "17970                50                 0  3826.185507  18.435051 2021-11-18   \n",
       "17971                50                 0  2902.308661  16.674362 2021-11-27   \n",
       "17972                50                 0  2371.711192  15.893917 2021-12-29   \n",
       "\n",
       "       month  \n",
       "6500       1  \n",
       "6501       2  \n",
       "6502       2  \n",
       "6503       2  \n",
       "6504       2  \n",
       "...      ...  \n",
       "17968     11  \n",
       "17969     11  \n",
       "17970     11  \n",
       "17971     11  \n",
       "17972     12  \n",
       "\n",
       "[11473 rows x 12 columns]"
      ]
     },
     "metadata": {},
     "output_type": "display_data"
    }
   ],
   "source": [
    "full_data = users_go.merge(subscriptions_go, on='subscription_type', how='left')\n",
    "full_data = full_data.merge(rides_go, on='user_id', how='left')\n",
    "display(full_data)\n",
    "\n",
    "rich_users = full_data.loc[full_data['subscription_type'] == 'ultra']\n",
    "display(rich_users)\n",
    "\n",
    "poor_users = full_data.loc[full_data['subscription_type'] == 'free']\n",
    "display(poor_users)"
   ]
  },
  {
   "cell_type": "markdown",
   "id": "7d8b7a7c",
   "metadata": {},
   "source": [
    "<div class=\"alert alert-block alert-warning\">\n",
    "<b>🔁Комментарий ревьюера:</b>\n",
    "\n",
    "Тут стоит проверить количество строк полученной таблицы и сравнить ее с количеством строк таблиц до объединения, чтобы убедиться что мы ничего не потеряли.\n",
    "\n",
    "</div>"
   ]
  },
  {
   "cell_type": "markdown",
   "id": "0d6d5b23",
   "metadata": {},
   "source": [
    "<div class=\"alert alert-block alert-success\">\n",
    "<b>✅Комментарий ревьюера 2:</b> Отлично, исправлено!👍  </div>"
   ]
  },
  {
   "cell_type": "markdown",
   "id": "1358dd97",
   "metadata": {},
   "source": [
    "<b>🔄Комментарий студента:</b>Проверяем.</div>"
   ]
  },
  {
   "cell_type": "code",
   "execution_count": 20,
   "id": "a7c19128",
   "metadata": {
    "scrolled": true
   },
   "outputs": [
    {
     "name": "stdout",
     "output_type": "stream",
     "text": [
      "17973\n",
      "17973\n"
     ]
    }
   ],
   "source": [
    "print(len(full_data))\n",
    "print(len(rides_go))"
   ]
  },
  {
   "cell_type": "markdown",
   "id": "fc0c7dd3",
   "metadata": {},
   "source": [
    "Визуализируем информацию о расстоянии и времени поездок для пользователей обеих категорий."
   ]
  },
  {
   "cell_type": "markdown",
   "id": "f5b07f9f",
   "metadata": {},
   "source": [
    "Для пользователей без подписки:"
   ]
  },
  {
   "cell_type": "code",
   "execution_count": 21,
   "id": "e462bc65",
   "metadata": {
    "scrolled": false
   },
   "outputs": [
    {
     "data": {
      "image/png": "[encoded data removed]",
      "text/plain": [
       "<Figure size 1080x432 with 1 Axes>"
      ]
     },
     "metadata": {
      "needs_background": "light"
     },
     "output_type": "display_data"
    }
   ],
   "source": [
    "plot = poor_users.plot(x='user_id', y='distance', kind='hist',\n",
    "                                 figsize=(15, 6), grid=True, alpha=1, bins=125,\n",
    "                                 title='Пройденное расстояние без подписки')\n",
    "plot.set_xlabel('Пройденное расстояние')\n",
    "plot.set_ylabel('Количество поездок')\n",
    "plot.legend([\"Количество пользователей\"], loc='upper left')\n",
    "plt.show()"
   ]
  },
  {
   "cell_type": "code",
   "execution_count": 22,
   "id": "02f93964",
   "metadata": {
    "scrolled": true
   },
   "outputs": [
    {
     "data": {
      "image/png": "[encoded data removed]",
      "text/plain": [
       "<Figure size 1080x432 with 1 Axes>"
      ]
     },
     "metadata": {
      "needs_background": "light"
     },
     "output_type": "display_data"
    }
   ],
   "source": [
    "plot = poor_users.plot(x='user_id', y='duration', kind='hist',\n",
    "                                 figsize=(15, 6), grid=True, alpha=1, bins=125,\n",
    "                                 title='Время поездки без подписки')\n",
    "plot.set_xlabel('Время поездки')\n",
    "plot.set_ylabel('Количество поездок')\n",
    "plot.legend([\"Количество пользователей\"], loc='upper left')\n",
    "plt.show()"
   ]
  },
  {
   "cell_type": "markdown",
   "id": "88842cc5",
   "metadata": {},
   "source": [
    "Для пользователей с подпиской:"
   ]
  },
  {
   "cell_type": "code",
   "execution_count": 23,
   "id": "f727a5fc",
   "metadata": {
    "scrolled": false
   },
   "outputs": [
    {
     "data": {
      "image/png": "[encoded data removed]",
      "text/plain": [
       "<Figure size 1080x432 with 1 Axes>"
      ]
     },
     "metadata": {
      "needs_background": "light"
     },
     "output_type": "display_data"
    }
   ],
   "source": [
    "plot = rich_users.plot(x='user_id', y='distance', kind='hist',\n",
    "                                 figsize=(15, 6), grid=True, alpha=1, bins=125,\n",
    "                                 title='Пройденное расстояние с подпиской')\n",
    "plot.set_xlabel('Пройденное расстояние')\n",
    "plot.set_ylabel('Количество поездок')\n",
    "plot.legend([\"Количество пользователей\"], loc='upper left')\n",
    "plt.show()"
   ]
  },
  {
   "cell_type": "code",
   "execution_count": 24,
   "id": "1da20b47",
   "metadata": {
    "scrolled": true
   },
   "outputs": [
    {
     "data": {
      "image/png": "[encoded data removed]",
      "text/plain": [
       "<Figure size 1080x432 with 1 Axes>"
      ]
     },
     "metadata": {
      "needs_background": "light"
     },
     "output_type": "display_data"
    }
   ],
   "source": [
    "plot = rich_users.plot(x='user_id', y='duration', kind='hist',\n",
    "                                 figsize=(15, 6), grid=True, alpha=1, bins=125,\n",
    "                                 title='Время поездки с подпиской')\n",
    "plot.set_xlabel('Время поездки')\n",
    "plot.set_ylabel('Количество поездок')\n",
    "plot.legend([\"Количество пользователей\"], loc='upper left')\n",
    "plt.show()"
   ]
  },
  {
   "cell_type": "markdown",
   "id": "f87bb7ee",
   "metadata": {},
   "source": [
    "<div class=\"alert alert-block alert-warning\">\n",
    "<b>🔁Комментарий ревьюера:</b> \n",
    "\n",
    "Распределения для обеих групп пользователей можно объединить для наглядности, наложив их друг на друга.</div>"
   ]
  },
  {
   "cell_type": "markdown",
   "id": "0419ab4b",
   "metadata": {},
   "source": [
    "<div class=\"alert alert-block alert-success\">\n",
    "<b>✅Комментарий ревьюера 2:</b> Отлично, исправлено!👍  </div>"
   ]
  },
  {
   "cell_type": "markdown",
   "id": "5344bf67",
   "metadata": {},
   "source": [
    "<b>🔄Комментарий студента:</b>Делаем.</div>"
   ]
  },
  {
   "cell_type": "code",
   "execution_count": 25,
   "id": "202eba82",
   "metadata": {},
   "outputs": [
    {
     "data": {
      "image/png": "[encoded data removed]",
      "text/plain": [
       "<Figure size 1080x432 with 1 Axes>"
      ]
     },
     "metadata": {
      "needs_background": "light"
     },
     "output_type": "display_data"
    }
   ],
   "source": [
    "plot1 = poor_users.plot(x='user_id', y='duration', kind='hist',\n",
    "                                 figsize=(15, 6), grid=True, alpha=0.8, bins=125,\n",
    "                                 title='Время поездки без подписки')\n",
    "\n",
    "\n",
    "plot = rich_users.plot(x='user_id', y='duration', kind='hist',\n",
    "                                 figsize=(15, 6), grid=True, alpha=0.8, bins=125,\n",
    "                                 title='Время поездки с подпиской', ax=plot1)\n",
    "plot.set_xlabel('Время поездки')\n",
    "plot.set_ylabel('Количество поездок')\n",
    "plot.legend([\"Количество пользователей без подписки\", \"Количество пользователей с подпиской\"], loc='upper left')\n",
    "\n",
    "\n",
    "plt.show()"
   ]
  },
  {
   "cell_type": "code",
   "execution_count": 26,
   "id": "08b7a59d",
   "metadata": {},
   "outputs": [
    {
     "data": {
      "image/png": "[encoded data removed]",
      "text/plain": [
       "<Figure size 1080x432 with 1 Axes>"
      ]
     },
     "metadata": {
      "needs_background": "light"
     },
     "output_type": "display_data"
    }
   ],
   "source": [
    "plot = poor_users.plot(x='user_id', y='distance', kind='hist',\n",
    "                                 figsize=(15, 6), grid=True, alpha=0.8, bins=125,\n",
    "                                 title='Пройденное расстояние без подписки')\n",
    "\n",
    "plot1 = rich_users.plot(x='user_id', y='distance', kind='hist',\n",
    "                                 figsize=(15, 6), grid=True, alpha=0.8, bins=125,\n",
    "                                 title='Пройденное расстояние с подпиской', ax=plot)\n",
    "plot1.set_xlabel('Пройденное расстояние')\n",
    "plot1.set_ylabel('Количество поездок')\n",
    "plot1.legend([\"Количество пользователей без подписки\", \"Количество пользователей с подпиской\"], loc='upper left')\n",
    "plt.show()"
   ]
  },
  {
   "cell_type": "markdown",
   "id": "b1e4f7ce",
   "metadata": {},
   "source": [
    "По графикам можно заметить, что время поездки схоже у обеих групп. Однако весьма отличаются графики с пройденным расстоянием. У пользователей с подпиской заметен провал на дистанции 2 - 3 км на фоне пользователей без подписки. Скорее всего это связано с тем, что пользователи без подписки \"гоняют\" для экономии времени, денег соответственно."
   ]
  },
  {
   "cell_type": "markdown",
   "id": "c30afabd",
   "metadata": {},
   "source": [
    "#### Шаг 5. Подсчёт выручки"
   ]
  },
  {
   "cell_type": "markdown",
   "id": "ed60ab56",
   "metadata": {},
   "source": [
    "<div class=\"alert alert-block alert-danger\">\n",
    "<b>❌Комментарий ревьюера:</b> \n",
    "    \n",
    "Метод округления продолжительности поездок выбран верный, но округлять необходимо каждую поездку, то есть в исходной таблице до агрегирования.\n",
    "\n",
    "\n",
    "</div>"
   ]
  },
  {
   "cell_type": "markdown",
   "id": "0d8acfb2",
   "metadata": {},
   "source": [
    "<div class=\"alert alert-block alert-success\">\n",
    "<b>✅Комментарий ревьюера 2:</b> Отлично, исправлено!👍  </div>"
   ]
  },
  {
   "cell_type": "markdown",
   "id": "937451b5",
   "metadata": {},
   "source": [
    "<b>🔄Комментарий студента:</b>Сделано.</div>"
   ]
  },
  {
   "cell_type": "code",
   "execution_count": 27,
   "id": "27367730",
   "metadata": {
    "scrolled": false
   },
   "outputs": [
    {
     "data": {
      "text/html": [
       "<div>\n",
       "<style scoped>\n",
       "    .dataframe tbody tr th:only-of-type {\n",
       "        vertical-align: middle;\n",
       "    }\n",
       "\n",
       "    .dataframe tbody tr th {\n",
       "        vertical-align: top;\n",
       "    }\n",
       "\n",
       "    .dataframe thead th {\n",
       "        text-align: right;\n",
       "    }\n",
       "</style>\n",
       "<table border=\"1\" class=\"dataframe\">\n",
       "  <thead>\n",
       "    <tr style=\"text-align: right;\">\n",
       "      <th></th>\n",
       "      <th>user_id</th>\n",
       "      <th>month</th>\n",
       "      <th>subscription_type</th>\n",
       "      <th>distance</th>\n",
       "      <th>duration</th>\n",
       "      <th>minute_price</th>\n",
       "      <th>quantity</th>\n",
       "      <th>start_ride_price</th>\n",
       "      <th>subscription_fee</th>\n",
       "    </tr>\n",
       "  </thead>\n",
       "  <tbody>\n",
       "    <tr>\n",
       "      <th>0</th>\n",
       "      <td>1</td>\n",
       "      <td>1</td>\n",
       "      <td>ultra</td>\n",
       "      <td>7027.511294</td>\n",
       "      <td>42.0</td>\n",
       "      <td>6</td>\n",
       "      <td>2</td>\n",
       "      <td>0</td>\n",
       "      <td>199</td>\n",
       "    </tr>\n",
       "    <tr>\n",
       "      <th>1</th>\n",
       "      <td>1</td>\n",
       "      <td>4</td>\n",
       "      <td>ultra</td>\n",
       "      <td>754.159807</td>\n",
       "      <td>7.0</td>\n",
       "      <td>6</td>\n",
       "      <td>1</td>\n",
       "      <td>0</td>\n",
       "      <td>199</td>\n",
       "    </tr>\n",
       "    <tr>\n",
       "      <th>2</th>\n",
       "      <td>1</td>\n",
       "      <td>8</td>\n",
       "      <td>ultra</td>\n",
       "      <td>6723.470560</td>\n",
       "      <td>46.0</td>\n",
       "      <td>6</td>\n",
       "      <td>2</td>\n",
       "      <td>0</td>\n",
       "      <td>199</td>\n",
       "    </tr>\n",
       "    <tr>\n",
       "      <th>3</th>\n",
       "      <td>1</td>\n",
       "      <td>10</td>\n",
       "      <td>ultra</td>\n",
       "      <td>5809.911100</td>\n",
       "      <td>32.0</td>\n",
       "      <td>6</td>\n",
       "      <td>2</td>\n",
       "      <td>0</td>\n",
       "      <td>199</td>\n",
       "    </tr>\n",
       "    <tr>\n",
       "      <th>4</th>\n",
       "      <td>1</td>\n",
       "      <td>11</td>\n",
       "      <td>ultra</td>\n",
       "      <td>7003.499363</td>\n",
       "      <td>56.0</td>\n",
       "      <td>6</td>\n",
       "      <td>3</td>\n",
       "      <td>0</td>\n",
       "      <td>199</td>\n",
       "    </tr>\n",
       "    <tr>\n",
       "      <th>...</th>\n",
       "      <td>...</td>\n",
       "      <td>...</td>\n",
       "      <td>...</td>\n",
       "      <td>...</td>\n",
       "      <td>...</td>\n",
       "      <td>...</td>\n",
       "      <td>...</td>\n",
       "      <td>...</td>\n",
       "      <td>...</td>\n",
       "    </tr>\n",
       "    <tr>\n",
       "      <th>11295</th>\n",
       "      <td>1534</td>\n",
       "      <td>6</td>\n",
       "      <td>free</td>\n",
       "      <td>3409.468534</td>\n",
       "      <td>26.0</td>\n",
       "      <td>8</td>\n",
       "      <td>2</td>\n",
       "      <td>50</td>\n",
       "      <td>0</td>\n",
       "    </tr>\n",
       "    <tr>\n",
       "      <th>11296</th>\n",
       "      <td>1534</td>\n",
       "      <td>8</td>\n",
       "      <td>free</td>\n",
       "      <td>7622.453034</td>\n",
       "      <td>48.0</td>\n",
       "      <td>8</td>\n",
       "      <td>2</td>\n",
       "      <td>50</td>\n",
       "      <td>0</td>\n",
       "    </tr>\n",
       "    <tr>\n",
       "      <th>11297</th>\n",
       "      <td>1534</td>\n",
       "      <td>9</td>\n",
       "      <td>free</td>\n",
       "      <td>4928.173852</td>\n",
       "      <td>23.0</td>\n",
       "      <td>8</td>\n",
       "      <td>1</td>\n",
       "      <td>50</td>\n",
       "      <td>0</td>\n",
       "    </tr>\n",
       "    <tr>\n",
       "      <th>11298</th>\n",
       "      <td>1534</td>\n",
       "      <td>11</td>\n",
       "      <td>free</td>\n",
       "      <td>13350.015305</td>\n",
       "      <td>78.0</td>\n",
       "      <td>8</td>\n",
       "      <td>4</td>\n",
       "      <td>50</td>\n",
       "      <td>0</td>\n",
       "    </tr>\n",
       "    <tr>\n",
       "      <th>11299</th>\n",
       "      <td>1534</td>\n",
       "      <td>12</td>\n",
       "      <td>free</td>\n",
       "      <td>2371.711192</td>\n",
       "      <td>16.0</td>\n",
       "      <td>8</td>\n",
       "      <td>1</td>\n",
       "      <td>50</td>\n",
       "      <td>0</td>\n",
       "    </tr>\n",
       "  </tbody>\n",
       "</table>\n",
       "<p>11300 rows × 9 columns</p>\n",
       "</div>"
      ],
      "text/plain": [
       "       user_id  month subscription_type      distance  duration  minute_price  \\\n",
       "0            1      1             ultra   7027.511294      42.0             6   \n",
       "1            1      4             ultra    754.159807       7.0             6   \n",
       "2            1      8             ultra   6723.470560      46.0             6   \n",
       "3            1     10             ultra   5809.911100      32.0             6   \n",
       "4            1     11             ultra   7003.499363      56.0             6   \n",
       "...        ...    ...               ...           ...       ...           ...   \n",
       "11295     1534      6              free   3409.468534      26.0             8   \n",
       "11296     1534      8              free   7622.453034      48.0             8   \n",
       "11297     1534      9              free   4928.173852      23.0             8   \n",
       "11298     1534     11              free  13350.015305      78.0             8   \n",
       "11299     1534     12              free   2371.711192      16.0             8   \n",
       "\n",
       "       quantity  start_ride_price  subscription_fee  \n",
       "0             2                 0               199  \n",
       "1             1                 0               199  \n",
       "2             2                 0               199  \n",
       "3             2                 0               199  \n",
       "4             3                 0               199  \n",
       "...         ...               ...               ...  \n",
       "11295         2                50                 0  \n",
       "11296         2                50                 0  \n",
       "11297         1                50                 0  \n",
       "11298         4                50                 0  \n",
       "11299         1                50                 0  \n",
       "\n",
       "[11300 rows x 9 columns]"
      ]
     },
     "metadata": {},
     "output_type": "display_data"
    },
    {
     "data": {
      "text/html": [
       "<div>\n",
       "<style scoped>\n",
       "    .dataframe tbody tr th:only-of-type {\n",
       "        vertical-align: middle;\n",
       "    }\n",
       "\n",
       "    .dataframe tbody tr th {\n",
       "        vertical-align: top;\n",
       "    }\n",
       "\n",
       "    .dataframe thead th {\n",
       "        text-align: right;\n",
       "    }\n",
       "</style>\n",
       "<table border=\"1\" class=\"dataframe\">\n",
       "  <thead>\n",
       "    <tr style=\"text-align: right;\">\n",
       "      <th></th>\n",
       "      <th>user_id</th>\n",
       "      <th>month</th>\n",
       "      <th>subscription_type</th>\n",
       "      <th>distance</th>\n",
       "      <th>duration</th>\n",
       "      <th>minute_price</th>\n",
       "      <th>quantity</th>\n",
       "      <th>start_ride_price</th>\n",
       "      <th>subscription_fee</th>\n",
       "      <th>profit</th>\n",
       "    </tr>\n",
       "  </thead>\n",
       "  <tbody>\n",
       "    <tr>\n",
       "      <th>0</th>\n",
       "      <td>1</td>\n",
       "      <td>1</td>\n",
       "      <td>ultra</td>\n",
       "      <td>7027.511294</td>\n",
       "      <td>42.0</td>\n",
       "      <td>6</td>\n",
       "      <td>2</td>\n",
       "      <td>0</td>\n",
       "      <td>199</td>\n",
       "      <td>451.0</td>\n",
       "    </tr>\n",
       "    <tr>\n",
       "      <th>1</th>\n",
       "      <td>1</td>\n",
       "      <td>4</td>\n",
       "      <td>ultra</td>\n",
       "      <td>754.159807</td>\n",
       "      <td>7.0</td>\n",
       "      <td>6</td>\n",
       "      <td>1</td>\n",
       "      <td>0</td>\n",
       "      <td>199</td>\n",
       "      <td>241.0</td>\n",
       "    </tr>\n",
       "    <tr>\n",
       "      <th>2</th>\n",
       "      <td>1</td>\n",
       "      <td>8</td>\n",
       "      <td>ultra</td>\n",
       "      <td>6723.470560</td>\n",
       "      <td>46.0</td>\n",
       "      <td>6</td>\n",
       "      <td>2</td>\n",
       "      <td>0</td>\n",
       "      <td>199</td>\n",
       "      <td>475.0</td>\n",
       "    </tr>\n",
       "    <tr>\n",
       "      <th>3</th>\n",
       "      <td>1</td>\n",
       "      <td>10</td>\n",
       "      <td>ultra</td>\n",
       "      <td>5809.911100</td>\n",
       "      <td>32.0</td>\n",
       "      <td>6</td>\n",
       "      <td>2</td>\n",
       "      <td>0</td>\n",
       "      <td>199</td>\n",
       "      <td>391.0</td>\n",
       "    </tr>\n",
       "    <tr>\n",
       "      <th>4</th>\n",
       "      <td>1</td>\n",
       "      <td>11</td>\n",
       "      <td>ultra</td>\n",
       "      <td>7003.499363</td>\n",
       "      <td>56.0</td>\n",
       "      <td>6</td>\n",
       "      <td>3</td>\n",
       "      <td>0</td>\n",
       "      <td>199</td>\n",
       "      <td>535.0</td>\n",
       "    </tr>\n",
       "    <tr>\n",
       "      <th>5</th>\n",
       "      <td>1</td>\n",
       "      <td>12</td>\n",
       "      <td>ultra</td>\n",
       "      <td>6751.629942</td>\n",
       "      <td>28.0</td>\n",
       "      <td>6</td>\n",
       "      <td>2</td>\n",
       "      <td>0</td>\n",
       "      <td>199</td>\n",
       "      <td>367.0</td>\n",
       "    </tr>\n",
       "    <tr>\n",
       "      <th>6</th>\n",
       "      <td>2</td>\n",
       "      <td>3</td>\n",
       "      <td>ultra</td>\n",
       "      <td>10187.723006</td>\n",
       "      <td>63.0</td>\n",
       "      <td>6</td>\n",
       "      <td>3</td>\n",
       "      <td>0</td>\n",
       "      <td>199</td>\n",
       "      <td>577.0</td>\n",
       "    </tr>\n",
       "    <tr>\n",
       "      <th>7</th>\n",
       "      <td>2</td>\n",
       "      <td>4</td>\n",
       "      <td>ultra</td>\n",
       "      <td>6164.381824</td>\n",
       "      <td>40.0</td>\n",
       "      <td>6</td>\n",
       "      <td>2</td>\n",
       "      <td>0</td>\n",
       "      <td>199</td>\n",
       "      <td>439.0</td>\n",
       "    </tr>\n",
       "    <tr>\n",
       "      <th>8</th>\n",
       "      <td>2</td>\n",
       "      <td>6</td>\n",
       "      <td>ultra</td>\n",
       "      <td>3255.338202</td>\n",
       "      <td>14.0</td>\n",
       "      <td>6</td>\n",
       "      <td>1</td>\n",
       "      <td>0</td>\n",
       "      <td>199</td>\n",
       "      <td>283.0</td>\n",
       "    </tr>\n",
       "    <tr>\n",
       "      <th>9</th>\n",
       "      <td>2</td>\n",
       "      <td>7</td>\n",
       "      <td>ultra</td>\n",
       "      <td>6780.722964</td>\n",
       "      <td>48.0</td>\n",
       "      <td>6</td>\n",
       "      <td>2</td>\n",
       "      <td>0</td>\n",
       "      <td>199</td>\n",
       "      <td>487.0</td>\n",
       "    </tr>\n",
       "    <tr>\n",
       "      <th>10</th>\n",
       "      <td>2</td>\n",
       "      <td>8</td>\n",
       "      <td>ultra</td>\n",
       "      <td>923.007439</td>\n",
       "      <td>7.0</td>\n",
       "      <td>6</td>\n",
       "      <td>1</td>\n",
       "      <td>0</td>\n",
       "      <td>199</td>\n",
       "      <td>241.0</td>\n",
       "    </tr>\n",
       "    <tr>\n",
       "      <th>11</th>\n",
       "      <td>2</td>\n",
       "      <td>10</td>\n",
       "      <td>ultra</td>\n",
       "      <td>2824.636598</td>\n",
       "      <td>19.0</td>\n",
       "      <td>6</td>\n",
       "      <td>1</td>\n",
       "      <td>0</td>\n",
       "      <td>199</td>\n",
       "      <td>313.0</td>\n",
       "    </tr>\n",
       "    <tr>\n",
       "      <th>12</th>\n",
       "      <td>2</td>\n",
       "      <td>12</td>\n",
       "      <td>ultra</td>\n",
       "      <td>3828.248580</td>\n",
       "      <td>12.0</td>\n",
       "      <td>6</td>\n",
       "      <td>1</td>\n",
       "      <td>0</td>\n",
       "      <td>199</td>\n",
       "      <td>271.0</td>\n",
       "    </tr>\n",
       "    <tr>\n",
       "      <th>13</th>\n",
       "      <td>3</td>\n",
       "      <td>1</td>\n",
       "      <td>ultra</td>\n",
       "      <td>3061.777147</td>\n",
       "      <td>13.0</td>\n",
       "      <td>6</td>\n",
       "      <td>1</td>\n",
       "      <td>0</td>\n",
       "      <td>199</td>\n",
       "      <td>277.0</td>\n",
       "    </tr>\n",
       "    <tr>\n",
       "      <th>14</th>\n",
       "      <td>3</td>\n",
       "      <td>2</td>\n",
       "      <td>ultra</td>\n",
       "      <td>5421.152016</td>\n",
       "      <td>39.0</td>\n",
       "      <td>6</td>\n",
       "      <td>2</td>\n",
       "      <td>0</td>\n",
       "      <td>199</td>\n",
       "      <td>433.0</td>\n",
       "    </tr>\n",
       "  </tbody>\n",
       "</table>\n",
       "</div>"
      ],
      "text/plain": [
       "    user_id  month subscription_type      distance  duration  minute_price  \\\n",
       "0         1      1             ultra   7027.511294      42.0             6   \n",
       "1         1      4             ultra    754.159807       7.0             6   \n",
       "2         1      8             ultra   6723.470560      46.0             6   \n",
       "3         1     10             ultra   5809.911100      32.0             6   \n",
       "4         1     11             ultra   7003.499363      56.0             6   \n",
       "5         1     12             ultra   6751.629942      28.0             6   \n",
       "6         2      3             ultra  10187.723006      63.0             6   \n",
       "7         2      4             ultra   6164.381824      40.0             6   \n",
       "8         2      6             ultra   3255.338202      14.0             6   \n",
       "9         2      7             ultra   6780.722964      48.0             6   \n",
       "10        2      8             ultra    923.007439       7.0             6   \n",
       "11        2     10             ultra   2824.636598      19.0             6   \n",
       "12        2     12             ultra   3828.248580      12.0             6   \n",
       "13        3      1             ultra   3061.777147      13.0             6   \n",
       "14        3      2             ultra   5421.152016      39.0             6   \n",
       "\n",
       "    quantity  start_ride_price  subscription_fee  profit  \n",
       "0          2                 0               199   451.0  \n",
       "1          1                 0               199   241.0  \n",
       "2          2                 0               199   475.0  \n",
       "3          2                 0               199   391.0  \n",
       "4          3                 0               199   535.0  \n",
       "5          2                 0               199   367.0  \n",
       "6          3                 0               199   577.0  \n",
       "7          2                 0               199   439.0  \n",
       "8          1                 0               199   283.0  \n",
       "9          2                 0               199   487.0  \n",
       "10         1                 0               199   241.0  \n",
       "11         1                 0               199   313.0  \n",
       "12         1                 0               199   271.0  \n",
       "13         1                 0               199   277.0  \n",
       "14         2                 0               199   433.0  "
      ]
     },
     "metadata": {},
     "output_type": "display_data"
    }
   ],
   "source": [
    "full_data['quantity'] = full_data['user_id']\n",
    "full_data['duration'] = np.ceil(full_data['duration']) #Исправлено\n",
    "summary_df = full_data.pivot_table(values=['quantity', 'distance', 'duration', 'start_ride_price', 'subscription_fee', \n",
    "                                           'minute_price'],\n",
    "                                   index=['user_id', 'month', 'subscription_type'],\n",
    "                                   aggfunc={'distance': np.sum, 'duration': np.sum, 'quantity': 'count', \n",
    "                                            'minute_price': 'first',\n",
    "                                            'subscription_fee': 'first',\n",
    "                                            'start_ride_price': 'first'})\n",
    "summary_df = summary_df.reset_index()\n",
    "#summary_df['duration'] = np.ceil(summary_df['duration'])\n",
    "display(summary_df)\n",
    "\n",
    "summary_df['profit'] = summary_df['start_ride_price'] * summary_df['quantity'] + summary_df['minute_price'] * summary_df['duration'] + summary_df['subscription_fee']\n",
    "display(summary_df.head(15))"
   ]
  },
  {
   "cell_type": "markdown",
   "id": "35d62d32",
   "metadata": {},
   "source": [
    "<div class=\"alert alert-block alert-warning\">\n",
    "<b>🔁Комментарий ревьюера:</b> \n",
    "    \n",
    "Код должен быть более универсальным, без ручного внесения значений по тарифам.\n",
    "\n",
    "В объединенной таблице full_data у нас уже есть все данные по тарифам для расчета выручки, их можно перенести в summary_df, указав при формировании сводной таблицы для них агрегирующую функцию 'first'. Тогда соответствующие столбцы со стоимостями можно будет использовать для расчета выручки.</div>"
   ]
  },
  {
   "cell_type": "markdown",
   "id": "e74c67d2",
   "metadata": {},
   "source": [
    "<b>🔄Комментарий студента:</b>Упс... Я совсем забыл) Сделал как и попросили.</div>"
   ]
  },
  {
   "cell_type": "markdown",
   "id": "425aeb49",
   "metadata": {},
   "source": [
    "<div class=\"alert alert-block alert-success\">\n",
    "<b>✅Комментарий ревьюера 2:</b> Отлично, исправлено!👍  </div>"
   ]
  },
  {
   "cell_type": "markdown",
   "id": "219bda41",
   "metadata": {},
   "source": [
    "Создадим сводную таблицу исходя из предыдущей таблицы full_data пункта 4. Для подсчёта количества поездок за месяц мы возьмём столбец 'user_id' продублируем его в 'quantity' а затем применим функцию 'count' во время создания сводной таблицы summary_df. Используя метод loc я задал стоимость тарифа, месячной оплаты и стоимости старта в зависимости от подписки. Вывел получившийся датафрейм при помощи метода display."
   ]
  },
  {
   "cell_type": "markdown",
   "id": "5c3ef744",
   "metadata": {},
   "source": [
    "#### Шаг 6. Проверка гипотез"
   ]
  },
  {
   "cell_type": "markdown",
   "id": "00445617",
   "metadata": {
    "id": "5766e785"
   },
   "source": [
    "<div class=\"alert alert-block alert-danger\">\n",
    "<b>❌Комментарий ревьюера:</b> \n",
    "    \n",
    "Этот пункт необходимо полностью переделать. Проверку гипотез мы должны проводить с помощью статистических методов.\n",
    "\n",
    "Сначала формулируем нулевую и альтернативную гипотезы, задаем статистический уровень значимости, проводим проверку и делаем вывод на основании сравнения полученного p-value и статистического уровня значимости alpha.\n",
    "\n",
    "Если у тебя возникнут трудности, то ты всегда можешь обратиться с вопросами к наставнику по проекту.</div>"
   ]
  },
  {
   "cell_type": "markdown",
   "id": "8e4cd63e",
   "metadata": {},
   "source": [
    "<b>🔄Комментарий студента:</b>Этот блок оставил на потом. Посмотри пожалуйста мои фиксы по работе, если всё ок, то на следующем этапе делаю это.</div>"
   ]
  },
  {
   "cell_type": "markdown",
   "id": "5d11f16b",
   "metadata": {},
   "source": [
    "<div class=\"alert alert-block alert-success\">\n",
    "<b>✅Комментарий ревьюера 2:</b> Все ок, кроме удаления \"дубликатов\" продолжительности поездок.  </div>"
   ]
  },
  {
   "cell_type": "markdown",
   "id": "6ea85b27",
   "metadata": {
    "id": "5766e785"
   },
   "source": [
    "<div class=\"alert alert-block alert-danger\">\n",
    "<b>❌Комментарий ревьюера 3:</b> \n",
    "    \n",
    "Почему ты не переделал пункт с проверкой гипотез? Отправляй в следующий раз, пожалуйста, полностью скорректированный проект. На ревью есть лимит в 6 итераций, на шестой проверке проект должен быть принят или нужно будет взять академ) А мы получается тратим итерации просто так.\n",
    "</div>"
   ]
  },
  {
   "cell_type": "markdown",
   "id": "fcb0f877",
   "metadata": {},
   "source": [
    "<div class=\"alert alert-block alert-success\">\n",
    "<b>✅Комментарий ревьюера 4:</b> Отлично, исправлено!👍  </div>"
   ]
  },
  {
   "cell_type": "markdown",
   "id": "1c618fe9",
   "metadata": {},
   "source": [
    "<b>🔄Комментарий студента:</b>Nice. Учту, не знал.</div>"
   ]
  },
  {
   "cell_type": "markdown",
   "id": "1586088d",
   "metadata": {},
   "source": [
    "<b>🔄Комментарий студента:</b>Приступим к исправлению.</div>"
   ]
  },
  {
   "cell_type": "markdown",
   "id": "5dbe17f0",
   "metadata": {},
   "source": [
    "Важно понять, тратят ли пользователи с подпиской больше времени на поездки?"
   ]
  },
  {
   "cell_type": "markdown",
   "id": "43259b8e",
   "metadata": {},
   "source": [
    "H0: Пользователи с подпиской и без в среднем по времени пользуются самокатами одинаково.\n",
    "H1: Пользователи с подпиской катаются дольше чем пользователи без."
   ]
  },
  {
   "cell_type": "markdown",
   "id": "d98f561d",
   "metadata": {},
   "source": [
    "<div class=\"alert alert-block alert-success\">\n",
    "<b>✅Комментарий ревьюера 4:</b> Здорово, что формулируешь гипотезы перед проверкой!</div>"
   ]
  },
  {
   "cell_type": "code",
   "execution_count": 28,
   "id": "20bb7cb7",
   "metadata": {},
   "outputs": [
    {
     "name": "stdout",
     "output_type": "stream",
     "text": [
      "Отвергаем нулевую гипотезу: 1.6162210195311063e-29\n"
     ]
    }
   ],
   "source": [
    "alpha = 0.01\n",
    "result = st.ttest_ind(rich_users.duration, poor_users.duration, equal_var=False, alternative='greater')\n",
    "print('Отвергаем нулевую гипотезу:', result.pvalue) if result.pvalue < alpha else print('Принимаем нулевую гипотезу')"
   ]
  },
  {
   "cell_type": "markdown",
   "id": "eef0b425",
   "metadata": {},
   "source": [
    "<div class=\"alert alert-block alert-warning\">\n",
    "<b>🔁Комментарий ревьюера:</b>\n",
    "\n",
    "Дополнительно можно вывести средние значения продолжительности поездок для каждой категории пользователей.</div>"
   ]
  },
  {
   "cell_type": "markdown",
   "id": "95911b7e",
   "metadata": {},
   "source": [
    "Вывод: пользователи с подпиской трятят больше времени, чем пользователи без подписки."
   ]
  },
  {
   "cell_type": "code",
   "execution_count": 29,
   "id": "d20f38fd",
   "metadata": {},
   "outputs": [
    {
     "data": {
      "image/png": "[encoded data removed]",
      "text/plain": [
       "<Figure size 432x288 with 1 Axes>"
      ]
     },
     "metadata": {
      "needs_background": "light"
     },
     "output_type": "display_data"
    },
    {
     "data": {
      "image/png": "[encoded data removed]",
      "text/plain": [
       "<Figure size 432x288 with 1 Axes>"
      ]
     },
     "metadata": {
      "needs_background": "light"
     },
     "output_type": "display_data"
    }
   ],
   "source": [
    "rich_users.hist(column='duration', bins=100)\n",
    "plt.show()\n",
    "\n",
    "poor_users.hist(column='duration', bins=100)\n",
    "plt.show()"
   ]
  },
  {
   "cell_type": "markdown",
   "id": "51fb39fb",
   "metadata": {},
   "source": [
    "Как мы можем заметить, продолжительность поездок не слишком разнится между пользователями с подпиской и без. Однако в целом пользователи с подпиской катаются немного дольше, рекордная длительность поездки остаётся за ними. Также см. пункт 4."
   ]
  },
  {
   "cell_type": "markdown",
   "id": "943285ac",
   "metadata": {},
   "source": [
    "Можно ли сказать, что расстояние, которое проезжают пользователи с подпиской за одну поездку, не превышает 3130 метров? "
   ]
  },
  {
   "cell_type": "markdown",
   "id": "39f20fcf",
   "metadata": {},
   "source": [
    "H0: Растояние, которое в среднем проезжают подписчики равно 3130 метров.\n",
    "H1: Подписчики в среднем проезжают больше 3130 метров."
   ]
  },
  {
   "cell_type": "code",
   "execution_count": 30,
   "id": "32fd0c46",
   "metadata": {},
   "outputs": [
    {
     "name": "stdout",
     "output_type": "stream",
     "text": [
      "Принимаем нулевую гипотезу: 0.9195368847849785\n"
     ]
    }
   ],
   "source": [
    "alpha = 0.05\n",
    "distance = 3130\n",
    "result = st.ttest_1samp(rich_users.distance, distance, alternative='greater')\n",
    "print('Отвергаем нулевую гипотезу:', result.pvalue) if result.pvalue < alpha else print('Принимаем нулевую гипотезу:', result.pvalue)"
   ]
  },
  {
   "cell_type": "markdown",
   "id": "3ce8fd06",
   "metadata": {},
   "source": [
    "Вывод: в среднем люди с подпиской 3130 метров."
   ]
  },
  {
   "cell_type": "markdown",
   "id": "647921ac",
   "metadata": {},
   "source": [
    "<div class=\"alert alert-block alert-warning\">\n",
    "<b>🔁Комментарий ревьюера 5:</b>\n",
    "\n",
    "Люди с подпиской 3130 метров что? Ростом?))</div>"
   ]
  },
  {
   "cell_type": "markdown",
   "id": "1b54a8c3",
   "metadata": {
    "id": "5766e785"
   },
   "source": [
    "<div class=\"alert alert-block alert-danger\">\n",
    "<b>❌Комментарий ревьюера 4:</b> \n",
    "    \n",
    "Вывод противоречит полученному результату. </div>"
   ]
  },
  {
   "cell_type": "markdown",
   "id": "cafe952e",
   "metadata": {},
   "source": [
    "<b>🔄Комментарий студента:</b>Опечатка. Исправил.</div>"
   ]
  },
  {
   "cell_type": "markdown",
   "id": "e4d0aa53",
   "metadata": {},
   "source": [
    "<div class=\"alert alert-block alert-success\">\n",
    "<b>✅Комментарий ревьюера 5:</b> Отлично, исправлено!👍  </div>"
   ]
  },
  {
   "cell_type": "code",
   "execution_count": 31,
   "id": "bf19d395",
   "metadata": {
    "scrolled": false
   },
   "outputs": [
    {
     "data": {
      "image/png": "[encoded data removed]",
      "text/plain": [
       "<Figure size 432x288 with 1 Axes>"
      ]
     },
     "metadata": {
      "needs_background": "light"
     },
     "output_type": "display_data"
    }
   ],
   "source": [
    "rich_users.hist(column='distance', bins=100)\n",
    "plt.show()"
   ]
  },
  {
   "cell_type": "markdown",
   "id": "cfb2580a",
   "metadata": {},
   "source": [
    "Исходя из диаграммы, половина пользователей с подпиской проезжают больше 3130 метров, поэтому мы не можем утверждать, что пользователи с подпиской проезжают меньше оптимального значения. "
   ]
  },
  {
   "cell_type": "markdown",
   "id": "975e3a90",
   "metadata": {},
   "source": [
    "Проверим гипотезу о том, будет ли помесячная выручка от пользователей с подпиской по месяцам выше, чем выручка от пользователей без подписки. "
   ]
  },
  {
   "cell_type": "markdown",
   "id": "972bcd8d",
   "metadata": {},
   "source": [
    "H0: Пользователи с подпиской и без приносят одинаковый доход за месяц.\n",
    "H1: Пользователи с подпиской приносят больший доход чем пользователи без неё."
   ]
  },
  {
   "cell_type": "code",
   "execution_count": 32,
   "id": "d41699eb",
   "metadata": {},
   "outputs": [
    {
     "name": "stdout",
     "output_type": "stream",
     "text": [
      "Отвергаем нулевую гипотезу: 2.4970242872858465e-38\n"
     ]
    }
   ],
   "source": [
    "alpha = 0.05\n",
    "result = st.ttest_ind(summary_df.loc[summary_df['subscription_type'] == 'ultra', 'profit'], summary_df.loc[summary_df['subscription_type'] != 'ultra', 'profit'], equal_var=False, alternative='greater')\n",
    "print('Отвергаем нулевую гипотезу:', result.pvalue) if result.pvalue < alpha else print('Принимаем нулевую гипотезу:', result.pvalue)"
   ]
  },
  {
   "cell_type": "markdown",
   "id": "bca8596f",
   "metadata": {},
   "source": [
    "<div class=\"alert alert-block alert-warning\">\n",
    "<b>🔁Комментарий ревьюера 4:</b>\n",
    "\n",
    "Тут тоже дополнительно можно вывести средние значения выручки для каждой категории пользователей.\n",
    "\n",
    "При фильтрации выручки по пользователям без подписки не стоит использовать `!='ultra'`, а если типов подписки будет несколько? Необходимо явно прописывать условие.</div>"
   ]
  },
  {
   "cell_type": "markdown",
   "id": "23a75852",
   "metadata": {},
   "source": [
    "Вывод: пользователи с подпиской приносят больше выручки."
   ]
  },
  {
   "cell_type": "markdown",
   "id": "30fe0c30",
   "metadata": {},
   "source": [
    "<div class=\"alert alert-block alert-success\">\n",
    "<b>✅Комментарий ревьюера 4:</b> Верно </div>"
   ]
  },
  {
   "cell_type": "code",
   "execution_count": 33,
   "id": "4dfd2cbf",
   "metadata": {
    "scrolled": true
   },
   "outputs": [
    {
     "name": "stdout",
     "output_type": "stream",
     "text": [
      "           profit\n",
      "month            \n",
      "1      369.507692\n",
      "2      351.898305\n",
      "3      360.121212\n",
      "4      367.160428\n",
      "5      368.481481\n",
      "6      361.391960\n",
      "7      367.861538\n",
      "8      360.765625\n",
      "9      364.329577\n",
      "10     360.032258\n",
      "11     357.474576\n",
      "12     363.011080\n",
      "           profit\n",
      "month            \n",
      "1      324.375839\n",
      "2      315.633588\n",
      "3      338.613430\n",
      "4      335.492754\n",
      "5      327.912587\n",
      "6      326.838160\n",
      "7      329.112299\n",
      "8      331.531083\n",
      "9      335.680556\n",
      "10     331.860806\n",
      "11     322.672694\n",
      "12     331.767918\n"
     ]
    }
   ],
   "source": [
    "new_rich_users = summary_df.loc[summary_df['subscription_type'] == 'ultra']\n",
    "new_rich_users = new_rich_users.pivot_table(index='month', values='profit', aggfunc='mean')\n",
    "new_poor_users = summary_df.loc[summary_df['subscription_type'] == 'free']\n",
    "new_poor_users = new_poor_users.pivot_table(index='month', values='profit', aggfunc='mean')\n",
    "print(new_rich_users)\n",
    "print(new_poor_users)"
   ]
  },
  {
   "cell_type": "markdown",
   "id": "94265c34",
   "metadata": {},
   "source": [
    "Действительно, пользователи с подпиской в среднем приносят больше выручки. Скорее всего это связано с самой подпиской. В целом подписка привлекательна по двум критериям - ниже тариф и бесплатный старт. Ранее мы убедились, что по времени поездки пользователи с подпиской и без неё схожи. Поэтому остаётся рассмотреть старт. Подписка окупается после 4-х стартов. Видимо более высокая прибыль от подписчиков связана с тем, что много пользователей без подписки катаются до 4-х раз."
   ]
  },
  {
   "cell_type": "markdown",
   "id": "845c05a0",
   "metadata": {},
   "source": [
    "Представьте такую ситуацию: техническая команда сервиса обновила сервера, с которыми взаимодействует мобильное приложение. Она надеется, что из-за этого количество обращений в техподдержку значимо снизилось. Некоторый файл содержит для каждого пользователя данные о количестве обращений до обновления и после него. Какой тест вам понадобился бы для проверки этой гипотезы?"
   ]
  },
  {
   "cell_type": "markdown",
   "id": "b03ca433",
   "metadata": {},
   "source": [
    "Вычесть из количества обращений до обновления, количество обращений после обновления и посмотреть на количество положительных и отрицательных величин. Если количество положительных величин превосходит количество отрицательных тогда всё прошло отлично!"
   ]
  },
  {
   "cell_type": "markdown",
   "id": "517e1be8",
   "metadata": {
    "id": "5766e785"
   },
   "source": [
    "<div class=\"alert alert-block alert-danger\">\n",
    "<b>❌Комментарий ревьюера:</b> \n",
    "    \n",
    "Обычным подсчетом значений гипотезы не проверяются. Какой статистический метод нужно будет применить для проверки гипотезы?\n",
    "</div>"
   ]
  },
  {
   "cell_type": "markdown",
   "id": "3ef77151",
   "metadata": {},
   "source": [
    "Необходимо будет применить ttest для сравнения средних двух выборок, который я применил ранее."
   ]
  },
  {
   "cell_type": "markdown",
   "id": "d2b64527",
   "metadata": {
    "id": "5766e785"
   },
   "source": [
    "<div class=\"alert alert-block alert-danger\">\n",
    "<b>❌Комментарий ревьюера 4:</b> \n",
    "    \n",
    "Чтобы корректно подобрать метод для проверки этой гипотезы, стоит ответить на вопрос: являются ли сравниваемые выборки зависимыми? Применяемый выше метод не подойдет.\n",
    "</div>"
   ]
  },
  {
   "cell_type": "markdown",
   "id": "419b59d1",
   "metadata": {},
   "source": [
    "Это зависимые выборки, т.к. речь идет об одной группе испытуемых до и после эксперементального воздействия. Необходимо будет воспользоваться W - критерием Уилкоксона."
   ]
  },
  {
   "cell_type": "markdown",
   "id": "21cbd22b",
   "metadata": {
    "id": "5766e785"
   },
   "source": [
    "<a id='another_cell2'></a>\n",
    "<div class=\"alert alert-block alert-danger\">\n",
    "<b>❌Комментарий ревьюера 5:</b> \n",
    "    \n",
    "Верно, выборки зависимые. Нам нужно указать **метод из библиотеки scipy.stats**, который нужно будет применить для проверки гипотезы</div>"
   ]
  },
  {
   "cell_type": "markdown",
   "id": "5de239ee",
   "metadata": {},
   "source": [
    "<b>🔄Комментарий студента:</b> Почему-то не сохранился коммент) Метод приведён ниже:</div>"
   ]
  },
  {
   "cell_type": "markdown",
   "id": "90c05fda",
   "metadata": {},
   "source": [
    "scipy.stats.ttest_rel(), тема 6 урок 12."
   ]
  },
  {
   "cell_type": "markdown",
   "id": "d56948ea",
   "metadata": {},
   "source": [
    "<div class=\"alert alert-block alert-success\">\n",
    "<b>✅Комментарий ревьюера 6:</b> Отлично, исправлено!👍  </div>"
   ]
  },
  {
   "cell_type": "markdown",
   "id": "982ef67c",
   "metadata": {},
   "source": [
    "Итоговый вывод:\n",
    "\n",
    "В ходе работы над проектом мы выполнили предобработку данных. \n",
    "\n",
    "1) Проверили данные на значения-артефакты.\n",
    "\n",
    "2) Проверили значения на пропуски.\n",
    "\n",
    "3) Проверили значения на дубликаты.\n",
    "\n",
    "4) Проверили используемые типы данных. Заменили тип данных столбца date в datetime.\n",
    "\n",
    "Исходя из предобработки мы выяснили, что данные были условно хорошими и не нуждались в особой доработке, можно было сразу приступать к работе.\n",
    "\n",
    "В последствии мы проанализировали данные и сделали несколько выводов.\n",
    "\n",
    "1) Посмотрели на количество пользователей по городам и построили график. Сервис наиболее популярен в Пятигорске и наименее популярен в Москве.\n",
    "\n",
    "2) Посмотрели на количество пользователей с подпиской и без, а также построили график. Количество пользователей без подписки примерно на 100 человек больше чем пользователей с подпиской.\n",
    "\n",
    "3) Посмотрели на возраст пользователей и построили график. Сервисом по большей мере пользуются люди от 22 до 28 лет.\n",
    "\n",
    "4) Посмотрели на расстояние, которое проходят пользователи и построили график. Среднее расстояние за поездку составляет от 2.5 до 3.5 километров.\n",
    "\n",
    "5) Посмотрели на время поездок, которое тратят пользователи и построили график. Среднее время поездки составляет от 12.5 до 22.5 минут.\n",
    "\n",
    "6) Из предыдущего пункта сделали вывод, что пользователи с подпиской проезжают немного больше по времени, чем без подписки.\n",
    "\n",
    "7) Из предыдущих пунктов выяснили, что пользователи без подписки в среднем проезжают большее растояние чем пользователи без подписки за одинаковое время - \"гоняют\" ради экономии, а ведь дома их ждут...\n",
    "\n",
    "Позже мы проверили гипотезы при помощи ttest'а Стьюдента:\n",
    "\n",
    "1) Пользователи с подпиской тратят немного больше времени на поездки.\n",
    "\n",
    "2) Половина пользователей с подпиской проезжают больше оптимального для самоката расстояния.\n",
    "\n",
    "3) В среднем пользователи с подпиской приносят больше дохода, чем пользователи без подписки. Скорее всего это связано с тем, что большое количество новых пользователей без подписки проезжают до 4-х поездок, до того как окупится стоимость подписки.\n",
    "\n",
    "А также ответили на вопрос \"Представьте такую ситуацию: техническая команда сервиса обновила сервера, с которыми взаимодействует мобильное приложение. Она надеется, что из-за этого количество обращений в техподдержку значимо снизилось. Некоторый файл содержит для каждого пользователя данные о количестве обращений до обновления и после него. Какой тест вам понадобился бы для проверки этой гипотезы?\":\n",
    "\n",
    "Необходимо будет использовать ttest Стьюдента для сравнения средних двух выборок.\n",
    "\n",
    "Хочется лишь посоветовать менеджерам сделать акцию по привлечению новых подписчиков, ведь они выгоднее для компании! "
   ]
  },
  {
   "cell_type": "markdown",
   "id": "40fae351",
   "metadata": {},
   "source": [
    "<div class=\"alert alert-block alert-warning\">\n",
    "<b>🔁Комментарий ревьюера:</b> \n",
    "    \n",
    "Итоговый вывод должен быть немного подробнее и содержать краткую информацию о том, какая работа была проделана и какие результаты получены **по всем пунктам исследования** (по пунктам знакомства с данными и их предобработке тоже).\n",
    "    \n",
    "Человек, заинтересовавшийся твоим проектом, может сразу перейти к выводу, чтобы понять нужно ли ему углубляться в изучение исследования или нет.\n",
    "\n",
    "\n",
    "**Хочу обратить твое внимание на то, что после исправления замечаний в некоторых пунктах исследования могут измениться результаты, поэтому нужно будет подкорректировать выводы.**</div>"
   ]
  },
  {
   "cell_type": "markdown",
   "id": "1ddf50cd",
   "metadata": {},
   "source": [
    "<b>🔄Комментарий студента:</b>Исправил.</div>"
   ]
  },
  {
   "cell_type": "markdown",
   "id": "83485fd2",
   "metadata": {},
   "source": [
    "<div class=\"alert alert-block alert-success\">\n",
    "<b>✅Комментарий ревьюера 4:</b> Отлично, исправлено!👍  </div>"
   ]
  },
  {
   "cell_type": "markdown",
   "id": "b0d12ab3",
   "metadata": {},
   "source": [
    "#### Шаг 7. Распределения"
   ]
  },
  {
   "cell_type": "code",
   "execution_count": null,
   "id": "b37a3827",
   "metadata": {},
   "outputs": [],
   "source": []
  }
 ],
 "metadata": {
  "ExecuteTimeLog": [
   {
    "duration": 438,
    "start_time": "2023-06-18T22:42:39.368Z"
   },
   {
    "duration": 164,
    "start_time": "2023-06-18T22:42:39.809Z"
   },
   {
    "duration": 0,
    "start_time": "2023-06-18T22:42:39.975Z"
   },
   {
    "duration": 0,
    "start_time": "2023-06-18T22:42:39.977Z"
   },
   {
    "duration": 0,
    "start_time": "2023-06-18T22:42:39.978Z"
   },
   {
    "duration": 0,
    "start_time": "2023-06-18T22:42:39.980Z"
   },
   {
    "duration": 0,
    "start_time": "2023-06-18T22:42:39.982Z"
   },
   {
    "duration": 1,
    "start_time": "2023-06-18T22:42:39.983Z"
   },
   {
    "duration": 0,
    "start_time": "2023-06-18T22:42:39.985Z"
   },
   {
    "duration": 0,
    "start_time": "2023-06-18T22:42:39.987Z"
   },
   {
    "duration": 0,
    "start_time": "2023-06-18T22:42:39.988Z"
   },
   {
    "duration": 0,
    "start_time": "2023-06-18T22:42:39.989Z"
   },
   {
    "duration": 4,
    "start_time": "2023-06-18T22:42:59.658Z"
   },
   {
    "duration": 22,
    "start_time": "2023-06-18T22:42:59.664Z"
   },
   {
    "duration": 0,
    "start_time": "2023-06-18T22:42:59.689Z"
   },
   {
    "duration": 0,
    "start_time": "2023-06-18T22:42:59.691Z"
   },
   {
    "duration": 0,
    "start_time": "2023-06-18T22:42:59.692Z"
   },
   {
    "duration": 0,
    "start_time": "2023-06-18T22:42:59.693Z"
   },
   {
    "duration": 0,
    "start_time": "2023-06-18T22:42:59.694Z"
   },
   {
    "duration": 0,
    "start_time": "2023-06-18T22:42:59.696Z"
   },
   {
    "duration": 0,
    "start_time": "2023-06-18T22:42:59.697Z"
   },
   {
    "duration": 0,
    "start_time": "2023-06-18T22:42:59.698Z"
   },
   {
    "duration": 0,
    "start_time": "2023-06-18T22:42:59.700Z"
   },
   {
    "duration": 0,
    "start_time": "2023-06-18T22:42:59.701Z"
   },
   {
    "duration": 3,
    "start_time": "2023-06-18T22:43:40.258Z"
   },
   {
    "duration": 658,
    "start_time": "2023-06-18T22:43:40.263Z"
   },
   {
    "duration": 11,
    "start_time": "2023-06-18T22:43:40.924Z"
   },
   {
    "duration": 199,
    "start_time": "2023-06-18T22:43:40.937Z"
   },
   {
    "duration": 21,
    "start_time": "2023-06-18T22:43:41.138Z"
   },
   {
    "duration": 26,
    "start_time": "2023-06-18T22:43:41.161Z"
   },
   {
    "duration": 724,
    "start_time": "2023-06-18T22:43:41.189Z"
   },
   {
    "duration": 0,
    "start_time": "2023-06-18T22:43:41.915Z"
   },
   {
    "duration": 0,
    "start_time": "2023-06-18T22:43:41.916Z"
   },
   {
    "duration": 0,
    "start_time": "2023-06-18T22:43:41.917Z"
   },
   {
    "duration": 0,
    "start_time": "2023-06-18T22:43:41.918Z"
   },
   {
    "duration": 0,
    "start_time": "2023-06-18T22:43:41.919Z"
   },
   {
    "duration": 5,
    "start_time": "2023-06-18T22:43:55.837Z"
   },
   {
    "duration": 116,
    "start_time": "2023-06-18T22:43:55.851Z"
   },
   {
    "duration": 9,
    "start_time": "2023-06-18T22:43:55.969Z"
   },
   {
    "duration": 172,
    "start_time": "2023-06-18T22:43:55.980Z"
   },
   {
    "duration": 27,
    "start_time": "2023-06-18T22:43:56.157Z"
   },
   {
    "duration": 10,
    "start_time": "2023-06-18T22:43:56.187Z"
   },
   {
    "duration": 280,
    "start_time": "2023-06-18T22:43:56.214Z"
   },
   {
    "duration": 0,
    "start_time": "2023-06-18T22:43:56.496Z"
   },
   {
    "duration": 0,
    "start_time": "2023-06-18T22:43:56.497Z"
   },
   {
    "duration": 0,
    "start_time": "2023-06-18T22:43:56.498Z"
   },
   {
    "duration": 0,
    "start_time": "2023-06-18T22:43:56.499Z"
   },
   {
    "duration": 0,
    "start_time": "2023-06-18T22:43:56.500Z"
   },
   {
    "duration": 3,
    "start_time": "2023-06-18T22:44:30.839Z"
   },
   {
    "duration": 153,
    "start_time": "2023-06-18T22:44:30.844Z"
   },
   {
    "duration": 9,
    "start_time": "2023-06-18T22:44:30.998Z"
   },
   {
    "duration": 242,
    "start_time": "2023-06-18T22:44:31.008Z"
   },
   {
    "duration": 16,
    "start_time": "2023-06-18T22:44:31.260Z"
   },
   {
    "duration": 29,
    "start_time": "2023-06-18T22:44:31.278Z"
   },
   {
    "duration": 240,
    "start_time": "2023-06-18T22:44:31.308Z"
   },
   {
    "duration": 191,
    "start_time": "2023-06-18T22:44:31.549Z"
   },
   {
    "duration": 345,
    "start_time": "2023-06-18T22:44:31.742Z"
   },
   {
    "duration": 380,
    "start_time": "2023-06-18T22:44:32.088Z"
   },
   {
    "duration": 398,
    "start_time": "2023-06-18T22:44:32.470Z"
   },
   {
    "duration": 32,
    "start_time": "2023-06-18T22:44:32.870Z"
   },
   {
    "duration": 59,
    "start_time": "2023-06-18T22:44:56.298Z"
   },
   {
    "duration": 68,
    "start_time": "2023-06-18T22:45:51.690Z"
   },
   {
    "duration": 62,
    "start_time": "2023-06-18T22:45:58.947Z"
   },
   {
    "duration": 143,
    "start_time": "2023-06-18T22:46:32.214Z"
   },
   {
    "duration": 38,
    "start_time": "2023-06-18T22:46:49.505Z"
   },
   {
    "duration": 15,
    "start_time": "2023-06-18T22:47:11.983Z"
   },
   {
    "duration": 365,
    "start_time": "2023-06-18T22:49:42.591Z"
   },
   {
    "duration": 530,
    "start_time": "2023-06-18T22:49:46.437Z"
   },
   {
    "duration": 343,
    "start_time": "2023-06-18T22:49:50.748Z"
   },
   {
    "duration": 372,
    "start_time": "2023-06-18T22:49:55.503Z"
   },
   {
    "duration": 351,
    "start_time": "2023-06-18T22:52:34.413Z"
   },
   {
    "duration": 327,
    "start_time": "2023-06-18T22:52:37.028Z"
   },
   {
    "duration": 447,
    "start_time": "2023-06-18T22:52:40.028Z"
   },
   {
    "duration": 342,
    "start_time": "2023-06-18T22:52:42.933Z"
   },
   {
    "duration": 12,
    "start_time": "2023-06-19T00:14:10.061Z"
   },
   {
    "duration": 3,
    "start_time": "2023-06-19T00:14:20.249Z"
   },
   {
    "duration": 141,
    "start_time": "2023-06-19T00:14:20.255Z"
   },
   {
    "duration": 9,
    "start_time": "2023-06-19T00:14:20.397Z"
   },
   {
    "duration": 172,
    "start_time": "2023-06-19T00:14:20.408Z"
   },
   {
    "duration": 58,
    "start_time": "2023-06-19T00:14:20.583Z"
   },
   {
    "duration": 28,
    "start_time": "2023-06-19T00:14:20.643Z"
   },
   {
    "duration": 224,
    "start_time": "2023-06-19T00:14:20.673Z"
   },
   {
    "duration": 182,
    "start_time": "2023-06-19T00:14:20.899Z"
   },
   {
    "duration": 350,
    "start_time": "2023-06-19T00:14:21.082Z"
   },
   {
    "duration": 351,
    "start_time": "2023-06-19T00:14:21.434Z"
   },
   {
    "duration": 448,
    "start_time": "2023-06-19T00:14:21.787Z"
   },
   {
    "duration": 79,
    "start_time": "2023-06-19T00:14:22.237Z"
   },
   {
    "duration": 351,
    "start_time": "2023-06-19T00:14:22.318Z"
   },
   {
    "duration": 366,
    "start_time": "2023-06-19T00:14:22.672Z"
   },
   {
    "duration": 335,
    "start_time": "2023-06-19T00:14:23.040Z"
   },
   {
    "duration": 353,
    "start_time": "2023-06-19T00:14:23.377Z"
   },
   {
    "duration": 49,
    "start_time": "2023-06-19T00:14:23.733Z"
   },
   {
    "duration": 59,
    "start_time": "2023-06-19T00:14:40.477Z"
   },
   {
    "duration": 47,
    "start_time": "2023-06-19T00:14:57.352Z"
   },
   {
    "duration": 53,
    "start_time": "2023-06-19T00:15:02.738Z"
   },
   {
    "duration": 60,
    "start_time": "2023-06-19T00:15:36.772Z"
   },
   {
    "duration": 784,
    "start_time": "2023-06-19T03:49:53.551Z"
   },
   {
    "duration": 140,
    "start_time": "2023-06-19T03:49:54.337Z"
   },
   {
    "duration": 10,
    "start_time": "2023-06-19T03:49:54.478Z"
   },
   {
    "duration": 165,
    "start_time": "2023-06-19T03:49:54.490Z"
   },
   {
    "duration": 31,
    "start_time": "2023-06-19T03:49:54.665Z"
   },
   {
    "duration": 35,
    "start_time": "2023-06-19T03:49:54.698Z"
   },
   {
    "duration": 253,
    "start_time": "2023-06-19T03:49:54.739Z"
   },
   {
    "duration": 212,
    "start_time": "2023-06-19T03:49:54.994Z"
   },
   {
    "duration": 495,
    "start_time": "2023-06-19T03:49:55.215Z"
   },
   {
    "duration": 433,
    "start_time": "2023-06-19T03:49:55.722Z"
   },
   {
    "duration": 417,
    "start_time": "2023-06-19T03:49:56.157Z"
   },
   {
    "duration": 93,
    "start_time": "2023-06-19T03:49:56.577Z"
   },
   {
    "duration": 391,
    "start_time": "2023-06-19T03:49:56.671Z"
   },
   {
    "duration": 398,
    "start_time": "2023-06-19T03:49:57.064Z"
   },
   {
    "duration": 442,
    "start_time": "2023-06-19T03:49:57.464Z"
   },
   {
    "duration": 502,
    "start_time": "2023-06-19T03:49:57.908Z"
   },
   {
    "duration": 77,
    "start_time": "2023-06-19T03:49:58.414Z"
   },
   {
    "duration": 573,
    "start_time": "2023-06-19T03:49:58.493Z"
   },
   {
    "duration": 302,
    "start_time": "2023-06-19T03:49:59.068Z"
   },
   {
    "duration": 21,
    "start_time": "2023-06-19T03:49:59.372Z"
   },
   {
    "duration": 7,
    "start_time": "2023-06-19T04:00:22.448Z"
   },
   {
    "duration": 22,
    "start_time": "2023-06-19T04:00:57.551Z"
   },
   {
    "duration": 754,
    "start_time": "2023-06-19T04:08:23.139Z"
   },
   {
    "duration": 180,
    "start_time": "2023-06-19T04:08:23.895Z"
   },
   {
    "duration": 12,
    "start_time": "2023-06-19T04:08:24.077Z"
   },
   {
    "duration": 147,
    "start_time": "2023-06-19T04:08:24.091Z"
   },
   {
    "duration": 46,
    "start_time": "2023-06-19T04:08:24.240Z"
   },
   {
    "duration": 41,
    "start_time": "2023-06-19T04:08:24.288Z"
   },
   {
    "duration": 243,
    "start_time": "2023-06-19T04:08:24.331Z"
   },
   {
    "duration": 208,
    "start_time": "2023-06-19T04:08:24.576Z"
   },
   {
    "duration": 374,
    "start_time": "2023-06-19T04:08:24.786Z"
   },
   {
    "duration": 441,
    "start_time": "2023-06-19T04:08:25.161Z"
   },
   {
    "duration": 393,
    "start_time": "2023-06-19T04:08:25.604Z"
   },
   {
    "duration": 95,
    "start_time": "2023-06-19T04:08:26.000Z"
   },
   {
    "duration": 437,
    "start_time": "2023-06-19T04:08:26.096Z"
   },
   {
    "duration": 401,
    "start_time": "2023-06-19T04:08:26.543Z"
   },
   {
    "duration": 374,
    "start_time": "2023-06-19T04:08:26.946Z"
   },
   {
    "duration": 510,
    "start_time": "2023-06-19T04:08:27.322Z"
   },
   {
    "duration": 65,
    "start_time": "2023-06-19T04:08:27.840Z"
   },
   {
    "duration": 619,
    "start_time": "2023-06-19T04:08:27.917Z"
   },
   {
    "duration": 265,
    "start_time": "2023-06-19T04:08:28.541Z"
   },
   {
    "duration": 44,
    "start_time": "2023-06-19T04:08:28.808Z"
   },
   {
    "duration": 729,
    "start_time": "2023-06-19T04:09:18.947Z"
   },
   {
    "duration": 157,
    "start_time": "2023-06-19T04:09:19.678Z"
   },
   {
    "duration": 24,
    "start_time": "2023-06-19T04:09:19.839Z"
   },
   {
    "duration": 128,
    "start_time": "2023-06-19T04:09:19.871Z"
   },
   {
    "duration": 39,
    "start_time": "2023-06-19T04:09:20.029Z"
   },
   {
    "duration": 73,
    "start_time": "2023-06-19T04:09:20.070Z"
   },
   {
    "duration": 247,
    "start_time": "2023-06-19T04:09:20.145Z"
   },
   {
    "duration": 231,
    "start_time": "2023-06-19T04:09:20.394Z"
   },
   {
    "duration": 450,
    "start_time": "2023-06-19T04:09:20.630Z"
   },
   {
    "duration": 403,
    "start_time": "2023-06-19T04:09:21.082Z"
   },
   {
    "duration": 441,
    "start_time": "2023-06-19T04:09:21.487Z"
   },
   {
    "duration": 69,
    "start_time": "2023-06-19T04:09:21.930Z"
   },
   {
    "duration": 389,
    "start_time": "2023-06-19T04:09:22.001Z"
   },
   {
    "duration": 423,
    "start_time": "2023-06-19T04:09:22.393Z"
   },
   {
    "duration": 374,
    "start_time": "2023-06-19T04:09:22.820Z"
   },
   {
    "duration": 510,
    "start_time": "2023-06-19T04:09:23.196Z"
   },
   {
    "duration": 77,
    "start_time": "2023-06-19T04:09:23.708Z"
   },
   {
    "duration": 614,
    "start_time": "2023-06-19T04:09:23.787Z"
   },
   {
    "duration": 308,
    "start_time": "2023-06-19T04:09:24.403Z"
   },
   {
    "duration": 29,
    "start_time": "2023-06-19T04:09:24.717Z"
   },
   {
    "duration": 45,
    "start_time": "2023-06-19T07:33:42.033Z"
   },
   {
    "duration": 797,
    "start_time": "2023-06-19T07:33:48.673Z"
   },
   {
    "duration": 236,
    "start_time": "2023-06-19T07:33:49.473Z"
   },
   {
    "duration": 10,
    "start_time": "2023-06-19T07:33:49.710Z"
   },
   {
    "duration": 168,
    "start_time": "2023-06-19T07:33:49.722Z"
   },
   {
    "duration": 5,
    "start_time": "2023-06-19T07:33:49.933Z"
   },
   {
    "duration": 31,
    "start_time": "2023-06-19T07:33:49.939Z"
   },
   {
    "duration": 12,
    "start_time": "2023-06-19T07:33:49.972Z"
   },
   {
    "duration": 210,
    "start_time": "2023-06-19T07:33:49.985Z"
   },
   {
    "duration": 164,
    "start_time": "2023-06-19T07:33:50.197Z"
   },
   {
    "duration": 287,
    "start_time": "2023-06-19T07:33:50.365Z"
   },
   {
    "duration": 351,
    "start_time": "2023-06-19T07:33:50.654Z"
   },
   {
    "duration": 324,
    "start_time": "2023-06-19T07:33:51.007Z"
   },
   {
    "duration": 56,
    "start_time": "2023-06-19T07:33:51.332Z"
   },
   {
    "duration": 319,
    "start_time": "2023-06-19T07:33:51.389Z"
   },
   {
    "duration": 309,
    "start_time": "2023-06-19T07:33:51.709Z"
   },
   {
    "duration": 283,
    "start_time": "2023-06-19T07:33:52.019Z"
   },
   {
    "duration": 390,
    "start_time": "2023-06-19T07:33:52.304Z"
   },
   {
    "duration": 60,
    "start_time": "2023-06-19T07:33:52.696Z"
   },
   {
    "duration": 468,
    "start_time": "2023-06-19T07:33:52.757Z"
   },
   {
    "duration": 236,
    "start_time": "2023-06-19T07:33:53.226Z"
   },
   {
    "duration": 19,
    "start_time": "2023-06-19T07:33:53.464Z"
   },
   {
    "duration": 3,
    "start_time": "2023-06-19T07:35:22.504Z"
   },
   {
    "duration": 4,
    "start_time": "2023-06-19T07:35:31.045Z"
   },
   {
    "duration": 4,
    "start_time": "2023-06-19T07:38:07.794Z"
   },
   {
    "duration": 4,
    "start_time": "2023-06-19T07:38:15.065Z"
   },
   {
    "duration": 4,
    "start_time": "2023-06-19T07:39:15.208Z"
   },
   {
    "duration": 5,
    "start_time": "2023-06-19T07:39:39.265Z"
   },
   {
    "duration": 6,
    "start_time": "2023-06-19T07:40:04.111Z"
   },
   {
    "duration": 4,
    "start_time": "2023-06-19T07:40:53.525Z"
   },
   {
    "duration": 4,
    "start_time": "2023-06-19T07:41:05.397Z"
   },
   {
    "duration": 5,
    "start_time": "2023-06-19T07:42:14.397Z"
   },
   {
    "duration": 6,
    "start_time": "2023-06-19T07:42:31.869Z"
   },
   {
    "duration": 5,
    "start_time": "2023-06-19T07:43:24.497Z"
   },
   {
    "duration": 6,
    "start_time": "2023-06-19T07:43:27.140Z"
   },
   {
    "duration": 5,
    "start_time": "2023-06-19T07:43:41.373Z"
   },
   {
    "duration": 7,
    "start_time": "2023-06-19T07:44:41.315Z"
   },
   {
    "duration": 7,
    "start_time": "2023-06-19T07:44:49.461Z"
   },
   {
    "duration": 79,
    "start_time": "2023-06-19T07:46:26.452Z"
   },
   {
    "duration": 49,
    "start_time": "2023-06-19T07:46:40.411Z"
   },
   {
    "duration": 42,
    "start_time": "2023-06-19T07:46:48.645Z"
   },
   {
    "duration": 110,
    "start_time": "2023-06-19T07:47:08.376Z"
   },
   {
    "duration": 41,
    "start_time": "2023-06-19T07:47:14.437Z"
   },
   {
    "duration": 347,
    "start_time": "2023-06-19T09:13:02.757Z"
   },
   {
    "duration": 320,
    "start_time": "2023-06-19T09:13:06.755Z"
   },
   {
    "duration": 2,
    "start_time": "2023-06-19T09:13:09.851Z"
   },
   {
    "duration": 119,
    "start_time": "2023-06-19T09:13:09.855Z"
   },
   {
    "duration": 10,
    "start_time": "2023-06-19T09:13:09.976Z"
   },
   {
    "duration": 259,
    "start_time": "2023-06-19T09:13:09.987Z"
   },
   {
    "duration": 4,
    "start_time": "2023-06-19T09:13:10.250Z"
   },
   {
    "duration": 15,
    "start_time": "2023-06-19T09:13:10.256Z"
   },
   {
    "duration": 14,
    "start_time": "2023-06-19T09:13:10.273Z"
   },
   {
    "duration": 60,
    "start_time": "2023-06-19T09:13:10.290Z"
   },
   {
    "duration": 21,
    "start_time": "2023-06-19T09:13:10.352Z"
   },
   {
    "duration": 160,
    "start_time": "2023-06-19T09:13:10.376Z"
   },
   {
    "duration": 216,
    "start_time": "2023-06-19T09:13:10.540Z"
   },
   {
    "duration": 259,
    "start_time": "2023-06-19T09:13:10.759Z"
   },
   {
    "duration": 353,
    "start_time": "2023-06-19T09:13:11.020Z"
   },
   {
    "duration": 447,
    "start_time": "2023-06-19T09:13:11.375Z"
   },
   {
    "duration": 378,
    "start_time": "2023-06-19T09:13:11.824Z"
   },
   {
    "duration": 87,
    "start_time": "2023-06-19T09:13:12.204Z"
   },
   {
    "duration": 421,
    "start_time": "2023-06-19T09:13:12.294Z"
   },
   {
    "duration": 341,
    "start_time": "2023-06-19T09:13:12.717Z"
   },
   {
    "duration": 361,
    "start_time": "2023-06-19T09:13:13.060Z"
   },
   {
    "duration": 355,
    "start_time": "2023-06-19T09:13:13.423Z"
   },
   {
    "duration": 68,
    "start_time": "2023-06-19T09:13:13.779Z"
   },
   {
    "duration": 601,
    "start_time": "2023-06-19T09:13:13.848Z"
   },
   {
    "duration": 355,
    "start_time": "2023-06-19T09:13:14.452Z"
   },
   {
    "duration": 32,
    "start_time": "2023-06-19T09:13:14.809Z"
   },
   {
    "duration": 324,
    "start_time": "2023-06-19T09:15:05.909Z"
   },
   {
    "duration": 258,
    "start_time": "2023-06-19T09:15:43.795Z"
   },
   {
    "duration": 196,
    "start_time": "2023-06-19T09:17:32.226Z"
   },
   {
    "duration": 360,
    "start_time": "2023-06-19T09:17:56.502Z"
   },
   {
    "duration": 263,
    "start_time": "2023-06-19T09:18:35.917Z"
   },
   {
    "duration": 457,
    "start_time": "2023-06-19T09:19:14.506Z"
   },
   {
    "duration": 299,
    "start_time": "2023-06-19T09:19:34.649Z"
   },
   {
    "duration": 189,
    "start_time": "2023-06-19T09:20:42.631Z"
   },
   {
    "duration": 174,
    "start_time": "2023-06-19T09:20:53.513Z"
   },
   {
    "duration": 178,
    "start_time": "2023-06-19T09:21:01.292Z"
   },
   {
    "duration": 159,
    "start_time": "2023-06-19T09:21:05.051Z"
   },
   {
    "duration": 27,
    "start_time": "2023-06-19T09:22:20.656Z"
   },
   {
    "duration": 166,
    "start_time": "2023-06-19T09:22:36.273Z"
   },
   {
    "duration": 195,
    "start_time": "2023-06-19T09:23:10.547Z"
   },
   {
    "duration": 320,
    "start_time": "2023-06-19T09:23:37.802Z"
   },
   {
    "duration": 13,
    "start_time": "2023-06-19T09:24:05.372Z"
   },
   {
    "duration": 365,
    "start_time": "2023-06-19T09:24:16.204Z"
   },
   {
    "duration": 327,
    "start_time": "2023-06-19T09:24:26.450Z"
   },
   {
    "duration": 289,
    "start_time": "2023-06-19T09:24:34.976Z"
   },
   {
    "duration": 5,
    "start_time": "2023-06-19T09:31:13.722Z"
   },
   {
    "duration": 4,
    "start_time": "2023-06-19T09:31:21.317Z"
   },
   {
    "duration": 5,
    "start_time": "2023-06-19T09:31:27.875Z"
   },
   {
    "duration": 14,
    "start_time": "2023-06-19T09:32:36.513Z"
   },
   {
    "duration": 19,
    "start_time": "2023-06-19T09:32:46.567Z"
   },
   {
    "duration": 6,
    "start_time": "2023-06-19T09:33:09.109Z"
   },
   {
    "duration": 11,
    "start_time": "2023-06-19T09:33:16.193Z"
   },
   {
    "duration": 4,
    "start_time": "2023-06-19T09:34:55.507Z"
   },
   {
    "duration": 4,
    "start_time": "2023-06-19T09:35:10.950Z"
   },
   {
    "duration": 4,
    "start_time": "2023-06-19T09:35:35.387Z"
   },
   {
    "duration": 4,
    "start_time": "2023-06-19T09:35:41.244Z"
   },
   {
    "duration": 3,
    "start_time": "2023-06-19T09:36:08.803Z"
   },
   {
    "duration": 140,
    "start_time": "2023-06-19T09:36:08.809Z"
   },
   {
    "duration": 14,
    "start_time": "2023-06-19T09:36:08.951Z"
   },
   {
    "duration": 226,
    "start_time": "2023-06-19T09:36:08.968Z"
   },
   {
    "duration": 4,
    "start_time": "2023-06-19T09:36:09.232Z"
   },
   {
    "duration": 22,
    "start_time": "2023-06-19T09:36:09.238Z"
   },
   {
    "duration": 35,
    "start_time": "2023-06-19T09:36:09.262Z"
   },
   {
    "duration": 33,
    "start_time": "2023-06-19T09:36:09.299Z"
   },
   {
    "duration": 21,
    "start_time": "2023-06-19T09:36:09.336Z"
   },
   {
    "duration": 40,
    "start_time": "2023-06-19T09:36:09.359Z"
   },
   {
    "duration": 200,
    "start_time": "2023-06-19T09:36:09.401Z"
   },
   {
    "duration": 329,
    "start_time": "2023-06-19T09:36:09.603Z"
   },
   {
    "duration": 308,
    "start_time": "2023-06-19T09:36:09.933Z"
   },
   {
    "duration": 312,
    "start_time": "2023-06-19T09:36:10.243Z"
   },
   {
    "duration": 322,
    "start_time": "2023-06-19T09:36:10.556Z"
   },
   {
    "duration": 4,
    "start_time": "2023-06-19T09:36:10.879Z"
   },
   {
    "duration": 33,
    "start_time": "2023-06-19T09:36:10.885Z"
   },
   {
    "duration": 78,
    "start_time": "2023-06-19T09:36:10.919Z"
   },
   {
    "duration": 3,
    "start_time": "2023-06-19T09:36:10.999Z"
   },
   {
    "duration": 334,
    "start_time": "2023-06-19T09:36:11.004Z"
   },
   {
    "duration": 402,
    "start_time": "2023-06-19T09:36:11.340Z"
   },
   {
    "duration": 311,
    "start_time": "2023-06-19T09:36:11.744Z"
   },
   {
    "duration": 319,
    "start_time": "2023-06-19T09:36:12.057Z"
   },
   {
    "duration": 57,
    "start_time": "2023-06-19T09:36:12.379Z"
   },
   {
    "duration": 468,
    "start_time": "2023-06-19T09:36:12.437Z"
   },
   {
    "duration": 229,
    "start_time": "2023-06-19T09:36:12.907Z"
   },
   {
    "duration": 18,
    "start_time": "2023-06-19T09:36:13.138Z"
   },
   {
    "duration": 60,
    "start_time": "2023-06-19T09:37:12.816Z"
   },
   {
    "duration": 4,
    "start_time": "2023-06-19T09:37:16.939Z"
   },
   {
    "duration": 4,
    "start_time": "2023-06-19T09:37:19.807Z"
   },
   {
    "duration": 195,
    "start_time": "2023-06-19T09:37:28.722Z"
   },
   {
    "duration": 4,
    "start_time": "2023-06-19T09:37:32.090Z"
   },
   {
    "duration": 55,
    "start_time": "2023-06-19T09:37:42.623Z"
   },
   {
    "duration": 4,
    "start_time": "2023-06-19T09:38:04.094Z"
   },
   {
    "duration": 4,
    "start_time": "2023-06-19T09:38:06.789Z"
   },
   {
    "duration": 4,
    "start_time": "2023-06-19T09:38:13.992Z"
   },
   {
    "duration": 5,
    "start_time": "2023-06-19T09:38:28.517Z"
   },
   {
    "duration": 5,
    "start_time": "2023-06-19T09:38:58.293Z"
   },
   {
    "duration": 4,
    "start_time": "2023-06-19T09:39:39.724Z"
   },
   {
    "duration": 790,
    "start_time": "2023-06-19T09:43:34.706Z"
   },
   {
    "duration": 590,
    "start_time": "2023-06-19T11:22:36.166Z"
   },
   {
    "duration": 732,
    "start_time": "2023-06-19T11:22:54.759Z"
   },
   {
    "duration": 647,
    "start_time": "2023-06-19T11:23:01.865Z"
   },
   {
    "duration": 777,
    "start_time": "2023-06-19T11:26:50.289Z"
   },
   {
    "duration": 847,
    "start_time": "2023-06-19T11:27:10.345Z"
   },
   {
    "duration": 724,
    "start_time": "2023-06-19T11:27:39.056Z"
   },
   {
    "duration": 641,
    "start_time": "2023-06-19T11:27:50.797Z"
   },
   {
    "duration": 694,
    "start_time": "2023-06-19T11:29:43.996Z"
   },
   {
    "duration": 464,
    "start_time": "2023-06-19T11:29:50.033Z"
   },
   {
    "duration": 574,
    "start_time": "2023-06-19T11:30:02.495Z"
   },
   {
    "duration": 468,
    "start_time": "2023-06-19T11:30:15.242Z"
   },
   {
    "duration": 486,
    "start_time": "2023-06-19T11:30:22.273Z"
   },
   {
    "duration": 561,
    "start_time": "2023-06-19T11:30:30.513Z"
   },
   {
    "duration": 502,
    "start_time": "2023-06-19T11:30:34.637Z"
   },
   {
    "duration": 469,
    "start_time": "2023-06-19T11:30:38.062Z"
   },
   {
    "duration": 593,
    "start_time": "2023-06-19T11:30:42.842Z"
   },
   {
    "duration": 531,
    "start_time": "2023-06-19T11:31:14.219Z"
   },
   {
    "duration": 488,
    "start_time": "2023-06-19T11:31:23.371Z"
   },
   {
    "duration": 598,
    "start_time": "2023-06-19T11:31:30.500Z"
   },
   {
    "duration": 471,
    "start_time": "2023-06-19T11:31:52.092Z"
   },
   {
    "duration": 594,
    "start_time": "2023-06-19T11:31:56.125Z"
   },
   {
    "duration": 599,
    "start_time": "2023-06-19T11:32:28.599Z"
   },
   {
    "duration": 477,
    "start_time": "2023-06-19T11:34:18.322Z"
   },
   {
    "duration": 591,
    "start_time": "2023-06-19T11:34:26.557Z"
   },
   {
    "duration": 492,
    "start_time": "2023-06-19T11:34:32.529Z"
   },
   {
    "duration": 53,
    "start_time": "2023-06-19T11:37:46.444Z"
   },
   {
    "duration": 50,
    "start_time": "2023-06-19T11:37:50.013Z"
   },
   {
    "duration": 71,
    "start_time": "2023-06-19T11:39:22.164Z"
   },
   {
    "duration": 147,
    "start_time": "2023-06-19T11:43:50.414Z"
   },
   {
    "duration": 27,
    "start_time": "2023-06-19T11:44:06.531Z"
   },
   {
    "duration": 27,
    "start_time": "2023-06-19T11:44:26.632Z"
   },
   {
    "duration": 50,
    "start_time": "2023-06-19T11:45:01.557Z"
   },
   {
    "duration": 4,
    "start_time": "2023-06-19T11:47:14.691Z"
   },
   {
    "duration": 146,
    "start_time": "2023-06-19T11:47:14.698Z"
   },
   {
    "duration": 10,
    "start_time": "2023-06-19T11:47:14.845Z"
   },
   {
    "duration": 194,
    "start_time": "2023-06-19T11:47:14.856Z"
   },
   {
    "duration": 5,
    "start_time": "2023-06-19T11:47:15.052Z"
   },
   {
    "duration": 39,
    "start_time": "2023-06-19T11:47:15.058Z"
   },
   {
    "duration": 33,
    "start_time": "2023-06-19T11:47:15.098Z"
   },
   {
    "duration": 38,
    "start_time": "2023-06-19T11:47:15.132Z"
   },
   {
    "duration": 13,
    "start_time": "2023-06-19T11:47:15.172Z"
   },
   {
    "duration": 27,
    "start_time": "2023-06-19T11:47:15.186Z"
   },
   {
    "duration": 277,
    "start_time": "2023-06-19T11:47:15.215Z"
   },
   {
    "duration": 262,
    "start_time": "2023-06-19T11:47:15.494Z"
   },
   {
    "duration": 296,
    "start_time": "2023-06-19T11:47:15.758Z"
   },
   {
    "duration": 308,
    "start_time": "2023-06-19T11:47:16.057Z"
   },
   {
    "duration": 310,
    "start_time": "2023-06-19T11:47:16.366Z"
   },
   {
    "duration": 4,
    "start_time": "2023-06-19T11:47:16.678Z"
   },
   {
    "duration": 21,
    "start_time": "2023-06-19T11:47:16.683Z"
   },
   {
    "duration": 58,
    "start_time": "2023-06-19T11:47:16.705Z"
   },
   {
    "duration": 3,
    "start_time": "2023-06-19T11:47:16.764Z"
   },
   {
    "duration": 324,
    "start_time": "2023-06-19T11:47:16.769Z"
   },
   {
    "duration": 401,
    "start_time": "2023-06-19T11:47:17.095Z"
   },
   {
    "duration": 322,
    "start_time": "2023-06-19T11:47:17.498Z"
   },
   {
    "duration": 323,
    "start_time": "2023-06-19T11:47:17.823Z"
   },
   {
    "duration": 484,
    "start_time": "2023-06-19T11:47:18.148Z"
   },
   {
    "duration": 569,
    "start_time": "2023-06-19T11:47:18.634Z"
   },
   {
    "duration": 61,
    "start_time": "2023-06-19T11:47:19.205Z"
   },
   {
    "duration": 453,
    "start_time": "2023-06-19T11:47:19.267Z"
   },
   {
    "duration": 222,
    "start_time": "2023-06-19T11:47:19.722Z"
   },
   {
    "duration": 20,
    "start_time": "2023-06-19T11:47:19.945Z"
   },
   {
    "duration": 728,
    "start_time": "2023-06-19T12:59:24.216Z"
   },
   {
    "duration": 259,
    "start_time": "2023-06-19T12:59:24.946Z"
   },
   {
    "duration": 8,
    "start_time": "2023-06-19T12:59:25.207Z"
   },
   {
    "duration": 190,
    "start_time": "2023-06-19T12:59:25.217Z"
   },
   {
    "duration": 4,
    "start_time": "2023-06-19T12:59:25.409Z"
   },
   {
    "duration": 18,
    "start_time": "2023-06-19T12:59:25.414Z"
   },
   {
    "duration": 29,
    "start_time": "2023-06-19T12:59:25.433Z"
   },
   {
    "duration": 35,
    "start_time": "2023-06-19T12:59:25.463Z"
   },
   {
    "duration": 56,
    "start_time": "2023-06-19T12:59:25.499Z"
   },
   {
    "duration": 40,
    "start_time": "2023-06-19T12:59:25.558Z"
   },
   {
    "duration": 263,
    "start_time": "2023-06-19T12:59:25.600Z"
   },
   {
    "duration": 274,
    "start_time": "2023-06-19T12:59:25.864Z"
   },
   {
    "duration": 308,
    "start_time": "2023-06-19T12:59:26.139Z"
   },
   {
    "duration": 283,
    "start_time": "2023-06-19T12:59:26.448Z"
   },
   {
    "duration": 287,
    "start_time": "2023-06-19T12:59:26.732Z"
   },
   {
    "duration": 4,
    "start_time": "2023-06-19T12:59:27.021Z"
   },
   {
    "duration": 17,
    "start_time": "2023-06-19T12:59:27.026Z"
   },
   {
    "duration": 67,
    "start_time": "2023-06-19T12:59:27.045Z"
   },
   {
    "duration": 4,
    "start_time": "2023-06-19T12:59:27.114Z"
   },
   {
    "duration": 281,
    "start_time": "2023-06-19T12:59:27.119Z"
   },
   {
    "duration": 335,
    "start_time": "2023-06-19T12:59:27.402Z"
   },
   {
    "duration": 272,
    "start_time": "2023-06-19T12:59:27.739Z"
   },
   {
    "duration": 287,
    "start_time": "2023-06-19T12:59:28.014Z"
   },
   {
    "duration": 429,
    "start_time": "2023-06-19T12:59:28.303Z"
   },
   {
    "duration": 474,
    "start_time": "2023-06-19T12:59:28.733Z"
   },
   {
    "duration": 47,
    "start_time": "2023-06-19T12:59:29.209Z"
   },
   {
    "duration": 403,
    "start_time": "2023-06-19T12:59:29.257Z"
   },
   {
    "duration": 190,
    "start_time": "2023-06-19T12:59:29.662Z"
   },
   {
    "duration": 16,
    "start_time": "2023-06-19T12:59:29.853Z"
   },
   {
    "duration": 6,
    "start_time": "2023-06-19T13:08:03.723Z"
   },
   {
    "duration": 18,
    "start_time": "2023-06-19T18:39:48.270Z"
   },
   {
    "duration": 15,
    "start_time": "2023-06-19T18:43:26.929Z"
   },
   {
    "duration": 24,
    "start_time": "2023-06-19T18:43:31.216Z"
   },
   {
    "duration": 21,
    "start_time": "2023-06-19T18:43:38.654Z"
   },
   {
    "duration": 17,
    "start_time": "2023-06-19T18:43:51.821Z"
   },
   {
    "duration": 19,
    "start_time": "2023-06-19T18:44:06.123Z"
   },
   {
    "duration": 10,
    "start_time": "2023-06-19T18:44:06.995Z"
   },
   {
    "duration": 17,
    "start_time": "2023-06-19T18:44:51.370Z"
   },
   {
    "duration": 9,
    "start_time": "2023-06-19T18:44:52.271Z"
   },
   {
    "duration": 15,
    "start_time": "2023-06-19T18:47:09.520Z"
   },
   {
    "duration": 18,
    "start_time": "2023-06-19T18:47:16.114Z"
   },
   {
    "duration": 17,
    "start_time": "2023-06-19T18:47:21.108Z"
   },
   {
    "duration": 26,
    "start_time": "2023-06-19T18:47:23.332Z"
   },
   {
    "duration": 3,
    "start_time": "2023-06-19T18:47:29.266Z"
   },
   {
    "duration": 165,
    "start_time": "2023-06-19T18:47:29.271Z"
   },
   {
    "duration": 14,
    "start_time": "2023-06-19T18:47:29.439Z"
   },
   {
    "duration": 182,
    "start_time": "2023-06-19T18:47:29.455Z"
   },
   {
    "duration": 7,
    "start_time": "2023-06-19T18:47:29.652Z"
   },
   {
    "duration": 7,
    "start_time": "2023-06-19T18:47:29.675Z"
   },
   {
    "duration": 57,
    "start_time": "2023-06-19T18:47:29.690Z"
   },
   {
    "duration": 39,
    "start_time": "2023-06-19T18:47:29.749Z"
   },
   {
    "duration": 16,
    "start_time": "2023-06-19T18:47:29.789Z"
   },
   {
    "duration": 183,
    "start_time": "2023-06-19T18:47:29.806Z"
   },
   {
    "duration": 223,
    "start_time": "2023-06-19T18:47:29.992Z"
   },
   {
    "duration": 299,
    "start_time": "2023-06-19T18:47:30.216Z"
   },
   {
    "duration": 353,
    "start_time": "2023-06-19T18:47:30.517Z"
   },
   {
    "duration": 356,
    "start_time": "2023-06-19T18:47:30.872Z"
   },
   {
    "duration": 459,
    "start_time": "2023-06-19T18:47:31.233Z"
   },
   {
    "duration": 4,
    "start_time": "2023-06-19T18:47:31.694Z"
   },
   {
    "duration": 29,
    "start_time": "2023-06-19T18:47:31.700Z"
   },
   {
    "duration": 0,
    "start_time": "2023-06-19T18:47:31.732Z"
   },
   {
    "duration": 0,
    "start_time": "2023-06-19T18:47:31.733Z"
   },
   {
    "duration": 0,
    "start_time": "2023-06-19T18:47:31.735Z"
   },
   {
    "duration": 0,
    "start_time": "2023-06-19T18:47:31.736Z"
   },
   {
    "duration": 0,
    "start_time": "2023-06-19T18:47:31.738Z"
   },
   {
    "duration": 0,
    "start_time": "2023-06-19T18:47:31.739Z"
   },
   {
    "duration": 0,
    "start_time": "2023-06-19T18:47:31.743Z"
   },
   {
    "duration": 0,
    "start_time": "2023-06-19T18:47:31.744Z"
   },
   {
    "duration": 0,
    "start_time": "2023-06-19T18:47:31.746Z"
   },
   {
    "duration": 0,
    "start_time": "2023-06-19T18:47:31.747Z"
   },
   {
    "duration": 0,
    "start_time": "2023-06-19T18:47:31.748Z"
   },
   {
    "duration": 0,
    "start_time": "2023-06-19T18:47:31.749Z"
   },
   {
    "duration": 0,
    "start_time": "2023-06-19T18:47:31.751Z"
   },
   {
    "duration": 10,
    "start_time": "2023-06-19T18:48:01.447Z"
   },
   {
    "duration": 9,
    "start_time": "2023-06-19T18:48:25.291Z"
   },
   {
    "duration": 13,
    "start_time": "2023-06-19T18:48:33.921Z"
   },
   {
    "duration": 3,
    "start_time": "2023-06-19T18:48:39.589Z"
   },
   {
    "duration": 145,
    "start_time": "2023-06-19T18:48:39.593Z"
   },
   {
    "duration": 13,
    "start_time": "2023-06-19T18:48:39.740Z"
   },
   {
    "duration": 190,
    "start_time": "2023-06-19T18:48:39.756Z"
   },
   {
    "duration": 4,
    "start_time": "2023-06-19T18:48:39.959Z"
   },
   {
    "duration": 20,
    "start_time": "2023-06-19T18:48:39.970Z"
   },
   {
    "duration": 32,
    "start_time": "2023-06-19T18:48:39.992Z"
   },
   {
    "duration": 57,
    "start_time": "2023-06-19T18:48:40.026Z"
   },
   {
    "duration": 19,
    "start_time": "2023-06-19T18:48:40.086Z"
   },
   {
    "duration": 71,
    "start_time": "2023-06-19T18:48:40.106Z"
   },
   {
    "duration": 219,
    "start_time": "2023-06-19T18:48:40.179Z"
   },
   {
    "duration": 287,
    "start_time": "2023-06-19T18:48:40.400Z"
   },
   {
    "duration": 328,
    "start_time": "2023-06-19T18:48:40.689Z"
   },
   {
    "duration": 468,
    "start_time": "2023-06-19T18:48:41.019Z"
   },
   {
    "duration": 377,
    "start_time": "2023-06-19T18:48:41.489Z"
   },
   {
    "duration": 4,
    "start_time": "2023-06-19T18:48:41.868Z"
   },
   {
    "duration": 390,
    "start_time": "2023-06-19T18:48:41.873Z"
   },
   {
    "duration": 8,
    "start_time": "2023-06-19T18:48:42.265Z"
   },
   {
    "duration": 92,
    "start_time": "2023-06-19T18:48:42.274Z"
   },
   {
    "duration": 3,
    "start_time": "2023-06-19T18:48:42.369Z"
   },
   {
    "duration": 376,
    "start_time": "2023-06-19T18:48:42.375Z"
   },
   {
    "duration": 344,
    "start_time": "2023-06-19T18:48:42.753Z"
   },
   {
    "duration": 453,
    "start_time": "2023-06-19T18:48:43.099Z"
   },
   {
    "duration": 439,
    "start_time": "2023-06-19T18:48:43.556Z"
   },
   {
    "duration": 537,
    "start_time": "2023-06-19T18:48:43.998Z"
   },
   {
    "duration": 629,
    "start_time": "2023-06-19T18:48:44.537Z"
   },
   {
    "duration": 212,
    "start_time": "2023-06-19T18:48:45.168Z"
   },
   {
    "duration": 534,
    "start_time": "2023-06-19T18:48:45.382Z"
   },
   {
    "duration": 274,
    "start_time": "2023-06-19T18:48:45.918Z"
   },
   {
    "duration": 20,
    "start_time": "2023-06-19T18:48:46.194Z"
   },
   {
    "duration": 358,
    "start_time": "2023-06-19T18:49:12.697Z"
   },
   {
    "duration": 24,
    "start_time": "2023-06-19T18:49:21.526Z"
   },
   {
    "duration": 10,
    "start_time": "2023-06-19T18:49:23.052Z"
   },
   {
    "duration": 370,
    "start_time": "2023-06-19T18:49:35.956Z"
   },
   {
    "duration": 462,
    "start_time": "2023-06-19T18:50:11.712Z"
   },
   {
    "duration": 17,
    "start_time": "2023-06-19T18:50:18.810Z"
   },
   {
    "duration": 462,
    "start_time": "2023-06-19T18:50:29.696Z"
   },
   {
    "duration": 390,
    "start_time": "2023-06-19T18:51:04.866Z"
   },
   {
    "duration": 586,
    "start_time": "2023-06-19T18:51:14.228Z"
   },
   {
    "duration": 367,
    "start_time": "2023-06-19T18:51:47.768Z"
   },
   {
    "duration": 130,
    "start_time": "2023-06-19T18:51:57.880Z"
   },
   {
    "duration": 378,
    "start_time": "2023-06-19T18:52:05.061Z"
   },
   {
    "duration": 478,
    "start_time": "2023-06-19T18:53:10.599Z"
   },
   {
    "duration": 348,
    "start_time": "2023-06-19T18:53:19.090Z"
   },
   {
    "duration": 394,
    "start_time": "2023-06-19T19:04:28.554Z"
   },
   {
    "duration": 380,
    "start_time": "2023-06-19T19:05:44.022Z"
   },
   {
    "duration": 27,
    "start_time": "2023-06-19T19:05:54.220Z"
   },
   {
    "duration": 33,
    "start_time": "2023-06-19T19:06:12.261Z"
   },
   {
    "duration": 42,
    "start_time": "2023-06-19T19:06:23.332Z"
   },
   {
    "duration": 28,
    "start_time": "2023-06-19T19:07:27.560Z"
   },
   {
    "duration": 26,
    "start_time": "2023-06-19T19:07:37.710Z"
   },
   {
    "duration": 24,
    "start_time": "2023-06-19T19:07:51.897Z"
   },
   {
    "duration": 56,
    "start_time": "2023-06-19T19:07:52.646Z"
   },
   {
    "duration": 4,
    "start_time": "2023-06-19T19:07:53.402Z"
   },
   {
    "duration": 17,
    "start_time": "2023-06-19T19:10:15.708Z"
   },
   {
    "duration": 397,
    "start_time": "2023-06-19T19:10:28.001Z"
   },
   {
    "duration": 485,
    "start_time": "2023-06-19T19:10:43.506Z"
   },
   {
    "duration": 21,
    "start_time": "2023-06-19T19:11:29.423Z"
   },
   {
    "duration": 29,
    "start_time": "2023-06-19T19:11:34.513Z"
   },
   {
    "duration": 367,
    "start_time": "2023-06-19T19:11:43.304Z"
   },
   {
    "duration": 396,
    "start_time": "2023-06-19T19:11:54.705Z"
   },
   {
    "duration": 342,
    "start_time": "2023-06-19T19:12:12.217Z"
   },
   {
    "duration": 380,
    "start_time": "2023-06-19T19:12:27.403Z"
   },
   {
    "duration": 741,
    "start_time": "2023-06-20T01:52:26.609Z"
   },
   {
    "duration": 170,
    "start_time": "2023-06-20T01:52:27.352Z"
   },
   {
    "duration": 12,
    "start_time": "2023-06-20T01:52:27.524Z"
   },
   {
    "duration": 160,
    "start_time": "2023-06-20T01:52:27.539Z"
   },
   {
    "duration": 5,
    "start_time": "2023-06-20T01:52:27.701Z"
   },
   {
    "duration": 8,
    "start_time": "2023-06-20T01:52:27.707Z"
   },
   {
    "duration": 16,
    "start_time": "2023-06-20T01:52:27.717Z"
   },
   {
    "duration": 37,
    "start_time": "2023-06-20T01:52:27.734Z"
   },
   {
    "duration": 25,
    "start_time": "2023-06-20T01:52:27.780Z"
   },
   {
    "duration": 113,
    "start_time": "2023-06-20T01:52:27.808Z"
   },
   {
    "duration": 280,
    "start_time": "2023-06-20T01:52:27.923Z"
   },
   {
    "duration": 378,
    "start_time": "2023-06-20T01:52:28.213Z"
   },
   {
    "duration": 385,
    "start_time": "2023-06-20T01:52:28.593Z"
   },
   {
    "duration": 384,
    "start_time": "2023-06-20T01:52:28.983Z"
   },
   {
    "duration": 376,
    "start_time": "2023-06-20T01:52:29.368Z"
   },
   {
    "duration": 20,
    "start_time": "2023-06-20T01:52:29.757Z"
   },
   {
    "duration": 605,
    "start_time": "2023-06-20T01:52:29.788Z"
   },
   {
    "duration": 88,
    "start_time": "2023-06-20T01:52:30.402Z"
   },
   {
    "duration": 8,
    "start_time": "2023-06-20T01:52:30.492Z"
   },
   {
    "duration": 545,
    "start_time": "2023-06-20T01:52:30.505Z"
   },
   {
    "duration": 448,
    "start_time": "2023-06-20T01:52:31.062Z"
   },
   {
    "duration": 404,
    "start_time": "2023-06-20T01:52:31.512Z"
   },
   {
    "duration": 411,
    "start_time": "2023-06-20T01:52:31.918Z"
   },
   {
    "duration": 736,
    "start_time": "2023-06-20T01:52:32.331Z"
   },
   {
    "duration": 663,
    "start_time": "2023-06-20T01:52:33.070Z"
   },
   {
    "duration": 98,
    "start_time": "2023-06-20T01:52:33.735Z"
   },
   {
    "duration": 625,
    "start_time": "2023-06-20T01:52:33.835Z"
   },
   {
    "duration": 402,
    "start_time": "2023-06-20T01:52:34.470Z"
   },
   {
    "duration": 34,
    "start_time": "2023-06-20T01:52:34.880Z"
   },
   {
    "duration": 421,
    "start_time": "2023-06-20T01:53:57.659Z"
   },
   {
    "duration": 710,
    "start_time": "2023-06-20T01:59:08.652Z"
   },
   {
    "duration": 156,
    "start_time": "2023-06-20T01:59:09.364Z"
   },
   {
    "duration": 9,
    "start_time": "2023-06-20T01:59:09.522Z"
   },
   {
    "duration": 101,
    "start_time": "2023-06-20T01:59:09.533Z"
   },
   {
    "duration": 13,
    "start_time": "2023-06-20T01:59:09.651Z"
   },
   {
    "duration": 35,
    "start_time": "2023-06-20T01:59:09.680Z"
   },
   {
    "duration": 9,
    "start_time": "2023-06-20T01:59:09.717Z"
   },
   {
    "duration": 50,
    "start_time": "2023-06-20T01:59:09.727Z"
   },
   {
    "duration": 29,
    "start_time": "2023-06-20T01:59:09.790Z"
   },
   {
    "duration": 94,
    "start_time": "2023-06-20T01:59:09.823Z"
   },
   {
    "duration": 226,
    "start_time": "2023-06-20T01:59:09.918Z"
   },
   {
    "duration": 353,
    "start_time": "2023-06-20T01:59:10.151Z"
   },
   {
    "duration": 353,
    "start_time": "2023-06-20T01:59:10.506Z"
   },
   {
    "duration": 379,
    "start_time": "2023-06-20T01:59:10.861Z"
   },
   {
    "duration": 407,
    "start_time": "2023-06-20T01:59:11.242Z"
   },
   {
    "duration": 18,
    "start_time": "2023-06-20T01:59:11.652Z"
   },
   {
    "duration": 534,
    "start_time": "2023-06-20T01:59:11.671Z"
   },
   {
    "duration": 84,
    "start_time": "2023-06-20T01:59:12.206Z"
   },
   {
    "duration": 40,
    "start_time": "2023-06-20T01:59:12.292Z"
   },
   {
    "duration": 399,
    "start_time": "2023-06-20T01:59:12.334Z"
   },
   {
    "duration": 450,
    "start_time": "2023-06-20T01:59:12.734Z"
   },
   {
    "duration": 400,
    "start_time": "2023-06-20T01:59:13.195Z"
   },
   {
    "duration": 366,
    "start_time": "2023-06-20T01:59:13.597Z"
   },
   {
    "duration": 704,
    "start_time": "2023-06-20T01:59:13.966Z"
   },
   {
    "duration": 573,
    "start_time": "2023-06-20T01:59:14.676Z"
   },
   {
    "duration": 69,
    "start_time": "2023-06-20T01:59:15.265Z"
   },
   {
    "duration": 566,
    "start_time": "2023-06-20T01:59:15.336Z"
   },
   {
    "duration": 380,
    "start_time": "2023-06-20T01:59:15.905Z"
   },
   {
    "duration": 25,
    "start_time": "2023-06-20T01:59:16.287Z"
   },
   {
    "duration": 60,
    "start_time": "2023-06-20T07:57:20.049Z"
   },
   {
    "duration": 854,
    "start_time": "2023-06-20T07:57:37.424Z"
   },
   {
    "duration": 362,
    "start_time": "2023-06-20T07:57:38.280Z"
   },
   {
    "duration": 13,
    "start_time": "2023-06-20T07:57:38.644Z"
   },
   {
    "duration": 210,
    "start_time": "2023-06-20T07:57:38.659Z"
   },
   {
    "duration": 5,
    "start_time": "2023-06-20T07:57:38.872Z"
   },
   {
    "duration": 5,
    "start_time": "2023-06-20T07:57:38.879Z"
   },
   {
    "duration": 8,
    "start_time": "2023-06-20T07:57:38.886Z"
   },
   {
    "duration": 64,
    "start_time": "2023-06-20T07:57:38.896Z"
   },
   {
    "duration": 22,
    "start_time": "2023-06-20T07:57:38.962Z"
   },
   {
    "duration": 32,
    "start_time": "2023-06-20T07:57:38.988Z"
   },
   {
    "duration": 305,
    "start_time": "2023-06-20T07:57:39.022Z"
   },
   {
    "duration": 297,
    "start_time": "2023-06-20T07:57:39.329Z"
   },
   {
    "duration": 390,
    "start_time": "2023-06-20T07:57:39.628Z"
   },
   {
    "duration": 351,
    "start_time": "2023-06-20T07:57:40.020Z"
   },
   {
    "duration": 363,
    "start_time": "2023-06-20T07:57:40.372Z"
   },
   {
    "duration": 4,
    "start_time": "2023-06-20T07:57:40.737Z"
   },
   {
    "duration": 467,
    "start_time": "2023-06-20T07:57:40.743Z"
   },
   {
    "duration": 358,
    "start_time": "2023-06-20T07:57:41.212Z"
   },
   {
    "duration": 85,
    "start_time": "2023-06-20T07:57:41.572Z"
   },
   {
    "duration": 4,
    "start_time": "2023-06-20T07:57:41.659Z"
   },
   {
    "duration": 378,
    "start_time": "2023-06-20T07:57:41.665Z"
   },
   {
    "duration": 375,
    "start_time": "2023-06-20T07:57:42.046Z"
   },
   {
    "duration": 369,
    "start_time": "2023-06-20T07:57:42.423Z"
   },
   {
    "duration": 401,
    "start_time": "2023-06-20T07:57:42.794Z"
   },
   {
    "duration": 714,
    "start_time": "2023-06-20T07:57:43.197Z"
   },
   {
    "duration": 601,
    "start_time": "2023-06-20T07:57:43.913Z"
   },
   {
    "duration": 76,
    "start_time": "2023-06-20T07:57:44.515Z"
   },
   {
    "duration": 705,
    "start_time": "2023-06-20T07:57:44.595Z"
   },
   {
    "duration": 279,
    "start_time": "2023-06-20T07:57:45.302Z"
   },
   {
    "duration": 27,
    "start_time": "2023-06-20T07:57:45.583Z"
   },
   {
    "duration": 90,
    "start_time": "2023-06-20T08:13:06.490Z"
   },
   {
    "duration": 72,
    "start_time": "2023-06-20T08:14:21.099Z"
   },
   {
    "duration": 374,
    "start_time": "2023-06-20T08:15:13.973Z"
   },
   {
    "duration": 6,
    "start_time": "2023-06-20T08:15:22.049Z"
   },
   {
    "duration": 5,
    "start_time": "2023-06-20T08:16:04.615Z"
   },
   {
    "duration": 728,
    "start_time": "2023-06-20T08:18:53.762Z"
   },
   {
    "duration": 5,
    "start_time": "2023-06-20T08:26:16.551Z"
   },
   {
    "duration": 7,
    "start_time": "2023-06-20T08:33:59.098Z"
   },
   {
    "duration": 20,
    "start_time": "2023-06-20T08:35:31.521Z"
   },
   {
    "duration": 1495,
    "start_time": "2023-06-20T10:33:22.429Z"
   },
   {
    "duration": 173,
    "start_time": "2023-06-20T10:33:23.928Z"
   },
   {
    "duration": 17,
    "start_time": "2023-06-20T10:33:24.103Z"
   },
   {
    "duration": 168,
    "start_time": "2023-06-20T10:33:24.123Z"
   },
   {
    "duration": 6,
    "start_time": "2023-06-20T10:33:24.292Z"
   },
   {
    "duration": 66,
    "start_time": "2023-06-20T10:33:24.299Z"
   },
   {
    "duration": 19,
    "start_time": "2023-06-20T10:33:24.367Z"
   },
   {
    "duration": 54,
    "start_time": "2023-06-20T10:33:24.388Z"
   },
   {
    "duration": 27,
    "start_time": "2023-06-20T10:33:24.445Z"
   },
   {
    "duration": 57,
    "start_time": "2023-06-20T10:33:24.475Z"
   },
   {
    "duration": 360,
    "start_time": "2023-06-20T10:33:24.535Z"
   },
   {
    "duration": 464,
    "start_time": "2023-06-20T10:33:24.897Z"
   },
   {
    "duration": 522,
    "start_time": "2023-06-20T10:33:25.367Z"
   },
   {
    "duration": 504,
    "start_time": "2023-06-20T10:33:25.891Z"
   },
   {
    "duration": 508,
    "start_time": "2023-06-20T10:33:26.401Z"
   },
   {
    "duration": 6,
    "start_time": "2023-06-20T10:33:26.911Z"
   },
   {
    "duration": 666,
    "start_time": "2023-06-20T10:33:26.919Z"
   },
   {
    "duration": 434,
    "start_time": "2023-06-20T10:33:27.590Z"
   },
   {
    "duration": 88,
    "start_time": "2023-06-20T10:33:28.026Z"
   },
   {
    "duration": 4,
    "start_time": "2023-06-20T10:33:28.116Z"
   },
   {
    "duration": 504,
    "start_time": "2023-06-20T10:33:28.122Z"
   },
   {
    "duration": 644,
    "start_time": "2023-06-20T10:33:28.631Z"
   },
   {
    "duration": 429,
    "start_time": "2023-06-20T10:33:29.277Z"
   },
   {
    "duration": 399,
    "start_time": "2023-06-20T10:33:29.707Z"
   },
   {
    "duration": 630,
    "start_time": "2023-06-20T10:33:30.108Z"
   },
   {
    "duration": 803,
    "start_time": "2023-06-20T10:33:30.741Z"
   },
   {
    "duration": 79,
    "start_time": "2023-06-20T10:33:31.546Z"
   },
   {
    "duration": 6,
    "start_time": "2023-06-20T10:33:31.629Z"
   },
   {
    "duration": 612,
    "start_time": "2023-06-20T10:33:31.637Z"
   },
   {
    "duration": 13,
    "start_time": "2023-06-20T10:33:32.259Z"
   },
   {
    "duration": 366,
    "start_time": "2023-06-20T10:33:32.273Z"
   },
   {
    "duration": 19,
    "start_time": "2023-06-20T10:33:32.641Z"
   },
   {
    "duration": 57,
    "start_time": "2023-06-20T10:33:32.662Z"
   },
   {
    "duration": 1331,
    "start_time": "2023-06-20T10:41:44.998Z"
   },
   {
    "duration": 183,
    "start_time": "2023-06-20T10:41:46.333Z"
   },
   {
    "duration": 19,
    "start_time": "2023-06-20T10:41:46.518Z"
   },
   {
    "duration": 141,
    "start_time": "2023-06-20T10:41:46.559Z"
   },
   {
    "duration": 8,
    "start_time": "2023-06-20T10:41:46.714Z"
   },
   {
    "duration": 9,
    "start_time": "2023-06-20T10:41:46.724Z"
   },
   {
    "duration": 19,
    "start_time": "2023-06-20T10:41:46.760Z"
   },
   {
    "duration": 51,
    "start_time": "2023-06-20T10:41:46.781Z"
   },
   {
    "duration": 42,
    "start_time": "2023-06-20T10:41:46.835Z"
   },
   {
    "duration": 51,
    "start_time": "2023-06-20T10:41:46.882Z"
   },
   {
    "duration": 356,
    "start_time": "2023-06-20T10:41:46.936Z"
   },
   {
    "duration": 395,
    "start_time": "2023-06-20T10:41:47.297Z"
   },
   {
    "duration": 416,
    "start_time": "2023-06-20T10:41:47.699Z"
   },
   {
    "duration": 628,
    "start_time": "2023-06-20T10:41:48.123Z"
   },
   {
    "duration": 560,
    "start_time": "2023-06-20T10:41:48.753Z"
   },
   {
    "duration": 6,
    "start_time": "2023-06-20T10:41:49.315Z"
   },
   {
    "duration": 701,
    "start_time": "2023-06-20T10:41:49.323Z"
   },
   {
    "duration": 581,
    "start_time": "2023-06-20T10:41:50.026Z"
   },
   {
    "duration": 114,
    "start_time": "2023-06-20T10:41:50.613Z"
   },
   {
    "duration": 12,
    "start_time": "2023-06-20T10:41:50.733Z"
   },
   {
    "duration": 455,
    "start_time": "2023-06-20T10:41:50.747Z"
   },
   {
    "duration": 625,
    "start_time": "2023-06-20T10:41:51.205Z"
   },
   {
    "duration": 444,
    "start_time": "2023-06-20T10:41:51.832Z"
   },
   {
    "duration": 409,
    "start_time": "2023-06-20T10:41:52.287Z"
   },
   {
    "duration": 692,
    "start_time": "2023-06-20T10:41:52.701Z"
   },
   {
    "duration": 840,
    "start_time": "2023-06-20T10:41:53.397Z"
   },
   {
    "duration": 115,
    "start_time": "2023-06-20T10:41:54.240Z"
   },
   {
    "duration": 8,
    "start_time": "2023-06-20T10:41:54.361Z"
   },
   {
    "duration": 896,
    "start_time": "2023-06-20T10:41:54.371Z"
   },
   {
    "duration": 17,
    "start_time": "2023-06-20T10:41:55.274Z"
   },
   {
    "duration": 430,
    "start_time": "2023-06-20T10:41:55.299Z"
   },
   {
    "duration": 34,
    "start_time": "2023-06-20T10:41:55.731Z"
   },
   {
    "duration": 37,
    "start_time": "2023-06-20T10:41:55.775Z"
   },
   {
    "duration": 54,
    "start_time": "2023-06-20T11:29:30.699Z"
   },
   {
    "duration": 1717,
    "start_time": "2023-06-20T11:29:39.632Z"
   },
   {
    "duration": 783,
    "start_time": "2023-06-20T11:29:41.354Z"
   },
   {
    "duration": 24,
    "start_time": "2023-06-20T11:29:42.139Z"
   },
   {
    "duration": 120,
    "start_time": "2023-06-20T11:29:42.166Z"
   },
   {
    "duration": 4,
    "start_time": "2023-06-20T11:29:42.287Z"
   },
   {
    "duration": 19,
    "start_time": "2023-06-20T11:29:42.293Z"
   },
   {
    "duration": 6,
    "start_time": "2023-06-20T11:29:42.315Z"
   },
   {
    "duration": 76,
    "start_time": "2023-06-20T11:29:42.323Z"
   },
   {
    "duration": 17,
    "start_time": "2023-06-20T11:29:42.401Z"
   },
   {
    "duration": 56,
    "start_time": "2023-06-20T11:29:42.420Z"
   },
   {
    "duration": 294,
    "start_time": "2023-06-20T11:29:42.481Z"
   },
   {
    "duration": 365,
    "start_time": "2023-06-20T11:29:42.776Z"
   },
   {
    "duration": 544,
    "start_time": "2023-06-20T11:29:43.144Z"
   },
   {
    "duration": 417,
    "start_time": "2023-06-20T11:29:43.689Z"
   },
   {
    "duration": 453,
    "start_time": "2023-06-20T11:29:44.108Z"
   },
   {
    "duration": 6,
    "start_time": "2023-06-20T11:29:44.563Z"
   },
   {
    "duration": 557,
    "start_time": "2023-06-20T11:29:44.571Z"
   },
   {
    "duration": 488,
    "start_time": "2023-06-20T11:29:45.131Z"
   },
   {
    "duration": 113,
    "start_time": "2023-06-20T11:29:45.621Z"
   },
   {
    "duration": 4,
    "start_time": "2023-06-20T11:29:45.736Z"
   },
   {
    "duration": 417,
    "start_time": "2023-06-20T11:29:45.743Z"
   },
   {
    "duration": 589,
    "start_time": "2023-06-20T11:29:46.162Z"
   },
   {
    "duration": 420,
    "start_time": "2023-06-20T11:29:46.764Z"
   },
   {
    "duration": 459,
    "start_time": "2023-06-20T11:29:47.186Z"
   },
   {
    "duration": 670,
    "start_time": "2023-06-20T11:29:47.647Z"
   },
   {
    "duration": 813,
    "start_time": "2023-06-20T11:29:48.320Z"
   },
   {
    "duration": 113,
    "start_time": "2023-06-20T11:29:49.136Z"
   },
   {
    "duration": 12,
    "start_time": "2023-06-20T11:29:49.257Z"
   },
   {
    "duration": 769,
    "start_time": "2023-06-20T11:29:49.272Z"
   },
   {
    "duration": 8,
    "start_time": "2023-06-20T11:29:50.043Z"
   },
   {
    "duration": 355,
    "start_time": "2023-06-20T11:29:50.053Z"
   },
   {
    "duration": 14,
    "start_time": "2023-06-20T11:29:50.413Z"
   },
   {
    "duration": 54,
    "start_time": "2023-06-20T11:29:50.429Z"
   },
   {
    "duration": 1494,
    "start_time": "2023-06-20T13:26:16.453Z"
   },
   {
    "duration": 659,
    "start_time": "2023-06-20T13:26:17.949Z"
   },
   {
    "duration": 10,
    "start_time": "2023-06-20T13:26:18.610Z"
   },
   {
    "duration": 204,
    "start_time": "2023-06-20T13:26:18.623Z"
   },
   {
    "duration": 16,
    "start_time": "2023-06-20T13:26:18.866Z"
   },
   {
    "duration": 7,
    "start_time": "2023-06-20T13:26:18.885Z"
   },
   {
    "duration": 10,
    "start_time": "2023-06-20T13:26:18.894Z"
   },
   {
    "duration": 26,
    "start_time": "2023-06-20T13:26:18.906Z"
   },
   {
    "duration": 41,
    "start_time": "2023-06-20T13:26:18.933Z"
   },
   {
    "duration": 51,
    "start_time": "2023-06-20T13:26:18.980Z"
   },
   {
    "duration": 320,
    "start_time": "2023-06-20T13:26:19.033Z"
   },
   {
    "duration": 407,
    "start_time": "2023-06-20T13:26:19.356Z"
   },
   {
    "duration": 446,
    "start_time": "2023-06-20T13:26:19.765Z"
   },
   {
    "duration": 371,
    "start_time": "2023-06-20T13:26:20.213Z"
   },
   {
    "duration": 424,
    "start_time": "2023-06-20T13:26:20.587Z"
   },
   {
    "duration": 6,
    "start_time": "2023-06-20T13:26:21.014Z"
   },
   {
    "duration": 530,
    "start_time": "2023-06-20T13:26:21.022Z"
   },
   {
    "duration": 408,
    "start_time": "2023-06-20T13:26:21.556Z"
   },
   {
    "duration": 104,
    "start_time": "2023-06-20T13:26:21.966Z"
   },
   {
    "duration": 8,
    "start_time": "2023-06-20T13:26:22.075Z"
   },
   {
    "duration": 363,
    "start_time": "2023-06-20T13:26:22.085Z"
   },
   {
    "duration": 494,
    "start_time": "2023-06-20T13:26:22.456Z"
   },
   {
    "duration": 387,
    "start_time": "2023-06-20T13:26:22.956Z"
   },
   {
    "duration": 486,
    "start_time": "2023-06-20T13:26:23.345Z"
   },
   {
    "duration": 622,
    "start_time": "2023-06-20T13:26:23.834Z"
   },
   {
    "duration": 737,
    "start_time": "2023-06-20T13:26:24.460Z"
   },
   {
    "duration": 90,
    "start_time": "2023-06-20T13:26:25.200Z"
   },
   {
    "duration": 7,
    "start_time": "2023-06-20T13:26:25.295Z"
   },
   {
    "duration": 644,
    "start_time": "2023-06-20T13:26:25.303Z"
   },
   {
    "duration": 13,
    "start_time": "2023-06-20T13:26:25.956Z"
   },
   {
    "duration": 310,
    "start_time": "2023-06-20T13:26:25.971Z"
   },
   {
    "duration": 10,
    "start_time": "2023-06-20T13:26:26.283Z"
   },
   {
    "duration": 29,
    "start_time": "2023-06-20T13:26:26.295Z"
   },
   {
    "duration": 46,
    "start_time": "2023-06-20T22:43:28.618Z"
   },
   {
    "duration": 1236,
    "start_time": "2023-06-20T22:43:44.502Z"
   },
   {
    "duration": 558,
    "start_time": "2023-06-20T22:43:45.740Z"
   },
   {
    "duration": 10,
    "start_time": "2023-06-20T22:43:46.300Z"
   },
   {
    "duration": 199,
    "start_time": "2023-06-20T22:43:46.312Z"
   },
   {
    "duration": 41,
    "start_time": "2023-06-20T22:43:46.517Z"
   },
   {
    "duration": 11,
    "start_time": "2023-06-20T22:43:46.559Z"
   },
   {
    "duration": 7,
    "start_time": "2023-06-20T22:43:46.571Z"
   },
   {
    "duration": 22,
    "start_time": "2023-06-20T22:43:46.580Z"
   },
   {
    "duration": 14,
    "start_time": "2023-06-20T22:43:46.604Z"
   },
   {
    "duration": 58,
    "start_time": "2023-06-20T22:43:46.619Z"
   },
   {
    "duration": 200,
    "start_time": "2023-06-20T22:43:46.679Z"
   },
   {
    "duration": 270,
    "start_time": "2023-06-20T22:43:46.881Z"
   },
   {
    "duration": 424,
    "start_time": "2023-06-20T22:43:47.157Z"
   },
   {
    "duration": 337,
    "start_time": "2023-06-20T22:43:47.584Z"
   },
   {
    "duration": 316,
    "start_time": "2023-06-20T22:43:47.923Z"
   },
   {
    "duration": 4,
    "start_time": "2023-06-20T22:43:48.241Z"
   },
   {
    "duration": 372,
    "start_time": "2023-06-20T22:43:48.256Z"
   },
   {
    "duration": 98,
    "start_time": "2023-06-20T22:43:48.630Z"
   },
   {
    "duration": 0,
    "start_time": "2023-06-20T22:43:48.729Z"
   },
   {
    "duration": 0,
    "start_time": "2023-06-20T22:43:48.730Z"
   },
   {
    "duration": 0,
    "start_time": "2023-06-20T22:43:48.731Z"
   },
   {
    "duration": 0,
    "start_time": "2023-06-20T22:43:48.733Z"
   },
   {
    "duration": 0,
    "start_time": "2023-06-20T22:43:48.734Z"
   },
   {
    "duration": 0,
    "start_time": "2023-06-20T22:43:48.735Z"
   },
   {
    "duration": 0,
    "start_time": "2023-06-20T22:43:48.736Z"
   },
   {
    "duration": 1,
    "start_time": "2023-06-20T22:43:48.756Z"
   },
   {
    "duration": 0,
    "start_time": "2023-06-20T22:43:48.758Z"
   },
   {
    "duration": 0,
    "start_time": "2023-06-20T22:43:48.759Z"
   },
   {
    "duration": 0,
    "start_time": "2023-06-20T22:43:48.760Z"
   },
   {
    "duration": 0,
    "start_time": "2023-06-20T22:43:48.761Z"
   },
   {
    "duration": 0,
    "start_time": "2023-06-20T22:43:48.763Z"
   },
   {
    "duration": 0,
    "start_time": "2023-06-20T22:43:48.764Z"
   },
   {
    "duration": 0,
    "start_time": "2023-06-20T22:43:48.765Z"
   },
   {
    "duration": 18,
    "start_time": "2023-06-20T22:44:04.955Z"
   },
   {
    "duration": 11,
    "start_time": "2023-06-20T22:45:20.724Z"
   },
   {
    "duration": 12,
    "start_time": "2023-06-20T22:45:24.553Z"
   },
   {
    "duration": 10,
    "start_time": "2023-06-20T22:45:39.803Z"
   },
   {
    "duration": 10,
    "start_time": "2023-06-20T22:45:42.011Z"
   },
   {
    "duration": 3,
    "start_time": "2023-06-20T22:45:45.497Z"
   },
   {
    "duration": 119,
    "start_time": "2023-06-20T22:45:45.501Z"
   },
   {
    "duration": 8,
    "start_time": "2023-06-20T22:45:45.621Z"
   },
   {
    "duration": 167,
    "start_time": "2023-06-20T22:45:45.631Z"
   },
   {
    "duration": 3,
    "start_time": "2023-06-20T22:45:45.800Z"
   },
   {
    "duration": 10,
    "start_time": "2023-06-20T22:45:45.805Z"
   },
   {
    "duration": 14,
    "start_time": "2023-06-20T22:45:45.816Z"
   },
   {
    "duration": 50,
    "start_time": "2023-06-20T22:45:45.831Z"
   },
   {
    "duration": 13,
    "start_time": "2023-06-20T22:45:45.882Z"
   },
   {
    "duration": 141,
    "start_time": "2023-06-20T22:45:45.897Z"
   },
   {
    "duration": 194,
    "start_time": "2023-06-20T22:45:46.040Z"
   },
   {
    "duration": 283,
    "start_time": "2023-06-20T22:45:46.236Z"
   },
   {
    "duration": 303,
    "start_time": "2023-06-20T22:45:46.521Z"
   },
   {
    "duration": 317,
    "start_time": "2023-06-20T22:45:46.825Z"
   },
   {
    "duration": 389,
    "start_time": "2023-06-20T22:45:47.143Z"
   },
   {
    "duration": 3,
    "start_time": "2023-06-20T22:45:47.534Z"
   },
   {
    "duration": 495,
    "start_time": "2023-06-20T22:45:47.539Z"
   },
   {
    "duration": 355,
    "start_time": "2023-06-20T22:45:48.036Z"
   },
   {
    "duration": 81,
    "start_time": "2023-06-20T22:45:48.393Z"
   },
   {
    "duration": 3,
    "start_time": "2023-06-20T22:45:48.477Z"
   },
   {
    "duration": 332,
    "start_time": "2023-06-20T22:45:48.482Z"
   },
   {
    "duration": 422,
    "start_time": "2023-06-20T22:45:48.816Z"
   },
   {
    "duration": 313,
    "start_time": "2023-06-20T22:45:49.240Z"
   },
   {
    "duration": 338,
    "start_time": "2023-06-20T22:45:49.556Z"
   },
   {
    "duration": 637,
    "start_time": "2023-06-20T22:45:49.895Z"
   },
   {
    "duration": 482,
    "start_time": "2023-06-20T22:45:50.534Z"
   },
   {
    "duration": 64,
    "start_time": "2023-06-20T22:45:51.017Z"
   },
   {
    "duration": 5,
    "start_time": "2023-06-20T22:45:51.084Z"
   },
   {
    "duration": 639,
    "start_time": "2023-06-20T22:45:51.090Z"
   },
   {
    "duration": 5,
    "start_time": "2023-06-20T22:45:51.731Z"
   },
   {
    "duration": 250,
    "start_time": "2023-06-20T22:45:51.738Z"
   },
   {
    "duration": 8,
    "start_time": "2023-06-20T22:45:51.990Z"
   },
   {
    "duration": 21,
    "start_time": "2023-06-20T22:45:51.999Z"
   },
   {
    "duration": 11,
    "start_time": "2023-06-20T22:46:34.933Z"
   },
   {
    "duration": 11,
    "start_time": "2023-06-20T22:46:43.153Z"
   },
   {
    "duration": 10,
    "start_time": "2023-06-20T22:46:48.287Z"
   },
   {
    "duration": 10,
    "start_time": "2023-06-20T22:46:50.733Z"
   },
   {
    "duration": 11,
    "start_time": "2023-06-20T22:46:59.277Z"
   },
   {
    "duration": 10,
    "start_time": "2023-06-20T22:47:02.843Z"
   },
   {
    "duration": 2,
    "start_time": "2023-06-20T22:47:07.454Z"
   },
   {
    "duration": 116,
    "start_time": "2023-06-20T22:47:07.486Z"
   },
   {
    "duration": 10,
    "start_time": "2023-06-20T22:47:07.604Z"
   },
   {
    "duration": 196,
    "start_time": "2023-06-20T22:47:07.615Z"
   },
   {
    "duration": 4,
    "start_time": "2023-06-20T22:47:07.813Z"
   },
   {
    "duration": 4,
    "start_time": "2023-06-20T22:47:07.858Z"
   },
   {
    "duration": 8,
    "start_time": "2023-06-20T22:47:07.863Z"
   },
   {
    "duration": 25,
    "start_time": "2023-06-20T22:47:07.873Z"
   },
   {
    "duration": 14,
    "start_time": "2023-06-20T22:47:07.900Z"
   },
   {
    "duration": 51,
    "start_time": "2023-06-20T22:47:07.916Z"
   },
   {
    "duration": 181,
    "start_time": "2023-06-20T22:47:07.969Z"
   },
   {
    "duration": 248,
    "start_time": "2023-06-20T22:47:08.156Z"
   },
   {
    "duration": 409,
    "start_time": "2023-06-20T22:47:08.406Z"
   },
   {
    "duration": 376,
    "start_time": "2023-06-20T22:47:08.817Z"
   },
   {
    "duration": 334,
    "start_time": "2023-06-20T22:47:09.196Z"
   },
   {
    "duration": 3,
    "start_time": "2023-06-20T22:47:09.532Z"
   },
   {
    "duration": 353,
    "start_time": "2023-06-20T22:47:09.537Z"
   },
   {
    "duration": 318,
    "start_time": "2023-06-20T22:47:09.892Z"
   },
   {
    "duration": 70,
    "start_time": "2023-06-20T22:47:10.213Z"
   },
   {
    "duration": 4,
    "start_time": "2023-06-20T22:47:10.285Z"
   },
   {
    "duration": 313,
    "start_time": "2023-06-20T22:47:10.290Z"
   },
   {
    "duration": 444,
    "start_time": "2023-06-20T22:47:10.605Z"
   },
   {
    "duration": 288,
    "start_time": "2023-06-20T22:47:11.051Z"
   },
   {
    "duration": 305,
    "start_time": "2023-06-20T22:47:11.342Z"
   },
   {
    "duration": 484,
    "start_time": "2023-06-20T22:47:11.656Z"
   },
   {
    "duration": 584,
    "start_time": "2023-06-20T22:47:12.142Z"
   },
   {
    "duration": 65,
    "start_time": "2023-06-20T22:47:12.728Z"
   },
   {
    "duration": 6,
    "start_time": "2023-06-20T22:47:12.794Z"
   },
   {
    "duration": 475,
    "start_time": "2023-06-20T22:47:12.802Z"
   },
   {
    "duration": 6,
    "start_time": "2023-06-20T22:47:13.279Z"
   },
   {
    "duration": 231,
    "start_time": "2023-06-20T22:47:13.286Z"
   },
   {
    "duration": 9,
    "start_time": "2023-06-20T22:47:13.519Z"
   },
   {
    "duration": 37,
    "start_time": "2023-06-20T22:47:13.530Z"
   },
   {
    "duration": 306,
    "start_time": "2023-06-20T22:50:52.887Z"
   },
   {
    "duration": 470,
    "start_time": "2023-06-20T22:51:00.441Z"
   },
   {
    "duration": 337,
    "start_time": "2023-06-20T22:51:04.051Z"
   },
   {
    "duration": 365,
    "start_time": "2023-06-20T22:51:10.003Z"
   },
   {
    "duration": 1051,
    "start_time": "2023-06-20T22:51:33.395Z"
   },
   {
    "duration": 120,
    "start_time": "2023-06-20T22:51:34.448Z"
   },
   {
    "duration": 9,
    "start_time": "2023-06-20T22:51:34.570Z"
   },
   {
    "duration": 184,
    "start_time": "2023-06-20T22:51:34.581Z"
   },
   {
    "duration": 5,
    "start_time": "2023-06-20T22:51:34.766Z"
   },
   {
    "duration": 24,
    "start_time": "2023-06-20T22:51:34.773Z"
   },
   {
    "duration": 28,
    "start_time": "2023-06-20T22:51:34.799Z"
   },
   {
    "duration": 32,
    "start_time": "2023-06-20T22:51:34.828Z"
   },
   {
    "duration": 23,
    "start_time": "2023-06-20T22:51:34.862Z"
   },
   {
    "duration": 44,
    "start_time": "2023-06-20T22:51:34.888Z"
   },
   {
    "duration": 203,
    "start_time": "2023-06-20T22:51:34.934Z"
   },
   {
    "duration": 303,
    "start_time": "2023-06-20T22:51:35.139Z"
   },
   {
    "duration": 416,
    "start_time": "2023-06-20T22:51:35.444Z"
   },
   {
    "duration": 312,
    "start_time": "2023-06-20T22:51:35.866Z"
   },
   {
    "duration": 329,
    "start_time": "2023-06-20T22:51:36.179Z"
   },
   {
    "duration": 4,
    "start_time": "2023-06-20T22:51:36.510Z"
   },
   {
    "duration": 390,
    "start_time": "2023-06-20T22:51:36.515Z"
   },
   {
    "duration": 339,
    "start_time": "2023-06-20T22:51:36.907Z"
   },
   {
    "duration": 69,
    "start_time": "2023-06-20T22:51:37.248Z"
   },
   {
    "duration": 4,
    "start_time": "2023-06-20T22:51:37.319Z"
   },
   {
    "duration": 365,
    "start_time": "2023-06-20T22:51:37.324Z"
   },
   {
    "duration": 444,
    "start_time": "2023-06-20T22:51:37.690Z"
   },
   {
    "duration": 326,
    "start_time": "2023-06-20T22:51:38.135Z"
   },
   {
    "duration": 329,
    "start_time": "2023-06-20T22:51:38.465Z"
   },
   {
    "duration": 566,
    "start_time": "2023-06-20T22:51:38.797Z"
   },
   {
    "duration": 591,
    "start_time": "2023-06-20T22:51:39.365Z"
   },
   {
    "duration": 55,
    "start_time": "2023-06-20T22:51:39.958Z"
   },
   {
    "duration": 5,
    "start_time": "2023-06-20T22:51:40.015Z"
   },
   {
    "duration": 498,
    "start_time": "2023-06-20T22:51:40.022Z"
   },
   {
    "duration": 5,
    "start_time": "2023-06-20T22:51:40.521Z"
   },
   {
    "duration": 240,
    "start_time": "2023-06-20T22:51:40.527Z"
   },
   {
    "duration": 9,
    "start_time": "2023-06-20T22:51:40.770Z"
   },
   {
    "duration": 26,
    "start_time": "2023-06-20T22:51:40.781Z"
   },
   {
    "duration": 325,
    "start_time": "2023-06-20T22:51:50.944Z"
   },
   {
    "duration": 1109,
    "start_time": "2023-06-20T22:51:58.520Z"
   },
   {
    "duration": 120,
    "start_time": "2023-06-20T22:51:59.631Z"
   },
   {
    "duration": 17,
    "start_time": "2023-06-20T22:51:59.752Z"
   },
   {
    "duration": 155,
    "start_time": "2023-06-20T22:51:59.770Z"
   },
   {
    "duration": 30,
    "start_time": "2023-06-20T22:51:59.927Z"
   },
   {
    "duration": 9,
    "start_time": "2023-06-20T22:51:59.964Z"
   },
   {
    "duration": 18,
    "start_time": "2023-06-20T22:51:59.974Z"
   },
   {
    "duration": 35,
    "start_time": "2023-06-20T22:51:59.994Z"
   },
   {
    "duration": 56,
    "start_time": "2023-06-20T22:52:00.031Z"
   },
   {
    "duration": 56,
    "start_time": "2023-06-20T22:52:00.090Z"
   },
   {
    "duration": 244,
    "start_time": "2023-06-20T22:52:00.148Z"
   },
   {
    "duration": 280,
    "start_time": "2023-06-20T22:52:00.394Z"
   },
   {
    "duration": 320,
    "start_time": "2023-06-20T22:52:00.676Z"
   },
   {
    "duration": 421,
    "start_time": "2023-06-20T22:52:00.998Z"
   },
   {
    "duration": 348,
    "start_time": "2023-06-20T22:52:01.421Z"
   },
   {
    "duration": 4,
    "start_time": "2023-06-20T22:52:01.771Z"
   },
   {
    "duration": 429,
    "start_time": "2023-06-20T22:52:01.777Z"
   },
   {
    "duration": 391,
    "start_time": "2023-06-20T22:52:02.207Z"
   },
   {
    "duration": 81,
    "start_time": "2023-06-20T22:52:02.600Z"
   },
   {
    "duration": 3,
    "start_time": "2023-06-20T22:52:02.683Z"
   },
   {
    "duration": 399,
    "start_time": "2023-06-20T22:52:02.688Z"
   },
   {
    "duration": 485,
    "start_time": "2023-06-20T22:52:03.089Z"
   },
   {
    "duration": 341,
    "start_time": "2023-06-20T22:52:03.575Z"
   },
   {
    "duration": 371,
    "start_time": "2023-06-20T22:52:03.919Z"
   },
   {
    "duration": 515,
    "start_time": "2023-06-20T22:52:04.292Z"
   },
   {
    "duration": 627,
    "start_time": "2023-06-20T22:52:04.809Z"
   },
   {
    "duration": 63,
    "start_time": "2023-06-20T22:52:05.438Z"
   },
   {
    "duration": 5,
    "start_time": "2023-06-20T22:52:05.504Z"
   },
   {
    "duration": 517,
    "start_time": "2023-06-20T22:52:05.511Z"
   },
   {
    "duration": 5,
    "start_time": "2023-06-20T22:52:06.031Z"
   },
   {
    "duration": 279,
    "start_time": "2023-06-20T22:52:06.038Z"
   },
   {
    "duration": 8,
    "start_time": "2023-06-20T22:52:06.319Z"
   },
   {
    "duration": 41,
    "start_time": "2023-06-20T22:52:06.328Z"
   }
  ],
  "kernelspec": {
   "display_name": "Python 3 (ipykernel)",
   "language": "python",
   "name": "python3"
  },
  "language_info": {
   "codemirror_mode": {
    "name": "ipython",
    "version": 3
   },
   "file_extension": ".py",
   "mimetype": "text/x-python",
   "name": "python",
   "nbconvert_exporter": "python",
   "pygments_lexer": "ipython3",
   "version": "3.9.5"
  },
  "toc": {
   "base_numbering": 1,
   "nav_menu": {},
   "number_sections": true,
   "sideBar": true,
   "skip_h1_title": true,
   "title_cell": "Table of Contents",
   "title_sidebar": "Contents",
   "toc_cell": false,
   "toc_position": {},
   "toc_section_display": true,
   "toc_window_display": false
  }
 },
 "nbformat": 4,
 "nbformat_minor": 5
}
