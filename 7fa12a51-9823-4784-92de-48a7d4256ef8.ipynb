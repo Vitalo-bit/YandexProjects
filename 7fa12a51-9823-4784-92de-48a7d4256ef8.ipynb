{
 "cells": [
  {
   "cell_type": "markdown",
   "metadata": {},
   "source": [
    "Привет еще раз! меня зовут Люман Аблаев. Сегодня я проверю твой проект.\n",
    "<br> Дальнейшее общение будет происходить на \"ты\" если это не вызывает никаких проблем.\n",
    "<br> Желательно реагировать на красные комментарии ('исправил', 'не понятно как исправить ошибку', ...)\n",
    "<br> Пожалуйста, не удаляй комментарии ревьюера, так как они повышают качество повторного ревью.\n",
    "\n",
    "Комментарии будут в <font color='green'>зеленой</font>, <font color='blue'>синей</font> или <font color='red'>красной</font> рамках:\n",
    "\n",
    "\n",
    "<div class=\"alert alert-block alert-success\">\n",
    "<b>Успех:</b> Если все сделано отлично\n",
    "</div>\n",
    "\n",
    "<div class=\"alert alert-block alert-info\">\n",
    "<b>Совет: </b> Если можно немного улучшить\n",
    "</div>\n",
    "\n",
    "<div class=\"alert alert-block alert-danger\">\n",
    "<b>Ошибка:</b> Если требуются исправления. Работа не может быть принята с красными комментариями.\n",
    "</div>\n",
    "\n",
    "-------------------\n",
    "\n",
    "Будет очень хорошо, если ты будешь помечать свои действия следующим образом:\n",
    "<div class=\"alert alert-block alert-warning\">\n",
    "<b>Комментарий студента:</b> ..\n",
    "</div>\n",
    "<div class=\"alert alert-block alert-warning\">\n",
    "<b>Изменения:</b> Были внесены следующие изменения ...\n",
    "</div>\n",
    "\n",
    "<font color='orange' style='font-size:24px; font-weight:bold'>Общее впечатление</font>\n",
    "* Спасибо за очередную качественную работу, было интересно ее проверять.\n",
    "- Я оставил некоторые советы надеюсь они будут полезными или интересными.\n",
    "- Есть небольшие недочеты, но думаю у тебя не составить труда их исправить\n",
    "- Жду обновленную работу!\n"
   ]
  },
  {
   "cell_type": "markdown",
   "metadata": {},
   "source": [
    "\n",
    "<font color='orange' style='font-size:24px; font-weight:bold'>Общее впечатление[3]</font>\n",
    "- Было приятно с тобой сотрудничать.\n",
    "- Недочеты исправлены - работа полностью корректна\n",
    "- Не буду больше задерживать, продолжай в том же духе.\n"
   ]
  },
  {
   "cell_type": "markdown",
   "metadata": {},
   "source": [
    "# Выбор локации для скважины"
   ]
  },
  {
   "cell_type": "markdown",
   "metadata": {},
   "source": [
    "Допустим, вы работаете в добывающей компании «ГлавРосГосНефть». Нужно решить, где бурить новую скважину.\n",
    "\n",
    "Вам предоставлены пробы нефти в трёх регионах: в каждом 10 000 месторождений, где измерили качество нефти и объём её запасов. Постройте модель машинного обучения, которая поможет определить регион, где добыча принесёт наибольшую прибыль. Проанализируйте возможную прибыль и риски техникой *Bootstrap.*\n",
    "\n",
    "Шаги для выбора локации:\n",
    "\n",
    "- В избранном регионе ищут месторождения, для каждого определяют значения признаков;\n",
    "- Строят модель и оценивают объём запасов;\n",
    "- Выбирают месторождения с самым высокими оценками значений. Количество месторождений зависит от бюджета компании и стоимости разработки одной скважины;\n",
    "- Прибыль равна суммарной прибыли отобранных месторождений."
   ]
  },
  {
   "cell_type": "markdown",
   "metadata": {},
   "source": [
    "# Проект на тему: Анализ регионов для промышленности"
   ]
  },
  {
   "cell_type": "markdown",
   "metadata": {},
   "source": [
    "В проекте нас просят проанализировать риски и определить регион с наибольшой прибылью."
   ]
  },
  {
   "cell_type": "markdown",
   "metadata": {},
   "source": [
    "Работать будем со следующими данными:\n",
    "\n",
    "# Признаки:\n",
    "\n",
    "id — уникальный идентификатор скважины\n",
    "\n",
    "f0, f1, f2 — три признака точек (неважно, что они означают, но сами признаки значимы)\n",
    "\n",
    "# Целевой признак:\n",
    "\n",
    "product — объём запасов в скважине (тыс. баррелей)"
   ]
  },
  {
   "cell_type": "markdown",
   "metadata": {},
   "source": [
    "## Загрузка и подготовка данных"
   ]
  },
  {
   "cell_type": "code",
   "execution_count": 1,
   "metadata": {},
   "outputs": [],
   "source": [
    "import pandas as pd\n",
    "import numpy as np\n",
    "\n",
    "from sklearn.model_selection import train_test_split\n",
    "from sklearn.linear_model import LinearRegression\n",
    "\n",
    "\n",
    "from sklearn.preprocessing import StandardScaler\n",
    "from sklearn.utils import shuffle\n",
    "\n",
    "from sklearn.metrics import mean_squared_error\n",
    "from sklearn.preprocessing import StandardScaler\n",
    "\n",
    "from scipy import stats as st"
   ]
  },
  {
   "cell_type": "markdown",
   "metadata": {},
   "source": [
    "\n",
    "\n",
    "<div class=\"alert alert-block alert-success\">\n",
    "<b>Успех:</b> Импорты как всегда на месте\n",
    "</div>"
   ]
  },
  {
   "cell_type": "code",
   "execution_count": 2,
   "metadata": {},
   "outputs": [
    {
     "data": {
      "text/html": [
       "<div>\n",
       "<style scoped>\n",
       "    .dataframe tbody tr th:only-of-type {\n",
       "        vertical-align: middle;\n",
       "    }\n",
       "\n",
       "    .dataframe tbody tr th {\n",
       "        vertical-align: top;\n",
       "    }\n",
       "\n",
       "    .dataframe thead th {\n",
       "        text-align: right;\n",
       "    }\n",
       "</style>\n",
       "<table border=\"1\" class=\"dataframe\">\n",
       "  <thead>\n",
       "    <tr style=\"text-align: right;\">\n",
       "      <th></th>\n",
       "      <th>id</th>\n",
       "      <th>f0</th>\n",
       "      <th>f1</th>\n",
       "      <th>f2</th>\n",
       "      <th>product</th>\n",
       "    </tr>\n",
       "  </thead>\n",
       "  <tbody>\n",
       "    <tr>\n",
       "      <th>0</th>\n",
       "      <td>txEyH</td>\n",
       "      <td>0.705745</td>\n",
       "      <td>-0.497823</td>\n",
       "      <td>1.221170</td>\n",
       "      <td>105.280062</td>\n",
       "    </tr>\n",
       "    <tr>\n",
       "      <th>1</th>\n",
       "      <td>2acmU</td>\n",
       "      <td>1.334711</td>\n",
       "      <td>-0.340164</td>\n",
       "      <td>4.365080</td>\n",
       "      <td>73.037750</td>\n",
       "    </tr>\n",
       "    <tr>\n",
       "      <th>2</th>\n",
       "      <td>409Wp</td>\n",
       "      <td>1.022732</td>\n",
       "      <td>0.151990</td>\n",
       "      <td>1.419926</td>\n",
       "      <td>85.265647</td>\n",
       "    </tr>\n",
       "    <tr>\n",
       "      <th>3</th>\n",
       "      <td>iJLyR</td>\n",
       "      <td>-0.032172</td>\n",
       "      <td>0.139033</td>\n",
       "      <td>2.978566</td>\n",
       "      <td>168.620776</td>\n",
       "    </tr>\n",
       "    <tr>\n",
       "      <th>4</th>\n",
       "      <td>Xdl7t</td>\n",
       "      <td>1.988431</td>\n",
       "      <td>0.155413</td>\n",
       "      <td>4.751769</td>\n",
       "      <td>154.036647</td>\n",
       "    </tr>\n",
       "    <tr>\n",
       "      <th>...</th>\n",
       "      <td>...</td>\n",
       "      <td>...</td>\n",
       "      <td>...</td>\n",
       "      <td>...</td>\n",
       "      <td>...</td>\n",
       "    </tr>\n",
       "    <tr>\n",
       "      <th>99995</th>\n",
       "      <td>DLsed</td>\n",
       "      <td>0.971957</td>\n",
       "      <td>0.370953</td>\n",
       "      <td>6.075346</td>\n",
       "      <td>110.744026</td>\n",
       "    </tr>\n",
       "    <tr>\n",
       "      <th>99996</th>\n",
       "      <td>QKivN</td>\n",
       "      <td>1.392429</td>\n",
       "      <td>-0.382606</td>\n",
       "      <td>1.273912</td>\n",
       "      <td>122.346843</td>\n",
       "    </tr>\n",
       "    <tr>\n",
       "      <th>99997</th>\n",
       "      <td>3rnvd</td>\n",
       "      <td>1.029585</td>\n",
       "      <td>0.018787</td>\n",
       "      <td>-1.348308</td>\n",
       "      <td>64.375443</td>\n",
       "    </tr>\n",
       "    <tr>\n",
       "      <th>99998</th>\n",
       "      <td>7kl59</td>\n",
       "      <td>0.998163</td>\n",
       "      <td>-0.528582</td>\n",
       "      <td>1.583869</td>\n",
       "      <td>74.040764</td>\n",
       "    </tr>\n",
       "    <tr>\n",
       "      <th>99999</th>\n",
       "      <td>1CWhH</td>\n",
       "      <td>1.764754</td>\n",
       "      <td>-0.266417</td>\n",
       "      <td>5.722849</td>\n",
       "      <td>149.633246</td>\n",
       "    </tr>\n",
       "  </tbody>\n",
       "</table>\n",
       "<p>100000 rows × 5 columns</p>\n",
       "</div>"
      ],
      "text/plain": [
       "          id        f0        f1        f2     product\n",
       "0      txEyH  0.705745 -0.497823  1.221170  105.280062\n",
       "1      2acmU  1.334711 -0.340164  4.365080   73.037750\n",
       "2      409Wp  1.022732  0.151990  1.419926   85.265647\n",
       "3      iJLyR -0.032172  0.139033  2.978566  168.620776\n",
       "4      Xdl7t  1.988431  0.155413  4.751769  154.036647\n",
       "...      ...       ...       ...       ...         ...\n",
       "99995  DLsed  0.971957  0.370953  6.075346  110.744026\n",
       "99996  QKivN  1.392429 -0.382606  1.273912  122.346843\n",
       "99997  3rnvd  1.029585  0.018787 -1.348308   64.375443\n",
       "99998  7kl59  0.998163 -0.528582  1.583869   74.040764\n",
       "99999  1CWhH  1.764754 -0.266417  5.722849  149.633246\n",
       "\n",
       "[100000 rows x 5 columns]"
      ]
     },
     "metadata": {},
     "output_type": "display_data"
    },
    {
     "name": "stdout",
     "output_type": "stream",
     "text": [
      "<class 'pandas.core.frame.DataFrame'>\n",
      "RangeIndex: 100000 entries, 0 to 99999\n",
      "Data columns (total 5 columns):\n",
      " #   Column   Non-Null Count   Dtype  \n",
      "---  ------   --------------   -----  \n",
      " 0   id       100000 non-null  object \n",
      " 1   f0       100000 non-null  float64\n",
      " 2   f1       100000 non-null  float64\n",
      " 3   f2       100000 non-null  float64\n",
      " 4   product  100000 non-null  float64\n",
      "dtypes: float64(4), object(1)\n",
      "memory usage: 3.8+ MB\n",
      "None\n",
      "0\n",
      "92.50000000000001\n"
     ]
    },
    {
     "data": {
      "text/html": [
       "<div>\n",
       "<style scoped>\n",
       "    .dataframe tbody tr th:only-of-type {\n",
       "        vertical-align: middle;\n",
       "    }\n",
       "\n",
       "    .dataframe tbody tr th {\n",
       "        vertical-align: top;\n",
       "    }\n",
       "\n",
       "    .dataframe thead th {\n",
       "        text-align: right;\n",
       "    }\n",
       "</style>\n",
       "<table border=\"1\" class=\"dataframe\">\n",
       "  <thead>\n",
       "    <tr style=\"text-align: right;\">\n",
       "      <th></th>\n",
       "      <th>id</th>\n",
       "      <th>f0</th>\n",
       "      <th>f1</th>\n",
       "      <th>f2</th>\n",
       "      <th>product</th>\n",
       "    </tr>\n",
       "  </thead>\n",
       "  <tbody>\n",
       "    <tr>\n",
       "      <th>0</th>\n",
       "      <td>kBEdx</td>\n",
       "      <td>-15.001348</td>\n",
       "      <td>-8.276000</td>\n",
       "      <td>-0.005876</td>\n",
       "      <td>3.179103</td>\n",
       "    </tr>\n",
       "    <tr>\n",
       "      <th>1</th>\n",
       "      <td>62mP7</td>\n",
       "      <td>14.272088</td>\n",
       "      <td>-3.475083</td>\n",
       "      <td>0.999183</td>\n",
       "      <td>26.953261</td>\n",
       "    </tr>\n",
       "    <tr>\n",
       "      <th>2</th>\n",
       "      <td>vyE1P</td>\n",
       "      <td>6.263187</td>\n",
       "      <td>-5.948386</td>\n",
       "      <td>5.001160</td>\n",
       "      <td>134.766305</td>\n",
       "    </tr>\n",
       "    <tr>\n",
       "      <th>3</th>\n",
       "      <td>KcrkZ</td>\n",
       "      <td>-13.081196</td>\n",
       "      <td>-11.506057</td>\n",
       "      <td>4.999415</td>\n",
       "      <td>137.945408</td>\n",
       "    </tr>\n",
       "    <tr>\n",
       "      <th>4</th>\n",
       "      <td>AHL4O</td>\n",
       "      <td>12.702195</td>\n",
       "      <td>-8.147433</td>\n",
       "      <td>5.004363</td>\n",
       "      <td>134.766305</td>\n",
       "    </tr>\n",
       "    <tr>\n",
       "      <th>...</th>\n",
       "      <td>...</td>\n",
       "      <td>...</td>\n",
       "      <td>...</td>\n",
       "      <td>...</td>\n",
       "      <td>...</td>\n",
       "    </tr>\n",
       "    <tr>\n",
       "      <th>99995</th>\n",
       "      <td>QywKC</td>\n",
       "      <td>9.535637</td>\n",
       "      <td>-6.878139</td>\n",
       "      <td>1.998296</td>\n",
       "      <td>53.906522</td>\n",
       "    </tr>\n",
       "    <tr>\n",
       "      <th>99996</th>\n",
       "      <td>ptvty</td>\n",
       "      <td>-10.160631</td>\n",
       "      <td>-12.558096</td>\n",
       "      <td>5.005581</td>\n",
       "      <td>137.945408</td>\n",
       "    </tr>\n",
       "    <tr>\n",
       "      <th>99997</th>\n",
       "      <td>09gWa</td>\n",
       "      <td>-7.378891</td>\n",
       "      <td>-3.084104</td>\n",
       "      <td>4.998651</td>\n",
       "      <td>137.945408</td>\n",
       "    </tr>\n",
       "    <tr>\n",
       "      <th>99998</th>\n",
       "      <td>rqwUm</td>\n",
       "      <td>0.665714</td>\n",
       "      <td>-6.152593</td>\n",
       "      <td>1.000146</td>\n",
       "      <td>30.132364</td>\n",
       "    </tr>\n",
       "    <tr>\n",
       "      <th>99999</th>\n",
       "      <td>relB0</td>\n",
       "      <td>-3.426139</td>\n",
       "      <td>-7.794274</td>\n",
       "      <td>-0.003299</td>\n",
       "      <td>3.179103</td>\n",
       "    </tr>\n",
       "  </tbody>\n",
       "</table>\n",
       "<p>100000 rows × 5 columns</p>\n",
       "</div>"
      ],
      "text/plain": [
       "          id         f0         f1        f2     product\n",
       "0      kBEdx -15.001348  -8.276000 -0.005876    3.179103\n",
       "1      62mP7  14.272088  -3.475083  0.999183   26.953261\n",
       "2      vyE1P   6.263187  -5.948386  5.001160  134.766305\n",
       "3      KcrkZ -13.081196 -11.506057  4.999415  137.945408\n",
       "4      AHL4O  12.702195  -8.147433  5.004363  134.766305\n",
       "...      ...        ...        ...       ...         ...\n",
       "99995  QywKC   9.535637  -6.878139  1.998296   53.906522\n",
       "99996  ptvty -10.160631 -12.558096  5.005581  137.945408\n",
       "99997  09gWa  -7.378891  -3.084104  4.998651  137.945408\n",
       "99998  rqwUm   0.665714  -6.152593  1.000146   30.132364\n",
       "99999  relB0  -3.426139  -7.794274 -0.003299    3.179103\n",
       "\n",
       "[100000 rows x 5 columns]"
      ]
     },
     "metadata": {},
     "output_type": "display_data"
    },
    {
     "name": "stdout",
     "output_type": "stream",
     "text": [
      "<class 'pandas.core.frame.DataFrame'>\n",
      "RangeIndex: 100000 entries, 0 to 99999\n",
      "Data columns (total 5 columns):\n",
      " #   Column   Non-Null Count   Dtype  \n",
      "---  ------   --------------   -----  \n",
      " 0   id       100000 non-null  object \n",
      " 1   f0       100000 non-null  float64\n",
      " 2   f1       100000 non-null  float64\n",
      " 3   f2       100000 non-null  float64\n",
      " 4   product  100000 non-null  float64\n",
      "dtypes: float64(4), object(1)\n",
      "memory usage: 3.8+ MB\n",
      "None\n",
      "0\n",
      "68.82500000000002\n"
     ]
    },
    {
     "data": {
      "text/html": [
       "<div>\n",
       "<style scoped>\n",
       "    .dataframe tbody tr th:only-of-type {\n",
       "        vertical-align: middle;\n",
       "    }\n",
       "\n",
       "    .dataframe tbody tr th {\n",
       "        vertical-align: top;\n",
       "    }\n",
       "\n",
       "    .dataframe thead th {\n",
       "        text-align: right;\n",
       "    }\n",
       "</style>\n",
       "<table border=\"1\" class=\"dataframe\">\n",
       "  <thead>\n",
       "    <tr style=\"text-align: right;\">\n",
       "      <th></th>\n",
       "      <th>id</th>\n",
       "      <th>f0</th>\n",
       "      <th>f1</th>\n",
       "      <th>f2</th>\n",
       "      <th>product</th>\n",
       "    </tr>\n",
       "  </thead>\n",
       "  <tbody>\n",
       "    <tr>\n",
       "      <th>0</th>\n",
       "      <td>fwXo0</td>\n",
       "      <td>-1.146987</td>\n",
       "      <td>0.963328</td>\n",
       "      <td>-0.828965</td>\n",
       "      <td>27.758673</td>\n",
       "    </tr>\n",
       "    <tr>\n",
       "      <th>1</th>\n",
       "      <td>WJtFt</td>\n",
       "      <td>0.262778</td>\n",
       "      <td>0.269839</td>\n",
       "      <td>-2.530187</td>\n",
       "      <td>56.069697</td>\n",
       "    </tr>\n",
       "    <tr>\n",
       "      <th>2</th>\n",
       "      <td>ovLUW</td>\n",
       "      <td>0.194587</td>\n",
       "      <td>0.289035</td>\n",
       "      <td>-5.586433</td>\n",
       "      <td>62.871910</td>\n",
       "    </tr>\n",
       "    <tr>\n",
       "      <th>3</th>\n",
       "      <td>q6cA6</td>\n",
       "      <td>2.236060</td>\n",
       "      <td>-0.553760</td>\n",
       "      <td>0.930038</td>\n",
       "      <td>114.572842</td>\n",
       "    </tr>\n",
       "    <tr>\n",
       "      <th>4</th>\n",
       "      <td>WPMUX</td>\n",
       "      <td>-0.515993</td>\n",
       "      <td>1.716266</td>\n",
       "      <td>5.899011</td>\n",
       "      <td>149.600746</td>\n",
       "    </tr>\n",
       "    <tr>\n",
       "      <th>...</th>\n",
       "      <td>...</td>\n",
       "      <td>...</td>\n",
       "      <td>...</td>\n",
       "      <td>...</td>\n",
       "      <td>...</td>\n",
       "    </tr>\n",
       "    <tr>\n",
       "      <th>99995</th>\n",
       "      <td>4GxBu</td>\n",
       "      <td>-1.777037</td>\n",
       "      <td>1.125220</td>\n",
       "      <td>6.263374</td>\n",
       "      <td>172.327046</td>\n",
       "    </tr>\n",
       "    <tr>\n",
       "      <th>99996</th>\n",
       "      <td>YKFjq</td>\n",
       "      <td>-1.261523</td>\n",
       "      <td>-0.894828</td>\n",
       "      <td>2.524545</td>\n",
       "      <td>138.748846</td>\n",
       "    </tr>\n",
       "    <tr>\n",
       "      <th>99997</th>\n",
       "      <td>tKPY3</td>\n",
       "      <td>-1.199934</td>\n",
       "      <td>-2.957637</td>\n",
       "      <td>5.219411</td>\n",
       "      <td>157.080080</td>\n",
       "    </tr>\n",
       "    <tr>\n",
       "      <th>99998</th>\n",
       "      <td>nmxp2</td>\n",
       "      <td>-2.419896</td>\n",
       "      <td>2.417221</td>\n",
       "      <td>-5.548444</td>\n",
       "      <td>51.795253</td>\n",
       "    </tr>\n",
       "    <tr>\n",
       "      <th>99999</th>\n",
       "      <td>V9kWn</td>\n",
       "      <td>-2.551421</td>\n",
       "      <td>-2.025625</td>\n",
       "      <td>6.090891</td>\n",
       "      <td>102.775767</td>\n",
       "    </tr>\n",
       "  </tbody>\n",
       "</table>\n",
       "<p>100000 rows × 5 columns</p>\n",
       "</div>"
      ],
      "text/plain": [
       "          id        f0        f1        f2     product\n",
       "0      fwXo0 -1.146987  0.963328 -0.828965   27.758673\n",
       "1      WJtFt  0.262778  0.269839 -2.530187   56.069697\n",
       "2      ovLUW  0.194587  0.289035 -5.586433   62.871910\n",
       "3      q6cA6  2.236060 -0.553760  0.930038  114.572842\n",
       "4      WPMUX -0.515993  1.716266  5.899011  149.600746\n",
       "...      ...       ...       ...       ...         ...\n",
       "99995  4GxBu -1.777037  1.125220  6.263374  172.327046\n",
       "99996  YKFjq -1.261523 -0.894828  2.524545  138.748846\n",
       "99997  tKPY3 -1.199934 -2.957637  5.219411  157.080080\n",
       "99998  nmxp2 -2.419896  2.417221 -5.548444   51.795253\n",
       "99999  V9kWn -2.551421 -2.025625  6.090891  102.775767\n",
       "\n",
       "[100000 rows x 5 columns]"
      ]
     },
     "metadata": {},
     "output_type": "display_data"
    },
    {
     "name": "stdout",
     "output_type": "stream",
     "text": [
      "<class 'pandas.core.frame.DataFrame'>\n",
      "RangeIndex: 100000 entries, 0 to 99999\n",
      "Data columns (total 5 columns):\n",
      " #   Column   Non-Null Count   Dtype  \n",
      "---  ------   --------------   -----  \n",
      " 0   id       100000 non-null  object \n",
      " 1   f0       100000 non-null  float64\n",
      " 2   f1       100000 non-null  float64\n",
      " 3   f2       100000 non-null  float64\n",
      " 4   product  100000 non-null  float64\n",
      "dtypes: float64(4), object(1)\n",
      "memory usage: 3.8+ MB\n",
      "None\n",
      "0\n",
      "95.00000000000004\n"
     ]
    }
   ],
   "source": [
    "data_region_1 = pd.read_csv('/datasets/geo_data_0.csv')\n",
    "display(data_region_1)\n",
    "print(data_region_1.info())\n",
    "print(len(data_region_1) - len(data_region_1.drop_duplicates()))\n",
    "mean_product_1 = data_region_1['product'].mean()\n",
    "print(mean_product_1)\n",
    "\n",
    "data_region_2 = pd.read_csv('/datasets/geo_data_1.csv')\n",
    "display(data_region_2)\n",
    "print(data_region_2.info())\n",
    "print(len(data_region_2) - len(data_region_2.drop_duplicates()))\n",
    "mean_product_2 = data_region_2['product'].mean()\n",
    "print(mean_product_2)\n",
    "\n",
    "data_region_3 = pd.read_csv('/datasets/geo_data_2.csv')\n",
    "display(data_region_3)\n",
    "print(data_region_3.info())\n",
    "print(len(data_region_3) - len(data_region_3.drop_duplicates()))\n",
    "mean_product_3 = data_region_3['product'].mean()\n",
    "print(mean_product_3)"
   ]
  },
  {
   "cell_type": "markdown",
   "metadata": {},
   "source": [
    "Открыли данные, посмотрели на содержимое. Пропусков нет. Проверить остальное нельзя как данное. Дупликатов также нет."
   ]
  },
  {
   "cell_type": "markdown",
   "metadata": {},
   "source": [
    "<div class=\"alert alert-block alert-success\">\n",
    "<b>Успех:</b> Данные осмотрены неплохо\n",
    "</div>\n",
    "\n",
    "<div class=\"alert alert-block alert-info\">\n",
    "<b>Совет:</b> но можно было бы еще как минимум изучить корреляции, так как мы планируем использовать линейные модели, а для них это важно. \n",
    "</div>\n"
   ]
  },
  {
   "cell_type": "markdown",
   "metadata": {},
   "source": [
    "## Обучение и проверка модели"
   ]
  },
  {
   "cell_type": "markdown",
   "metadata": {},
   "source": [
    "Обучим модель для каждого отдельного региона.\n",
    "\n",
    "1) Подготовим данные для обучения\n",
    "\n",
    "2) Обучим модель\n",
    "\n",
    "3) Проверим результат\n"
   ]
  },
  {
   "cell_type": "code",
   "execution_count": 3,
   "metadata": {},
   "outputs": [
    {
     "name": "stdout",
     "output_type": "stream",
     "text": [
      "Mean product: 92.59256778438035\n",
      "RMSE: 37.5794217150813\n"
     ]
    }
   ],
   "source": [
    "# Подготовка\n",
    "target = data_region_1['product'] # Целевой признак\n",
    "features = data_region_1.drop(['product', 'id'], axis=1) # Остальные признаки\n",
    "\n",
    "features_train_1, features_valid_1, target_train_1, target_valid_1 = train_test_split(features, target, test_size=0.25, random_state=12345) #Обучающая выборка\n",
    "\n",
    "\n",
    "# Обучение\n",
    "model_1 = LinearRegression()\n",
    "model_1.fit(features_train_1, target_train_1)\n",
    "\n",
    "predicted_valid_1 = model_1.predict(features_valid_1)\n",
    "\n",
    "# Проверка\n",
    "print(\"Mean product:\", predicted_valid_1.mean())\n",
    "print(\"RMSE:\", mean_squared_error(target_valid_1, predicted_valid_1) ** 0.5)"
   ]
  },
  {
   "cell_type": "code",
   "execution_count": 4,
   "metadata": {},
   "outputs": [
    {
     "name": "stdout",
     "output_type": "stream",
     "text": [
      "Mean product: 68.728546895446\n",
      "RMSE: 0.893099286775617\n"
     ]
    }
   ],
   "source": [
    "# Подготовка\n",
    "target = data_region_2['product'] # Целевой признак\n",
    "features = data_region_2.drop(['product', 'id'], axis=1) # Остальные признаки\n",
    "\n",
    "features_train_2, features_valid_2, target_train_2, target_valid_2 = train_test_split(features, target, test_size=0.25, random_state=12345) #Обучающая выборка\n",
    "\n",
    "# Обучение\n",
    "model_2 = LinearRegression()\n",
    "model_2.fit(features_train_2, target_train_2)\n",
    "\n",
    "predicted_valid_2 = model_2.predict(features_valid_2)\n",
    "\n",
    "# Проверка\n",
    "print(\"Mean product:\", predicted_valid_2.mean())\n",
    "print(\"RMSE:\", mean_squared_error(target_valid_2, predicted_valid_2) ** 0.5)"
   ]
  },
  {
   "cell_type": "code",
   "execution_count": 5,
   "metadata": {},
   "outputs": [
    {
     "name": "stdout",
     "output_type": "stream",
     "text": [
      "Mean product: 94.96504596800489\n",
      "RMSE: 40.02970873393434\n"
     ]
    }
   ],
   "source": [
    "# Подготовка\n",
    "target = data_region_3['product'] # Целевой признак\n",
    "features = data_region_3.drop(['product', 'id'], axis=1) # Остальные признаки\n",
    "\n",
    "features_train_3, features_valid_3, target_train_3, target_valid_3 = train_test_split(features, target, test_size=0.25, random_state=12345) #Обучающая выборка\n",
    "\n",
    "# Обучение\n",
    "model_3 = LinearRegression()\n",
    "model_3.fit(features_train_3, target_train_3)\n",
    "\n",
    "predicted_valid_3 = model_3.predict(features_valid_3)\n",
    "\n",
    "# Проверка\n",
    "print(\"Mean product:\", predicted_valid_3.mean())\n",
    "print(\"RMSE:\", mean_squared_error(target_valid_3, predicted_valid_3) ** 0.5)"
   ]
  },
  {
   "cell_type": "markdown",
   "metadata": {},
   "source": [
    "После выполнения всех пунктов ознакомимся с результатами. Показатель RMSE удовлетворителен, среднее значение по каждому региону близко к истине. Продолжим работу."
   ]
  },
  {
   "cell_type": "markdown",
   "metadata": {},
   "source": [
    "<div class=\"alert alert-block alert-danger\">\n",
    "   \n",
    "<b>Ошибка:</b> В ТЗ вроде нас попросили: `2.1. Разбейте данные на обучающую и валидационную выборки в соотношении 75:25.`. То есть здесь нужно разбить на 2 выборки, а не 3.\n"
   ]
  },
  {
   "cell_type": "markdown",
   "metadata": {},
   "source": [
    "\n",
    "<div class=\"alert alert-block alert-info\">\n",
    "<b>Совет: </b>  Можно было бы использовать циклы/функции и избежать дублирования кода. Дублирование кода, часто приводит к глупым ошибкам, которые тяжело отследить.\n",
    "</div>"
   ]
  },
  {
   "cell_type": "markdown",
   "metadata": {},
   "source": [
    "<div class=\"alert alert-block alert-danger\">\n",
    "   \n",
    "<b>Ошибка[2]:</b> Также сейчас заметил, что ты посчитал NRMSE, вместо RMSE - что тоже не соответствует ТЗ. (и ты об этом в комментариях/выводах нигде не рассказал), NRMSE как дольнительная метрика - имеет место быть, но это не то, что от нас попросили\n"
   ]
  },
  {
   "cell_type": "markdown",
   "metadata": {},
   "source": [
    "<div class=\"alert alert-block alert-warning\">\n",
    "<b>Комментарий студента:</b> исправил. Использовал NRMSE для удобства, указать забыл.\n",
    "</div>"
   ]
  },
  {
   "cell_type": "markdown",
   "metadata": {},
   "source": [
    "\n",
    "<div class=\"alert alert-block alert-success\">\n",
    "    \n",
    "<b>Успех[3]:</b> Есть контакт\n",
    "</div>"
   ]
  },
  {
   "cell_type": "markdown",
   "metadata": {},
   "source": [
    "## Подготовка к расчёту прибыли"
   ]
  },
  {
   "cell_type": "markdown",
   "metadata": {},
   "source": [
    "Рассчитаем необходимый для безубыточной прибыли объём сырья. Затем посчитаем разницу между запасом сырья в регионах и необходимым."
   ]
  },
  {
   "cell_type": "code",
   "execution_count": 6,
   "metadata": {},
   "outputs": [],
   "source": [
    "BUDGET = 10_000_000_000 # Итоговый бюджет\n",
    "PROFIT_PER_BARREL_BY_THOUSAND = 450000 # Прибыль за тысячу баррелей\n",
    "MAX_NUMBER_OF_WELLS = 200 # Максимальное число скважин"
   ]
  },
  {
   "cell_type": "code",
   "execution_count": 7,
   "metadata": {},
   "outputs": [
    {
     "name": "stdout",
     "output_type": "stream",
     "text": [
      "Необходимый объём сырья:  111.11111111111111\n",
      "1 регион:  -18.6111111111111\n",
      "2 регион:  -42.2861111111111\n",
      "3 регион:  -16.11111111111107\n"
     ]
    }
   ],
   "source": [
    "required_product = BUDGET / (PROFIT_PER_BARREL_BY_THOUSAND * MAX_NUMBER_OF_WELLS)\n",
    "\n",
    "print(\"Необходимый объём сырья: \", required_product)\n",
    "\n",
    "print(\"1 регион: \", mean_product_1 - required_product)\n",
    "print(\"2 регион: \", mean_product_2 - required_product)\n",
    "print(\"3 регион: \", mean_product_3 - required_product)"
   ]
  },
  {
   "cell_type": "markdown",
   "metadata": {},
   "source": [
    "\n",
    "\n",
    "<div class=\"alert alert-block alert-danger\">\n",
    "<b>Ошибка:</b> Все ключевые значения нужно записать в переменные - константы. Ниже магических чисел быть не должно.\n",
    "</div> \n",
    "\n"
   ]
  },
  {
   "cell_type": "markdown",
   "metadata": {},
   "source": [
    "\n",
    "<div class=\"alert alert-block alert-success\">\n",
    "    \n",
    "<b>Успех[2]:</b> 👍\n",
    "</div>\n",
    "\n",
    "<div class"
   ]
  },
  {
   "cell_type": "markdown",
   "metadata": {},
   "source": [
    "\n",
    "<div class=\"alert alert-block alert-info\">\n",
    "    \n",
    "<b>Совет:</b> Константы принято записывать в ВЕРХНЕМ РЕГИСТРЕ =) Читем здесь https://pythonworld.ru/osnovy/pep-8-rukovodstvo-po-napisaniyu-koda-na-python.html#section-29\n",
    "    \n",
    "А большие значение можно записывать так: `10_000_000_000`.\n",
    "</div> "
   ]
  },
  {
   "cell_type": "markdown",
   "metadata": {},
   "source": [
    "Необходимый объём сырья на скважину больше, чем средний запас в регионах, однако отбираются наилучшие 200 скважин, поэтому есть вероятность, что сырья хватит. Это проверим в следующем пункте."
   ]
  },
  {
   "cell_type": "markdown",
   "metadata": {},
   "source": [
    "\n",
    "<div class=\"alert alert-block alert-success\">\n",
    "<b>Успех:</b> Значение для безубыточной разработки посчитано верно, с выводом согласен  \n",
    "</div>\n"
   ]
  },
  {
   "cell_type": "markdown",
   "metadata": {},
   "source": [
    "## Расчёт прибыли и рисков "
   ]
  },
  {
   "cell_type": "markdown",
   "metadata": {},
   "source": [
    "Напишем функцию для расчёта прибыли."
   ]
  },
  {
   "cell_type": "code",
   "execution_count": 8,
   "metadata": {
    "scrolled": true
   },
   "outputs": [],
   "source": [
    "def revenue(target, probabilities, count):\n",
    "    top = probabilities.sort_values(ascending=False).head(count)\n",
    "    total_profit = (target.loc[top.index] * PROFIT_PER_BARREL_BY_THOUSAND).sum()\n",
    "    return total_profit - BUDGET"
   ]
  },
  {
   "cell_type": "markdown",
   "metadata": {},
   "source": [
    "<div class=\"alert alert-block alert-success\">\n",
    "<b>Успех:</b> Ф-ция для подсчета прибыли определена верно\n",
    "</div>\n"
   ]
  },
  {
   "cell_type": "markdown",
   "metadata": {},
   "source": [
    "\n",
    "\n",
    "<div class=\"alert alert-block alert-danger\">\n",
    "<b>Ошибка:</b> 450000 и 10000000000 - это магические числа, их быть не должно\n",
    "</div> \n",
    "\n"
   ]
  },
  {
   "cell_type": "markdown",
   "metadata": {},
   "source": [
    "\n",
    "<div class=\"alert alert-block alert-success\">\n",
    "    \n",
    "<b>Успех[2]:</b> 👍\n",
    "</div>\n",
    "\n",
    "<div class"
   ]
  },
  {
   "cell_type": "code",
   "execution_count": 9,
   "metadata": {
    "scrolled": true
   },
   "outputs": [
    {
     "name": "stdout",
     "output_type": "stream",
     "text": [
      "600735244261.1653\n",
      "(580991087.3188789, 620479401.2034516)\n",
      "10.0\n"
     ]
    }
   ],
   "source": [
    "state = np.random.RandomState(12345)\n",
    "\n",
    "values_1 = []\n",
    "\n",
    "\n",
    "predicted_valid_1 = pd.Series(predicted_valid_1, index=target_valid_1.index)\n",
    "\n",
    "for i in range(1000):\n",
    "    target_valid_1_subsample = target_valid_1.sample(n=500, replace=True, random_state=state)\n",
    "    probs_subsample_1 = predicted_valid_1.loc[target_valid_1_subsample.index] \n",
    "    values_1.append(revenue(target_valid_1_subsample, probs_subsample_1, 200))\n",
    "    \n",
    "values_1 = pd.Series(values_1)\n",
    "confidence_interval_1 = st.t.interval(\n",
    "    0.95, len(values_1) - 1, values_1.mean(), values_1.sem())\n",
    "print(values_1.sum())\n",
    "print(confidence_interval_1)\n",
    "print((values_1 < 0).sum() / 2)"
   ]
  },
  {
   "cell_type": "markdown",
   "metadata": {},
   "source": [
    "<div class=\"alert alert-block alert-success\">\n",
    "<b>Успех:</b> С бутстрапом тоже все в порядке\n",
    "</div>"
   ]
  },
  {
   "cell_type": "markdown",
   "metadata": {},
   "source": [
    "\n",
    "\n",
    "<div class=\"alert alert-block alert-info\">\n",
    "<b>Совет: </b>\n",
    "   \n",
    "Вызывая **`st.t.interval(...)`**, ты находишь 95%-доверительный интервал для значения **`средней прибыли`**, то есть промежуток, в котором с большой вероятностью при проведении аналогичных экспериментов окажется **`средняя прибыль`**. По заданию требовалось оценить 95%-доверительный интервал для значения **`прибыли`**, то есть найти такой промежуток, в котором с большой вероятностью окажется **`прибыль`**, случайно выбранного месторождения данного региона. Нижняя граница этого интервала – это 2.5%-квантиль полученных значений прибыли, верхняя граница – 97.5%-квантиль.\n",
    "</div>\n"
   ]
  },
  {
   "cell_type": "code",
   "execution_count": 10,
   "metadata": {},
   "outputs": [
    {
     "name": "stdout",
     "output_type": "stream",
     "text": [
      "(648077906.0159832, 679840084.5044016)\n",
      "0.5\n"
     ]
    }
   ],
   "source": [
    "values_2 = []\n",
    "\n",
    "\n",
    "predicted_valid_2 = pd.Series(predicted_valid_2, index=target_valid_2.index)\n",
    "\n",
    "for i in range(1000):\n",
    "    target_valid_2_subsample = target_valid_2.sample(n=500, replace=True, random_state=state)\n",
    "    probs_subsample_2 = predicted_valid_2.loc[target_valid_2_subsample.index] \n",
    "    values_2.append(revenue(target_valid_2_subsample, probs_subsample_2, 200))\n",
    "    \n",
    "values_2 = pd.Series(values_2)\n",
    "confidence_interval_2 = st.t.interval(\n",
    "    0.95, len(values_2) - 1, values_2.mean(), values_2.sem())\n",
    "print(confidence_interval_2)\n",
    "print((values_2 < 0).sum() / 2)"
   ]
  },
  {
   "cell_type": "markdown",
   "metadata": {},
   "source": [
    "<div class=\"alert alert-block alert-info\">\n",
    "<b>Совет: </b>\n",
    "   \n",
    "Здесь циклы/функции тоже были бы весьма кстати\n",
    "</div>"
   ]
  },
  {
   "cell_type": "code",
   "execution_count": 11,
   "metadata": {},
   "outputs": [
    {
     "name": "stdout",
     "output_type": "stream",
     "text": [
      "(577080076.0794091, 617682019.721637)\n",
      "12.5\n"
     ]
    }
   ],
   "source": [
    "values_3 = []\n",
    "\n",
    "\n",
    "predicted_valid_3 = pd.Series(predicted_valid_3, index=target_valid_3.index)\n",
    "\n",
    "for i in range(1000):\n",
    "    target_valid_3_subsample = target_valid_3.sample(n=500, replace=True, random_state=state)\n",
    "    probs_subsample_3 = predicted_valid_3.loc[target_valid_3_subsample.index] \n",
    "    values_3.append(revenue(target_valid_3_subsample, probs_subsample_3, 200))\n",
    "    \n",
    "values_3 = pd.Series(values_3)\n",
    "confidence_interval_3 = st.t.interval(\n",
    "    0.95, len(values_3) - 1, values_3.mean(), values_3.sem())\n",
    "print(confidence_interval_3)\n",
    "print((values_3 < 0).sum() / 2)"
   ]
  },
  {
   "cell_type": "markdown",
   "metadata": {},
   "source": [
    "Как можно заметить, самый маленький и подходящий под условие риск убытков в регионе из датасета /datasets/geo_data_1.csv. Скорее всего дело в распределении данных."
   ]
  },
  {
   "cell_type": "markdown",
   "metadata": {},
   "source": [
    "<div class=\"alert alert-block alert-info\">\n",
    "<b>Совет: </b>\n",
    "    \n",
    "Не забудь обновить выводы, если потребуется\n",
    "</div>                                                              \n"
   ]
  },
  {
   "cell_type": "markdown",
   "metadata": {},
   "source": [
    "Вывод: подходит регион с индексом 1, так как вероятность убытков должна быть ниже 2.5%. Регионы 0 и 2 показывают больший риск, а следовательно не подходят под добычу по условию."
   ]
  },
  {
   "cell_type": "markdown",
   "metadata": {},
   "source": [
    "<div class=\"alert alert-block alert-info\">\n",
    "<b>Совет: </b> Итоговый вывод можно сделать содержательнее, ведь заказчик обратит сюда особое внимание\n",
    "</div>                                                              \n"
   ]
  },
  {
   "cell_type": "markdown",
   "metadata": {},
   "source": [
    "# Вывод"
   ]
  },
  {
   "cell_type": "markdown",
   "metadata": {},
   "source": [
    "Задача проекта: выбрать наиболее прибыльный регион подходящий под условия заказчика\n",
    "\n",
    "Шаги выполнения проекта: \n",
    "\n",
    "1) Обработали предоставленные заказчиком данные. Посмотрели на возможные отклонения, пропуски и т.п.\n",
    "\n",
    "2) Построили 3 модели для предсказания объёма добычи.\n",
    "\n",
    "3) При помощи функции расчитали прибыль для 3-х регионов, оценили риски при помощи техники Bootstrap.\n",
    "\n",
    "В результате исследования 3-х регионов выяснилось, что под добычу больше подходит регион с индексом 1. \n",
    "\n"
   ]
  },
  {
   "cell_type": "markdown",
   "metadata": {},
   "source": [
    "\n",
    "<div class=\"alert alert-block alert-success\">\n",
    "<b>Успех[2]:</b> Отлично, проведено детальное исследование и был выбран правильный регион!\n",
    "</div>\n",
    "\n",
    "\n",
    "\n",
    "<div class=\"alert alert-block alert-info\">\n",
    "<b>Совет[2]: </b> Если интересно изучить тему бутстрапа глубже - я оставлю  ниже несколько интересных и полезных ссылок по теме:\n",
    "        \n",
    "1. \"Bootstrap Hypothesis Testing in Statistics with Example\" \n",
    "        \n",
    "https://www.youtube.com/watch?v=9STZ7MxkNVg\n",
    "        \n",
    "2. \"How to Calculate Bootstrap Confidence Intervals For Machine Learning Results in Python\" \n",
    "        \n",
    "https://machinelearningmastery.com/calculate-bootstrap-confidence-intervals-machine-learning-results-python/\n",
    "        \n",
    "3. \"A Gentle Introduction to the Bootstrap Method\" \n",
    "\n",
    "https://machinelearningmastery.com/a-gentle-introduction-to-the-bootstrap-method/\n",
    "        \n",
    "4. \"An Introduction to the Bootstrap Method\" \n",
    "        \n",
    "https://towardsdatascience.com/an-introduction-to-the-bootstrap-method-58bcb51b4d60#:~:text=The%20basic%20idea%20of%20bootstrap,population%20mean)%20on%20sample%20data.&amp;text=A%20sample%20from%20population%20with%20sample%20size%20n\n",
    "        \n",
    "5. \"Bootstrapping and Resampling in Statistics with Example\" \n",
    "        \n",
    "        \n",
    "https://www.youtube.com/watch?v=O_Fj4q8lgmc\n",
    "\n",
    "6. Также одна из программ на рынке по этой теме управлненеческого моделирования - AnyLogic - интересный продукт. Можешь видео из интернета посмотреть по какому-нибудь примеру с её использованием. Тогда тема управленческого моделирования и бутстрапа может по-другому лечь.\n",
    "</div>\n",
    "\n",
    "\n",
    "\n"
   ]
  },
  {
   "cell_type": "markdown",
   "metadata": {},
   "source": [
    "## Чек-лист готовности проекта"
   ]
  },
  {
   "cell_type": "markdown",
   "metadata": {},
   "source": [
    "Поставьте 'x' в выполненных пунктах. Далее нажмите Shift+Enter."
   ]
  },
  {
   "cell_type": "markdown",
   "metadata": {},
   "source": [
    "- [x]  Jupyter Notebook открыт\n",
    "- [ ]  Весь код выполняется без ошибок\n",
    "- [ ]  Ячейки с кодом расположены в порядке исполнения\n",
    "- [ ]  Выполнен шаг 1: данные подготовлены\n",
    "- [ ]  Выполнен шаг 2: модели обучены и проверены\n",
    "    - [ ]  Данные корректно разбиты на обучающую и валидационную выборки\n",
    "    - [ ]  Модели обучены, предсказания сделаны\n",
    "    - [ ]  Предсказания и правильные ответы на валидационной выборке сохранены\n",
    "    - [ ]  На экране напечатаны результаты\n",
    "    - [ ]  Сделаны выводы\n",
    "- [ ]  Выполнен шаг 3: проведена подготовка к расчёту прибыли\n",
    "    - [ ]  Для всех ключевых значений созданы константы Python\n",
    "    - [ ]  Посчитано минимальное среднее количество продукта в месторождениях региона, достаточное для разработки\n",
    "    - [ ]  По предыдущему пункту сделаны выводы\n",
    "    - [ ]  Написана функция расчёта прибыли\n",
    "- [ ]  Выполнен шаг 4: посчитаны риски и прибыль\n",
    "    - [ ]  Проведена процедура *Bootstrap*\n",
    "    - [ ]  Все параметры бутстрепа соответствуют условию\n",
    "    - [ ]  Найдены все нужные величины\n",
    "    - [ ]  Предложен регион для разработки месторождения\n",
    "    - [ ]  Выбор региона обоснован"
   ]
  }
 ],
 "metadata": {
  "ExecuteTimeLog": [
   {
    "duration": 1307,
    "start_time": "2023-09-25T09:00:31.434Z"
   },
   {
    "duration": 425,
    "start_time": "2023-09-25T09:00:32.743Z"
   },
   {
    "duration": 4,
    "start_time": "2023-09-25T09:02:03.682Z"
   },
   {
    "duration": 633,
    "start_time": "2023-09-25T09:02:03.688Z"
   },
   {
    "duration": 471,
    "start_time": "2023-09-25T09:02:26.753Z"
   },
   {
    "duration": 486,
    "start_time": "2023-09-25T09:02:41.493Z"
   },
   {
    "duration": 273,
    "start_time": "2023-09-25T09:04:22.706Z"
   },
   {
    "duration": 501,
    "start_time": "2023-09-25T09:04:50.689Z"
   },
   {
    "duration": 195,
    "start_time": "2023-09-25T09:05:08.337Z"
   },
   {
    "duration": 191,
    "start_time": "2023-09-25T09:06:26.913Z"
   },
   {
    "duration": 499,
    "start_time": "2023-09-25T09:06:52.052Z"
   },
   {
    "duration": 561,
    "start_time": "2023-09-25T09:07:21.499Z"
   },
   {
    "duration": 665,
    "start_time": "2023-09-25T09:07:46.635Z"
   },
   {
    "duration": 57,
    "start_time": "2023-09-26T21:45:38.489Z"
   },
   {
    "duration": 1127,
    "start_time": "2023-09-26T21:45:43.952Z"
   },
   {
    "duration": 1115,
    "start_time": "2023-09-26T21:45:45.081Z"
   },
   {
    "duration": 70,
    "start_time": "2023-09-26T21:45:46.198Z"
   },
   {
    "duration": 4,
    "start_time": "2023-09-26T21:46:02.901Z"
   },
   {
    "duration": 703,
    "start_time": "2023-09-26T21:46:02.907Z"
   },
   {
    "duration": 39,
    "start_time": "2023-09-26T21:46:03.612Z"
   },
   {
    "duration": 1107,
    "start_time": "2023-10-03T17:07:40.498Z"
   },
   {
    "duration": 1040,
    "start_time": "2023-10-03T17:07:41.607Z"
   },
   {
    "duration": 137,
    "start_time": "2023-10-03T17:07:42.649Z"
   },
   {
    "duration": 44,
    "start_time": "2023-10-03T17:24:07.702Z"
   },
   {
    "duration": 37,
    "start_time": "2023-10-03T17:24:31.176Z"
   },
   {
    "duration": 28,
    "start_time": "2023-10-03T17:25:58.836Z"
   },
   {
    "duration": 24,
    "start_time": "2023-10-03T17:26:08.444Z"
   },
   {
    "duration": 37,
    "start_time": "2023-10-03T17:26:15.496Z"
   },
   {
    "duration": 36,
    "start_time": "2023-10-03T17:26:33.476Z"
   },
   {
    "duration": 35,
    "start_time": "2023-10-03T18:02:48.703Z"
   },
   {
    "duration": 54,
    "start_time": "2023-10-03T18:05:13.798Z"
   },
   {
    "duration": 1188,
    "start_time": "2023-10-03T18:05:17.707Z"
   },
   {
    "duration": 1096,
    "start_time": "2023-10-03T18:05:18.897Z"
   },
   {
    "duration": 1227,
    "start_time": "2023-10-03T18:05:50.490Z"
   },
   {
    "duration": 1091,
    "start_time": "2023-10-03T18:05:51.719Z"
   },
   {
    "duration": 1207,
    "start_time": "2023-10-03T18:06:16.510Z"
   },
   {
    "duration": 1108,
    "start_time": "2023-10-03T18:06:17.719Z"
   },
   {
    "duration": 1264,
    "start_time": "2023-10-03T18:06:37.817Z"
   },
   {
    "duration": 1120,
    "start_time": "2023-10-03T18:06:39.084Z"
   },
   {
    "duration": 1196,
    "start_time": "2023-10-03T18:08:56.954Z"
   },
   {
    "duration": 1077,
    "start_time": "2023-10-03T18:08:58.152Z"
   },
   {
    "duration": 23,
    "start_time": "2023-10-03T18:08:59.230Z"
   },
   {
    "duration": 131,
    "start_time": "2023-10-03T18:11:54.071Z"
   },
   {
    "duration": 37,
    "start_time": "2023-10-03T18:12:08.141Z"
   },
   {
    "duration": 79,
    "start_time": "2023-10-03T18:26:45.499Z"
   },
   {
    "duration": 57,
    "start_time": "2023-10-03T18:27:01.866Z"
   },
   {
    "duration": 30,
    "start_time": "2023-10-03T18:27:59.136Z"
   },
   {
    "duration": 32,
    "start_time": "2023-10-03T18:28:22.196Z"
   },
   {
    "duration": 27,
    "start_time": "2023-10-03T18:28:52.038Z"
   },
   {
    "duration": 24,
    "start_time": "2023-10-03T18:32:15.714Z"
   },
   {
    "duration": 4,
    "start_time": "2023-10-03T18:32:30.008Z"
   },
   {
    "duration": 723,
    "start_time": "2023-10-03T18:32:30.013Z"
   },
   {
    "duration": 30,
    "start_time": "2023-10-03T18:32:30.738Z"
   },
   {
    "duration": 37,
    "start_time": "2023-10-03T18:34:15.915Z"
   },
   {
    "duration": 85,
    "start_time": "2023-10-03T18:34:32.963Z"
   },
   {
    "duration": 64,
    "start_time": "2023-10-03T18:34:37.785Z"
   },
   {
    "duration": 200,
    "start_time": "2023-10-03T18:34:43.554Z"
   },
   {
    "duration": 72,
    "start_time": "2023-10-03T18:34:48.276Z"
   },
   {
    "duration": 59,
    "start_time": "2023-10-03T18:34:52.693Z"
   },
   {
    "duration": 24,
    "start_time": "2023-10-03T18:34:59.740Z"
   },
   {
    "duration": 3,
    "start_time": "2023-10-03T18:36:17.182Z"
   },
   {
    "duration": 4,
    "start_time": "2023-10-03T18:36:19.689Z"
   },
   {
    "duration": 678,
    "start_time": "2023-10-03T18:36:19.695Z"
   },
   {
    "duration": 29,
    "start_time": "2023-10-03T18:36:20.375Z"
   },
   {
    "duration": 28,
    "start_time": "2023-10-03T18:37:02.292Z"
   },
   {
    "duration": 49,
    "start_time": "2023-10-03T18:39:40.099Z"
   },
   {
    "duration": 114,
    "start_time": "2023-10-03T18:40:05.634Z"
   },
   {
    "duration": 245,
    "start_time": "2023-10-03T18:40:12.456Z"
   },
   {
    "duration": 196,
    "start_time": "2023-10-03T18:40:41.157Z"
   },
   {
    "duration": 179,
    "start_time": "2023-10-03T18:41:23.171Z"
   },
   {
    "duration": 26,
    "start_time": "2023-10-03T18:41:28.798Z"
   },
   {
    "duration": 1119,
    "start_time": "2023-10-09T14:23:35.561Z"
   },
   {
    "duration": 1161,
    "start_time": "2023-10-09T14:23:36.682Z"
   },
   {
    "duration": 38,
    "start_time": "2023-10-09T14:23:37.845Z"
   },
   {
    "duration": 121,
    "start_time": "2023-10-09T14:23:37.957Z"
   },
   {
    "duration": 193,
    "start_time": "2023-10-09T14:23:38.157Z"
   },
   {
    "duration": 606,
    "start_time": "2023-10-09T14:29:14.007Z"
   },
   {
    "duration": 612,
    "start_time": "2023-10-09T14:29:24.188Z"
   },
   {
    "duration": 654,
    "start_time": "2023-10-09T14:29:35.728Z"
   },
   {
    "duration": 597,
    "start_time": "2023-10-09T14:29:48.279Z"
   },
   {
    "duration": 585,
    "start_time": "2023-10-09T14:30:12.957Z"
   },
   {
    "duration": 531,
    "start_time": "2023-10-09T14:35:40.971Z"
   },
   {
    "duration": 513,
    "start_time": "2023-10-09T14:36:07.289Z"
   },
   {
    "duration": 596,
    "start_time": "2023-10-09T14:36:25.788Z"
   },
   {
    "duration": 139,
    "start_time": "2023-10-09T18:40:13.583Z"
   },
   {
    "duration": 1194,
    "start_time": "2023-10-09T18:40:20.208Z"
   },
   {
    "duration": 698,
    "start_time": "2023-10-09T18:40:21.404Z"
   },
   {
    "duration": 154,
    "start_time": "2023-10-09T18:40:22.104Z"
   },
   {
    "duration": 0,
    "start_time": "2023-10-09T18:40:22.268Z"
   },
   {
    "duration": 0,
    "start_time": "2023-10-09T18:40:22.269Z"
   },
   {
    "duration": 58,
    "start_time": "2023-10-09T18:41:05.029Z"
   },
   {
    "duration": 56,
    "start_time": "2023-10-09T18:42:22.907Z"
   },
   {
    "duration": 59,
    "start_time": "2023-10-09T18:42:49.761Z"
   },
   {
    "duration": 50,
    "start_time": "2023-10-09T18:43:15.472Z"
   },
   {
    "duration": 62,
    "start_time": "2023-10-09T18:44:54.351Z"
   },
   {
    "duration": 56,
    "start_time": "2023-10-09T18:44:57.915Z"
   },
   {
    "duration": 111,
    "start_time": "2023-10-09T18:45:05.555Z"
   },
   {
    "duration": 88,
    "start_time": "2023-10-09T18:45:09.072Z"
   },
   {
    "duration": 79,
    "start_time": "2023-10-09T18:45:26.680Z"
   },
   {
    "duration": 84,
    "start_time": "2023-10-09T18:45:37.277Z"
   },
   {
    "duration": 49,
    "start_time": "2023-10-09T18:45:45.190Z"
   },
   {
    "duration": 36,
    "start_time": "2023-10-09T18:45:53.242Z"
   },
   {
    "duration": 25,
    "start_time": "2023-10-09T18:45:55.211Z"
   },
   {
    "duration": 57,
    "start_time": "2023-10-09T18:46:07.065Z"
   },
   {
    "duration": 1570,
    "start_time": "2023-10-09T18:46:13.758Z"
   },
   {
    "duration": 646,
    "start_time": "2023-10-09T18:46:15.330Z"
   },
   {
    "duration": 89,
    "start_time": "2023-10-09T18:46:15.978Z"
   },
   {
    "duration": 188,
    "start_time": "2023-10-09T18:46:16.069Z"
   },
   {
    "duration": 133,
    "start_time": "2023-10-09T18:46:16.267Z"
   },
   {
    "duration": 1235,
    "start_time": "2023-10-09T18:47:04.329Z"
   },
   {
    "duration": 754,
    "start_time": "2023-10-09T18:47:05.566Z"
   },
   {
    "duration": 76,
    "start_time": "2023-10-09T18:47:06.322Z"
   },
   {
    "duration": 139,
    "start_time": "2023-10-09T18:47:06.453Z"
   },
   {
    "duration": 192,
    "start_time": "2023-10-09T18:47:06.594Z"
   },
   {
    "duration": 1211,
    "start_time": "2023-10-09T19:54:49.887Z"
   },
   {
    "duration": 666,
    "start_time": "2023-10-09T19:54:51.100Z"
   },
   {
    "duration": 49,
    "start_time": "2023-10-09T19:54:51.773Z"
   },
   {
    "duration": 167,
    "start_time": "2023-10-09T19:54:51.824Z"
   },
   {
    "duration": 181,
    "start_time": "2023-10-09T19:54:51.994Z"
   },
   {
    "duration": 3,
    "start_time": "2023-10-09T19:56:41.494Z"
   },
   {
    "duration": 629,
    "start_time": "2023-10-09T19:56:41.499Z"
   },
   {
    "duration": 303,
    "start_time": "2023-10-09T19:56:42.130Z"
   },
   {
    "duration": 0,
    "start_time": "2023-10-09T19:56:42.434Z"
   },
   {
    "duration": 0,
    "start_time": "2023-10-09T19:56:42.436Z"
   },
   {
    "duration": 162,
    "start_time": "2023-10-09T19:56:59.414Z"
   },
   {
    "duration": 39,
    "start_time": "2023-10-09T19:57:05.828Z"
   },
   {
    "duration": 32,
    "start_time": "2023-10-09T19:57:15.690Z"
   },
   {
    "duration": 28,
    "start_time": "2023-10-09T19:57:45.578Z"
   },
   {
    "duration": 46,
    "start_time": "2023-10-09T19:58:15.319Z"
   },
   {
    "duration": 3,
    "start_time": "2023-10-09T19:58:36.495Z"
   },
   {
    "duration": 679,
    "start_time": "2023-10-09T19:58:36.499Z"
   },
   {
    "duration": 72,
    "start_time": "2023-10-09T19:58:37.184Z"
   },
   {
    "duration": 130,
    "start_time": "2023-10-09T19:58:37.258Z"
   },
   {
    "duration": 0,
    "start_time": "2023-10-09T19:58:37.391Z"
   },
   {
    "duration": 1119,
    "start_time": "2023-10-09T19:58:52.985Z"
   },
   {
    "duration": 751,
    "start_time": "2023-10-09T19:58:54.106Z"
   },
   {
    "duration": 36,
    "start_time": "2023-10-09T19:58:54.859Z"
   },
   {
    "duration": 133,
    "start_time": "2023-10-09T19:58:54.953Z"
   },
   {
    "duration": 200,
    "start_time": "2023-10-09T19:58:55.089Z"
   },
   {
    "duration": 653,
    "start_time": "2023-10-09T19:59:50.224Z"
   },
   {
    "duration": 113,
    "start_time": "2023-10-09T20:09:53.889Z"
   },
   {
    "duration": 16,
    "start_time": "2023-10-09T20:10:11.043Z"
   },
   {
    "duration": 9,
    "start_time": "2023-10-09T20:10:27.300Z"
   },
   {
    "duration": 17,
    "start_time": "2023-10-09T20:11:12.490Z"
   },
   {
    "duration": 19,
    "start_time": "2023-10-09T20:11:15.641Z"
   },
   {
    "duration": 9,
    "start_time": "2023-10-09T20:11:18.614Z"
   },
   {
    "duration": 8,
    "start_time": "2023-10-09T20:12:00.921Z"
   },
   {
    "duration": 12,
    "start_time": "2023-10-09T20:12:04.612Z"
   },
   {
    "duration": 21,
    "start_time": "2023-10-09T20:12:07.580Z"
   },
   {
    "duration": 12,
    "start_time": "2023-10-09T20:12:09.780Z"
   },
   {
    "duration": 20,
    "start_time": "2023-10-09T20:12:23.597Z"
   },
   {
    "duration": 43,
    "start_time": "2023-10-09T20:13:25.547Z"
   },
   {
    "duration": 3,
    "start_time": "2023-10-09T20:16:26.998Z"
   },
   {
    "duration": 134,
    "start_time": "2023-10-09T20:17:13.802Z"
   },
   {
    "duration": 3,
    "start_time": "2023-10-09T20:17:18.100Z"
   },
   {
    "duration": 10,
    "start_time": "2023-10-10T10:01:24.788Z"
   },
   {
    "duration": 3,
    "start_time": "2023-10-10T10:01:35.514Z"
   },
   {
    "duration": 4,
    "start_time": "2023-10-10T10:01:41.483Z"
   },
   {
    "duration": 1230,
    "start_time": "2023-10-10T10:03:24.579Z"
   },
   {
    "duration": 1150,
    "start_time": "2023-10-10T10:03:25.811Z"
   },
   {
    "duration": 85,
    "start_time": "2023-10-10T10:03:26.963Z"
   },
   {
    "duration": 113,
    "start_time": "2023-10-10T10:03:27.059Z"
   },
   {
    "duration": 118,
    "start_time": "2023-10-10T10:03:27.246Z"
   },
   {
    "duration": 200,
    "start_time": "2023-10-10T10:03:27.366Z"
   },
   {
    "duration": 5,
    "start_time": "2023-10-10T10:03:47.758Z"
   },
   {
    "duration": 1348,
    "start_time": "2023-10-10T10:07:52.342Z"
   },
   {
    "duration": 743,
    "start_time": "2023-10-10T10:07:53.692Z"
   },
   {
    "duration": 104,
    "start_time": "2023-10-10T10:07:54.446Z"
   },
   {
    "duration": 201,
    "start_time": "2023-10-10T10:07:54.559Z"
   },
   {
    "duration": 117,
    "start_time": "2023-10-10T10:07:54.765Z"
   },
   {
    "duration": 72,
    "start_time": "2023-10-10T10:07:54.885Z"
   },
   {
    "duration": 128,
    "start_time": "2023-10-10T10:07:54.961Z"
   },
   {
    "duration": 1297,
    "start_time": "2023-10-10T10:15:46.480Z"
   },
   {
    "duration": 723,
    "start_time": "2023-10-10T10:15:47.779Z"
   },
   {
    "duration": 162,
    "start_time": "2023-10-10T10:15:48.504Z"
   },
   {
    "duration": 0,
    "start_time": "2023-10-10T10:15:48.669Z"
   },
   {
    "duration": 0,
    "start_time": "2023-10-10T10:15:48.670Z"
   },
   {
    "duration": 0,
    "start_time": "2023-10-10T10:15:48.672Z"
   },
   {
    "duration": 0,
    "start_time": "2023-10-10T10:15:48.673Z"
   },
   {
    "duration": 0,
    "start_time": "2023-10-10T10:15:48.675Z"
   },
   {
    "duration": 1444,
    "start_time": "2023-10-10T10:16:13.215Z"
   },
   {
    "duration": 669,
    "start_time": "2023-10-10T10:16:14.661Z"
   },
   {
    "duration": 42,
    "start_time": "2023-10-10T10:16:15.331Z"
   },
   {
    "duration": 131,
    "start_time": "2023-10-10T10:16:15.446Z"
   },
   {
    "duration": 197,
    "start_time": "2023-10-10T10:16:15.579Z"
   },
   {
    "duration": 172,
    "start_time": "2023-10-10T10:16:15.778Z"
   },
   {
    "duration": 77,
    "start_time": "2023-10-10T10:16:15.951Z"
   },
   {
    "duration": 161,
    "start_time": "2023-10-10T10:16:16.030Z"
   },
   {
    "duration": 1162,
    "start_time": "2023-10-10T10:16:30.339Z"
   },
   {
    "duration": 690,
    "start_time": "2023-10-10T10:16:31.503Z"
   },
   {
    "duration": 59,
    "start_time": "2023-10-10T10:16:32.195Z"
   },
   {
    "duration": 120,
    "start_time": "2023-10-10T10:16:32.258Z"
   },
   {
    "duration": 128,
    "start_time": "2023-10-10T10:16:32.448Z"
   },
   {
    "duration": 79,
    "start_time": "2023-10-10T10:16:32.579Z"
   },
   {
    "duration": 30,
    "start_time": "2023-10-10T10:16:32.748Z"
   },
   {
    "duration": 67,
    "start_time": "2023-10-10T10:16:32.779Z"
   },
   {
    "duration": 77,
    "start_time": "2023-10-10T10:18:23.876Z"
   },
   {
    "duration": 208,
    "start_time": "2023-10-10T10:18:50.042Z"
   },
   {
    "duration": 1260,
    "start_time": "2023-10-10T10:36:29.138Z"
   },
   {
    "duration": 690,
    "start_time": "2023-10-10T10:36:30.400Z"
   },
   {
    "duration": 56,
    "start_time": "2023-10-10T10:36:31.092Z"
   },
   {
    "duration": 287,
    "start_time": "2023-10-10T10:36:31.152Z"
   },
   {
    "duration": 215,
    "start_time": "2023-10-10T10:36:31.448Z"
   },
   {
    "duration": 84,
    "start_time": "2023-10-10T10:36:31.666Z"
   },
   {
    "duration": 115,
    "start_time": "2023-10-10T10:36:31.753Z"
   },
   {
    "duration": 179,
    "start_time": "2023-10-10T10:36:31.870Z"
   },
   {
    "duration": 203,
    "start_time": "2023-10-10T10:36:32.052Z"
   },
   {
    "duration": 9,
    "start_time": "2023-10-10T10:36:43.615Z"
   },
   {
    "duration": 6,
    "start_time": "2023-10-10T10:37:18.253Z"
   },
   {
    "duration": 1149,
    "start_time": "2023-10-10T10:53:07.176Z"
   },
   {
    "duration": 662,
    "start_time": "2023-10-10T10:53:08.327Z"
   },
   {
    "duration": 60,
    "start_time": "2023-10-10T10:53:08.991Z"
   },
   {
    "duration": 121,
    "start_time": "2023-10-10T10:53:09.054Z"
   },
   {
    "duration": 270,
    "start_time": "2023-10-10T10:53:09.177Z"
   },
   {
    "duration": 93,
    "start_time": "2023-10-10T10:53:09.456Z"
   },
   {
    "duration": 13,
    "start_time": "2023-10-10T10:53:09.550Z"
   },
   {
    "duration": 115,
    "start_time": "2023-10-10T10:53:09.564Z"
   },
   {
    "duration": 1215,
    "start_time": "2023-10-10T10:54:02.238Z"
   },
   {
    "duration": 702,
    "start_time": "2023-10-10T10:54:03.455Z"
   },
   {
    "duration": 90,
    "start_time": "2023-10-10T10:54:04.159Z"
   },
   {
    "duration": 121,
    "start_time": "2023-10-10T10:54:04.252Z"
   },
   {
    "duration": 118,
    "start_time": "2023-10-10T10:54:04.447Z"
   },
   {
    "duration": 206,
    "start_time": "2023-10-10T10:54:04.567Z"
   },
   {
    "duration": 36,
    "start_time": "2023-10-10T10:54:04.775Z"
   },
   {
    "duration": 141,
    "start_time": "2023-10-10T10:54:04.813Z"
   },
   {
    "duration": 1250,
    "start_time": "2023-10-10T10:54:19.947Z"
   },
   {
    "duration": 681,
    "start_time": "2023-10-10T10:54:21.199Z"
   },
   {
    "duration": 30,
    "start_time": "2023-10-10T10:54:21.882Z"
   },
   {
    "duration": 121,
    "start_time": "2023-10-10T10:54:21.952Z"
   },
   {
    "duration": 192,
    "start_time": "2023-10-10T10:54:22.076Z"
   },
   {
    "duration": 78,
    "start_time": "2023-10-10T10:54:22.271Z"
   },
   {
    "duration": 109,
    "start_time": "2023-10-10T10:54:22.352Z"
   },
   {
    "duration": 150,
    "start_time": "2023-10-10T10:54:22.466Z"
   },
   {
    "duration": 15,
    "start_time": "2023-10-10T10:55:30.314Z"
   },
   {
    "duration": 1272,
    "start_time": "2023-10-10T10:55:36.833Z"
   },
   {
    "duration": 751,
    "start_time": "2023-10-10T10:55:38.107Z"
   },
   {
    "duration": 96,
    "start_time": "2023-10-10T10:55:38.861Z"
   },
   {
    "duration": 194,
    "start_time": "2023-10-10T10:55:38.960Z"
   },
   {
    "duration": 191,
    "start_time": "2023-10-10T10:55:39.160Z"
   },
   {
    "duration": 6,
    "start_time": "2023-10-10T10:55:39.354Z"
   },
   {
    "duration": 100,
    "start_time": "2023-10-10T10:55:39.362Z"
   },
   {
    "duration": 143,
    "start_time": "2023-10-10T10:55:39.465Z"
   },
   {
    "duration": 10,
    "start_time": "2023-10-10T10:55:55.681Z"
   },
   {
    "duration": 13,
    "start_time": "2023-10-10T10:56:51.330Z"
   },
   {
    "duration": 12,
    "start_time": "2023-10-10T10:57:18.068Z"
   },
   {
    "duration": 12,
    "start_time": "2023-10-10T10:57:26.574Z"
   },
   {
    "duration": 13,
    "start_time": "2023-10-10T10:57:37.930Z"
   },
   {
    "duration": 13,
    "start_time": "2023-10-10T10:57:46.774Z"
   },
   {
    "duration": 1174,
    "start_time": "2023-10-10T10:58:41.134Z"
   },
   {
    "duration": 757,
    "start_time": "2023-10-10T10:58:42.311Z"
   },
   {
    "duration": 37,
    "start_time": "2023-10-10T10:58:43.071Z"
   },
   {
    "duration": 115,
    "start_time": "2023-10-10T10:58:43.155Z"
   },
   {
    "duration": 190,
    "start_time": "2023-10-10T10:58:43.275Z"
   },
   {
    "duration": 89,
    "start_time": "2023-10-10T10:58:43.467Z"
   },
   {
    "duration": 4,
    "start_time": "2023-10-10T10:58:43.647Z"
   },
   {
    "duration": 125,
    "start_time": "2023-10-10T10:58:43.652Z"
   },
   {
    "duration": 21,
    "start_time": "2023-10-10T10:59:17.157Z"
   },
   {
    "duration": 1160,
    "start_time": "2023-10-10T10:59:36.891Z"
   },
   {
    "duration": 686,
    "start_time": "2023-10-10T10:59:38.053Z"
   },
   {
    "duration": 28,
    "start_time": "2023-10-10T10:59:38.747Z"
   },
   {
    "duration": 190,
    "start_time": "2023-10-10T10:59:38.778Z"
   },
   {
    "duration": 196,
    "start_time": "2023-10-10T10:59:39.050Z"
   },
   {
    "duration": 100,
    "start_time": "2023-10-10T10:59:39.249Z"
   },
   {
    "duration": 33,
    "start_time": "2023-10-10T10:59:39.351Z"
   },
   {
    "duration": 143,
    "start_time": "2023-10-10T10:59:39.386Z"
   },
   {
    "duration": 22,
    "start_time": "2023-10-10T11:00:14.104Z"
   },
   {
    "duration": 19,
    "start_time": "2023-10-10T11:00:27.443Z"
   },
   {
    "duration": 19,
    "start_time": "2023-10-10T11:00:56.281Z"
   },
   {
    "duration": 18,
    "start_time": "2023-10-10T11:11:37.166Z"
   },
   {
    "duration": 16,
    "start_time": "2023-10-10T11:11:43.329Z"
   },
   {
    "duration": 1437,
    "start_time": "2023-10-10T11:11:47.696Z"
   },
   {
    "duration": 773,
    "start_time": "2023-10-10T11:11:49.136Z"
   },
   {
    "duration": 54,
    "start_time": "2023-10-10T11:11:49.911Z"
   },
   {
    "duration": 184,
    "start_time": "2023-10-10T11:11:49.973Z"
   },
   {
    "duration": 126,
    "start_time": "2023-10-10T11:11:50.168Z"
   },
   {
    "duration": 56,
    "start_time": "2023-10-10T11:11:50.296Z"
   },
   {
    "duration": 108,
    "start_time": "2023-10-10T11:11:50.356Z"
   },
   {
    "duration": 149,
    "start_time": "2023-10-10T11:11:50.466Z"
   },
   {
    "duration": 19,
    "start_time": "2023-10-10T11:11:54.867Z"
   },
   {
    "duration": 17,
    "start_time": "2023-10-10T11:11:57.218Z"
   },
   {
    "duration": 21,
    "start_time": "2023-10-10T11:12:01.353Z"
   },
   {
    "duration": 1397,
    "start_time": "2023-10-10T11:20:45.898Z"
   },
   {
    "duration": 1354,
    "start_time": "2023-10-10T11:21:01.037Z"
   },
   {
    "duration": 1376,
    "start_time": "2023-10-10T11:21:24.148Z"
   },
   {
    "duration": 1559,
    "start_time": "2023-10-10T11:24:44.538Z"
   },
   {
    "duration": 1339,
    "start_time": "2023-10-10T11:25:10.525Z"
   },
   {
    "duration": 1495,
    "start_time": "2023-10-10T11:26:15.015Z"
   },
   {
    "duration": 1448,
    "start_time": "2023-10-10T11:27:05.113Z"
   },
   {
    "duration": 1295,
    "start_time": "2023-10-10T11:27:27.251Z"
   },
   {
    "duration": 704,
    "start_time": "2023-10-10T11:27:28.549Z"
   },
   {
    "duration": 95,
    "start_time": "2023-10-10T11:27:29.256Z"
   },
   {
    "duration": 129,
    "start_time": "2023-10-10T11:27:29.355Z"
   },
   {
    "duration": 123,
    "start_time": "2023-10-10T11:27:29.554Z"
   },
   {
    "duration": 9,
    "start_time": "2023-10-10T11:27:29.747Z"
   },
   {
    "duration": 104,
    "start_time": "2023-10-10T11:27:29.758Z"
   },
   {
    "duration": 1481,
    "start_time": "2023-10-10T11:27:29.865Z"
   },
   {
    "duration": 1328,
    "start_time": "2023-10-10T11:28:33.090Z"
   },
   {
    "duration": 1470,
    "start_time": "2023-10-10T11:28:42.042Z"
   },
   {
    "duration": 1475,
    "start_time": "2023-10-10T11:29:00.934Z"
   },
   {
    "duration": 148,
    "start_time": "2023-10-10T11:30:10.544Z"
   },
   {
    "duration": 20,
    "start_time": "2023-10-10T11:30:30.547Z"
   },
   {
    "duration": 28,
    "start_time": "2023-10-10T11:30:31.846Z"
   },
   {
    "duration": 1135,
    "start_time": "2023-10-10T11:30:41.702Z"
   },
   {
    "duration": 742,
    "start_time": "2023-10-10T11:30:42.839Z"
   },
   {
    "duration": 78,
    "start_time": "2023-10-10T11:30:43.583Z"
   },
   {
    "duration": 117,
    "start_time": "2023-10-10T11:30:43.664Z"
   },
   {
    "duration": 177,
    "start_time": "2023-10-10T11:30:43.783Z"
   },
   {
    "duration": 92,
    "start_time": "2023-10-10T11:30:43.962Z"
   },
   {
    "duration": 10,
    "start_time": "2023-10-10T11:30:44.058Z"
   },
   {
    "duration": 164,
    "start_time": "2023-10-10T11:30:44.149Z"
   },
   {
    "duration": 0,
    "start_time": "2023-10-10T11:30:44.314Z"
   },
   {
    "duration": 1335,
    "start_time": "2023-10-10T11:31:11.832Z"
   },
   {
    "duration": 749,
    "start_time": "2023-10-10T11:31:13.169Z"
   },
   {
    "duration": 51,
    "start_time": "2023-10-10T11:31:13.920Z"
   },
   {
    "duration": 126,
    "start_time": "2023-10-10T11:31:14.052Z"
   },
   {
    "duration": 197,
    "start_time": "2023-10-10T11:31:14.180Z"
   },
   {
    "duration": 85,
    "start_time": "2023-10-10T11:31:14.379Z"
   },
   {
    "duration": 83,
    "start_time": "2023-10-10T11:31:14.466Z"
   },
   {
    "duration": 1720,
    "start_time": "2023-10-10T11:31:14.552Z"
   },
   {
    "duration": 0,
    "start_time": "2023-10-10T11:31:16.275Z"
   },
   {
    "duration": 1213,
    "start_time": "2023-10-10T11:31:32.520Z"
   },
   {
    "duration": 702,
    "start_time": "2023-10-10T11:31:33.735Z"
   },
   {
    "duration": 110,
    "start_time": "2023-10-10T11:31:34.446Z"
   },
   {
    "duration": 200,
    "start_time": "2023-10-10T11:31:34.559Z"
   },
   {
    "duration": 126,
    "start_time": "2023-10-10T11:31:34.766Z"
   },
   {
    "duration": 85,
    "start_time": "2023-10-10T11:31:34.964Z"
   },
   {
    "duration": 24,
    "start_time": "2023-10-10T11:31:35.051Z"
   },
   {
    "duration": 1525,
    "start_time": "2023-10-10T11:31:35.077Z"
   },
   {
    "duration": 1463,
    "start_time": "2023-10-10T11:31:36.604Z"
   },
   {
    "duration": 1360,
    "start_time": "2023-10-10T11:34:03.764Z"
   },
   {
    "duration": 846,
    "start_time": "2023-10-10T11:34:05.126Z"
   },
   {
    "duration": 82,
    "start_time": "2023-10-10T11:34:05.974Z"
   },
   {
    "duration": 126,
    "start_time": "2023-10-10T11:34:06.059Z"
   },
   {
    "duration": 121,
    "start_time": "2023-10-10T11:34:06.256Z"
   },
   {
    "duration": 71,
    "start_time": "2023-10-10T11:34:06.379Z"
   },
   {
    "duration": 96,
    "start_time": "2023-10-10T11:34:06.453Z"
   },
   {
    "duration": 1579,
    "start_time": "2023-10-10T11:34:06.552Z"
   },
   {
    "duration": 1516,
    "start_time": "2023-10-10T11:34:08.133Z"
   },
   {
    "duration": 1321,
    "start_time": "2023-10-10T11:34:25.148Z"
   },
   {
    "duration": 756,
    "start_time": "2023-10-10T11:34:26.471Z"
   },
   {
    "duration": 117,
    "start_time": "2023-10-10T11:34:27.229Z"
   },
   {
    "duration": 197,
    "start_time": "2023-10-10T11:34:27.350Z"
   },
   {
    "duration": 126,
    "start_time": "2023-10-10T11:34:27.551Z"
   },
   {
    "duration": 96,
    "start_time": "2023-10-10T11:34:27.750Z"
   },
   {
    "duration": 21,
    "start_time": "2023-10-10T11:34:27.849Z"
   },
   {
    "duration": 1621,
    "start_time": "2023-10-10T11:34:27.872Z"
   },
   {
    "duration": 1519,
    "start_time": "2023-10-10T11:34:29.495Z"
   },
   {
    "duration": 1186,
    "start_time": "2023-10-10T11:37:38.017Z"
   },
   {
    "duration": 674,
    "start_time": "2023-10-10T11:37:39.205Z"
   },
   {
    "duration": 74,
    "start_time": "2023-10-10T11:37:39.881Z"
   },
   {
    "duration": 192,
    "start_time": "2023-10-10T11:37:39.958Z"
   },
   {
    "duration": 121,
    "start_time": "2023-10-10T11:37:40.152Z"
   },
   {
    "duration": 6,
    "start_time": "2023-10-10T11:37:40.275Z"
   },
   {
    "duration": 77,
    "start_time": "2023-10-10T11:37:40.283Z"
   },
   {
    "duration": 1620,
    "start_time": "2023-10-10T11:37:40.368Z"
   },
   {
    "duration": 1505,
    "start_time": "2023-10-10T11:37:41.990Z"
   },
   {
    "duration": 1526,
    "start_time": "2023-10-10T11:40:11.331Z"
   },
   {
    "duration": 1505,
    "start_time": "2023-10-10T11:40:23.611Z"
   },
   {
    "duration": 1454,
    "start_time": "2023-10-10T11:40:49.147Z"
   },
   {
    "duration": 1507,
    "start_time": "2023-10-10T11:41:34.201Z"
   },
   {
    "duration": 1476,
    "start_time": "2023-10-10T11:41:57.514Z"
   },
   {
    "duration": 153,
    "start_time": "2023-10-10T11:42:05.746Z"
   },
   {
    "duration": 24,
    "start_time": "2023-10-10T11:42:10.695Z"
   },
   {
    "duration": 11,
    "start_time": "2023-10-10T11:42:15.199Z"
   },
   {
    "duration": 14604,
    "start_time": "2023-10-10T11:42:19.591Z"
   },
   {
    "duration": 1414,
    "start_time": "2023-10-10T11:45:54.005Z"
   },
   {
    "duration": 1337,
    "start_time": "2023-10-10T11:46:06.106Z"
   },
   {
    "duration": 1337,
    "start_time": "2023-10-10T11:46:25.442Z"
   },
   {
    "duration": 1390,
    "start_time": "2023-10-10T11:46:55.198Z"
   },
   {
    "duration": 1304,
    "start_time": "2023-10-10T11:48:19.516Z"
   },
   {
    "duration": 671,
    "start_time": "2023-10-10T11:48:20.822Z"
   },
   {
    "duration": 58,
    "start_time": "2023-10-10T11:48:21.495Z"
   },
   {
    "duration": 133,
    "start_time": "2023-10-10T11:48:21.556Z"
   },
   {
    "duration": 122,
    "start_time": "2023-10-10T11:48:21.754Z"
   },
   {
    "duration": 11,
    "start_time": "2023-10-10T11:48:21.954Z"
   },
   {
    "duration": 6,
    "start_time": "2023-10-10T11:48:22.049Z"
   },
   {
    "duration": 1544,
    "start_time": "2023-10-10T11:48:22.058Z"
   },
   {
    "duration": 1556,
    "start_time": "2023-10-10T11:48:23.604Z"
   },
   {
    "duration": 1520,
    "start_time": "2023-10-10T11:52:28.969Z"
   },
   {
    "duration": 1554,
    "start_time": "2023-10-10T11:52:41.688Z"
   },
   {
    "duration": 1468,
    "start_time": "2023-10-10T11:53:04.590Z"
   },
   {
    "duration": 759,
    "start_time": "2023-10-10T11:53:06.062Z"
   },
   {
    "duration": 53,
    "start_time": "2023-10-10T11:53:06.826Z"
   },
   {
    "duration": 204,
    "start_time": "2023-10-10T11:53:06.948Z"
   },
   {
    "duration": 127,
    "start_time": "2023-10-10T11:53:07.155Z"
   },
   {
    "duration": 97,
    "start_time": "2023-10-10T11:53:07.354Z"
   },
   {
    "duration": 33,
    "start_time": "2023-10-10T11:53:07.454Z"
   },
   {
    "duration": 1618,
    "start_time": "2023-10-10T11:53:07.490Z"
   },
   {
    "duration": 1524,
    "start_time": "2023-10-10T11:53:09.111Z"
   },
   {
    "duration": 1272,
    "start_time": "2023-10-10T11:54:05.897Z"
   },
   {
    "duration": 759,
    "start_time": "2023-10-10T11:54:07.172Z"
   },
   {
    "duration": 131,
    "start_time": "2023-10-10T11:54:07.934Z"
   },
   {
    "duration": 183,
    "start_time": "2023-10-10T11:54:08.072Z"
   },
   {
    "duration": 198,
    "start_time": "2023-10-10T11:54:08.259Z"
   },
   {
    "duration": 84,
    "start_time": "2023-10-10T11:54:08.462Z"
   },
   {
    "duration": 11,
    "start_time": "2023-10-10T11:54:08.549Z"
   },
   {
    "duration": 1670,
    "start_time": "2023-10-10T11:54:08.564Z"
   },
   {
    "duration": 1559,
    "start_time": "2023-10-10T11:54:10.237Z"
   },
   {
    "duration": 1516,
    "start_time": "2023-10-10T11:54:11.798Z"
   },
   {
    "duration": 1374,
    "start_time": "2023-10-10T11:54:41.099Z"
   },
   {
    "duration": 1332,
    "start_time": "2023-10-10T11:54:43.512Z"
   },
   {
    "duration": 1401,
    "start_time": "2023-10-10T11:54:46.072Z"
   },
   {
    "duration": 1446,
    "start_time": "2023-10-10T11:55:09.377Z"
   },
   {
    "duration": 1461,
    "start_time": "2023-10-10T11:55:11.344Z"
   },
   {
    "duration": 1529,
    "start_time": "2023-10-10T11:55:15.270Z"
   },
   {
    "duration": 5413,
    "start_time": "2023-10-10T12:42:29.730Z"
   },
   {
    "duration": 1214,
    "start_time": "2023-10-10T12:42:35.145Z"
   },
   {
    "duration": 56,
    "start_time": "2023-10-10T12:42:36.361Z"
   },
   {
    "duration": 37,
    "start_time": "2023-10-10T12:42:36.504Z"
   },
   {
    "duration": 263,
    "start_time": "2023-10-10T12:42:36.543Z"
   },
   {
    "duration": 8,
    "start_time": "2023-10-10T12:42:36.808Z"
   },
   {
    "duration": 114,
    "start_time": "2023-10-10T12:42:36.818Z"
   },
   {
    "duration": 1615,
    "start_time": "2023-10-10T12:42:36.934Z"
   },
   {
    "duration": 1476,
    "start_time": "2023-10-10T12:42:38.551Z"
   },
   {
    "duration": 1424,
    "start_time": "2023-10-10T12:42:40.029Z"
   },
   {
    "duration": 1103,
    "start_time": "2023-10-10T15:44:22.760Z"
   },
   {
    "duration": 2414,
    "start_time": "2023-10-10T15:44:23.865Z"
   },
   {
    "duration": 69,
    "start_time": "2023-10-10T15:44:26.281Z"
   },
   {
    "duration": 113,
    "start_time": "2023-10-10T15:44:26.354Z"
   },
   {
    "duration": 119,
    "start_time": "2023-10-10T15:44:26.544Z"
   },
   {
    "duration": 3,
    "start_time": "2023-10-10T15:44:26.666Z"
   },
   {
    "duration": 7,
    "start_time": "2023-10-10T15:44:26.746Z"
   },
   {
    "duration": 90,
    "start_time": "2023-10-10T15:44:26.755Z"
   },
   {
    "duration": 1214,
    "start_time": "2023-10-10T15:44:26.846Z"
   },
   {
    "duration": 1154,
    "start_time": "2023-10-10T15:44:28.062Z"
   },
   {
    "duration": 1178,
    "start_time": "2023-10-10T15:44:29.217Z"
   },
   {
    "duration": 1043,
    "start_time": "2023-10-11T09:22:59.508Z"
   },
   {
    "duration": 895,
    "start_time": "2023-10-11T09:23:00.553Z"
   },
   {
    "duration": 25,
    "start_time": "2023-10-11T09:23:01.449Z"
   },
   {
    "duration": 179,
    "start_time": "2023-10-11T09:23:01.476Z"
   },
   {
    "duration": 193,
    "start_time": "2023-10-11T09:23:01.657Z"
   },
   {
    "duration": 188,
    "start_time": "2023-10-11T09:23:01.852Z"
   },
   {
    "duration": 29,
    "start_time": "2023-10-11T09:23:02.042Z"
   },
   {
    "duration": 45,
    "start_time": "2023-10-11T09:23:02.072Z"
   },
   {
    "duration": 1092,
    "start_time": "2023-10-11T09:23:02.119Z"
   },
   {
    "duration": 935,
    "start_time": "2023-10-11T09:23:03.213Z"
   },
   {
    "duration": 941,
    "start_time": "2023-10-11T09:23:04.150Z"
   }
  ],
  "kernelspec": {
   "display_name": "Python 3 (ipykernel)",
   "language": "python",
   "name": "python3"
  },
  "language_info": {
   "codemirror_mode": {
    "name": "ipython",
    "version": 3
   },
   "file_extension": ".py",
   "mimetype": "text/x-python",
   "name": "python",
   "nbconvert_exporter": "python",
   "pygments_lexer": "ipython3",
   "version": "3.9.5"
  },
  "toc": {
   "base_numbering": 1,
   "nav_menu": {},
   "number_sections": true,
   "sideBar": true,
   "skip_h1_title": true,
   "title_cell": "Table of Contents",
   "title_sidebar": "Contents",
   "toc_cell": false,
   "toc_position": {},
   "toc_section_display": true,
   "toc_window_display": false
  }
 },
 "nbformat": 4,
 "nbformat_minor": 2
}
