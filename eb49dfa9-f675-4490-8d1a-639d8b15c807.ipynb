{
 "cells": [
  {
   "cell_type": "markdown",
   "metadata": {},
   "source": [
    "Привет! меня зовут Люман Аблаев. Сегодня я проверю твой проект.\n",
    "<br> Дальнейшее общение будет происходить на \"ты\" если это не вызывает никаких проблем.\n",
    "<br> Желательно реагировать на красные комментарии ('исправил', 'не понятно как исправить ошибку', ...)\n",
    "<br> Пожалуйста, не удаляй комментарии ревьюера, так как они повышают качество повторного ревью.\n",
    "\n",
    "Комментарии будут в <font color='green'>зеленой</font>, <font color='blue'>синей</font> или <font color='red'>красной</font> рамках:\n",
    "\n",
    "\n",
    "<div class=\"alert alert-block alert-success\">\n",
    "<b>Успех:</b> Если все сделано отлично\n",
    "</div>\n",
    "\n",
    "<div class=\"alert alert-block alert-info\">\n",
    "<b>Совет: </b> Если можно немного улучшить\n",
    "</div>\n",
    "\n",
    "<div class=\"alert alert-block alert-danger\">\n",
    "<b>Ошибка:</b> Если требуются исправления. Работа не может быть принята с красными комментариями.\n",
    "</div>\n",
    "\n",
    "-------------------\n",
    "\n",
    "Будет очень хорошо, если ты будешь помечать свои действия следующим образом:\n",
    "<div class=\"alert alert-block alert-warning\">\n",
    "<b>Комментарий студента:</b> ..\n",
    "</div>\n",
    "<div class=\"alert alert-block alert-warning\">\n",
    "<b>Изменения:</b> Были внесены следующие изменения ...\n",
    "</div>\n",
    "\n",
    "<font color='orange' style='font-size:24px; font-weight:bold'>Полезные ссылки</font>\n",
    "* Очень интересная и полезная статья: https://dyakonov.org/2021/05/27/imbalance/\n",
    "\n",
    "<font color='orange' style='font-size:24px; font-weight:bold'>Общее впечатление</font>\n",
    "* Спасибо за  качественную работу, видно, что приложено много усилий.\n",
    "- Я оставил некоторые советы, надеюсь они будут полезными или интересными.\n",
    "- Есть некоторые недочеты, которые нужно поправить, но у тебя это не должно занять много времени)\n",
    "- Жду обновленную работу"
   ]
  },
  {
   "cell_type": "markdown",
   "metadata": {},
   "source": [
    "<font color='orange' style='font-size:24px; font-weight:bold'>Общее впечатление[2]</font>\n",
    "* Спасибо за оперативность\n",
    "- Приятно видеть фидбек \n",
    "- Недочеты исправлены - работа полностью корректна\n",
    "- Рад был быть полезен. Удачи в дальнейшем обучении!\n"
   ]
  },
  {
   "cell_type": "markdown",
   "metadata": {
    "toc": true
   },
   "source": [
    "<h1>Содержание<span class=\"tocSkip\"></span></h1>\n",
    "<div class=\"toc\"><ul class=\"toc-item\"><li><span><a href=\"#Подготовка-данных\" data-toc-modified-id=\"Подготовка-данных-1\"><span class=\"toc-item-num\">1&nbsp;&nbsp;</span>Подготовка данных</a></span></li><li><span><a href=\"#Исследование-задачи\" data-toc-modified-id=\"Исследование-задачи-2\"><span class=\"toc-item-num\">2&nbsp;&nbsp;</span>Исследование задачи</a></span></li><li><span><a href=\"#Борьба-с-дисбалансом\" data-toc-modified-id=\"Борьба-с-дисбалансом-3\"><span class=\"toc-item-num\">3&nbsp;&nbsp;</span>Борьба с дисбалансом</a></span></li><li><span><a href=\"#Тестирование-модели\" data-toc-modified-id=\"Тестирование-модели-4\"><span class=\"toc-item-num\">4&nbsp;&nbsp;</span>Тестирование модели</a></span></li><li><span><a href=\"#Чек-лист-готовности-проекта\" data-toc-modified-id=\"Чек-лист-готовности-проекта-5\"><span class=\"toc-item-num\">5&nbsp;&nbsp;</span>Чек-лист готовности проекта</a></span></li><li><span><a href=\"#Итоговый-вывод:\" data-toc-modified-id=\"Итоговый-вывод:-6\"><span class=\"toc-item-num\">6&nbsp;&nbsp;</span>Итоговый вывод:</a></span></li></ul></div>"
   ]
  },
  {
   "cell_type": "markdown",
   "metadata": {},
   "source": [
    "# Отток клиентов"
   ]
  },
  {
   "cell_type": "markdown",
   "metadata": {},
   "source": [
    "Из «Бета-Банка» стали уходить клиенты. Каждый месяц. Немного, но заметно. Банковские маркетологи посчитали: сохранять текущих клиентов дешевле, чем привлекать новых.\n",
    "\n",
    "Нужно спрогнозировать, уйдёт клиент из банка в ближайшее время или нет. Вам предоставлены исторические данные о поведении клиентов и расторжении договоров с банком. \n",
    "\n",
    "Постройте модель с предельно большим значением *F1*-меры. Чтобы сдать проект успешно, нужно довести метрику до 0.59. Проверьте *F1*-меру на тестовой выборке самостоятельно.\n",
    "\n",
    "Дополнительно измеряйте *AUC-ROC*, сравнивайте её значение с *F1*-мерой.\n",
    "\n",
    "Источник данных: [https://www.kaggle.com/barelydedicated/bank-customer-churn-modeling](https://www.kaggle.com/barelydedicated/bank-customer-churn-modeling)"
   ]
  },
  {
   "cell_type": "markdown",
   "metadata": {},
   "source": [
    "# Проект на тему: Исследование оттока клиентов в Бета-Банке"
   ]
  },
  {
   "cell_type": "markdown",
   "metadata": {},
   "source": [
    "\n",
    "\n",
    "В данном проекте необходимо построить модель, которая будет предсказывать отток клиентов в сервисе Бета-Банк, при этом значение F1-меры должно быть 0.59 и выше.\n",
    "\n",
    "В первую очередь рассмотрю данные, с которыми я буду работать.\n",
    "\n",
    "# Признаки\n",
    "\n",
    "\n",
    "RowNumber — индекс строки в данных\n",
    "\n",
    "CustomerId — уникальный идентификатор клиента\n",
    "\n",
    "Surname — фамилия\n",
    "\n",
    "CreditScore — кредитный рейтинг\n",
    "\n",
    "Geography — страна проживания\n",
    "\n",
    "Gender — пол\n",
    "\n",
    "Age — возраст\n",
    "\n",
    "Tenure — сколько лет человек является клиентом банка\n",
    "\n",
    "Balance — баланс на счёте\n",
    "\n",
    "NumOfProducts — количество продуктов банка, используемых клиентом\n",
    "\n",
    "HasCrCard — наличие кредитной карты\n",
    "\n",
    "IsActiveMember — активность клиента\n",
    "\n",
    "EstimatedSalary — предполагаемая зарплата\n",
    "\n",
    "\n",
    "# Целевой признак\n",
    "\n",
    "\n",
    "Exited — факт ухода клиента\n",
    "\n",
    "Очевидно необходимо выполнить предобработку данных.\n",
    "\n",
    "После обработки, исследую баланс классов и обучу лучшую модель. Проект завершу финальным тестированием."
   ]
  },
  {
   "cell_type": "markdown",
   "metadata": {},
   "source": [
    "## Подготовка данных"
   ]
  },
  {
   "cell_type": "code",
   "execution_count": 2,
   "metadata": {},
   "outputs": [],
   "source": [
    "import pandas as pd\n",
    "\n",
    "from sklearn.model_selection import train_test_split\n",
    "from sklearn.tree import DecisionTreeClassifier\n",
    "from sklearn.ensemble import RandomForestClassifier\n",
    "from sklearn.linear_model import LogisticRegression\n",
    "\n",
    "\n",
    "from sklearn.preprocessing import StandardScaler\n",
    "from sklearn.utils import shuffle\n",
    "\n",
    "from sklearn.metrics import accuracy_score\n",
    "from sklearn.metrics import f1_score\n",
    "from sklearn.metrics import roc_auc_score\n",
    "from sklearn.metrics import confusion_matrix"
   ]
  },
  {
   "cell_type": "markdown",
   "metadata": {},
   "source": [
    "\n",
    "<div class=\"alert alert-block alert-success\">\n",
    "<b>Успех:</b> Импорты на месте\n",
    "</div>\n"
   ]
  },
  {
   "cell_type": "code",
   "execution_count": 3,
   "metadata": {},
   "outputs": [
    {
     "data": {
      "text/html": [
       "<div>\n",
       "<style scoped>\n",
       "    .dataframe tbody tr th:only-of-type {\n",
       "        vertical-align: middle;\n",
       "    }\n",
       "\n",
       "    .dataframe tbody tr th {\n",
       "        vertical-align: top;\n",
       "    }\n",
       "\n",
       "    .dataframe thead th {\n",
       "        text-align: right;\n",
       "    }\n",
       "</style>\n",
       "<table border=\"1\" class=\"dataframe\">\n",
       "  <thead>\n",
       "    <tr style=\"text-align: right;\">\n",
       "      <th></th>\n",
       "      <th>RowNumber</th>\n",
       "      <th>CustomerId</th>\n",
       "      <th>Surname</th>\n",
       "      <th>CreditScore</th>\n",
       "      <th>Geography</th>\n",
       "      <th>Gender</th>\n",
       "      <th>Age</th>\n",
       "      <th>Tenure</th>\n",
       "      <th>Balance</th>\n",
       "      <th>NumOfProducts</th>\n",
       "      <th>HasCrCard</th>\n",
       "      <th>IsActiveMember</th>\n",
       "      <th>EstimatedSalary</th>\n",
       "      <th>Exited</th>\n",
       "    </tr>\n",
       "  </thead>\n",
       "  <tbody>\n",
       "    <tr>\n",
       "      <th>0</th>\n",
       "      <td>1</td>\n",
       "      <td>15634602</td>\n",
       "      <td>Hargrave</td>\n",
       "      <td>619</td>\n",
       "      <td>France</td>\n",
       "      <td>Female</td>\n",
       "      <td>42</td>\n",
       "      <td>2.0</td>\n",
       "      <td>0.00</td>\n",
       "      <td>1</td>\n",
       "      <td>1</td>\n",
       "      <td>1</td>\n",
       "      <td>101348.88</td>\n",
       "      <td>1</td>\n",
       "    </tr>\n",
       "    <tr>\n",
       "      <th>1</th>\n",
       "      <td>2</td>\n",
       "      <td>15647311</td>\n",
       "      <td>Hill</td>\n",
       "      <td>608</td>\n",
       "      <td>Spain</td>\n",
       "      <td>Female</td>\n",
       "      <td>41</td>\n",
       "      <td>1.0</td>\n",
       "      <td>83807.86</td>\n",
       "      <td>1</td>\n",
       "      <td>0</td>\n",
       "      <td>1</td>\n",
       "      <td>112542.58</td>\n",
       "      <td>0</td>\n",
       "    </tr>\n",
       "    <tr>\n",
       "      <th>2</th>\n",
       "      <td>3</td>\n",
       "      <td>15619304</td>\n",
       "      <td>Onio</td>\n",
       "      <td>502</td>\n",
       "      <td>France</td>\n",
       "      <td>Female</td>\n",
       "      <td>42</td>\n",
       "      <td>8.0</td>\n",
       "      <td>159660.80</td>\n",
       "      <td>3</td>\n",
       "      <td>1</td>\n",
       "      <td>0</td>\n",
       "      <td>113931.57</td>\n",
       "      <td>1</td>\n",
       "    </tr>\n",
       "    <tr>\n",
       "      <th>3</th>\n",
       "      <td>4</td>\n",
       "      <td>15701354</td>\n",
       "      <td>Boni</td>\n",
       "      <td>699</td>\n",
       "      <td>France</td>\n",
       "      <td>Female</td>\n",
       "      <td>39</td>\n",
       "      <td>1.0</td>\n",
       "      <td>0.00</td>\n",
       "      <td>2</td>\n",
       "      <td>0</td>\n",
       "      <td>0</td>\n",
       "      <td>93826.63</td>\n",
       "      <td>0</td>\n",
       "    </tr>\n",
       "    <tr>\n",
       "      <th>4</th>\n",
       "      <td>5</td>\n",
       "      <td>15737888</td>\n",
       "      <td>Mitchell</td>\n",
       "      <td>850</td>\n",
       "      <td>Spain</td>\n",
       "      <td>Female</td>\n",
       "      <td>43</td>\n",
       "      <td>2.0</td>\n",
       "      <td>125510.82</td>\n",
       "      <td>1</td>\n",
       "      <td>1</td>\n",
       "      <td>1</td>\n",
       "      <td>79084.10</td>\n",
       "      <td>0</td>\n",
       "    </tr>\n",
       "    <tr>\n",
       "      <th>...</th>\n",
       "      <td>...</td>\n",
       "      <td>...</td>\n",
       "      <td>...</td>\n",
       "      <td>...</td>\n",
       "      <td>...</td>\n",
       "      <td>...</td>\n",
       "      <td>...</td>\n",
       "      <td>...</td>\n",
       "      <td>...</td>\n",
       "      <td>...</td>\n",
       "      <td>...</td>\n",
       "      <td>...</td>\n",
       "      <td>...</td>\n",
       "      <td>...</td>\n",
       "    </tr>\n",
       "    <tr>\n",
       "      <th>9995</th>\n",
       "      <td>9996</td>\n",
       "      <td>15606229</td>\n",
       "      <td>Obijiaku</td>\n",
       "      <td>771</td>\n",
       "      <td>France</td>\n",
       "      <td>Male</td>\n",
       "      <td>39</td>\n",
       "      <td>5.0</td>\n",
       "      <td>0.00</td>\n",
       "      <td>2</td>\n",
       "      <td>1</td>\n",
       "      <td>0</td>\n",
       "      <td>96270.64</td>\n",
       "      <td>0</td>\n",
       "    </tr>\n",
       "    <tr>\n",
       "      <th>9996</th>\n",
       "      <td>9997</td>\n",
       "      <td>15569892</td>\n",
       "      <td>Johnstone</td>\n",
       "      <td>516</td>\n",
       "      <td>France</td>\n",
       "      <td>Male</td>\n",
       "      <td>35</td>\n",
       "      <td>10.0</td>\n",
       "      <td>57369.61</td>\n",
       "      <td>1</td>\n",
       "      <td>1</td>\n",
       "      <td>1</td>\n",
       "      <td>101699.77</td>\n",
       "      <td>0</td>\n",
       "    </tr>\n",
       "    <tr>\n",
       "      <th>9997</th>\n",
       "      <td>9998</td>\n",
       "      <td>15584532</td>\n",
       "      <td>Liu</td>\n",
       "      <td>709</td>\n",
       "      <td>France</td>\n",
       "      <td>Female</td>\n",
       "      <td>36</td>\n",
       "      <td>7.0</td>\n",
       "      <td>0.00</td>\n",
       "      <td>1</td>\n",
       "      <td>0</td>\n",
       "      <td>1</td>\n",
       "      <td>42085.58</td>\n",
       "      <td>1</td>\n",
       "    </tr>\n",
       "    <tr>\n",
       "      <th>9998</th>\n",
       "      <td>9999</td>\n",
       "      <td>15682355</td>\n",
       "      <td>Sabbatini</td>\n",
       "      <td>772</td>\n",
       "      <td>Germany</td>\n",
       "      <td>Male</td>\n",
       "      <td>42</td>\n",
       "      <td>3.0</td>\n",
       "      <td>75075.31</td>\n",
       "      <td>2</td>\n",
       "      <td>1</td>\n",
       "      <td>0</td>\n",
       "      <td>92888.52</td>\n",
       "      <td>1</td>\n",
       "    </tr>\n",
       "    <tr>\n",
       "      <th>9999</th>\n",
       "      <td>10000</td>\n",
       "      <td>15628319</td>\n",
       "      <td>Walker</td>\n",
       "      <td>792</td>\n",
       "      <td>France</td>\n",
       "      <td>Female</td>\n",
       "      <td>28</td>\n",
       "      <td>NaN</td>\n",
       "      <td>130142.79</td>\n",
       "      <td>1</td>\n",
       "      <td>1</td>\n",
       "      <td>0</td>\n",
       "      <td>38190.78</td>\n",
       "      <td>0</td>\n",
       "    </tr>\n",
       "  </tbody>\n",
       "</table>\n",
       "<p>10000 rows × 14 columns</p>\n",
       "</div>"
      ],
      "text/plain": [
       "      RowNumber  CustomerId    Surname  CreditScore Geography  Gender  Age  \\\n",
       "0             1    15634602   Hargrave          619    France  Female   42   \n",
       "1             2    15647311       Hill          608     Spain  Female   41   \n",
       "2             3    15619304       Onio          502    France  Female   42   \n",
       "3             4    15701354       Boni          699    France  Female   39   \n",
       "4             5    15737888   Mitchell          850     Spain  Female   43   \n",
       "...         ...         ...        ...          ...       ...     ...  ...   \n",
       "9995       9996    15606229   Obijiaku          771    France    Male   39   \n",
       "9996       9997    15569892  Johnstone          516    France    Male   35   \n",
       "9997       9998    15584532        Liu          709    France  Female   36   \n",
       "9998       9999    15682355  Sabbatini          772   Germany    Male   42   \n",
       "9999      10000    15628319     Walker          792    France  Female   28   \n",
       "\n",
       "      Tenure    Balance  NumOfProducts  HasCrCard  IsActiveMember  \\\n",
       "0        2.0       0.00              1          1               1   \n",
       "1        1.0   83807.86              1          0               1   \n",
       "2        8.0  159660.80              3          1               0   \n",
       "3        1.0       0.00              2          0               0   \n",
       "4        2.0  125510.82              1          1               1   \n",
       "...      ...        ...            ...        ...             ...   \n",
       "9995     5.0       0.00              2          1               0   \n",
       "9996    10.0   57369.61              1          1               1   \n",
       "9997     7.0       0.00              1          0               1   \n",
       "9998     3.0   75075.31              2          1               0   \n",
       "9999     NaN  130142.79              1          1               0   \n",
       "\n",
       "      EstimatedSalary  Exited  \n",
       "0           101348.88       1  \n",
       "1           112542.58       0  \n",
       "2           113931.57       1  \n",
       "3            93826.63       0  \n",
       "4            79084.10       0  \n",
       "...               ...     ...  \n",
       "9995         96270.64       0  \n",
       "9996        101699.77       0  \n",
       "9997         42085.58       1  \n",
       "9998         92888.52       1  \n",
       "9999         38190.78       0  \n",
       "\n",
       "[10000 rows x 14 columns]"
      ]
     },
     "metadata": {},
     "output_type": "display_data"
    },
    {
     "name": "stdout",
     "output_type": "stream",
     "text": [
      "<class 'pandas.core.frame.DataFrame'>\n",
      "RangeIndex: 10000 entries, 0 to 9999\n",
      "Data columns (total 14 columns):\n",
      " #   Column           Non-Null Count  Dtype  \n",
      "---  ------           --------------  -----  \n",
      " 0   RowNumber        10000 non-null  int64  \n",
      " 1   CustomerId       10000 non-null  int64  \n",
      " 2   Surname          10000 non-null  object \n",
      " 3   CreditScore      10000 non-null  int64  \n",
      " 4   Geography        10000 non-null  object \n",
      " 5   Gender           10000 non-null  object \n",
      " 6   Age              10000 non-null  int64  \n",
      " 7   Tenure           9091 non-null   float64\n",
      " 8   Balance          10000 non-null  float64\n",
      " 9   NumOfProducts    10000 non-null  int64  \n",
      " 10  HasCrCard        10000 non-null  int64  \n",
      " 11  IsActiveMember   10000 non-null  int64  \n",
      " 12  EstimatedSalary  10000 non-null  float64\n",
      " 13  Exited           10000 non-null  int64  \n",
      "dtypes: float64(3), int64(8), object(3)\n",
      "memory usage: 1.1+ MB\n",
      "None\n",
      "RowNumber [    1     2     3 ...  9998  9999 10000]\n",
      "CustomerId [15634602 15647311 15619304 ... 15584532 15682355 15628319]\n",
      "Surname ['Hargrave' 'Hill' 'Onio' ... 'Kashiwagi' 'Aldridge' 'Burbidge']\n",
      "CreditScore [619 608 502 699 850 645 822 376 501 684 528 497 476 549 635 616 653 587\n",
      " 726 732 636 510 669 846 577 756 571 574 411 591 533 553 520 722 475 490\n",
      " 804 582 472 465 556 834 660 776 829 637 550 698 585 788 655 601 656 725\n",
      " 511 614 742 687 555 603 751 581 735 661 675 738 813 657 604 519 664 678\n",
      " 757 416 665 777 543 506 493 652 750 729 646 647 808 524 769 730 515 773\n",
      " 814 710 413 623 670 622 785 605 479 685 538 562 721 628 668 828 674 625\n",
      " 432 770 758 795 686 789 589 461 584 579 663 682 793 691 485 650 754 535\n",
      " 716 539 706 586 631 717 800 683 704 615 667 484 480 578 512 606 597 778\n",
      " 514 525 715 580 807 521 759 516 711 618 643 671 689 620 676 572 695 592\n",
      " 567 694 547 594 673 610 767 763 712 703 662 659 523 772 545 634 739 771\n",
      " 681 544 696 766 727 693 557 531 498 651 791 733 811 707 714 782 775 799\n",
      " 602 744 588 747 583 627 731 629 438 642 806 474 559 429 680 749 734 644\n",
      " 626 649 805 718 840 630 654 762 568 613 522 737 648 443 640 540 460 593\n",
      " 801 611 802 745 483 690 492 709 705 560 752 701 537 487 596 702 486 724\n",
      " 548 464 790 534 748 494 590 468 509 818 816 536 753 774 621 569 658 798\n",
      " 641 542 692 639 765 570 638 599 632 779 527 564 833 504 842 508 417 598\n",
      " 741 607 761 848 546 439 755 760 526 713 700 666 566 495 688 612 477 427\n",
      " 839 819 720 459 503 624 529 563 482 796 445 746 786 554 672 787 499 844\n",
      " 450 815 838 803 736 633 600 679 517 792 743 488 421 841 708 507 505 456\n",
      " 435 561 518 565 728 784 552 609 764 697 723 551 444 719 496 541 830 812\n",
      " 677 420 595 617 809 500 826 434 513 478 797 363 399 463 780 452 575 837\n",
      " 794 824 428 823 781 849 489 431 457 768 831 359 820 573 576 558 817 449\n",
      " 440 415 821 530 350 446 425 740 481 783 358 845 451 458 469 423 404 836\n",
      " 473 835 466 491 351 827 843 365 532 414 453 471 401 810 832 470 447 422\n",
      " 825 430 436 426 408 847 418 437 410 454 407 455 462 386 405 383 395 467\n",
      " 433 442 424 448 441 367 412 382 373 419]\n",
      "Geography ['France' 'Spain' 'Germany']\n",
      "Gender ['Female' 'Male']\n",
      "Age [42 41 39 43 44 50 29 27 31 24 34 25 35 45 58 32 38 46 36 33 40 51 61 49\n",
      " 37 19 66 56 26 21 55 75 22 30 28 65 48 52 57 73 47 54 72 20 67 79 62 53\n",
      " 80 59 68 23 60 70 63 64 18 82 69 74 71 76 77 88 85 84 78 81 92 83]\n",
      "Tenure [ 2.  1.  8.  7.  4.  6.  3. 10.  5.  9.  0. nan]\n",
      "Balance [     0.    83807.86 159660.8  ...  57369.61  75075.31 130142.79]\n",
      "NumOfProducts [1 3 2 4]\n",
      "HasCrCard [1 0]\n",
      "IsActiveMember [1 0]\n",
      "EstimatedSalary [101348.88 112542.58 113931.57 ...  42085.58  92888.52  38190.78]\n",
      "Exited [1 0]\n"
     ]
    }
   ],
   "source": [
    "data = pd.read_csv('/datasets/Churn.csv')\n",
    "display(data)\n",
    "print(data.info())\n",
    "for i in data:\n",
    "    print(i, (data[i].unique()))"
   ]
  },
  {
   "cell_type": "markdown",
   "metadata": {},
   "source": [
    "1) Методом display ознакомимься с таблицей.\n",
    "\n",
    "2) Методом info можно с типами данных, посмотреть наличие пропусков. Сразу заметно, что в столбце Tenure есть объекты типа nan. Так как процент данных невелик, восстанавливать эти данные не вижу смысла.\n",
    "\n",
    "3) Методом unique в цикле for пробежался по столбцам, аномалий, кроме nan в Tenure я не обнаружил.\n",
    "\n",
    "В связи с проведённым анализом, я предлагаю удалить данные типа nan. Также можно переместить некоторые столбцы в другую таблицу, которую я сейчас создам. Это столбцы Surname, CustomerId & RowNumber."
   ]
  },
  {
   "cell_type": "markdown",
   "metadata": {},
   "source": [
    "\n",
    "<div class=\"alert alert-block alert-info\">\n",
    "<b>Совет:</b>  Советую обратить внимание на библиотеки sweetviz и pandas_profiling помогут в проведении более тщательного EDA анализа. Исследовательский анализ можно делать и с помощью ручного вызова функций дефолтных библиотек. Данные библиотеки хороши для максимизации комфорта презентации результатов анализа бизнес-пользователям. \n",
    "    \n",
    "Очень просты в использоовании, на вход кладется датафрейм: pandas_profiling.ProfileReport(df) \n",
    "\n",
    "</div>\n"
   ]
  },
  {
   "cell_type": "code",
   "execution_count": 4,
   "metadata": {
    "scrolled": true
   },
   "outputs": [
    {
     "name": "stdout",
     "output_type": "stream",
     "text": [
      "   RowNumber  CustomerId   Surname\n",
      "0          1    15634602  Hargrave\n",
      "1          2    15647311      Hill\n",
      "2          3    15619304      Onio\n",
      "3          4    15701354      Boni\n",
      "4          5    15737888  Mitchell\n",
      "<class 'pandas.core.frame.DataFrame'>\n",
      "RangeIndex: 9091 entries, 0 to 9090\n",
      "Data columns (total 11 columns):\n",
      " #   Column           Non-Null Count  Dtype  \n",
      "---  ------           --------------  -----  \n",
      " 0   CreditScore      9091 non-null   int64  \n",
      " 1   Geography        9091 non-null   object \n",
      " 2   Gender           9091 non-null   object \n",
      " 3   Age              9091 non-null   int64  \n",
      " 4   Tenure           9091 non-null   float64\n",
      " 5   Balance          9091 non-null   float64\n",
      " 6   NumOfProducts    9091 non-null   int64  \n",
      " 7   HasCrCard        9091 non-null   int64  \n",
      " 8   IsActiveMember   9091 non-null   int64  \n",
      " 9   EstimatedSalary  9091 non-null   float64\n",
      " 10  Exited           9091 non-null   int64  \n",
      "dtypes: float64(3), int64(6), object(2)\n",
      "memory usage: 781.4+ KB\n",
      "None\n"
     ]
    }
   ],
   "source": [
    "data = data.dropna(subset=['Tenure']).reset_index(drop=True)\n",
    "useless_data = data[['RowNumber', 'CustomerId', 'Surname']]\n",
    "data = data.drop(['RowNumber', 'CustomerId', 'Surname'], axis=1)\n",
    "print(useless_data.head())\n",
    "print(data.info())"
   ]
  },
  {
   "cell_type": "markdown",
   "metadata": {},
   "source": [
    "<div class=\"alert alert-block alert-success\">\n",
    "<b>Успех:</b> Удалить неинформативные признаки - верное решение.\n",
    "</div>\n"
   ]
  },
  {
   "cell_type": "markdown",
   "metadata": {},
   "source": [
    "\n",
    "<div class=\"alert alert-block alert-info\">\n",
    "<b>Совет:</b> Пропуски проанализированы и решение обработать их таким образом - допустимое . Но мне кажется, что можно не терять данные, а так как природа пропусков неизвестна можно заполнить их случайными числами, чтобы не влиять на распределение или использовать медиану .\n",
    "</div>"
   ]
  },
  {
   "cell_type": "markdown",
   "metadata": {},
   "source": [
    "Определю признаки и разделю данные на выборки:"
   ]
  },
  {
   "cell_type": "code",
   "execution_count": 5,
   "metadata": {},
   "outputs": [],
   "source": [
    "target = data['Exited'] #Целевой признак\n",
    "features = data.drop(['Exited'], axis=1) #Остальные признаки\n",
    "\n",
    "\n",
    "features_train, features_valid, target_train, target_valid = train_test_split(features, target, test_size=0.6, \n",
    "                                                  random_state=12345, stratify=target) #Обучающая выборка\n",
    "    \n",
    "features_valid, features_test, target_valid, target_test = train_test_split(features_valid, target_valid, \n",
    "                                                 test_size=0.5, random_state=12345, stratify=target_valid) #Тестовая выборка\n"
   ]
  },
  {
   "cell_type": "markdown",
   "metadata": {},
   "source": [
    "Воспользуюсь техникой OHE для кодирования признаков:"
   ]
  },
  {
   "cell_type": "code",
   "execution_count": 6,
   "metadata": {
    "scrolled": true
   },
   "outputs": [
    {
     "name": "stdout",
     "output_type": "stream",
     "text": [
      "      CreditScore  Age  Tenure    Balance  NumOfProducts  HasCrCard  \\\n",
      "7133          850   27     6.0   96654.72              2          0   \n",
      "43            660   61     5.0  155931.11              1          1   \n",
      "5878          767   35     6.0  115576.44              1          0   \n",
      "3109          625   37     1.0  177069.24              2          1   \n",
      "5853          514   45     1.0  178827.79              1          1   \n",
      "\n",
      "      IsActiveMember  EstimatedSalary  Geography_France  Geography_Germany  \\\n",
      "7133               0        152740.16                 1                  0   \n",
      "43                 1        158338.39                 0                  0   \n",
      "5878               1         27922.45                 1                  0   \n",
      "3109               1         96088.54                 1                  0   \n",
      "5853               0         60375.18                 1                  0   \n",
      "\n",
      "      Geography_Spain  Gender_Female  Gender_Male  \n",
      "7133                0              0            1  \n",
      "43                  1              1            0  \n",
      "5878                0              1            0  \n",
      "3109                0              0            1  \n",
      "5853                0              0            1  \n",
      "      CreditScore  Age  Tenure    Balance  NumOfProducts  HasCrCard  \\\n",
      "4058          850   61     3.0  141784.02              1          1   \n",
      "3908          616   43     3.0  120867.18              1          1   \n",
      "8747          497   44     2.0  121250.04              1          0   \n",
      "3069          655   72     5.0  138089.97              2          1   \n",
      "1703          429   60     7.0       0.00              2          1   \n",
      "\n",
      "      IsActiveMember  EstimatedSalary  Geography_France  Geography_Germany  \\\n",
      "4058               1         92053.75                 0                  1   \n",
      "3908               0         18761.92                 0                  0   \n",
      "8747               1         79691.40                 0                  0   \n",
      "3069               1         99920.41                 0                  1   \n",
      "1703               1        163691.48                 1                  0   \n",
      "\n",
      "      Geography_Spain  Gender_Female  Gender_Male  \n",
      "4058                0              0            1  \n",
      "3908                1              1            0  \n",
      "8747                1              0            1  \n",
      "3069                0              1            0  \n",
      "1703                0              0            1  \n"
     ]
    }
   ],
   "source": [
    "features_ohe_train = pd.get_dummies(features_train)\n",
    "features_ohe_test = pd.get_dummies(features_test)\n",
    "features_ohe_valid = pd.get_dummies(features_valid)\n",
    "\n",
    "print(features_ohe_train.head())\n",
    "print(features_ohe_test.head())"
   ]
  },
  {
   "cell_type": "markdown",
   "metadata": {},
   "source": [
    "\n",
    "<div class=\"alert alert-block alert-info\">\n",
    "    \n",
    "\n",
    "<b>Совет:</b>  Если решено использованть инструмент `pd.get_dummies()` после разбиения - то нужно обязательно проверять соответствие категорий. Может оказаться, что в тренировочной и валидационной/тестовой выборке разные категории и если  категорий оказалось разное количество - то код упадет. А если категории разные, но их количество равное, то код не упадет, но будет допущена грубая ошибка.\n",
    "    \n",
    "Здесь более подробно описываются все нюансы https://colab.research.google.com/drive/1_gAMXcQKoCShB_l8FNtYEejMnosm9mvt?usp=sharing\n",
    "</div>"
   ]
  },
  {
   "cell_type": "markdown",
   "metadata": {},
   "source": [
    "Теперь я воспользуюсь структурой StandartScaler для масштабирования данных. Это необходимо чтобы избежать ловушки когда значения определённого столбца больше другого (например Age - Balance), в таком случае столбец Balance будет воспринят моделью как более важный.\n",
    "\n",
    "Переменной numeric задам столбцы с численными значениями - CreditScore; Age; Balance; NumOfProducts; EstimatedSalary."
   ]
  },
  {
   "cell_type": "code",
   "execution_count": 7,
   "metadata": {},
   "outputs": [
    {
     "name": "stdout",
     "output_type": "stream",
     "text": [
      "      CreditScore  Age  Tenure    Balance  NumOfProducts  HasCrCard  \\\n",
      "7133          850   27     6.0   96654.72              2          0   \n",
      "43            660   61     5.0  155931.11              1          1   \n",
      "5878          767   35     6.0  115576.44              1          0   \n",
      "3109          625   37     1.0  177069.24              2          1   \n",
      "5853          514   45     1.0  178827.79              1          1   \n",
      "\n",
      "      IsActiveMember  EstimatedSalary  Geography_France  Geography_Germany  \\\n",
      "7133               0        152740.16                 1                  0   \n",
      "43                 1        158338.39                 0                  0   \n",
      "5878               1         27922.45                 1                  0   \n",
      "3109               1         96088.54                 1                  0   \n",
      "5853               0         60375.18                 1                  0   \n",
      "\n",
      "      Geography_Spain  Gender_Female  Gender_Male  \n",
      "7133                0              0            1  \n",
      "43                  1              1            0  \n",
      "5878                0              1            0  \n",
      "3109                0              0            1  \n",
      "5853                0              0            1  \n"
     ]
    }
   ],
   "source": [
    "numeric = ['CreditScore', 'Age', 'Balance', 'NumOfProducts', 'EstimatedSalary']\n",
    "print(features_ohe_train.head())\n",
    "\n",
    "scaler = StandardScaler()\n",
    "scaler.fit(features_ohe_train[numeric])\n",
    "features_ohe_train[numeric] = scaler.transform(features_ohe_train[numeric])\n",
    "features_ohe_valid[numeric] = scaler.transform(features_ohe_valid[numeric])\n",
    "features_ohe_test[numeric] = scaler.transform(features_ohe_test[numeric])"
   ]
  },
  {
   "cell_type": "markdown",
   "metadata": {},
   "source": [
    "<div class=\"alert alert-block alert-success\">\n",
    "<b>Успех:</b> Отлично, что scaler обучен только на трейне\n",
    "</div>\n",
    "\n",
    "\n",
    "\n"
   ]
  },
  {
   "cell_type": "markdown",
   "metadata": {},
   "source": [
    "## Исследование задачи"
   ]
  },
  {
   "cell_type": "markdown",
   "metadata": {},
   "source": [
    "Исследуем баланс классов:"
   ]
  },
  {
   "cell_type": "code",
   "execution_count": 8,
   "metadata": {},
   "outputs": [
    {
     "name": "stdout",
     "output_type": "stream",
     "text": [
      "2894\n",
      "742\n",
      "2894\n",
      "742\n"
     ]
    }
   ],
   "source": [
    "features_zeros = features_ohe_train[target_train == 0]\n",
    "features_ones = features_ohe_train[target_train == 1]\n",
    "\n",
    "target_zeros = target_train[target_train == 0]\n",
    "target_ones = target_train[target_train == 1]\n",
    "\n",
    "print(features_zeros.shape[0])\n",
    "print(features_ones.shape[0])\n",
    "print(target_zeros.shape[0])\n",
    "print(target_ones.shape[0])"
   ]
  },
  {
   "cell_type": "markdown",
   "metadata": {},
   "source": [
    "Видно, что отрицательный класс в 4 раза больше положительного. Что ж, продолжаем."
   ]
  },
  {
   "cell_type": "markdown",
   "metadata": {},
   "source": [
    "Обучу модель без учёта дисбаланса классов. Посмотрим, к чему это приведёт."
   ]
  },
  {
   "cell_type": "markdown",
   "metadata": {},
   "source": [
    "Начнём с LR:"
   ]
  },
  {
   "cell_type": "code",
   "execution_count": 9,
   "metadata": {},
   "outputs": [
    {
     "name": "stdout",
     "output_type": "stream",
     "text": [
      "Значение F1: 0.47792207792207797\n",
      "Значение AUC_ROC: 0.7561727679118796\n",
      "Матрица ошибок:\n",
      " [[1555  616]\n",
      " [ 188  368]]\n"
     ]
    }
   ],
   "source": [
    "model = LogisticRegression(solver='lbfgs', random_state=12345, class_weight='balanced')\n",
    "model.fit(features_ohe_train, target_train)\n",
    "\n",
    "predicted_valid = model.predict(features_ohe_valid)\n",
    "probabilities_valid = model.predict_proba(features_ohe_valid)\n",
    "probabilities_one_valid = probabilities_valid[:, 1]\n",
    "\n",
    "auc_roc = roc_auc_score(target_valid, probabilities_one_valid)\n",
    "\n",
    "print(\"Значение F1:\", f1_score(target_valid, predicted_valid))\n",
    "print(\"Значение AUC_ROC:\", auc_roc)\n",
    "print(\"Матрица ошибок:\\n\", confusion_matrix(target_valid, predicted_valid))"
   ]
  },
  {
   "cell_type": "markdown",
   "metadata": {},
   "source": [
    "Согласно теории, AUC-ROC случайной модели равна 0.5, следовательно несбалансированная модель с хорошо подготовленными данными справляется лучше чем случайная, что не может не радовать, однако значение F1 меры не доходит до необходимого. \n",
    "\n",
    "Матрица ошибок показывает, что LR в разы лучше определяет отрицательные классы как отрицательные, чем положительные как положительные."
   ]
  },
  {
   "cell_type": "markdown",
   "metadata": {},
   "source": [
    "Рассмотрим DT:"
   ]
  },
  {
   "cell_type": "code",
   "execution_count": 10,
   "metadata": {
    "scrolled": true
   },
   "outputs": [
    {
     "name": "stdout",
     "output_type": "stream",
     "text": [
      "Лучшая глубина поиска: 7\n",
      "Значение F1: 0.5567226890756302\n",
      "Значение AUC_ROC: 0.8129351424433922\n",
      "Матрица ошибок:\n",
      " [[1879  292]\n",
      " [ 288  268]]\n"
     ]
    }
   ],
   "source": [
    "answer_depth = 0\n",
    "f1 = 0\n",
    "\n",
    "for depth in range(1, 32):\n",
    "    model = DecisionTreeClassifier(max_depth=depth, random_state=12345)\n",
    "    model.fit(features_ohe_train, target_train)\n",
    "\n",
    "    predicted_valid = model.predict(features_ohe_valid)\n",
    "    probabilities_valid = model.predict_proba(features_ohe_valid)\n",
    "    probabilities_one_valid = probabilities_valid[:, 1]\n",
    "    if f1_score(target_valid, predicted_valid) > f1:\n",
    "        answer_depth = depth\n",
    "        f1 = f1_score(target_valid, predicted_valid)\n",
    "        auc_roc = roc_auc_score(target_valid, probabilities_one_valid)\n",
    "\n",
    "print(\"Лучшая глубина поиска:\", answer_depth)\n",
    "print(\"Значение F1:\", f1)\n",
    "print(\"Значение AUC_ROC:\", auc_roc)\n",
    "print(\"Матрица ошибок:\\n\", confusion_matrix(target_valid, predicted_valid))"
   ]
  },
  {
   "cell_type": "markdown",
   "metadata": {},
   "source": [
    "Значение F1 и AUC-ROC увеличилось, но недостаточно. По матрице видно - улучшилось определение положительных классов как положительных."
   ]
  },
  {
   "cell_type": "markdown",
   "metadata": {},
   "source": [
    "Как финал рассмотрим \"лес\":"
   ]
  },
  {
   "cell_type": "code",
   "execution_count": 11,
   "metadata": {},
   "outputs": [
    {
     "name": "stdout",
     "output_type": "stream",
     "text": [
      "Лучшая глубина поиска: 11\n",
      "Значение F1: 0.5515643105446119\n",
      "Значение AUC_ROC: 0.8464769409714054\n",
      "Матрица ошибок:\n",
      " [[2084   87]\n",
      " [ 320  236]]\n"
     ]
    }
   ],
   "source": [
    "answer_depth = 0\n",
    "f1 = 0\n",
    "\n",
    "for depth in range(1, 16):\n",
    "    model = RandomForestClassifier(max_depth=depth, n_estimators=80, random_state=12345)\n",
    "    model.fit(features_ohe_train, target_train)\n",
    "    \n",
    "    predicted_valid = model.predict(features_ohe_valid)\n",
    "    probabilities_valid = model.predict_proba(features_ohe_valid)\n",
    "    probabilities_one_valid = probabilities_valid[:, 1]\n",
    "    if f1_score(target_valid, predicted_valid) > f1:\n",
    "        answer_depth = depth\n",
    "        f1 = f1_score(target_valid, predicted_valid)\n",
    "        auc_roc = roc_auc_score(target_valid, probabilities_one_valid)\n",
    "\n",
    "print(\"Лучшая глубина поиска:\", answer_depth)\n",
    "print(\"Значение F1:\", f1)\n",
    "print(\"Значение AUC_ROC:\", auc_roc)\n",
    "print(\"Матрица ошибок:\\n\", confusion_matrix(target_valid, predicted_valid))"
   ]
  },
  {
   "cell_type": "markdown",
   "metadata": {},
   "source": [
    "Матрица ошибок выглядит ещё лучше, положительные классы рассмотрены ещё лучше, однако значение метрик увеличилось незначительно. Приступим к балансировке."
   ]
  },
  {
   "cell_type": "markdown",
   "metadata": {},
   "source": [
    "\n",
    "<div class=\"alert alert-block alert-success\">\n",
    "<b>Успех:</b> Шаг проделан хорошо,  все метрики посчитаны корректно, идем дальше.\n",
    "</div>\n"
   ]
  },
  {
   "cell_type": "markdown",
   "metadata": {},
   "source": [
    "## Борьба с дисбалансом"
   ]
  },
  {
   "cell_type": "markdown",
   "metadata": {},
   "source": [
    "Попробую увеличить выборку. Сделаю это при помощи техники upsampling."
   ]
  },
  {
   "cell_type": "code",
   "execution_count": 12,
   "metadata": {},
   "outputs": [],
   "source": [
    "features_zeros = features_ohe_train[target_train == 0]\n",
    "features_ones = features_ohe_train[target_train == 1]\n",
    "\n",
    "target_zeros = target_train[target_train == 0]\n",
    "target_ones = target_train[target_train == 1]\n",
    "\n",
    "def upsample(features, target, repeat):\n",
    "    features_upsampled = pd.concat([features_zeros] + [features_ones] * repeat)\n",
    "    target_upsampled = pd.concat([target_zeros] + [target_ones] * repeat)\n",
    "    \n",
    "    features_upsampled, target_upsampled = shuffle(\n",
    "        features_upsampled, target_upsampled, random_state=12345)\n",
    "    \n",
    "    return features_upsampled, target_upsampled"
   ]
  },
  {
   "cell_type": "markdown",
   "metadata": {},
   "source": [
    "Для этой техники необходимо подобрать параметр repeat. Сделаю это при помощи перебора:"
   ]
  },
  {
   "cell_type": "code",
   "execution_count": 13,
   "metadata": {},
   "outputs": [
    {
     "name": "stdout",
     "output_type": "stream",
     "text": [
      "Repeat parameter: 1 \n",
      " 0    2894\n",
      "1     742\n",
      "Name: Exited, dtype: int64 \n",
      "\n",
      "Repeat parameter: 2 \n",
      " 0    2894\n",
      "1    1484\n",
      "Name: Exited, dtype: int64 \n",
      "\n",
      "Repeat parameter: 3 \n",
      " 0    2894\n",
      "1    2226\n",
      "Name: Exited, dtype: int64 \n",
      "\n",
      "Repeat parameter: 4 \n",
      " 1    2968\n",
      "0    2894\n",
      "Name: Exited, dtype: int64 \n",
      "\n",
      "Repeat parameter: 5 \n",
      " 1    3710\n",
      "0    2894\n",
      "Name: Exited, dtype: int64 \n",
      "\n",
      "Repeat parameter: 6 \n",
      " 1    4452\n",
      "0    2894\n",
      "Name: Exited, dtype: int64 \n",
      "\n",
      "Repeat parameter: 7 \n",
      " 1    5194\n",
      "0    2894\n",
      "Name: Exited, dtype: int64 \n",
      "\n",
      "Repeat parameter: 8 \n",
      " 1    5936\n",
      "0    2894\n",
      "Name: Exited, dtype: int64 \n",
      "\n",
      "Repeat parameter: 9 \n",
      " 1    6678\n",
      "0    2894\n",
      "Name: Exited, dtype: int64 \n",
      "\n",
      "Repeat parameter: 10 \n",
      " 1    7420\n",
      "0    2894\n",
      "Name: Exited, dtype: int64 \n",
      "\n",
      "Repeat parameter: 11 \n",
      " 1    8162\n",
      "0    2894\n",
      "Name: Exited, dtype: int64 \n",
      "\n",
      "Repeat parameter: 12 \n",
      " 1    8904\n",
      "0    2894\n",
      "Name: Exited, dtype: int64 \n",
      "\n",
      "Repeat parameter: 13 \n",
      " 1    9646\n",
      "0    2894\n",
      "Name: Exited, dtype: int64 \n",
      "\n",
      "Repeat parameter: 14 \n",
      " 1    10388\n",
      "0     2894\n",
      "Name: Exited, dtype: int64 \n",
      "\n",
      "Repeat parameter: 15 \n",
      " 1    11130\n",
      "0     2894\n",
      "Name: Exited, dtype: int64 \n",
      "\n"
     ]
    }
   ],
   "source": [
    "for repeat in range(1, 16):\n",
    "    model = RandomForestClassifier(max_depth=answer_depth, n_estimators=80, random_state=12345)\n",
    "    \n",
    "    features_upsampled, target_upsampled = upsample(features_ohe_train, target_train, repeat)\n",
    "    model.fit(features_upsampled, target_upsampled)\n",
    "    \n",
    "    predicted_valid = model.predict(features_ohe_valid)\n",
    "    probabilities_valid = model.predict_proba(features_ohe_valid)\n",
    "    probabilities_one_valid = probabilities_valid[:, 1]\n",
    "    print(\"Repeat parameter:\", repeat, \"\\n\",  target_upsampled.value_counts(), \"\\n\")\n",
    "    #if f1_score(target_valid, predicted_valid) > f1:\n",
    "    #    f1 = f1_score(target_valid, predicted_valid)\n",
    "    #    auc_roc = roc_auc_score(target_valid, probabilities_one_valid)\n",
    "    #    answer_repeat = repeat\n",
    "\n",
    "#print(\"Значение F1:\", f1)\n",
    "#print(\"Значение AUC_ROC:\", auc_roc)\n",
    "#print(\"Матрица ошибок:\\n\", confusion_matrix(target_valid, predicted_valid))\n",
    "#print(\"Лучшее количество повторений:\", answer_repeat)"
   ]
  },
  {
   "cell_type": "markdown",
   "metadata": {},
   "source": [
    "\n",
    "<div class=\"alert alert-block alert-danger\"> \n",
    "\n",
    "<b>Ошибка:</b> Нет смысла в том, чтобы подбирать `repeat` Наша цель просто избавиться от дисбаланса, то есть использовать такой `repeat`, который устраняет дисбаланс, а не создает новый. Проверить можно через `target_upsampled.value_counts()`\n",
    "</div>\n"
   ]
  },
  {
   "cell_type": "markdown",
   "metadata": {},
   "source": [
    "Принял. Так понимаю просто переберём repeat, но выберем по соотношению классов близкому 1 к 1. Получается что наилучшим будет вариант 4."
   ]
  },
  {
   "cell_type": "code",
   "execution_count": 14,
   "metadata": {},
   "outputs": [],
   "source": [
    "answer_repeat = 4"
   ]
  },
  {
   "cell_type": "markdown",
   "metadata": {},
   "source": [
    "\n",
    "<div class=\"alert alert-block alert-success\">\n",
    "    \n",
    "<b>Успех[2]:</b> Верно\n",
    "</div>\n"
   ]
  },
  {
   "cell_type": "markdown",
   "metadata": {},
   "source": [
    "Необходимый результат достигнут, значение F1 меры превысило 0.59. Для этого необходимо было увеличить размер положительного класса в 5 раз. Однако что если попробовать downsampling?"
   ]
  },
  {
   "cell_type": "code",
   "execution_count": 15,
   "metadata": {},
   "outputs": [],
   "source": [
    "features_zeros = features_ohe_train[target_train == 0]\n",
    "features_ones = features_ohe_train[target_train == 1]\n",
    "\n",
    "target_zeros = target_train[target_train == 0]\n",
    "target_ones = target_train[target_train == 1]\n",
    "\n",
    "def downsample(features, target, fraction):\n",
    "    features_downsampled = pd.concat(\n",
    "        [features_zeros.sample(frac=fraction, random_state=12345)] + [features_ones])\n",
    "    target_downsampled = pd.concat(\n",
    "        [target_zeros.sample(frac=fraction, random_state=12345)] + [target_ones])\n",
    "    \n",
    "    features_downsampled, target_downsampled = shuffle(\n",
    "        features_downsampled, target_downsampled, random_state=12345)\n",
    "    \n",
    "    return features_downsampled, target_downsampled"
   ]
  },
  {
   "cell_type": "code",
   "execution_count": 16,
   "metadata": {},
   "outputs": [
    {
     "name": "stdout",
     "output_type": "stream",
     "text": [
      "Значение F1: 0.567032967032967\n"
     ]
    }
   ],
   "source": [
    "\n",
    "model = RandomForestClassifier(max_depth=answer_depth, n_estimators=80, random_state=12345)\n",
    "    \n",
    "features_downsampled, target_downsampled = downsample(features_ohe_train, target_train, 0.26)\n",
    "model.fit(features_downsampled, target_downsampled)\n",
    "    \n",
    "predicted_valid = model.predict(features_ohe_valid)\n",
    "probabilities_valid = model.predict_proba(features_ohe_valid)\n",
    "probabilities_one_valid = probabilities_valid[:, 1]\n",
    "f1 = f1_score(target_valid, predicted_valid)\n",
    "print(\"Значение F1:\", f1)"
   ]
  },
  {
   "cell_type": "markdown",
   "metadata": {},
   "source": [
    "Вручную прикинул значения для параметра fraction - значительных отличий от техники upsampling нет, поэтому пытаться перебрать тысячные дроби смысла не вижу."
   ]
  },
  {
   "cell_type": "markdown",
   "metadata": {},
   "source": [
    "\n",
    "<div class=\"alert alert-block alert-info\"> \n",
    "\n",
    "<b>Совет:</b> 0.26 более правильное значение для `fraction`\n",
    "</div>\n"
   ]
  },
  {
   "cell_type": "markdown",
   "metadata": {},
   "source": [
    "По итогу лучшие значения:\n",
    "\n",
    "Значение F1: 0.6008658008658009\n",
    "Значение AUC_ROC: 0.8420174040408391\n",
    "\n",
    "n_estimators подбирал вручную, попробовал изначально вложенным циклом, однако выходит слишком долго."
   ]
  },
  {
   "cell_type": "markdown",
   "metadata": {},
   "source": [
    "<div class=\"alert alert-block alert-success\">\n",
    "<b>Успех:</b> хорошая работа с моделями машинного обучения.  Радует  достаточное количество расмотренных методов для борьбы с дисбалансом.\n",
    "\n",
    "</div>\n"
   ]
  },
  {
   "cell_type": "markdown",
   "metadata": {},
   "source": [
    "## Тестирование модели"
   ]
  },
  {
   "cell_type": "markdown",
   "metadata": {},
   "source": [
    "\n",
    "\n",
    "<div class=\"alert alert-block alert-danger\">\n",
    "<b>Ошибка:</b>\n",
    "    \n",
    " переименуй все названия переменных в этом шаге, которые содержат суффикс/преффикс **valid**. Это путает, у нас в этом шаге нет валидационной выорки, только тестовая\n",
    "</div>\n",
    "\n"
   ]
  },
  {
   "cell_type": "code",
   "execution_count": 17,
   "metadata": {},
   "outputs": [
    {
     "name": "stdout",
     "output_type": "stream",
     "text": [
      "0.6058981233243967\n",
      "0.8564662082488704\n"
     ]
    }
   ],
   "source": [
    "model = RandomForestClassifier(max_depth=11, n_estimators=80, random_state=12345)\n",
    "    \n",
    "features_upsampled, target_upsampled = upsample(features_ohe_train, target_train, answer_repeat)\n",
    "model.fit(features_upsampled, target_upsampled)\n",
    "    \n",
    "predicted_test = model.predict(features_ohe_test)\n",
    "probabilities_test = model.predict_proba(features_ohe_test)\n",
    "probabilities_one_test = probabilities_test[:, 1]\n",
    "\n",
    "auc_roc = roc_auc_score(target_test, probabilities_one_test)\n",
    "\n",
    "print(f1_score(target_test, predicted_test))\n",
    "print(auc_roc)"
   ]
  },
  {
   "cell_type": "markdown",
   "metadata": {},
   "source": [
    "<div class=\"alert alert-block alert-danger\"> \n",
    "\n",
    "<b>Ошибка:</b>  Не понятно, почему здесь выбран такой `repeat`. Нужно использовать правильный.\n",
    "</div>"
   ]
  },
  {
   "cell_type": "markdown",
   "metadata": {},
   "source": [
    "\n",
    "<div class=\"alert alert-block alert-success\">\n",
    "    \n",
    "<b>Успех[2]:</b> На тестовой получено хорошее качество!\n",
    "</div>\n"
   ]
  },
  {
   "cell_type": "markdown",
   "metadata": {},
   "source": [
    "## Чек-лист готовности проекта"
   ]
  },
  {
   "cell_type": "markdown",
   "metadata": {},
   "source": [
    "Поставьте 'x' в выполненных пунктах. Далее нажмите Shift+Enter."
   ]
  },
  {
   "cell_type": "markdown",
   "metadata": {},
   "source": [
    "- [x]  Jupyter Notebook открыт\n",
    "- [x]  Весь код выполняется без ошибок\n",
    "- [x]  Ячейки с кодом расположены в порядке исполнения\n",
    "- [x]  Выполнен шаг 1: данные подготовлены\n",
    "- [x]  Выполнен шаг 2: задача исследована\n",
    "    - [x]  Исследован баланс классов\n",
    "    - [x]  Изучены модели без учёта дисбаланса\n",
    "    - [x]  Написаны выводы по результатам исследования\n",
    "- [x]  Выполнен шаг 3: учтён дисбаланс\n",
    "    - [x]  Применено несколько способов борьбы с дисбалансом\n",
    "    - [x]  Написаны выводы по результатам исследования\n",
    "- [x]  Выполнен шаг 4: проведено тестирование\n",
    "- [x]  Удалось достичь *F1*-меры не менее 0.59\n",
    "- [x]  Исследована метрика *AUC-ROC*"
   ]
  },
  {
   "cell_type": "markdown",
   "metadata": {},
   "source": [
    "## Итоговый вывод:\n",
    "\n",
    "Работа состояла из основных 4-х этапов:\n",
    "\n",
    "1) Предобработка\n",
    "\n",
    "2) Исследование задачи\n",
    "\n",
    "3) Борьба с дисбалансом данных\n",
    "\n",
    "4) Итоговое тестирование модели\n",
    "\n",
    "На этапе предобработки было выполнено следующее:\n",
    "\n",
    "1) Ознакомились с данными, посмотрели на артефакты и пропуски\n",
    "\n",
    "2) Разделили данные на выборки\n",
    "\n",
    "3) При помощи OHE закодировали категориальные столбцы\n",
    "\n",
    "На этапе исследования задачи было выяснено: \n",
    "\n",
    "1) Что отрицательный класс встречается чаще положительного в несколько раз\n",
    "\n",
    "2) Наиболее подходящей моделью оказался лес, однако значение F1 меры не достигло необходимого, поэтому требовались доработки\n",
    "\n",
    "На этапе борьбы с дисбалансом сравнили результаты техник up/downsampling, пришли к выводу, что особых отличий нет.\n",
    "\n",
    "На этапе тестирования выяснили, что модель леса с параметрами max_depth=11, n_estimators=80 показывает результат F1= 0.6022380467955238 AUC-ROC=0.8565531552658426\n"
   ]
  },
  {
   "cell_type": "markdown",
   "metadata": {},
   "source": [
    "<div class=\"alert alert-block alert-info\">\n",
    "<b>Совет:</b> Для понимания, а какие в итоге факторы важны при моделировании, можно выводить их важность, использую feature_importances_, ну и график заодно. Это будет смотреться очнь здорово: результативная метрика и график важности факторов)))<br> Очень ВАЖНАЯ для аналитики штука. Ведь нам не просто модель с метрикой нужна, а ещё и причины понять высокой/низкой метрики. Т.е. понять с какой силой сами факторы влияют на целевую.\n",
    "</div>\n"
   ]
  }
 ],
 "metadata": {
  "ExecuteTimeLog": [
   {
    "duration": 523,
    "start_time": "2023-08-29T16:21:30.605Z"
   },
   {
    "duration": 47,
    "start_time": "2023-08-29T16:24:06.583Z"
   },
   {
    "duration": 66,
    "start_time": "2023-08-29T16:24:22.218Z"
   },
   {
    "duration": 57,
    "start_time": "2023-08-29T16:25:38.048Z"
   },
   {
    "duration": 58,
    "start_time": "2023-08-29T16:26:01.806Z"
   },
   {
    "duration": 66,
    "start_time": "2023-08-29T16:26:14.203Z"
   },
   {
    "duration": 77,
    "start_time": "2023-08-29T16:26:30.802Z"
   },
   {
    "duration": 112,
    "start_time": "2023-08-29T16:26:56.045Z"
   },
   {
    "duration": 113,
    "start_time": "2023-08-29T16:27:13.505Z"
   },
   {
    "duration": 76,
    "start_time": "2023-08-29T16:27:19.471Z"
   },
   {
    "duration": 75,
    "start_time": "2023-08-29T16:29:21.757Z"
   },
   {
    "duration": 119,
    "start_time": "2023-08-29T16:29:27.232Z"
   },
   {
    "duration": 64,
    "start_time": "2023-08-29T16:29:32.916Z"
   },
   {
    "duration": 71,
    "start_time": "2023-08-29T16:30:35.594Z"
   },
   {
    "duration": 67,
    "start_time": "2023-08-29T16:50:25.897Z"
   },
   {
    "duration": 4,
    "start_time": "2023-08-29T16:50:31.024Z"
   },
   {
    "duration": 1380,
    "start_time": "2023-08-29T16:50:41.853Z"
   },
   {
    "duration": 9,
    "start_time": "2023-08-29T16:51:32.906Z"
   },
   {
    "duration": 75,
    "start_time": "2023-08-29T16:51:55.057Z"
   },
   {
    "duration": 19,
    "start_time": "2023-08-29T16:51:55.150Z"
   },
   {
    "duration": 17,
    "start_time": "2023-08-29T16:53:16.162Z"
   },
   {
    "duration": 20,
    "start_time": "2023-08-29T16:53:30.509Z"
   },
   {
    "duration": 23,
    "start_time": "2023-08-29T16:55:22.369Z"
   },
   {
    "duration": 800,
    "start_time": "2023-08-29T16:59:46.052Z"
   },
   {
    "duration": 1223,
    "start_time": "2023-09-04T19:53:55.919Z"
   },
   {
    "duration": 134,
    "start_time": "2023-09-04T19:53:57.146Z"
   },
   {
    "duration": 22,
    "start_time": "2023-09-04T19:53:57.281Z"
   },
   {
    "duration": 13,
    "start_time": "2023-09-04T19:53:57.305Z"
   },
   {
    "duration": 5,
    "start_time": "2023-09-04T19:53:57.321Z"
   },
   {
    "duration": 9,
    "start_time": "2023-09-04T19:54:11.548Z"
   },
   {
    "duration": 157,
    "start_time": "2023-09-04T19:54:11.560Z"
   },
   {
    "duration": 19,
    "start_time": "2023-09-04T19:54:11.719Z"
   },
   {
    "duration": 13,
    "start_time": "2023-09-04T19:54:11.740Z"
   },
   {
    "duration": 20,
    "start_time": "2023-09-04T19:54:11.754Z"
   },
   {
    "duration": 17,
    "start_time": "2023-09-04T19:54:46.583Z"
   },
   {
    "duration": 8,
    "start_time": "2023-09-04T19:54:53.828Z"
   },
   {
    "duration": 26,
    "start_time": "2023-09-04T19:55:58.124Z"
   },
   {
    "duration": 6,
    "start_time": "2023-09-04T19:56:01.986Z"
   },
   {
    "duration": 171,
    "start_time": "2023-09-04T19:56:01.994Z"
   },
   {
    "duration": 42,
    "start_time": "2023-09-04T19:56:02.167Z"
   },
   {
    "duration": 19,
    "start_time": "2023-09-04T19:56:02.213Z"
   },
   {
    "duration": 56,
    "start_time": "2023-09-04T19:56:02.235Z"
   },
   {
    "duration": 16,
    "start_time": "2023-09-04T19:56:26.402Z"
   },
   {
    "duration": 20,
    "start_time": "2023-09-04T19:56:37.002Z"
   },
   {
    "duration": 59,
    "start_time": "2023-09-04T19:58:03.980Z"
   },
   {
    "duration": 19,
    "start_time": "2023-09-04T19:58:42.921Z"
   },
   {
    "duration": 22,
    "start_time": "2023-09-04T19:58:52.989Z"
   },
   {
    "duration": 19,
    "start_time": "2023-09-04T19:59:37.658Z"
   },
   {
    "duration": 15,
    "start_time": "2023-09-04T20:00:14.600Z"
   },
   {
    "duration": 4,
    "start_time": "2023-09-04T20:16:28.715Z"
   },
   {
    "duration": 94,
    "start_time": "2023-09-04T20:16:28.722Z"
   },
   {
    "duration": 21,
    "start_time": "2023-09-04T20:16:28.817Z"
   },
   {
    "duration": 99,
    "start_time": "2023-09-04T20:16:28.839Z"
   },
   {
    "duration": 0,
    "start_time": "2023-09-04T20:16:28.939Z"
   },
   {
    "duration": 0,
    "start_time": "2023-09-04T20:16:28.941Z"
   },
   {
    "duration": 117,
    "start_time": "2023-09-04T20:16:46.284Z"
   },
   {
    "duration": 19,
    "start_time": "2023-09-04T20:16:54.090Z"
   },
   {
    "duration": 4,
    "start_time": "2023-09-04T20:16:59.099Z"
   },
   {
    "duration": 90,
    "start_time": "2023-09-04T20:16:59.105Z"
   },
   {
    "duration": 20,
    "start_time": "2023-09-04T20:16:59.197Z"
   },
   {
    "duration": 13,
    "start_time": "2023-09-04T20:16:59.219Z"
   },
   {
    "duration": 21,
    "start_time": "2023-09-04T20:16:59.235Z"
   },
   {
    "duration": 33,
    "start_time": "2023-09-04T20:16:59.258Z"
   },
   {
    "duration": 34,
    "start_time": "2023-09-04T20:18:52.280Z"
   },
   {
    "duration": 18,
    "start_time": "2023-09-04T20:18:56.872Z"
   },
   {
    "duration": 5,
    "start_time": "2023-09-04T20:19:02.696Z"
   },
   {
    "duration": 92,
    "start_time": "2023-09-04T20:19:02.704Z"
   },
   {
    "duration": 19,
    "start_time": "2023-09-04T20:19:02.798Z"
   },
   {
    "duration": 13,
    "start_time": "2023-09-04T20:19:02.818Z"
   },
   {
    "duration": 52,
    "start_time": "2023-09-04T20:19:02.833Z"
   },
   {
    "duration": 34,
    "start_time": "2023-09-04T20:19:02.887Z"
   },
   {
    "duration": 90,
    "start_time": "2023-09-04T20:19:30.822Z"
   },
   {
    "duration": 4,
    "start_time": "2023-09-04T20:19:35.166Z"
   },
   {
    "duration": 117,
    "start_time": "2023-09-04T20:19:35.172Z"
   },
   {
    "duration": 24,
    "start_time": "2023-09-04T20:19:35.291Z"
   },
   {
    "duration": 21,
    "start_time": "2023-09-04T20:19:35.317Z"
   },
   {
    "duration": 28,
    "start_time": "2023-09-04T20:19:35.341Z"
   },
   {
    "duration": 60,
    "start_time": "2023-09-04T20:19:35.372Z"
   },
   {
    "duration": 30,
    "start_time": "2023-09-04T20:20:17.218Z"
   },
   {
    "duration": 34,
    "start_time": "2023-09-04T20:20:25.274Z"
   },
   {
    "duration": 84,
    "start_time": "2023-09-04T20:23:09.232Z"
   },
   {
    "duration": 37,
    "start_time": "2023-09-04T20:23:20.375Z"
   },
   {
    "duration": 55,
    "start_time": "2023-09-04T20:23:29.157Z"
   },
   {
    "duration": 34,
    "start_time": "2023-09-04T20:23:40.681Z"
   },
   {
    "duration": 127,
    "start_time": "2023-09-04T20:23:58.383Z"
   },
   {
    "duration": 139,
    "start_time": "2023-09-04T20:24:12.283Z"
   },
   {
    "duration": 100,
    "start_time": "2023-09-04T20:24:15.712Z"
   },
   {
    "duration": 61,
    "start_time": "2023-09-04T20:24:22.647Z"
   },
   {
    "duration": 46,
    "start_time": "2023-09-04T20:24:39.971Z"
   },
   {
    "duration": 14,
    "start_time": "2023-09-04T21:17:59.665Z"
   },
   {
    "duration": 4,
    "start_time": "2023-09-04T21:18:48.176Z"
   },
   {
    "duration": 123,
    "start_time": "2023-09-04T21:18:48.182Z"
   },
   {
    "duration": 44,
    "start_time": "2023-09-04T21:18:48.307Z"
   },
   {
    "duration": 18,
    "start_time": "2023-09-04T21:18:48.353Z"
   },
   {
    "duration": 45,
    "start_time": "2023-09-04T21:18:48.373Z"
   },
   {
    "duration": 32,
    "start_time": "2023-09-04T21:18:48.420Z"
   },
   {
    "duration": 65,
    "start_time": "2023-09-04T21:18:48.454Z"
   },
   {
    "duration": 361,
    "start_time": "2023-09-04T21:22:57.450Z"
   },
   {
    "duration": 49,
    "start_time": "2023-09-04T21:23:13.762Z"
   },
   {
    "duration": 4,
    "start_time": "2023-09-04T21:23:16.934Z"
   },
   {
    "duration": 102,
    "start_time": "2023-09-04T21:23:16.940Z"
   },
   {
    "duration": 19,
    "start_time": "2023-09-04T21:23:17.044Z"
   },
   {
    "duration": 11,
    "start_time": "2023-09-04T21:23:17.065Z"
   },
   {
    "duration": 41,
    "start_time": "2023-09-04T21:23:17.078Z"
   },
   {
    "duration": 18,
    "start_time": "2023-09-04T21:23:17.121Z"
   },
   {
    "duration": 173,
    "start_time": "2023-09-04T21:23:17.141Z"
   },
   {
    "duration": 4,
    "start_time": "2023-09-04T21:23:36.161Z"
   },
   {
    "duration": 84,
    "start_time": "2023-09-04T21:23:36.167Z"
   },
   {
    "duration": 22,
    "start_time": "2023-09-04T21:23:36.254Z"
   },
   {
    "duration": 33,
    "start_time": "2023-09-04T21:23:36.277Z"
   },
   {
    "duration": 22,
    "start_time": "2023-09-04T21:23:36.312Z"
   },
   {
    "duration": 18,
    "start_time": "2023-09-04T21:23:36.335Z"
   },
   {
    "duration": 555,
    "start_time": "2023-09-04T21:23:36.355Z"
   },
   {
    "duration": 4,
    "start_time": "2023-09-04T21:23:42.934Z"
   },
   {
    "duration": 91,
    "start_time": "2023-09-04T21:23:42.940Z"
   },
   {
    "duration": 18,
    "start_time": "2023-09-04T21:23:43.033Z"
   },
   {
    "duration": 13,
    "start_time": "2023-09-04T21:23:43.052Z"
   },
   {
    "duration": 42,
    "start_time": "2023-09-04T21:23:43.067Z"
   },
   {
    "duration": 19,
    "start_time": "2023-09-04T21:23:43.111Z"
   },
   {
    "duration": 1178,
    "start_time": "2023-09-04T21:23:43.132Z"
   },
   {
    "duration": 4,
    "start_time": "2023-09-04T21:25:03.482Z"
   },
   {
    "duration": 124,
    "start_time": "2023-09-04T21:25:03.489Z"
   },
   {
    "duration": 20,
    "start_time": "2023-09-04T21:25:03.614Z"
   },
   {
    "duration": 36,
    "start_time": "2023-09-04T21:25:03.635Z"
   },
   {
    "duration": 67,
    "start_time": "2023-09-04T21:25:03.673Z"
   },
   {
    "duration": 33,
    "start_time": "2023-09-04T21:25:03.742Z"
   },
   {
    "duration": 936,
    "start_time": "2023-09-04T21:25:03.776Z"
   },
   {
    "duration": 309,
    "start_time": "2023-09-04T21:32:18.526Z"
   },
   {
    "duration": 631,
    "start_time": "2023-09-04T21:33:23.071Z"
   },
   {
    "duration": 651,
    "start_time": "2023-09-04T21:34:27.423Z"
   },
   {
    "duration": 666,
    "start_time": "2023-09-04T21:34:43.761Z"
   },
   {
    "duration": 648,
    "start_time": "2023-09-04T21:35:20.515Z"
   },
   {
    "duration": 649,
    "start_time": "2023-09-04T21:35:31.692Z"
   },
   {
    "duration": 396,
    "start_time": "2023-09-04T21:36:23.023Z"
   },
   {
    "duration": 510,
    "start_time": "2023-09-04T21:36:31.204Z"
   },
   {
    "duration": 634,
    "start_time": "2023-09-04T21:37:07.286Z"
   },
   {
    "duration": 16,
    "start_time": "2023-09-04T21:41:52.592Z"
   },
   {
    "duration": 6799,
    "start_time": "2023-09-04T21:42:08.823Z"
   },
   {
    "duration": 1385,
    "start_time": "2023-09-04T21:42:34.306Z"
   },
   {
    "duration": 735,
    "start_time": "2023-09-04T21:42:41.482Z"
   },
   {
    "duration": 6285,
    "start_time": "2023-09-04T21:42:46.182Z"
   },
   {
    "duration": 58387,
    "start_time": "2023-09-04T21:42:59.405Z"
   },
   {
    "duration": 1184,
    "start_time": "2023-09-04T21:48:42.999Z"
   },
   {
    "duration": 87,
    "start_time": "2023-09-04T21:48:44.185Z"
   },
   {
    "duration": 21,
    "start_time": "2023-09-04T21:48:44.273Z"
   },
   {
    "duration": 26,
    "start_time": "2023-09-04T21:48:44.297Z"
   },
   {
    "duration": 25,
    "start_time": "2023-09-04T21:48:44.324Z"
   },
   {
    "duration": 21,
    "start_time": "2023-09-04T21:48:44.351Z"
   },
   {
    "duration": 439,
    "start_time": "2023-09-04T21:48:44.374Z"
   },
   {
    "duration": 795,
    "start_time": "2023-09-04T21:48:44.816Z"
   },
   {
    "duration": 9118,
    "start_time": "2023-09-04T21:48:45.613Z"
   },
   {
    "duration": 9,
    "start_time": "2023-09-04T21:54:25.762Z"
   },
   {
    "duration": 8,
    "start_time": "2023-09-04T22:04:08.090Z"
   },
   {
    "duration": 10,
    "start_time": "2023-09-04T22:04:24.936Z"
   },
   {
    "duration": 141,
    "start_time": "2023-09-04T22:11:20.902Z"
   },
   {
    "duration": 8,
    "start_time": "2023-09-04T22:11:25.763Z"
   },
   {
    "duration": 118,
    "start_time": "2023-09-04T22:11:27.207Z"
   },
   {
    "duration": 2232,
    "start_time": "2023-09-04T22:11:52.023Z"
   },
   {
    "duration": 7862,
    "start_time": "2023-09-04T22:12:11.105Z"
   },
   {
    "duration": 7587,
    "start_time": "2023-09-04T22:12:45.400Z"
   },
   {
    "duration": 7889,
    "start_time": "2023-09-04T22:13:00.143Z"
   },
   {
    "duration": 12397,
    "start_time": "2023-09-04T22:13:16.684Z"
   },
   {
    "duration": 1283,
    "start_time": "2023-09-04T22:14:44.529Z"
   },
   {
    "duration": 100,
    "start_time": "2023-09-04T22:14:45.823Z"
   },
   {
    "duration": 24,
    "start_time": "2023-09-04T22:14:45.925Z"
   },
   {
    "duration": 14,
    "start_time": "2023-09-04T22:14:45.951Z"
   },
   {
    "duration": 53,
    "start_time": "2023-09-04T22:14:45.967Z"
   },
   {
    "duration": 31,
    "start_time": "2023-09-04T22:14:46.022Z"
   },
   {
    "duration": 2977,
    "start_time": "2023-09-04T22:14:46.055Z"
   },
   {
    "duration": 798,
    "start_time": "2023-09-04T22:14:49.037Z"
   },
   {
    "duration": 6550,
    "start_time": "2023-09-04T22:14:49.837Z"
   },
   {
    "duration": 7,
    "start_time": "2023-09-04T22:14:56.389Z"
   },
   {
    "duration": 12227,
    "start_time": "2023-09-04T22:14:56.398Z"
   },
   {
    "duration": 9893,
    "start_time": "2023-09-04T22:15:22.685Z"
   },
   {
    "duration": 9565,
    "start_time": "2023-09-04T22:15:55.099Z"
   },
   {
    "duration": 9583,
    "start_time": "2023-09-04T22:17:49.480Z"
   },
   {
    "duration": 9511,
    "start_time": "2023-09-04T22:18:11.527Z"
   },
   {
    "duration": 4,
    "start_time": "2023-09-04T22:18:27.537Z"
   },
   {
    "duration": 86,
    "start_time": "2023-09-04T22:18:27.543Z"
   },
   {
    "duration": 20,
    "start_time": "2023-09-04T22:18:27.631Z"
   },
   {
    "duration": 13,
    "start_time": "2023-09-04T22:18:27.654Z"
   },
   {
    "duration": 56,
    "start_time": "2023-09-04T22:18:27.670Z"
   },
   {
    "duration": 21,
    "start_time": "2023-09-04T22:18:27.728Z"
   },
   {
    "duration": 180,
    "start_time": "2023-09-04T22:18:27.751Z"
   },
   {
    "duration": 850,
    "start_time": "2023-09-04T22:18:28.009Z"
   },
   {
    "duration": 5590,
    "start_time": "2023-09-04T22:18:28.861Z"
   },
   {
    "duration": 11,
    "start_time": "2023-09-04T22:18:34.454Z"
   },
   {
    "duration": 10311,
    "start_time": "2023-09-04T22:18:34.467Z"
   },
   {
    "duration": 12026,
    "start_time": "2023-09-04T22:19:20.964Z"
   },
   {
    "duration": 11,
    "start_time": "2023-09-04T22:24:35.135Z"
   },
   {
    "duration": 327,
    "start_time": "2023-09-04T22:27:29.358Z"
   },
   {
    "duration": 360,
    "start_time": "2023-09-04T22:27:54.288Z"
   },
   {
    "duration": 289,
    "start_time": "2023-09-04T22:28:00.256Z"
   },
   {
    "duration": 407,
    "start_time": "2023-09-04T22:28:06.334Z"
   },
   {
    "duration": 499,
    "start_time": "2023-09-04T22:28:11.040Z"
   },
   {
    "duration": 433,
    "start_time": "2023-09-04T22:28:15.550Z"
   },
   {
    "duration": 378,
    "start_time": "2023-09-04T22:28:21.500Z"
   },
   {
    "duration": 339,
    "start_time": "2023-09-04T22:28:27.209Z"
   },
   {
    "duration": 442,
    "start_time": "2023-09-04T22:28:32.601Z"
   },
   {
    "duration": 418,
    "start_time": "2023-09-04T22:28:36.896Z"
   },
   {
    "duration": 395,
    "start_time": "2023-09-04T22:28:41.489Z"
   },
   {
    "duration": 343,
    "start_time": "2023-09-04T22:28:47.470Z"
   },
   {
    "duration": 352,
    "start_time": "2023-09-04T22:30:40.785Z"
   },
   {
    "duration": 10,
    "start_time": "2023-09-04T22:34:15.585Z"
   },
   {
    "duration": 13,
    "start_time": "2023-09-04T22:34:29.945Z"
   },
   {
    "duration": 6197,
    "start_time": "2023-09-04T22:35:59.126Z"
   },
   {
    "duration": 9414,
    "start_time": "2023-09-04T22:36:27.427Z"
   },
   {
    "duration": 104,
    "start_time": "2023-09-04T22:36:53.189Z"
   },
   {
    "duration": 4961,
    "start_time": "2023-09-04T22:36:59.302Z"
   },
   {
    "duration": 1633,
    "start_time": "2023-09-04T22:37:36.895Z"
   },
   {
    "duration": 130,
    "start_time": "2023-09-04T22:37:38.531Z"
   },
   {
    "duration": 45,
    "start_time": "2023-09-04T22:37:38.664Z"
   },
   {
    "duration": 22,
    "start_time": "2023-09-04T22:37:38.713Z"
   },
   {
    "duration": 37,
    "start_time": "2023-09-04T22:37:38.738Z"
   },
   {
    "duration": 45,
    "start_time": "2023-09-04T22:37:38.784Z"
   },
   {
    "duration": 2186,
    "start_time": "2023-09-04T22:37:38.832Z"
   },
   {
    "duration": 828,
    "start_time": "2023-09-04T22:37:41.023Z"
   },
   {
    "duration": 6431,
    "start_time": "2023-09-04T22:37:41.853Z"
   },
   {
    "duration": 10,
    "start_time": "2023-09-04T22:37:48.288Z"
   },
   {
    "duration": 11607,
    "start_time": "2023-09-04T22:37:48.310Z"
   },
   {
    "duration": 15,
    "start_time": "2023-09-04T22:37:59.920Z"
   },
   {
    "duration": 432,
    "start_time": "2023-09-04T22:37:59.938Z"
   },
   {
    "duration": 12,
    "start_time": "2023-09-04T22:38:00.372Z"
   },
   {
    "duration": 83,
    "start_time": "2023-09-04T22:40:09.797Z"
   },
   {
    "duration": 5,
    "start_time": "2023-09-04T22:40:49.701Z"
   },
   {
    "duration": 89,
    "start_time": "2023-09-04T22:40:49.709Z"
   },
   {
    "duration": 22,
    "start_time": "2023-09-04T22:40:49.800Z"
   },
   {
    "duration": 19,
    "start_time": "2023-09-04T22:40:49.824Z"
   },
   {
    "duration": 28,
    "start_time": "2023-09-04T22:40:49.847Z"
   },
   {
    "duration": 49,
    "start_time": "2023-09-04T22:40:49.877Z"
   },
   {
    "duration": 2294,
    "start_time": "2023-09-04T22:40:49.928Z"
   },
   {
    "duration": 919,
    "start_time": "2023-09-04T22:40:52.227Z"
   },
   {
    "duration": 5397,
    "start_time": "2023-09-04T22:40:53.149Z"
   },
   {
    "duration": 8,
    "start_time": "2023-09-04T22:40:58.548Z"
   },
   {
    "duration": 9913,
    "start_time": "2023-09-04T22:40:58.559Z"
   },
   {
    "duration": 9,
    "start_time": "2023-09-04T22:41:08.474Z"
   },
   {
    "duration": 399,
    "start_time": "2023-09-04T22:41:08.485Z"
   },
   {
    "duration": 83,
    "start_time": "2023-09-04T22:41:08.888Z"
   },
   {
    "duration": 792,
    "start_time": "2023-09-04T22:41:43.120Z"
   },
   {
    "duration": 557,
    "start_time": "2023-09-04T22:42:06.603Z"
   },
   {
    "duration": 534,
    "start_time": "2023-09-04T22:43:01.381Z"
   },
   {
    "duration": 39,
    "start_time": "2023-09-04T22:45:00.708Z"
   },
   {
    "duration": 568,
    "start_time": "2023-09-04T22:45:58.579Z"
   },
   {
    "duration": 508,
    "start_time": "2023-09-04T22:46:03.053Z"
   },
   {
    "duration": 492,
    "start_time": "2023-09-04T22:46:06.111Z"
   },
   {
    "duration": 829,
    "start_time": "2023-09-04T22:46:11.090Z"
   },
   {
    "duration": 506,
    "start_time": "2023-09-04T22:46:17.803Z"
   },
   {
    "duration": 40,
    "start_time": "2023-09-04T22:52:37.866Z"
   },
   {
    "duration": 6,
    "start_time": "2023-09-04T22:52:43.538Z"
   },
   {
    "duration": 82,
    "start_time": "2023-09-04T22:52:43.549Z"
   },
   {
    "duration": 22,
    "start_time": "2023-09-04T22:52:43.633Z"
   },
   {
    "duration": 22,
    "start_time": "2023-09-04T22:52:43.658Z"
   },
   {
    "duration": 54,
    "start_time": "2023-09-04T22:52:43.683Z"
   },
   {
    "duration": 27,
    "start_time": "2023-09-04T22:52:43.739Z"
   },
   {
    "duration": 3941,
    "start_time": "2023-09-04T22:52:43.769Z"
   },
   {
    "duration": 1434,
    "start_time": "2023-09-04T22:52:47.713Z"
   },
   {
    "duration": 5528,
    "start_time": "2023-09-04T22:52:49.149Z"
   },
   {
    "duration": 8,
    "start_time": "2023-09-04T22:52:54.679Z"
   },
   {
    "duration": 9251,
    "start_time": "2023-09-04T22:52:54.689Z"
   },
   {
    "duration": 9,
    "start_time": "2023-09-04T22:53:03.942Z"
   },
   {
    "duration": 315,
    "start_time": "2023-09-04T22:53:03.952Z"
   },
   {
    "duration": 456,
    "start_time": "2023-09-04T22:53:04.270Z"
   },
   {
    "duration": 9,
    "start_time": "2023-09-04T23:19:53.243Z"
   },
   {
    "duration": 1221,
    "start_time": "2023-09-04T23:21:10.516Z"
   },
   {
    "duration": 128,
    "start_time": "2023-09-04T23:21:11.740Z"
   },
   {
    "duration": 39,
    "start_time": "2023-09-04T23:21:11.870Z"
   },
   {
    "duration": 16,
    "start_time": "2023-09-04T23:21:11.912Z"
   },
   {
    "duration": 32,
    "start_time": "2023-09-04T23:21:11.930Z"
   },
   {
    "duration": 61,
    "start_time": "2023-09-04T23:21:11.964Z"
   },
   {
    "duration": 8,
    "start_time": "2023-09-04T23:21:12.026Z"
   },
   {
    "duration": 282,
    "start_time": "2023-09-04T23:21:12.036Z"
   },
   {
    "duration": 860,
    "start_time": "2023-09-04T23:21:12.321Z"
   },
   {
    "duration": 5154,
    "start_time": "2023-09-04T23:21:13.184Z"
   },
   {
    "duration": 7,
    "start_time": "2023-09-04T23:21:18.340Z"
   },
   {
    "duration": 9340,
    "start_time": "2023-09-04T23:21:18.349Z"
   },
   {
    "duration": 18,
    "start_time": "2023-09-04T23:21:27.691Z"
   },
   {
    "duration": 320,
    "start_time": "2023-09-04T23:21:27.711Z"
   },
   {
    "duration": 480,
    "start_time": "2023-09-04T23:21:28.032Z"
   },
   {
    "duration": 1268,
    "start_time": "2023-09-04T23:21:48.702Z"
   },
   {
    "duration": 99,
    "start_time": "2023-09-04T23:21:49.972Z"
   },
   {
    "duration": 37,
    "start_time": "2023-09-04T23:21:50.073Z"
   },
   {
    "duration": 16,
    "start_time": "2023-09-04T23:21:50.113Z"
   },
   {
    "duration": 29,
    "start_time": "2023-09-04T23:21:50.131Z"
   },
   {
    "duration": 67,
    "start_time": "2023-09-04T23:21:50.163Z"
   },
   {
    "duration": 10,
    "start_time": "2023-09-04T23:21:50.232Z"
   },
   {
    "duration": 575,
    "start_time": "2023-09-04T23:21:50.245Z"
   },
   {
    "duration": 834,
    "start_time": "2023-09-04T23:21:50.824Z"
   },
   {
    "duration": 5440,
    "start_time": "2023-09-04T23:21:51.661Z"
   },
   {
    "duration": 12,
    "start_time": "2023-09-04T23:21:57.103Z"
   },
   {
    "duration": 9681,
    "start_time": "2023-09-04T23:21:57.116Z"
   },
   {
    "duration": 15,
    "start_time": "2023-09-04T23:22:06.799Z"
   },
   {
    "duration": 309,
    "start_time": "2023-09-04T23:22:06.816Z"
   },
   {
    "duration": 472,
    "start_time": "2023-09-04T23:22:07.127Z"
   },
   {
    "duration": 77,
    "start_time": "2023-09-05T08:26:42.077Z"
   },
   {
    "duration": 1403,
    "start_time": "2023-09-05T08:26:51.911Z"
   },
   {
    "duration": 186,
    "start_time": "2023-09-05T08:26:53.317Z"
   },
   {
    "duration": 32,
    "start_time": "2023-09-05T08:26:53.506Z"
   },
   {
    "duration": 17,
    "start_time": "2023-09-05T08:26:53.541Z"
   },
   {
    "duration": 46,
    "start_time": "2023-09-05T08:26:53.559Z"
   },
   {
    "duration": 41,
    "start_time": "2023-09-05T08:26:53.610Z"
   },
   {
    "duration": 7,
    "start_time": "2023-09-05T08:26:53.653Z"
   },
   {
    "duration": 1234,
    "start_time": "2023-09-05T08:26:53.662Z"
   },
   {
    "duration": 892,
    "start_time": "2023-09-05T08:26:54.898Z"
   },
   {
    "duration": 5715,
    "start_time": "2023-09-05T08:26:55.797Z"
   },
   {
    "duration": 11,
    "start_time": "2023-09-05T08:27:01.514Z"
   },
   {
    "duration": 10479,
    "start_time": "2023-09-05T08:27:01.527Z"
   },
   {
    "duration": 13,
    "start_time": "2023-09-05T08:27:12.008Z"
   },
   {
    "duration": 368,
    "start_time": "2023-09-05T08:27:12.023Z"
   },
   {
    "duration": 514,
    "start_time": "2023-09-05T08:27:12.398Z"
   },
   {
    "duration": 10494,
    "start_time": "2023-09-05T08:27:31.848Z"
   },
   {
    "duration": 611,
    "start_time": "2023-09-05T08:30:16.460Z"
   },
   {
    "duration": 988,
    "start_time": "2023-09-05T08:30:32.104Z"
   },
   {
    "duration": 684,
    "start_time": "2023-09-05T08:30:39.157Z"
   },
   {
    "duration": 343,
    "start_time": "2023-09-05T08:30:49.310Z"
   },
   {
    "duration": 417,
    "start_time": "2023-09-05T08:30:52.489Z"
   },
   {
    "duration": 712,
    "start_time": "2023-09-05T08:32:09.605Z"
   },
   {
    "duration": 699,
    "start_time": "2023-09-05T08:32:43.465Z"
   },
   {
    "duration": 11839,
    "start_time": "2023-09-05T08:34:10.432Z"
   },
   {
    "duration": 11860,
    "start_time": "2023-09-05T08:34:23.614Z"
   },
   {
    "duration": 647,
    "start_time": "2023-09-05T08:35:18.149Z"
   },
   {
    "duration": 814,
    "start_time": "2023-09-05T08:35:23.871Z"
   },
   {
    "duration": 4,
    "start_time": "2023-09-05T08:50:26.753Z"
   },
   {
    "duration": 1511,
    "start_time": "2023-09-05T08:51:44.206Z"
   },
   {
    "duration": 103,
    "start_time": "2023-09-05T08:51:45.720Z"
   },
   {
    "duration": 32,
    "start_time": "2023-09-05T08:51:45.825Z"
   },
   {
    "duration": 43,
    "start_time": "2023-09-05T08:51:45.859Z"
   },
   {
    "duration": 50,
    "start_time": "2023-09-05T08:51:45.904Z"
   },
   {
    "duration": 40,
    "start_time": "2023-09-05T08:51:45.956Z"
   },
   {
    "duration": 27,
    "start_time": "2023-09-05T08:51:45.999Z"
   },
   {
    "duration": 697,
    "start_time": "2023-09-05T08:51:46.029Z"
   },
   {
    "duration": 945,
    "start_time": "2023-09-05T08:51:46.781Z"
   },
   {
    "duration": 5980,
    "start_time": "2023-09-05T08:51:47.729Z"
   },
   {
    "duration": 11,
    "start_time": "2023-09-05T08:51:53.712Z"
   },
   {
    "duration": 11284,
    "start_time": "2023-09-05T08:51:53.725Z"
   },
   {
    "duration": 5,
    "start_time": "2023-09-05T08:52:05.012Z"
   },
   {
    "duration": 73,
    "start_time": "2023-09-05T08:52:05.020Z"
   },
   {
    "duration": 407,
    "start_time": "2023-09-05T08:52:05.097Z"
   },
   {
    "duration": 627,
    "start_time": "2023-09-05T08:52:05.506Z"
   },
   {
    "duration": 50,
    "start_time": "2023-10-09T18:41:38.669Z"
   },
   {
    "duration": 1303,
    "start_time": "2023-10-09T18:41:44.429Z"
   },
   {
    "duration": 174,
    "start_time": "2023-10-09T18:41:45.733Z"
   },
   {
    "duration": 20,
    "start_time": "2023-10-09T18:41:45.909Z"
   },
   {
    "duration": 33,
    "start_time": "2023-10-09T18:41:45.931Z"
   },
   {
    "duration": 44,
    "start_time": "2023-10-09T18:41:45.967Z"
   },
   {
    "duration": 36,
    "start_time": "2023-10-09T18:41:46.013Z"
   },
   {
    "duration": 10,
    "start_time": "2023-10-09T18:41:46.051Z"
   },
   {
    "duration": 796,
    "start_time": "2023-10-09T18:41:46.062Z"
   },
   {
    "duration": 1922,
    "start_time": "2023-10-09T18:41:46.862Z"
   },
   {
    "duration": 5526,
    "start_time": "2023-10-09T18:41:48.787Z"
   },
   {
    "duration": 10,
    "start_time": "2023-10-09T18:41:54.316Z"
   },
   {
    "duration": 8959,
    "start_time": "2023-10-09T18:41:54.328Z"
   },
   {
    "duration": 3,
    "start_time": "2023-10-09T18:42:03.289Z"
   },
   {
    "duration": 45,
    "start_time": "2023-10-09T18:42:03.295Z"
   },
   {
    "duration": 321,
    "start_time": "2023-10-09T18:42:03.342Z"
   },
   {
    "duration": 464,
    "start_time": "2023-10-09T18:42:03.665Z"
   }
  ],
  "kernelspec": {
   "display_name": "Python 3 (ipykernel)",
   "language": "python",
   "name": "python3"
  },
  "language_info": {
   "codemirror_mode": {
    "name": "ipython",
    "version": 3
   },
   "file_extension": ".py",
   "mimetype": "text/x-python",
   "name": "python",
   "nbconvert_exporter": "python",
   "pygments_lexer": "ipython3",
   "version": "3.9.5"
  },
  "toc": {
   "base_numbering": 1,
   "nav_menu": {},
   "number_sections": true,
   "sideBar": true,
   "skip_h1_title": true,
   "title_cell": "Содержание",
   "title_sidebar": "Contents",
   "toc_cell": true,
   "toc_position": {
    "height": "calc(100% - 180px)",
    "left": "10px",
    "top": "150px",
    "width": "362.797px"
   },
   "toc_section_display": true,
   "toc_window_display": true
  }
 },
 "nbformat": 4,
 "nbformat_minor": 2
}
