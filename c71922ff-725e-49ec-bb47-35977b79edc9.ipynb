{
 "cells": [
  {
   "cell_type": "markdown",
   "metadata": {},
   "source": [
    "# Определение стоимости автомобилей"
   ]
  },
  {
   "cell_type": "markdown",
   "metadata": {},
   "source": [
    "<div class=\"alert alert-info\">\n",
    "<font size=\"5\"><b>Комментарий ревьюера</b></font>\n",
    "\n",
    "Привет Нияз! Меня зовут Марат, и я буду твоим ревьюером. Спешу сообщить что все ключевые этапы в работе выполнены,  с задачей тебе удалось справиться. По поводу обращения - в IT сфере принято общаться на «ты» :) Но, если привычней на «вы», дай знать. Как ревьюера моя задача помочь тебе в развитии, дав хорошие советы. Я внимательно посмотрю твой код, ознакомлюсь с твоими выводами и оставлю комментарии. Где то могу предложить небольшие исправление в коде, но ненавязчиво. Где потребуются уточнения, я оставлю много наводящих вопросов. Они помогут тебя с поиском верного решения.\n",
    "\n",
    "Все мои комментарии размечены по цветам, для лучшего восприятия. \n",
    "    \n",
    "<div class=\"alert alert-success\">Зеленым цветом и словом «Успех» отмечены особо удачные и элегантные решения, которыми ты можешь гордиться. </div>\n",
    "        \n",
    "<div class=\"alert alert-warning\">Желтым и значком словом «Совет», помечены решения у которых есть альтернативные решения, более оптимальные. Ты можешь найти их сразу и доработать проект, или отложить это на потом, для будущих проектах. Проект будет принят и без их доработки. </div>\n",
    "        \n",
    "<div class=\"alert alert-danger\"> Красным цветом и значком словом «Ошибка» помечу твои решения, на которые стоит обратить внимание прежде всего. После их доработки проект будет принят. </div>\n",
    "        \n",
    "Залог успеха - работа сообща, взаимное уважение и работа в диалоге. Поэтому, помечай свои ответные комментарии на мои реплики заметным цветом или курсивом, так мне будет легче их отслеживать. Пожалуйста, не изменяй и не удаляй мои комментарии. Все это поможет выполнить повторную проверку быстрей.\n",
    "\n",
    "</div>"
   ]
  },
  {
   "cell_type": "markdown",
   "metadata": {},
   "source": [
    "Сервис по продаже автомобилей с пробегом «Не бит, не крашен» разрабатывает приложение для привлечения новых клиентов. В нём можно быстро узнать рыночную стоимость своего автомобиля. В вашем распоряжении исторические данные: технические характеристики, комплектации и цены автомобилей. Вам нужно построить модель для определения стоимости. \n",
    "\n",
    "Заказчику важны:\n",
    "\n",
    "- качество предсказания;\n",
    "- скорость предсказания;\n",
    "- время обучения."
   ]
  },
  {
   "cell_type": "markdown",
   "metadata": {},
   "source": [
    "# Основные шаги:\n",
    "\n",
    "1) Загрузите данные, путь к файлу: /datasets/autos.csv.\n",
    "\n",
    "2) Изучите данные. Заполните пропущенные значения и обработайте аномалии в столбцах. Если среди признаков имеются неинформативные, удалите их.\n",
    "\n",
    "3) Подготовьте выборки для обучения моделей.\n",
    "\n",
    "4) Обучите разные модели, одна из которых — LightGBM, как минимум одна — не бустинг. Для каждой модели попробуйте разные гиперпараметры.\n",
    "\n",
    "5) Проанализируйте время обучения, время предсказания и качество моделей.\n",
    "\n",
    "6) Опираясь на критерии заказчика, выберете лучшую модель, проверьте её качество на тестовой выборке."
   ]
  },
  {
   "cell_type": "markdown",
   "metadata": {},
   "source": [
    "## Подготовка данных"
   ]
  },
  {
   "cell_type": "markdown",
   "metadata": {},
   "source": [
    "### Импортируем библиотеки"
   ]
  },
  {
   "cell_type": "code",
   "execution_count": 1,
   "metadata": {},
   "outputs": [],
   "source": [
    "import pandas as pd\n",
    "import numpy as np\n",
    "from catboost import CatBoostRegressor, Pool\n",
    "from sklearn.model_selection import train_test_split\n",
    "from sklearn.metrics import mean_squared_error\n",
    "from sklearn.linear_model import LinearRegression\n",
    "from sklearn.ensemble import RandomForestRegressor\n",
    "from sklearn.model_selection import GridSearchCV\n",
    "import lightgbm as lgb\n",
    "import matplotlib.pyplot as plt\n",
    "import seaborn as sns\n",
    "from sklearn.impute import SimpleImputer\n",
    "from sklearn.preprocessing import StandardScaler\n",
    "from sklearn.preprocessing import OrdinalEncoder"
   ]
  },
  {
   "cell_type": "markdown",
   "metadata": {},
   "source": [
    "### Скачаем датасет и посмотрим на него"
   ]
  },
  {
   "cell_type": "code",
   "execution_count": 2,
   "metadata": {},
   "outputs": [],
   "source": [
    "df = pd.read_csv(\"/datasets/autos.csv\")"
   ]
  },
  {
   "cell_type": "markdown",
   "metadata": {},
   "source": [
    "    \n",
    "\n",
    "<div class=\"alert alert-warning\">\n",
    "<font size=\"5\"><b>Комментарий ревьюера</b></font>\n",
    "\n",
    "\n",
    "Совет 🤔:\n",
    "    \n",
    "    \n",
    "-  есть такой интересный аргумент при чтении как  parse_dates - позволяет указать какие столбцы в DataFrame содержат даты и время. Если у нас установлен верный тип данных, это значит что мы можем легко вытасиквать информацию о годе, месяце, дня, времени, можем вычитать, прибавлять из столбца с датами другой столбец с датами, получая осмысленную информацию\n",
    "    \n",
    "    \n",
    "\n",
    "\n",
    "    \n",
    "    \n",
    "\n"
   ]
  },
  {
   "cell_type": "code",
   "execution_count": 3,
   "metadata": {
    "scrolled": false
   },
   "outputs": [
    {
     "data": {
      "text/html": [
       "<div>\n",
       "<style scoped>\n",
       "    .dataframe tbody tr th:only-of-type {\n",
       "        vertical-align: middle;\n",
       "    }\n",
       "\n",
       "    .dataframe tbody tr th {\n",
       "        vertical-align: top;\n",
       "    }\n",
       "\n",
       "    .dataframe thead th {\n",
       "        text-align: right;\n",
       "    }\n",
       "</style>\n",
       "<table border=\"1\" class=\"dataframe\">\n",
       "  <thead>\n",
       "    <tr style=\"text-align: right;\">\n",
       "      <th></th>\n",
       "      <th>DateCrawled</th>\n",
       "      <th>Price</th>\n",
       "      <th>VehicleType</th>\n",
       "      <th>RegistrationYear</th>\n",
       "      <th>Gearbox</th>\n",
       "      <th>Power</th>\n",
       "      <th>Model</th>\n",
       "      <th>Kilometer</th>\n",
       "      <th>RegistrationMonth</th>\n",
       "      <th>FuelType</th>\n",
       "      <th>Brand</th>\n",
       "      <th>Repaired</th>\n",
       "      <th>DateCreated</th>\n",
       "      <th>NumberOfPictures</th>\n",
       "      <th>PostalCode</th>\n",
       "      <th>LastSeen</th>\n",
       "    </tr>\n",
       "  </thead>\n",
       "  <tbody>\n",
       "    <tr>\n",
       "      <th>0</th>\n",
       "      <td>2016-03-24 11:52:17</td>\n",
       "      <td>480</td>\n",
       "      <td>NaN</td>\n",
       "      <td>1993</td>\n",
       "      <td>manual</td>\n",
       "      <td>0</td>\n",
       "      <td>golf</td>\n",
       "      <td>150000</td>\n",
       "      <td>0</td>\n",
       "      <td>petrol</td>\n",
       "      <td>volkswagen</td>\n",
       "      <td>NaN</td>\n",
       "      <td>2016-03-24 00:00:00</td>\n",
       "      <td>0</td>\n",
       "      <td>70435</td>\n",
       "      <td>2016-04-07 03:16:57</td>\n",
       "    </tr>\n",
       "    <tr>\n",
       "      <th>1</th>\n",
       "      <td>2016-03-24 10:58:45</td>\n",
       "      <td>18300</td>\n",
       "      <td>coupe</td>\n",
       "      <td>2011</td>\n",
       "      <td>manual</td>\n",
       "      <td>190</td>\n",
       "      <td>NaN</td>\n",
       "      <td>125000</td>\n",
       "      <td>5</td>\n",
       "      <td>gasoline</td>\n",
       "      <td>audi</td>\n",
       "      <td>yes</td>\n",
       "      <td>2016-03-24 00:00:00</td>\n",
       "      <td>0</td>\n",
       "      <td>66954</td>\n",
       "      <td>2016-04-07 01:46:50</td>\n",
       "    </tr>\n",
       "    <tr>\n",
       "      <th>2</th>\n",
       "      <td>2016-03-14 12:52:21</td>\n",
       "      <td>9800</td>\n",
       "      <td>suv</td>\n",
       "      <td>2004</td>\n",
       "      <td>auto</td>\n",
       "      <td>163</td>\n",
       "      <td>grand</td>\n",
       "      <td>125000</td>\n",
       "      <td>8</td>\n",
       "      <td>gasoline</td>\n",
       "      <td>jeep</td>\n",
       "      <td>NaN</td>\n",
       "      <td>2016-03-14 00:00:00</td>\n",
       "      <td>0</td>\n",
       "      <td>90480</td>\n",
       "      <td>2016-04-05 12:47:46</td>\n",
       "    </tr>\n",
       "    <tr>\n",
       "      <th>3</th>\n",
       "      <td>2016-03-17 16:54:04</td>\n",
       "      <td>1500</td>\n",
       "      <td>small</td>\n",
       "      <td>2001</td>\n",
       "      <td>manual</td>\n",
       "      <td>75</td>\n",
       "      <td>golf</td>\n",
       "      <td>150000</td>\n",
       "      <td>6</td>\n",
       "      <td>petrol</td>\n",
       "      <td>volkswagen</td>\n",
       "      <td>no</td>\n",
       "      <td>2016-03-17 00:00:00</td>\n",
       "      <td>0</td>\n",
       "      <td>91074</td>\n",
       "      <td>2016-03-17 17:40:17</td>\n",
       "    </tr>\n",
       "    <tr>\n",
       "      <th>4</th>\n",
       "      <td>2016-03-31 17:25:20</td>\n",
       "      <td>3600</td>\n",
       "      <td>small</td>\n",
       "      <td>2008</td>\n",
       "      <td>manual</td>\n",
       "      <td>69</td>\n",
       "      <td>fabia</td>\n",
       "      <td>90000</td>\n",
       "      <td>7</td>\n",
       "      <td>gasoline</td>\n",
       "      <td>skoda</td>\n",
       "      <td>no</td>\n",
       "      <td>2016-03-31 00:00:00</td>\n",
       "      <td>0</td>\n",
       "      <td>60437</td>\n",
       "      <td>2016-04-06 10:17:21</td>\n",
       "    </tr>\n",
       "  </tbody>\n",
       "</table>\n",
       "</div>"
      ],
      "text/plain": [
       "           DateCrawled  Price VehicleType  RegistrationYear Gearbox  Power  \\\n",
       "0  2016-03-24 11:52:17    480         NaN              1993  manual      0   \n",
       "1  2016-03-24 10:58:45  18300       coupe              2011  manual    190   \n",
       "2  2016-03-14 12:52:21   9800         suv              2004    auto    163   \n",
       "3  2016-03-17 16:54:04   1500       small              2001  manual     75   \n",
       "4  2016-03-31 17:25:20   3600       small              2008  manual     69   \n",
       "\n",
       "   Model  Kilometer  RegistrationMonth  FuelType       Brand Repaired  \\\n",
       "0   golf     150000                  0    petrol  volkswagen      NaN   \n",
       "1    NaN     125000                  5  gasoline        audi      yes   \n",
       "2  grand     125000                  8  gasoline        jeep      NaN   \n",
       "3   golf     150000                  6    petrol  volkswagen       no   \n",
       "4  fabia      90000                  7  gasoline       skoda       no   \n",
       "\n",
       "           DateCreated  NumberOfPictures  PostalCode             LastSeen  \n",
       "0  2016-03-24 00:00:00                 0       70435  2016-04-07 03:16:57  \n",
       "1  2016-03-24 00:00:00                 0       66954  2016-04-07 01:46:50  \n",
       "2  2016-03-14 00:00:00                 0       90480  2016-04-05 12:47:46  \n",
       "3  2016-03-17 00:00:00                 0       91074  2016-03-17 17:40:17  \n",
       "4  2016-03-31 00:00:00                 0       60437  2016-04-06 10:17:21  "
      ]
     },
     "metadata": {},
     "output_type": "display_data"
    }
   ],
   "source": [
    "display(df.head())"
   ]
  },
  {
   "cell_type": "markdown",
   "metadata": {},
   "source": [
    "### Проверка на дубликаты"
   ]
  },
  {
   "cell_type": "code",
   "execution_count": 4,
   "metadata": {},
   "outputs": [
    {
     "name": "stdout",
     "output_type": "stream",
     "text": [
      "4\n"
     ]
    }
   ],
   "source": [
    "print(df.duplicated().sum())"
   ]
  },
  {
   "cell_type": "markdown",
   "metadata": {},
   "source": [
    "Удаляем"
   ]
  },
  {
   "cell_type": "code",
   "execution_count": 5,
   "metadata": {},
   "outputs": [
    {
     "name": "stdout",
     "output_type": "stream",
     "text": [
      "0\n"
     ]
    }
   ],
   "source": [
    "df = df.drop_duplicates().reset_index(drop=True)\n",
    "print(df.duplicated().sum())"
   ]
  },
  {
   "cell_type": "markdown",
   "metadata": {},
   "source": [
    "### Удалим неинформативные столбцы"
   ]
  },
  {
   "cell_type": "code",
   "execution_count": 6,
   "metadata": {},
   "outputs": [],
   "source": [
    "df = df.drop([\"DateCrawled\",\"DateCreated\",\"LastSeen\",\"NumberOfPictures\",\"PostalCode\"],axis = 1)"
   ]
  },
  {
   "cell_type": "markdown",
   "metadata": {},
   "source": [
    "Я решил удалить следующие столбцы по той причине, что они не несут никакой информации непосредственно о автомобиле. А так как мы хотим предсказать \"нетто\" стоимость машины, думаю эти столбцы нам не понадобятся."
   ]
  },
  {
   "cell_type": "markdown",
   "metadata": {},
   "source": [
    "<div class=\"alert alert-success\">\n",
    "<font size=\"5\"><b>Комментарий ревьюера</b></font>\n",
    "\n",
    "\n",
    "\n",
    "Успех 👍:\n",
    "\n",
    "\n",
    "Если данные не представляют интересы для модели то почему бы их и не убрать\n",
    "    \n",
    "\n",
    "    \n",
    "<div class=\"alert alert-warning\">\n",
    "\n",
    "\n",
    "\n",
    "Совет 🤔:    \n",
    "\n",
    "- по почтовому индексу можно определить страну где автомобиль скорее всего эксплуатировался. Это конечно потребует сбора информации, но возможно если мы более 8000 индексов превратим в конкретный перечень двух десятков стран, модель сможет на этом найти что то интересное, хотя это не точно )    \n",
    "\n",
    "    "
   ]
  },
  {
   "cell_type": "markdown",
   "metadata": {},
   "source": [
    "### Посмотрим на данные, найдём пропуски"
   ]
  },
  {
   "cell_type": "markdown",
   "metadata": {},
   "source": [
    "<div class=\"alert alert-danger\">\n",
    "<font size=\"5\"><b>Комментарий ревьюера</b></font>\n",
    "\n",
    "\n",
    "\n",
    "Ошибка ❌:\n",
    "\n",
    "\n",
    "\n",
    "\n",
    "\n",
    "для лучшего контроля лучше импортны собирать в одном месте"
   ]
  },
  {
   "cell_type": "markdown",
   "metadata": {},
   "source": [
    "<div class=\"alert alert-info\">\n",
    "<font size=\"5\"><b>Комментарий студента</b></font>\n",
    "\n",
    "Исправлено"
   ]
  },
  {
   "cell_type": "markdown",
   "metadata": {},
   "source": [
    "<div class=\"alert alert-success\">\n",
    "<font size=\"5\"><b>Комментарий ревьюераV2</b></font>\n",
    "\n",
    "\n",
    "\n",
    "Успех 👍:\n",
    "\n",
    "\n",
    "\n",
    "👍\n",
    "\n",
    "\n",
    "\n",
    "Привет Нияз\n"
   ]
  },
  {
   "cell_type": "code",
   "execution_count": 7,
   "metadata": {},
   "outputs": [
    {
     "data": {
      "text/html": [
       "<div>\n",
       "<style scoped>\n",
       "    .dataframe tbody tr th:only-of-type {\n",
       "        vertical-align: middle;\n",
       "    }\n",
       "\n",
       "    .dataframe tbody tr th {\n",
       "        vertical-align: top;\n",
       "    }\n",
       "\n",
       "    .dataframe thead th {\n",
       "        text-align: right;\n",
       "    }\n",
       "</style>\n",
       "<table border=\"1\" class=\"dataframe\">\n",
       "  <thead>\n",
       "    <tr style=\"text-align: right;\">\n",
       "      <th></th>\n",
       "      <th>Price</th>\n",
       "      <th>RegistrationYear</th>\n",
       "      <th>Power</th>\n",
       "      <th>Kilometer</th>\n",
       "      <th>RegistrationMonth</th>\n",
       "    </tr>\n",
       "  </thead>\n",
       "  <tbody>\n",
       "    <tr>\n",
       "      <th>count</th>\n",
       "      <td>354365.000000</td>\n",
       "      <td>354365.000000</td>\n",
       "      <td>354365.000000</td>\n",
       "      <td>354365.000000</td>\n",
       "      <td>354365.000000</td>\n",
       "    </tr>\n",
       "    <tr>\n",
       "      <th>mean</th>\n",
       "      <td>4416.679830</td>\n",
       "      <td>2004.234481</td>\n",
       "      <td>110.093816</td>\n",
       "      <td>128211.363989</td>\n",
       "      <td>5.714650</td>\n",
       "    </tr>\n",
       "    <tr>\n",
       "      <th>std</th>\n",
       "      <td>4514.176349</td>\n",
       "      <td>90.228466</td>\n",
       "      <td>189.851330</td>\n",
       "      <td>37905.083858</td>\n",
       "      <td>3.726432</td>\n",
       "    </tr>\n",
       "    <tr>\n",
       "      <th>min</th>\n",
       "      <td>0.000000</td>\n",
       "      <td>1000.000000</td>\n",
       "      <td>0.000000</td>\n",
       "      <td>5000.000000</td>\n",
       "      <td>0.000000</td>\n",
       "    </tr>\n",
       "    <tr>\n",
       "      <th>25%</th>\n",
       "      <td>1050.000000</td>\n",
       "      <td>1999.000000</td>\n",
       "      <td>69.000000</td>\n",
       "      <td>125000.000000</td>\n",
       "      <td>3.000000</td>\n",
       "    </tr>\n",
       "    <tr>\n",
       "      <th>50%</th>\n",
       "      <td>2700.000000</td>\n",
       "      <td>2003.000000</td>\n",
       "      <td>105.000000</td>\n",
       "      <td>150000.000000</td>\n",
       "      <td>6.000000</td>\n",
       "    </tr>\n",
       "    <tr>\n",
       "      <th>75%</th>\n",
       "      <td>6400.000000</td>\n",
       "      <td>2008.000000</td>\n",
       "      <td>143.000000</td>\n",
       "      <td>150000.000000</td>\n",
       "      <td>9.000000</td>\n",
       "    </tr>\n",
       "    <tr>\n",
       "      <th>max</th>\n",
       "      <td>20000.000000</td>\n",
       "      <td>9999.000000</td>\n",
       "      <td>20000.000000</td>\n",
       "      <td>150000.000000</td>\n",
       "      <td>12.000000</td>\n",
       "    </tr>\n",
       "  </tbody>\n",
       "</table>\n",
       "</div>"
      ],
      "text/plain": [
       "               Price  RegistrationYear          Power      Kilometer  \\\n",
       "count  354365.000000     354365.000000  354365.000000  354365.000000   \n",
       "mean     4416.679830       2004.234481     110.093816  128211.363989   \n",
       "std      4514.176349         90.228466     189.851330   37905.083858   \n",
       "min         0.000000       1000.000000       0.000000    5000.000000   \n",
       "25%      1050.000000       1999.000000      69.000000  125000.000000   \n",
       "50%      2700.000000       2003.000000     105.000000  150000.000000   \n",
       "75%      6400.000000       2008.000000     143.000000  150000.000000   \n",
       "max     20000.000000       9999.000000   20000.000000  150000.000000   \n",
       "\n",
       "       RegistrationMonth  \n",
       "count      354365.000000  \n",
       "mean            5.714650  \n",
       "std             3.726432  \n",
       "min             0.000000  \n",
       "25%             3.000000  \n",
       "50%             6.000000  \n",
       "75%             9.000000  \n",
       "max            12.000000  "
      ]
     },
     "metadata": {},
     "output_type": "display_data"
    }
   ],
   "source": [
    "display(df.describe())"
   ]
  },
  {
   "cell_type": "code",
   "execution_count": 8,
   "metadata": {
    "scrolled": false
   },
   "outputs": [
    {
     "data": {
      "image/png": "[encoded data removed]",
      "text/plain": [
       "<Figure size 576x864 with 2 Axes>"
      ]
     },
     "metadata": {
      "needs_background": "light"
     },
     "output_type": "display_data"
    },
    {
     "data": {
      "image/png": "[encoded data removed]",
      "text/plain": [
       "<Figure size 576x864 with 2 Axes>"
      ]
     },
     "metadata": {
      "needs_background": "light"
     },
     "output_type": "display_data"
    },
    {
     "data": {
      "image/png": "[encoded data removed]",
      "text/plain": [
       "<Figure size 576x864 with 2 Axes>"
      ]
     },
     "metadata": {
      "needs_background": "light"
     },
     "output_type": "display_data"
    },
    {
     "data": {
      "image/png": "[encoded data removed]",
      "text/plain": [
       "<Figure size 576x864 with 2 Axes>"
      ]
     },
     "metadata": {
      "needs_background": "light"
     },
     "output_type": "display_data"
    },
    {
     "data": {
      "image/png": "[encoded data removed]",
      "text/plain": [
       "<Figure size 576x864 with 2 Axes>"
      ]
     },
     "metadata": {
      "needs_background": "light"
     },
     "output_type": "display_data"
    }
   ],
   "source": [
    "digital = ['Price', 'RegistrationYear', 'Power', 'Kilometer', 'RegistrationMonth']\n",
    "for column in digital:\n",
    "    fig, axes = plt.subplots(2, 1, figsize=(8, 12))\n",
    "\n",
    "    sns.histplot(df[column], kde=True, ax=axes[0])\n",
    "    axes[0].set_title(f'Distribution of {column} (Histogram)')\n",
    "    axes[0].set_xlabel(column)\n",
    "    axes[0].set_ylabel('Frequency')\n",
    "\n",
    "    sns.boxplot(x=df[column], ax=axes[1])\n",
    "    axes[1].set_title(f'Distribution of {column} (Boxplot)')\n",
    "    axes[1].set_xlabel(column)\n",
    "    axes[1].set_ylabel('Values')\n",
    "\n",
    "    plt.tight_layout()\n",
    "    plt.show()"
   ]
  },
  {
   "cell_type": "markdown",
   "metadata": {},
   "source": [
    "Данные выглядят ну очень интересно. Необходимо разобраться с нулевой стоимостью авто, нулевой мощностью, годом, а так же пробегом в 150тыс. Также видем, что у нас 13 месяцев вместо 12."
   ]
  },
  {
   "cell_type": "markdown",
   "metadata": {},
   "source": [
    "<div class=\"alert alert-danger\">\n",
    "<font size=\"5\"><b>Комментарий ревьюера</b></font>\n",
    "\n",
    "\n",
    "\n",
    "Ошибка ❌:\n",
    "\n",
    "\n",
    "\n",
    "\n",
    "\n",
    "В выводу не хватает о том что месяцев 12 а не 13\n",
    "    \n",
    "    \n",
    "<div class=\"alert alert-warning\">\n",
    " \n",
    "\n",
    "Совет 🤔:\n",
    "\n",
    "\n",
    "\n",
    " \n",
    "\n",
    "- Можно было построить графики для категориальных    (pie, count)bm\n",
    "\n",
    "    \n",
    "    \n",
    "    \n",
    "- Кстати для числовых признаков лучше одновременно строить график типа hist и boxplot. Гистограмма - позволяет нам увидеть, как данные распределены.  Boxplot  помогает нам понять разброс данных и выявить аномалии. И  можно красиво разместить их с помощью subplots - в одном столбце строим гистограмму ждля признака, в другом boxplot.  И если ты это сделаешь, то конечно лучше сразу оформить в виде функции, чтобы можно было использовать в следующих проектах (в качестве аргументов подаём dataset и названия столбцов с количественными признаками)\n",
    "\n",
    "\n",
    "    "
   ]
  },
  {
   "cell_type": "markdown",
   "metadata": {},
   "source": [
    "<div class=\"alert alert-info\">\n",
    "<font size=\"5\"><b>Комментарий студента</b></font>\n",
    "\n",
    "Исправлено. Не знаю, как поступить с 0 месяцем."
   ]
  },
  {
   "cell_type": "markdown",
   "metadata": {},
   "source": [
    "<div class=\"alert alert-warning\">\n",
    "<font size=\"5\"><b>Комментарий ревьюераV2</b></font>\n",
    "\n",
    "\n",
    "\n",
    "Совет 🤔:\n",
    "\n",
    "\n",
    "\n",
    "Это сложный вопрос, тут  разные варианты,  но хотя хотя бы стоило обратить на эту некоректность внимание, это сделано\n"
   ]
  },
  {
   "cell_type": "code",
   "execution_count": 9,
   "metadata": {},
   "outputs": [
    {
     "name": "stdout",
     "output_type": "stream",
     "text": [
      "0        10772\n",
      "500       5670\n",
      "1500      5394\n",
      "1000      4648\n",
      "1200      4594\n",
      "         ...  \n",
      "13180        1\n",
      "10879        1\n",
      "2683         1\n",
      "634          1\n",
      "8188         1\n",
      "Name: Price, Length: 3731, dtype: int64\n"
     ]
    }
   ],
   "source": [
    "print(df['Price'].value_counts())"
   ]
  },
  {
   "cell_type": "markdown",
   "metadata": {},
   "source": [
    "менее 10% данных, удалим их"
   ]
  },
  {
   "cell_type": "code",
   "execution_count": 10,
   "metadata": {},
   "outputs": [],
   "source": [
    "df = df.loc[df['Price'] > 0]"
   ]
  },
  {
   "cell_type": "code",
   "execution_count": 11,
   "metadata": {},
   "outputs": [
    {
     "name": "stdout",
     "output_type": "stream",
     "text": [
      "0        36360\n",
      "75       23319\n",
      "60       15465\n",
      "150      14170\n",
      "101      12960\n",
      "         ...  \n",
      "923          1\n",
      "10910        1\n",
      "4400         1\n",
      "1689         1\n",
      "6006         1\n",
      "Name: Power, Length: 701, dtype: int64\n"
     ]
    }
   ],
   "source": [
    "print(df['Power'].value_counts())"
   ]
  },
  {
   "cell_type": "markdown",
   "metadata": {},
   "source": [
    "более 10%, необходимо обработать"
   ]
  },
  {
   "cell_type": "code",
   "execution_count": 12,
   "metadata": {},
   "outputs": [],
   "source": [
    "df = df.loc[df['Power'] <= 1300]\n",
    "df['Power'] = df['Power'].replace(0, df['Power'].median())"
   ]
  },
  {
   "cell_type": "markdown",
   "metadata": {},
   "source": [
    "<div class=\"alert alert-success\">\n",
    "<font size=\"5\"><b>Комментарий ревьюера</b></font>\n",
    "\n",
    "\n",
    "\n",
    "Успех 👍:\n",
    "\n",
    "\n",
    "\n",
    "Поработал с аномалиями,  обратил внимание на количество данных которые мы потеряем если дропнуть\n"
   ]
  },
  {
   "cell_type": "markdown",
   "metadata": {},
   "source": [
    "Посмотрим на года производства автомобилей"
   ]
  },
  {
   "cell_type": "code",
   "execution_count": 13,
   "metadata": {},
   "outputs": [
    {
     "data": {
      "text/plain": [
       "array([1993, 2011, 2004, 2001, 2008, 1995, 2014, 1998, 2005, 1910, 2016,\n",
       "       2007, 2009, 2002, 2018, 1997, 1990, 2017, 1981, 2003, 1994, 1991,\n",
       "       1984, 2006, 1999, 2012, 2010, 2000, 1992, 2013, 1996, 1985, 1989,\n",
       "       2015, 1982, 1976, 1983, 1973, 1969, 1971, 1987, 1986, 1988, 1980,\n",
       "       1970, 1965, 1945, 1925, 1974, 1979, 1955, 1978, 1972, 1968, 1977,\n",
       "       1961, 1966, 1975, 1963, 1964, 1960, 5000, 1958, 1967, 1959, 1956,\n",
       "       3200, 1000, 1941, 9999, 8888, 1500, 2200, 4100, 1962, 1929, 1957,\n",
       "       1940, 3000, 2066, 1949, 2019, 1937, 1951, 1953, 1954, 1234, 8000,\n",
       "       5300, 9000, 2900, 6000, 5900, 5911, 1950, 4000, 1948, 1952, 8500,\n",
       "       1932, 1255, 3700, 3800, 4800, 1942, 7000, 1935, 1933, 1936, 6500,\n",
       "       1923, 2290, 1930, 1001, 9450, 1944, 2500, 1943, 1934, 1938, 1928,\n",
       "       1800, 5555, 5600, 1600, 1111, 2222, 1039, 1300, 2800, 1931, 4500,\n",
       "       1602, 7800, 1947, 1927, 7100, 8200, 1946])"
      ]
     },
     "execution_count": 13,
     "metadata": {},
     "output_type": "execute_result"
    }
   ],
   "source": [
    "df['RegistrationYear'].unique()"
   ]
  },
  {
   "cell_type": "markdown",
   "metadata": {},
   "source": [
    "Думаю не стоит брать во внимание авто ранее 1980 годов, так как они врядли попадают под понятие \"автомобиль\", скорее \"раритетный экспонат\". Очевидно авто после 24 года выпуска ещё нет."
   ]
  },
  {
   "cell_type": "markdown",
   "metadata": {},
   "source": [
    "<div class=\"alert alert-danger\">\n",
    "<font size=\"5\"><b>Комментарий ревьюера</b></font>\n",
    "\n",
    "\n",
    "\n",
    "Ошибка ❌:\n",
    "\n",
    " \n",
    "\n",
    "\n",
    "\n",
    "По поводу лет - стоит обратить внимание что верхняя граница — 2016 год - год выгрузки базы. Если есть строчка с больше 2016, то это явно ошиибка заполнения, такое лучше убрать\n"
   ]
  },
  {
   "cell_type": "markdown",
   "metadata": {},
   "source": [
    "<div class=\"alert alert-info\">\n",
    "<font size=\"5\"><b>Комментарий студента</b></font>\n",
    "\n",
    "Исправлено"
   ]
  },
  {
   "cell_type": "code",
   "execution_count": 14,
   "metadata": {},
   "outputs": [
    {
     "data": {
      "text/plain": [
       "array([1993, 2011, 2004, 2001, 2008, 1995, 2014, 1998, 2005, 2016, 2007,\n",
       "       2009, 2002, 1997, 1990, 1981, 2003, 1994, 1991, 1984, 2006, 1999,\n",
       "       2012, 2010, 2000, 1992, 2013, 1996, 1985, 1989, 2015, 1982, 1983,\n",
       "       1987, 1986, 1988, 1980])"
      ]
     },
     "execution_count": 14,
     "metadata": {},
     "output_type": "execute_result"
    }
   ],
   "source": [
    "df = df.loc[(df['RegistrationYear'] <= 2016) & (df['RegistrationYear'] >= 1980)]\n",
    "df['RegistrationYear'].unique()"
   ]
  },
  {
   "cell_type": "markdown",
   "metadata": {},
   "source": [
    "Я не знаю, что делать со столбцом Kilometer. Нужен ли он, когда большая часть данных находится в окресности 150 тысяч?"
   ]
  },
  {
   "cell_type": "code",
   "execution_count": 15,
   "metadata": {},
   "outputs": [
    {
     "name": "stdout",
     "output_type": "stream",
     "text": [
      "<class 'pandas.core.frame.DataFrame'>\n",
      "Int64Index: 326446 entries, 0 to 354364\n",
      "Data columns (total 11 columns):\n",
      " #   Column             Non-Null Count   Dtype  \n",
      "---  ------             --------------   -----  \n",
      " 0   Price              326446 non-null  int64  \n",
      " 1   VehicleType        306778 non-null  object \n",
      " 2   RegistrationYear   326446 non-null  int64  \n",
      " 3   Gearbox            311400 non-null  object \n",
      " 4   Power              326446 non-null  float64\n",
      " 5   Model              311557 non-null  object \n",
      " 6   Kilometer          326446 non-null  int64  \n",
      " 7   RegistrationMonth  326446 non-null  int64  \n",
      " 8   FuelType           302851 non-null  object \n",
      " 9   Brand              326446 non-null  object \n",
      " 10  Repaired           267526 non-null  object \n",
      "dtypes: float64(1), int64(4), object(6)\n",
      "memory usage: 29.9+ MB\n"
     ]
    },
    {
     "data": {
      "text/plain": [
       "None"
      ]
     },
     "metadata": {},
     "output_type": "display_data"
    }
   ],
   "source": [
    "display(df.info())"
   ]
  },
  {
   "cell_type": "markdown",
   "metadata": {},
   "source": [
    "Есть пропуски в столбцах VehicleType, Gearbox, Model, FuelType и Repaired. Столбец Repaired имеет больше всего пропусков, но я считаю, что данные пропуски связаны с тем, что пользователи приложения не указывали этот параметр, т.к. машина не находилась в ремонте (не посчитали важным). Остальные столбцы предлагаю заполнить наиболее частыми значениями."
   ]
  },
  {
   "cell_type": "markdown",
   "metadata": {},
   "source": [
    "### Восполнение пропусков при помощи SimpleImputer"
   ]
  },
  {
   "cell_type": "markdown",
   "metadata": {},
   "source": [
    "Выделим необходимые столбцы и решим задачу"
   ]
  },
  {
   "cell_type": "code",
   "execution_count": 16,
   "metadata": {},
   "outputs": [],
   "source": [
    "cat = ['VehicleType', 'Gearbox', 'Model', 'FuelType', 'Repaired']\n",
    "\n",
    "imputer = SimpleImputer(strategy='most_frequent').fit(df[cat])\n",
    "df[cat] = imputer.transform(df[cat])"
   ]
  },
  {
   "cell_type": "markdown",
   "metadata": {},
   "source": [
    "<div class=\"alert alert-warning\">\n",
    "<font size=\"5\"><b>Комментарий ревьюера</b></font>\n",
    "\n",
    "\n",
    "Совет 🤔:   \n",
    "    \n",
    "    \n",
    "\n",
    "    \n",
    "\n",
    "\n",
    "   \n",
    "    \n",
    "    \n",
    "    \n",
    "- по логике моделирования мы имеем информацию только о тренировочной выборке, поэтому если делать всё правильно, то мы сначала делаем сплит, затем применяем твою логику заполнение на тренировочной выборке, а затем используем ее на валидационной и тестовой выборке (тут аналогия с Scaler, когда мы делаем .fit на тренировочный  а потом .transform на валидационной\\тестовой). А так как ты используешь GridSearch, то стоит еще логику заполнения пропусков засунуть в pipeline. \n",
    "    \n",
    "    \n",
    "Прелесть в том что   SimpleImputer отлично взаимодействует с pipeline"
   ]
  },
  {
   "cell_type": "markdown",
   "metadata": {},
   "source": [
    "Проверим, ничего ли не сломалось"
   ]
  },
  {
   "cell_type": "code",
   "execution_count": 17,
   "metadata": {
    "scrolled": false
   },
   "outputs": [
    {
     "name": "stdout",
     "output_type": "stream",
     "text": [
      "<class 'pandas.core.frame.DataFrame'>\n",
      "Int64Index: 326446 entries, 0 to 354364\n",
      "Data columns (total 11 columns):\n",
      " #   Column             Non-Null Count   Dtype  \n",
      "---  ------             --------------   -----  \n",
      " 0   Price              326446 non-null  int64  \n",
      " 1   VehicleType        326446 non-null  object \n",
      " 2   RegistrationYear   326446 non-null  int64  \n",
      " 3   Gearbox            326446 non-null  object \n",
      " 4   Power              326446 non-null  float64\n",
      " 5   Model              326446 non-null  object \n",
      " 6   Kilometer          326446 non-null  int64  \n",
      " 7   RegistrationMonth  326446 non-null  int64  \n",
      " 8   FuelType           326446 non-null  object \n",
      " 9   Brand              326446 non-null  object \n",
      " 10  Repaired           326446 non-null  object \n",
      "dtypes: float64(1), int64(4), object(6)\n",
      "memory usage: 29.9+ MB\n"
     ]
    },
    {
     "data": {
      "text/plain": [
       "None"
      ]
     },
     "metadata": {},
     "output_type": "display_data"
    },
    {
     "data": {
      "text/html": [
       "<div>\n",
       "<style scoped>\n",
       "    .dataframe tbody tr th:only-of-type {\n",
       "        vertical-align: middle;\n",
       "    }\n",
       "\n",
       "    .dataframe tbody tr th {\n",
       "        vertical-align: top;\n",
       "    }\n",
       "\n",
       "    .dataframe thead th {\n",
       "        text-align: right;\n",
       "    }\n",
       "</style>\n",
       "<table border=\"1\" class=\"dataframe\">\n",
       "  <thead>\n",
       "    <tr style=\"text-align: right;\">\n",
       "      <th></th>\n",
       "      <th>Price</th>\n",
       "      <th>VehicleType</th>\n",
       "      <th>RegistrationYear</th>\n",
       "      <th>Gearbox</th>\n",
       "      <th>Power</th>\n",
       "      <th>Model</th>\n",
       "      <th>Kilometer</th>\n",
       "      <th>RegistrationMonth</th>\n",
       "      <th>FuelType</th>\n",
       "      <th>Brand</th>\n",
       "      <th>Repaired</th>\n",
       "    </tr>\n",
       "  </thead>\n",
       "  <tbody>\n",
       "    <tr>\n",
       "      <th>0</th>\n",
       "      <td>480</td>\n",
       "      <td>sedan</td>\n",
       "      <td>1993</td>\n",
       "      <td>manual</td>\n",
       "      <td>105.0</td>\n",
       "      <td>golf</td>\n",
       "      <td>150000</td>\n",
       "      <td>0</td>\n",
       "      <td>petrol</td>\n",
       "      <td>volkswagen</td>\n",
       "      <td>no</td>\n",
       "    </tr>\n",
       "    <tr>\n",
       "      <th>1</th>\n",
       "      <td>18300</td>\n",
       "      <td>coupe</td>\n",
       "      <td>2011</td>\n",
       "      <td>manual</td>\n",
       "      <td>190.0</td>\n",
       "      <td>golf</td>\n",
       "      <td>125000</td>\n",
       "      <td>5</td>\n",
       "      <td>gasoline</td>\n",
       "      <td>audi</td>\n",
       "      <td>yes</td>\n",
       "    </tr>\n",
       "    <tr>\n",
       "      <th>2</th>\n",
       "      <td>9800</td>\n",
       "      <td>suv</td>\n",
       "      <td>2004</td>\n",
       "      <td>auto</td>\n",
       "      <td>163.0</td>\n",
       "      <td>grand</td>\n",
       "      <td>125000</td>\n",
       "      <td>8</td>\n",
       "      <td>gasoline</td>\n",
       "      <td>jeep</td>\n",
       "      <td>no</td>\n",
       "    </tr>\n",
       "    <tr>\n",
       "      <th>3</th>\n",
       "      <td>1500</td>\n",
       "      <td>small</td>\n",
       "      <td>2001</td>\n",
       "      <td>manual</td>\n",
       "      <td>75.0</td>\n",
       "      <td>golf</td>\n",
       "      <td>150000</td>\n",
       "      <td>6</td>\n",
       "      <td>petrol</td>\n",
       "      <td>volkswagen</td>\n",
       "      <td>no</td>\n",
       "    </tr>\n",
       "    <tr>\n",
       "      <th>4</th>\n",
       "      <td>3600</td>\n",
       "      <td>small</td>\n",
       "      <td>2008</td>\n",
       "      <td>manual</td>\n",
       "      <td>69.0</td>\n",
       "      <td>fabia</td>\n",
       "      <td>90000</td>\n",
       "      <td>7</td>\n",
       "      <td>gasoline</td>\n",
       "      <td>skoda</td>\n",
       "      <td>no</td>\n",
       "    </tr>\n",
       "  </tbody>\n",
       "</table>\n",
       "</div>"
      ],
      "text/plain": [
       "   Price VehicleType  RegistrationYear Gearbox  Power  Model  Kilometer  \\\n",
       "0    480       sedan              1993  manual  105.0   golf     150000   \n",
       "1  18300       coupe              2011  manual  190.0   golf     125000   \n",
       "2   9800         suv              2004    auto  163.0  grand     125000   \n",
       "3   1500       small              2001  manual   75.0   golf     150000   \n",
       "4   3600       small              2008  manual   69.0  fabia      90000   \n",
       "\n",
       "   RegistrationMonth  FuelType       Brand Repaired  \n",
       "0                  0    petrol  volkswagen       no  \n",
       "1                  5  gasoline        audi      yes  \n",
       "2                  8  gasoline        jeep       no  \n",
       "3                  6    petrol  volkswagen       no  \n",
       "4                  7  gasoline       skoda       no  "
      ]
     },
     "metadata": {},
     "output_type": "display_data"
    }
   ],
   "source": [
    "display(df.info())\n",
    "display(df.head())"
   ]
  },
  {
   "cell_type": "markdown",
   "metadata": {},
   "source": [
    "<div class=\"alert alert-danger\">\n",
    "<font size=\"5\"><b>Комментарий ревьюера</b></font>\n",
    "\n",
    "\n",
    "\n",
    "Ошибка ❌:\n",
    "\n",
    "\n",
    "\n",
    "- Советую проверку на дубликаты сделать до удаления неинформативных столбцов. А так скорее всего в качестве дубликатов ты воспринял разные варианты, совпадающие по оставшися признакам. Как по-твоему может быть такое? И Почему не стоит удалять разные заявки но с совпадающими данными?\n",
    "    "
   ]
  },
  {
   "cell_type": "markdown",
   "metadata": {},
   "source": [
    "<div class=\"alert alert-info\">\n",
    "<font size=\"5\"><b>Комментарий студента</b></font>\n",
    "Думаю это связано с тем, что объявление было выложено повторно, но например через некоторое время, либо в другом месте. Учитывая, что данных много, а пробег видимо дискретный, то есть шанс совпадения объектов, наверное поэтому удалять не стоит.\n",
    "Исправлено."
   ]
  },
  {
   "cell_type": "markdown",
   "metadata": {},
   "source": [
    "<div class=\"alert alert-warning\">\n",
    "<font size=\"5\"><b>Комментарий ревьюераV2</b></font>\n",
    "\n",
    "\n",
    "\n",
    "Совет 🤔:\n",
    "\n",
    "\n",
    "\n",
    "если бы это было те же самые объявления но выложенные повторно, это  как раз  и были бы дубликаты. А вот если это разные варианты, то удалять не нужно, потому что на реальных данных скорее всего повторится те же частые комбинации, и стоит обучить модель чтобы они хорошо предсказывали именно частые случаи\n"
   ]
  },
  {
   "cell_type": "code",
   "execution_count": 18,
   "metadata": {
    "scrolled": true
   },
   "outputs": [
    {
     "name": "stdout",
     "output_type": "stream",
     "text": [
      "['sedan' 'coupe' 'suv' 'small' 'convertible' 'bus' 'wagon' 'other']\n",
      "['manual' 'auto']\n",
      "['golf' 'grand' 'fabia' '3er' '2_reihe' 'c_max' '3_reihe' 'passat'\n",
      " 'navara' 'polo' 'twingo' 'a_klasse' 'scirocco' '5er' 'arosa' 'other'\n",
      " 'civic' 'transporter' 'punto' 'e_klasse' 'clio' 'kadett' 'kangoo' 'one'\n",
      " 'fortwo' '1er' 'b_klasse' 'signum' 'astra' 'a8' 'jetta' 'fiesta'\n",
      " 'c_klasse' 'micra' 'vito' 'sprinter' '156' 'escort' 'forester' 'xc_reihe'\n",
      " 'scenic' 'a4' 'ka' 'a1' 'insignia' 'combo' 'focus' 'tt' 'corsa' 'a6'\n",
      " 'jazz' 'omega' 'slk' '7er' '80' '147' '100' 'z_reihe' 'sorento' 'v40'\n",
      " 'ibiza' 'mustang' 'eos' 'touran' 'getz' 'a3' 'almera' 'megane' 'lupo'\n",
      " 'r19' 'caddy' 'mondeo' 'cordoba' 'colt' 'impreza' 'vectra' 'berlingo'\n",
      " 'tiguan' 'sharan' '6_reihe' 'c4' 'panda' 'up' 'i_reihe' 'ceed' '5_reihe'\n",
      " 'yeti' 'octavia' 'zafira' 'mii' 'rx_reihe' '6er' 'modus' 'fox' 'matiz'\n",
      " 'beetle' 'c1' 'rio' 'touareg' 'logan' 'spider' 'cuore' 's_max' 'a2'\n",
      " 'galaxy' 'c3' 'viano' 's_klasse' '1_reihe' 'avensis' 'roomster' 'sl'\n",
      " 'santa' 'cooper' 'leon' '4_reihe' 'a5' 'sportage' 'laguna' 'ptcruiser'\n",
      " 'clk' 'primera' 'espace' 'x_reihe' 'exeo' '159' 'transit' 'juke'\n",
      " 'qashqai' 'carisma' 'accord' 'corolla' 'lanos' 'phaeton' 'verso' 'swift'\n",
      " 'rav' 'picanto' 'boxster' 'kalos' 'superb' 'stilo' 'alhambra' 'mx_reihe'\n",
      " 'roadster' 'ypsilon' 'cayenne' 'galant' 'justy' '90' 'sirion' 'crossfire'\n",
      " 'agila' 'duster' 'v50' 'meriva' 'c_reihe' 'v_klasse' 'm_klasse' 'yaris'\n",
      " 'c5' 'aygo' 'seicento' 'cc' 'carnival' 'fusion' '911' 'bora' 'forfour'\n",
      " 'cl' 'tigra' '300c' '500' 'cr_reihe' 'spark' 'v70' 'kuga' 'x_type'\n",
      " 'ducato' 's_type' 'x_trail' 'toledo' 'altea' 'voyager' 'calibra' 'bravo'\n",
      " 'antara' 'tucson' 'citigo' 'jimny' 'wrangler' 'lybra' 'q7' 'lancer'\n",
      " 'captiva' 'discovery' 'freelander' 'sandero' 'note' '900' 'cherokee'\n",
      " 'kaefer' 'clubman' 'samara' 'defender' 'cx_reihe' 'legacy' 'pajero'\n",
      " 'auris' 'c2' 'niva' 's60' 'm_reihe' 'nubira' 'vivaro' 'g_klasse' 'lodgy'\n",
      " '850' 'range_rover' '601' 'q3' 'serie_2' 'glk' 'charade' 'croma'\n",
      " 'outlander' 'doblo' 'musa' 'move' '9000' 'v60' '145' '200' 'b_max'\n",
      " 'range_rover_sport' 'aveo' 'terios' 'rangerover' 'q5'\n",
      " 'range_rover_evoque' 'materia' 'delta' 'gl' 'kalina' 'elefantino' 'i3'\n",
      " 'amarok' 'kappa']\n",
      "['petrol' 'gasoline' 'lpg' 'other' 'hybrid' 'cng' 'electric']\n",
      "['no' 'yes']\n",
      "['volkswagen' 'audi' 'jeep' 'skoda' 'bmw' 'peugeot' 'ford' 'mazda'\n",
      " 'nissan' 'renault' 'mercedes_benz' 'seat' 'honda' 'fiat' 'opel' 'mini'\n",
      " 'smart' 'hyundai' 'sonstige_autos' 'alfa_romeo' 'subaru' 'volvo'\n",
      " 'mitsubishi' 'kia' 'suzuki' 'lancia' 'citroen' 'toyota' 'chevrolet'\n",
      " 'dacia' 'daihatsu' 'trabant' 'chrysler' 'jaguar' 'daewoo' 'porsche'\n",
      " 'rover' 'saab' 'land_rover' 'lada']\n"
     ]
    }
   ],
   "source": [
    "cat.append('Brand')\n",
    "for i in cat:\n",
    "    print(df[i].unique())"
   ]
  },
  {
   "cell_type": "code",
   "execution_count": 19,
   "metadata": {},
   "outputs": [],
   "source": [
    "df['FuelType'] = df['FuelType'].replace('petrol', 'gasoline')"
   ]
  },
  {
   "cell_type": "markdown",
   "metadata": {},
   "source": [
    "### Микровывод:\n",
    "\n",
    "В результате предобработки было выполнено следующее:\n",
    "\n",
    "1) Осмотрены данные, выведены графики, описывающие числовые признаки\n",
    "\n",
    "2) Удалены либо исправлены аномалии\n",
    "\n",
    "3) Восполнены пропуски\n",
    "\n",
    "4) Удалены полные дубликаты\n",
    "\n",
    "5) Удалены неинформативные признаки"
   ]
  },
  {
   "cell_type": "markdown",
   "metadata": {},
   "source": [
    "<div class=\"alert alert-danger\">\n",
    "<font size=\"5\"><b>Комментарий ревьюера</b></font>\n",
    "\n",
    "\n",
    "\n",
    "Ошибка ❌:\n",
    "\n",
    " \n",
    "    \n",
    "На что ещё я бы обратил внимание\n",
    "    \n",
    "\n",
    "- 'petrol' и 'gasoline', ведь это   название одного и того же в разных странах. А у тебя получается это разное, и модель для работы получит некорректные представления   \n",
    "\n",
    "\n",
    "\n",
    "\n",
    "\n",
    "- ниже ты используешь линейную модель. В этом случае рекомендуется провести предварительную проверку на  мультиколлинеарность, а еще было бы интересно посомтреть на корреляцию признаков и таргета (Не забываем об особенностях применения коеффициента Пирсона и Спирмена)\n",
    "\n",
    "\n",
    "\n",
    " \n",
    "\n",
    "\n",
    "<div class=\"alert alert-warning\">\n",
    "\n",
    "\n",
    "Совет 🤔:\n",
    "\n",
    "\n",
    "\n",
    "\n",
    "\n",
    "- работа пропусками тема очень тонкая, ведь в любом случае будет происходить искажение данных, каждый новый датасетом скорее всего надо будет требовать какой-то свой уникальный способ работы с пропусками, а как именно - это придёт с опытом. Тут можешь посмотреть какие вообще способы и подходы можно использовать  [первая часть](https://www.dmitrymakarov.ru/data-analysis/nan-06/) ,   [вторая часть](https://www.dmitrymakarov.ru/data-analysis/nan-06-2/) "
   ]
  },
  {
   "cell_type": "markdown",
   "metadata": {},
   "source": [
    "<div class=\"alert alert-info\">\n",
    "<font size=\"5\"><b>Комментарий студента</b></font>\n",
    "    \n",
    "Исправлено. Выбрал Спирмена, так как он показывает силу зависимости и лучше работает не с нормальным распределением."
   ]
  },
  {
   "cell_type": "markdown",
   "metadata": {},
   "source": [
    "<div class=\"alert alert-success\">\n",
    "<font size=\"5\"><b>Комментарий ревьюераV2</b></font>\n",
    "\n",
    "\n",
    "\n",
    "Успех 👍:\n",
    "\n",
    "\n",
    "\n",
    "👍\n",
    "\n",
    "\n",
    "\n",
    "\n",
    "</div>\n"
   ]
  },
  {
   "cell_type": "code",
   "execution_count": 20,
   "metadata": {},
   "outputs": [
    {
     "data": {
      "image/png": "[encoded data removed]",
      "text/plain": [
       "<Figure size 720x576 with 2 Axes>"
      ]
     },
     "metadata": {
      "needs_background": "light"
     },
     "output_type": "display_data"
    }
   ],
   "source": [
    "spearman_corr_matrix = df.corr(method='spearman')\n",
    "\n",
    "plt.figure(figsize=(10, 8))\n",
    "sns.heatmap(spearman_corr_matrix, annot=True, cmap='coolwarm', fmt=\".2f\", square=True)\n",
    "plt.title('Spearman Correlation Matrix')\n",
    "plt.show()"
   ]
  },
  {
   "cell_type": "markdown",
   "metadata": {},
   "source": [
    "Видна положительная корреляция между годом выпуска, мощностью модели и стоимостью (очевидно), однако я не вижу в этом проблемы. Так же чем меньше пробега, тем выше цена, но корреляция не сильная."
   ]
  },
  {
   "cell_type": "markdown",
   "metadata": {},
   "source": [
    "## Обучение моделей"
   ]
  },
  {
   "cell_type": "markdown",
   "metadata": {},
   "source": [
    "### Подготовим наш датафрейм, для начала закодируем категориальные столбцы"
   ]
  },
  {
   "cell_type": "code",
   "execution_count": 21,
   "metadata": {},
   "outputs": [
    {
     "data": {
      "text/html": [
       "<div>\n",
       "<style scoped>\n",
       "    .dataframe tbody tr th:only-of-type {\n",
       "        vertical-align: middle;\n",
       "    }\n",
       "\n",
       "    .dataframe tbody tr th {\n",
       "        vertical-align: top;\n",
       "    }\n",
       "\n",
       "    .dataframe thead th {\n",
       "        text-align: right;\n",
       "    }\n",
       "</style>\n",
       "<table border=\"1\" class=\"dataframe\">\n",
       "  <thead>\n",
       "    <tr style=\"text-align: right;\">\n",
       "      <th></th>\n",
       "      <th>Price</th>\n",
       "      <th>RegistrationYear</th>\n",
       "      <th>Power</th>\n",
       "      <th>Kilometer</th>\n",
       "      <th>RegistrationMonth</th>\n",
       "      <th>VehicleType_convertible</th>\n",
       "      <th>VehicleType_coupe</th>\n",
       "      <th>VehicleType_other</th>\n",
       "      <th>VehicleType_sedan</th>\n",
       "      <th>VehicleType_small</th>\n",
       "      <th>...</th>\n",
       "      <th>Brand_skoda</th>\n",
       "      <th>Brand_smart</th>\n",
       "      <th>Brand_sonstige_autos</th>\n",
       "      <th>Brand_subaru</th>\n",
       "      <th>Brand_suzuki</th>\n",
       "      <th>Brand_toyota</th>\n",
       "      <th>Brand_trabant</th>\n",
       "      <th>Brand_volkswagen</th>\n",
       "      <th>Brand_volvo</th>\n",
       "      <th>Repaired_yes</th>\n",
       "    </tr>\n",
       "  </thead>\n",
       "  <tbody>\n",
       "    <tr>\n",
       "      <th>0</th>\n",
       "      <td>480</td>\n",
       "      <td>1993</td>\n",
       "      <td>105.0</td>\n",
       "      <td>150000</td>\n",
       "      <td>0</td>\n",
       "      <td>0</td>\n",
       "      <td>0</td>\n",
       "      <td>0</td>\n",
       "      <td>1</td>\n",
       "      <td>0</td>\n",
       "      <td>...</td>\n",
       "      <td>0</td>\n",
       "      <td>0</td>\n",
       "      <td>0</td>\n",
       "      <td>0</td>\n",
       "      <td>0</td>\n",
       "      <td>0</td>\n",
       "      <td>0</td>\n",
       "      <td>1</td>\n",
       "      <td>0</td>\n",
       "      <td>0</td>\n",
       "    </tr>\n",
       "    <tr>\n",
       "      <th>1</th>\n",
       "      <td>18300</td>\n",
       "      <td>2011</td>\n",
       "      <td>190.0</td>\n",
       "      <td>125000</td>\n",
       "      <td>5</td>\n",
       "      <td>0</td>\n",
       "      <td>1</td>\n",
       "      <td>0</td>\n",
       "      <td>0</td>\n",
       "      <td>0</td>\n",
       "      <td>...</td>\n",
       "      <td>0</td>\n",
       "      <td>0</td>\n",
       "      <td>0</td>\n",
       "      <td>0</td>\n",
       "      <td>0</td>\n",
       "      <td>0</td>\n",
       "      <td>0</td>\n",
       "      <td>0</td>\n",
       "      <td>0</td>\n",
       "      <td>1</td>\n",
       "    </tr>\n",
       "    <tr>\n",
       "      <th>2</th>\n",
       "      <td>9800</td>\n",
       "      <td>2004</td>\n",
       "      <td>163.0</td>\n",
       "      <td>125000</td>\n",
       "      <td>8</td>\n",
       "      <td>0</td>\n",
       "      <td>0</td>\n",
       "      <td>0</td>\n",
       "      <td>0</td>\n",
       "      <td>0</td>\n",
       "      <td>...</td>\n",
       "      <td>0</td>\n",
       "      <td>0</td>\n",
       "      <td>0</td>\n",
       "      <td>0</td>\n",
       "      <td>0</td>\n",
       "      <td>0</td>\n",
       "      <td>0</td>\n",
       "      <td>0</td>\n",
       "      <td>0</td>\n",
       "      <td>0</td>\n",
       "    </tr>\n",
       "    <tr>\n",
       "      <th>3</th>\n",
       "      <td>1500</td>\n",
       "      <td>2001</td>\n",
       "      <td>75.0</td>\n",
       "      <td>150000</td>\n",
       "      <td>6</td>\n",
       "      <td>0</td>\n",
       "      <td>0</td>\n",
       "      <td>0</td>\n",
       "      <td>0</td>\n",
       "      <td>1</td>\n",
       "      <td>...</td>\n",
       "      <td>0</td>\n",
       "      <td>0</td>\n",
       "      <td>0</td>\n",
       "      <td>0</td>\n",
       "      <td>0</td>\n",
       "      <td>0</td>\n",
       "      <td>0</td>\n",
       "      <td>1</td>\n",
       "      <td>0</td>\n",
       "      <td>0</td>\n",
       "    </tr>\n",
       "    <tr>\n",
       "      <th>4</th>\n",
       "      <td>3600</td>\n",
       "      <td>2008</td>\n",
       "      <td>69.0</td>\n",
       "      <td>90000</td>\n",
       "      <td>7</td>\n",
       "      <td>0</td>\n",
       "      <td>0</td>\n",
       "      <td>0</td>\n",
       "      <td>0</td>\n",
       "      <td>1</td>\n",
       "      <td>...</td>\n",
       "      <td>1</td>\n",
       "      <td>0</td>\n",
       "      <td>0</td>\n",
       "      <td>0</td>\n",
       "      <td>0</td>\n",
       "      <td>0</td>\n",
       "      <td>0</td>\n",
       "      <td>0</td>\n",
       "      <td>0</td>\n",
       "      <td>0</td>\n",
       "    </tr>\n",
       "  </tbody>\n",
       "</table>\n",
       "<p>5 rows × 305 columns</p>\n",
       "</div>"
      ],
      "text/plain": [
       "   Price  RegistrationYear  Power  Kilometer  RegistrationMonth  \\\n",
       "0    480              1993  105.0     150000                  0   \n",
       "1  18300              2011  190.0     125000                  5   \n",
       "2   9800              2004  163.0     125000                  8   \n",
       "3   1500              2001   75.0     150000                  6   \n",
       "4   3600              2008   69.0      90000                  7   \n",
       "\n",
       "   VehicleType_convertible  VehicleType_coupe  VehicleType_other  \\\n",
       "0                        0                  0                  0   \n",
       "1                        0                  1                  0   \n",
       "2                        0                  0                  0   \n",
       "3                        0                  0                  0   \n",
       "4                        0                  0                  0   \n",
       "\n",
       "   VehicleType_sedan  VehicleType_small  ...  Brand_skoda  Brand_smart  \\\n",
       "0                  1                  0  ...            0            0   \n",
       "1                  0                  0  ...            0            0   \n",
       "2                  0                  0  ...            0            0   \n",
       "3                  0                  1  ...            0            0   \n",
       "4                  0                  1  ...            1            0   \n",
       "\n",
       "   Brand_sonstige_autos  Brand_subaru  Brand_suzuki  Brand_toyota  \\\n",
       "0                     0             0             0             0   \n",
       "1                     0             0             0             0   \n",
       "2                     0             0             0             0   \n",
       "3                     0             0             0             0   \n",
       "4                     0             0             0             0   \n",
       "\n",
       "   Brand_trabant  Brand_volkswagen  Brand_volvo  Repaired_yes  \n",
       "0              0                 1            0             0  \n",
       "1              0                 0            0             1  \n",
       "2              0                 0            0             0  \n",
       "3              0                 1            0             0  \n",
       "4              0                 0            0             0  \n",
       "\n",
       "[5 rows x 305 columns]"
      ]
     },
     "metadata": {},
     "output_type": "display_data"
    }
   ],
   "source": [
    "data_ohe = pd.get_dummies(df, drop_first=True)\n",
    "display(data_ohe.head())"
   ]
  },
  {
   "cell_type": "markdown",
   "metadata": {},
   "source": [
    "<div class=\"alert alert-success\">\n",
    "<font size=\"5\"><b>Комментарий ревьюера</b></font>\n",
    "\n",
    "\n",
    "\n",
    "Успех 👍:\n",
    "\n",
    "\n",
    "избежал  dummy trap\n",
    "\n",
    "\n",
    "\n",
    "\n",
    "<div class=\"alert alert-warning\">\n",
    "\n",
    "\n",
    "\n",
    "\n",
    "Совет 🤔:\n",
    "\n",
    "\n",
    "В тренажёре  .get_dummies и он вполне рабочий инстурмент, но для машинного обучения и на будущее (с прицелом на дальнейшее использование pipeline) присмотрись к OHE.  Почему OHE лучше можно почитать [тут](\n",
    "https://albertum.medium.com/preprocessing-onehotencoder-vs-pandas-get-dummies-3de1f3d77dcc), а [с кодами тут](https://colab.research.google.com/drive/1_gAMXcQKoCShB_l8FNtYEejMnosm9mvt?usp=sharing#scrollTo=organized-pierce) \n",
    "\n",
    "\n",
    "Главная идея при использовании OHE -  кодирование до деления на выборки (test/train) приводит к ошибкам, поэтому используем OHE после train_test_split. Как в случаи с тем же  StandardScaler делаем .fit_transform на train,  .transform на test/valid    \n",
    "\n",
    "    \n",
    "    \n",
    "В общем я бы тебе Настоятельно рекомендовал использовать OHE\n",
    "    \n",
    " "
   ]
  },
  {
   "cell_type": "markdown",
   "metadata": {},
   "source": [
    "### Разделим датафрейм на обучающий и тестовый"
   ]
  },
  {
   "cell_type": "code",
   "execution_count": 22,
   "metadata": {
    "scrolled": true
   },
   "outputs": [
    {
     "name": "stdout",
     "output_type": "stream",
     "text": [
      "(228512, 304)\n",
      "(97934, 304)\n"
     ]
    }
   ],
   "source": [
    "target_ohe = data_ohe['Price']\n",
    "features_ohe = data_ohe.drop('Price', axis=1)\n",
    "features_train_ohe, features_test_ohe, target_train_ohe, target_test_ohe = train_test_split(features_ohe, target_ohe, \n",
    "                                                                                            test_size=0.3, random_state=12345)\n",
    "# Проверим размеры\n",
    "print(features_train_ohe.shape)\n",
    "print(features_test_ohe.shape)"
   ]
  },
  {
   "cell_type": "markdown",
   "metadata": {},
   "source": [
    "<div class=\"alert alert-success\">\n",
    "<font size=\"5\"><b>Комментарий ревьюера</b></font>\n",
    "\n",
    "Успех:\n",
    "\n",
    " \n",
    "\n",
    "- правильно разбито на 2 выборки (иногда студенты использующие GS разбивают на 3 датасета)\n",
    "\n",
    "\n"
   ]
  },
  {
   "cell_type": "markdown",
   "metadata": {},
   "source": [
    "### Нормируем значения числовых признаков"
   ]
  },
  {
   "cell_type": "markdown",
   "metadata": {},
   "source": [
    "Применим StandardScaler, fit делаем на трейне"
   ]
  },
  {
   "cell_type": "code",
   "execution_count": 23,
   "metadata": {
    "scrolled": true
   },
   "outputs": [
    {
     "name": "stderr",
     "output_type": "stream",
     "text": [
      "/tmp/ipykernel_172/3730863481.py:5: SettingWithCopyWarning: \n",
      "A value is trying to be set on a copy of a slice from a DataFrame.\n",
      "Try using .loc[row_indexer,col_indexer] = value instead\n",
      "\n",
      "See the caveats in the documentation: https://pandas.pydata.org/pandas-docs/stable/user_guide/indexing.html#returning-a-view-versus-a-copy\n",
      "  features_train_ohe[numeric] = scaler.transform(features_train_ohe[numeric])\n",
      "/opt/conda/lib/python3.9/site-packages/pandas/core/indexing.py:1738: SettingWithCopyWarning: \n",
      "A value is trying to be set on a copy of a slice from a DataFrame.\n",
      "Try using .loc[row_indexer,col_indexer] = value instead\n",
      "\n",
      "See the caveats in the documentation: https://pandas.pydata.org/pandas-docs/stable/user_guide/indexing.html#returning-a-view-versus-a-copy\n",
      "  self._setitem_single_column(loc, value[:, i].tolist(), pi)\n",
      "/tmp/ipykernel_172/3730863481.py:6: SettingWithCopyWarning: \n",
      "A value is trying to be set on a copy of a slice from a DataFrame.\n",
      "Try using .loc[row_indexer,col_indexer] = value instead\n",
      "\n",
      "See the caveats in the documentation: https://pandas.pydata.org/pandas-docs/stable/user_guide/indexing.html#returning-a-view-versus-a-copy\n",
      "  features_test_ohe[numeric] = scaler.transform(features_test_ohe[numeric])\n",
      "/opt/conda/lib/python3.9/site-packages/pandas/core/indexing.py:1738: SettingWithCopyWarning: \n",
      "A value is trying to be set on a copy of a slice from a DataFrame.\n",
      "Try using .loc[row_indexer,col_indexer] = value instead\n",
      "\n",
      "See the caveats in the documentation: https://pandas.pydata.org/pandas-docs/stable/user_guide/indexing.html#returning-a-view-versus-a-copy\n",
      "  self._setitem_single_column(loc, value[:, i].tolist(), pi)\n"
     ]
    }
   ],
   "source": [
    "numeric = ['RegistrationYear', 'Power', 'Kilometer', 'RegistrationMonth']\n",
    "\n",
    "scaler = StandardScaler()\n",
    "scaler.fit(features_train_ohe[numeric])\n",
    "features_train_ohe[numeric] = scaler.transform(features_train_ohe[numeric])\n",
    "features_test_ohe[numeric] = scaler.transform(features_test_ohe[numeric])"
   ]
  },
  {
   "cell_type": "markdown",
   "metadata": {},
   "source": [
    "\n",
    "<div class=\"alert alert-warning\">\n",
    "<font size=\"5\"><b>Комментарий ревьюера</b></font>\n",
    "\n",
    "\n",
    "\n",
    "Совет 🤔:\n",
    "\n",
    "\n",
    "\n",
    "\n",
    "\n",
    "\n",
    "Можно объединить 2 логики работы с данными (Одна логика - это работа с количественными, вторая логика - это работа с категориальными) в одну с помощью ColumnTransformer\n",
    "\n",
    "    preprocessor = ColumnTransformer(\n",
    "        transformers=[\n",
    "            ('num', numeric_transformer, numeric_features),\n",
    "            ('cat', categorical_transformer, categorical_features)\n",
    "        ])\n",
    "\n",
    "\n",
    "Вот статьи про Сolumntransformer (и pipeline, потому что это темы связанны их лучше использовать одновременно)\n",
    "\n",
    "1. https://medium.com/mlearning-ai/neat-data-preprocessing-with-pipeline-and-columntransformer-2a0468865b6b\n",
    "2. https://towardsdatascience.com/pipelines-custom-transformers-in-scikit-learn-the-step-by-step-guide-with-python-code-4a7d9b068156\n",
    "3. вот статья про Pipeline и GridSearchCV - https://towardsdatascience.com/an-introduction-to-building-pipelines-and-using-grid-searches-in-scikit-learn-92ea72f9b5b7"
   ]
  },
  {
   "cell_type": "markdown",
   "metadata": {},
   "source": [
    " \n",
    "\n",
    "<div class=\"alert alert-warning\">\n",
    "<font size=\"5\"><b>Комментарий ревьюера</b></font>\n",
    "\n",
    "\n",
    "\n",
    "Совет 🤔:\n",
    "\n",
    "\n",
    "\n",
    "И уточню почему желателен   pipeline когда используешь GS, своими словами: \n",
    "    \n",
    "Когда мы используем вручную прописанный цикл для поиска гиперпарамтеров, и разбиваем на три датасета, то мы же делаем так:\n",
    "    \n",
    "\n",
    "\n",
    "    scaler = StandardScaler()\n",
    "    scaler.fit(train_feat[numeric])\n",
    "\n",
    "\n",
    "    feat_train[numeric] = scaler.transform(feat_train[numeric])\n",
    "    feat_test[numeric] = scaler.transform(feat_test[numeric])\n",
    "    feat_valid[numeric] = scaler.transform(feat_valid[numeric])\n",
    "    \n",
    "    \n",
    "    \n",
    "То есть мы делаем   .fit на train, а на valid и test делаем   .transform, то есть когда мы обучаем наш StandardScaler,  мы используем только тренировочный датасет, а затем \"распростроняем\" выученное шкалирование на test/valid.  Нет подглядывания:   Мы не используем информацию из тестового и валидационного датасета, для того чтобы обучить StandardScaler(). В этом и смысл моделирования - мы как будто бы знаем только train, а тестового для нас как бы не существует.  Если мы при шкалировании начинаем использовать информацию из теста мы поступаем нечестно. \n",
    "\n",
    "    \n",
    "    \n",
    "А когда используем GridSearch\n",
    "    \n",
    "    \n",
    "Вот твой код (условно)    \n",
    "    \n",
    "    scaler = StandardScaler()\n",
    "    scaler.fit(train_feat)\n",
    "    feat_train = scaler.transform(feat_train)    \n",
    "    \n",
    "    \n",
    "    parameters = {'kernel':('linear', 'rbf'), 'C':[1, 10]}\n",
    "    svc = svm.SVC()\n",
    "    clf = GridSearchCV(svc, parameters)\n",
    "    clf.fit(feat_train, target)\n",
    "    \n",
    "    \n",
    "    \n",
    "Обрати внимание - ты подал  feat_train, из  которого   GridSearchCV сам создаст valid и train и построит циклы. И вот тут оказывается что валидационный датасет у нас с подглядыванием, потому что на всем feat_train был сделан fit.  Вот в чём заключается подглядывание.  И раз GS делает валидационные внутри себя, спрашивается как добраться до нее и избежать подглядывания в будущее? Казалось бы никак, но нет! Pipeline! ) \n",
    "    \n",
    "    \n",
    "  \n",
    "    \n",
    "И вот как надо сделать pipeline чтобы не было утечки данных при шкалировании.  Как видишь кода немного \n",
    "    \n",
    "    pipe = Pipeline([\n",
    "            ('scale', StandardScaler(random_state = 42)),\n",
    "            ('clf', SVC(kernel = 'linear', C = 1))])\n",
    "\n",
    "    parameters = {'kernel':('linear', 'rbf'), 'C':[1, 10]}\n",
    "\n",
    "    clf = GridSearchCV(pipe, parameters)\n",
    "    clf.fit(feat_train, target)\n",
    "    \n",
    "    \n",
    "И теперь    feat_train будет разбит на train и valid, но .fit будет на train, а на valid будет .transform. Такй вот хитрый pipeline - он суёт свои ручки внутрь GS и делай так чтобы не было утечки данных.\n",
    "    \n",
    "    \n",
    "    \n",
    "    \n",
    "    \n",
    "\n",
    "\n",
    "</div>\n"
   ]
  },
  {
   "cell_type": "markdown",
   "metadata": {},
   "source": [
    "Посмотрим, что же получилось:"
   ]
  },
  {
   "cell_type": "code",
   "execution_count": 24,
   "metadata": {},
   "outputs": [
    {
     "data": {
      "text/html": [
       "<div>\n",
       "<style scoped>\n",
       "    .dataframe tbody tr th:only-of-type {\n",
       "        vertical-align: middle;\n",
       "    }\n",
       "\n",
       "    .dataframe tbody tr th {\n",
       "        vertical-align: top;\n",
       "    }\n",
       "\n",
       "    .dataframe thead th {\n",
       "        text-align: right;\n",
       "    }\n",
       "</style>\n",
       "<table border=\"1\" class=\"dataframe\">\n",
       "  <thead>\n",
       "    <tr style=\"text-align: right;\">\n",
       "      <th></th>\n",
       "      <th>RegistrationYear</th>\n",
       "      <th>Power</th>\n",
       "      <th>Kilometer</th>\n",
       "      <th>RegistrationMonth</th>\n",
       "      <th>VehicleType_convertible</th>\n",
       "      <th>VehicleType_coupe</th>\n",
       "      <th>VehicleType_other</th>\n",
       "      <th>VehicleType_sedan</th>\n",
       "      <th>VehicleType_small</th>\n",
       "      <th>VehicleType_suv</th>\n",
       "      <th>...</th>\n",
       "      <th>Brand_skoda</th>\n",
       "      <th>Brand_smart</th>\n",
       "      <th>Brand_sonstige_autos</th>\n",
       "      <th>Brand_subaru</th>\n",
       "      <th>Brand_suzuki</th>\n",
       "      <th>Brand_toyota</th>\n",
       "      <th>Brand_trabant</th>\n",
       "      <th>Brand_volkswagen</th>\n",
       "      <th>Brand_volvo</th>\n",
       "      <th>Repaired_yes</th>\n",
       "    </tr>\n",
       "  </thead>\n",
       "  <tbody>\n",
       "    <tr>\n",
       "      <th>233055</th>\n",
       "      <td>0.512854</td>\n",
       "      <td>1.001000</td>\n",
       "      <td>0.576605</td>\n",
       "      <td>0.046658</td>\n",
       "      <td>0</td>\n",
       "      <td>0</td>\n",
       "      <td>0</td>\n",
       "      <td>1</td>\n",
       "      <td>0</td>\n",
       "      <td>0</td>\n",
       "      <td>...</td>\n",
       "      <td>0</td>\n",
       "      <td>0</td>\n",
       "      <td>0</td>\n",
       "      <td>0</td>\n",
       "      <td>0</td>\n",
       "      <td>0</td>\n",
       "      <td>0</td>\n",
       "      <td>0</td>\n",
       "      <td>0</td>\n",
       "      <td>0</td>\n",
       "    </tr>\n",
       "    <tr>\n",
       "      <th>253460</th>\n",
       "      <td>0.015194</td>\n",
       "      <td>-1.108458</td>\n",
       "      <td>-0.097106</td>\n",
       "      <td>1.406077</td>\n",
       "      <td>0</td>\n",
       "      <td>0</td>\n",
       "      <td>0</td>\n",
       "      <td>0</td>\n",
       "      <td>1</td>\n",
       "      <td>0</td>\n",
       "      <td>...</td>\n",
       "      <td>0</td>\n",
       "      <td>0</td>\n",
       "      <td>0</td>\n",
       "      <td>0</td>\n",
       "      <td>0</td>\n",
       "      <td>0</td>\n",
       "      <td>0</td>\n",
       "      <td>0</td>\n",
       "      <td>0</td>\n",
       "      <td>0</td>\n",
       "    </tr>\n",
       "    <tr>\n",
       "      <th>261050</th>\n",
       "      <td>0.346967</td>\n",
       "      <td>-0.063063</td>\n",
       "      <td>-0.097106</td>\n",
       "      <td>1.134193</td>\n",
       "      <td>0</td>\n",
       "      <td>0</td>\n",
       "      <td>0</td>\n",
       "      <td>1</td>\n",
       "      <td>0</td>\n",
       "      <td>0</td>\n",
       "      <td>...</td>\n",
       "      <td>0</td>\n",
       "      <td>0</td>\n",
       "      <td>0</td>\n",
       "      <td>0</td>\n",
       "      <td>0</td>\n",
       "      <td>0</td>\n",
       "      <td>0</td>\n",
       "      <td>0</td>\n",
       "      <td>0</td>\n",
       "      <td>0</td>\n",
       "    </tr>\n",
       "    <tr>\n",
       "      <th>305894</th>\n",
       "      <td>-0.482466</td>\n",
       "      <td>-0.828441</td>\n",
       "      <td>0.576605</td>\n",
       "      <td>0.590426</td>\n",
       "      <td>0</td>\n",
       "      <td>0</td>\n",
       "      <td>0</td>\n",
       "      <td>0</td>\n",
       "      <td>0</td>\n",
       "      <td>0</td>\n",
       "      <td>...</td>\n",
       "      <td>0</td>\n",
       "      <td>0</td>\n",
       "      <td>0</td>\n",
       "      <td>0</td>\n",
       "      <td>0</td>\n",
       "      <td>0</td>\n",
       "      <td>0</td>\n",
       "      <td>1</td>\n",
       "      <td>0</td>\n",
       "      <td>0</td>\n",
       "    </tr>\n",
       "    <tr>\n",
       "      <th>14928</th>\n",
       "      <td>-1.809559</td>\n",
       "      <td>-1.164461</td>\n",
       "      <td>-0.097106</td>\n",
       "      <td>-0.768994</td>\n",
       "      <td>0</td>\n",
       "      <td>0</td>\n",
       "      <td>0</td>\n",
       "      <td>0</td>\n",
       "      <td>0</td>\n",
       "      <td>0</td>\n",
       "      <td>...</td>\n",
       "      <td>0</td>\n",
       "      <td>0</td>\n",
       "      <td>0</td>\n",
       "      <td>0</td>\n",
       "      <td>0</td>\n",
       "      <td>0</td>\n",
       "      <td>0</td>\n",
       "      <td>1</td>\n",
       "      <td>0</td>\n",
       "      <td>0</td>\n",
       "    </tr>\n",
       "  </tbody>\n",
       "</table>\n",
       "<p>5 rows × 304 columns</p>\n",
       "</div>"
      ],
      "text/plain": [
       "        RegistrationYear     Power  Kilometer  RegistrationMonth  \\\n",
       "233055          0.512854  1.001000   0.576605           0.046658   \n",
       "253460          0.015194 -1.108458  -0.097106           1.406077   \n",
       "261050          0.346967 -0.063063  -0.097106           1.134193   \n",
       "305894         -0.482466 -0.828441   0.576605           0.590426   \n",
       "14928          -1.809559 -1.164461  -0.097106          -0.768994   \n",
       "\n",
       "        VehicleType_convertible  VehicleType_coupe  VehicleType_other  \\\n",
       "233055                        0                  0                  0   \n",
       "253460                        0                  0                  0   \n",
       "261050                        0                  0                  0   \n",
       "305894                        0                  0                  0   \n",
       "14928                         0                  0                  0   \n",
       "\n",
       "        VehicleType_sedan  VehicleType_small  VehicleType_suv  ...  \\\n",
       "233055                  1                  0                0  ...   \n",
       "253460                  0                  1                0  ...   \n",
       "261050                  1                  0                0  ...   \n",
       "305894                  0                  0                0  ...   \n",
       "14928                   0                  0                0  ...   \n",
       "\n",
       "        Brand_skoda  Brand_smart  Brand_sonstige_autos  Brand_subaru  \\\n",
       "233055            0            0                     0             0   \n",
       "253460            0            0                     0             0   \n",
       "261050            0            0                     0             0   \n",
       "305894            0            0                     0             0   \n",
       "14928             0            0                     0             0   \n",
       "\n",
       "        Brand_suzuki  Brand_toyota  Brand_trabant  Brand_volkswagen  \\\n",
       "233055             0             0              0                 0   \n",
       "253460             0             0              0                 0   \n",
       "261050             0             0              0                 0   \n",
       "305894             0             0              0                 1   \n",
       "14928              0             0              0                 1   \n",
       "\n",
       "        Brand_volvo  Repaired_yes  \n",
       "233055            0             0  \n",
       "253460            0             0  \n",
       "261050            0             0  \n",
       "305894            0             0  \n",
       "14928             0             0  \n",
       "\n",
       "[5 rows x 304 columns]"
      ]
     },
     "execution_count": 24,
     "metadata": {},
     "output_type": "execute_result"
    }
   ],
   "source": [
    "features_train_ohe.head()"
   ]
  },
  {
   "cell_type": "markdown",
   "metadata": {},
   "source": [
    "### Приступим к обучению моделей:\n",
    "\n",
    "Предлагаю рассмотреть линейную регрессию (признаки под неё уже закодированы), случайный лес, а также бустинг."
   ]
  },
  {
   "cell_type": "markdown",
   "metadata": {},
   "source": [
    "#### Линейная регрессия в деле:"
   ]
  },
  {
   "cell_type": "code",
   "execution_count": 25,
   "metadata": {},
   "outputs": [
    {
     "data": {
      "text/plain": [
       "{'fit_intercept': True, 'normalize': False}"
      ]
     },
     "metadata": {},
     "output_type": "display_data"
    },
    {
     "data": {
      "text/plain": [
       "2623.065971221945"
      ]
     },
     "metadata": {},
     "output_type": "display_data"
    },
    {
     "name": "stdout",
     "output_type": "stream",
     "text": [
      "CPU times: user 2min 24s, sys: 55.3 s, total: 3min 19s\n",
      "Wall time: 3min 19s\n"
     ]
    }
   ],
   "source": [
    "%%time\n",
    "\n",
    "parameters = {\n",
    "    'fit_intercept': [True, False],\n",
    "    'normalize': [True, False]\n",
    "}\n",
    "\n",
    "lr_gs = GridSearchCV(\n",
    "    estimator=LinearRegression(), \n",
    "    cv=3, \n",
    "    scoring='neg_root_mean_squared_error',\n",
    "    param_grid=parameters\n",
    ")\n",
    "\n",
    "lr_gs.fit(features_train_ohe, target_train_ohe)\n",
    "\n",
    "display(lr_gs.best_params_)\n",
    "display(lr_gs.best_score_ * -1)\n"
   ]
  },
  {
   "cell_type": "markdown",
   "metadata": {},
   "source": [
    "<div class=\"alert alert-danger\">\n",
    "<font size=\"5\"><b>Комментарий ревьюера</b></font>\n",
    "\n",
    "\n",
    "\n",
    "Ошибка ❌:\n",
    "\n",
    "\n",
    "\n",
    "\n",
    "\n",
    "Нас не интересует Метрика на тренировочной выборке (Кстати почему?),  тут тебя либо тоже надо использовать GridSearchCV и смотреть best_score_, либо создать ручную валидационную выборку, и посмотреть метрику по ней\n",
    "    \n",
    " <div class=\"alert alert-warning\">\n",
    " \n",
    "\n",
    "\n",
    "Совет 🤔:\n",
    "\n",
    "\n",
    "И хотелось бы понять почему ты не делаешь подборки параметров для линейной модели. Стоит этот момент объяснить\n"
   ]
  },
  {
   "cell_type": "markdown",
   "metadata": {},
   "source": [
    "<div class=\"alert alert-info\">\n",
    "<font size=\"5\"><b>Комментарий студента</b></font>\n",
    "    \n",
    "Исправлено. Не делал подбора по сетке, так как мало гиперпараметров для перебора."
   ]
  },
  {
   "cell_type": "markdown",
   "metadata": {},
   "source": [
    "<div class=\"alert alert-success\">\n",
    "<font size=\"5\"><b>Комментарий ревьюераV2</b></font>\n",
    "\n",
    "\n",
    "\n",
    "Успех 👍:\n",
    "\n",
    "\n",
    "\n",
    "👍"
   ]
  },
  {
   "cell_type": "markdown",
   "metadata": {},
   "source": [
    "#### Кодировка признаков Ordinal Encoder'ом для леса:"
   ]
  },
  {
   "cell_type": "code",
   "execution_count": 26,
   "metadata": {
    "scrolled": true
   },
   "outputs": [
    {
     "data": {
      "text/html": [
       "<div>\n",
       "<style scoped>\n",
       "    .dataframe tbody tr th:only-of-type {\n",
       "        vertical-align: middle;\n",
       "    }\n",
       "\n",
       "    .dataframe tbody tr th {\n",
       "        vertical-align: top;\n",
       "    }\n",
       "\n",
       "    .dataframe thead th {\n",
       "        text-align: right;\n",
       "    }\n",
       "</style>\n",
       "<table border=\"1\" class=\"dataframe\">\n",
       "  <thead>\n",
       "    <tr style=\"text-align: right;\">\n",
       "      <th></th>\n",
       "      <th>VehicleType</th>\n",
       "      <th>RegistrationYear</th>\n",
       "      <th>Gearbox</th>\n",
       "      <th>Power</th>\n",
       "      <th>Model</th>\n",
       "      <th>Kilometer</th>\n",
       "      <th>RegistrationMonth</th>\n",
       "      <th>FuelType</th>\n",
       "      <th>Brand</th>\n",
       "      <th>Repaired</th>\n",
       "    </tr>\n",
       "  </thead>\n",
       "  <tbody>\n",
       "    <tr>\n",
       "      <th>233055</th>\n",
       "      <td>4.0</td>\n",
       "      <td>2006</td>\n",
       "      <td>1.0</td>\n",
       "      <td>173.0</td>\n",
       "      <td>11.0</td>\n",
       "      <td>150000</td>\n",
       "      <td>6</td>\n",
       "      <td>2.0</td>\n",
       "      <td>2.0</td>\n",
       "      <td>0.0</td>\n",
       "    </tr>\n",
       "    <tr>\n",
       "      <th>253460</th>\n",
       "      <td>5.0</td>\n",
       "      <td>2003</td>\n",
       "      <td>1.0</td>\n",
       "      <td>60.0</td>\n",
       "      <td>176.0</td>\n",
       "      <td>125000</td>\n",
       "      <td>11</td>\n",
       "      <td>2.0</td>\n",
       "      <td>9.0</td>\n",
       "      <td>0.0</td>\n",
       "    </tr>\n",
       "    <tr>\n",
       "      <th>261050</th>\n",
       "      <td>4.0</td>\n",
       "      <td>2005</td>\n",
       "      <td>1.0</td>\n",
       "      <td>116.0</td>\n",
       "      <td>6.0</td>\n",
       "      <td>125000</td>\n",
       "      <td>10</td>\n",
       "      <td>2.0</td>\n",
       "      <td>2.0</td>\n",
       "      <td>0.0</td>\n",
       "    </tr>\n",
       "    <tr>\n",
       "      <th>305894</th>\n",
       "      <td>7.0</td>\n",
       "      <td>2000</td>\n",
       "      <td>1.0</td>\n",
       "      <td>75.0</td>\n",
       "      <td>116.0</td>\n",
       "      <td>150000</td>\n",
       "      <td>8</td>\n",
       "      <td>2.0</td>\n",
       "      <td>38.0</td>\n",
       "      <td>0.0</td>\n",
       "    </tr>\n",
       "    <tr>\n",
       "      <th>14928</th>\n",
       "      <td>0.0</td>\n",
       "      <td>1992</td>\n",
       "      <td>1.0</td>\n",
       "      <td>57.0</td>\n",
       "      <td>222.0</td>\n",
       "      <td>125000</td>\n",
       "      <td>3</td>\n",
       "      <td>2.0</td>\n",
       "      <td>38.0</td>\n",
       "      <td>0.0</td>\n",
       "    </tr>\n",
       "    <tr>\n",
       "      <th>...</th>\n",
       "      <td>...</td>\n",
       "      <td>...</td>\n",
       "      <td>...</td>\n",
       "      <td>...</td>\n",
       "      <td>...</td>\n",
       "      <td>...</td>\n",
       "      <td>...</td>\n",
       "      <td>...</td>\n",
       "      <td>...</td>\n",
       "      <td>...</td>\n",
       "    </tr>\n",
       "    <tr>\n",
       "      <th>172403</th>\n",
       "      <td>4.0</td>\n",
       "      <td>2006</td>\n",
       "      <td>1.0</td>\n",
       "      <td>101.0</td>\n",
       "      <td>103.0</td>\n",
       "      <td>150000</td>\n",
       "      <td>9</td>\n",
       "      <td>2.0</td>\n",
       "      <td>10.0</td>\n",
       "      <td>0.0</td>\n",
       "    </tr>\n",
       "    <tr>\n",
       "      <th>51980</th>\n",
       "      <td>4.0</td>\n",
       "      <td>1999</td>\n",
       "      <td>1.0</td>\n",
       "      <td>55.0</td>\n",
       "      <td>116.0</td>\n",
       "      <td>150000</td>\n",
       "      <td>3</td>\n",
       "      <td>2.0</td>\n",
       "      <td>38.0</td>\n",
       "      <td>0.0</td>\n",
       "    </tr>\n",
       "    <tr>\n",
       "      <th>93684</th>\n",
       "      <td>5.0</td>\n",
       "      <td>1997</td>\n",
       "      <td>1.0</td>\n",
       "      <td>75.0</td>\n",
       "      <td>116.0</td>\n",
       "      <td>150000</td>\n",
       "      <td>4</td>\n",
       "      <td>2.0</td>\n",
       "      <td>38.0</td>\n",
       "      <td>0.0</td>\n",
       "    </tr>\n",
       "    <tr>\n",
       "      <th>83792</th>\n",
       "      <td>7.0</td>\n",
       "      <td>2005</td>\n",
       "      <td>0.0</td>\n",
       "      <td>225.0</td>\n",
       "      <td>116.0</td>\n",
       "      <td>150000</td>\n",
       "      <td>8</td>\n",
       "      <td>2.0</td>\n",
       "      <td>1.0</td>\n",
       "      <td>0.0</td>\n",
       "    </tr>\n",
       "    <tr>\n",
       "      <th>236198</th>\n",
       "      <td>4.0</td>\n",
       "      <td>2004</td>\n",
       "      <td>1.0</td>\n",
       "      <td>105.0</td>\n",
       "      <td>116.0</td>\n",
       "      <td>150000</td>\n",
       "      <td>10</td>\n",
       "      <td>2.0</td>\n",
       "      <td>38.0</td>\n",
       "      <td>0.0</td>\n",
       "    </tr>\n",
       "  </tbody>\n",
       "</table>\n",
       "<p>228512 rows × 10 columns</p>\n",
       "</div>"
      ],
      "text/plain": [
       "        VehicleType  RegistrationYear  Gearbox  Power  Model  Kilometer  \\\n",
       "233055          4.0              2006      1.0  173.0   11.0     150000   \n",
       "253460          5.0              2003      1.0   60.0  176.0     125000   \n",
       "261050          4.0              2005      1.0  116.0    6.0     125000   \n",
       "305894          7.0              2000      1.0   75.0  116.0     150000   \n",
       "14928           0.0              1992      1.0   57.0  222.0     125000   \n",
       "...             ...               ...      ...    ...    ...        ...   \n",
       "172403          4.0              2006      1.0  101.0  103.0     150000   \n",
       "51980           4.0              1999      1.0   55.0  116.0     150000   \n",
       "93684           5.0              1997      1.0   75.0  116.0     150000   \n",
       "83792           7.0              2005      0.0  225.0  116.0     150000   \n",
       "236198          4.0              2004      1.0  105.0  116.0     150000   \n",
       "\n",
       "        RegistrationMonth  FuelType  Brand  Repaired  \n",
       "233055                  6       2.0    2.0       0.0  \n",
       "253460                 11       2.0    9.0       0.0  \n",
       "261050                 10       2.0    2.0       0.0  \n",
       "305894                  8       2.0   38.0       0.0  \n",
       "14928                   3       2.0   38.0       0.0  \n",
       "...                   ...       ...    ...       ...  \n",
       "172403                  9       2.0   10.0       0.0  \n",
       "51980                   3       2.0   38.0       0.0  \n",
       "93684                   4       2.0   38.0       0.0  \n",
       "83792                   8       2.0    1.0       0.0  \n",
       "236198                 10       2.0   38.0       0.0  \n",
       "\n",
       "[228512 rows x 10 columns]"
      ]
     },
     "metadata": {},
     "output_type": "display_data"
    },
    {
     "name": "stdout",
     "output_type": "stream",
     "text": [
      "(228512, 10)\n",
      "(97934, 10)\n"
     ]
    }
   ],
   "source": [
    "enc = OrdinalEncoder()\n",
    "df[cat] = enc.fit_transform(df[cat])\n",
    "\n",
    "target_oe = df['Price']\n",
    "features_oe = df.drop('Price', axis=1)\n",
    "features_train_oe, features_test_oe, target_train_oe, target_test_oe = train_test_split(features_oe, target_oe, \n",
    "                                                                                        test_size=0.3, random_state=12345) \n",
    "\n",
    "display(features_train_oe)\n",
    "print(features_train_oe.shape)\n",
    "print(features_test_oe.shape)"
   ]
  },
  {
   "cell_type": "markdown",
   "metadata": {},
   "source": [
    "\n",
    "<div class=\"alert alert-success\">\n",
    "<font size=\"5\"><b>Комментарий ревьюера</b></font>\n",
    "\n",
    "Успех:\n",
    "\n",
    "    \n",
    "- Верно, что в случае использования линейной модели категориальные признаки кодированы с помощью OHE/get_dummies\n",
    "    \n",
    "- Правильно, что  для  \"деревянных\" моделей  OrdinalEncoder    \n",
    "\n",
    "\n",
    "<div class=\"alert alert-warning\">\n",
    " \n",
    "\n",
    "\n",
    "Совет 🤔:\n",
    "\n",
    "\n",
    " \n",
    "\n",
    "    \n",
    "- Можешь объяснить почему для линейных модели технику `OrdinalEncoder()` использовать нельзя, а для  деревянных моделей это не вызывает тех же проблем?\n",
    "    \n",
    "<div class=\"alert alert-info\">\n",
    " \n",
    "\n",
    "\n",
    "Ответ:\n",
    "- Линейная модель может посчитать некоторые объекты более значимыми\n"
   ]
  },
  {
   "cell_type": "markdown",
   "metadata": {},
   "source": [
    "<div class=\"alert alert-warning\">\n",
    "<font size=\"5\"><b>Комментарий ревьюераV2</b></font>\n",
    "\n",
    "\n",
    "\n",
    "Совет 🤔:\n",
    "\n",
    "    \n",
    "    \n",
    "Я бы объяснил по-другому, если ты применишь к моделям  OE, то для компьютера  Mercedes  окажется больше чем Volvo, и в три раза больше чем Камаз (условно). Нелогично. Но если ты подаёшь результаты OE в модели на основе деревьев (Случайный лес,  Дерево решений), то это не так страшно, в силу того что модели делают сплиты, они нелинейные, поэтому могут подстроиться.  А вот если ты это подашь в линейные модели, то скорее всего получится проблема, потому что  линейная модель, будет стараться построить линию (гиперплоскость) в которой камаз > мерседес > вольво "
   ]
  },
  {
   "cell_type": "markdown",
   "metadata": {},
   "source": [
    "#### Обучим лес:"
   ]
  },
  {
   "cell_type": "code",
   "execution_count": 27,
   "metadata": {
    "scrolled": true
   },
   "outputs": [
    {
     "data": {
      "text/plain": [
       "\"\\n%%time\\n\\nparameters = {'max_depth': list(range(1, 10)),\\n              'n_estimators': [100, 500, 1000]\\n              }\\n\\ndtr_gs = GridSearchCV(estimator=RandomForestRegressor(), \\n                         cv=3, \\n                         scoring='neg_root_mean_squared_error',\\n                         param_grid=parameters)\\n\\ndtr_gs.fit(features_train_oe, target_train_oe)\\n\\n\\ndisplay(dtr_gs.best_params_)\\ndisplay(dtr_gs.best_score_ * -1)\\n\""
      ]
     },
     "execution_count": 27,
     "metadata": {},
     "output_type": "execute_result"
    }
   ],
   "source": [
    "\"\"\"\n",
    "%%time\n",
    "\n",
    "parameters = {'max_depth': list(range(1, 10)),\n",
    "              'n_estimators': [100, 500, 1000]\n",
    "              }\n",
    "\n",
    "dtr_gs = GridSearchCV(estimator=RandomForestRegressor(), \n",
    "                         cv=3, \n",
    "                         scoring='neg_root_mean_squared_error',\n",
    "                         param_grid=parameters)\n",
    "\n",
    "dtr_gs.fit(features_train_oe, target_train_oe)\n",
    "\n",
    "\n",
    "display(dtr_gs.best_params_)\n",
    "display(dtr_gs.best_score_ * -1)\n",
    "\"\"\""
   ]
  },
  {
   "cell_type": "markdown",
   "metadata": {},
   "source": [
    "#### LightGBM в студию:"
   ]
  },
  {
   "cell_type": "markdown",
   "metadata": {},
   "source": [
    "Для работы с LGMB необходимо перевести объекты типа object в тип category:"
   ]
  },
  {
   "cell_type": "code",
   "execution_count": 28,
   "metadata": {},
   "outputs": [],
   "source": [
    "X = df.drop(columns=['Price'])\n",
    "y = df['Price']\n",
    "\n",
    "X_train, X_test, y_train, y_test = train_test_split(X, y, test_size=0.3, random_state=12345)"
   ]
  },
  {
   "cell_type": "code",
   "execution_count": 29,
   "metadata": {},
   "outputs": [],
   "source": [
    "object_columns = X_train.select_dtypes(['object']).columns\n",
    "X_train[object_columns] = X_train[object_columns].astype('category')\n",
    "\n",
    "object_columns = X_test.select_dtypes(['object']).columns\n",
    "X_test[object_columns] = X_test[object_columns].astype('category')"
   ]
  },
  {
   "cell_type": "markdown",
   "metadata": {},
   "source": [
    " \n",
    "\n",
    "\n",
    "<div class=\"alert alert-danger\">\n",
    "<font size=\"5\"><b>Комментарий ревьюера</b></font>\n",
    "\n",
    "Ошибка:\n",
    "\n",
    "    \n",
    "\n",
    "Верно что использовал .astype('category'), но зачем ты это делаешь на  features_train_ohe. Используй первоначальные данные, не преобразованные, LGMB сам их закодируют\n",
    "    "
   ]
  },
  {
   "cell_type": "markdown",
   "metadata": {},
   "source": [
    "<div class=\"alert alert-info\">\n",
    "<font size=\"5\"><b>Комментарий студента</b></font>\n",
    "    \n",
    "Исправлено."
   ]
  },
  {
   "cell_type": "code",
   "execution_count": 30,
   "metadata": {
    "scrolled": true
   },
   "outputs": [
    {
     "data": {
      "text/plain": [
       "\"\\n%%time\\n\\nparameters = {'n_estimators': [100, 500, 1000], \\n              'num_leaves': list(range(20, 300, 20))\\n              }\\n\\nlgb_gs = GridSearchCV(estimator=lgb.LGBMRegressor(random_state=12345),\\n                          param_grid=parameters,\\n                          scoring='neg_root_mean_squared_error',\\n                          cv=3,\\n                          verbose=3)\\n\\nlgb_gs.fit(X_train, y_train)\\ndisplay(lgb_gs.best_params_)\\ndisplay(lgb_gs.best_score_ * -1)\\n\""
      ]
     },
     "execution_count": 30,
     "metadata": {},
     "output_type": "execute_result"
    }
   ],
   "source": [
    "\"\"\"\n",
    "%%time\n",
    "\n",
    "parameters = {'n_estimators': [100, 500, 1000], \n",
    "              'num_leaves': list(range(20, 300, 20))\n",
    "              }\n",
    "\n",
    "lgb_gs = GridSearchCV(estimator=lgb.LGBMRegressor(random_state=12345),\n",
    "                          param_grid=parameters,\n",
    "                          scoring='neg_root_mean_squared_error',\n",
    "                          cv=3,\n",
    "                          verbose=3)\n",
    "\n",
    "lgb_gs.fit(X_train, y_train)\n",
    "display(lgb_gs.best_params_)\n",
    "display(lgb_gs.best_score_ * -1)\n",
    "\"\"\""
   ]
  },
  {
   "cell_type": "markdown",
   "metadata": {},
   "source": [
    "<div class=\"alert alert-success\">\n",
    "<font size=\"5\"><b>Комментарий ревьюера</b></font>\n",
    "\n",
    "Успех:\n",
    "\n",
    "\n",
    "\n",
    "\n",
    "\n",
    "\n",
    "Корректно использован GridSearch. Есть и другие варианты, тюнинга гиперпараметров, можешь [ознакомиться](https://www.freecodecamp.org/news/hyperparameter-optimization-techniques-machine-learning/). Выделю оptuna, очень много плюсов, причем изучение можно начать с [**OptunaSearchCV**](https://optuna.readthedocs.io/en/stable/reference/generated/optuna.integration.OptunaSearchCV.html). Интерфейс практически такой же, как у GridSearchCV, поэтому очень легко начать пользоваться\n",
    "Это для расширения кругозора, если вдруг не знал"
   ]
  },
  {
   "cell_type": "markdown",
   "metadata": {},
   "source": [
    "### Микровывод:\n",
    "\n",
    "Время подбора гиперпараметров оставляет желать лучшего, ещё никогда я не был так изнурён этим действием. Пока LightGBM имеет лучший показатель RMSE."
   ]
  },
  {
   "cell_type": "markdown",
   "metadata": {},
   "source": [
    "<div class=\"alert alert-warning\">\n",
    "<font size=\"5\"><b>Комментарий ревьюераV2</b></font>\n",
    "\n",
    "\n",
    "\n",
    "Совет 🤔:\n",
    "\n",
    "\n",
    "\n",
    "Понятно, значит моя рекомендация по .astype('category') не зашла. Возможно дело в версиях библиотек, потому что у меня таких проблем не было, всё обучается за пару минут\n"
   ]
  },
  {
   "cell_type": "markdown",
   "metadata": {},
   "source": [
    "## Анализ моделей"
   ]
  },
  {
   "cell_type": "markdown",
   "metadata": {},
   "source": [
    "#### Проанализируем время обучения для линейной регресии:"
   ]
  },
  {
   "cell_type": "code",
   "execution_count": 31,
   "metadata": {},
   "outputs": [
    {
     "name": "stdout",
     "output_type": "stream",
     "text": [
      "CPU times: user 16.1 s, sys: 6.33 s, total: 22.4 s\n",
      "Wall time: 22.4 s\n"
     ]
    },
    {
     "data": {
      "text/plain": [
       "LinearRegression()"
      ]
     },
     "execution_count": 31,
     "metadata": {},
     "output_type": "execute_result"
    }
   ],
   "source": [
    "%%time\n",
    "\n",
    "model = LinearRegression(fit_intercept=True, normalize=False)\n",
    "model.fit(features_train_ohe, target_train_ohe)"
   ]
  },
  {
   "cell_type": "markdown",
   "metadata": {},
   "source": [
    "#### Проанализируем время предсказания для линейной регресии:"
   ]
  },
  {
   "cell_type": "code",
   "execution_count": 32,
   "metadata": {},
   "outputs": [
    {
     "name": "stdout",
     "output_type": "stream",
     "text": [
      "CPU times: user 212 ms, sys: 198 ms, total: 410 ms\n",
      "Wall time: 399 ms\n"
     ]
    }
   ],
   "source": [
    "%%time\n",
    "\n",
    "predictions_test_ohe = model.predict(features_train_ohe)"
   ]
  },
  {
   "cell_type": "markdown",
   "metadata": {},
   "source": [
    "#### Проанализируем время обучения для случайного леса:"
   ]
  },
  {
   "cell_type": "code",
   "execution_count": 33,
   "metadata": {
    "scrolled": true
   },
   "outputs": [
    {
     "name": "stdout",
     "output_type": "stream",
     "text": [
      "CPU times: user 2min 56s, sys: 304 ms, total: 2min 56s\n",
      "Wall time: 2min 56s\n"
     ]
    },
    {
     "data": {
      "text/plain": [
       "RandomForestRegressor(max_depth=9, n_estimators=500, random_state=12345)"
      ]
     },
     "execution_count": 33,
     "metadata": {},
     "output_type": "execute_result"
    }
   ],
   "source": [
    "%%time\n",
    "\n",
    "model = RandomForestRegressor(random_state=12345, max_depth=9, n_estimators=500)\n",
    "model.fit(features_train_oe, target_train_oe)"
   ]
  },
  {
   "cell_type": "markdown",
   "metadata": {},
   "source": [
    "#### Проанализируем время предсказания для случайного леса:"
   ]
  },
  {
   "cell_type": "code",
   "execution_count": 34,
   "metadata": {},
   "outputs": [
    {
     "name": "stdout",
     "output_type": "stream",
     "text": [
      "CPU times: user 8.68 s, sys: 16.5 ms, total: 8.69 s\n",
      "Wall time: 8.71 s\n"
     ]
    }
   ],
   "source": [
    "%%time\n",
    "\n",
    "predictions_test_oe = model.predict(features_train_oe)"
   ]
  },
  {
   "cell_type": "markdown",
   "metadata": {},
   "source": [
    "#### Проанализируем время обучения для LGBM:"
   ]
  },
  {
   "cell_type": "code",
   "execution_count": null,
   "metadata": {
    "scrolled": true
   },
   "outputs": [],
   "source": [
    "%%time\n",
    "\n",
    "model = lgb.LGBMRegressor(random_state=12345, n_estimators=500, num_leaves=120)\n",
    "model.fit(X_train, y_train)"
   ]
  },
  {
   "cell_type": "markdown",
   "metadata": {},
   "source": [
    "#### Проанализируем время предсказания для LGBM:"
   ]
  },
  {
   "cell_type": "code",
   "execution_count": null,
   "metadata": {
    "scrolled": false
   },
   "outputs": [],
   "source": [
    "%%time\n",
    "\n",
    "predictions_test = model.predict(X_test)"
   ]
  },
  {
   "cell_type": "markdown",
   "metadata": {},
   "source": [
    "<div class=\"alert alert-success\">\n",
    "<font size=\"5\"><b>Комментарий ревьюера</b></font>\n",
    "\n",
    "Успех:\n",
    "\n",
    "    \n",
    "\n",
    "Время замерено, это может быть важным критерием при выборе модели, особенно в продакшн\n",
    "    \n",
    "  \n",
    "\n",
    " \n",
    "\n",
    "\n",
    "<div class=\"alert alert-warning\">\n",
    "\n",
    "\n",
    "Совет 🤔:\n",
    "\n",
    "\n",
    "\n",
    "- По логике моделирования пока не выберем лучшую модель для финального тестирования тестовой выборки для нас не существует. Но так как ты её используешь для того чтобы замерить время прогноза, то здесь ошибки не вижу, в отличие от того что ты сделал ниже    \n",
    "    \n",
    "    \n",
    "- Ты использовал магическую функцию %%time, а зачем вручную знаносил время сюда.  Можно было использовать библиотеку time, и время работы модели записать в переменную,\n",
    "\n"
   ]
  },
  {
   "cell_type": "code",
   "execution_count": null,
   "metadata": {},
   "outputs": [],
   "source": [
    "print(mean_squared_error(y_test, predictions_test) ** 0.5)"
   ]
  },
  {
   "cell_type": "markdown",
   "metadata": {},
   "source": [
    "### Микровывод:\n",
    "\n",
    "LightGBM имеет лучший показатель RMSE."
   ]
  },
  {
   "cell_type": "markdown",
   "metadata": {},
   "source": [
    "\n",
    "<div class=\"alert alert-danger\">\n",
    "<font size=\"5\"><b>Комментарий ревьюера</b></font>\n",
    "\n",
    "К данному этапу мы должны подойти с одной выбранной моделью. Нияз, о логике использования датасетов:\n",
    "    \n",
    "1. На train мы обучаем\n",
    "2. По валидации (в твоем случаи кроссвалидации) смотрим на результаты обучения (следим чтобы не было переобучения и/или делаем подбор гиперпараметров).  И выбираем лучшую модель. \n",
    "3. Тестовая (out-of_sample) у нас для финальной проверки. \n",
    "\n",
    "А как сделал ты может сложиться впечатление что мы на тестовой по прежнему что то выбираем, но выбор сделан, и если RF покажет на test результат хуже требуемого, мы начнем процесс моделирования сначала.\n",
    "    \n",
    " [Вот](https://towardsdatascience.com/why-do-we-need-a-validation-set-in-addition-to-training-and-test-sets-5cf4a65550e0   ) тут можно дополнительно почитать.\n",
    "\n",
    "    \n",
    "Если своими словами, почему Тестируем только лучшую модель!?     \n",
    "Это делается для того, чтобы мы даже незначительным образом не \"подгонялись\" под тестовую выборку. Ведь на train модели обучаются, по валидиации подгоняются гиперпараметры. Эти данные модели \"знают\". А test (out-of-sample) это уже моделирование прогноза на реальных данных и ситуации когда у нас есть уже лучшая модель (в реальности у нас же не может быть несколько прогнозов, что то в любом случаи надо выбирать). Вот поэтому такая двухуровневая проверка на подгонку. Кроме того использование мноих моделей с разными гиперпараметрами это тоже подгонка, поэтому выбирая одну и тестируя только ее, мы тем самым боремся с подгонкой через использование многих-многих моделей, когда результат хорош не потому что мы данные почистили хорошо, моделировали правильно итд итп, а потому что из многих моделей хоть какая то случайно \"сыграет\".      "
   ]
  },
  {
   "cell_type": "markdown",
   "metadata": {},
   "source": [
    "<div class=\"alert alert-info\">\n",
    "<font size=\"5\"><b>Комментарий студента</b></font>\n",
    "    \n",
    "Исправлено. Замерю время предсказаний на трейн выборке, чтобы не создавалось впечатления второго отбора. А лучшую модель (LGBM) проверю на тестовой."
   ]
  },
  {
   "cell_type": "markdown",
   "metadata": {},
   "source": [
    "<div class=\"alert alert-success\">\n",
    "<font size=\"5\"><b>Комментарий ревьюераV2</b></font>\n",
    "\n",
    "\n",
    "\n",
    "Успех 👍:\n",
    "\n",
    "\n",
    "\n",
    "👍\n",
    "\n",
    "\n",
    "\n",
    "\n",
    "</div>\n"
   ]
  },
  {
   "cell_type": "markdown",
   "metadata": {},
   "source": [
    "## Чек-лист проверки"
   ]
  },
  {
   "cell_type": "markdown",
   "metadata": {},
   "source": [
    "Поставьте 'x' в выполненных пунктах. Далее нажмите Shift+Enter."
   ]
  },
  {
   "cell_type": "markdown",
   "metadata": {},
   "source": [
    "- [x]  Jupyter Notebook открыт\n",
    "- [x]  Весь код выполняется без ошибок\n",
    "- [x]  Ячейки с кодом расположены в порядке исполнения\n",
    "- [x]  Выполнена загрузка и подготовка данных\n",
    "- [x]  Выполнено обучение моделей\n",
    "- [x]  Есть анализ скорости работы и качества моделей"
   ]
  },
  {
   "cell_type": "markdown",
   "metadata": {},
   "source": [
    "## Вывод:\n",
    "\n",
    "В результате работы надо проектом было выполнено следующее:\n",
    "\n",
    "### Предобработка данных:\n",
    "\n",
    "* Ознакомились с данными\n",
    "\n",
    "* Вывели графики по числовым признакам, а так же взглянули на них методом describe\n",
    "\n",
    "* Разобрались с пропусками, аномалиями и дубликатами\n",
    "\n",
    "* Удалили столбцы, которые не несут информативного характера\n",
    "\n",
    "### Обучили модели:\n",
    "\n",
    "* Использовали следующие модели: *Линейная регрессия, случайный лес и LightGBM*\n",
    "\n",
    "* Закодировали категориальные признаки в зависимости от обучаемых моделей\n",
    "\n",
    "* При помощи сетки подобрали наилучший набор гиперпараметров и отследили время подбора\n",
    "\n",
    "* Ознакомились с качеством предсказаний наших моделей\n",
    "\n",
    "### Проанализировали модели:\n",
    "\n",
    "* По каждой модели вывели время её обучения и предсказания\n",
    "\n",
    "* Дольше всего работа выполнялась над случайным лесом\n",
    "\n",
    "### Итог:\n",
    "\n",
    "Лучший результат по качеству показал LightGBM:\n",
    "\n",
    "* Время обучения: CPU times: user 1min 16s, sys: 930 ms, total: 1min 17s; Wall time: 1min 18s\n",
    "\n",
    "* Время предсказания: CPU times: user 10.3 s, sys: 63.5 ms, total: 10.4 s; Wall time: 10.3 s\n",
    "\n",
    "* RMSE: 1577.1385827911122"
   ]
  },
  {
   "cell_type": "markdown",
   "metadata": {},
   "source": [
    " \n",
    "\n",
    "<div class=\"alert alert-success\">\n",
    "<font size=\"5\"><b>Комментарий ревьюера</b></font>\n",
    "\n",
    "Успех:\n",
    "\n",
    "\n",
    "Нияз, здорово что в конце расписаны все этапы работы. Это важно потому что когда проект захочет посмотреть будущий работодатель (или начальник), у него может не быть времени на подробный разбор кода. Вероятнее всего он бегло просмотрит код, а из общего вывода захочет получить представление о всей работе.\n",
    "\n"
   ]
  },
  {
   "cell_type": "markdown",
   "metadata": {},
   "source": [
    " \n",
    "\n",
    "<div class=\"alert alert-info\">\n",
    "<font size=\"5\"><b>Комментарий ревьюера</b></font>\n",
    "\n",
    "\n",
    "Нияз, у тебя старательно выполненная работа, все четко, осмысленно. Здорово что для подбора гиперпараметров используешь GS, оставил советы по использованию его в связке с pipeline. Хорошо поработал с данными\n",
    "\n",
    "\n",
    "    \n",
    " \n",
    "\n",
    "\n",
    "Я оставил небольшие советы и вопросики (если есть время и желание можешь воспользоваться/ответить)\n",
    "    \n",
    "\n",
    "    \n",
    "В частности бы обратил внимание на возможность использование pipeline+ColumnsTransformer (ColumnsTransformer Подойдёт для  линейной регрессии). Тут ты и сбежишь утечки данных и код станет солиднее и лаконичнее.  Если есть время и желание предлагаю изучить эту тему    \n",
    "    \n",
    "\n",
    "Обязательное к исправлению:\n",
    "\n",
    "\n",
    "    \n",
    " \n",
    "- импорты собираем в одну ячейку, ненужно, дубли убираем - экономим память и соблюдаем чистоту кода\n",
    "    \n",
    " \n",
    "\n",
    "- стоит обратить внимание что верхняя граница — 2016 год - год выгрузки базы\n",
    "\n",
    "    \n",
    "    \n",
    "- 'petrol' и 'gasoline' то   название одного и того же в разных странах        \n",
    "\n",
    "    \n",
    "    \n",
    " - 13 месяцев - это аномалия, это ты пропустил\n",
    "    \n",
    "    \n",
    "    \n",
    "- раз ты  используешь линейную модель стоит сделать проверку на мультиколлинеарность    \n",
    "    \n",
    "    \n",
    "    \n",
    "    \n",
    "    \n",
    "- для бустингов не стоит использовать OneHotEncoder()/.get_dummies (и у catboost и lighgbm cвоя техника работы с категрилаьными, нужно только указать на них)\n",
    "    \n",
    "    \n",
    "    \n",
    "  \n",
    "\n",
    "- на test датасете тестируем только лучшую модель,  а для выбора лучше модели для финального тестирования не использую метрику на тренировочной (нарушена логика использования датасетов при моделировании)\n",
    "\n",
    "    \n",
    "    \n",
    "    \n",
    "    \n",
    "Жду исправлений, для принятия проекта. Если какие то вопросы, то сразу спрашивай ) \n",
    "\n",
    "\n",
    "</div>\n"
   ]
  },
  {
   "cell_type": "markdown",
   "metadata": {},
   "source": [
    "\n",
    "<div class=\"alert alert-info\">\n",
    "<font size=\"5\"><b>Комментарий ревьюераV2</b></font>\n",
    "\n",
    "Спасибо за работу!    \n",
    "\n",
    "    \n",
    "\n",
    "Красного нет, вопросов нет, значит все, пора принимать) Надеюсь мои советы и вопросики были полезны и в копилочку знаний упало что то новое, а проект стал лучше, и симпатичней.\n",
    "\n",
    "  \n",
    "Отличная работа Нияз. Желаю успехов в дальнейшей учебе!\n",
    "\n",
    "\n",
    "</div>"
   ]
  },
  {
   "cell_type": "code",
   "execution_count": null,
   "metadata": {},
   "outputs": [],
   "source": []
  }
 ],
 "metadata": {
  "ExecuteTimeLog": [
   {
    "duration": 48,
    "start_time": "2024-03-02T20:17:38.153Z"
   },
   {
    "duration": 1752,
    "start_time": "2024-03-02T20:17:44.383Z"
   },
   {
    "duration": 2915,
    "start_time": "2024-03-02T20:17:47.138Z"
   },
   {
    "duration": 17,
    "start_time": "2024-03-02T20:18:04.141Z"
   },
   {
    "duration": 172,
    "start_time": "2024-03-02T20:18:54.350Z"
   },
   {
    "duration": 5,
    "start_time": "2024-03-02T20:34:35.782Z"
   },
   {
    "duration": 4,
    "start_time": "2024-03-02T20:34:40.538Z"
   },
   {
    "duration": 1882,
    "start_time": "2024-03-02T20:35:29.533Z"
   },
   {
    "duration": 249,
    "start_time": "2024-03-02T20:35:40.094Z"
   },
   {
    "duration": 279,
    "start_time": "2024-03-02T20:38:53.162Z"
   },
   {
    "duration": 254,
    "start_time": "2024-03-02T20:38:54.106Z"
   },
   {
    "duration": 1524,
    "start_time": "2024-03-02T20:39:05.444Z"
   },
   {
    "duration": 900,
    "start_time": "2024-03-02T20:39:06.970Z"
   },
   {
    "duration": 20,
    "start_time": "2024-03-02T20:39:07.872Z"
   },
   {
    "duration": 189,
    "start_time": "2024-03-02T20:39:07.894Z"
   },
   {
    "duration": 367,
    "start_time": "2024-03-02T20:39:08.085Z"
   },
   {
    "duration": 162,
    "start_time": "2024-03-02T20:39:08.454Z"
   },
   {
    "duration": 161,
    "start_time": "2024-03-02T20:39:23.292Z"
   },
   {
    "duration": 321,
    "start_time": "2024-03-02T20:41:23.034Z"
   },
   {
    "duration": 180,
    "start_time": "2024-03-02T20:41:24.402Z"
   },
   {
    "duration": 435,
    "start_time": "2024-03-02T20:42:24.101Z"
   },
   {
    "duration": 425,
    "start_time": "2024-03-02T20:42:34.637Z"
   },
   {
    "duration": 893,
    "start_time": "2024-03-02T20:43:04.632Z"
   },
   {
    "duration": 908,
    "start_time": "2024-03-02T20:43:14.185Z"
   },
   {
    "duration": 125,
    "start_time": "2024-03-02T20:43:29.203Z"
   },
   {
    "duration": 9,
    "start_time": "2024-03-02T20:44:34.892Z"
   },
   {
    "duration": 9,
    "start_time": "2024-03-02T20:44:52.689Z"
   },
   {
    "duration": 9,
    "start_time": "2024-03-02T20:45:03.632Z"
   },
   {
    "duration": 10,
    "start_time": "2024-03-02T20:45:18.821Z"
   },
   {
    "duration": 5,
    "start_time": "2024-03-02T20:46:26.221Z"
   },
   {
    "duration": 8,
    "start_time": "2024-03-02T20:46:37.350Z"
   },
   {
    "duration": 298,
    "start_time": "2024-03-02T20:46:42.350Z"
   },
   {
    "duration": 299,
    "start_time": "2024-03-02T20:46:45.516Z"
   },
   {
    "duration": 312,
    "start_time": "2024-03-02T20:46:54.191Z"
   },
   {
    "duration": 1545,
    "start_time": "2024-03-02T20:51:20.751Z"
   },
   {
    "duration": 911,
    "start_time": "2024-03-02T20:51:22.298Z"
   },
   {
    "duration": 17,
    "start_time": "2024-03-02T20:51:23.210Z"
   },
   {
    "duration": 57,
    "start_time": "2024-03-02T20:51:23.228Z"
   },
   {
    "duration": 117,
    "start_time": "2024-03-02T20:51:23.287Z"
   },
   {
    "duration": 365,
    "start_time": "2024-03-02T20:51:23.406Z"
   },
   {
    "duration": 120,
    "start_time": "2024-03-02T20:51:23.773Z"
   },
   {
    "duration": 169,
    "start_time": "2024-03-02T20:51:23.894Z"
   },
   {
    "duration": 346,
    "start_time": "2024-03-02T20:51:24.065Z"
   },
   {
    "duration": 127,
    "start_time": "2024-03-02T20:51:24.413Z"
   },
   {
    "duration": 67,
    "start_time": "2024-03-02T20:51:42.758Z"
   },
   {
    "duration": 28,
    "start_time": "2024-03-02T20:55:34.073Z"
   },
   {
    "duration": 66,
    "start_time": "2024-03-02T20:55:34.942Z"
   },
   {
    "duration": 123,
    "start_time": "2024-03-02T20:55:36.911Z"
   },
   {
    "duration": 1603,
    "start_time": "2024-03-02T20:56:47.414Z"
   },
   {
    "duration": 977,
    "start_time": "2024-03-02T20:56:49.019Z"
   },
   {
    "duration": 19,
    "start_time": "2024-03-02T20:56:49.997Z"
   },
   {
    "duration": 63,
    "start_time": "2024-03-02T20:56:50.018Z"
   },
   {
    "duration": 33,
    "start_time": "2024-03-02T20:56:50.084Z"
   },
   {
    "duration": 78,
    "start_time": "2024-03-02T20:56:50.118Z"
   },
   {
    "duration": 2651,
    "start_time": "2024-03-02T20:56:50.198Z"
   },
   {
    "duration": 0,
    "start_time": "2024-03-02T20:56:52.850Z"
   },
   {
    "duration": 0,
    "start_time": "2024-03-02T20:56:52.852Z"
   },
   {
    "duration": 0,
    "start_time": "2024-03-02T20:56:52.853Z"
   },
   {
    "duration": 0,
    "start_time": "2024-03-02T20:56:52.854Z"
   },
   {
    "duration": 0,
    "start_time": "2024-03-02T20:56:52.855Z"
   },
   {
    "duration": 0,
    "start_time": "2024-03-02T20:56:52.856Z"
   },
   {
    "duration": 12,
    "start_time": "2024-03-02T20:59:04.311Z"
   },
   {
    "duration": 11,
    "start_time": "2024-03-02T20:59:21.372Z"
   },
   {
    "duration": 11,
    "start_time": "2024-03-02T20:59:28.911Z"
   },
   {
    "duration": 14,
    "start_time": "2024-03-02T21:00:52.131Z"
   },
   {
    "duration": 1516,
    "start_time": "2024-03-02T21:01:31.022Z"
   },
   {
    "duration": 926,
    "start_time": "2024-03-02T21:01:32.540Z"
   },
   {
    "duration": 21,
    "start_time": "2024-03-02T21:01:33.468Z"
   },
   {
    "duration": 34,
    "start_time": "2024-03-02T21:01:33.491Z"
   },
   {
    "duration": 24,
    "start_time": "2024-03-02T21:01:33.528Z"
   },
   {
    "duration": 94,
    "start_time": "2024-03-02T21:01:33.553Z"
   },
   {
    "duration": 81738,
    "start_time": "2024-03-02T21:01:33.649Z"
   },
   {
    "duration": 112,
    "start_time": "2024-03-02T21:02:55.388Z"
   },
   {
    "duration": 331,
    "start_time": "2024-03-02T21:02:55.501Z"
   },
   {
    "duration": 116,
    "start_time": "2024-03-02T21:02:55.834Z"
   },
   {
    "duration": 198,
    "start_time": "2024-03-02T21:02:55.952Z"
   },
   {
    "duration": 363,
    "start_time": "2024-03-02T21:02:56.152Z"
   },
   {
    "duration": 133,
    "start_time": "2024-03-02T21:02:56.516Z"
   },
   {
    "duration": 1704,
    "start_time": "2024-03-02T21:09:43.470Z"
   },
   {
    "duration": 93,
    "start_time": "2024-03-02T21:10:09.030Z"
   },
   {
    "duration": 13,
    "start_time": "2024-03-02T21:11:21.774Z"
   },
   {
    "duration": 9,
    "start_time": "2024-03-02T21:11:25.861Z"
   },
   {
    "duration": 100,
    "start_time": "2024-03-02T21:11:47.702Z"
   },
   {
    "duration": 9,
    "start_time": "2024-03-02T21:11:51.827Z"
   },
   {
    "duration": 11,
    "start_time": "2024-03-02T21:12:43.602Z"
   },
   {
    "duration": 10,
    "start_time": "2024-03-02T21:13:29.068Z"
   },
   {
    "duration": 1540,
    "start_time": "2024-03-02T21:13:58.142Z"
   },
   {
    "duration": 26,
    "start_time": "2024-03-02T21:14:08.105Z"
   },
   {
    "duration": 171,
    "start_time": "2024-03-02T21:14:27.331Z"
   },
   {
    "duration": 1492,
    "start_time": "2024-03-02T21:14:44.714Z"
   },
   {
    "duration": 961,
    "start_time": "2024-03-02T21:14:46.208Z"
   },
   {
    "duration": 23,
    "start_time": "2024-03-02T21:14:47.171Z"
   },
   {
    "duration": 50,
    "start_time": "2024-03-02T21:14:47.195Z"
   },
   {
    "duration": 37,
    "start_time": "2024-03-02T21:14:47.247Z"
   },
   {
    "duration": 83,
    "start_time": "2024-03-02T21:14:47.286Z"
   },
   {
    "duration": 1491,
    "start_time": "2024-03-02T21:15:22.483Z"
   },
   {
    "duration": 985,
    "start_time": "2024-03-02T21:15:23.975Z"
   },
   {
    "duration": 22,
    "start_time": "2024-03-02T21:15:24.961Z"
   },
   {
    "duration": 48,
    "start_time": "2024-03-02T21:15:24.985Z"
   },
   {
    "duration": 30,
    "start_time": "2024-03-02T21:15:25.036Z"
   },
   {
    "duration": 80,
    "start_time": "2024-03-02T21:15:25.068Z"
   },
   {
    "duration": 75264,
    "start_time": "2024-03-02T21:15:25.150Z"
   },
   {
    "duration": 8,
    "start_time": "2024-03-02T21:16:40.416Z"
   },
   {
    "duration": 32,
    "start_time": "2024-03-02T21:16:40.426Z"
   },
   {
    "duration": 22,
    "start_time": "2024-03-02T21:16:40.459Z"
   },
   {
    "duration": 117,
    "start_time": "2024-03-02T21:16:40.483Z"
   },
   {
    "duration": 107,
    "start_time": "2024-03-02T21:16:40.601Z"
   },
   {
    "duration": 323,
    "start_time": "2024-03-02T21:16:40.709Z"
   },
   {
    "duration": 117,
    "start_time": "2024-03-02T21:16:41.035Z"
   },
   {
    "duration": 182,
    "start_time": "2024-03-02T21:16:41.153Z"
   },
   {
    "duration": 336,
    "start_time": "2024-03-02T21:16:41.336Z"
   },
   {
    "duration": 131,
    "start_time": "2024-03-02T21:16:41.674Z"
   },
   {
    "duration": 91,
    "start_time": "2024-03-02T21:18:31.124Z"
   },
   {
    "duration": 210,
    "start_time": "2024-03-02T21:19:23.712Z"
   },
   {
    "duration": 102,
    "start_time": "2024-03-02T21:19:42.864Z"
   },
   {
    "duration": 103,
    "start_time": "2024-03-02T21:19:53.282Z"
   },
   {
    "duration": 1650,
    "start_time": "2024-03-02T21:21:06.662Z"
   },
   {
    "duration": 7,
    "start_time": "2024-03-02T21:21:16.982Z"
   },
   {
    "duration": 30,
    "start_time": "2024-03-02T21:21:53.282Z"
   },
   {
    "duration": 6,
    "start_time": "2024-03-02T21:21:54.322Z"
   },
   {
    "duration": 11,
    "start_time": "2024-03-02T21:21:55.034Z"
   },
   {
    "duration": 1508,
    "start_time": "2024-03-02T21:24:05.754Z"
   },
   {
    "duration": 969,
    "start_time": "2024-03-02T21:24:07.264Z"
   },
   {
    "duration": 18,
    "start_time": "2024-03-02T21:24:08.235Z"
   },
   {
    "duration": 53,
    "start_time": "2024-03-02T21:24:08.254Z"
   },
   {
    "duration": 24,
    "start_time": "2024-03-02T21:24:08.310Z"
   },
   {
    "duration": 88,
    "start_time": "2024-03-02T21:24:08.335Z"
   },
   {
    "duration": 81711,
    "start_time": "2024-03-02T21:24:08.425Z"
   },
   {
    "duration": 9,
    "start_time": "2024-03-02T21:25:30.138Z"
   },
   {
    "duration": 373,
    "start_time": "2024-03-02T21:25:30.148Z"
   },
   {
    "duration": 92,
    "start_time": "2024-03-02T21:25:30.522Z"
   },
   {
    "duration": 183,
    "start_time": "2024-03-02T21:25:30.615Z"
   },
   {
    "duration": 7,
    "start_time": "2024-03-02T21:25:30.800Z"
   },
   {
    "duration": 198,
    "start_time": "2024-03-02T21:25:30.808Z"
   },
   {
    "duration": 0,
    "start_time": "2024-03-02T21:25:31.008Z"
   },
   {
    "duration": 0,
    "start_time": "2024-03-02T21:25:31.009Z"
   },
   {
    "duration": 0,
    "start_time": "2024-03-02T21:25:31.010Z"
   },
   {
    "duration": 0,
    "start_time": "2024-03-02T21:25:31.012Z"
   },
   {
    "duration": 0,
    "start_time": "2024-03-02T21:25:31.013Z"
   },
   {
    "duration": 0,
    "start_time": "2024-03-02T21:25:31.014Z"
   },
   {
    "duration": 11,
    "start_time": "2024-03-02T21:30:53.051Z"
   },
   {
    "duration": 28,
    "start_time": "2024-03-02T21:31:03.431Z"
   },
   {
    "duration": 99,
    "start_time": "2024-03-02T21:31:04.362Z"
   },
   {
    "duration": 31,
    "start_time": "2024-03-02T21:35:25.721Z"
   },
   {
    "duration": 102,
    "start_time": "2024-03-02T21:37:06.527Z"
   },
   {
    "duration": 1511,
    "start_time": "2024-03-02T21:37:13.702Z"
   },
   {
    "duration": 925,
    "start_time": "2024-03-02T21:37:15.215Z"
   },
   {
    "duration": 18,
    "start_time": "2024-03-02T21:37:16.141Z"
   },
   {
    "duration": 50,
    "start_time": "2024-03-02T21:37:16.161Z"
   },
   {
    "duration": 24,
    "start_time": "2024-03-02T21:37:16.213Z"
   },
   {
    "duration": 89,
    "start_time": "2024-03-02T21:37:16.238Z"
   },
   {
    "duration": 82645,
    "start_time": "2024-03-02T21:37:16.329Z"
   },
   {
    "duration": 8,
    "start_time": "2024-03-02T21:38:38.976Z"
   },
   {
    "duration": 24,
    "start_time": "2024-03-02T21:38:38.986Z"
   },
   {
    "duration": 7,
    "start_time": "2024-03-02T21:38:39.012Z"
   },
   {
    "duration": 129,
    "start_time": "2024-03-02T21:38:39.020Z"
   },
   {
    "duration": 6,
    "start_time": "2024-03-02T21:38:39.150Z"
   },
   {
    "duration": 43,
    "start_time": "2024-03-02T21:38:39.158Z"
   },
   {
    "duration": 110,
    "start_time": "2024-03-02T21:38:39.204Z"
   },
   {
    "duration": 319,
    "start_time": "2024-03-02T21:38:39.315Z"
   },
   {
    "duration": 111,
    "start_time": "2024-03-02T21:38:39.636Z"
   },
   {
    "duration": 169,
    "start_time": "2024-03-02T21:38:39.749Z"
   },
   {
    "duration": 327,
    "start_time": "2024-03-02T21:38:39.919Z"
   },
   {
    "duration": 109,
    "start_time": "2024-03-02T21:38:40.248Z"
   },
   {
    "duration": 673,
    "start_time": "2024-03-02T21:49:42.850Z"
   },
   {
    "duration": 659,
    "start_time": "2024-03-02T21:50:01.068Z"
   },
   {
    "duration": 485,
    "start_time": "2024-03-02T21:51:47.943Z"
   },
   {
    "duration": 408,
    "start_time": "2024-03-02T21:52:21.865Z"
   },
   {
    "duration": 388,
    "start_time": "2024-03-02T21:52:43.669Z"
   },
   {
    "duration": 119,
    "start_time": "2024-03-02T21:58:07.831Z"
   },
   {
    "duration": 3,
    "start_time": "2024-03-02T21:58:30.736Z"
   },
   {
    "duration": 216,
    "start_time": "2024-03-02T21:58:31.411Z"
   },
   {
    "duration": 18,
    "start_time": "2024-03-02T21:59:24.107Z"
   },
   {
    "duration": 15,
    "start_time": "2024-03-02T22:09:20.834Z"
   },
   {
    "duration": 3,
    "start_time": "2024-03-02T22:10:01.389Z"
   },
   {
    "duration": 26066,
    "start_time": "2024-03-02T22:10:04.618Z"
   },
   {
    "duration": 4,
    "start_time": "2024-03-02T22:14:53.561Z"
   },
   {
    "duration": 4,
    "start_time": "2024-03-02T22:15:01.739Z"
   },
   {
    "duration": 11,
    "start_time": "2024-03-02T22:15:06.558Z"
   },
   {
    "duration": 104,
    "start_time": "2024-03-02T22:15:10.383Z"
   },
   {
    "duration": 3,
    "start_time": "2024-03-02T22:15:14.152Z"
   },
   {
    "duration": 11,
    "start_time": "2024-03-02T22:16:52.342Z"
   },
   {
    "duration": 3,
    "start_time": "2024-03-02T22:17:26.858Z"
   },
   {
    "duration": 3019,
    "start_time": "2024-03-02T22:17:29.061Z"
   },
   {
    "duration": 730,
    "start_time": "2024-03-02T22:17:51.961Z"
   },
   {
    "duration": 750,
    "start_time": "2024-03-02T22:18:43.321Z"
   },
   {
    "duration": 288,
    "start_time": "2024-03-02T22:19:44.979Z"
   },
   {
    "duration": 289,
    "start_time": "2024-03-02T22:20:02.291Z"
   },
   {
    "duration": 2,
    "start_time": "2024-03-02T22:23:32.213Z"
   },
   {
    "duration": 12,
    "start_time": "2024-03-02T22:30:12.232Z"
   },
   {
    "duration": 17,
    "start_time": "2024-03-02T22:30:35.825Z"
   },
   {
    "duration": 19,
    "start_time": "2024-03-02T22:31:30.600Z"
   },
   {
    "duration": 1560,
    "start_time": "2024-03-02T22:31:46.966Z"
   },
   {
    "duration": 982,
    "start_time": "2024-03-02T22:31:48.528Z"
   },
   {
    "duration": 17,
    "start_time": "2024-03-02T22:31:49.512Z"
   },
   {
    "duration": 50,
    "start_time": "2024-03-02T22:31:49.531Z"
   },
   {
    "duration": 25,
    "start_time": "2024-03-02T22:31:49.583Z"
   },
   {
    "duration": 89,
    "start_time": "2024-03-02T22:31:49.610Z"
   },
   {
    "duration": 82508,
    "start_time": "2024-03-02T22:31:49.701Z"
   },
   {
    "duration": 10,
    "start_time": "2024-03-02T22:33:12.211Z"
   },
   {
    "duration": 24,
    "start_time": "2024-03-02T22:33:12.223Z"
   },
   {
    "duration": 32,
    "start_time": "2024-03-02T22:33:12.249Z"
   },
   {
    "duration": 115,
    "start_time": "2024-03-02T22:33:12.283Z"
   },
   {
    "duration": 6,
    "start_time": "2024-03-02T22:33:12.400Z"
   },
   {
    "duration": 30,
    "start_time": "2024-03-02T22:33:12.408Z"
   },
   {
    "duration": 140,
    "start_time": "2024-03-02T22:33:12.440Z"
   },
   {
    "duration": 315,
    "start_time": "2024-03-02T22:33:12.582Z"
   },
   {
    "duration": 117,
    "start_time": "2024-03-02T22:33:12.898Z"
   },
   {
    "duration": 164,
    "start_time": "2024-03-02T22:33:13.016Z"
   },
   {
    "duration": 329,
    "start_time": "2024-03-02T22:33:13.182Z"
   },
   {
    "duration": 111,
    "start_time": "2024-03-02T22:33:13.513Z"
   },
   {
    "duration": 648,
    "start_time": "2024-03-02T22:33:13.625Z"
   },
   {
    "duration": 514,
    "start_time": "2024-03-02T22:33:14.274Z"
   },
   {
    "duration": 3,
    "start_time": "2024-03-02T22:33:14.789Z"
   },
   {
    "duration": 201,
    "start_time": "2024-03-02T22:33:14.793Z"
   },
   {
    "duration": 17,
    "start_time": "2024-03-02T22:33:14.995Z"
   },
   {
    "duration": 19267,
    "start_time": "2024-03-02T22:33:15.014Z"
   },
   {
    "duration": 3,
    "start_time": "2024-03-02T22:33:34.283Z"
   },
   {
    "duration": 712,
    "start_time": "2024-03-02T22:33:34.289Z"
   },
   {
    "duration": 141,
    "start_time": "2024-03-02T22:33:35.003Z"
   },
   {
    "duration": 17023,
    "start_time": "2024-03-02T22:33:48.897Z"
   },
   {
    "duration": 1063,
    "start_time": "2024-03-02T22:34:44.340Z"
   },
   {
    "duration": 606512,
    "start_time": "2024-03-02T22:34:48.504Z"
   },
   {
    "duration": 78573,
    "start_time": "2024-03-02T22:44:56.608Z"
   },
   {
    "duration": 0,
    "start_time": "2024-03-02T22:47:19.664Z"
   },
   {
    "duration": 13,
    "start_time": "2024-03-02T22:47:21.382Z"
   },
   {
    "duration": 15251,
    "start_time": "2024-03-02T22:47:34.142Z"
   },
   {
    "duration": 34621,
    "start_time": "2024-03-02T22:47:52.084Z"
   },
   {
    "duration": 909553,
    "start_time": "2024-03-02T22:48:37.453Z"
   },
   {
    "duration": 0,
    "start_time": "2024-03-02T23:03:47.008Z"
   },
   {
    "duration": 125506,
    "start_time": "2024-03-02T23:04:21.814Z"
   },
   {
    "duration": 50124,
    "start_time": "2024-03-02T23:06:27.819Z"
   },
   {
    "duration": 933734,
    "start_time": "2024-03-02T23:08:44.511Z"
   },
   {
    "duration": 5,
    "start_time": "2024-03-02T23:24:18.246Z"
   },
   {
    "duration": 12651,
    "start_time": "2024-03-02T23:24:18.253Z"
   },
   {
    "duration": 8,
    "start_time": "2024-03-02T23:24:48.396Z"
   },
   {
    "duration": 19304,
    "start_time": "2024-03-02T23:24:51.981Z"
   },
   {
    "duration": 118,
    "start_time": "2024-03-02T23:25:16.065Z"
   },
   {
    "duration": 304537,
    "start_time": "2024-03-02T23:25:38.595Z"
   },
   {
    "duration": 6963,
    "start_time": "2024-03-02T23:30:43.134Z"
   },
   {
    "duration": 78398,
    "start_time": "2024-03-02T23:30:50.099Z"
   },
   {
    "duration": 130,
    "start_time": "2024-03-02T23:32:08.499Z"
   },
   {
    "duration": 10355,
    "start_time": "2024-03-02T23:32:18.885Z"
   },
   {
    "duration": 7,
    "start_time": "2024-03-02T23:32:32.900Z"
   },
   {
    "duration": 7,
    "start_time": "2024-03-02T23:32:49.464Z"
   },
   {
    "duration": 1532,
    "start_time": "2024-03-02T23:35:06.076Z"
   },
   {
    "duration": 957,
    "start_time": "2024-03-02T23:35:07.610Z"
   },
   {
    "duration": 23,
    "start_time": "2024-03-02T23:35:08.569Z"
   },
   {
    "duration": 47,
    "start_time": "2024-03-02T23:35:08.594Z"
   },
   {
    "duration": 46,
    "start_time": "2024-03-02T23:35:08.644Z"
   },
   {
    "duration": 88,
    "start_time": "2024-03-02T23:35:08.692Z"
   },
   {
    "duration": 81808,
    "start_time": "2024-03-02T23:35:08.782Z"
   },
   {
    "duration": 12,
    "start_time": "2024-03-02T23:36:30.593Z"
   },
   {
    "duration": 60,
    "start_time": "2024-03-02T23:36:30.607Z"
   },
   {
    "duration": 27,
    "start_time": "2024-03-02T23:36:30.669Z"
   },
   {
    "duration": 215,
    "start_time": "2024-03-02T23:36:30.698Z"
   },
   {
    "duration": 33,
    "start_time": "2024-03-02T23:36:30.915Z"
   },
   {
    "duration": 94,
    "start_time": "2024-03-02T23:36:30.950Z"
   },
   {
    "duration": 139,
    "start_time": "2024-03-02T23:36:31.047Z"
   },
   {
    "duration": 319,
    "start_time": "2024-03-02T23:36:31.188Z"
   },
   {
    "duration": 107,
    "start_time": "2024-03-02T23:36:31.509Z"
   },
   {
    "duration": 249,
    "start_time": "2024-03-02T23:36:31.617Z"
   },
   {
    "duration": 463,
    "start_time": "2024-03-02T23:36:31.868Z"
   },
   {
    "duration": 106,
    "start_time": "2024-03-02T23:36:32.333Z"
   },
   {
    "duration": 638,
    "start_time": "2024-03-02T23:36:32.441Z"
   },
   {
    "duration": 504,
    "start_time": "2024-03-02T23:36:33.081Z"
   },
   {
    "duration": 3,
    "start_time": "2024-03-02T23:36:33.586Z"
   },
   {
    "duration": 203,
    "start_time": "2024-03-02T23:36:33.591Z"
   },
   {
    "duration": 18,
    "start_time": "2024-03-02T23:36:33.796Z"
   },
   {
    "duration": 18368,
    "start_time": "2024-03-02T23:36:33.815Z"
   },
   {
    "duration": 4,
    "start_time": "2024-03-02T23:36:52.185Z"
   },
   {
    "duration": 1111,
    "start_time": "2024-03-02T23:36:52.281Z"
   },
   {
    "duration": 5296265,
    "start_time": "2024-03-02T23:36:53.394Z"
   },
   {
    "duration": 24,
    "start_time": "2024-03-03T01:05:09.661Z"
   },
   {
    "duration": 9300009,
    "start_time": "2024-03-03T01:05:09.687Z"
   },
   {
    "duration": 19184,
    "start_time": "2024-03-03T03:40:09.698Z"
   },
   {
    "duration": 201,
    "start_time": "2024-03-03T03:40:28.883Z"
   },
   {
    "duration": 299713,
    "start_time": "2024-03-03T03:40:29.086Z"
   },
   {
    "duration": 6971,
    "start_time": "2024-03-03T03:45:28.801Z"
   },
   {
    "duration": 78915,
    "start_time": "2024-03-03T03:45:35.779Z"
   },
   {
    "duration": 10485,
    "start_time": "2024-03-03T03:46:54.696Z"
   },
   {
    "duration": 9,
    "start_time": "2024-03-03T03:47:05.183Z"
   },
   {
    "duration": 18982,
    "start_time": "2024-03-03T06:48:46.478Z"
   },
   {
    "duration": 210,
    "start_time": "2024-03-03T06:49:05.463Z"
   },
   {
    "duration": 10430,
    "start_time": "2024-03-03T06:49:05.674Z"
   },
   {
    "duration": 111,
    "start_time": "2024-03-03T06:49:16.106Z"
   },
   {
    "duration": 2670,
    "start_time": "2024-03-03T06:49:16.219Z"
   },
   {
    "duration": 104,
    "start_time": "2024-03-03T06:49:18.890Z"
   },
   {
    "duration": 7,
    "start_time": "2024-03-03T06:49:18.996Z"
   },
   {
    "duration": 19486,
    "start_time": "2024-03-03T06:49:19.011Z"
   },
   {
    "duration": 19224,
    "start_time": "2024-03-03T06:49:46.058Z"
   },
   {
    "duration": 200,
    "start_time": "2024-03-03T06:50:05.284Z"
   },
   {
    "duration": 156526,
    "start_time": "2024-03-03T06:50:05.487Z"
   },
   {
    "duration": 3611,
    "start_time": "2024-03-03T06:52:42.016Z"
   },
   {
    "duration": 69153,
    "start_time": "2024-03-03T06:52:45.629Z"
   },
   {
    "duration": 8441,
    "start_time": "2024-03-03T06:53:54.784Z"
   },
   {
    "duration": 7,
    "start_time": "2024-03-03T06:54:03.281Z"
   },
   {
    "duration": 54,
    "start_time": "2024-03-03T09:08:01.445Z"
   },
   {
    "duration": 1825,
    "start_time": "2024-03-03T09:08:12.294Z"
   },
   {
    "duration": 1294,
    "start_time": "2024-03-03T09:08:14.604Z"
   },
   {
    "duration": 20,
    "start_time": "2024-03-03T09:08:17.535Z"
   },
   {
    "duration": 47,
    "start_time": "2024-03-03T09:08:20.103Z"
   },
   {
    "duration": 305,
    "start_time": "2024-03-03T09:08:40.084Z"
   },
   {
    "duration": 4,
    "start_time": "2024-03-03T09:09:13.069Z"
   },
   {
    "duration": 89082,
    "start_time": "2024-03-03T09:09:19.338Z"
   },
   {
    "duration": 255,
    "start_time": "2024-03-03T09:20:40.963Z"
   },
   {
    "duration": 761,
    "start_time": "2024-03-03T09:21:23.495Z"
   },
   {
    "duration": 19,
    "start_time": "2024-03-03T09:27:26.105Z"
   },
   {
    "duration": 628,
    "start_time": "2024-03-03T09:31:17.873Z"
   },
   {
    "duration": 1663,
    "start_time": "2024-03-03T09:31:31.240Z"
   },
   {
    "duration": 629,
    "start_time": "2024-03-03T09:31:41.163Z"
   },
   {
    "duration": 78,
    "start_time": "2024-03-03T09:40:43.179Z"
   },
   {
    "duration": 1532,
    "start_time": "2024-03-03T09:41:07.175Z"
   },
   {
    "duration": 973,
    "start_time": "2024-03-03T09:41:08.709Z"
   },
   {
    "duration": 18,
    "start_time": "2024-03-03T09:41:09.684Z"
   },
   {
    "duration": 512,
    "start_time": "2024-03-03T09:41:09.704Z"
   },
   {
    "duration": 1158,
    "start_time": "2024-03-03T09:41:10.217Z"
   },
   {
    "duration": 49,
    "start_time": "2024-03-03T09:41:11.377Z"
   },
   {
    "duration": 81,
    "start_time": "2024-03-03T09:41:11.428Z"
   },
   {
    "duration": 85537,
    "start_time": "2024-03-03T09:41:11.523Z"
   },
   {
    "duration": 9,
    "start_time": "2024-03-03T09:42:37.062Z"
   },
   {
    "duration": 29,
    "start_time": "2024-03-03T09:42:37.074Z"
   },
   {
    "duration": 20,
    "start_time": "2024-03-03T09:42:37.105Z"
   },
   {
    "duration": 112,
    "start_time": "2024-03-03T09:42:37.127Z"
   },
   {
    "duration": 8,
    "start_time": "2024-03-03T09:42:37.241Z"
   },
   {
    "duration": 42,
    "start_time": "2024-03-03T09:42:37.251Z"
   },
   {
    "duration": 109,
    "start_time": "2024-03-03T09:42:37.295Z"
   },
   {
    "duration": 334,
    "start_time": "2024-03-03T09:42:37.406Z"
   },
   {
    "duration": 108,
    "start_time": "2024-03-03T09:42:37.742Z"
   },
   {
    "duration": 143,
    "start_time": "2024-03-03T09:42:37.852Z"
   },
   {
    "duration": 26,
    "start_time": "2024-03-03T09:42:37.997Z"
   },
   {
    "duration": 583,
    "start_time": "2024-03-03T09:42:38.025Z"
   },
   {
    "duration": 716,
    "start_time": "2024-03-03T09:42:38.609Z"
   },
   {
    "duration": 550,
    "start_time": "2024-03-03T09:42:39.327Z"
   },
   {
    "duration": 213,
    "start_time": "2024-03-03T09:42:39.879Z"
   },
   {
    "duration": 1078,
    "start_time": "2024-03-03T09:42:40.094Z"
   },
   {
    "duration": 184857,
    "start_time": "2024-03-03T09:42:41.174Z"
   },
   {
    "duration": 1181,
    "start_time": "2024-03-03T09:45:46.033Z"
   },
   {
    "duration": 37533,
    "start_time": "2024-03-03T09:45:47.216Z"
   },
   {
    "duration": 9,
    "start_time": "2024-03-03T09:46:24.752Z"
   },
   {
    "duration": 1549,
    "start_time": "2024-03-03T09:54:58.215Z"
   },
   {
    "duration": 1006,
    "start_time": "2024-03-03T09:54:59.766Z"
   },
   {
    "duration": 18,
    "start_time": "2024-03-03T09:55:00.774Z"
   },
   {
    "duration": 562,
    "start_time": "2024-03-03T09:55:00.793Z"
   },
   {
    "duration": 1157,
    "start_time": "2024-03-03T09:55:01.357Z"
   },
   {
    "duration": 35,
    "start_time": "2024-03-03T09:55:02.515Z"
   },
   {
    "duration": 168,
    "start_time": "2024-03-03T09:55:02.552Z"
   },
   {
    "duration": 84512,
    "start_time": "2024-03-03T09:55:02.722Z"
   },
   {
    "duration": 8,
    "start_time": "2024-03-03T09:56:27.236Z"
   },
   {
    "duration": 24,
    "start_time": "2024-03-03T09:56:27.246Z"
   },
   {
    "duration": 8,
    "start_time": "2024-03-03T09:56:27.271Z"
   },
   {
    "duration": 127,
    "start_time": "2024-03-03T09:56:27.280Z"
   },
   {
    "duration": 6,
    "start_time": "2024-03-03T09:56:27.408Z"
   },
   {
    "duration": 29,
    "start_time": "2024-03-03T09:56:27.423Z"
   },
   {
    "duration": 120,
    "start_time": "2024-03-03T09:56:27.453Z"
   },
   {
    "duration": 310,
    "start_time": "2024-03-03T09:56:27.575Z"
   },
   {
    "duration": 109,
    "start_time": "2024-03-03T09:56:27.886Z"
   },
   {
    "duration": 136,
    "start_time": "2024-03-03T09:56:27.997Z"
   },
   {
    "duration": 19,
    "start_time": "2024-03-03T09:56:28.135Z"
   },
   {
    "duration": 594,
    "start_time": "2024-03-03T09:56:28.155Z"
   },
   {
    "duration": 821,
    "start_time": "2024-03-03T09:56:28.751Z"
   },
   {
    "duration": 527,
    "start_time": "2024-03-03T09:56:29.574Z"
   },
   {
    "duration": 220,
    "start_time": "2024-03-03T09:56:30.103Z"
   },
   {
    "duration": 1085,
    "start_time": "2024-03-03T09:56:30.325Z"
   },
   {
    "duration": 189118,
    "start_time": "2024-03-03T09:56:31.411Z"
   },
   {
    "duration": 1175,
    "start_time": "2024-03-03T09:59:40.530Z"
   },
   {
    "duration": 4,
    "start_time": "2024-03-03T09:59:41.708Z"
   },
   {
    "duration": 69,
    "start_time": "2024-03-03T09:59:41.724Z"
   },
   {
    "duration": 9,
    "start_time": "2024-03-03T09:59:41.795Z"
   },
   {
    "duration": 7,
    "start_time": "2024-03-03T09:59:41.822Z"
   },
   {
    "duration": 20600,
    "start_time": "2024-03-03T09:59:41.831Z"
   },
   {
    "duration": 293,
    "start_time": "2024-03-03T10:00:02.433Z"
   },
   {
    "duration": 155854,
    "start_time": "2024-03-03T10:00:02.729Z"
   },
   {
    "duration": 75,
    "start_time": "2024-03-03T10:02:38.585Z"
   },
   {
    "duration": 59764,
    "start_time": "2024-03-03T10:02:38.662Z"
   },
   {
    "duration": 8597,
    "start_time": "2024-03-03T10:03:38.427Z"
   },
   {
    "duration": 13,
    "start_time": "2024-03-03T10:03:47.026Z"
   },
   {
    "duration": 0,
    "start_time": "2024-03-03T10:03:47.040Z"
   },
   {
    "duration": 0,
    "start_time": "2024-03-03T10:03:47.041Z"
   },
   {
    "duration": 4,
    "start_time": "2024-03-03T10:03:57.177Z"
   },
   {
    "duration": 19767,
    "start_time": "2024-03-03T10:04:08.964Z"
   },
   {
    "duration": 490,
    "start_time": "2024-03-03T10:04:28.733Z"
   },
   {
    "duration": 1617,
    "start_time": "2024-03-03T10:05:24.881Z"
   },
   {
    "duration": 986,
    "start_time": "2024-03-03T10:05:26.500Z"
   },
   {
    "duration": 19,
    "start_time": "2024-03-03T10:05:27.488Z"
   },
   {
    "duration": 549,
    "start_time": "2024-03-03T10:05:27.509Z"
   },
   {
    "duration": 1101,
    "start_time": "2024-03-03T10:05:28.062Z"
   },
   {
    "duration": 49,
    "start_time": "2024-03-03T10:05:29.165Z"
   },
   {
    "duration": 83,
    "start_time": "2024-03-03T10:05:29.215Z"
   },
   {
    "duration": 1527,
    "start_time": "2024-03-03T10:05:39.161Z"
   },
   {
    "duration": 985,
    "start_time": "2024-03-03T10:05:40.691Z"
   },
   {
    "duration": 17,
    "start_time": "2024-03-03T10:05:41.678Z"
   },
   {
    "duration": 566,
    "start_time": "2024-03-03T10:05:41.697Z"
   },
   {
    "duration": 1147,
    "start_time": "2024-03-03T10:05:42.265Z"
   },
   {
    "duration": 38,
    "start_time": "2024-03-03T10:05:43.414Z"
   },
   {
    "duration": 101,
    "start_time": "2024-03-03T10:05:43.455Z"
   },
   {
    "duration": 84799,
    "start_time": "2024-03-03T10:05:43.558Z"
   },
   {
    "duration": 8,
    "start_time": "2024-03-03T10:07:08.359Z"
   },
   {
    "duration": 50,
    "start_time": "2024-03-03T10:07:08.369Z"
   },
   {
    "duration": 15,
    "start_time": "2024-03-03T10:07:08.420Z"
   },
   {
    "duration": 110,
    "start_time": "2024-03-03T10:07:08.436Z"
   },
   {
    "duration": 6,
    "start_time": "2024-03-03T10:07:08.548Z"
   },
   {
    "duration": 52,
    "start_time": "2024-03-03T10:07:08.556Z"
   },
   {
    "duration": 102,
    "start_time": "2024-03-03T10:07:08.610Z"
   },
   {
    "duration": 297,
    "start_time": "2024-03-03T10:07:08.714Z"
   },
   {
    "duration": 115,
    "start_time": "2024-03-03T10:07:09.013Z"
   },
   {
    "duration": 118,
    "start_time": "2024-03-03T10:07:09.129Z"
   },
   {
    "duration": 19,
    "start_time": "2024-03-03T10:07:09.248Z"
   },
   {
    "duration": 625,
    "start_time": "2024-03-03T10:07:09.269Z"
   },
   {
    "duration": 770,
    "start_time": "2024-03-03T10:07:09.895Z"
   },
   {
    "duration": 514,
    "start_time": "2024-03-03T10:07:10.666Z"
   },
   {
    "duration": 222,
    "start_time": "2024-03-03T10:07:11.182Z"
   },
   {
    "duration": 1066,
    "start_time": "2024-03-03T10:07:11.407Z"
   },
   {
    "duration": 199751,
    "start_time": "2024-03-03T10:07:12.474Z"
   },
   {
    "duration": 1200,
    "start_time": "2024-03-03T10:10:32.227Z"
   },
   {
    "duration": 4,
    "start_time": "2024-03-03T10:10:33.429Z"
   },
   {
    "duration": 102,
    "start_time": "2024-03-03T10:10:33.439Z"
   },
   {
    "duration": 7,
    "start_time": "2024-03-03T10:10:33.543Z"
   },
   {
    "duration": 9,
    "start_time": "2024-03-03T10:10:33.552Z"
   },
   {
    "duration": 22460,
    "start_time": "2024-03-03T10:10:33.563Z"
   },
   {
    "duration": 403,
    "start_time": "2024-03-03T10:10:56.025Z"
   },
   {
    "duration": 176692,
    "start_time": "2024-03-03T10:10:56.430Z"
   },
   {
    "duration": 8710,
    "start_time": "2024-03-03T10:13:53.123Z"
   }
  ],
  "kernelspec": {
   "display_name": "Python 3 (ipykernel)",
   "language": "python",
   "name": "python3"
  },
  "language_info": {
   "codemirror_mode": {
    "name": "ipython",
    "version": 3
   },
   "file_extension": ".py",
   "mimetype": "text/x-python",
   "name": "python",
   "nbconvert_exporter": "python",
   "pygments_lexer": "ipython3",
   "version": "3.9.5"
  },
  "toc": {
   "base_numbering": 1,
   "nav_menu": {},
   "number_sections": true,
   "sideBar": true,
   "skip_h1_title": true,
   "title_cell": "Table of Contents",
   "title_sidebar": "Contents",
   "toc_cell": false,
   "toc_position": {},
   "toc_section_display": true,
   "toc_window_display": false
  }
 },
 "nbformat": 4,
 "nbformat_minor": 2
}
